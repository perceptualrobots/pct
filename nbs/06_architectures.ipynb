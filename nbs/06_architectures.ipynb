{
 "cells": [
  {
   "cell_type": "code",
   "execution_count": null,
   "metadata": {},
   "outputs": [
    {
     "name": "stdout",
     "output_type": "stream",
     "text": [
      "Cells will be exported to pct.configurations,\n",
      "unless a different module is specified after an export flag: `%nbdev_export special.module`\n"
     ]
    }
   ],
   "source": [
    "from nbdev import *\n",
    "%nbdev_default_export configurations"
   ]
  },
  {
   "cell_type": "markdown",
   "metadata": {},
   "source": [
    "# Architectures\n",
    "\n",
    "> Classes to create hierachy architectures from array configurations."
   ]
  },
  {
   "cell_type": "code",
   "execution_count": null,
   "metadata": {},
   "outputs": [],
   "source": [
    "%nbdev_hide\n",
    "import sys\n",
    "sys.path.append(\"..\")"
   ]
  },
  {
   "cell_type": "code",
   "execution_count": null,
   "metadata": {},
   "outputs": [],
   "source": [
    "%nbdev_export\n",
    "import gym\n",
    "import random\n",
    "import os\n",
    "from abc import ABC, abstractmethod\n",
    "from pct.hierarchy import PCTHierarchy"
   ]
  },
  {
   "cell_type": "code",
   "execution_count": null,
   "metadata": {},
   "outputs": [],
   "source": [
    "%nbdev_export\n",
    "class BaseArchitecture(ABC):\n",
    "    \"Base class of an array architecture. This class is not used direclty by developers, but defines the functionality common to all.\"\n",
    "    def __init__(self, name, config, inputs):\n",
    "        self.config = config        \n",
    "        self.inputs=inputs\n",
    "        self.hpct = PCTHierarchy()\n",
    "        \n",
    "    def __call__(self):\n",
    "        level0config = self.config['level0']\n",
    "        print(level0config)\n",
    "        level0=self.configure_zerothlevel()\n",
    "   \n",
    "        \n",
    " "
   ]
  },
  {
   "cell_type": "code",
   "execution_count": null,
   "metadata": {},
   "outputs": [],
   "source": [
    "%nbdev_export\n",
    "class ProportionalArchitecture(BaseArchitecture):\n",
    "    \"Proportional Architecture\"\n",
    "    def __init__(self, name=\"proportional\", config=None, env=None, inputs=None, **cargs):\n",
    "        super().__init__(name, config, inputs)\n",
    "  \n",
    "\n",
    "\n",
    "    def configure_zerothlevel(self):\n",
    "        inputsIndex=0\n",
    "        outputsIndex=1\n",
    "        actionsIndex=2\n",
    "\n",
    "        level=0\n",
    "        numInputs= len(self.inputs)\n",
    "        columns = len(self.config[inputsIndex][0])\n",
    "        #print(config[0][0])\n",
    "        #print(columns)\n",
    "\n",
    "        # create nodes\n",
    "        for column in range(columns):\n",
    "            node = PCTNode(build_links=True, mode=1)\n",
    "            # change names\n",
    "            node.get_function(\"perception\").set_name(f'wsPL{level}C{column}')\n",
    "            node.get_function(\"reference\").set_name(f'wsRL{level}C{column}')\n",
    "            node.get_function(\"comparator\").set_name(f'CL{level}C{column}')\n",
    "            node.get_function(\"output\").set_name(f'pOL{level}C{column}')\n",
    "\n",
    "            weights=[]\n",
    "            # configure perceptions        \n",
    "            for inputIndex in range(numInputs):\n",
    "                node.get_function(\"perception\").add_link(inputs[inputIndex])\n",
    "                weights.append(config[inputsIndex][inputIndex][column])           \n",
    "            node.get_function(\"perception\").weights=np.array(weights)\n",
    "\n",
    "            # configure outputs\n",
    "            node.get_function(\"output\").set_property('gain', config[outputsIndex][column])        \n",
    "\n",
    "            hierarchy.add_node(node, level, column)\n",
    "\n",
    "        # configure actions\n",
    "        numActions = len(config[actionsIndex])\n",
    "        numColumnsThisLevel = len(config[outputsIndex])\n",
    "        for actionIndex in range(numActions):\n",
    "            action = WeightedSum(weights=config[actionsIndex][actionIndex], name=f'action{actionIndex+1}')\n",
    "            for column in range(numColumnsThisLevel):\n",
    "                action.add_link(f'pOL{level}C{column}')\n",
    "            hierarchy.add_postprocessor(action)\n",
    "            self.env.add_link(action)\n",
    "\n",
    "    def level0config(self):\n",
    "        numColumnsThisLevel = self.grid[0]\n",
    "        num_inputs = len(self.inputs)\n",
    "        num_actions = len(self.actions)\n",
    "        \n",
    "        # inputs\n",
    "        iwts=[]\n",
    "        for i in range(num_inputs):\n",
    "            iwt = [random.randint(0, 1) for iter in range(numColumnsThisLevel)] \n",
    "            iwts.append(iwt)\n",
    "\n",
    "        # outputs\n",
    "        owts=[]\n",
    "        for i in range(numColumnsThisLevel):\n",
    "            owts.append(random.uniform(0,100))\n",
    "\n",
    "        # actions\n",
    "        actwts = []\n",
    "        for i in range(num_actions):\n",
    "            awt = [random.randint(0, 1) for iter in range(numColumnsThisLevel)] \n",
    "            actwts.append(awt)\n",
    "\n",
    "        lwts=[]\n",
    "        lwts.append(iwts)\n",
    "        lwts.append(owts)\n",
    "        lwts.append(actwts)\n",
    "\n",
    "        return lwts\n",
    "\n",
    "    def levelnconfig(self, numColumnsThisLevel, numColumnsPreviousLevel):\n",
    "        print(numColumnsThisLevel,    numColumnsPreviousLevel)\n",
    "        # inputs\n",
    "        iwts=[]\n",
    "        for i in range(numColumnsThisLevel):\n",
    "            iwt = [random.randint(0, 1) for iter in range(numColumnsPreviousLevel)] \n",
    "            iwts.append(iwt)\n",
    "\n",
    "        # outputs\n",
    "        owts=[]\n",
    "        for i in range(numColumnsThisLevel):\n",
    "            owts.append(random.uniform(0,1))\n",
    "\n",
    "\n",
    "        # lower refs\n",
    "        rwts = []\n",
    "        for i in range(numColumnsPreviousLevel):\n",
    "            rwt = [random.uniform(-100, 100) for iter in range(numColumnsThisLevel)] \n",
    "            rwts.append(rwt)\n",
    "\n",
    "        lwts=[]\n",
    "        lwts.append(iwts)\n",
    "        lwts.append(owts)\n",
    "        lwts.append(rwts)\n",
    "\n",
    "        return lwts\n",
    "    \n",
    "    \n",
    "    def leveltopconfig(self, top_references, numColumnsPreviousLevel):\n",
    "\n",
    "        numColumnsThisLevel=len(top_references)\n",
    "        # inputs\n",
    "        iwts=[]\n",
    "        for i in range(numColumnsThisLevel):\n",
    "            iwt = [random.randint(0, 1) for iter in range(numColumnsPreviousLevel)] \n",
    "            iwts.append(iwt)\n",
    "\n",
    "        # outputs\n",
    "        owts=[]\n",
    "        for i in range(numColumnsThisLevel):\n",
    "            owts.append(random.uniform(0,1))\n",
    "\n",
    "\n",
    "        # lower refs\n",
    "        rwts = []\n",
    "        for i in range(numColumnsPreviousLevel):\n",
    "            rwt = [random.uniform(-100, 100) for iter in range(numColumnsThisLevel)] \n",
    "            rwts.append(rwt)\n",
    "\n",
    "        lwts=[]\n",
    "        lwts.append(iwts)\n",
    "        lwts.append(owts)\n",
    "        lwts.append(rwts)\n",
    "        lwts.append(top_references)\n",
    "\n",
    "        return lwts\n",
    "\n"
   ]
  },
  {
   "cell_type": "code",
   "execution_count": null,
   "metadata": {},
   "outputs": [],
   "source": [
    "# move to epct\n",
    "from epct.configs import ProportionalConfiguration\n",
    "from pct.environments import PendulumV0"
   ]
  },
  {
   "cell_type": "code",
   "execution_count": null,
   "metadata": {},
   "outputs": [
    {
     "name": "stdout",
     "output_type": "stream",
     "text": [
      "2 2\n",
      "[[[0, 0], [1, 1]], [10.066259538916434, 5.611669389189277], [[1, 1]]]\n"
     ]
    },
    {
     "ename": "KeyError",
     "evalue": "0",
     "output_type": "error",
     "traceback": [
      "\u001b[0;31m---------------------------------------------------------------------------\u001b[0m",
      "\u001b[0;31mKeyError\u001b[0m                                  Traceback (most recent call last)",
      "\u001b[0;32m<ipython-input-60-553a9ad7d813>\u001b[0m in \u001b[0;36m<module>\u001b[0;34m\u001b[0m\n\u001b[1;32m      6\u001b[0m \u001b[0mconfig\u001b[0m \u001b[0;34m=\u001b[0m \u001b[0mpc\u001b[0m\u001b[0;34m(\u001b[0m\u001b[0;34m)\u001b[0m\u001b[0;34m\u001b[0m\u001b[0;34m\u001b[0m\u001b[0m\n\u001b[1;32m      7\u001b[0m \u001b[0mpa\u001b[0m \u001b[0;34m=\u001b[0m \u001b[0mProportionalArchitecture\u001b[0m\u001b[0;34m(\u001b[0m\u001b[0mconfig\u001b[0m\u001b[0;34m=\u001b[0m\u001b[0mconfig\u001b[0m\u001b[0;34m,\u001b[0m \u001b[0menv\u001b[0m\u001b[0;34m=\u001b[0m\u001b[0mpen\u001b[0m\u001b[0;34m,\u001b[0m \u001b[0minputs\u001b[0m\u001b[0;34m=\u001b[0m\u001b[0minputs\u001b[0m\u001b[0;34m)\u001b[0m\u001b[0;34m\u001b[0m\u001b[0;34m\u001b[0m\u001b[0m\n\u001b[0;32m----> 8\u001b[0;31m \u001b[0mpa\u001b[0m\u001b[0;34m(\u001b[0m\u001b[0;34m)\u001b[0m\u001b[0;34m\u001b[0m\u001b[0;34m\u001b[0m\u001b[0m\n\u001b[0m",
      "\u001b[0;32m<ipython-input-57-09c1aacd8636>\u001b[0m in \u001b[0;36m__call__\u001b[0;34m(self)\u001b[0m\n\u001b[1;32m     10\u001b[0m         \u001b[0mlevel0config\u001b[0m \u001b[0;34m=\u001b[0m \u001b[0mself\u001b[0m\u001b[0;34m.\u001b[0m\u001b[0mconfig\u001b[0m\u001b[0;34m[\u001b[0m\u001b[0;34m'level0'\u001b[0m\u001b[0;34m]\u001b[0m\u001b[0;34m\u001b[0m\u001b[0;34m\u001b[0m\u001b[0m\n\u001b[1;32m     11\u001b[0m         \u001b[0mprint\u001b[0m\u001b[0;34m(\u001b[0m\u001b[0mlevel0config\u001b[0m\u001b[0;34m)\u001b[0m\u001b[0;34m\u001b[0m\u001b[0;34m\u001b[0m\u001b[0m\n\u001b[0;32m---> 12\u001b[0;31m         \u001b[0mlevel0\u001b[0m\u001b[0;34m=\u001b[0m\u001b[0mself\u001b[0m\u001b[0;34m.\u001b[0m\u001b[0mconfigure_zerothlevel\u001b[0m\u001b[0;34m(\u001b[0m\u001b[0;34m)\u001b[0m\u001b[0;34m\u001b[0m\u001b[0;34m\u001b[0m\u001b[0m\n\u001b[0m\u001b[1;32m     13\u001b[0m \u001b[0;34m\u001b[0m\u001b[0m\n\u001b[1;32m     14\u001b[0m \u001b[0;34m\u001b[0m\u001b[0m\n",
      "\u001b[0;32m<ipython-input-58-0601f63f0e11>\u001b[0m in \u001b[0;36mconfigure_zerothlevel\u001b[0;34m(self)\u001b[0m\n\u001b[1;32m     14\u001b[0m         \u001b[0mlevel\u001b[0m\u001b[0;34m=\u001b[0m\u001b[0;36m0\u001b[0m\u001b[0;34m\u001b[0m\u001b[0;34m\u001b[0m\u001b[0m\n\u001b[1;32m     15\u001b[0m         \u001b[0mnumInputs\u001b[0m\u001b[0;34m=\u001b[0m \u001b[0mlen\u001b[0m\u001b[0;34m(\u001b[0m\u001b[0mself\u001b[0m\u001b[0;34m.\u001b[0m\u001b[0minputs\u001b[0m\u001b[0;34m)\u001b[0m\u001b[0;34m\u001b[0m\u001b[0;34m\u001b[0m\u001b[0m\n\u001b[0;32m---> 16\u001b[0;31m         \u001b[0mcolumns\u001b[0m \u001b[0;34m=\u001b[0m \u001b[0mlen\u001b[0m\u001b[0;34m(\u001b[0m\u001b[0mself\u001b[0m\u001b[0;34m.\u001b[0m\u001b[0mconfig\u001b[0m\u001b[0;34m[\u001b[0m\u001b[0minputsIndex\u001b[0m\u001b[0;34m]\u001b[0m\u001b[0;34m[\u001b[0m\u001b[0;36m0\u001b[0m\u001b[0;34m]\u001b[0m\u001b[0;34m)\u001b[0m\u001b[0;34m\u001b[0m\u001b[0;34m\u001b[0m\u001b[0m\n\u001b[0m\u001b[1;32m     17\u001b[0m         \u001b[0;31m#print(config[0][0])\u001b[0m\u001b[0;34m\u001b[0m\u001b[0;34m\u001b[0m\u001b[0;34m\u001b[0m\u001b[0m\n\u001b[1;32m     18\u001b[0m         \u001b[0;31m#print(columns)\u001b[0m\u001b[0;34m\u001b[0m\u001b[0;34m\u001b[0m\u001b[0;34m\u001b[0m\u001b[0m\n",
      "\u001b[0;31mKeyError\u001b[0m: 0"
     ]
    }
   ],
   "source": [
    "pen = PendulumV0(render=True, verbose=True)\n",
    "inputs=[2, 3]\n",
    "num_actions=1\n",
    "\n",
    "pc = ProportionalConfiguration(num_inputs=len(inputs), num_actions=num_actions, grid=[2, 2], references=[1])\n",
    "config = pc()\n",
    "pa = ProportionalArchitecture(config=config, env=pen, inputs=inputs)\n",
    "pa()"
   ]
  },
  {
   "cell_type": "code",
   "execution_count": null,
   "metadata": {},
   "outputs": [],
   "source": [
    "pen.close()"
   ]
  },
  {
   "cell_type": "code",
   "execution_count": null,
   "metadata": {},
   "outputs": [],
   "source": [
    "notebook2script()"
   ]
  }
 ],
 "metadata": {
  "kernelspec": {
   "display_name": "Python 3",
   "language": "python",
   "name": "python3"
  }
 },
 "nbformat": 4,
 "nbformat_minor": 4
}
