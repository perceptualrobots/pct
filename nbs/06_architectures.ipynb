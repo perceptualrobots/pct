{
 "cells": [
  {
   "cell_type": "code",
   "execution_count": null,
   "metadata": {},
   "outputs": [
    {
     "name": "stdout",
     "output_type": "stream",
     "text": [
      "Cells will be exported to pct.architectures,\n",
      "unless a different module is specified after an export flag: `%nbdev_export special.module`\n"
     ]
    }
   ],
   "source": [
    "from nbdev import *\n",
    "%nbdev_default_export architectures"
   ]
  },
  {
   "cell_type": "markdown",
   "metadata": {},
   "source": [
    "# Architectures\n",
    "\n",
    "> Classes to create hierachy architectures from array configurations."
   ]
  },
  {
   "cell_type": "code",
   "execution_count": null,
   "metadata": {},
   "outputs": [],
   "source": [
    "%nbdev_hide\n",
    "import sys\n",
    "sys.path.append(\"..\")"
   ]
  },
  {
   "cell_type": "code",
   "execution_count": null,
   "metadata": {},
   "outputs": [],
   "source": [
    "%nbdev_export\n",
    "import gym\n",
    "import random\n",
    "import numpy as np\n",
    "\n",
    "import json\n",
    "import os\n",
    "from abc import ABC, abstractmethod\n",
    "from pct.hierarchy import PCTHierarchy\n",
    "from pct.nodes import PCTNode\n",
    "from pct.functions import WeightedSum"
   ]
  },
  {
   "cell_type": "code",
   "execution_count": null,
   "metadata": {},
   "outputs": [],
   "source": [
    "%nbdev_export\n",
    "class BaseArchitecture(ABC):\n",
    "    \"Base class of an array architecture. This class is not used direclty by developers, but defines the functionality common to all.\"\n",
    "    def __init__(self, name, config, env, inputs):\n",
    "        self.config = config      \n",
    "        self.env = env\n",
    "        self.inputs=inputs\n",
    "        self.hpct = PCTHierarchy()\n",
    "        self.hpct.add_preprocessor(env)\n",
    "        \n",
    "        for input in inputs:\n",
    "            self.hpct.add_preprocessor(input)\n",
    "        \n",
    "    def __call__(self):\n",
    "        level0config = self.config['level0']\n",
    "        print('level0config',level0config)\n",
    "        previous_columns=self.configure_zerothlevel()\n",
    "        \n",
    "        print('previous_columns',previous_columns)\n",
    "        intermediate_levels = len(self.config)-2\n",
    "        level=-1\n",
    "        for level in range(intermediate_levels):\n",
    "            print('level', level+1)\n",
    "            leveln = self.config[f'level{level+1}']\n",
    "            levelcolumns = self.configure_level(leveln, previous_columns, level+1)\n",
    "            previous_columns=levelcolumns\n",
    "        \n",
    "        level+=1\n",
    "        print('level', level+1)\n",
    "        self.configure_top_level(self.config[f'level{level+1}'], level+1)\n",
    "        \n",
    "    def get_hierarchy(self):\n",
    "        return self.hpct\n",
    " "
   ]
  },
  {
   "cell_type": "code",
   "execution_count": null,
   "metadata": {},
   "outputs": [],
   "source": [
    "%nbdev_export\n",
    "class ProportionalArchitecture(BaseArchitecture):\n",
    "    \"Proportional Architecture\"\n",
    "    def __init__(self, name=\"proportional\", config=None, env=None, input_indexes=None, **cargs):\n",
    "        inputs=[]\n",
    "        for ctr in range(len(input_indexes)):\n",
    "            ip = IndexedParameter(index=input_indexes[ctr], name=f'Input{ctr}', links=[env])\n",
    "            inputs.append(ip)\n",
    "        \n",
    "        super().__init__(name, config, env, inputs)\n",
    "\n",
    "    def configure_zerothlevel(self):\n",
    "        inputsIndex=0\n",
    "        outputsIndex=1\n",
    "        actionsIndex=2\n",
    "\n",
    "        config=self.config['level0']\n",
    "        level=0\n",
    "        numInputs= len(self.inputs)\n",
    "        columns = len(config[inputsIndex][0])\n",
    "        #print(config[0][0])\n",
    "        #print(columns)\n",
    "\n",
    "        # create nodes\n",
    "        for column in range(columns):\n",
    "            node = PCTNode(build_links=True, mode=1, name=f'nodeL{level}C{column}')\n",
    "            # change names\n",
    "            node.get_function(\"perception\").set_name(f'PL{level}C{column}ws')\n",
    "            node.get_function(\"reference\").set_name(f'RL{level}C{column}ws')\n",
    "            node.get_function(\"comparator\").set_name(f'CL{level}C{column}')\n",
    "            node.get_function(\"output\").set_name(f'OL{level}C{column}p')\n",
    "\n",
    "            weights=[]\n",
    "            # configure perceptions\n",
    "            for inputIndex in range(numInputs):\n",
    "                node.get_function(\"perception\").add_link(self.inputs[inputIndex])\n",
    "                weights.append(config[inputsIndex][inputIndex][column])\n",
    "            node.get_function(\"perception\").weights=np.array(weights)\n",
    "\n",
    "            # configure outputs\n",
    "            node.get_function(\"output\").set_property('gain', config[outputsIndex][column])\n",
    "\n",
    "            self.hpct.add_node(node, level, column)\n",
    "\n",
    "        # configure actions\n",
    "        numActions = len(config[actionsIndex])\n",
    "        numColumnsThisLevel = len(config[outputsIndex])\n",
    "        for actionIndex in range(numActions):\n",
    "            action = WeightedSum(weights=config[actionsIndex][actionIndex], name=f'action{actionIndex+1}')\n",
    "            for column in range(numColumnsThisLevel):\n",
    "                action.add_link(f'OL{level}C{column}p')\n",
    "            self.hpct.add_postprocessor(action)\n",
    "            self.env.add_link(action)\n",
    "\n",
    "        return numColumnsThisLevel\n",
    "\n",
    "    def configure_level(self, config, numColumnsPreviousLevel, level):\n",
    "        inputsIndex=0\n",
    "        outputsIndex=1\n",
    "        referencesIndex=2\n",
    "        \n",
    "        #numColumnsPreviousLevel=len(config[referencesIndex])\n",
    "        numColumnsThisLevel = len(config[outputsIndex])\n",
    "        print(f'level{level}',config)\n",
    "        print('numColumnsPreviousLevel',numColumnsPreviousLevel)\n",
    "        print('numColumnsThisLevel',numColumnsThisLevel)\n",
    "    \n",
    "        # create nodes\n",
    "        for column in range(numColumnsThisLevel):\n",
    "            node = PCTNode(build_links=True, mode=1, name=f'nodeL{level}C{column}')\n",
    "            # change names\n",
    "            node.get_function(\"perception\").set_name(f'PL{level}C{column}ws')\n",
    "            node.get_function(\"reference\").set_name(f'RL{level}C{column}ws')\n",
    "            node.get_function(\"comparator\").set_name(f'CL{level}C{column}')\n",
    "            node.get_function(\"output\").set_name(f'OL{level}C{column}p')\n",
    "            \n",
    "            weights=[]\n",
    "            # configure perceptions        \n",
    "            for inputIndex in range(numColumnsPreviousLevel):\n",
    "                node.get_function(\"perception\").add_link(f'PL{level-1}C{inputIndex}ws')\n",
    "                weights.append(config[inputsIndex][column][inputIndex])           \n",
    "    \n",
    "            node.get_function(\"perception\").weights=np.array(weights)\n",
    "            \n",
    "            # configure outputs\n",
    "            node.get_function(\"output\").set_property('gain', config[outputsIndex][column])        \n",
    "                \n",
    "            self.hpct.add_node(node, level, column)\n",
    "    \n",
    "        # configure lower references\n",
    "        for referenceIndex in range(numColumnsPreviousLevel):\n",
    "            reference = self.hpct.get_function(level-1, referenceIndex, \"reference\")\n",
    "            weights=[]\n",
    "            \n",
    "            for output_column in range(numColumnsThisLevel):\n",
    "                reference.add_link(f'OL{level}C{output_column}p')\n",
    "                weights.append(config[referencesIndex][referenceIndex][output_column])           \n",
    "                \n",
    "            reference.weights=np.array(weights)\n",
    "    \n",
    "        return numColumnsThisLevel\n",
    "\n",
    "    def configure_top_level(self, config, level):\n",
    "        inputsIndex=0\n",
    "        outputsIndex=1\n",
    "        lowerReferencesIndex=2\n",
    "        topReferencesIndex=3\n",
    "    \n",
    "        numColumnsThisLevel = len(config[topReferencesIndex])\n",
    "        numColumnsPreviousLevel=len(config[lowerReferencesIndex])\n",
    "        \n",
    "        # create nodes\n",
    "        for column in range(numColumnsThisLevel):\n",
    "            node = PCTNode(build_links=True, mode=2, name=f'nodeL{level}C{column}')\n",
    "            # change names\n",
    "            reference = Constant(config[topReferencesIndex][column], name=f'RL{level}C{column}c')\n",
    "            node.replace_function(\"reference\", reference, 0)\n",
    "            node.get_function(\"perception\").set_name(f'PL{level}C{column}ws')\n",
    "            #node.get_function(\"reference\").set_name(f'RL{level}C{column}ws')\n",
    "            node.get_function(\"comparator\").set_name(f'CL{level}C{column}')\n",
    "            node.get_function(\"output\").set_name(f'OL{level}C{column}p')\n",
    "            node.get_function(\"comparator\").set_link(reference)\n",
    "            node.get_function(\"comparator\").add_link(node.get_function(\"perception\"))\n",
    "            \n",
    "            # set reference value\n",
    "            #node.get_function(\"reference\").set_property('value', config[topReferencesIndex][column])\n",
    "            \n",
    "            \n",
    "            weights=[]\n",
    "            # configure perceptions        \n",
    "            for inputIndex in range(numColumnsPreviousLevel):\n",
    "                node.get_function(\"perception\").add_link(f'PL{level-1}C{inputIndex}ws')\n",
    "                weights.append(config[inputsIndex][column][inputIndex])           \n",
    "                #weights.append(config[inputsIndex][inputIndex][column])           \n",
    "            node.get_function(\"perception\").weights=np.array(weights)\n",
    "            \n",
    "            # configure outputs\n",
    "            node.get_function(\"output\").set_property('gain', config[outputsIndex][column])        \n",
    "                \n",
    "            self.hpct.add_node(node, level, column)\n",
    "    \n",
    "        # configure lower references\n",
    "        for referenceIndex in range(numColumnsPreviousLevel):\n",
    "            reference = self.hpct.get_function(level-1, referenceIndex, \"reference\")\n",
    "            weights=[]\n",
    "            \n",
    "            for output_column in range(numColumnsThisLevel):\n",
    "                reference.add_link(f'OL{level}C{output_column}p')\n",
    "                weights.append(config[lowerReferencesIndex][referenceIndex][output_column])           \n",
    "                \n",
    "            reference.weights=np.array(weights)\n",
    "\n",
    " \n"
   ]
  },
  {
   "cell_type": "code",
   "execution_count": null,
   "metadata": {},
   "outputs": [],
   "source": [
    "# move to epct\n",
    "from epct.configs import ProportionalConfiguration\n",
    "from pct.environments import PendulumV0"
   ]
  },
  {
   "cell_type": "code",
   "execution_count": null,
   "metadata": {},
   "outputs": [
    {
     "data": {
      "text/plain": [
       "'\\npen = PendulumV0(render=True, verbose=True)\\ninputs=[2, 3]\\nnum_actions=1\\n\\npc = ProportionalConfiguration(num_inputs=len(inputs), num_actions=num_actions, grid=[2, 2], references=[1])\\nconfig = pc()\\npa = ProportionalArchitecture(config=config, env=pen, inputs=inputs)\\npa()\\n\\nhpct = pa.get_hierarchy()\\nhpct.summary()\\nprint(json.dumps(hpct.get_config(), indent=1))\\n'"
      ]
     },
     "execution_count": null,
     "metadata": {},
     "output_type": "execute_result"
    }
   ],
   "source": [
    "\"\"\"\n",
    "pen = PendulumV0(render=True, verbose=True)\n",
    "inputs=[2, 3]\n",
    "num_actions=1\n",
    "\n",
    "pc = ProportionalConfiguration(num_inputs=len(inputs), num_actions=num_actions, grid=[2, 2], references=[1])\n",
    "config = pc()\n",
    "pa = ProportionalArchitecture(config=config, env=pen, inputs=inputs)\n",
    "pa()\n",
    "\n",
    "hpct = pa.get_hierarchy()\n",
    "hpct.summary()\n",
    "print(json.dumps(hpct.get_config(), indent=1))\n",
    "\"\"\"\n"
   ]
  },
  {
   "cell_type": "code",
   "execution_count": null,
   "metadata": {},
   "outputs": [],
   "source": [
    "#pen.close()"
   ]
  },
  {
   "cell_type": "code",
   "execution_count": null,
   "metadata": {},
   "outputs": [
    {
     "name": "stdout",
     "output_type": "stream",
     "text": [
      "Converted 00_examples.ipynb.\n",
      "Converted 01_putils.ipynb.\n",
      "Converted 02_functions.ipynb.\n",
      "Converted 03_nodes.ipynb.\n",
      "Converted 04_hierarchy.ipynb.\n",
      "Converted 05_environments.ipynb.\n",
      "Converted 06_architectures.ipynb.\n",
      "Converted index.ipynb.\n"
     ]
    }
   ],
   "source": [
    "notebook2script()"
   ]
  },
  {
   "cell_type": "code",
   "execution_count": null,
   "metadata": {},
   "outputs": [],
   "source": []
  }
 ],
 "metadata": {
  "kernelspec": {
   "display_name": "Python 3",
   "language": "python",
   "name": "python3"
  }
 },
 "nbformat": 4,
 "nbformat_minor": 4
}
