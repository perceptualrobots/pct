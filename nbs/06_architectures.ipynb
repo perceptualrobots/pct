{
 "cells": [
  {
   "cell_type": "code",
   "execution_count": null,
   "metadata": {},
   "outputs": [
    {
     "name": "stdout",
     "output_type": "stream",
     "text": [
      "Cells will be exported to pct.configurations,\n",
      "unless a different module is specified after an export flag: `%nbdev_export special.module`\n"
     ]
    }
   ],
   "source": [
    "from nbdev import *\n",
    "%nbdev_default_export configurations"
   ]
  },
  {
   "cell_type": "markdown",
   "metadata": {},
   "source": [
    "# Architectures\n",
    "\n",
    "> Classes to create hierachy architectures from array configurations."
   ]
  },
  {
   "cell_type": "code",
   "execution_count": null,
   "metadata": {},
   "outputs": [],
   "source": [
    "%nbdev_hide\n",
    "import sys\n",
    "sys.path.append(\"..\")"
   ]
  },
  {
   "cell_type": "code",
   "execution_count": null,
   "metadata": {},
   "outputs": [],
   "source": [
    "%nbdev_export\n",
    "import gym\n",
    "import random\n",
    "import os\n",
    "from abc import ABC, abstractmethod\n",
    "from pct.hierarchy import PCTHierarchy"
   ]
  },
  {
   "cell_type": "code",
   "execution_count": null,
   "metadata": {},
   "outputs": [],
   "source": [
    "%nbdev_export\n",
    "class BaseArchitecture(ABC):\n",
    "    \"Base class of an array architecture. This class is not used direclty by developers, but defines the functionality common to all.\"\n",
    "    def __init__(self, name, config):\n",
    "        self.config = config        \n",
    "        self.hpct = PCTHierarchy()\n",
    "        \n",
    "    def __call__(self):\n",
    "        level0 = self.config['level0']\n",
    "        print(level0)\n",
    "        \n",
    " "
   ]
  },
  {
   "cell_type": "code",
   "execution_count": null,
   "metadata": {},
   "outputs": [],
   "source": [
    "%nbdev_export\n",
    "class ProportionalArchitecture(BaseArchitecture):\n",
    "    \"Proportional Architecture\"\n",
    "    def __init__(self, name=\"proportional\", config=None, **cargs):\n",
    "        super().__init__(name, config)\n",
    "  \n",
    "\n",
    "    def level0config(self):\n",
    "        numColumnsThisLevel = self.grid[0]\n",
    "        # inputs\n",
    "        iwts=[]\n",
    "        for i in range(self.num_inputs):\n",
    "            iwt = [random.randint(0, 1) for iter in range(numColumnsThisLevel)] \n",
    "            iwts.append(iwt)\n",
    "\n",
    "        # outputs\n",
    "        owts=[]\n",
    "        for i in range(numColumnsThisLevel):\n",
    "            owts.append(random.uniform(0,100))\n",
    "\n",
    "        # actions\n",
    "        actwts = []\n",
    "        for i in range(self.num_actions):\n",
    "            awt = [random.randint(0, 1) for iter in range(numColumnsThisLevel)] \n",
    "            actwts.append(awt)\n",
    "\n",
    "        lwts=[]\n",
    "        lwts.append(iwts)\n",
    "        lwts.append(owts)\n",
    "        lwts.append(actwts)\n",
    "\n",
    "        return lwts\n",
    "\n",
    "    def levelnconfig(self, numColumnsThisLevel, numColumnsPreviousLevel):\n",
    "        print(numColumnsThisLevel,    numColumnsPreviousLevel)\n",
    "        # inputs\n",
    "        iwts=[]\n",
    "        for i in range(numColumnsThisLevel):\n",
    "            iwt = [random.randint(0, 1) for iter in range(numColumnsPreviousLevel)] \n",
    "            iwts.append(iwt)\n",
    "\n",
    "        # outputs\n",
    "        owts=[]\n",
    "        for i in range(numColumnsThisLevel):\n",
    "            owts.append(random.uniform(0,1))\n",
    "\n",
    "\n",
    "        # lower refs\n",
    "        rwts = []\n",
    "        for i in range(numColumnsPreviousLevel):\n",
    "            rwt = [random.uniform(-100, 100) for iter in range(numColumnsThisLevel)] \n",
    "            rwts.append(rwt)\n",
    "\n",
    "        lwts=[]\n",
    "        lwts.append(iwts)\n",
    "        lwts.append(owts)\n",
    "        lwts.append(rwts)\n",
    "\n",
    "        return lwts\n",
    "    \n",
    "    \n",
    "    def leveltopconfig(self, top_references, numColumnsPreviousLevel):\n",
    "\n",
    "        numColumnsThisLevel=len(top_references)\n",
    "        # inputs\n",
    "        iwts=[]\n",
    "        for i in range(numColumnsThisLevel):\n",
    "            iwt = [random.randint(0, 1) for iter in range(numColumnsPreviousLevel)] \n",
    "            iwts.append(iwt)\n",
    "\n",
    "        # outputs\n",
    "        owts=[]\n",
    "        for i in range(numColumnsThisLevel):\n",
    "            owts.append(random.uniform(0,1))\n",
    "\n",
    "\n",
    "        # lower refs\n",
    "        rwts = []\n",
    "        for i in range(numColumnsPreviousLevel):\n",
    "            rwt = [random.uniform(-100, 100) for iter in range(numColumnsThisLevel)] \n",
    "            rwts.append(rwt)\n",
    "\n",
    "        lwts=[]\n",
    "        lwts.append(iwts)\n",
    "        lwts.append(owts)\n",
    "        lwts.append(rwts)\n",
    "        lwts.append(top_references)\n",
    "\n",
    "        return lwts\n",
    "\n"
   ]
  },
  {
   "cell_type": "code",
   "execution_count": null,
   "metadata": {},
   "outputs": [
    {
     "ename": "ModuleNotFoundError",
     "evalue": "No module named 'epct'",
     "output_type": "error",
     "traceback": [
      "\u001b[0;31m---------------------------------------------------------------------------\u001b[0m",
      "\u001b[0;31mModuleNotFoundError\u001b[0m                       Traceback (most recent call last)",
      "\u001b[0;32m<ipython-input-19-24af6d8fab43>\u001b[0m in \u001b[0;36m<module>\u001b[0;34m\u001b[0m\n\u001b[0;32m----> 1\u001b[0;31m \u001b[0;32mfrom\u001b[0m \u001b[0mepct\u001b[0m\u001b[0;34m.\u001b[0m\u001b[0mconfigs\u001b[0m \u001b[0;32mimport\u001b[0m \u001b[0mProportionalConfiguration\u001b[0m\u001b[0;34m\u001b[0m\u001b[0;34m\u001b[0m\u001b[0m\n\u001b[0m\u001b[1;32m      2\u001b[0m \u001b[0mconfig\u001b[0m \u001b[0;34m=\u001b[0m \u001b[0mProportionalConfiguration\u001b[0m\u001b[0;34m(\u001b[0m\u001b[0;34m)\u001b[0m\u001b[0;34m\u001b[0m\u001b[0;34m\u001b[0m\u001b[0m\n\u001b[1;32m      3\u001b[0m \u001b[0mpa\u001b[0m \u001b[0;34m=\u001b[0m \u001b[0mProportionalArchitecture\u001b[0m\u001b[0;34m(\u001b[0m\u001b[0mconfig\u001b[0m\u001b[0;34m)\u001b[0m\u001b[0;34m\u001b[0m\u001b[0;34m\u001b[0m\u001b[0m\n\u001b[1;32m      4\u001b[0m \u001b[0mpa\u001b[0m\u001b[0;34m(\u001b[0m\u001b[0;34m)\u001b[0m\u001b[0;34m\u001b[0m\u001b[0;34m\u001b[0m\u001b[0m\n",
      "\u001b[0;31mModuleNotFoundError\u001b[0m: No module named 'epct'"
     ]
    }
   ],
   "source": [
    "from epct.configs import ProportionalConfiguration\n",
    "config = ProportionalConfiguration()\n",
    "pa = ProportionalArchitecture(config)\n",
    "pa()"
   ]
  },
  {
   "cell_type": "code",
   "execution_count": null,
   "metadata": {},
   "outputs": [],
   "source": [
    "notebook2script()"
   ]
  }
 ],
 "metadata": {
  "kernelspec": {
   "display_name": "Python 3",
   "language": "python",
   "name": "python3"
  }
 },
 "nbformat": 4,
 "nbformat_minor": 4
}
