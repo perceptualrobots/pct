{
 "cells": [
  {
   "cell_type": "code",
   "execution_count": null,
   "metadata": {},
   "outputs": [
    {
     "name": "stdout",
     "output_type": "stream",
     "text": [
      "Cells will be exported to pct.architectures,\n",
      "unless a different module is specified after an export flag: `%nbdev_export special.module`\n"
     ]
    }
   ],
   "source": [
    "from nbdev import *\n",
    "%nbdev_default_export architectures"
   ]
  },
  {
   "cell_type": "markdown",
   "metadata": {},
   "source": [
    "# Architectures\n",
    "\n",
    "> Classes to create hierachy architectures from array configurations."
   ]
  },
  {
   "cell_type": "code",
   "execution_count": null,
   "metadata": {},
   "outputs": [],
   "source": [
    "%nbdev_hide\n",
    "import sys\n",
    "sys.path.append(\"..\")"
   ]
  },
  {
   "cell_type": "code",
   "execution_count": null,
   "metadata": {},
   "outputs": [],
   "source": [
    "%nbdev_export\n",
    "import gym\n",
    "import random\n",
    "import numpy as np\n",
    "\n",
    "import json\n",
    "import os\n",
    "from abc import ABC, abstractmethod\n",
    "from pct.hierarchy import PCTHierarchy\n",
    "from pct.nodes import PCTNode\n",
    "from pct.functions import WeightedSum"
   ]
  },
  {
   "cell_type": "code",
   "execution_count": null,
   "metadata": {},
   "outputs": [],
   "source": [
    "%nbdev_export\n",
    "class BaseArchitecture(ABC):\n",
    "    \"Base class of an array architecture. This class is not used direclty by developers, but defines the functionality common to all.\"\n",
    "    def __init__(self, name, config, env, inputs):\n",
    "        self.config = config      \n",
    "        self.env = env\n",
    "        self.inputs=inputs\n",
    "        self.hpct = PCTHierarchy()\n",
    "        for input in inputs:\n",
    "            self.hpct.add_preprocessor(input)\n",
    "        \n",
    "    def __call__(self):\n",
    "        level0config = self.config['level0']\n",
    "        print(level0config)\n",
    "        level0=self.configure_zerothlevel()\n",
    "        \n",
    "        \"\"\"\n",
    "        previous_columns=len(level0config[0])\n",
    "        print('previous_columns',previous_columns)\n",
    "        intermediate_levels = len(self.config)-2\n",
    "        for level in range(intermediate_levels):\n",
    "            if printn:\n",
    "                print(f'Level{level+1}:')\n",
    "                print(leveln)\n",
    "            configure_level(hpct, leveln, previous_columns, level+1)\n",
    "            previous_columns=levelcolumns\n",
    "        \"\"\"\n",
    "        \n",
    "    def get_hierarchy(self):\n",
    "        return self.hpct\n",
    "        \n",
    " "
   ]
  },
  {
   "cell_type": "code",
   "execution_count": null,
   "metadata": {},
   "outputs": [],
   "source": [
    "%nbdev_export\n",
    "class ProportionalArchitecture(BaseArchitecture):\n",
    "    \"Proportional Architecture\"\n",
    "    def __init__(self, name=\"proportional\", config=None, env=None, input_indexes=None, **cargs):\n",
    "        inputs=[]\n",
    "        for ctr in range(len(input_indexes)):\n",
    "            ip = IndexedParameter(index=input_indexes[ctr], name=f'Input{ctr}')\n",
    "            inputs.append(ip)\n",
    "        \n",
    "        super().__init__(name, config, env, inputs)\n",
    "\n",
    "    def configure_zerothlevel(self):\n",
    "        inputsIndex=0\n",
    "        outputsIndex=1\n",
    "        actionsIndex=2\n",
    "\n",
    "        config=self.config['level0']\n",
    "        level=0\n",
    "        numInputs= len(self.inputs)\n",
    "        columns = len(config[inputsIndex][0])\n",
    "        #print(config[0][0])\n",
    "        #print(columns)\n",
    "\n",
    "        # create nodes\n",
    "        for column in range(columns):\n",
    "            node = PCTNode(build_links=True, mode=1)\n",
    "            # change names\n",
    "            node.get_function(\"perception\").set_name(f'wsPL{level}C{column}')\n",
    "            node.get_function(\"reference\").set_name(f'wsRL{level}C{column}')\n",
    "            node.get_function(\"comparator\").set_name(f'CL{level}C{column}')\n",
    "            node.get_function(\"output\").set_name(f'pOL{level}C{column}')\n",
    "\n",
    "            weights=[]\n",
    "            # configure perceptions\n",
    "            for inputIndex in range(numInputs):\n",
    "                node.get_function(\"perception\").add_link(self.inputs[inputIndex])\n",
    "                weights.append(config[inputsIndex][inputIndex][column])\n",
    "            node.get_function(\"perception\").weights=np.array(weights)\n",
    "\n",
    "            # configure outputs\n",
    "            node.get_function(\"output\").set_property('gain', config[outputsIndex][column])\n",
    "\n",
    "            self.hpct.add_node(node, level, column)\n",
    "\n",
    "        # configure actions\n",
    "        numActions = len(config[actionsIndex])\n",
    "        numColumnsThisLevel = len(config[outputsIndex])\n",
    "        for actionIndex in range(numActions):\n",
    "            action = WeightedSum(weights=config[actionsIndex][actionIndex], name=f'action{actionIndex+1}')\n",
    "            for column in range(numColumnsThisLevel):\n",
    "                action.add_link(f'pOL{level}C{column}')\n",
    "            self.hpct.add_postprocessor(action)\n",
    "            self.env.add_link(action)\n",
    "\n",
    "\n",
    "    def configure_level(self, numInputs, level):\n",
    "        inputsIndex=0\n",
    "        outputsIndex=1\n",
    "        referencesIndex=2\n",
    "        \n",
    "        numColumnsPreviousLevel=len(config[referencesIndex])\n",
    "        numColumnsThisLevel = len(config[outputsIndex])\n",
    "        #print(config[0])\n",
    "        #print(numColumnsThisLevel)\n",
    "    \n",
    "        # create nodes\n",
    "        for column in range(numColumnsThisLevel):\n",
    "            node = PCTNode(build_links=True, mode=1)\n",
    "            # change names\n",
    "            node.get_function(\"perception\").set_name(f'wsPL{level}C{column}')\n",
    "            node.get_function(\"reference\").set_name(f'wsRL{level}C{column}')\n",
    "            node.get_function(\"comparator\").set_name(f'CL{level}C{column}')\n",
    "            node.get_function(\"output\").set_name(f'pOL{level}C{column}')\n",
    "            \n",
    "            weights=[]\n",
    "            # configure perceptions        \n",
    "            for inputIndex in range(numColumnsPreviousLevel):\n",
    "                node.get_function(\"perception\").add_link(f'wsPL{level-1}C{inputIndex}')\n",
    "                weights.append(config[inputsIndex][column][inputIndex])           \n",
    "    \n",
    "            node.get_function(\"perception\").weights=np.array(weights)\n",
    "            \n",
    "            # configure outputs\n",
    "            node.get_function(\"output\").set_property('gain', config[outputsIndex][column])        \n",
    "                \n",
    "            hierarchy.add_node(node, level, column)\n",
    "    \n",
    "        # configure lower references\n",
    "        for referenceIndex in range(numColumnsPreviousLevel):\n",
    "            reference = hierarchy.get_function(level-1, referenceIndex, \"reference\")\n",
    "            weights=[]\n",
    "            \n",
    "            for output_column in range(numColumnsThisLevel):\n",
    "                reference.add_link(f'pOL{level}C{output_column}')\n",
    "                weights.append(config[referencesIndex][referenceIndex][output_column])           \n",
    "                \n",
    "            reference.weights=np.array(weights)\n",
    "    \n",
    "    \n",
    "\n",
    "    def configure_top_level(hierarchy, config, level):\n",
    "        inputsIndex=0\n",
    "        outputsIndex=1\n",
    "        lowerReferencesIndex=2\n",
    "        topReferencesIndex=3\n",
    "    \n",
    "        numColumnsThisLevel = len(config[topReferencesIndex])\n",
    "        numColumnsPreviousLevel=len(config[lowerReferencesIndex])\n",
    "        \n",
    "        # create nodes\n",
    "        for column in range(numColumnsThisLevel):\n",
    "            node = PCTNode(build_links=True, mode=2, name=f'nodeL{level}C{column}')\n",
    "            # change names\n",
    "            #reference = Constant(config[topReferencesIndex][column], name=f'wsRL{level}C{column}')\n",
    "            #node.replace_function(\"reference\", reference, 0)\n",
    "            node.get_function(\"perception\").set_name(f'wsPL{level}C{column}')\n",
    "            node.get_function(\"reference\").set_name(f'wsRL{level}C{column}')\n",
    "            node.get_function(\"comparator\").set_name(f'CL{level}C{column}')\n",
    "            node.get_function(\"output\").set_name(f'pOL{level}C{column}')\n",
    "            \n",
    "            # set reference value\n",
    "            node.get_function(\"reference\").set_property('value', config[topReferencesIndex][column])\n",
    "            \n",
    "            \n",
    "            weights=[]\n",
    "            # configure perceptions        \n",
    "            for inputIndex in range(numColumnsPreviousLevel):\n",
    "                node.get_function(\"perception\").add_link(f'wsPL{level-1}C{inputIndex}')\n",
    "                weights.append(config[inputsIndex][column][inputIndex])           \n",
    "                #weights.append(config[inputsIndex][inputIndex][column])           \n",
    "            node.get_function(\"perception\").weights=np.array(weights)\n",
    "            \n",
    "            # configure outputs\n",
    "            node.get_function(\"output\").set_property('gain', config[outputsIndex][column])        \n",
    "                \n",
    "            hierarchy.add_node(node, level, column)\n",
    "    \n",
    "        # configure lower references\n",
    "        for referenceIndex in range(numColumnsPreviousLevel):\n",
    "            reference = hierarchy.get_function(level-1, referenceIndex, \"reference\")\n",
    "            weights=[]\n",
    "            \n",
    "            for output_column in range(numColumnsThisLevel):\n",
    "                reference.add_link(f'pOL{level}C{output_column}')\n",
    "                weights.append(config[lowerReferencesIndex][referenceIndex][output_column])           \n",
    "                \n",
    "            reference.weights=np.array(weights)\n",
    "\n",
    "\n"
   ]
  },
  {
   "cell_type": "code",
   "execution_count": null,
   "metadata": {},
   "outputs": [],
   "source": [
    "# move to epct\n",
    "from epct.configs import ProportionalConfiguration\n",
    "from pct.environments import PendulumV0"
   ]
  },
  {
   "cell_type": "code",
   "execution_count": null,
   "metadata": {},
   "outputs": [
    {
     "data": {
      "text/plain": [
       "'\\npen = PendulumV0(render=True, verbose=True)\\ninputs=[2, 3]\\nnum_actions=1\\n\\npc = ProportionalConfiguration(num_inputs=len(inputs), num_actions=num_actions, grid=[2, 2], references=[1])\\nconfig = pc()\\npa = ProportionalArchitecture(config=config, env=pen, inputs=inputs)\\npa()\\n\\nhpct = pa.get_hierarchy()\\nhpct.summary()\\nprint(json.dumps(hpct.get_config(), indent=1))\\n'"
      ]
     },
     "execution_count": null,
     "metadata": {},
     "output_type": "execute_result"
    }
   ],
   "source": [
    "\"\"\"\n",
    "pen = PendulumV0(render=True, verbose=True)\n",
    "inputs=[2, 3]\n",
    "num_actions=1\n",
    "\n",
    "pc = ProportionalConfiguration(num_inputs=len(inputs), num_actions=num_actions, grid=[2, 2], references=[1])\n",
    "config = pc()\n",
    "pa = ProportionalArchitecture(config=config, env=pen, inputs=inputs)\n",
    "pa()\n",
    "\n",
    "hpct = pa.get_hierarchy()\n",
    "hpct.summary()\n",
    "print(json.dumps(hpct.get_config(), indent=1))\n",
    "\"\"\"\n"
   ]
  },
  {
   "cell_type": "code",
   "execution_count": null,
   "metadata": {},
   "outputs": [],
   "source": [
    "#pen.close()"
   ]
  },
  {
   "cell_type": "code",
   "execution_count": null,
   "metadata": {},
   "outputs": [
    {
     "name": "stdout",
     "output_type": "stream",
     "text": [
      "Converted 00_examples.ipynb.\n",
      "Converted 01_putils.ipynb.\n",
      "Converted 02_functions.ipynb.\n",
      "Converted 03_nodes.ipynb.\n",
      "Converted 04_hierarchy.ipynb.\n",
      "Converted 05_environments.ipynb.\n",
      "Converted 06_architectures.ipynb.\n",
      "Converted index.ipynb.\n"
     ]
    }
   ],
   "source": [
    "notebook2script()"
   ]
  },
  {
   "cell_type": "code",
   "execution_count": null,
   "metadata": {},
   "outputs": [],
   "source": []
  }
 ],
 "metadata": {
  "kernelspec": {
   "display_name": "Python 3",
   "language": "python",
   "name": "python3"
  }
 },
 "nbformat": 4,
 "nbformat_minor": 4
}
