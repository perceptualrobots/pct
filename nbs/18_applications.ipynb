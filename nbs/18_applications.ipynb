{
 "cells": [
  {
   "cell_type": "raw",
   "metadata": {},
   "source": [
    "---\n",
    "output-file: applications.html\n",
    "title: application functions\n",
    "\n",
    "---\n",
    "\n"
   ]
  },
  {
   "cell_type": "code",
   "execution_count": null,
   "metadata": {},
   "outputs": [],
   "source": [
    "%reload_ext autoreload\n",
    "%autoreload 2"
   ]
  },
  {
   "cell_type": "code",
   "execution_count": null,
   "metadata": {},
   "outputs": [],
   "source": [
    "#| default_exp applications"
   ]
  },
  {
   "cell_type": "code",
   "execution_count": null,
   "metadata": {},
   "outputs": [],
   "source": [
    "#| export\n",
    "from pct.environment_processing import EnvironmentProcessingFactory\n"
   ]
  },
  {
   "cell_type": "code",
   "execution_count": null,
   "metadata": {},
   "outputs": [],
   "source": [
    "#| export\n",
    "def run_wind_turbine(target, drive, filepath):\n",
    "    verbosed = {'debug': 0, 'hpct_verbose':0}\n",
    "\n",
    "    # drive = get_gdrive()\n",
    "    # root_path=get_root_path()\n",
    "    root_path=\"\"\n",
    "    results_props = {'comparisons' : True, 'comparisons_print_plots': False}\n",
    "    env_name = 'WindTurbine'\n",
    "    args = {'file': filepath, 'env_name':env_name, 'verbosed':verbosed, 'drive':drive, 'root_path':root_path, 'max' : True} | results_props\n",
    "    # args = {'file': filepath, 'env_name':env_name, 'verbosed':verbosed, 'max' : True} | results_props\n",
    "\n",
    "    environment_properties={'series': target, 'zero_threshold': 1, 'reward_type': 'power', 'keep_history': True, 'range': 'test'}\n",
    "\n",
    "    env_proc = EnvironmentProcessingFactory.createEnvironmentProcessing(f'{env_name}EnvironmentProcessing')\n",
    "    env_proc.set_properties(args=args)\n",
    "\n",
    "    env_proc.get_experiment()\n",
    "    rtn = env_proc.results(filepath=filepath, environment_properties=environment_properties)\n",
    "\n"
   ]
  },
  {
   "cell_type": "markdown",
   "metadata": {},
   "source": []
  },
  {
   "cell_type": "code",
   "execution_count": null,
   "metadata": {},
   "outputs": [
    {
     "name": "stdout",
     "output_type": "stream",
     "text": [
      "2024-10-12 12:05:40.863096 25060 Start\n",
      "Score=-1172.912 power=1172.912\n",
      "{'start': 1100, 'end': 2100, 'average yaw error_baseline_logs': 6.907099999999999, 'angle covered_trad_baseline_logs': 27.30000000000004, 'yaw count_trad_baseline_logs': 5, 'time_yawing_trad_baseline_logs': 0.43004300430043}\n",
      "{'start': 1100, 'end': 2100, 'average yaw error_baseline_simu': 6.5231, 'angle covered_trad_baseline_simu': 53.46000000000012, 'yaw count_trad_baseline_simu': 15, 'time_yawing_trad_baseline_simu': 2.0502050205020503}\n",
      "{'start_index': 1100, 'stop_index': 2100, 'power_trad': 1168.471147532752, 'power_no_loss': 1203.9984307393847, 'power_control': 1172.9115903340005, 'average yaw error': 6.141389999999999, 'average reward': -1172.9115903340007, 'angle covered': 78.0, 'yaw count': 10, 'time_yawing': 2.6026026026026026}\n",
      "average_yaw_error_decrease_base=11.09\n",
      "average_yaw_error_decrease_simu=5.85\n",
      "energy_gain = 0.38\n",
      "net_energy_gain = 0.35\n",
      "2024-10-12 12:05:52.778136 25060 End\n",
      "Elapsed time: 11.92\n",
      "2024-10-12 12:05:52.778136 25060 Start\n",
      "Score=-739.604 power=739.604\n",
      "{'start': 1100, 'end': 2100, 'average yaw error_baseline_logs': 7.5581999999999985, 'angle covered_trad_baseline_logs': 97.31000000000012, 'yaw count_trad_baseline_logs': 14, 'time_yawing_trad_baseline_logs': 1.5801580158015802}\n",
      "{'start': 1100, 'end': 2100, 'average yaw error_baseline_simu': 7.0147549, 'angle covered_trad_baseline_simu': 112.13400000000004, 'yaw count_trad_baseline_simu': 27, 'time_yawing_trad_baseline_simu': 4.160416041604161}\n",
      "{'start_index': 1100, 'stop_index': 2100, 'power_trad': 736.0266006459701, 'power_no_loss': 757.8501598912032, 'power_control': 739.6036472129515, 'average yaw error': 6.040095999999999, 'average reward': -739.6036472129531, 'angle covered': 141.0, 'yaw count': 22, 'time_yawing': 4.704704704704705}\n",
      "average_yaw_error_decrease_base=20.09\n",
      "average_yaw_error_decrease_simu=13.89\n",
      "energy_gain = 0.49\n",
      "net_energy_gain = 0.42\n",
      "2024-10-12 12:06:04.737131 25060 End\n",
      "Elapsed time: 11.96\n",
      "2024-10-12 12:06:04.737131 25060 Start\n",
      "Score=-741.680 power=741.680\n",
      "{'start': 1100, 'end': 2100, 'average yaw error_baseline_logs': 7.5581999999999985, 'angle covered_trad_baseline_logs': 97.31000000000012, 'yaw count_trad_baseline_logs': 14, 'time_yawing_trad_baseline_logs': 1.5801580158015802}\n",
      "{'start': 1100, 'end': 2100, 'average yaw error_baseline_simu': 7.0147549, 'angle covered_trad_baseline_simu': 112.13400000000004, 'yaw count_trad_baseline_simu': 27, 'time_yawing_trad_baseline_simu': 4.160416041604161}\n",
      "{'start_index': 1100, 'stop_index': 2100, 'power_trad': 736.0266006459701, 'power_no_loss': 757.8501598912032, 'power_control': 741.6798023000322, 'average yaw error': 5.56032, 'average reward': -741.679802300033, 'angle covered': 201.0, 'yaw count': 42, 'time_yawing': 6.706706706706707}\n",
      "average_yaw_error_decrease_base=26.43\n",
      "average_yaw_error_decrease_simu=20.73\n",
      "energy_gain = 0.77\n",
      "net_energy_gain = 0.57\n",
      "2024-10-12 12:06:16.844109 25060 End\n",
      "Elapsed time: 12.11\n",
      "2024-10-12 12:06:16.844109 25060 Start\n",
      "Score=-1171.489 power=1171.489\n",
      "{'start': 1100, 'end': 2100, 'average yaw error_baseline_logs': 6.907099999999999, 'angle covered_trad_baseline_logs': 27.30000000000004, 'yaw count_trad_baseline_logs': 5, 'time_yawing_trad_baseline_logs': 0.43004300430043}\n",
      "{'start': 1100, 'end': 2100, 'average yaw error_baseline_simu': 6.5231, 'angle covered_trad_baseline_simu': 53.46000000000012, 'yaw count_trad_baseline_simu': 15, 'time_yawing_trad_baseline_simu': 2.0502050205020503}\n",
      "{'start_index': 1100, 'stop_index': 2100, 'power_trad': 1168.471147532752, 'power_no_loss': 1203.9984307393847, 'power_control': 1171.4890528211347, 'average yaw error': 6.269654, 'average reward': -1171.4890528211342, 'angle covered': 186.0, 'yaw count': 44, 'time_yawing': 6.206206206206206}\n",
      "average_yaw_error_decrease_base=9.23\n",
      "average_yaw_error_decrease_simu=3.89\n",
      "energy_gain = 0.26\n",
      "net_energy_gain = 0.07\n",
      "2024-10-12 12:06:28.924149 25060 End\n",
      "Elapsed time: 12.08\n"
     ]
    }
   ],
   "source": [
    "#| export\n",
    "\n",
    "# controller trained on steady dataset applied to steady dataset\n",
    "run_wind_turbine('steady', \"testfiles\\\\\", \"ga--1362.401-s003-4x3-m005-WT0538-bddf277b0f729cc630efacf91b9f494f.properties\")\n",
    "# controller trained on steady dataset applied to variable dataset\n",
    "run_wind_turbine('variable', \"testfiles\\\\\", \"ga--1362.401-s003-4x3-m005-WT0538-bddf277b0f729cc630efacf91b9f494f.properties\")\n",
    "# controller trained on variable dataset applied to variable dataset\n",
    "run_wind_turbine('variable', \"testfiles\\\\\", \"ga--2629.009-s001-5x5-m002-WT0416-31ecb19201d49e8c6f9dd1e172bd6944.properties\")\n",
    "# controller trained on variable dataset applied to steady dataset\n",
    "run_wind_turbine('steady', \"testfiles\\\\\", \"ga--2629.009-s001-5x5-m002-WT0416-31ecb19201d49e8c6f9dd1e172bd6944.properties\")\n",
    "\n",
    "\n"
   ]
  },
  {
   "cell_type": "code",
   "execution_count": null,
   "metadata": {},
   "outputs": [],
   "source": []
  },
  {
   "cell_type": "code",
   "execution_count": null,
   "metadata": {},
   "outputs": [],
   "source": [
    "#| hide\n",
    "import nbdev; nbdev.nbdev_export()"
   ]
  }
 ],
 "metadata": {
  "kernelspec": {
   "display_name": "python3",
   "language": "python",
   "name": "python3"
  }
 },
 "nbformat": 4,
 "nbformat_minor": 4
}
