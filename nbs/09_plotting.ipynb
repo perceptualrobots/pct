{
 "cells": [
  {
   "cell_type": "code",
   "execution_count": null,
   "metadata": {},
   "outputs": [
    {
     "name": "stdout",
     "output_type": "stream",
     "text": [
      "Cells will be exported to pct.plotting,\n",
      "unless a different module is specified after an export flag: `%nbdev_export special.module`\n"
     ]
    }
   ],
   "source": [
    "from nbdev import *\n",
    "%nbdev_default_export plotting"
   ]
  },
  {
   "cell_type": "markdown",
   "metadata": {},
   "source": [
    "# Plotting\n",
    "\n",
    "> Plotting classes."
   ]
  },
  {
   "cell_type": "code",
   "execution_count": null,
   "metadata": {},
   "outputs": [],
   "source": [
    "#export\n",
    "import matplotlib.pyplot as plt"
   ]
  },
  {
   "cell_type": "code",
   "execution_count": null,
   "metadata": {},
   "outputs": [],
   "source": [
    "#export\n",
    "class SubPlotter(object):\n",
    "\n",
    "  def __init__(self, width, height, title, plotsconfig=[[\"title\", \"xlabel\", \"ylabel\", 1, 0, 111]]):\n",
    "      \n",
    "\n",
    "    self.fig = plt.figure(figsize=[width, height])\n",
    "    self.fig.canvas.set_window_title(title)\n",
    "    \n",
    "    self.plots=[]\n",
    "    self.colors=['b',  'r', 'g', 'c', 'm', 'y', 'k', 'w']\n",
    "\n",
    "    for plotconfig in plotsconfig:\n",
    "        #print(plotconfig)\n",
    "        ys=[]\n",
    "        for line in range(plotconfig[3]):\n",
    "            ys.append([])\n",
    "        plot = dict([(\"title\", plotconfig[0]), (\"xlabel\", plotconfig[1]), \n",
    "                     (\"ylabel\", plotconfig[2]), (\"window\", plotconfig[4]), \n",
    "                     (\"subplot\", plt.subplot(plotconfig[5])), (\"x\", []), (\"ys\", ys)])\n",
    "        #print(plot)\n",
    "\n",
    "        self.plots.append(plot)\n",
    "    \n",
    "  def add_data(self, index, x, ys):\n",
    "    #print(ys)\n",
    "    plot= self.plots[index]\n",
    "    plot[\"x\"].append(x)\n",
    "    for i in range(len(ys)):\n",
    "        plot[\"ys\"][i].append(ys[i])\n",
    "    window = plot[\"window\"]\n",
    "    if window > 0:\n",
    "        if x > window:\n",
    "            plot[\"x\"].pop(0)\n",
    "            for i in range(len(ys)):\n",
    "                plot[\"ys\"][i].pop(0)\n",
    "            \n",
    "        \n",
    "  def show(self):\n",
    "    plt.show()\n",
    "        \n",
    "  def draw(self):\n",
    "    for plot in self.plots:\n",
    "        plot[\"subplot\"].clear()\n",
    "        #print(plot[\"ys\"])\n",
    "        ctr=0\n",
    "        for y in plot[\"ys\"]:\n",
    "            plot[\"subplot\"].plot(plot[\"x\"], y, self.colors[ctr])\n",
    "            ctr+=1\n",
    "        plot[\"subplot\"].set_title(plot[\"title\"])\n",
    "        plot[\"subplot\"].set_xlabel(plot[\"xlabel\"])\n",
    "        plot[\"subplot\"].set_ylabel(plot[\"ylabel\"])\n",
    "        #self.ax1.margins(x=5,y=10)\n",
    "\n",
    "    plt.tight_layout()"
   ]
  },
  {
   "cell_type": "code",
   "execution_count": null,
   "metadata": {},
   "outputs": [
    {
     "data": {
      "image/png": "[encoded data removed]",
      "text/plain": [
       "<Figure size 720x288 with 2 Axes>"
      ]
     },
     "metadata": {
      "needs_background": "light"
     },
     "output_type": "display_data"
    }
   ],
   "source": [
    "window = 20\n",
    "plotter = SubPlotter(10, 4, \"MyData\", [[\"Data\", \"x\", \"y\", 2, window, 121], [\"Data\", \"x\", \"y\", 2, window, 122]])"
   ]
  },
  {
   "cell_type": "code",
   "execution_count": null,
   "metadata": {},
   "outputs": [],
   "source": []
  }
 ],
 "metadata": {
  "kernelspec": {
   "display_name": "Python 3",
   "language": "python",
   "name": "python3"
  }
 },
 "nbformat": 4,
 "nbformat_minor": 4
}
