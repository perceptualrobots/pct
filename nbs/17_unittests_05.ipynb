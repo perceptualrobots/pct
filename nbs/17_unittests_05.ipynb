{
 "cells": [
  {
   "cell_type": "markdown",
   "id": "d213b822",
   "metadata": {},
   "source": [
    "---\n",
    "output-file: yaw_module.html\n",
    "title: Yaw Module\n",
    "\n",
    "---"
   ]
  },
  {
   "cell_type": "code",
   "execution_count": null,
   "id": "322c3272",
   "metadata": {},
   "outputs": [],
   "source": [
    "%reload_ext autoreload\n",
    "%autoreload 2"
   ]
  },
  {
   "cell_type": "code",
   "execution_count": null,
   "id": "b74fb4cd-84fb-4ab3-86a8-67400f7c6cb8",
   "metadata": {},
   "outputs": [],
   "source": [
    "\n",
    "import unittest\n",
    "import random, os\n",
    "import json\n",
    "from deap import tools, base, creator\n",
    "\n",
    "from pct.environments import VelocityModel\n",
    "from epct.evolvers import  CommonToolbox\n",
    "\n",
    "from pct.functions import HPCTFUNCTION\n",
    "\n",
    "from eepct.hpct import HPCTArchitecture\n",
    "\n",
    "from eepct.hpct import HPCTVARIABLE\n",
    "from eepct.hpct import HPCTFUNCTION\n",
    "from eepct.hpct import HPCTLEVEL\n",
    "from eepct.hpct import HPCTEvolver\n",
    "from eepct.hpct import HPCTIndividual\n",
    "from eepct.hpct import HPCTEvolver\n",
    "from eepct.hpct import HPCTEvolverWrapper, Memory\n"
   ]
  },
  {
   "cell_type": "code",
   "execution_count": null,
   "id": "84fdc0d0",
   "metadata": {},
   "outputs": [],
   "source": [
    "\n",
    "if hasattr(creator, 'FitnessMin'):\n",
    "        del creator.FitnessMin\n",
    "        del creator.Individual\n",
    "\n",
    "creator.create(\"FitnessMin\", base.Fitness, weights=(-1.0,))\n",
    "creator.create(\"Individual\", HPCTIndividual, fitness=creator.FitnessMin)"
   ]
  },
  {
   "cell_type": "code",
   "execution_count": null,
   "id": "0324304a",
   "metadata": {},
   "outputs": [],
   "source": [
    "\n",
    "class TestHPCTMutateRemoveLevel(unittest.TestCase):\n",
    "\n",
    "    @classmethod\n",
    "    def setUpClass(cls):\n",
    "\n",
    "        # creator.create(\"FitnessMin\", base.Fitness, weights=(-1.0,))\n",
    "        # creator.create(\"Individual\", HPCTIndividual, fitness=creator.FitnessMin)\n",
    "\n",
    "        toolbox = base.Toolbox()\n",
    "        CommonToolbox.getInstance().set_toolbox(toolbox)\n",
    "\n",
    "        lower, upper = -1, 1 \n",
    "        arch = HPCTArchitecture(lower_float=lower, upper_float=upper)\n",
    "        arch.configure()\n",
    "        arch.set(HPCTLEVEL.ZERO, HPCTFUNCTION.ACTION, HPCTVARIABLE.TYPE, 'Binary')\n",
    "        arch.set(HPCTLEVEL.ZEROTOP, HPCTFUNCTION.ACTION, HPCTVARIABLE.TYPE, 'Binary')\n",
    "        #print(arch)\n",
    "\n",
    "        env_name = 'CartPoleV1'\n",
    "        env_inputs_indexes=[1, 0, 3, 2]\n",
    "        env_inputs_names=['ICV', 'ICP', 'IPV', 'IPA']\n",
    "        references=[0]\n",
    "\n",
    "        error_collector_type , error_response_type = 'InputsError', 'RootMeanSquareError'\n",
    "        pop_size, processes, runs, nevals, num_actions= 10, 1, 500, 1, 1\n",
    "        min_levels_limit, max_levels_limit, min_columns_limit, max_columns_limit, error_limit = 1, 5, 1, 5, 100\n",
    "        zerolevel_inputs_indexes=None\n",
    "        toplevel_inputs_indexes=None\n",
    "        seed=1\n",
    "        debug=0\n",
    "                    \n",
    "        test=1\n",
    "        if test==1:\n",
    "            # test remove level\n",
    "            seed=5\n",
    "            debug=0\n",
    "            \n",
    "        environment_properties = {'env_inputs_indexes': env_inputs_indexes,  'environment_properties':{}, 'zerolevel_inputs_indexes':zerolevel_inputs_indexes, 'render':False, 'early_termination': False,\n",
    "            'toplevel_inputs_indexes':toplevel_inputs_indexes, 'env_inputs_names':env_inputs_names, 'env_name':env_name, 'num_actions':num_actions, 'references':references}\n",
    "        hpct_run_properties ={'min': True, 'hpct_verbose':False, 'debug':debug , 'runs':runs, 'nevals':nevals, 'seed':seed,  'error_collector_type' :  'InputsError', 'error_response_type' : 'RootMeanSquareError'}   \n",
    "        evolve_properties = {'attr_mut_pb':0.8,'structurepb':1} #, 'attr_cx_uniform_pb':0.5, 'alpha':0.5} \n",
    "        hpct_structure_properties ={ 'min_levels_limit':min_levels_limit, 'max_levels_limit':max_levels_limit, 'min_columns_limit':min_columns_limit, 'max_columns_limit':max_columns_limit }    \n",
    "    \n",
    "\n",
    "        evolver_properties = {'environment_properties':environment_properties, \n",
    "            'evolve_properties':evolve_properties,  \n",
    "            'hpct_structure_properties':hpct_structure_properties,\n",
    "            'hpct_run_properties':hpct_run_properties,\n",
    "            'arch': arch}\n",
    "\n",
    "        random.seed(seed)\n",
    "        evolver = HPCTEvolver(**evolver_properties)\n",
    "        #print(evolver_properties)\n",
    "        cls.evr = HPCTEvolverWrapper(evolver=evolver, min=True, pop_size=pop_size, toolbox=toolbox, processes=processes, p_crossover=0.8, p_mutation=0.5, display_env=True, local_out_dir='output')\n",
    "\n",
    "\n",
    "\n",
    "\n",
    "    def test_RelinkingReferences(self):\n",
    "        \n",
    "        ind = self.evr.toolbox.individual()      \n",
    "        ind.set_name('debugRemoveLevels')\n",
    "        \n",
    "        ind1, = self.evr.toolbox.mutate(ind)\n",
    "        print('Links after mutate')\n",
    "        ind1.print_links(2, 0, \"reference\", 1)\n",
    "        \n",
    "        b4id = Memory.getInstance().get_data('b4id')\n",
    "        print('b4id', b4id)\n",
    "        \n",
    "        refL2C0 = ind1.hierarchy[2][0].get_function(\"reference\")\n",
    "        link = refL2C0.links[0]\n",
    "        ##link.summary(extra=True)\n",
    "        b5id = hex(id(link))\n",
    "        print('b5id',b5id)\n",
    "        \n",
    "        if b4id == b5id:\n",
    "            print('FAIL: ids after mutate should be different')\n",
    "        else:\n",
    "            print('SUCCESS: ids after mutate are different')\n",
    "            \n",
    "        \n",
    "        if os.name=='nt':\n",
    "            pass\n",
    "        else:\n",
    "            self.assertNotEqual(b4id, b5id)\n",
    "\n",
    "\n",
    "\n"
   ]
  },
  {
   "cell_type": "code",
   "execution_count": null,
   "id": "1fba8b0e",
   "metadata": {},
   "outputs": [],
   "source": []
  },
  {
   "cell_type": "code",
   "execution_count": null,
   "id": "2b31d84c",
   "metadata": {},
   "outputs": [],
   "source": []
  },
  {
   "cell_type": "code",
   "execution_count": null,
   "id": "0c95727e",
   "metadata": {},
   "outputs": [
    {
     "name": "stderr",
     "output_type": "stream",
     "text": [
      "test_RelinkingReferences (__main__.TestHPCTMutateRemoveLevel) ... ok\n",
      "\n",
      "----------------------------------------------------------------------\n",
      "Ran 1 test in 0.020s\n",
      "\n",
      "OK\n"
     ]
    },
    {
     "name": "stdout",
     "output_type": "stream",
     "text": [
      "Links before mutate\n",
      "018ff165-cc45-11ee-b31f-5c879c15de65\n",
      "RL2C0 EAWeightedSum | weights [0.6897617787762593] | 0 | links  OL3C0 \n",
      "OL3C0 EAProportional | gain 0.8483952388555813 | 0 | links  CL3C0 \n",
      "018ff165-cc45-11ee-b31f-5c879c15de65\n",
      "&&&  OL3C0 [<epct.functions.EAProportional object>]\n",
      "{'namespace': UUID('018ff165-cc45-11ee-b31f-5c879c15de65'), 'value': 0, 'links': [<pct.functions.Subtract object>], 'checklinks': True, 'name': 'OL3C0', 'decimal_places': 3, 'gain': 0.8483952388555813}\n",
      "Links after mutate\n",
      "018ff165-cc45-11ee-b31f-5c879c15de65\n",
      "RL2C0 EAWeightedSum | weights [0.762134032031327] | 0 | links  OL3C0 \n",
      "OL3C0 EAProportional | gain 0.7741715125226487 | 0 | links  CL3C0 \n",
      "018ff165-cc45-11ee-b31f-5c879c15de65\n",
      "&&&  OL3C0 [<epct.functions.EAProportional object>]\n",
      "{'namespace': UUID('018ff165-cc45-11ee-b31f-5c879c15de65'), 'value': 0, 'links': [<pct.functions.Subtract object>], 'checklinks': True, 'name': 'OL3C0', 'decimal_places': 3, 'gain': 0.7741715125226487}\n",
      "b4id 0x2909c1ffb80\n",
      "b5id 0x2909c1ffb80\n",
      "FAIL: ids after mutate should be different\n"
     ]
    }
   ],
   "source": [
    "          \n",
    "res = unittest.main(argv=[''], verbosity=3, exit=False)"
   ]
  },
  {
   "cell_type": "code",
   "execution_count": null,
   "id": "ded9a178",
   "metadata": {},
   "outputs": [],
   "source": [
    "assert len(res.result.failures) == 0"
   ]
  }
 ],
 "metadata": {
  "kernelspec": {
   "display_name": "python3",
   "language": "python",
   "name": "python3"
  }
 },
 "nbformat": 4,
 "nbformat_minor": 5
}
