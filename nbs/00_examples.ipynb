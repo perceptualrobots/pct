{
 "cells": [
  {
   "cell_type": "code",
   "execution_count": null,
   "metadata": {},
   "outputs": [
    {
     "name": "stdout",
     "output_type": "stream",
     "text": [
      "Cells will be exported to pct.examples,\n",
      "unless a different module is specified after an export flag: `%nbdev_export special.module`\n"
     ]
    }
   ],
   "source": [
    "from nbdev import *\n",
    "%nbdev_default_export examples"
   ]
  },
  {
   "cell_type": "code",
   "execution_count": null,
   "metadata": {},
   "outputs": [],
   "source": [
    "%nbdev_hide\n",
    "%reload_ext autoreload\n",
    "%autoreload 2"
   ]
  },
  {
   "cell_type": "markdown",
   "metadata": {},
   "source": [
    "# Examples\n",
    "\n",
    "> Examples of the PCT library in use."
   ]
  },
  {
   "cell_type": "code",
   "execution_count": null,
   "metadata": {},
   "outputs": [],
   "source": [
    "# hide\n",
    "import sys\n",
    "sys.path.append(\"..\")"
   ]
  },
  {
   "cell_type": "code",
   "execution_count": null,
   "metadata": {},
   "outputs": [],
   "source": [
    "import gym \n",
    "import os"
   ]
  },
  {
   "cell_type": "code",
   "execution_count": null,
   "metadata": {},
   "outputs": [],
   "source": [
    "os = os.name"
   ]
  },
  {
   "cell_type": "markdown",
   "metadata": {},
   "source": [
    "## Cartpole\n",
    "\n",
    "0       Cart Position             \n",
    "1       Cart Velocity             \n",
    "2       Pole Angle                \n",
    "3       Pole Angular Velocity \n",
    "        \n"
   ]
  },
  {
   "cell_type": "code",
   "execution_count": null,
   "metadata": {},
   "outputs": [],
   "source": [
    "from pct.hierarchy import PCTHierarchy\n",
    "from pct.functions import OpenAIGym\n",
    "from pct.functions import IndexedParameter\n",
    "from pct.functions import Integration\n",
    "from pct.functions import GreaterThan"
   ]
  },
  {
   "cell_type": "markdown",
   "metadata": {},
   "source": [
    "Create a hierarchy of 4 levels each with one node."
   ]
  },
  {
   "cell_type": "code",
   "execution_count": null,
   "metadata": {},
   "outputs": [],
   "source": [
    "cartpole_hierarchy = PCTHierarchy(levels=4, cols=1, name=\"cartpoleh\")"
   ]
  },
  {
   "cell_type": "raw",
   "metadata": {},
   "source": [
    "Create the Cartpole gym environment function. This will apply the \"action\" output from the hierarchy and provide the new observations."
   ]
  },
  {
   "cell_type": "code",
   "execution_count": null,
   "metadata": {},
   "outputs": [],
   "source": [
    "cartpole = OpenAIGym(\"CartPole-v1\", name=\"CartPole-v1\", render=False)"
   ]
  },
  {
   "cell_type": "markdown",
   "metadata": {},
   "source": [
    "Create functions for each of the observation parameters of the Cartpole environment. Insert them into the hierarchy at the desired places."
   ]
  },
  {
   "cell_type": "code",
   "execution_count": null,
   "metadata": {},
   "outputs": [],
   "source": [
    "cartpole_hierarchy.insert_function(level=0, col=0, collection=\"perception\", function=IndexedParameter(index=1, name=\"cart_velocity\", links=[cartpole]))\n",
    "cartpole_hierarchy.insert_function(level=1, col=0, collection=\"perception\", function=IndexedParameter(index=0, name=\"cart_position\", links=[cartpole]))\n",
    "cartpole_hierarchy.insert_function(level=2, col=0, collection=\"perception\", function=IndexedParameter(index=3, name=\"pole_velocity\", links=[cartpole]))\n",
    "cartpole_hierarchy.insert_function(level=3, col=0, collection=\"perception\", function=IndexedParameter(index=2, name=\"pole_velocity\", links=[cartpole]))"
   ]
  },
  {
   "cell_type": "code",
   "execution_count": null,
   "metadata": {},
   "outputs": [],
   "source": [
    "cartpole_hierarchy.insert_function(level=0, col=0, collection=\"output\", function=Integration(gain=2, slow=10, name=\"force\", links='subtract'))"
   ]
  },
  {
   "cell_type": "markdown",
   "metadata": {},
   "source": [
    "Link the output of the hierarchy back to the Cartpole environment."
   ]
  },
  {
   "cell_type": "markdown",
   "metadata": {},
   "source": [
    "Add the cartpole function as one that is executed before the actual hierarchy."
   ]
  },
  {
   "cell_type": "code",
   "execution_count": null,
   "metadata": {},
   "outputs": [],
   "source": [
    "cartpole_hierarchy.add_preprocessor(cartpole)"
   ]
  },
  {
   "cell_type": "markdown",
   "metadata": {},
   "source": [
    "Add a post function to convert the output to 1 or 0 as required by the Cartpole environment. "
   ]
  },
  {
   "cell_type": "code",
   "execution_count": null,
   "metadata": {},
   "outputs": [],
   "source": [
    "cartpole_hierarchy.add_postprocessor(GreaterThan(threshold=0, upper=0, lower=1, links=[]))"
   ]
  },
  {
   "cell_type": "code",
   "execution_count": null,
   "metadata": {},
   "outputs": [],
   "source": []
  },
  {
   "cell_type": "code",
   "execution_count": null,
   "metadata": {},
   "outputs": [],
   "source": [
    "link = cartpole_hierarchy.get_output_function()\n",
    "cartpole.add_link(link)"
   ]
  },
  {
   "cell_type": "code",
   "execution_count": null,
   "metadata": {},
   "outputs": [
    {
     "name": "stdout",
     "output_type": "stream",
     "text": [
      "cartpoleh PCTHierarchy\n",
      "**************************\n",
      "PRE: CartPole-v1 OpenAIGym | 0 | links  greaterthan \n",
      "Level 0\n",
      "level0col0 PCTNode\n",
      "----------------------------\n",
      "REF: constant Constant | 1 | links  proportional1 \n",
      "PER: cart_velocity IndexedParameter | index 1 | 0 | links  CartPole-v1 \n",
      "COM: subtract Subtract | 0 | links  constant variable \n",
      "OUT: force Integration | gain 2 slow 10  | 0 | links  subtract \n",
      "----------------------------\n",
      "Level 1\n",
      "level1col0 PCTNode\n",
      "----------------------------\n",
      "REF: constant1 Constant | 1 | links  proportional2 \n",
      "PER: cart_position IndexedParameter | index 0 | 0 | links  CartPole-v1 \n",
      "COM: subtract1 Subtract | 0 | links  constant1 variable1 \n",
      "OUT: proportional1 Proportional | gain 10 | 0 | links  subtract1 \n",
      "----------------------------\n",
      "Level 2\n",
      "level2col0 PCTNode\n",
      "----------------------------\n",
      "REF: constant2 Constant | 1 | links  proportional3 \n",
      "PER: pole_velocity IndexedParameter | index 3 | 0 | links  CartPole-v1 \n",
      "COM: subtract2 Subtract | 0 | links  constant2 variable2 \n",
      "OUT: proportional2 Proportional | gain 10 | 0 | links  subtract2 \n",
      "----------------------------\n",
      "Level 3\n",
      "level3col0 PCTNode\n",
      "----------------------------\n",
      "REF: constant3 Constant | 1 \n",
      "PER: pole_velocity1 IndexedParameter | index 2 | 0 | links  CartPole-v1 \n",
      "COM: subtract3 Subtract | 0 | links  constant3 variable3 \n",
      "OUT: proportional3 Proportional | gain 10 | 0 | links  subtract3 \n",
      "----------------------------\n",
      "POST: greaterthan GreaterThan | 0 \n",
      "**************************\n"
     ]
    }
   ],
   "source": [
    "cartpole_hierarchy.summary(build=False)"
   ]
  },
  {
   "cell_type": "markdown",
   "metadata": {},
   "source": [
    "Sit back and observe the brilliance of your efforts. "
   ]
  },
  {
   "cell_type": "code",
   "execution_count": null,
   "metadata": {},
   "outputs": [],
   "source": []
  },
  {
   "cell_type": "code",
   "execution_count": null,
   "metadata": {},
   "outputs": [
    {
     "name": "stdout",
     "output_type": "stream",
     "text": [
      "cartpoleh PCTHierarchy\n",
      "**************************\n",
      "PRE: CartPole-v1 OpenAIGym | 0 | links  greaterthan \n",
      "Level 0\n",
      "level0col0 PCTNode\n",
      "----------------------------\n",
      "REF: constant Constant | 1 | links  proportional1 \n",
      "PER: cart_velocity IndexedParameter | index 1 | 0 | links  CartPole-v1 \n",
      "COM: subtract Subtract | 0 | links  constant variable \n",
      "OUT: force Integration | gain 2 slow 10  | 0 | links  subtract \n",
      "----------------------------\n",
      "Level 1\n",
      "level1col0 PCTNode\n",
      "----------------------------\n",
      "REF: constant1 Constant | 1 | links  proportional2 \n",
      "PER: cart_position IndexedParameter | index 0 | 0 | links  CartPole-v1 \n",
      "COM: subtract1 Subtract | 0 | links  constant1 variable1 \n",
      "OUT: proportional1 Proportional | gain 10 | 0 | links  subtract1 \n",
      "----------------------------\n",
      "Level 2\n",
      "level2col0 PCTNode\n",
      "----------------------------\n",
      "REF: constant2 Constant | 1 | links  proportional3 \n",
      "PER: pole_velocity IndexedParameter | index 3 | 0 | links  CartPole-v1 \n",
      "COM: subtract2 Subtract | 0 | links  constant2 variable2 \n",
      "OUT: proportional2 Proportional | gain 10 | 0 | links  subtract2 \n",
      "----------------------------\n",
      "Level 3\n",
      "level3col0 PCTNode\n",
      "----------------------------\n",
      "REF: constant3 Constant | 1 \n",
      "PER: pole_velocity1 IndexedParameter | index 2 | 0 | links  CartPole-v1 \n",
      "COM: subtract3 Subtract | 0 | links  constant3 variable3 \n",
      "OUT: proportional3 Proportional | gain 10 | 0 | links  subtract3 \n",
      "----------------------------\n",
      "POST: greaterthan GreaterThan | 0 \n",
      "**************************\n"
     ]
    }
   ],
   "source": [
    "cartpole_hierarchy.summary()"
   ]
  },
  {
   "cell_type": "code",
   "execution_count": null,
   "metadata": {},
   "outputs": [
    {
     "name": "stdout",
     "output_type": "stream",
     "text": [
      "-0.021 -0.230 0.036 0.286 1.0 False {} \n",
      "level0col0 1.000 -0.230 1.000 0.200 \n",
      "level1col0 1.000 -0.021 1.000 10.000 \n",
      "level2col0 1.000 0.286 1.000 10.000 \n",
      "level3col0 1.000 0.036 1.000 10.000 \n"
     ]
    },
    {
     "ename": "IndexError",
     "evalue": "list index out of range",
     "output_type": "error",
     "traceback": [
      "\u001b[1;31m---------------------------------------------------------------------------\u001b[0m",
      "\u001b[1;31mIndexError\u001b[0m                                Traceback (most recent call last)",
      "\u001b[1;32m<ipython-input-16-671a0572fdab>\u001b[0m in \u001b[0;36m<module>\u001b[1;34m\u001b[0m\n\u001b[1;32m----> 1\u001b[1;33m \u001b[0mcartpole_hierarchy\u001b[0m\u001b[1;33m(\u001b[0m\u001b[0mverbose\u001b[0m\u001b[1;33m=\u001b[0m\u001b[1;32mTrue\u001b[0m\u001b[1;33m)\u001b[0m\u001b[1;33m\u001b[0m\u001b[1;33m\u001b[0m\u001b[0m\n\u001b[0m",
      "\u001b[1;32mc:\\users\\ruper\\google drive\\nbdev\\pct\\pct\\hierarchy.py\u001b[0m in \u001b[0;36m__call__\u001b[1;34m(self, verbose)\u001b[0m\n\u001b[0;32m     78\u001b[0m             \u001b[1;31m#if verbose:\u001b[0m\u001b[1;33m\u001b[0m\u001b[1;33m\u001b[0m\u001b[1;33m\u001b[0m\u001b[0m\n\u001b[0;32m     79\u001b[0m             \u001b[1;31m#    print(func.get_name(), end =\" \")\u001b[0m\u001b[1;33m\u001b[0m\u001b[1;33m\u001b[0m\u001b[1;33m\u001b[0m\u001b[0m\n\u001b[1;32m---> 80\u001b[1;33m             \u001b[0mfunc\u001b[0m\u001b[1;33m(\u001b[0m\u001b[0mverbose\u001b[0m\u001b[1;33m)\u001b[0m\u001b[1;33m\u001b[0m\u001b[1;33m\u001b[0m\u001b[0m\n\u001b[0m\u001b[0;32m     81\u001b[0m \u001b[1;33m\u001b[0m\u001b[0m\n\u001b[0;32m     82\u001b[0m         \u001b[1;32mif\u001b[0m \u001b[0mverbose\u001b[0m\u001b[1;33m:\u001b[0m\u001b[1;33m\u001b[0m\u001b[1;33m\u001b[0m\u001b[0m\n",
      "\u001b[1;32mc:\\users\\ruper\\google drive\\nbdev\\pct\\pct\\functions.py\u001b[0m in \u001b[0;36m__call__\u001b[1;34m(self, verbose)\u001b[0m\n\u001b[0;32m    182\u001b[0m \u001b[1;33m\u001b[0m\u001b[0m\n\u001b[0;32m    183\u001b[0m     \u001b[1;32mdef\u001b[0m \u001b[0m__call__\u001b[0m\u001b[1;33m(\u001b[0m\u001b[0mself\u001b[0m\u001b[1;33m,\u001b[0m \u001b[0mverbose\u001b[0m\u001b[1;33m=\u001b[0m\u001b[1;32mFalse\u001b[0m\u001b[1;33m)\u001b[0m\u001b[1;33m:\u001b[0m\u001b[1;33m\u001b[0m\u001b[1;33m\u001b[0m\u001b[0m\n\u001b[1;32m--> 184\u001b[1;33m         \u001b[0minput\u001b[0m \u001b[1;33m=\u001b[0m \u001b[0mself\u001b[0m\u001b[1;33m.\u001b[0m\u001b[0mlinks\u001b[0m\u001b[1;33m[\u001b[0m\u001b[1;36m0\u001b[0m\u001b[1;33m]\u001b[0m\u001b[1;33m.\u001b[0m\u001b[0mget_value\u001b[0m\u001b[1;33m(\u001b[0m\u001b[1;33m)\u001b[0m\u001b[1;33m\u001b[0m\u001b[1;33m\u001b[0m\u001b[0m\n\u001b[0m\u001b[0;32m    185\u001b[0m         \u001b[1;32mif\u001b[0m \u001b[0minput\u001b[0m \u001b[1;33m>=\u001b[0m \u001b[0mself\u001b[0m\u001b[1;33m.\u001b[0m\u001b[0mthreshold\u001b[0m\u001b[1;33m:\u001b[0m\u001b[1;33m\u001b[0m\u001b[1;33m\u001b[0m\u001b[0m\n\u001b[0;32m    186\u001b[0m             \u001b[0mself\u001b[0m\u001b[1;33m.\u001b[0m\u001b[0mvalue\u001b[0m \u001b[1;33m=\u001b[0m \u001b[0mself\u001b[0m\u001b[1;33m.\u001b[0m\u001b[0mupper\u001b[0m\u001b[1;33m\u001b[0m\u001b[1;33m\u001b[0m\u001b[0m\n",
      "\u001b[1;31mIndexError\u001b[0m: list index out of range"
     ]
    }
   ],
   "source": [
    "cartpole_hierarchy(verbose=True)"
   ]
  },
  {
   "cell_type": "code",
   "execution_count": null,
   "metadata": {},
   "outputs": [],
   "source": []
  },
  {
   "cell_type": "code",
   "execution_count": null,
   "metadata": {},
   "outputs": [],
   "source": []
  },
  {
   "cell_type": "code",
   "execution_count": null,
   "metadata": {},
   "outputs": [],
   "source": []
  },
  {
   "cell_type": "code",
   "execution_count": null,
   "metadata": {},
   "outputs": [],
   "source": [
    "cartpole.close()"
   ]
  },
  {
   "cell_type": "code",
   "execution_count": null,
   "metadata": {},
   "outputs": [],
   "source": []
  },
  {
   "cell_type": "code",
   "execution_count": null,
   "metadata": {},
   "outputs": [],
   "source": []
  }
 ],
 "metadata": {
  "kernelspec": {
   "display_name": "Python 3",
   "language": "python",
   "name": "python3"
  }
 },
 "nbformat": 4,
 "nbformat_minor": 2
}
