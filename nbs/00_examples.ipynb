{
 "cells": [
  {
   "cell_type": "code",
   "execution_count": null,
   "metadata": {},
   "outputs": [
    {
     "name": "stdout",
     "output_type": "stream",
     "text": [
      "Cells will be exported to pct.examples,\n",
      "unless a different module is specified after an export flag: `%nbdev_export special.module`\n"
     ]
    }
   ],
   "source": [
    "from nbdev import *\n",
    "%nbdev_default_export examples"
   ]
  },
  {
   "cell_type": "code",
   "execution_count": null,
   "metadata": {},
   "outputs": [],
   "source": [
    "%nbdev_hide\n",
    "%reload_ext autoreload\n",
    "%autoreload 2"
   ]
  },
  {
   "cell_type": "markdown",
   "metadata": {},
   "source": [
    "# Examples\n",
    "\n",
    "> Examples of the PCT library in use."
   ]
  },
  {
   "cell_type": "code",
   "execution_count": null,
   "metadata": {},
   "outputs": [],
   "source": [
    "# hide\n",
    "import sys\n",
    "sys.path.append(\"..\")"
   ]
  },
  {
   "cell_type": "code",
   "execution_count": null,
   "metadata": {},
   "outputs": [],
   "source": [
    "import gym \n",
    "import os"
   ]
  },
  {
   "cell_type": "code",
   "execution_count": null,
   "metadata": {},
   "outputs": [],
   "source": [
    "os = os.name"
   ]
  },
  {
   "cell_type": "markdown",
   "metadata": {},
   "source": [
    "## Cartpole\n",
    "\n",
    "0       Cart Position             \n",
    "1       Cart Velocity             \n",
    "2       Pole Angle                \n",
    "3       Pole Angular Velocity \n",
    "        \n"
   ]
  },
  {
   "cell_type": "code",
   "execution_count": null,
   "metadata": {},
   "outputs": [],
   "source": [
    "from pct.hierarchy import PCTHierarchy\n",
    "from pct.functions import OpenAIGym\n",
    "from pct.functions import IndexedParameter"
   ]
  },
  {
   "cell_type": "code",
   "execution_count": null,
   "metadata": {},
   "outputs": [],
   "source": [
    "#env = gym.make(\"Acrobot-v1\")"
   ]
  },
  {
   "cell_type": "code",
   "execution_count": null,
   "metadata": {},
   "outputs": [
    {
     "name": "stdout",
     "output_type": "stream",
     "text": [
      "{'type': 'Proportional', 'name': 'proportional3', 'value': 0, 'links': {0: 'subtract3'}, 'gain': 10}\n",
      "cartpoleh PCTHierarchy\n",
      "**************************\n",
      "PRE: CartPole-v1 OpenAIGym | 0 | links  proportional3 \n",
      "Level 0\n",
      "level0col0 PCTNode\n",
      "----------------------------\n",
      "REF: constant Constant | 1 | links  proportional1 \n",
      "PER: cart_velocity IndexedParameter | 0 \n",
      "COM: subtract Subtract | 0 | links  constant variable \n",
      "OUT: proportional Proportional | gain 10 | 0 | links  subtract \n",
      "----------------------------\n",
      "Level 1\n",
      "level1col0 PCTNode\n",
      "----------------------------\n",
      "REF: constant1 Constant | 1 | links  proportional2 \n",
      "PER: cart_position IndexedParameter | 0 \n",
      "COM: subtract1 Subtract | 0 | links  constant1 variable1 \n",
      "OUT: proportional1 Proportional | gain 10 | 0 | links  subtract1 \n",
      "----------------------------\n",
      "Level 2\n",
      "level2col0 PCTNode\n",
      "----------------------------\n",
      "REF: constant2 Constant | 1 | links  proportional3 \n",
      "PER: pole_velocity IndexedParameter | 0 \n",
      "COM: subtract2 Subtract | 0 | links  constant2 variable2 \n",
      "OUT: proportional2 Proportional | gain 10 | 0 | links  subtract2 \n",
      "----------------------------\n",
      "Level 3\n",
      "level3col0 PCTNode\n",
      "----------------------------\n",
      "REF: constant3 Constant | 1 \n",
      "PER: pole_velocity1 IndexedParameter | 0 \n",
      "COM: subtract3 Subtract | 0 | links  constant3 variable3 \n",
      "OUT: proportional3 Proportional | gain 10 | 0 | links  subtract3 \n",
      "----------------------------\n",
      "POST: None\n",
      "**************************\n"
     ]
    }
   ],
   "source": [
    "cartpole_hierarchy = PCTHierarchy(levels=4, cols=1, name=\"cartpoleh\")\n",
    "cartpole = OpenAIGym(\"CartPole-v1\", name=\"CartPole-v1\", render=False)\n",
    "\n",
    "cartpole_hierarchy.insert_function(level=0, col=0, collection=\"perception\", function=IndexedParameter(index=1, name=\"cart_velocity\"))\n",
    "cartpole_hierarchy.insert_function(level=1, col=0, collection=\"perception\", function=IndexedParameter(index=0, name=\"cart_position\"))\n",
    "cartpole_hierarchy.insert_function(level=2, col=0, collection=\"perception\", function=IndexedParameter(index=3, name=\"pole_velocity\"))\n",
    "cartpole_hierarchy.insert_function(level=3, col=0, collection=\"perception\", function=IndexedParameter(index=2, name=\"pole_velocity\"))\n",
    "\n",
    "link = cartpole_hierarchy.get_output_function()\n",
    "print(link.get_config())\n",
    "cartpole.add_link(link)\n",
    "cartpole_hierarchy.summary(build=False)"
   ]
  },
  {
   "cell_type": "code",
   "execution_count": null,
   "metadata": {},
   "outputs": [
    {
     "name": "stdout",
     "output_type": "stream",
     "text": [
      "cartpoleh PCTHierarchy\n",
      "**************************\n",
      "PRE: CartPole-v1 OpenAIGym | 0 | links  proportional3 \n",
      "Level 0\n",
      "level0col0 PCTNode\n",
      "----------------------------\n",
      "REF: constant Constant | 1 | links  proportional1 \n",
      "PER: pole_velocity1 IndexedParameter | 0 \n",
      "COM: subtract Subtract | 0 | links  constant variable \n",
      "OUT: proportional Proportional | gain 10 | 0 | links  subtract \n",
      "----------------------------\n",
      "Level 1\n",
      "level1col0 PCTNode\n",
      "----------------------------\n",
      "REF: constant1 Constant | 1 | links  proportional2 \n",
      "PER: variable1 Variable | 0 | links  variable \n",
      "COM: subtract1 Subtract | 0 | links  constant1 variable1 \n",
      "OUT: proportional1 Proportional | gain 10 | 0 | links  subtract1 \n",
      "----------------------------\n",
      "Level 2\n",
      "level2col0 PCTNode\n",
      "----------------------------\n",
      "REF: constant2 Constant | 1 | links  proportional3 \n",
      "PER: variable2 Variable | 0 | links  variable1 \n",
      "COM: subtract2 Subtract | 0 | links  constant2 variable2 \n",
      "OUT: proportional2 Proportional | gain 10 | 0 | links  subtract2 \n",
      "----------------------------\n",
      "Level 3\n",
      "level3col0 PCTNode\n",
      "----------------------------\n",
      "REF: constant3 Constant | 1 \n",
      "PER: variable3 Variable | 0 | links  variable2 \n",
      "COM: subtract3 Subtract | 0 | links  constant3 variable3 \n",
      "OUT: proportional3 Proportional | gain 10 | 0 | links  subtract3 \n",
      "----------------------------\n",
      "POST: None\n",
      "**************************\n"
     ]
    }
   ],
   "source": [
    "cartpole_hierarchy.add_preprocessor(cartpole)\n",
    "cartpole_hierarchy.summary()"
   ]
  },
  {
   "cell_type": "code",
   "execution_count": null,
   "metadata": {},
   "outputs": [
    {
     "ename": "NameError",
     "evalue": "name 'acrobot_hierarchy' is not defined",
     "output_type": "error",
     "traceback": [
      "\u001b[1;31m---------------------------------------------------------------------------\u001b[0m",
      "\u001b[1;31mNameError\u001b[0m                                 Traceback (most recent call last)",
      "\u001b[1;32m<ipython-input-35-b66638ed9669>\u001b[0m in \u001b[0;36m<module>\u001b[1;34m\u001b[0m\n\u001b[1;32m----> 1\u001b[1;33m \u001b[0macrobot_hierarchy\u001b[0m\u001b[1;33m(\u001b[0m\u001b[1;33m)\u001b[0m\u001b[1;33m\u001b[0m\u001b[1;33m\u001b[0m\u001b[0m\n\u001b[0m",
      "\u001b[1;31mNameError\u001b[0m: name 'acrobot_hierarchy' is not defined"
     ]
    }
   ],
   "source": [
    "acrobot_hierarchy()"
   ]
  },
  {
   "cell_type": "code",
   "execution_count": null,
   "metadata": {},
   "outputs": [],
   "source": [
    "\"\"\"\n",
    "env = gym.make(\"Acrobot-v1\")\n",
    "env.reset()\n",
    "obs = env.step(1)\n",
    "\"\"\""
   ]
  },
  {
   "cell_type": "code",
   "execution_count": null,
   "metadata": {},
   "outputs": [],
   "source": []
  },
  {
   "cell_type": "code",
   "execution_count": null,
   "metadata": {},
   "outputs": [],
   "source": [
    "\"\"\"\n",
    "env.reset()\n",
    "alt=3\n",
    "\n",
    "for i in range(10):\n",
    "    alt+=1\n",
    "    for j in range(alt):\n",
    "        obs = env.step(1)\n",
    "        if os==\"nt\":\n",
    "            env.render()\n",
    "        print(f'{obs[0][0]:0.2f} {obs[0][1]:0.2f} {obs[0][2]:0.2f} {obs[0][3]:0.2f} {obs[0][4]:0.2f} {obs[0][5]:0.2f}')\n",
    "    for k in range(alt):\n",
    "        obs = env.step(-1)\n",
    "        if os==\"nt\":\n",
    "            env.render()\n",
    "        print(f'{obs[0][0]:0.2f} {obs[0][1]:0.2f} {obs[0][2]:0.2f} {obs[0][3]:0.2f} {obs[0][4]:0.2f} {obs[0][5]:0.2f}')\n",
    "\"\"\""
   ]
  },
  {
   "cell_type": "code",
   "execution_count": null,
   "metadata": {},
   "outputs": [],
   "source": [
    "acrobot.close()"
   ]
  },
  {
   "cell_type": "code",
   "execution_count": null,
   "metadata": {},
   "outputs": [],
   "source": []
  },
  {
   "cell_type": "code",
   "execution_count": null,
   "metadata": {},
   "outputs": [],
   "source": []
  }
 ],
 "metadata": {
  "kernelspec": {
   "display_name": "Python 3",
   "language": "python",
   "name": "python3"
  }
 },
 "nbformat": 4,
 "nbformat_minor": 2
}
