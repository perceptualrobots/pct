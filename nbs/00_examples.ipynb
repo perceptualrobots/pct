{
 "cells": [
  {
   "cell_type": "raw",
   "metadata": {},
   "source": [
    "---\n",
    "description: Examples of the PCT library in use.\n",
    "output-file: examples.html\n",
    "title: Examples\n",
    "\n",
    "---\n",
    "\n"
   ]
  },
  {
   "cell_type": "code",
   "execution_count": null,
   "metadata": {},
   "outputs": [],
   "source": [
    "%load_ext autoreload\n",
    "%autoreload 2"
   ]
  },
  {
   "cell_type": "code",
   "execution_count": null,
   "metadata": {},
   "outputs": [],
   "source": [
    "import gym \n",
    "render=False\n",
    "runs=1"
   ]
  },
  {
   "cell_type": "code",
   "execution_count": null,
   "metadata": {},
   "outputs": [],
   "source": [
    "#| gui\n",
    "render=True\n",
    "runs=2000"
   ]
  },
  {
   "cell_type": "markdown",
   "metadata": {},
   "source": [
    "## Cartpole\n",
    "\n",
    "Cartpole is an Open AI gym environment for the inverted pendulum problem. The goal is to keep the pole balanced, by moving the cart left or right.\n",
    "\n",
    "The environment provides observations (perceptions) for the state of the cart and pole.\n",
    "\n",
    "0    -   Cart Position             \n",
    "1    -   Cart Velocity             \n",
    "2    -   Pole Angle                \n",
    "3    -   Pole Angular Velocity \n",
    "        \n",
    "It takes one value, of 0 or 1, for applying a force to the left or right, respectively.\n",
    "\n",
    "The PCT solution is a four-level hierarchy for controlling the perceptions at goal values. Only one goal reference is manually set, the highest level which is the pole angle of 0. \n",
    "\n",
    "This example shows how a perceptual control hierarchy can be implemented with this library."
   ]
  },
  {
   "cell_type": "code",
   "execution_count": null,
   "metadata": {},
   "outputs": [],
   "source": [
    "import matplotlib.pyplot as plt\n",
    "import numpy as np\n",
    "from pct.hierarchy import PCTHierarchy\n",
    "from pct.putils import FunctionsList\n",
    "from pct.environments import CartPoleV1\n",
    "from pct.functions import IndexedParameter\n",
    "from pct.functions import Integration\n",
    "from pct.functions import GreaterThan\n",
    "from pct.functions import PassOn"
   ]
  },
  {
   "cell_type": "markdown",
   "metadata": {},
   "source": [
    "Create a hierarchy of 4 levels each with one node."
   ]
  },
  {
   "cell_type": "code",
   "execution_count": null,
   "metadata": {},
   "outputs": [],
   "source": [
    "cartpole_hierarchy = PCTHierarchy(levels=4, cols=1, name=\"cartpoleh\", build=False)\n",
    "namespace=cartpole_hierarchy.namespace\n",
    "cartpole_hierarchy.get_node(0, 0).name = 'cart_velocity_node'\n",
    "cartpole_hierarchy.get_node(1, 0).name = 'cart_position_node'\n",
    "cartpole_hierarchy.get_node(2, 0).name = 'pole_velocity_node'\n",
    "cartpole_hierarchy.get_node(3, 0).name = 'pole_angle_node'\n",
    "#FunctionsList.getInstance().report()\n",
    "#cartpole_hierarchy.summary(build=True)"
   ]
  },
  {
   "cell_type": "markdown",
   "metadata": {},
   "source": [
    "Create the Cartpole gym environment function. This will apply the \"action\" output from the hierarchy and provide the new observations."
   ]
  },
  {
   "cell_type": "code",
   "execution_count": null,
   "metadata": {},
   "outputs": [],
   "source": [
    "cartpole = CartPoleV1(name=\"CartPole-v1\", render=render, namespace=namespace, seed=1)"
   ]
  },
  {
   "cell_type": "markdown",
   "metadata": {},
   "source": [
    "Create functions for each of the observation parameters of the Cartpole environment. Insert them into the hierarchy at the desired places."
   ]
  },
  {
   "cell_type": "code",
   "execution_count": null,
   "metadata": {},
   "outputs": [],
   "source": [
    "cartpole_hierarchy.insert_function(level=0, col=0, collection=\"perception\", function=IndexedParameter(index=1, name=\"cart_velocity\", links=[cartpole], namespace=namespace))\n",
    "cartpole_hierarchy.insert_function(level=1, col=0, collection=\"perception\", function=IndexedParameter(index=0, name=\"cart_position\", links=[cartpole], namespace=namespace))\n",
    "cartpole_hierarchy.insert_function(level=2, col=0, collection=\"perception\", function=IndexedParameter(index=3, name=\"pole_velocity\", links=[cartpole], namespace=namespace))\n",
    "cartpole_hierarchy.insert_function(level=3, col=0, collection=\"perception\", function=IndexedParameter(index=2, name=\"pole_angle\", links=[cartpole], namespace=namespace))"
   ]
  },
  {
   "cell_type": "markdown",
   "metadata": {},
   "source": [
    "Link the references to the outputs of the level up."
   ]
  },
  {
   "cell_type": "code",
   "execution_count": null,
   "metadata": {},
   "outputs": [],
   "source": [
    "cartpole_hierarchy.insert_function(level=0, col=0, collection=\"reference\", function=PassOn(name=\"cart_velocity_reference\", links=['proportional1'], namespace=namespace))\n",
    "cartpole_hierarchy.insert_function(level=1, col=0, collection=\"reference\", function=PassOn(name=\"cart_position_reference\", links=['proportional2'], namespace=namespace))\n",
    "cartpole_hierarchy.insert_function(level=2, col=0, collection=\"reference\", function=PassOn(name=\"pole_velocity_reference\", links=['proportional3'], namespace=namespace))"
   ]
  },
  {
   "cell_type": "markdown",
   "metadata": {},
   "source": [
    "Set the highest level reference."
   ]
  },
  {
   "cell_type": "code",
   "execution_count": null,
   "metadata": {},
   "outputs": [],
   "source": [
    "top = cartpole_hierarchy.get_function(level=3, col=0, collection=\"reference\")\n",
    "top.set_name(\"pole_angle_reference\")\n",
    "top.set_value(0)"
   ]
  },
  {
   "cell_type": "markdown",
   "metadata": {},
   "source": [
    "Link the output of the hierarchy back to the Cartpole environment."
   ]
  },
  {
   "cell_type": "code",
   "execution_count": null,
   "metadata": {},
   "outputs": [
    {
     "name": "stdout",
     "output_type": "stream",
     "text": [
      "**************************\n",
      "cartpoleh PCTHierarchy 0da7897a-969e-11ed-8818-00155d0a26d9\n",
      "--------------------------\n",
      "PRE: None\n",
      "Level 0 Cols 1\n",
      "cart_velocity_node PCTNode\n",
      "----------------------------\n",
      "REF: cart_velocity_reference PassOn | 0 | links  proportional1 \n",
      "PER: cart_velocity IndexedParameter | index 1 | 0 | links  CartPole-v1 \n",
      "COM: subtract Subtract | 0 | links  cart_velocity_reference cart_velocity \n",
      "OUT: proportional Proportional | gain 1 | 0 | links  subtract \n",
      "----------------------------\n",
      "Level 1 Cols 1\n",
      "cart_position_node PCTNode\n",
      "----------------------------\n",
      "REF: cart_position_reference PassOn | 0 | links  proportional2 \n",
      "PER: cart_position IndexedParameter | index 0 | 0 | links  CartPole-v1 \n",
      "COM: subtract1 Subtract | 0 | links  cart_position_reference cart_position \n",
      "OUT: proportional1 Proportional | gain 1 | 0 | links  subtract1 \n",
      "----------------------------\n",
      "Level 2 Cols 1\n",
      "pole_velocity_node PCTNode\n",
      "----------------------------\n",
      "REF: pole_velocity_reference PassOn | 0 | links  proportional3 \n",
      "PER: pole_velocity IndexedParameter | index 3 | 0 | links  CartPole-v1 \n",
      "COM: subtract2 Subtract | 0 | links  pole_velocity_reference pole_velocity \n",
      "OUT: proportional2 Proportional | gain 1 | 0 | links  subtract2 \n",
      "----------------------------\n",
      "Level 3 Cols 1\n",
      "pole_angle_node PCTNode\n",
      "----------------------------\n",
      "REF: pole_angle_reference Constant | 0 \n",
      "PER: pole_angle IndexedParameter | index 2 | 0 | links  CartPole-v1 \n",
      "COM: subtract3 Subtract | 0 | links  pole_angle_reference pole_angle \n",
      "OUT: proportional3 Proportional | gain 1 | 0 | links  subtract3 \n",
      "----------------------------\n",
      "POST: None\n",
      "**************************\n"
     ]
    }
   ],
   "source": [
    "cartpole_hierarchy.summary(build=True)"
   ]
  },
  {
   "cell_type": "code",
   "execution_count": null,
   "metadata": {},
   "outputs": [],
   "source": [
    "cartpole_hierarchy.insert_function(level=0, col=0, collection=\"output\", function=Integration(gain=-0.05, slow=4, name=\"force\", links='subtract', namespace=namespace))"
   ]
  },
  {
   "cell_type": "markdown",
   "metadata": {},
   "source": [
    "Set the names and gains of the output functions. This also shows another way of getting a function, by name."
   ]
  },
  {
   "cell_type": "code",
   "execution_count": null,
   "metadata": {},
   "outputs": [],
   "source": [
    "FunctionsList.getInstance().get_function(namespace=namespace, name=\"proportional3\").set_name(\"pole_angle_output\")\n",
    "FunctionsList.getInstance().get_function(namespace=namespace, name=\"pole_angle_output\").set_property('gain', 3.5)\n",
    "\n",
    "FunctionsList.getInstance().get_function(namespace=namespace, name=\"proportional2\").set_name(\"pole_velocity_output\")\n",
    "FunctionsList.getInstance().get_function(namespace=namespace, name=\"pole_velocity_output\").set_property('gain', 0.5)\n",
    "\n",
    "FunctionsList.getInstance().get_function(namespace=namespace, name=\"proportional1\").set_name(\"cart_position_output\")\n",
    "FunctionsList.getInstance().get_function(namespace=namespace, name=\"cart_position_output\").set_property('gain', 2)"
   ]
  },
  {
   "cell_type": "markdown",
   "metadata": {},
   "source": [
    "Add a post function to convert the output to 1 or 0 as required by the Cartpole environment. "
   ]
  },
  {
   "cell_type": "code",
   "execution_count": null,
   "metadata": {},
   "outputs": [],
   "source": [
    "greaterthan = GreaterThan(threshold=0, upper=1, lower=0, links='force', namespace=namespace)\n",
    "cartpole_hierarchy.add_postprocessor(greaterthan)"
   ]
  },
  {
   "cell_type": "markdown",
   "metadata": {},
   "source": [
    "Add the cartpole function as one that is executed before the actual hierarchy."
   ]
  },
  {
   "cell_type": "code",
   "execution_count": null,
   "metadata": {},
   "outputs": [],
   "source": [
    "cartpole_hierarchy.add_preprocessor(cartpole)"
   ]
  },
  {
   "cell_type": "markdown",
   "metadata": {},
   "source": [
    "Set the output of the hierachy as the action input to the Cartpole environment. "
   ]
  },
  {
   "cell_type": "code",
   "execution_count": null,
   "metadata": {},
   "outputs": [],
   "source": [
    "#link = cartpole_hierarchy.get_output_function()\n",
    "cartpole.add_link(greaterthan)"
   ]
  },
  {
   "cell_type": "markdown",
   "metadata": {},
   "source": [
    "Sit back and observe the brilliance of your efforts. "
   ]
  },
  {
   "cell_type": "code",
   "execution_count": null,
   "metadata": {},
   "outputs": [],
   "source": [
    "cartpole_hierarchy.set_order(\"Down\")"
   ]
  },
  {
   "cell_type": "code",
   "execution_count": null,
   "metadata": {},
   "outputs": [
    {
     "name": "stdout",
     "output_type": "stream",
     "text": [
      "**************************\n",
      "cartpoleh PCTHierarchy 0da7897a-969e-11ed-8818-00155d0a26d9\n",
      "--------------------------\n",
      "PRE: "
     ]
    },
    {
     "ename": "TypeError",
     "evalue": "summary() got an unexpected keyword argument 'extra'",
     "output_type": "error",
     "traceback": [
      "\u001b[0;31m---------------------------------------------------------------------------\u001b[0m",
      "\u001b[0;31mTypeError\u001b[0m                                 Traceback (most recent call last)",
      "\u001b[0;32m/tmp/ipykernel_1241/2421649318.py\u001b[0m in \u001b[0;36m<module>\u001b[0;34m\u001b[0m\n\u001b[0;32m----> 1\u001b[0;31m \u001b[0mcartpole_hierarchy\u001b[0m\u001b[0;34m.\u001b[0m\u001b[0msummary\u001b[0m\u001b[0;34m(\u001b[0m\u001b[0;34m)\u001b[0m\u001b[0;34m\u001b[0m\u001b[0;34m\u001b[0m\u001b[0m\n\u001b[0m",
      "\u001b[0;32m/mnt/c/Users/ryoung/Versioning/python/nbdev/pct/pct/hierarchy.py\u001b[0m in \u001b[0;36msummary\u001b[0;34m(self, build, extra)\u001b[0m\n\u001b[1;32m    547\u001b[0m             \u001b[0mprint\u001b[0m\u001b[0;34m(\u001b[0m\u001b[0;34m\"None\"\u001b[0m\u001b[0;34m)\u001b[0m\u001b[0;34m\u001b[0m\u001b[0;34m\u001b[0m\u001b[0m\n\u001b[1;32m    548\u001b[0m         \u001b[0;32mfor\u001b[0m \u001b[0mfunc\u001b[0m \u001b[0;32min\u001b[0m \u001b[0mself\u001b[0m\u001b[0;34m.\u001b[0m\u001b[0mpreCollection\u001b[0m\u001b[0;34m:\u001b[0m\u001b[0;34m\u001b[0m\u001b[0;34m\u001b[0m\u001b[0m\n\u001b[0;32m--> 549\u001b[0;31m             \u001b[0mfunc\u001b[0m\u001b[0;34m.\u001b[0m\u001b[0msummary\u001b[0m\u001b[0;34m(\u001b[0m\u001b[0mextra\u001b[0m\u001b[0;34m=\u001b[0m\u001b[0mextra\u001b[0m\u001b[0;34m)\u001b[0m\u001b[0;34m\u001b[0m\u001b[0;34m\u001b[0m\u001b[0m\n\u001b[0m\u001b[1;32m    550\u001b[0m \u001b[0;34m\u001b[0m\u001b[0m\n\u001b[1;32m    551\u001b[0m \u001b[0;34m\u001b[0m\u001b[0m\n",
      "\u001b[0;31mTypeError\u001b[0m: summary() got an unexpected keyword argument 'extra'"
     ]
    }
   ],
   "source": [
    "cartpole_hierarchy.summary()"
   ]
  },
  {
   "cell_type": "code",
   "execution_count": null,
   "metadata": {},
   "outputs": [],
   "source": [
    "#| gui\n",
    "cartpole_hierarchy.draw(font_size=10, figsize=(8,12), move={'CartPole-v1': [-0.075, 0]}, node_size=1000, node_color='red')"
   ]
  },
  {
   "cell_type": "code",
   "execution_count": null,
   "metadata": {},
   "outputs": [],
   "source": [
    "cartpole_hierarchy.save(\"cartpole.json\")"
   ]
  },
  {
   "cell_type": "code",
   "execution_count": null,
   "metadata": {},
   "outputs": [],
   "source": [
    "import networkx as nx\n",
    "gr = cartpole_hierarchy.graph()\n",
    "print(nx.info(gr))\n",
    "print(gr.nodes())"
   ]
  },
  {
   "cell_type": "markdown",
   "metadata": {},
   "source": [
    "Run the hierarchy for 500 steps."
   ]
  },
  {
   "cell_type": "code",
   "execution_count": null,
   "metadata": {},
   "outputs": [],
   "source": [
    "cartpole_hierarchy.run(1,verbose=False)"
   ]
  },
  {
   "cell_type": "code",
   "execution_count": null,
   "metadata": {},
   "outputs": [],
   "source": [
    "cartpole_hierarchy.run(runs,verbose=False)"
   ]
  },
  {
   "cell_type": "code",
   "execution_count": null,
   "metadata": {},
   "outputs": [],
   "source": [
    "cartpole.close()"
   ]
  },
  {
   "cell_type": "code",
   "execution_count": null,
   "metadata": {},
   "outputs": [],
   "source": [
    "#| hide\n",
    "import nbdev; nbdev.nbdev_export()"
   ]
  }
 ],
 "metadata": {
  "kernelspec": {
   "display_name": "Python 3 (ipykernel)",
   "language": "python",
   "name": "python3"
  }
 },
 "nbformat": 4,
 "nbformat_minor": 2
}
