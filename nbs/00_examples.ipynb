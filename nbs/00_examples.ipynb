{
 "cells": [
  {
   "cell_type": "code",
   "execution_count": null,
   "metadata": {},
   "outputs": [
    {
     "name": "stdout",
     "output_type": "stream",
     "text": [
      "Cells will be exported to pct.examples,\n",
      "unless a different module is specified after an export flag: `%nbdev_export special.module`\n"
     ]
    }
   ],
   "source": [
    "from nbdev import *\n",
    "%nbdev_default_export examples"
   ]
  },
  {
   "cell_type": "code",
   "execution_count": null,
   "metadata": {},
   "outputs": [],
   "source": [
    "%nbdev_hide\n",
    "%reload_ext autoreload\n",
    "%autoreload 2"
   ]
  },
  {
   "cell_type": "markdown",
   "metadata": {},
   "source": [
    "# Examples\n",
    "\n",
    "> Examples of the PCT library in use."
   ]
  },
  {
   "cell_type": "code",
   "execution_count": null,
   "metadata": {},
   "outputs": [],
   "source": [
    "%nbdev_hide\n",
    "import sys\n",
    "sys.path.append(\"..\")"
   ]
  },
  {
   "cell_type": "code",
   "execution_count": null,
   "metadata": {},
   "outputs": [],
   "source": [
    "import gym \n",
    "import os"
   ]
  },
  {
   "cell_type": "code",
   "execution_count": null,
   "metadata": {},
   "outputs": [],
   "source": [
    "if os.name=='nt':\n",
    "    render=True\n",
    "else:\n",
    "    render=False  "
   ]
  },
  {
   "cell_type": "markdown",
   "metadata": {},
   "source": [
    "## Cartpole\n",
    "\n",
    "Cartpole is an Open AI gym environment for the inverted pendulum problem. The goal is to keep the pole balanced, by moving the cart left or right.\n",
    "\n",
    "The environment provides observations (perceptions) for the state of the cart and pole.\n",
    "\n",
    "0    -   Cart Position             \n",
    "1    -   Cart Velocity             \n",
    "2    -   Pole Angle                \n",
    "3    -   Pole Angular Velocity \n",
    "        \n",
    "It takes one value, of 0 or 1, for applying a force to the left or right, respectively.\n",
    "\n",
    "The PCT solution is a four-level hierarchy for controlling the perceptions at goal values. Only one goal reference is manually set, the highest level which is the pole angle of 0. \n",
    "\n",
    "This example shows how a perceptual control hierarchy can be implemented with this library."
   ]
  },
  {
   "cell_type": "code",
   "execution_count": null,
   "metadata": {},
   "outputs": [],
   "source": [
    "from pct.hierarchy import PCTHierarchy\n",
    "from pct.putils import FunctionsList\n",
    "from pct.functions import OpenAIGym\n",
    "from pct.functions import IndexedParameter\n",
    "from pct.functions import Integration\n",
    "from pct.functions import GreaterThan\n",
    "from pct.functions import PassOn"
   ]
  },
  {
   "cell_type": "markdown",
   "metadata": {},
   "source": [
    "Create a hierarchy of 4 levels each with one node."
   ]
  },
  {
   "cell_type": "code",
   "execution_count": null,
   "metadata": {},
   "outputs": [],
   "source": [
    "cartpole_hierarchy = PCTHierarchy(levels=4, cols=1, name=\"cartpoleh\", build=False)"
   ]
  },
  {
   "cell_type": "markdown",
   "metadata": {},
   "source": [
    "Create the Cartpole gym environment function. This will apply the \"action\" output from the hierarchy and provide the new observations."
   ]
  },
  {
   "cell_type": "code",
   "execution_count": null,
   "metadata": {},
   "outputs": [],
   "source": [
    "cartpole = OpenAIGym(\"CartPole-v1\", name=\"CartPole-v1\", render=render)"
   ]
  },
  {
   "cell_type": "markdown",
   "metadata": {},
   "source": [
    "Create functions for each of the observation parameters of the Cartpole environment. Insert them into the hierarchy at the desired places."
   ]
  },
  {
   "cell_type": "code",
   "execution_count": null,
   "metadata": {},
   "outputs": [],
   "source": [
    "cartpole_hierarchy.insert_function(level=0, col=0, collection=\"perception\", function=IndexedParameter(index=1, name=\"cart_velocity\", links=[cartpole]))\n",
    "cartpole_hierarchy.insert_function(level=1, col=0, collection=\"perception\", function=IndexedParameter(index=0, name=\"cart_position\", links=[cartpole]))\n",
    "cartpole_hierarchy.insert_function(level=2, col=0, collection=\"perception\", function=IndexedParameter(index=3, name=\"pole_velocity\", links=[cartpole]))\n",
    "cartpole_hierarchy.insert_function(level=3, col=0, collection=\"perception\", function=IndexedParameter(index=2, name=\"pole_angle\", links=[cartpole]))"
   ]
  },
  {
   "cell_type": "markdown",
   "metadata": {},
   "source": [
    "Link the references to the outputs of the level up."
   ]
  },
  {
   "cell_type": "code",
   "execution_count": null,
   "metadata": {},
   "outputs": [],
   "source": [
    "cartpole_hierarchy.insert_function(level=0, col=0, collection=\"reference\", function=PassOn(name=\"cart_velocity_reference\", links=['proportional1']))\n",
    "cartpole_hierarchy.insert_function(level=1, col=0, collection=\"reference\", function=PassOn(name=\"cart_position_reference\", links=['proportional2']))\n",
    "cartpole_hierarchy.insert_function(level=2, col=0, collection=\"reference\", function=PassOn(name=\"pole_velocity_reference\", links=['proportional3']))"
   ]
  },
  {
   "cell_type": "markdown",
   "metadata": {},
   "source": [
    "Set the highest level reference."
   ]
  },
  {
   "cell_type": "code",
   "execution_count": null,
   "metadata": {},
   "outputs": [],
   "source": [
    "top = cartpole_hierarchy.get_function(level=3, col=0, collection=\"reference\")\n",
    "top.set_name(\"pole_angle_reference\")\n",
    "top.set_value(0)"
   ]
  },
  {
   "cell_type": "markdown",
   "metadata": {},
   "source": [
    "Link the output of the hierarchy back to the Cartpole environment."
   ]
  },
  {
   "cell_type": "code",
   "execution_count": null,
   "metadata": {},
   "outputs": [],
   "source": [
    "cartpole_hierarchy.insert_function(level=0, col=0, collection=\"output\", function=Integration(gain=-0.05, slow=4, name=\"force\", links='subtract'))"
   ]
  },
  {
   "cell_type": "markdown",
   "metadata": {},
   "source": [
    "Set the names and gains of the output functions. This also shows another way of getting a function, by name."
   ]
  },
  {
   "cell_type": "code",
   "execution_count": null,
   "metadata": {},
   "outputs": [],
   "source": [
    "FunctionsList.getInstance().get_function(\"proportional3\").set_name(\"pole_angle_output\")\n",
    "FunctionsList.getInstance().get_function(\"pole_angle_output\").set_property('gain', 3.5)\n",
    "\n",
    "FunctionsList.getInstance().get_function(\"proportional2\").set_name(\"pole_velocity_output\")\n",
    "FunctionsList.getInstance().get_function(\"pole_velocity_output\").set_property('gain', 0.5)\n",
    "\n",
    "FunctionsList.getInstance().get_function(\"proportional1\").set_name(\"cart_position_output\")\n",
    "FunctionsList.getInstance().get_function(\"cart_position_output\").set_property('gain', 2)"
   ]
  },
  {
   "cell_type": "markdown",
   "metadata": {},
   "source": [
    "Add the cartpole function as one that is executed before the actual hierarchy."
   ]
  },
  {
   "cell_type": "code",
   "execution_count": null,
   "metadata": {},
   "outputs": [],
   "source": [
    "cartpole_hierarchy.add_preprocessor(cartpole)"
   ]
  },
  {
   "cell_type": "markdown",
   "metadata": {},
   "source": [
    "Add a post function to convert the output to 1 or 0 as required by the Cartpole environment. "
   ]
  },
  {
   "cell_type": "code",
   "execution_count": null,
   "metadata": {},
   "outputs": [],
   "source": [
    "cartpole_hierarchy.add_postprocessor(GreaterThan(threshold=0, upper=1, lower=0, links='force'))"
   ]
  },
  {
   "cell_type": "markdown",
   "metadata": {},
   "source": [
    "Set the output of the hierachy as the action input to the Cartpole environment. "
   ]
  },
  {
   "cell_type": "code",
   "execution_count": null,
   "metadata": {},
   "outputs": [],
   "source": [
    "link = cartpole_hierarchy.get_output_function()\n",
    "cartpole.add_link(link)"
   ]
  },
  {
   "cell_type": "markdown",
   "metadata": {},
   "source": [
    "Sit back and observe the brilliance of your efforts. "
   ]
  },
  {
   "cell_type": "code",
   "execution_count": null,
   "metadata": {},
   "outputs": [
    {
     "name": "stdout",
     "output_type": "stream",
     "text": [
      "cartpoleh PCTHierarchy\n",
      "**************************\n",
      "PRE: CartPole-v1 OpenAIGym | 0 | links  greaterthan \n",
      "Level 0\n",
      "level0col0 PCTNode\n",
      "----------------------------\n",
      "REF: cart_velocity_reference PassOn | 0 | links  cart_position_output \n",
      "PER: cart_velocity IndexedParameter | index 1 | 0 | links  CartPole-v1 \n",
      "COM: subtract Subtract | 0 | links  cart_velocity_reference cart_velocity \n",
      "OUT: force Integration | gain -0.05 slow 4  | 0 | links  subtract subtract \n",
      "----------------------------\n",
      "Level 1\n",
      "level1col0 PCTNode\n",
      "----------------------------\n",
      "REF: cart_position_reference PassOn | 0 | links  pole_velocity_output \n",
      "PER: cart_position IndexedParameter | index 0 | 0 | links  CartPole-v1 \n",
      "COM: subtract1 Subtract | 0 | links  cart_position_reference cart_position \n",
      "OUT: cart_position_output Proportional | gain 2 | 0 | links  subtract1 \n",
      "----------------------------\n",
      "Level 2\n",
      "level2col0 PCTNode\n",
      "----------------------------\n",
      "REF: pole_velocity_reference PassOn | 0 | links  pole_angle_output \n",
      "PER: pole_velocity IndexedParameter | index 3 | 0 | links  CartPole-v1 \n",
      "COM: subtract2 Subtract | 0 | links  pole_velocity_reference pole_velocity \n",
      "OUT: pole_velocity_output Proportional | gain 0.5 | 0 | links  subtract2 \n",
      "----------------------------\n",
      "Level 3\n",
      "level3col0 PCTNode\n",
      "----------------------------\n",
      "REF: pole_angle_reference Constant | 0 \n",
      "PER: pole_angle IndexedParameter | index 2 | 0 | links  CartPole-v1 \n",
      "COM: subtract3 Subtract | 0 | links  pole_angle_reference pole_angle \n",
      "OUT: pole_angle_output Proportional | gain 3.5 | 0 | links  subtract3 \n",
      "----------------------------\n",
      "POST: greaterthan GreaterThan | 0 | links  force \n",
      "**************************\n"
     ]
    }
   ],
   "source": [
    "cartpole_hierarchy.summary()"
   ]
  },
  {
   "cell_type": "code",
   "execution_count": null,
   "metadata": {},
   "outputs": [
    {
     "data": {
      "image/png": "[encoded data removed]",
      "text/plain": [
       "<Figure size 432x288 with 1 Axes>"
      ]
     },
     "metadata": {},
     "output_type": "display_data"
    }
   ],
   "source": [
    "cartpole_hierarchy.draw(prog='neato', node_size=500, font_size=8)"
   ]
  },
  {
   "cell_type": "code",
   "execution_count": null,
   "metadata": {},
   "outputs": [],
   "source": [
    "cartpole_hierarchy.set_order(\"Down\")"
   ]
  },
  {
   "cell_type": "markdown",
   "metadata": {},
   "source": [
    "Run the hierarchy for 500 steps."
   ]
  },
  {
   "cell_type": "code",
   "execution_count": null,
   "metadata": {},
   "outputs": [
    {
     "data": {
      "text/plain": [
       "0"
      ]
     },
     "execution_count": null,
     "metadata": {},
     "output_type": "execute_result"
    }
   ],
   "source": [
    "cartpole_hierarchy.run(500,verbose=False)"
   ]
  },
  {
   "cell_type": "code",
   "execution_count": null,
   "metadata": {},
   "outputs": [],
   "source": [
    "cartpole.close()"
   ]
  }
 ],
 "metadata": {
  "kernelspec": {
   "display_name": "Python 3",
   "language": "python",
   "name": "python3"
  }
 },
 "nbformat": 4,
 "nbformat_minor": 2
}
