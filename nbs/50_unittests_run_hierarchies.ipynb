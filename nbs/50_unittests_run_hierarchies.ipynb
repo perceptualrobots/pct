{
 "cells": [
  {
   "cell_type": "markdown",
   "id": "d213b822",
   "metadata": {},
   "source": [
    "---\n",
    "output-file: unittests_run_hierarchies.html\n",
    "title: unittests_run_hierarchies\n",
    "\n",
    "---"
   ]
  },
  {
   "cell_type": "code",
   "execution_count": null,
   "id": "322c3272",
   "metadata": {},
   "outputs": [],
   "source": [
    "%reload_ext autoreload\n",
    "%autoreload 2"
   ]
  },
  {
   "cell_type": "code",
   "execution_count": null,
   "id": "675e3655-4439-44ef-8282-69cc22479c4f",
   "metadata": {},
   "outputs": [],
   "source": [
    "import unittest\n",
    "from os import sep\n",
    "from pct.putils import Timer\n",
    "from pct.hierarchy import PCTHierarchy\n",
    "from pct.environment_processing import EnvironmentProcessingFactory"
   ]
  },
  {
   "cell_type": "code",
   "execution_count": null,
   "id": "5aad5972",
   "metadata": {},
   "outputs": [],
   "source": [
    "class TestRunWindTurbine(unittest.TestCase):\n",
    "\n",
    "    @classmethod\n",
    "    def setUpClass(cls):\n",
    "        pass\n",
    "\n",
    "\n",
    "    # def test_runMicrogrid(self):\n",
    "\n",
    "    #     file = \"G:\\\\My Drive\\\\data\\\\ga\\\\MicroGrid\\\\RewardError-RootMeanSquareError-Mode04\\\\ga-000.017-s001-3x5-m004-MG0001-9b7851aa082d1178ee05750f4b5815ce.properties\"\n",
    "    #     timer = Timer()\n",
    "    #     timer.start()\n",
    "    #     _, score = PCTHierarchy.run_from_file(file, env_props=None, seed=1, render=False, move=None, min=True, history=False, \n",
    "    #                                                 hpct_verbose= False, runs=None, plots_dir=None, early_termination=False)\n",
    "    #     print(f'Score={score:0.3f}')\n",
    "    #     timer.stop()\n",
    "    #     print(f'Mean time: {timer.mean()}')\n",
    "\n",
    "\n",
    "    def test_run_s_0538_03(self):\n",
    "\n",
    "        file = \"testfiles\" + sep + \"ga--1362.401-s003-4x3-m005-WT0538-bddf277b0f729cc630efacf91b9f494f.properties\"\n",
    "        timer = Timer()\n",
    "        timer.start()\n",
    "        _, score = PCTHierarchy.run_from_file(file, env_props=None, seed=1, render=False, move=None, min=True, history=False, \n",
    "                                                    hpct_verbose= False, runs=None, plots_dir=None, early_termination=False)\n",
    "        print(f'Score={score:0.3f}')\n",
    "        timer.stop()\n",
    "        print(f'Mean time: {timer.mean()}')\n",
    "\n",
    "        self.assertAlmostEqual(score, -1362.401471117955 )\n",
    "\n",
    "    def test_run_v_0416_01(self):\n",
    "\n",
    "        file = \"testfiles\" + sep + \"ga--2629.009-s001-5x5-m002-WT0416-31ecb19201d49e8c6f9dd1e172bd6944.properties\"\n",
    "        timer = Timer()\n",
    "        timer.start()\n",
    "        _, score = PCTHierarchy.run_from_file(file, env_props=None, seed=1, render=False, move=None, min=True, history=False, \n",
    "                                                    hpct_verbose= False, runs=None, plots_dir=None, early_termination=False)\n",
    "        print(f'Score={score:0.3f}')\n",
    "        timer.stop()\n",
    "        print(f'Mean time: {timer.mean()}')\n",
    "\n",
    "        self.assertAlmostEqual(score, -2629.008509888531 )\n",
    "\n",
    "\n",
    "\n",
    "\n"
   ]
  },
  {
   "cell_type": "code",
   "execution_count": null,
   "id": "598c6c87",
   "metadata": {},
   "outputs": [
    {
     "name": "stderr",
     "output_type": "stream",
     "text": [
      "test_run_s_0538_03 (__main__.TestRunWindTurbine) ... ERROR\n",
      "test_run_v_0416_01 (__main__.TestRunWindTurbine) ... ERROR\n",
      "\n",
      "======================================================================\n",
      "ERROR: test_run_s_0538_03 (__main__.TestRunWindTurbine)\n",
      "----------------------------------------------------------------------\n",
      "Traceback (most recent call last):\n",
      "  File \"C:\\Users\\ruper\\AppData\\Local\\Temp\\ipykernel_24956\\1137636973.py\", line 25, in test_run_s_0538_03\n",
      "    _, score = PCTHierarchy.run_from_file(file, env_props=None, seed=1, render=False, move=None, min=True, history=False,\n",
      "  File \"C:\\Users\\ruper\\Versioning\\python\\nbdev\\pct\\pct\\hierarchy.py\", line 1298, in run_from_file\n",
      "    environment_properties = environment_properties | enhanced_environment_properties\n",
      "TypeError: unsupported operand type(s) for |: 'dict' and 'NoneType'\n",
      "\n",
      "======================================================================\n",
      "ERROR: test_run_v_0416_01 (__main__.TestRunWindTurbine)\n",
      "----------------------------------------------------------------------\n",
      "Traceback (most recent call last):\n",
      "  File \"C:\\Users\\ruper\\AppData\\Local\\Temp\\ipykernel_24956\\1137636973.py\", line 38, in test_run_v_0416_01\n",
      "    _, score = PCTHierarchy.run_from_file(file, env_props=None, seed=1, render=False, move=None, min=True, history=False,\n",
      "  File \"C:\\Users\\ruper\\Versioning\\python\\nbdev\\pct\\pct\\hierarchy.py\", line 1298, in run_from_file\n",
      "    environment_properties = environment_properties | enhanced_environment_properties\n",
      "TypeError: unsupported operand type(s) for |: 'dict' and 'NoneType'\n",
      "\n",
      "----------------------------------------------------------------------\n",
      "Ran 2 tests in 0.048s\n",
      "\n",
      "FAILED (errors=2)\n"
     ]
    }
   ],
   "source": [
    "\n",
    "res = unittest.main(argv=[''], verbosity=3, exit=False)"
   ]
  },
  {
   "cell_type": "code",
   "execution_count": null,
   "id": "ecfbd22a",
   "metadata": {},
   "outputs": [
    {
     "ename": "AssertionError",
     "evalue": "",
     "output_type": "error",
     "traceback": [
      "\u001b[1;31m---------------------------------------------------------------------------\u001b[0m",
      "\u001b[1;31mAssertionError\u001b[0m                            Traceback (most recent call last)",
      "Cell \u001b[1;32mIn[20], line 2\u001b[0m\n\u001b[0;32m      1\u001b[0m \u001b[38;5;28;01massert\u001b[39;00m \u001b[38;5;28mlen\u001b[39m(res\u001b[38;5;241m.\u001b[39mresult\u001b[38;5;241m.\u001b[39mfailures) \u001b[38;5;241m==\u001b[39m \u001b[38;5;241m0\u001b[39m\n\u001b[1;32m----> 2\u001b[0m \u001b[38;5;28;01massert\u001b[39;00m \u001b[38;5;28mlen\u001b[39m(res\u001b[38;5;241m.\u001b[39mresult\u001b[38;5;241m.\u001b[39merrors) \u001b[38;5;241m==\u001b[39m \u001b[38;5;241m0\u001b[39m\n",
      "\u001b[1;31mAssertionError\u001b[0m: "
     ]
    }
   ],
   "source": [
    "assert len(res.result.failures) == 0\n",
    "assert len(res.result.errors) == 0\n"
   ]
  },
  {
   "cell_type": "code",
   "execution_count": null,
   "id": "b74fb4cd-84fb-4ab3-86a8-67400f7c6cb8",
   "metadata": {},
   "outputs": [],
   "source": []
  }
 ],
 "metadata": {
  "kernelspec": {
   "display_name": "python3",
   "language": "python",
   "name": "python3"
  }
 },
 "nbformat": 4,
 "nbformat_minor": 5
}
