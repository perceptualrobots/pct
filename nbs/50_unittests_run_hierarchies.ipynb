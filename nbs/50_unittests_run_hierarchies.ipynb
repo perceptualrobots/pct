{
 "cells": [
  {
   "cell_type": "markdown",
   "id": "d213b822",
   "metadata": {},
   "source": [
    "---\n",
    "output-file: unittests_run_hierarchies.html\n",
    "title: unittests_run_hierarchies\n",
    "\n",
    "---"
   ]
  },
  {
   "cell_type": "code",
   "execution_count": null,
   "id": "322c3272",
   "metadata": {},
   "outputs": [],
   "source": [
    "%reload_ext autoreload\n",
    "%autoreload 2"
   ]
  },
  {
   "cell_type": "code",
   "execution_count": null,
   "id": "675e3655-4439-44ef-8282-69cc22479c4f",
   "metadata": {},
   "outputs": [],
   "source": [
    "import unittest\n",
    "from os import sep\n",
    "from pct.putils import Timer\n",
    "from pct.hierarchy import PCTHierarchy\n",
    "from pct.environment_processing import EnvironmentProcessingFactory"
   ]
  },
  {
   "cell_type": "code",
   "execution_count": null,
   "id": "5aad5972",
   "metadata": {},
   "outputs": [],
   "source": [
    "class TestRunWindTurbine(unittest.TestCase):\n",
    "\n",
    "    @classmethod\n",
    "    def setUpClass(cls):\n",
    "        pass\n",
    "\n",
    "    def test_run_s_0538_03(self):\n",
    "\n",
    "        # file = \"testfiles\" + sep + \"data\" + sep + \"ga\" + sep + \"WindTurbine\"+sep+\"ga--1362.401-s003-4x3-m005-WT0538-bddf277b0f729cc630efacf91b9f494f.properties\"\n",
    "        file = \"testfiles\" + sep +  \"WindTurbine\"+sep+\"ga--1362.401-s003-4x3-m005-WT0538-bddf277b0f729cc630efacf91b9f494f.properties\"\n",
    "        timer = Timer()\n",
    "        timer.start()\n",
    "        _, score = PCTHierarchy.run_from_file(file, env_props=None, seed=1, render=False, move=None, min=True, history=False, \n",
    "                                                    hpct_verbose= False, runs=None, plots_dir=None, early_termination=False)\n",
    "        print(f'Score={score:0.3f}')\n",
    "        timer.stop()\n",
    "        print(f'Mean time: {timer.mean()}')\n",
    "\n",
    "        self.assertAlmostEqual(score, -1362.401471117955 )\n",
    "\n",
    "    def test_run_v_0416_01(self):\n",
    "\n",
    "        # file = \"testfiles\" + sep + \"data\" + sep + \"ga\" + sep + \"WindTurbine\"+sep+ \"ga--2629.009-s001-5x5-m002-WT0416-31ecb19201d49e8c6f9dd1e172bd6944.properties\"\n",
    "        file = \"testfiles\" + sep  + \"WindTurbine\"+sep+ \"ga--2629.009-s001-5x5-m002-WT0416-31ecb19201d49e8c6f9dd1e172bd6944.properties\"\n",
    "        timer = Timer()\n",
    "        timer.start()\n",
    "        _, score = PCTHierarchy.run_from_file(file, env_props=None, seed=1, render=False, move=None, min=True, history=False, \n",
    "                                                    hpct_verbose= False, runs=None, plots_dir=None, early_termination=False)\n",
    "        print(f'Score={score:0.3f}')\n",
    "        timer.stop()\n",
    "        print(f'Mean time: {timer.mean()}')\n",
    "\n",
    "        self.assertAlmostEqual(score, -2629.008509888531 )\n",
    "\n",
    "\n",
    "\n",
    "\n"
   ]
  },
  {
   "cell_type": "code",
   "execution_count": null,
   "id": "598c6c87",
   "metadata": {},
   "outputs": [
    {
     "name": "stderr",
     "output_type": "stream",
     "text": [
      "test_run_s_0538_03 (__main__.TestRunWindTurbine) ... ok\n",
      "test_run_v_0416_01 (__main__.TestRunWindTurbine) ... "
     ]
    },
    {
     "name": "stdout",
     "output_type": "stream",
     "text": [
      "Score=-1362.401\n",
      "Mean time: 1.0452264999999983\n"
     ]
    },
    {
     "name": "stderr",
     "output_type": "stream",
     "text": [
      "ok\n",
      "\n",
      "----------------------------------------------------------------------\n",
      "Ran 2 tests in 1.451s\n",
      "\n",
      "OK\n"
     ]
    },
    {
     "name": "stdout",
     "output_type": "stream",
     "text": [
      "Score=-2629.009\n",
      "Mean time: 0.40374640000000284\n"
     ]
    }
   ],
   "source": [
    "\n",
    "res = unittest.main(argv=[''], verbosity=3, exit=False)"
   ]
  },
  {
   "cell_type": "code",
   "execution_count": null,
   "id": "ecfbd22a",
   "metadata": {},
   "outputs": [],
   "source": [
    "assert len(res.result.failures) == 0\n",
    "assert len(res.result.errors) == 0\n"
   ]
  }
 ],
 "metadata": {
  "kernelspec": {
   "display_name": "python3",
   "language": "python",
   "name": "python3"
  }
 },
 "nbformat": 4,
 "nbformat_minor": 5
}
