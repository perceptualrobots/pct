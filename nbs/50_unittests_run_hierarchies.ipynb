{
 "cells": [
  {
   "cell_type": "markdown",
   "id": "d213b822",
   "metadata": {},
   "source": [
    "---\n",
    "output-file: unittests_run_hierarchies.html\n",
    "title: unittests_run_hierarchies\n",
    "\n",
    "---"
   ]
  },
  {
   "cell_type": "code",
   "execution_count": null,
   "id": "322c3272",
   "metadata": {},
   "outputs": [],
   "source": [
    "%reload_ext autoreload\n",
    "%autoreload 2"
   ]
  },
  {
   "cell_type": "code",
   "execution_count": null,
   "id": "675e3655-4439-44ef-8282-69cc22479c4f",
   "metadata": {},
   "outputs": [
    {
     "ename": "ModuleNotFoundError",
     "evalue": "No module named 'pct'",
     "output_type": "error",
     "traceback": [
      "\u001b[31m---------------------------------------------------------------------------\u001b[39m",
      "\u001b[31mModuleNotFoundError\u001b[39m                       Traceback (most recent call last)",
      "\u001b[36mCell\u001b[39m\u001b[36m \u001b[39m\u001b[32mIn[4]\u001b[39m\u001b[32m, line 3\u001b[39m\n\u001b[32m      1\u001b[39m \u001b[38;5;28;01mimport\u001b[39;00m\u001b[38;5;250m \u001b[39m\u001b[34;01munittest\u001b[39;00m\n\u001b[32m      2\u001b[39m \u001b[38;5;28;01mfrom\u001b[39;00m\u001b[38;5;250m \u001b[39m\u001b[34;01mos\u001b[39;00m\u001b[38;5;250m \u001b[39m\u001b[38;5;28;01mimport\u001b[39;00m sep\n\u001b[32m----> \u001b[39m\u001b[32m3\u001b[39m \u001b[38;5;28;01mfrom\u001b[39;00m\u001b[38;5;250m \u001b[39m\u001b[34;01mpct\u001b[39;00m\u001b[34;01m.\u001b[39;00m\u001b[34;01mputils\u001b[39;00m\u001b[38;5;250m \u001b[39m\u001b[38;5;28;01mimport\u001b[39;00m Timer\n\u001b[32m      4\u001b[39m \u001b[38;5;28;01mfrom\u001b[39;00m\u001b[38;5;250m \u001b[39m\u001b[34;01mpct\u001b[39;00m\u001b[34;01m.\u001b[39;00m\u001b[34;01mhierarchy\u001b[39;00m\u001b[38;5;250m \u001b[39m\u001b[38;5;28;01mimport\u001b[39;00m PCTHierarchy\n\u001b[32m      5\u001b[39m \u001b[38;5;28;01mfrom\u001b[39;00m\u001b[38;5;250m \u001b[39m\u001b[34;01mpct\u001b[39;00m\u001b[34;01m.\u001b[39;00m\u001b[34;01menvironment_processing\u001b[39;00m\u001b[38;5;250m \u001b[39m\u001b[38;5;28;01mimport\u001b[39;00m EnvironmentProcessingFactory\n",
      "\u001b[31mModuleNotFoundError\u001b[39m: No module named 'pct'"
     ]
    }
   ],
   "source": [
    "import unittest\n",
    "from os import sep\n",
    "from pct.putils import Timer\n",
    "from pct.hierarchy import PCTHierarchy\n",
    "from pct.environment_processing import EnvironmentProcessingFactory"
   ]
  },
  {
   "cell_type": "code",
   "execution_count": null,
   "id": "5aad5972",
   "metadata": {},
   "outputs": [],
   "source": [
    "class TestRunWindTurbine(unittest.TestCase):\n",
    "\n",
    "    @classmethod\n",
    "    def setUpClass(cls):\n",
    "        pass\n",
    "\n",
    "    def test_run_s_0538_03(self):\n",
    "\n",
    "        # file = \"testfiles\" + sep + \"data\" + sep + \"ga\" + sep + \"WindTurbine\"+sep+\"ga--1362.401-s003-4x3-m005-WT0538-bddf277b0f729cc630efacf91b9f494f.properties\"\n",
    "        file = \"testfiles\" + sep +  \"WindTurbine\"+sep+\"ga--1362.401-s003-4x3-m005-WT0538-bddf277b0f729cc630efacf91b9f494f.properties\"\n",
    "        timer = Timer()\n",
    "        timer.start()\n",
    "        _, score = PCTHierarchy.run_from_file(file, env_props=None, seed=1, render=False, move=None, min=True, history=False, \n",
    "                                                    hpct_verbose= False, runs=None, plots_dir=None, early_termination=False)\n",
    "        print(f'Score={score:0.3f}')\n",
    "        timer.stop()\n",
    "        print(f'Mean time: {timer.mean()}')\n",
    "\n",
    "        self.assertAlmostEqual(score, -1362.401471117955 )\n",
    "\n",
    "    def test_run_v_0416_01(self):\n",
    "\n",
    "        # file = \"testfiles\" + sep + \"data\" + sep + \"ga\" + sep + \"WindTurbine\"+sep+ \"ga--2629.009-s001-5x5-m002-WT0416-31ecb19201d49e8c6f9dd1e172bd6944.properties\"\n",
    "        file = \"testfiles\" + sep  + \"WindTurbine\"+sep+ \"ga--2629.009-s001-5x5-m002-WT0416-31ecb19201d49e8c6f9dd1e172bd6944.properties\"\n",
    "        timer = Timer()\n",
    "        timer.start()\n",
    "        _, score = PCTHierarchy.run_from_file(file, env_props=None, seed=1, render=False, move=None, min=True, history=False, \n",
    "                                                    hpct_verbose= False, runs=None, plots_dir=None, early_termination=False)\n",
    "        print(f'Score={score:0.3f}')\n",
    "        timer.stop()\n",
    "        print(f'Mean time: {timer.mean()}')\n",
    "\n",
    "        self.assertAlmostEqual(score, -2629.008509888531 )\n",
    "\n",
    "\n",
    "\n",
    "\n"
   ]
  },
  {
   "cell_type": "code",
   "execution_count": null,
   "id": "598c6c87",
   "metadata": {},
   "outputs": [
    {
     "name": "stderr",
     "output_type": "stream",
     "text": [
      "test_run_s_0538_03 (__main__.TestRunWindTurbine) ... ok\n",
      "test_run_v_0416_01 (__main__.TestRunWindTurbine) ... "
     ]
    },
    {
     "name": "stdout",
     "output_type": "stream",
     "text": [
      "Score=-1362.401\n",
      "Mean time: 1.0409185000000036\n"
     ]
    },
    {
     "name": "stderr",
     "output_type": "stream",
     "text": [
      "ok\n",
      "\n",
      "----------------------------------------------------------------------\n",
      "Ran 2 tests in 1.447s\n",
      "\n",
      "OK\n"
     ]
    },
    {
     "name": "stdout",
     "output_type": "stream",
     "text": [
      "Score=-2629.009\n",
      "Mean time: 0.4043508999999972\n"
     ]
    }
   ],
   "source": [
    "\n",
    "res = unittest.main(argv=[''], verbosity=3, exit=False)"
   ]
  },
  {
   "cell_type": "code",
   "execution_count": null,
   "id": "ecfbd22a",
   "metadata": {},
   "outputs": [],
   "source": [
    "assert len(res.result.failures) == 0\n",
    "assert len(res.result.errors) == 0\n"
   ]
  }
 ],
 "metadata": {
  "kernelspec": {
   "display_name": "python3",
   "language": "python",
   "name": "python3"
  }
 },
 "nbformat": 4,
 "nbformat_minor": 5
}
