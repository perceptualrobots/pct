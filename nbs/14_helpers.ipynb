{
 "cells": [
  {
   "cell_type": "raw",
   "metadata": {},
   "source": [
    "---\n",
    "output-file: helpers.html\n",
    "title: Helper classes\n",
    "\n",
    "---\n",
    "\n"
   ]
  },
  {
   "cell_type": "code",
   "execution_count": null,
   "metadata": {},
   "outputs": [
    {
     "name": "stdout",
     "output_type": "stream",
     "text": [
      "The autoreload extension is already loaded. To reload it, use:\n",
      "  %reload_ext autoreload\n"
     ]
    }
   ],
   "source": [
    "%load_ext autoreload\n",
    "%autoreload 2"
   ]
  },
  {
   "cell_type": "code",
   "execution_count": null,
   "metadata": {},
   "outputs": [],
   "source": [
    "#| default_exp helpers"
   ]
  },
  {
   "cell_type": "code",
   "execution_count": null,
   "metadata": {},
   "outputs": [],
   "source": [
    "#| export\n",
    "import math\n",
    "\n",
    "class ListChecker:\n",
    "    @staticmethod\n",
    "    def check_list_unchanged(float_list, rel_tol=1e-6, abs_tol=0.0):\n",
    "        if not float_list:  # Check if the list is empty\n",
    "            return True\n",
    "        first_value = float_list[0]\n",
    "        for value in float_list[1:]:\n",
    "            if not math.isclose(value, first_value, rel_tol=rel_tol, abs_tol=abs_tol):\n",
    "                return False\n",
    "        return True\n",
    "\n",
    "    @staticmethod\n",
    "    def check_integer_list_unchanged(int_list):\n",
    "        if not int_list:  # Check if the list is empty\n",
    "            return True\n",
    "        first_value = int_list[0]\n",
    "        for value in int_list[1:]:\n",
    "            if value != first_value:\n",
    "                return False\n",
    "        return True\n"
   ]
  },
  {
   "cell_type": "code",
   "execution_count": null,
   "metadata": {},
   "outputs": [
    {
     "name": "stdout",
     "output_type": "stream",
     "text": [
      "True\n",
      "True\n"
     ]
    }
   ],
   "source": [
    "\n",
    "# Example usage:\n",
    "float_list = [1.00000001, 1.00000002, 1.00000003]\n",
    "int_list = [1, 1, 1]\n",
    "\n",
    "print(ListChecker.check_list_unchanged(float_list))  # Should print: True (depending on the tolerance)\n",
    "print(ListChecker.check_integer_list_unchanged(int_list))  # Should print: True\n"
   ]
  },
  {
   "cell_type": "code",
   "execution_count": null,
   "metadata": {},
   "outputs": [],
   "source": [
    "#| hide\n",
    "import nbdev; nbdev.nbdev_export()"
   ]
  }
 ],
 "metadata": {
  "kernelspec": {
   "display_name": "python3",
   "language": "python",
   "name": "python3"
  }
 },
 "nbformat": 4,
 "nbformat_minor": 4
}
