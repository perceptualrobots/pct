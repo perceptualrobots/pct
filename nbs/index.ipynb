{
 "cells": [
  {
   "cell_type": "code",
   "execution_count": null,
   "metadata": {},
   "outputs": [],
   "source": [
    "#hide\n",
    "import sys\n",
    "sys.path.append(\"..\")"
   ]
  },
  {
   "cell_type": "markdown",
   "metadata": {},
   "source": [
    "# Perceptual Control Theory\n",
    "\n",
    "> A python library for creating perceptual control hierarchies."
   ]
  },
  {
   "cell_type": "markdown",
   "metadata": {},
   "source": [
    "With this library you can create and run simple or complex hierarchies of perceptual control systems as well as make use of the power of the Python platform and its rich set of packages.\n",
    "\n",
    "In the context of this library a single control system comprising a perceptual, reference, comparator and output function is called a Node. The functions therein can be configured by the user.\n",
    "\n",
    "A hierarchy is defined by a collection of nodes."
   ]
  },
  {
   "cell_type": "markdown",
   "metadata": {},
   "source": [
    "## Install"
   ]
  },
  {
   "cell_type": "markdown",
   "metadata": {},
   "source": [
    "`pip install pct`"
   ]
  },
  {
   "cell_type": "markdown",
   "metadata": {},
   "source": [
    "## Import\n",
    "\n",
    "Examples of importing the library functionality."
   ]
  },
  {
   "cell_type": "markdown",
   "metadata": {},
   "source": [
    "`import pct as p`"
   ]
  },
  {
   "cell_type": "markdown",
   "metadata": {},
   "source": [
    "`from pct.hierarchy import Hierarchy`"
   ]
  },
  {
   "cell_type": "markdown",
   "metadata": {},
   "source": [
    "`from pct import *`"
   ]
  },
  {
   "cell_type": "markdown",
   "metadata": {},
   "source": [
    "## How to use"
   ]
  },
  {
   "cell_type": "markdown",
   "metadata": {},
   "source": [
    "Import modules from the PCT library."
   ]
  },
  {
   "cell_type": "code",
   "execution_count": null,
   "metadata": {},
   "outputs": [],
   "source": [
    "from pct.nodes import PCTNode"
   ]
  },
  {
   "cell_type": "markdown",
   "metadata": {},
   "source": [
    "For the purposes of this example define a world model. This would not be required if the real world is used, or a simulation such as OpenAI Gym."
   ]
  },
  {
   "cell_type": "code",
   "execution_count": null,
   "metadata": {},
   "outputs": [],
   "source": [
    "def velocity_model(velocity,  force , mass):\n",
    "    velocity = velocity + force / mass\n",
    "    return velocity\n",
    "\n",
    "# World value\n",
    "mass = 50"
   ]
  },
  {
   "cell_type": "markdown",
   "metadata": {},
   "source": [
    "Create a PCTNode, a control system unit comprising a reference, perception, comparator and output function. The default value for the reference is 1. With the history flag set, the data for each iteration is recorded for later plotting. "
   ]
  },
  {
   "cell_type": "code",
   "execution_count": null,
   "metadata": {},
   "outputs": [],
   "source": [
    "pctnode = PCTNode(history=True)"
   ]
  },
  {
   "cell_type": "markdown",
   "metadata": {},
   "source": [
    "Call the node repeatedly to control the perception of velocity. With the verbose flag set, the control values are printed. In this case the printed values are the iteration number, the (velocity) reference, the perception, the error and the (force) output."
   ]
  },
  {
   "cell_type": "code",
   "execution_count": null,
   "metadata": {},
   "outputs": [
    {
     "name": "stdout",
     "output_type": "stream",
     "text": [
      "0 1.000 0.000 1.000 10.000 \n",
      "1 1.000 0.200 0.800 8.000 \n",
      "2 1.000 0.360 0.640 6.400 \n",
      "3 1.000 0.488 0.512 5.120 \n",
      "4 1.000 0.590 0.410 4.096 \n",
      "5 1.000 0.672 0.328 3.277 \n",
      "6 1.000 0.738 0.262 2.621 \n",
      "7 1.000 0.790 0.210 2.097 \n",
      "8 1.000 0.832 0.168 1.678 \n",
      "9 1.000 0.866 0.134 1.342 \n",
      "10 1.000 0.893 0.107 1.074 \n",
      "11 1.000 0.914 0.086 0.859 \n",
      "12 1.000 0.931 0.069 0.687 \n",
      "13 1.000 0.945 0.055 0.550 \n",
      "14 1.000 0.956 0.044 0.440 \n",
      "15 1.000 0.965 0.035 0.352 \n",
      "16 1.000 0.972 0.028 0.281 \n",
      "17 1.000 0.977 0.023 0.225 \n",
      "18 1.000 0.982 0.018 0.180 \n",
      "19 1.000 0.986 0.014 0.144 \n",
      "20 1.000 0.988 0.012 0.115 \n",
      "21 1.000 0.991 0.009 0.092 \n",
      "22 1.000 0.993 0.007 0.074 \n",
      "23 1.000 0.994 0.006 0.059 \n",
      "24 1.000 0.995 0.005 0.047 \n",
      "25 1.000 0.996 0.004 0.038 \n",
      "26 1.000 0.997 0.003 0.030 \n",
      "27 1.000 0.998 0.002 0.024 \n",
      "28 1.000 0.998 0.002 0.019 \n",
      "29 1.000 0.998 0.002 0.015 \n",
      "30 1.000 0.999 0.001 0.012 \n",
      "31 1.000 0.999 0.001 0.010 \n",
      "32 1.000 0.999 0.001 0.008 \n",
      "33 1.000 0.999 0.001 0.006 \n",
      "34 1.000 0.999 0.001 0.005 \n",
      "35 1.000 1.000 0.000 0.004 \n",
      "36 1.000 1.000 0.000 0.003 \n",
      "37 1.000 1.000 0.000 0.003 \n",
      "38 1.000 1.000 0.000 0.002 \n",
      "39 1.000 1.000 0.000 0.002 \n"
     ]
    }
   ],
   "source": [
    "for i in range(40):\n",
    "    print(i, end=\" \")\n",
    "    force = pctnode(verbose=True)\n",
    "    velocity = velocity_model(pctnode.get_perception_value(), force, mass)\n",
    "    pctnode.set_perception_value(velocity)"
   ]
  },
  {
   "cell_type": "markdown",
   "metadata": {},
   "source": [
    "Using the plotly library plot the data. The graph shows the perception being controlled to match the reference value."
   ]
  },
  {
   "cell_type": "markdown",
   "metadata": {},
   "source": [
    "```python\n",
    "import plotly.graph_objects as go\n",
    "fig = go.Figure(layout_title_text=\"Velocity Goal\")\n",
    "fig.add_trace(go.Scatter(y=pctnode.history.data['refcoll']['constant'], name=\"ref\"))\n",
    "fig.add_trace(go.Scatter(y=pctnode.history.data['percoll']['variable'], name=\"perc\"))\n",
    "```"
   ]
  },
  {
   "cell_type": "code",
   "execution_count": null,
   "metadata": {},
   "outputs": [
    {
     "data": {
      "image/png": "[encoded data removed]",
      "text/plain": [
       "<IPython.core.display.Image object>"
      ]
     },
     "execution_count": null,
     "metadata": {},
     "output_type": "execute_result"
    }
   ],
   "source": [
    "# This code is only for the purposes of displaying image of the graph generated by the above code.\n",
    "from IPython.display import Image\n",
    "Image(filename='pct_node_plot.png') "
   ]
  },
  {
   "cell_type": "markdown",
   "metadata": {},
   "source": [
    "This shows a very basic example of the use of the PCT library. For more advanced functionality see the API documentation at https://perceptualrobots.github.io/pct/."
   ]
  },
  {
   "cell_type": "code",
   "execution_count": null,
   "metadata": {},
   "outputs": [],
   "source": []
  }
 ],
 "metadata": {
  "kernelspec": {
   "display_name": "Python 3",
   "language": "python",
   "name": "python3"
  }
 },
 "nbformat": 4,
 "nbformat_minor": 2
}
