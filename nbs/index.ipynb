{
 "cells": [
  {
   "cell_type": "raw",
   "metadata": {},
   "source": [
    "---\n",
    "description: A python library for creating perceptual control hierarchies.\n",
    "output-file: index.html\n",
    "title: Perceptual Control Theory\n",
    "\n",
    "---\n",
    "\n"
   ]
  },
  {
   "cell_type": "code",
   "execution_count": null,
   "metadata": {},
   "outputs": [],
   "source": [
    "#| include: false\n",
    "#import sys"
   ]
  },
  {
   "cell_type": "code",
   "execution_count": null,
   "metadata": {},
   "outputs": [],
   "source": [
    "#| include: false\n",
    "#sys.path.append(\"..\")"
   ]
  },
  {
   "cell_type": "markdown",
   "metadata": {},
   "source": [
    "With this library you can create and run simple or complex hierarchies of perceptual control systems as well as make use of the power of the Python platform and its rich set of packages.\n",
    "\n",
    "In the context of this library a single control system comprising a perceptual, reference, comparator and output function is called a Node. The functions therein can be configured by the user.\n",
    "\n",
    "A hierarchy is defined by a collection of nodes."
   ]
  },
  {
   "cell_type": "markdown",
   "metadata": {},
   "source": [
    "## Install"
   ]
  },
  {
   "cell_type": "markdown",
   "metadata": {},
   "source": [
    "`pip install pct`"
   ]
  },
  {
   "cell_type": "markdown",
   "metadata": {},
   "source": [
    "## Import\n",
    "\n",
    "Examples of importing the library functionality."
   ]
  },
  {
   "cell_type": "markdown",
   "metadata": {},
   "source": [
    "`import pct as p`"
   ]
  },
  {
   "cell_type": "markdown",
   "metadata": {},
   "source": [
    "`from pct.hierarchy import Hierarchy`"
   ]
  },
  {
   "cell_type": "markdown",
   "metadata": {},
   "source": [
    "`from pct import *`"
   ]
  },
  {
   "cell_type": "markdown",
   "metadata": {},
   "source": [
    "## How to use"
   ]
  },
  {
   "cell_type": "markdown",
   "metadata": {},
   "source": [
    "Import modules from the PCT library."
   ]
  },
  {
   "cell_type": "code",
   "execution_count": null,
   "metadata": {},
   "outputs": [],
   "source": [
    "from pct.nodes import PCTNode"
   ]
  },
  {
   "cell_type": "markdown",
   "metadata": {},
   "source": [
    "For the purposes of this example define a world model. This would not be required if the real world is used, or a simulation such as OpenAI Gym."
   ]
  },
  {
   "cell_type": "code",
   "execution_count": null,
   "metadata": {},
   "outputs": [],
   "source": [
    "def velocity_model(velocity,  force , mass):\n",
    "    velocity = velocity + force / mass\n",
    "    return velocity\n",
    "\n",
    "# World value\n",
    "mass = 50"
   ]
  },
  {
   "cell_type": "markdown",
   "metadata": {},
   "source": [
    "Create a PCTNode, a control system unit comprising a reference, perception, comparator and output function. The default value for the reference is 1. With the history flag set, the data for each iteration is recorded for later plotting. "
   ]
  },
  {
   "cell_type": "code",
   "execution_count": null,
   "metadata": {},
   "outputs": [],
   "source": [
    "pctnode = PCTNode(history=True)"
   ]
  },
  {
   "cell_type": "markdown",
   "metadata": {},
   "source": [
    "Call the node repeatedly to control the perception of velocity. With the verbose flag set, the control values are printed. In this case the printed values are the iteration number, the (velocity) reference, the perception, the error and the (force) output."
   ]
  },
  {
   "cell_type": "code",
   "execution_count": null,
   "metadata": {},
   "outputs": [
    {
     "name": "stdout",
     "output_type": "stream",
     "text": [
      "0 0.000 0.000 0.000 0.000 \n",
      "1 0.000 0.000 0.000 0.000 \n",
      "2 0.000 0.000 0.000 0.000 \n",
      "3 0.000 0.000 0.000 0.000 \n",
      "4 0.000 0.000 0.000 0.000 \n",
      "5 0.000 0.000 0.000 0.000 \n",
      "6 0.000 0.000 0.000 0.000 \n",
      "7 0.000 0.000 0.000 0.000 \n",
      "8 0.000 0.000 0.000 0.000 \n",
      "9 0.000 0.000 0.000 0.000 \n",
      "10 0.000 0.000 0.000 0.000 \n",
      "11 0.000 0.000 0.000 0.000 \n",
      "12 0.000 0.000 0.000 0.000 \n",
      "13 0.000 0.000 0.000 0.000 \n",
      "14 0.000 0.000 0.000 0.000 \n",
      "15 0.000 0.000 0.000 0.000 \n",
      "16 0.000 0.000 0.000 0.000 \n",
      "17 0.000 0.000 0.000 0.000 \n",
      "18 0.000 0.000 0.000 0.000 \n",
      "19 0.000 0.000 0.000 0.000 \n",
      "20 0.000 0.000 0.000 0.000 \n",
      "21 0.000 0.000 0.000 0.000 \n",
      "22 0.000 0.000 0.000 0.000 \n",
      "23 0.000 0.000 0.000 0.000 \n",
      "24 0.000 0.000 0.000 0.000 \n",
      "25 0.000 0.000 0.000 0.000 \n",
      "26 0.000 0.000 0.000 0.000 \n",
      "27 0.000 0.000 0.000 0.000 \n",
      "28 0.000 0.000 0.000 0.000 \n",
      "29 0.000 0.000 0.000 0.000 \n",
      "30 0.000 0.000 0.000 0.000 \n",
      "31 0.000 0.000 0.000 0.000 \n",
      "32 0.000 0.000 0.000 0.000 \n",
      "33 0.000 0.000 0.000 0.000 \n",
      "34 0.000 0.000 0.000 0.000 \n",
      "35 0.000 0.000 0.000 0.000 \n",
      "36 0.000 0.000 0.000 0.000 \n",
      "37 0.000 0.000 0.000 0.000 \n",
      "38 0.000 0.000 0.000 0.000 \n",
      "39 0.000 0.000 0.000 0.000 \n"
     ]
    }
   ],
   "source": [
    "for i in range(40):\n",
    "    print(i, end=\" \")\n",
    "    force = pctnode(verbose=True)\n",
    "    velocity = velocity_model(pctnode.get_perception_value(), force, mass)\n",
    "    pctnode.set_perception_value(velocity)"
   ]
  },
  {
   "cell_type": "markdown",
   "metadata": {},
   "source": [
    "Using the plotly library plot the data. The graph shows the perception being controlled to match the reference value."
   ]
  },
  {
   "cell_type": "markdown",
   "metadata": {},
   "source": [
    "```python\n",
    "import plotly.graph_objects as go\n",
    "fig = go.Figure(layout_title_text=\"Velocity Goal\")\n",
    "fig.add_trace(go.Scatter(y=pctnode.history.data['refcoll']['constant'], name=\"ref\"))\n",
    "fig.add_trace(go.Scatter(y=pctnode.history.data['percoll']['variable'], name=\"perc\"))\n",
    "```"
   ]
  },
  {
   "cell_type": "markdown",
   "metadata": {},
   "source": [
    "This following code is only for the purposes of displaying image of the graph generated by the above code."
   ]
  },
  {
   "cell_type": "code",
   "execution_count": null,
   "metadata": {},
   "outputs": [],
   "source": [
    "from IPython.display import Image"
   ]
  },
  {
   "cell_type": "code",
   "execution_count": null,
   "metadata": {},
   "outputs": [
    {
     "data": {
      "text/html": [
       "<img src=\"http://www.perceptualrobots.com/wp-content/uploads/2020/08/pct_node_plot.png\"/>"
      ],
      "text/plain": [
       "<IPython.core.display.Image object>"
      ]
     },
     "execution_count": null,
     "metadata": {},
     "output_type": "execute_result"
    }
   ],
   "source": [
    "Image(url='http://www.perceptualrobots.com/wp-content/uploads/2020/08/pct_node_plot.png') "
   ]
  },
  {
   "cell_type": "markdown",
   "metadata": {},
   "source": [
    "This shows a very basic example of the use of the PCT library. For more advanced functionality see the API documentation at https://perceptualrobots.github.io/pct/."
   ]
  },
  {
   "cell_type": "code",
   "execution_count": null,
   "metadata": {},
   "outputs": [],
   "source": []
  }
 ],
 "metadata": {
  "kernelspec": {
   "display_name": "python3",
   "language": "python",
   "name": "python3"
  }
 },
 "nbformat": 4,
 "nbformat_minor": 2
}
