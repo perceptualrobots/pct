{
 "cells": [
  {
   "cell_type": "raw",
   "metadata": {},
   "source": [
    "---\n",
    "description: Class to run hierarchy configurations.\n",
    "output-file: pct_examples.html\n",
    "title: PCT Examples\n",
    "\n",
    "---\n",
    "\n"
   ]
  },
  {
   "cell_type": "code",
   "execution_count": 6,
   "metadata": {},
   "outputs": [
    {
     "name": "stdout",
     "output_type": "stream",
     "text": [
      "The autoreload extension is already loaded. To reload it, use:\n",
      "  %reload_ext autoreload\n"
     ]
    }
   ],
   "source": [
    "%load_ext autoreload\n",
    "%autoreload 2"
   ]
  },
  {
   "cell_type": "code",
   "execution_count": 7,
   "metadata": {},
   "outputs": [],
   "source": [
    "#| default_exp pct_examples"
   ]
  },
  {
   "cell_type": "code",
   "execution_count": 8,
   "metadata": {},
   "outputs": [],
   "source": [
    "#| export\n",
    "import json\n",
    "import matplotlib.pyplot as plt\n",
    "import networkx as nx\n",
    "\n"
   ]
  },
  {
   "cell_type": "code",
   "execution_count": 9,
   "metadata": {},
   "outputs": [],
   "source": [
    "#| export\n",
    "from pct.hierarchy import PCTHierarchy"
   ]
  },
  {
   "cell_type": "markdown",
   "metadata": {},
   "source": [
    "## PCTExamples Class\n",
    "\n",
    "The `PCTExamples` class is designed to load a PCTHierarchy configuration file and provide various methods to interact with the hierarchy."
   ]
  },
  {
   "cell_type": "code",
   "execution_count": 10,
   "metadata": {},
   "outputs": [],
   "source": [
    "#| export\n",
    "class PCTExamples:\n",
    "    def __init__(self, config_file):\n",
    "        with open(config_file, 'r') as f:\n",
    "            config = json.load(f)\n",
    "        self.hierarchy = PCTHierarchy.from_config(config)\n",
    "\n",
    "    def summary(self):\n",
    "        self.hierarchy.summary()\n",
    "\n",
    "    def get_config(self):\n",
    "        return self.hierarchy.get_config()\n",
    "\n",
    "    def draw(self, with_labels=True, with_edge_labels=False, font_size=12, font_weight='bold', font_color='black', \n",
    "                       color_mapping={'PL':'aqua','OL':'limegreen','CL':'goldenrod', 'RL':'red', 'I':'silver', 'A':'yellow'},\n",
    "                       node_size=500, arrowsize=25, align='horizontal', file=None, figsize=(8,8), move={}, draw_fig=True,\n",
    "                       node_color=None, layout={'r':2,'c':1,'p':2, 'o':0}, funcdata=False, interactive_mode=False, experiment=None):\n",
    "        self.hierarchy.draw(with_labels, with_edge_labels, font_size, font_weight, font_color, color_mapping, node_size, \n",
    "                            arrowsize, align, file, figsize, move, draw_fig, node_color, layout, funcdata, interactive_mode, experiment)\n",
    "\n",
    "    def run(self, steps=1, verbose=False, render=False):\n",
    "        self.hierarchy.get_preprocessor()[0].set_render(render)\n",
    "        return self.hierarchy.run(steps, verbose)\n"
   ]
  },
  {
   "cell_type": "code",
   "execution_count": 11,
   "metadata": {},
   "outputs": [],
   "source": [
    "#| hide\n",
    "import nbdev; nbdev.nbdev_export()"
   ]
  }
 ]
}
