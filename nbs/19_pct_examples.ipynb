{
 "cells": [
  {
   "cell_type": "raw",
   "metadata": {},
   "source": [
    "---\n",
    "description: Class to run hierarchy configurations.\n",
    "output-file: pct_examples.html\n",
    "title: PCT Examples\n",
    "\n",
    "---\n",
    "\n"
   ]
  },
  {
   "cell_type": "code",
   "execution_count": null,
   "metadata": {
    "vscode": {
     "languageId": "python"
    }
   },
   "outputs": [
    {
     "name": "stdout",
     "output_type": "stream",
     "text": [
      "The autoreload extension is already loaded. To reload it, use:\n",
      "  %reload_ext autoreload\n"
     ]
    }
   ],
   "source": [
    "%load_ext autoreload\n",
    "%autoreload 2"
   ]
  },
  {
   "cell_type": "code",
   "execution_count": null,
   "metadata": {
    "vscode": {
     "languageId": "python"
    }
   },
   "outputs": [],
   "source": [
    "#| default_exp pct_examples"
   ]
  },
  {
   "cell_type": "code",
   "execution_count": null,
   "metadata": {
    "vscode": {
     "languageId": "python"
    }
   },
   "outputs": [],
   "source": [
    "#| export\n",
    "import json\n",
    "import matplotlib.pyplot as plt\n",
    "import networkx as nx\n",
    "\n"
   ]
  },
  {
   "cell_type": "code",
   "execution_count": null,
   "metadata": {
    "vscode": {
     "languageId": "python"
    }
   },
   "outputs": [],
   "source": [
    "#| export\n",
    "from pct.hierarchy import PCTHierarchy\n",
    "from pct.environment_processing import EnvironmentProcessingFactory"
   ]
  },
  {
   "cell_type": "markdown",
   "metadata": {},
   "source": [
    "## PCTExamples Class\n",
    "\n",
    "The `PCTExamples` class is designed to load a PCTHierarchy configuration file and provide various methods to interact with the hierarchy."
   ]
  },
  {
   "cell_type": "code",
   "execution_count": null,
   "metadata": {
    "vscode": {
     "languageId": "python"
    }
   },
   "outputs": [],
   "source": [
    "#| export\n",
    "class PCTExamples:\n",
    "    \"\"\"\n",
    "    PCTExamples class provides methods to load a PCT hierarchy from a configuration file, \n",
    "    summarize the hierarchy, get the configuration, draw the hierarchy, run the hierarchy \n",
    "    for a specified number of steps, and close the environment.\n",
    "    Attributes:\n",
    "        hierarchy (PCTHierarchy): The loaded PCT hierarchy.\n",
    "        env (Environment): The environment associated with the PCT hierarchy.\n",
    "    \"\"\"\n",
    "\n",
    "    def __init__(self, config_file, min=True, early_termination=False, history=False, additional_props=None):\n",
    "        \"\"\"\n",
    "        Initializes the PCTExamples instance by loading the hierarchy from the given configuration file.\n",
    "        \"\"\"\n",
    "        self.config_file = config_file\n",
    "        self.hierarchy, self.env, self.environment_properties = PCTHierarchy.load_from_file(config_file, min=min, early_termination=early_termination, history=history, additional_props=additional_props)\n",
    "        self.history_data = None\n",
    "        self.history = history\n",
    "\n",
    "    def summary(self):\n",
    "        \"\"\"\n",
    "        Prints a summary of the hierarchy.\n",
    "        \"\"\"\n",
    "        self.hierarchy.summary()\n",
    "\n",
    "    def get_config(self):\n",
    "        \"\"\"\n",
    "        Returns the configuration of the hierarchy.\n",
    "        \"\"\"\n",
    "        return self.hierarchy.get_config()\n",
    "\n",
    "    def draw(self, with_labels=True, with_edge_labels=False, font_size=12, font_weight='bold', font_color='black', \n",
    "                       color_mapping={'PL':'aqua','OL':'limegreen','CL':'goldenrod', 'RL':'red', 'I':'silver', 'A':'yellow'},\n",
    "                       node_size=500, arrowsize=25, align='horizontal', file=None, figsize=(8,8), move={}, draw_fig=True,\n",
    "                       node_color=None, layout={'r':2,'c':1,'p':2, 'o':0}, funcdata=False, interactive_mode=False, experiment=None):\n",
    "        \"\"\"\n",
    "        Draws the hierarchy with the specified parameters and returns the figure.\n",
    "        \"\"\"\n",
    "        fig = self.hierarchy.draw(with_labels, with_edge_labels, font_size, font_weight, font_color, color_mapping, node_size, \n",
    "                            arrowsize, align, file, figsize, move, draw_fig, node_color, layout, funcdata, interactive_mode, experiment)\n",
    "        \n",
    "        return fig\n",
    "\n",
    "    def run(self, steps=1, verbose=False, render=False):\n",
    "        \"\"\"\n",
    "        Runs the hierarchy for the specified number of steps and returns the result.\n",
    "        \"\"\"\n",
    "        self.hierarchy.get_preprocessor()[0].set_render(render)\n",
    "        return self.hierarchy.run(steps, verbose)\n",
    "\n",
    "    def results(self, verbose=False, args=None, environment_properties=None):\n",
    "        print(self.environment_properties)\n",
    "        env_name = self.env.get_name()\n",
    "        env_proc = EnvironmentProcessingFactory.createEnvironmentProcessing(f'{env_name}EnvironmentProcessing')\n",
    "        allargs={'drive':'', 'verbosed':{'hpct_verbose':verbose}, 'max': False} | args\n",
    "        env_proc.set_properties(allargs)\n",
    "        env_proc.results(filepath=self.config_file, environment_properties=self.environment_properties|environment_properties, hierarchy=self.hierarchy)\n",
    "\n",
    "\n",
    "    def close(self):\n",
    "        \"\"\"\n",
    "        Closes the environment.\n",
    "        \"\"\"\n",
    "        self.env.close()\n",
    "\n",
    "    def get_history_keys(self):\n",
    "        \"\"\"\n",
    "        Returns the keys of the history data of the hierarchy.\n",
    "        \"\"\"\n",
    "        if self.history :\n",
    "            if self.history_data is None:\n",
    "                self.history_data = self.hierarchy.get_history_data()\n",
    "            return list(self.history_data.keys())\n",
    "        else:\n",
    "            print(\"History is not enabled\")\n",
    "\n",
    "        return None\n",
    "\n",
    "    def set_history_data(self):\n",
    "        \"\"\"\n",
    "        Sets the history data of the hierarchy.\n",
    "        \"\"\"\n",
    "        if self.history :\n",
    "\n",
    "            if self.history_data is None:\n",
    "                self.history_data = self.hierarchy.get_history_data()\n",
    "\n",
    "            return self.history_data\n",
    "        else:\n",
    "            print(\"History is not enabled\")\n",
    "\n",
    "        return None\n",
    "\n",
    "                \n",
    "    \n",
    "    def plot_history(self, plots=None, title_prefix='', plots_dir=None, plots_figsize=(12, 6), history_data=None):\n",
    "        \"\"\"\n",
    "        Plots the history of the hierarchy.\n",
    "        \"\"\"\n",
    "        print(plots)\n",
    "        plots = self.hierarchy.get_plots_config(plots, title_prefix)\n",
    "        print(plots)\n",
    "\n",
    "        from os import sep\n",
    "        for plot in plots:\n",
    "            print(plot)\n",
    "            plotfile=None\n",
    "            if plots_dir:\n",
    "                plotfile = plots_dir + sep + plot['title'] + '-' + str(self.hierarchy.get_namespace()) + '.png'\n",
    "            fig = self.hierarchy.hierarchy_plots(title=plot['title'], plot_items=plot['plot_items'], figsize=plots_figsize, file=plotfile, history=history_data)\n",
    "            # import matplotlib.pyplot as plt\n",
    "            # plt.close(fig)  # Close the figure here\n",
    "    \n",
    "        return fig\n",
    "    \n",
    "    def plot_single(self, plot=None, title_prefix='', plots_dir=None, plots_figsize=(12, 6), history_data=None):\n",
    "        \"\"\"\n",
    "        Plot one item of the history of the hierarchy.\n",
    "        \"\"\"\n",
    "\n",
    "        from os import sep\n",
    "\n",
    "        plotfile=None\n",
    "        if plots_dir:\n",
    "            plotfile = plots_dir + sep + plot['title'] + '-' + str(self.hierarchy.get_namespace()) + '.png'\n",
    "        fig = self.hierarchy.hierarchy_plots(title=plot['title'], plot_items=plot['plot_items'], figsize=plots_figsize, file=plotfile, history=history_data)\n",
    "            # import matplotlib.pyplot as plt\n",
    "            # plt.close(fig)  # Close the figure here\n",
    "    \n",
    "        return fig\n",
    "    \n",
    "\n",
    "    "
   ]
  },
  {
   "cell_type": "markdown",
   "metadata": {},
   "source": []
  },
  {
   "cell_type": "code",
   "execution_count": null,
   "metadata": {
    "vscode": {
     "languageId": "python"
    }
   },
   "outputs": [
    {
     "name": "stdout",
     "output_type": "stream",
     "text": [
      "{'series': 'steady', 'zero_threshold': 1, 'reward_type': 'power', 'keep_history': True}\n",
      "2024-12-20 18:41:16.960079 33944 Start\n",
      "Score=-1362.401 power=1362.401\n",
      "{'start': 1100, 'end': 2100, 'average yaw error_baseline_logs': 6.907099999999999, 'angle covered_trad_baseline_logs': 27.30000000000004, 'yaw count_trad_baseline_logs': 5, 'time_yawing_trad_baseline_logs': 0.43004300430043}\n",
      "{'start': 1100, 'end': 2100, 'average yaw error_baseline_simu': 6.5231, 'angle covered_trad_baseline_simu': 53.46000000000012, 'yaw count_trad_baseline_simu': 15, 'time_yawing_trad_baseline_simu': 2.0502050205020503}\n",
      "{'start_index': 1100, 'stop_index': 2100, 'power_trad': 1360.8065024307061, 'power_no_loss': 1394.8282594711568, 'power_control': 1362.4014711179545, 'average yaw error': 5.716155999999999, 'average reward': -1362.401471117955, 'angle covered': 33.0, 'yaw count': 5, 'time_yawing': 1.1011011011011012}\n",
      "average_yaw_error_decrease_base=17.24\n",
      "average_yaw_error_decrease_simu=12.37\n",
      "energy_gain = 0.12\n",
      "net_energy_gain = 0.14\n",
      "2024-12-20 18:41:56.219797 33944 End\n",
      "Elapsed time: 39.26\n"
     ]
    }
   ],
   "source": [
    "#| gui\n",
    "# Example of how to use the PCTExamples class\n",
    "pct = PCTExamples('testfiles/WindTurbine/ga--1362.401-s003-4x3-m005-WT0538-bddf277b0f729cc630efacf91b9f494f.properties', history=True, additional_props={'keep_history':True})\n",
    "pct.results(args={'comparisons':True, 'comparisons_print_plots':False}, environment_properties={'keep_history':True, 'range': 'test'})\n",
    "# pct.summary()\n",
    "# pct.run(1000)\n",
    "# print(pct.get_history_keys())\n",
    "# history_data = pct.set_history_data()\n",
    "# fig = pct.plot_single(plot={'plot_items': {'IWD': 'Direction', 'Action1sgsm': 'Output'}, 'title': 'Inputs'}, history_data=history_data)\n",
    "                \n"
   ]
  },
  {
   "cell_type": "code",
   "execution_count": null,
   "metadata": {
    "vscode": {
     "languageId": "python"
    }
   },
   "outputs": [],
   "source": [
    "#| gui\n",
    "# pct.draw( figsize=(10,10), font_size=6, funcdata=True, with_edge_labels=True, node_size=200)\n"
   ]
  },
  {
   "cell_type": "code",
   "execution_count": null,
   "metadata": {
    "vscode": {
     "languageId": "python"
    }
   },
   "outputs": [],
   "source": []
  },
  {
   "cell_type": "code",
   "execution_count": null,
   "metadata": {
    "vscode": {
     "languageId": "python"
    }
   },
   "outputs": [],
   "source": [
    "#| gui\n",
    "# Example of how to use the PCTExamples class\n",
    "pct = PCTExamples('testfiles/MountainCar/ga-000.331-s032-2x2-m004-cdf7cc1497ad143c0b04a3d9e72ab783.properties', early_termination=True, history=True)\n",
    "# pct.summary()\n",
    "pct.run(steps=500, render=True)\n",
    "pct.close()\n",
    "\n",
    "\n",
    "\n"
   ]
  },
  {
   "cell_type": "code",
   "execution_count": null,
   "metadata": {
    "vscode": {
     "languageId": "python"
    }
   },
   "outputs": [
    {
     "name": "stdout",
     "output_type": "stream",
     "text": [
      "['MountainCarContinuousV0', 'reward', 'IP', 'IV', 'Action1', 'RL0C0', 'PL0C0', 'CL0C0', 'OL0C0', 'RL0C1', 'PL0C1', 'CL0C1', 'OL0C1', 'RL1C0', 'PL1C0', 'CL1C0', 'OL1C0']\n"
     ]
    },
    {
     "data": {
      "image/png": "[encoded data removed]",
      "text/plain": [
       "<Figure size 1200x600 with 1 Axes>"
      ]
     },
     "metadata": {},
     "output_type": "display_data"
    }
   ],
   "source": [
    "#| gui\n",
    "print(pct.get_history_keys())\n",
    "history_data = pct.set_history_data()\n",
    "# pct.plot_history(plots='scEdges', title_prefix='')\n",
    "fig = pct.plot_single(plot= {'plot_items': {'PL1C0': 'Actual Position', 'RL1C0': 'Target Position'}, 'title': 'L1C0'}, history_data=history_data)\n",
    "\n"
   ]
  },
  {
   "cell_type": "code",
   "execution_count": null,
   "metadata": {
    "vscode": {
     "languageId": "python"
    }
   },
   "outputs": [],
   "source": [
    "\n",
    "# pct.draw( figsize=(10,10), font_size=6, funcdata=True, with_edge_labels=True, node_size=200)"
   ]
  },
  {
   "cell_type": "code",
   "execution_count": null,
   "metadata": {
    "vscode": {
     "languageId": "python"
    }
   },
   "outputs": [],
   "source": []
  },
  {
   "cell_type": "code",
   "execution_count": null,
   "metadata": {
    "vscode": {
     "languageId": "python"
    }
   },
   "outputs": [],
   "source": [
    "#| hide\n",
    "import nbdev; nbdev.nbdev_export()"
   ]
  },
  {
   "cell_type": "code",
   "execution_count": null,
   "metadata": {
    "vscode": {
     "languageId": "python"
    }
   },
   "outputs": [],
   "source": []
  }
 ],
 "metadata": {
  "kernelspec": {
   "display_name": "python3",
   "language": "python",
   "name": "python3"
  }
 },
 "nbformat": 4,
 "nbformat_minor": 2
}
