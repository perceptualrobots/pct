{
 "cells": [
  {
   "cell_type": "code",
   "execution_count": null,
   "id": "found-turtle",
   "metadata": {},
   "outputs": [
    {
     "name": "stdout",
     "output_type": "stream",
     "text": [
      "The autoreload extension is already loaded. To reload it, use:\n",
      "  %reload_ext autoreload\n"
     ]
    }
   ],
   "source": [
    "%load_ext autoreload\n",
    "%autoreload 2"
   ]
  },
  {
   "cell_type": "code",
   "execution_count": null,
   "id": "mature-baltimore",
   "metadata": {},
   "outputs": [],
   "source": [
    "#| default_exp network"
   ]
  },
  {
   "cell_type": "code",
   "execution_count": null,
   "id": "graphic-exhibit",
   "metadata": {},
   "outputs": [],
   "source": [
    "#| export\n",
    "import socket\n",
    "import json"
   ]
  },
  {
   "cell_type": "code",
   "execution_count": null,
   "id": "pointed-fusion",
   "metadata": {},
   "outputs": [],
   "source": [
    "#| export\n",
    "class Server():\n",
    "    def __init__(self, host='localhost', port=6666 , buf_size=1024):\n",
    "        self.buf_size = buf_size\n",
    "        with socket.socket(socket.AF_INET, socket.SOCK_STREAM) as s:\n",
    "            s.bind((host, port))\n",
    "            s.listen()\n",
    "            print(f\"Waiting for connection on {host}:{port}\")\n",
    "            self.connection, addr = s.accept()\n",
    "            print(f\"Connected by {addr}\")\n",
    "        self.open=True\n",
    "            \n",
    "    def get(self):\n",
    "        data = self.connection.recv(self.buf_size)\n",
    "        return data.decode()\n",
    "    \n",
    "    def put(self, data):\n",
    "        d = str.encode(data)\n",
    "        self.connection.sendall(d)\n",
    "\n",
    "    def get_dict(self):\n",
    "        data = self.connection.recv(self.buf_size)\n",
    "        dict = eval(data.decode())\n",
    "        return dict\n",
    "    \n",
    "    def put_dict(self, dict):\n",
    "        json_object = json.dumps(dict, indent = 4) \n",
    "        d = str.encode(json_object)\n",
    "        self.connection.sendall(d)\n",
    "\n",
    "    def isOpen(self):\n",
    "        return self.open\n",
    "\n",
    "    def finish(self):\n",
    "        self.open = False\n",
    "\n",
    "    def close(self):\n",
    "        self.open=False\n",
    "        self.connection.close()\n",
    "        print('Closed server connection')"
   ]
  },
  {
   "cell_type": "code",
   "execution_count": null,
   "id": "spiritual-nickel",
   "metadata": {},
   "outputs": [],
   "source": [
    "#| export\n",
    "class Client():\n",
    "    \n",
    "    def __init__(self, host='localhost', port=6666 , buf_size=1024):\n",
    "        self.buf_size = buf_size\n",
    "        self.connection = socket.create_connection((host,port))\n",
    "        self.open=True\n",
    "    \n",
    "    def get(self):\n",
    "        data = self.connection.recv(self.buf_size)\n",
    "        return data.decode()\n",
    "    \n",
    "    def put(self, data):\n",
    "        d = str.encode(data)\n",
    "        self.connection.sendall(d)\n",
    "\n",
    "    def get_dict(self):\n",
    "        data = self.connection.recv(self.buf_size)\n",
    "        dict = eval(data.decode())\n",
    "        return dict\n",
    "    \n",
    "    def put_dict(self, dict):\n",
    "        json_object = json.dumps(dict, indent = 4) \n",
    "        d = str.encode(json_object)\n",
    "        self.connection.sendall(d)\n",
    "\n",
    "    def isOpen(self):\n",
    "        return self.open\n",
    "\n",
    "    def finish(self):\n",
    "        self.open = False\n",
    "        \n",
    "    def close(self):\n",
    "        self.connection.close()\n",
    "        #print('Closed client connection')\n"
   ]
  },
  {
   "cell_type": "code",
   "execution_count": null,
   "id": "provincial-bleeding",
   "metadata": {},
   "outputs": [],
   "source": [
    "#| hide\n",
    "import nbdev; nbdev.nbdev_export()"
   ]
  }
 ],
 "metadata": {
  "kernelspec": {
   "display_name": "python3",
   "language": "python",
   "name": "python3"
  }
 },
 "nbformat": 4,
 "nbformat_minor": 5
}
