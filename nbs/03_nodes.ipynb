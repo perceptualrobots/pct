{
 "cells": [
  {
   "cell_type": "raw",
   "metadata": {},
   "source": [
    "---\n",
    "description: A node is a single control unit representing a feedback control loop.\n",
    "output-file: nodes.html\n",
    "title: Nodes\n",
    "\n",
    "---\n",
    "\n"
   ]
  },
  {
   "cell_type": "code",
   "execution_count": null,
   "metadata": {
    "vscode": {
     "languageId": "python"
    }
   },
   "outputs": [],
   "source": [
    "%load_ext autoreload\n",
    "%autoreload 2"
   ]
  },
  {
   "cell_type": "code",
   "execution_count": null,
   "metadata": {
    "vscode": {
     "languageId": "python"
    }
   },
   "outputs": [],
   "source": [
    "#| default_exp nodes"
   ]
  },
  {
   "cell_type": "markdown",
   "metadata": {},
   "source": [
    "## Overview\n",
    "A node comprises four functions, reference, perceptual, comparator and output. Executing the node will run each of the functions in the order indicated above and return the output value.\n",
    "\n",
    "The functions can actually be a collection of functions, each executed in the order they are added. This allows a chain of functions in case pre-processing is required, or post-processing in the case of the output."
   ]
  },
  {
   "cell_type": "code",
   "execution_count": null,
   "metadata": {
    "vscode": {
     "languageId": "python"
    }
   },
   "outputs": [],
   "source": [
    "#| export\n",
    "import enum\n",
    "import uuid\n",
    "from pct.putils import UniqueNamer\n",
    "from pct.putils import FunctionsList\n",
    "from pct.putils import dynamic_module_import\n",
    "from pct.functions import FunctionFactory\n",
    "from pct.functions import HPCTFUNCTION\n",
    "\n",
    "import json\n",
    "from pct.functions import *"
   ]
  },
  {
   "cell_type": "code",
   "execution_count": null,
   "metadata": {
    "vscode": {
     "languageId": "python"
    }
   },
   "outputs": [],
   "source": [
    "#| export\n",
    "class ControlUnitIndices(enum.IntEnum):\n",
    "   PER_INDEX = 0\n",
    "   OUT_INDEX = 1\n",
    "   REF_INDEX = 2\n",
    "   ACT_INDEX = 3"
   ]
  },
  {
   "cell_type": "code",
   "execution_count": null,
   "metadata": {
    "vscode": {
     "languageId": "python"
    }
   },
   "outputs": [],
   "source": [
    "#| export\n",
    "class PCTNode():\n",
    "    \"A single PCT controller.\"\n",
    "    def __init__(self, reference=None, perception=None, comparator=None, output=None, default=True, \n",
    "                 name=\"pctnode\", history=False, build_links=False, mode=0, namespace=None, **pargs):\n",
    "        # mode\n",
    "        # 0 - per:var, ref:con, com:sub, out:prop\n",
    "        # 1 - per:ws, ref:ws, com:sub, out:prop\n",
    "        # 2 - per:ws, ref:con, com:sub, out:prop\n",
    "        # 3 - per:ws, ref:ws, com:sub, out:ws\n",
    "        # 4 - per:ws, ref:con, com:sub, out:ws\n",
    "        # 5 - per:ws, ref:con, com:sub, out:smws\n",
    "        # 6 - per:ws, ref:ws, com:sub, out:smws\n",
    "        \n",
    "        if namespace ==None:\n",
    "            namespace = uuid.uuid1()\n",
    "        self.namespace=namespace\n",
    "        \n",
    "        self.links_built = False\n",
    "        self.history = None\n",
    "        if history:\n",
    "            self.history = PCTNodeData()\n",
    "        self.name = UniqueNamer.getInstance().get_name(self.namespace, name)\n",
    "        FunctionsList.getInstance().add_function(self.namespace, self)\n",
    "        if default:\n",
    "            if perception==None:\n",
    "                perception = FunctionFactory.createFunctionWithNamespace(PCTNode.get_function_type(mode, HPCTFUNCTION.PERCEPTION), namespace=namespace)\n",
    "            self.perceptionCollection = [perception]\n",
    "\n",
    "            if reference==None:\n",
    "                reference = FunctionFactory.createFunctionWithNamespace(PCTNode.get_function_type(mode, HPCTFUNCTION.REFERENCE), namespace=namespace)\n",
    "            self.referenceCollection = [reference]\n",
    "\n",
    "            if comparator==None:\n",
    "                comparator = FunctionFactory.createFunctionWithNamespace(PCTNode.get_function_type(mode, HPCTFUNCTION.COMPARATOR), namespace=namespace)\n",
    "            self.comparatorCollection = [comparator]\n",
    "\n",
    "            if output==None:\n",
    "                output = FunctionFactory.createFunctionWithNamespace(PCTNode.get_function_type(mode, HPCTFUNCTION.OUTPUT), namespace=namespace)\n",
    "            self.outputCollection = [output]\n",
    "            \n",
    "            if build_links:\n",
    "                self.build_links()\n",
    "    \n",
    "    def __call__(self, verbose=False):\n",
    "        if not self.links_built:\n",
    "            self.build_links()\n",
    "            \n",
    "        for referenceFunction in self.referenceCollection:\n",
    "            referenceFunction(verbose)               \n",
    "\n",
    "        for perceptionFunction in self.perceptionCollection:\n",
    "            perceptionFunction(verbose)\n",
    "                    \n",
    "        for comparatorFunction in self.comparatorCollection:\n",
    "            comparatorFunction(verbose)\n",
    "\n",
    "        for outputFunction in self.outputCollection:\n",
    "            outputFunction(verbose)\n",
    "            \n",
    "        self.output = self.outputCollection[-1].get_value()\n",
    "        \n",
    "        if verbose:\n",
    "            print()\n",
    "            \n",
    "        if not self.history == None:\n",
    "            self.history.add_data(self)\n",
    "            \n",
    "        return self.output\n",
    "    \n",
    "    def __str__(self):\n",
    "        return str(self.__dict__)\n",
    "    \n",
    "    def get_summary(self):\n",
    "        \n",
    "        for referenceFunction in self.referenceCollection:\n",
    "            r= referenceFunction.output_string()               \n",
    "\n",
    "        for perceptionFunction in self.perceptionCollection:\n",
    "            p = perceptionFunction.output_string()\n",
    "                    \n",
    "        for comparatorFunction in self.comparatorCollection:\n",
    "            c = comparatorFunction.output_string()\n",
    "\n",
    "        for outputFunction in self.outputCollection:\n",
    "            o = outputFunction.output_string()\n",
    "        \n",
    "        return \" \".join((r, p, c, o))\n",
    "    \n",
    "    def set_name(self, name):\n",
    "        self.name=name\n",
    "    \n",
    "    def get_name(self):\n",
    "        return self.name\n",
    "\n",
    "    def get_function_from_collection(self, collection, position=-1):\n",
    "        if collection == HPCTFUNCTION.REFERENCE:\n",
    "            func = self.referenceCollection[position]\n",
    "            return func \n",
    "\n",
    "        if collection == HPCTFUNCTION.PERCEPTION:\n",
    "            func = self.perceptionCollection[position]\n",
    "            return func \n",
    " \n",
    "        if collection == HPCTFUNCTION.COMPARATOR:\n",
    "            func = self.comparatorCollection[position]\n",
    "            return func \n",
    "        \n",
    "        if collection == HPCTFUNCTION.OUTPUT:\n",
    "            func = self.outputCollection[position]\n",
    "            return func \n",
    "        \n",
    "        return func \n",
    "    \n",
    "    def reset(self):\n",
    "        for func in self.referenceCollection:\n",
    "            func.reset_value()               \n",
    "\n",
    "        for func in self.perceptionCollection:\n",
    "            func.reset_value()               \n",
    "                    \n",
    "        for func in self.comparatorCollection:\n",
    "            func.reset_value()              \n",
    "\n",
    "        for func in self.outputCollection:\n",
    "            func.reset_value()               \n",
    "    \n",
    "\n",
    "    \n",
    "    def delete_contents(self):\n",
    "        for func in self.referenceCollection:\n",
    "            FunctionsList.getInstance().delete_function(func.namespace, func.name)\n",
    "\n",
    "        for func in self.perceptionCollection:\n",
    "            FunctionsList.getInstance().delete_function(func.namespace, func.name)\n",
    "                    \n",
    "        for func in self.comparatorCollection:\n",
    "            FunctionsList.getInstance().delete_function(func.namespace, func.name)\n",
    "\n",
    "        for func in self.outputCollection:\n",
    "            FunctionsList.getInstance().delete_function(func.namespace, func.name)\n",
    "            \n",
    "    def reset_checklinks(self, val=True):\n",
    "        for func in self.referenceCollection:\n",
    "            func.reset_checklinks(val)               \n",
    "\n",
    "        for func in self.perceptionCollection:\n",
    "            func.reset_checklinks(val)               \n",
    "                    \n",
    "        for func in self.comparatorCollection:\n",
    "            func.reset_checklinks(val)               \n",
    "\n",
    "        for func in self.outputCollection:\n",
    "            func.reset_checklinks(val)               \n",
    "                    \n",
    "\n",
    "    def get_function(self, collection, position=-1):\n",
    "        if collection == \"reference\":\n",
    "            func = self.referenceCollection[position]\n",
    "\n",
    "        if collection == \"perception\":\n",
    "            func = self.perceptionCollection[position]\n",
    " \n",
    "        if collection == \"comparator\":\n",
    "            func = self.comparatorCollection[position]\n",
    "        \n",
    "        if collection == \"output\":\n",
    "            func = self.outputCollection[position]\n",
    "        \n",
    "        return func \n",
    "\n",
    "    def get_perception_value(self, position=-1):\n",
    "        return self.perceptionCollection[position].get_value()\n",
    "    \n",
    "    def set_perception_value(self, value, position=-1):\n",
    "        self.perceptionCollection[position].set_value(value)\n",
    "    \n",
    "    def add_link(self, collection, link):\n",
    "        if collection == \"reference\":\n",
    "            self.referenceCollection[0].add_link(link)\n",
    "\n",
    "        if collection == \"perception\":\n",
    "            self.perceptionCollection[0].add_link(link)\n",
    " \n",
    "        if collection == \"comparator\":\n",
    "            self.comparatorCollection[-1].add_link(link)\n",
    "        \n",
    "        if collection == \"output\":\n",
    "            self.outputCollection[-1].add_link(link)\n",
    "            \n",
    "    # build links between each other in a collection, between com and ref/per and from out to com\n",
    "    def build_links(self):\n",
    "        if len(self.referenceCollection)>0:\n",
    "            link = self.referenceCollection[0]\n",
    "            for i in range (1, len(self.referenceCollection)):\n",
    "                self.referenceCollection[i].add_link(link)               \n",
    "                link = self.referenceCollection[i]\n",
    "\n",
    "        if len(self.perceptionCollection)>0:\n",
    "            link = self.perceptionCollection[0]\n",
    "            for i in range (1, len(self.perceptionCollection)):\n",
    "                self.perceptionCollection[i].add_link(link)               \n",
    "                link = self.perceptionCollection[i]\n",
    "\n",
    "        self.comparatorCollection[0].add_link(self.referenceCollection[-1])\n",
    "        self.comparatorCollection[0].add_link(self.perceptionCollection[-1])\n",
    "\n",
    "        if len(self.comparatorCollection)>1:\n",
    "            link = self.comparatorCollection[1]\n",
    "            for i in range (1, len(self.comparatorCollection)):\n",
    "                self.comparatorCollection[i].add_link(link)               \n",
    "                link = self.comparatorCollection[i]\n",
    "\n",
    "        self.outputCollection[0].add_link(self.comparatorCollection[-1])\n",
    "\n",
    "        if len(self.outputCollection)>0:\n",
    "            link = self.outputCollection[0]\n",
    "            for i in range (1, len(self.outputCollection)):\n",
    "                self.outputCollection[i].add_link(link)               \n",
    "                link = self.outputCollection[i]\n",
    "\n",
    "        self.links_built = True\n",
    "\n",
    "    def run(self, steps=None, verbose=False):\n",
    "        for i in range(steps):\n",
    "            out = self(verbose)\n",
    "        return out\n",
    "    \n",
    "    def set_output(self, value):\n",
    "        self.outputCollection[-1].set_value(value)\n",
    "        \n",
    "    def get_output_function(self):\n",
    "        return self.outputCollection[-1]\n",
    "\n",
    "    def get_reference_function(self):\n",
    "        return self.referenceCollection[-1]\n",
    "\n",
    "    def get_perception_function(self):\n",
    "        return self.perceptionCollection[-1]\n",
    "\n",
    "    def set_reference(self, value):\n",
    "        self.referenceCollection[-1].set_value(value)\n",
    "\n",
    "    \n",
    "    def set_function_name(self, collection, name, position=-1):\n",
    "        if collection == \"reference\":\n",
    "            self.referenceCollection[position].set_name(name)\n",
    "\n",
    "        if collection == \"perception\":\n",
    "            self.perceptionCollection[position].set_name(name)\n",
    " \n",
    "        if collection == \"comparator\":\n",
    "            self.comparatorCollection[position].set_name(name)\n",
    "        \n",
    "        if collection == \"output\":\n",
    "            self.outputCollection[position].set_name(name)\n",
    "            \n",
    "\n",
    "    def replace_function(self, collection, function, position=-1):\n",
    "        if collection == \"reference\":\n",
    "            self.referenceCollection[position] = function\n",
    "\n",
    "        if collection == \"perception\":\n",
    "            self.perceptionCollection[position]  = function\n",
    " \n",
    "        if collection == \"comparator\":\n",
    "            self.comparatorCollection[position] = function\n",
    "        \n",
    "        if collection == \"output\":\n",
    "            self.outputCollection[position] = function\n",
    "            \n",
    "        \n",
    "\n",
    "    def insert_function(self, collection, function, position=-1):\n",
    "        if collection == \"reference\":\n",
    "            self.referenceCollection[position] = function\n",
    "\n",
    "        if collection == \"perception\":\n",
    "            self.perceptionCollection[position]  = function\n",
    " \n",
    "        if collection == \"comparator\":\n",
    "            self.comparatorCollection[position] = function\n",
    "        \n",
    "        if collection == \"output\":\n",
    "            self.outputCollection[position] = function\n",
    "\n",
    "\n",
    "    def check_namespace(self, higher_namespace=None):\n",
    "\n",
    "        if higher_namespace:\n",
    "            if higher_namespace != self.namespace:\n",
    "                print(self.name, type(self).__name__)\n",
    "                print(f'This namespace {self.namespace} does not equal higher namespace {higher_namespace}')\n",
    "                raise Exception(f'This namespace {self.namespace} does not equal higher namespace {higher_namespace}')\n",
    "\n",
    "        for referenceFunction in self.referenceCollection:\n",
    "            referenceFunction.check_namespace(higher_namespace=higher_namespace)   \n",
    "        \n",
    "        for perceptionFunction in self.perceptionCollection:\n",
    "            perceptionFunction.check_namespace(higher_namespace=higher_namespace)\n",
    "        \n",
    "        for comparatorFunction in self.comparatorCollection:\n",
    "            comparatorFunction.check_namespace(higher_namespace=higher_namespace)\n",
    "        \n",
    "        for outputFunction in self.outputCollection:\n",
    "            outputFunction.check_namespace(higher_namespace=higher_namespace)\n",
    "\n",
    "            \n",
    "    def summary(self, build=True, extra=False, higher_namespace=None):\n",
    "        if build:\n",
    "            if not self.links_built:\n",
    "                self.build_links()\n",
    "\n",
    "        print(self.name, type(self).__name__, self.namespace)\n",
    "        print(\"----------------------------\")\n",
    "\n",
    "        if higher_namespace:\n",
    "            if higher_namespace != self.namespace:\n",
    "                raise Exception(f'This namespace {self.namespace} does not equal higher namespace {higher_namespace}')\n",
    "\n",
    "        print(\"REF:\", end=\" \")\n",
    "        for referenceFunction in self.referenceCollection:\n",
    "            referenceFunction.summary(extra=extra, higher_namespace=higher_namespace)   \n",
    "        \n",
    "        print(\"PER:\", end=\" \")\n",
    "        for perceptionFunction in self.perceptionCollection:\n",
    "            perceptionFunction.summary(extra=extra, higher_namespace=higher_namespace)\n",
    "        \n",
    "        print(\"COM:\", end=\" \")\n",
    "        for comparatorFunction in self.comparatorCollection:\n",
    "            comparatorFunction.summary(extra=extra, higher_namespace=higher_namespace)\n",
    "        \n",
    "        print(\"OUT:\", end=\" \")\n",
    "        for outputFunction in self.outputCollection:\n",
    "            outputFunction.summary(extra=extra, higher_namespace=higher_namespace)\n",
    "        \n",
    "        print(\"----------------------------\")\n",
    "        \n",
    "        \n",
    "    def graph(self, layer=0, layout={'r':2,'c':1,'p':2, 'o':0}):\n",
    "        import networkx as nx\n",
    "\n",
    "        graph = nx.DiGraph()\n",
    "        \n",
    "        self.set_graph_data(graph, layer=layer, layout=layout)\n",
    "                \n",
    "        return graph\n",
    "    \n",
    "\n",
    "    def validate(self, num_lower_perceptions=None, num_higher_outputs=None):\n",
    "        \n",
    "        if num_higher_outputs is not None:\n",
    "            for func in self.referenceCollection:\n",
    "                func.validate(num_higher_outputs)\n",
    "                \n",
    "        for func in self.perceptionCollection:\n",
    "            func.validate(num_lower_perceptions)\n",
    "    \n",
    "    \n",
    "    def clear_values(self):\n",
    "        for referenceFunction in self.referenceCollection:\n",
    "            referenceFunction.value = 0  \n",
    "        \n",
    "        for comparatorFunction in self.comparatorCollection:\n",
    "            comparatorFunction.value = 0\n",
    "        \n",
    "        for perceptionFunction in self.perceptionCollection:\n",
    "            perceptionFunction.value = 0\n",
    "        \n",
    "        for outputFunction in self.outputCollection:\n",
    "            outputFunction.value  = 0\n",
    "    \n",
    "    def change_namespace(self, namespace):\n",
    "        self.namespace=namespace\n",
    "        \n",
    "        name = self.name\n",
    "        newname = UniqueNamer.getInstance().get_name(namespace, self.name)\n",
    "        if name != newname:\n",
    "            raise Exception(f'Names should not be different {name} {newname}')\n",
    "        FunctionsList.getInstance().add_function(namespace, self)\n",
    "\n",
    "        for referenceFunction in self.referenceCollection:\n",
    "            referenceFunction.change_namespace(namespace)\n",
    "        \n",
    "        for comparatorFunction in self.comparatorCollection:\n",
    "            comparatorFunction.change_namespace(namespace)\n",
    "        \n",
    "        for perceptionFunction in self.perceptionCollection:\n",
    "            perceptionFunction.change_namespace(namespace)\n",
    "        \n",
    "        for outputFunction in self.outputCollection:\n",
    "            outputFunction.change_namespace(namespace)\n",
    "        \n",
    " \n",
    "#     def set_graph_data_node(self, graph, layer=0):\n",
    "#         graph.add_node(self.name, layer=layer)\n",
    "\n",
    "#         for referenceFunction in self.referenceCollection:\n",
    "#             referenceFunction.set_graph_data(graph, layer+2)   \n",
    "\n",
    "#         for perceptionFunction in self.perceptionCollection:\n",
    "#             perceptionFunction.set_graph_data(graph, layer+2)\n",
    "\n",
    "            \n",
    "    def set_graph_data(self, graph, layer=0, layout={'r':2,'c':1,'p':2, 'o':0}):\n",
    "        \n",
    "        for referenceFunction in self.referenceCollection:\n",
    "            referenceFunction.set_graph_data(graph, layer+layout['r'])   \n",
    "        \n",
    "        for comparatorFunction in self.comparatorCollection:\n",
    "            comparatorFunction.set_graph_data(graph, layer+layout['c'])\n",
    "        \n",
    "        for perceptionFunction in self.perceptionCollection:\n",
    "            perceptionFunction.set_graph_data(graph, layer+layout['p'])\n",
    "        \n",
    "        for outputFunction in self.outputCollection:\n",
    "            outputFunction.set_graph_data(graph, layer+layout['o'])\n",
    "\n",
    "            \n",
    "    def set_graph_data_funcdata(self, graph, layer=0, layout={'r':2,'c':1,'p':2, 'o':0}):\n",
    "        \n",
    "        for referenceFunction in self.referenceCollection:\n",
    "            referenceFunction.set_graph_data_funcdata(graph, layer+layout['r'])   \n",
    "        \n",
    "        for comparatorFunction in self.comparatorCollection:\n",
    "            comparatorFunction.set_graph_data_funcdata(graph, layer+layout['c'])\n",
    "        \n",
    "        for perceptionFunction in self.perceptionCollection:\n",
    "            perceptionFunction.set_graph_data_funcdata(graph, layer+layout['p'])\n",
    "        \n",
    "        for outputFunction in self.outputCollection:\n",
    "            outputFunction.set_graph_data_funcdata(graph, layer+layout['o'])\n",
    "            \n",
    "            \n",
    "    def get_edge_labels(self, labels):\n",
    "\n",
    "        for func in self.referenceCollection:\n",
    "            func.get_weights_labels(labels)\n",
    "\n",
    "        for func in self.comparatorCollection:\n",
    "            func.get_weights_labels(labels)\n",
    "                    \n",
    "        for func in self.perceptionCollection:\n",
    "            func.get_weights_labels(labels)\n",
    "                    \n",
    "        for func in self.outputCollection:\n",
    "            func.get_weights_labels(labels)\n",
    "\n",
    "    def get_edge_labels_funcdata(self, labels):\n",
    "\n",
    "        for func in self.referenceCollection:\n",
    "            func.get_weights_labels_funcdata(labels)\n",
    "\n",
    "        for func in self.comparatorCollection:\n",
    "            func.get_weights_labels_funcdata(labels)\n",
    "                    \n",
    "        for func in self.perceptionCollection:\n",
    "            func.get_weights_labels_funcdata(labels)\n",
    "                    \n",
    "        for func in self.outputCollection:\n",
    "            func.get_weights_labels_funcdata(labels)\n",
    "            \n",
    "            \n",
    "    def get_node_list(self, node_list):\n",
    "    \n",
    "        for func in self.referenceCollection:\n",
    "            node_list[func.get_name()] = self.name\n",
    "\n",
    "        for func in self.comparatorCollection:\n",
    "            node_list[func.get_name()] = self.name\n",
    "\n",
    "        for func in self.perceptionCollection:\n",
    "            node_list[func.get_name()] = self.name\n",
    "\n",
    "        for func in self.outputCollection:\n",
    "            node_list[func.get_name()] = self.name\n",
    "\n",
    "    def get_parameters_list(self):\n",
    "    \n",
    "        ref_list = []\n",
    "        for func in self.referenceCollection:\n",
    "            ref_list.append(func.get_parameters_list())\n",
    "\n",
    "        per_list = []\n",
    "        for func in self.perceptionCollection:\n",
    "            per_list.append(func.get_parameters_list())\n",
    "\n",
    "        out_list = []\n",
    "        for func in self.outputCollection:\n",
    "            out_list.append(func.get_parameters_list())\n",
    "            \n",
    "        node_list = [ref_list, per_list, out_list]\n",
    "            \n",
    "        return node_list\n",
    "        \n",
    "    def change_link_name(self, old_name, new_name):\n",
    "\n",
    "        for func in self.referenceCollection:\n",
    "            func.links = [new_name if i==old_name else i for i in func.links ]\n",
    "\n",
    "        for func in self.comparatorCollection:\n",
    "            func.links = [new_name if i==old_name else i for i in func.links ]\n",
    "\n",
    "        for func in self.perceptionCollection:\n",
    "            func.links = [new_name if i==old_name else i for i in func.links ]\n",
    "\n",
    "        for func in self.outputCollection:\n",
    "            func.links = [new_name if i==old_name else i for i in func.links ]\n",
    "        \n",
    "            \n",
    "        \n",
    "    def set_graph_data_node(self, graph, layer=0):\n",
    "        graph.add_node(self.name, layer=layer)\n",
    "\n",
    "\n",
    "    def graph_node(self, layer=0):\n",
    "        graph = nx.DiGraph()\n",
    "\n",
    "        self.set_graph_data_node(graph, layer=layer)\n",
    "\n",
    "        return graph\n",
    "\n",
    "\n",
    "    def draw_node(self, with_labels=True,  font_size=12, font_weight='bold', node_color='red',  \n",
    "         node_size=500, arrowsize=25, align='horizontal', file=None, figsize=(5,5), move={}):\n",
    "\n",
    "        graph = self.graph_node()\n",
    "        pos = nx.multipartite_layout(graph, subset_key=\"layer\", align=align)        \n",
    "        plt.figure(figsize=figsize)\n",
    "        nx.draw(graph, pos=pos, with_labels=with_labels, font_size=font_size, font_weight=font_weight, \n",
    "                node_color=node_color,  node_size=node_size, arrowsize=arrowsize)\n",
    "        \n",
    "        \n",
    "        \n",
    "    def draw(self, with_labels=True,  font_size=12, font_weight='bold', node_color='red',  \n",
    "             node_size=500, arrowsize=25, align='horizontal', file=None, figsize=(5,5), move={}):\n",
    "        import networkx as nx        \n",
    "        import matplotlib.pyplot as plt\n",
    "        graph = self.graph()\n",
    "        pos = nx.multipartite_layout(graph, subset_key=\"layer\", align=align)        \n",
    "        plt.figure(figsize=figsize)\n",
    "        nx.draw(graph, pos=pos, with_labels=with_labels, font_size=font_size, font_weight=font_weight, \n",
    "                node_color=node_color,  node_size=node_size, arrowsize=arrowsize)\n",
    "        \n",
    "    def get_config(self, zero=1):\n",
    "        config = {\"type\": type(self).__name__,\n",
    "                    \"name\": self.name}        \n",
    "\n",
    "        coll_name = 'refcoll'\n",
    "        collection = self.referenceCollection\n",
    "        config[coll_name] = self.get_collection_config(coll_name, collection, zero)       \n",
    "        coll_name = 'percoll'\n",
    "        collection = self.perceptionCollection\n",
    "        config[coll_name] = self.get_collection_config(coll_name, collection, zero)       \n",
    "        coll_name = 'comcoll'\n",
    "        collection = self.comparatorCollection\n",
    "        config[coll_name] = self.get_collection_config(coll_name, collection, zero)       \n",
    "        coll_name = 'outcoll'\n",
    "        collection = self.outputCollection\n",
    "        config[coll_name] = self.get_collection_config(coll_name, collection, zero)       \n",
    "        \n",
    "        return config       \n",
    "\n",
    "    def get_collection_config(self, coll_name, collection, zero=1):\n",
    "        coll = {}\n",
    "        ctr=0\n",
    "        for func in collection:\n",
    "            coll[str(ctr)] = func.get_config(zero=zero)\n",
    "            ctr+=1            \n",
    "        return coll\n",
    "    \n",
    "    def save(self, file=None, indent=4):\n",
    "        jsondict = json.dumps(self.get_config(), indent=indent)\n",
    "        f = open(file, \"w\")\n",
    "        f.write(jsondict)\n",
    "        f.close()\n",
    "        \n",
    "    @classmethod\n",
    "    def load(cls, file):      \n",
    "        with open(file) as f:\n",
    "            config = json.load(f)\n",
    "        return cls.from_config(config, reference=True, comparator=True, perception=True, output=True)\n",
    "\n",
    "    @classmethod\n",
    "    def from_config(cls, config=None, namespace=None, node=None, reference=False, comparator=False, perception=False, output=False, history=False):\n",
    "        \"Create a node from JSON dictionary configuration.\"\n",
    "        if node is None:\n",
    "            node = PCTNode(default=False, name=config['name'], namespace=namespace, history=history)\n",
    "\n",
    "        namespace= node.namespace\n",
    "\n",
    "        if reference:\n",
    "            node.referenceCollection = []\n",
    "            collection = node.referenceCollection\n",
    "            coll_dict = config['refcoll']\n",
    "            PCTNode.collection_from_config(collection, coll_dict, namespace)\n",
    "\n",
    "        if perception:\n",
    "            node.perceptionCollection = []\n",
    "            collection = node.perceptionCollection\n",
    "            coll_dict = config['percoll']\n",
    "            PCTNode.collection_from_config(collection, coll_dict, namespace)\n",
    "\n",
    "        if comparator:\n",
    "            node.comparatorCollection = []\n",
    "            collection = node.comparatorCollection\n",
    "            coll_dict = config['comcoll']\n",
    "            PCTNode.collection_from_config(collection, coll_dict, namespace)\n",
    "\n",
    "        if output:\n",
    "            node.outputCollection = []\n",
    "            collection = node.outputCollection\n",
    "            coll_dict = config['outcoll']\n",
    "            PCTNode.collection_from_config(collection, coll_dict, namespace)\n",
    "\n",
    "        node.links_built = True\n",
    "        return node\n",
    "    \n",
    "#     @classmethod\n",
    "#     def from_config(cls, config, namespace=None, history=False):\n",
    "            \n",
    "#         node = PCTNode(default=False, name=config['name'], namespace=namespace, history=history)\n",
    "#         namespace= node.namespace \n",
    "#         node.referenceCollection = []        \n",
    "#         collection = node.referenceCollection\n",
    "#         coll_dict = config['refcoll']\n",
    "#         PCTNode.collection_from_config(collection, coll_dict, namespace)\n",
    "\n",
    "#         node.perceptionCollection = []\n",
    "#         collection = node.perceptionCollection\n",
    "#         coll_dict = config['percoll']\n",
    "#         PCTNode.collection_from_config(collection, coll_dict, namespace)\n",
    "        \n",
    "#         node.comparatorCollection = []\n",
    "#         collection = node.comparatorCollection\n",
    "#         coll_dict = config['comcoll']\n",
    "#         PCTNode.collection_from_config(collection, coll_dict, namespace)\n",
    "\n",
    "#         node.outputCollection = []\n",
    "#         collection = node.outputCollection\n",
    "#         coll_dict = config['outcoll']\n",
    "#         PCTNode.collection_from_config(collection, coll_dict, namespace)\n",
    "        \n",
    "#         node.links_built = True\n",
    "#         return node\n",
    "    \n",
    "    @classmethod\n",
    "    def collection_from_config(node, collection, coll_dict, namespace):\n",
    "        #print(\"collection_from_config\", coll_dict)\n",
    "        for fndict_label in coll_dict:\n",
    "            #print(\"fndict_label\",fndict_label)\n",
    "            \n",
    "            fndict = coll_dict[fndict_label]\n",
    "            #print(fndict)\n",
    "            fnname = fndict.pop('type')\n",
    "            if fnname.startswith(\"EA\"):\n",
    "                fnname = fnname.replace(\"EA\", \"\")\n",
    "            #print(fndict)\n",
    "            #func = eval(fnname).from_config(fndict, namespace)\n",
    "            func = FunctionFactory.createFunctionFromConfig(fnname, namespace, fndict)\n",
    "            \n",
    "            collection.append(func)\n",
    "            \n",
    "    @classmethod\n",
    "    def get_function_type(cls, mode, function):\n",
    "        type = 'WeightedSum'\n",
    "       \n",
    "        if function == HPCTFUNCTION.PERCEPTION:\n",
    "            if mode == 0 :\n",
    "                type = 'Variable'\n",
    "                \n",
    "        if function == HPCTFUNCTION.REFERENCE:\n",
    "            if mode == 0 or mode == 2  or mode == 4  or mode == 5 :\n",
    "                type = 'Constant'\n",
    "            \n",
    "        if function == HPCTFUNCTION.COMPARATOR:\n",
    "            type = 'Subtract'\n",
    "            \n",
    "        if function == HPCTFUNCTION.OUTPUT:\n",
    "            if mode < 3: \n",
    "                type = 'Proportional'\n",
    "            elif mode == 5  or mode == 6 :\n",
    "                type = 'SmoothWeightedSum'\n",
    "                \n",
    "        return type    "
   ]
  },
  {
   "cell_type": "code",
   "execution_count": null,
   "metadata": {
    "vscode": {
     "languageId": "python"
    }
   },
   "outputs": [],
   "source": [
    "#node = PCTNode()\n",
    "#node.summary()"
   ]
  },
  {
   "cell_type": "code",
   "execution_count": null,
   "metadata": {
    "vscode": {
     "languageId": "python"
    }
   },
   "outputs": [],
   "source": [
    "#| export\n",
    "class PCTNodeData():\n",
    "    \"Data collected for a PCTNode\"\n",
    "    def __init__(self, name=\"pctnodedata\"):\n",
    "        self.data = {\n",
    "            \"refcoll\":{}, \n",
    "            \"percoll\":{},\n",
    "            \"comcoll\":{}, \n",
    "            \"outcoll\":{}}\n",
    "        \n",
    "    \n",
    "    def add_data(self, node):\n",
    "        ctr = 0 \n",
    "        \n",
    "        self.add_collection( node.referenceCollection, \"refcoll\")\n",
    "        self.add_collection( node.perceptionCollection, \"percoll\")\n",
    "        self.add_collection( node.comparatorCollection, \"comcoll\")\n",
    "        self.add_collection( node.outputCollection, \"outcoll\")\n",
    "\n",
    "    def add_collection(self, collection, collname):\n",
    "        for func in collection:            \n",
    "            if self.data[collname].get(func.get_name()) == None:\n",
    "                dlist=[]\n",
    "                cdict={func.get_name():dlist}\n",
    "                self.data[collname]=cdict\n",
    "            else:\n",
    "                dlist = self.data[collname][func.get_name()]\n",
    "                \n",
    "            dlist.append(func.get_value())"
   ]
  },
  {
   "cell_type": "markdown",
   "metadata": {},
   "source": [
    "## Creating a Node\n",
    "\n",
    "A node can be created simply."
   ]
  },
  {
   "cell_type": "code",
   "execution_count": null,
   "metadata": {
    "vscode": {
     "languageId": "python"
    }
   },
   "outputs": [
    {
     "name": "stdout",
     "output_type": "stream",
     "text": [
      "pctnode PCTNode e2723476-b938-11ee-9ede-5c879c15de65\n",
      "----------------------------\n",
      "REF: constant Constant | 0 \n",
      "PER: variable Variable | 0 \n",
      "COM: subtract Subtract | 0 | links  constant variable \n",
      "OUT: proportional Proportional | gain 1 | 0 | links  subtract \n",
      "----------------------------\n"
     ]
    }
   ],
   "source": [
    "node = PCTNode()\n",
    "node.summary()"
   ]
  },
  {
   "cell_type": "markdown",
   "metadata": {},
   "source": [
    "That creates a node with default functions. Those are, a constant of 1 for the reference, a variable, with initial value 0, for the perception and a proportional function for the output, with a gain of 10."
   ]
  },
  {
   "cell_type": "markdown",
   "metadata": {},
   "source": [
    "A node can also be created by providing a name, and setting the history to True. The latter means that the values of all the functions are recorded during execution, which is useful for plotting the data later, as can be seen below. "
   ]
  },
  {
   "cell_type": "code",
   "execution_count": null,
   "metadata": {
    "vscode": {
     "languageId": "python"
    }
   },
   "outputs": [],
   "source": [
    "dynamic_module_import( 'pct.functions', 'Constant')"
   ]
  },
  {
   "cell_type": "code",
   "execution_count": null,
   "metadata": {
    "vscode": {
     "languageId": "python"
    }
   },
   "outputs": [],
   "source": [
    "reference = Constant(1)\n",
    "namespace=reference.namespace"
   ]
  },
  {
   "cell_type": "code",
   "execution_count": null,
   "metadata": {
    "vscode": {
     "languageId": "python"
    }
   },
   "outputs": [
    {
     "name": "stdout",
     "output_type": "stream",
     "text": [
      "mypctnode PCTNode e281ebf9-b938-11ee-944f-5c879c15de65\n",
      "----------------------------\n",
      "REF: constant Constant | 1 \n",
      "PER: variable Variable | 0 \n",
      "COM: subtract Subtract | 0 | links  constant variable \n",
      "OUT: proportional Proportional | gain 10 | 0 | links  subtract \n",
      "----------------------------\n"
     ]
    }
   ],
   "source": [
    "node = PCTNode(name=\"mypctnode\", history=True, reference = reference, output=Proportional(10, namespace=namespace), namespace=namespace)\n",
    "node.summary()"
   ]
  },
  {
   "cell_type": "markdown",
   "metadata": {},
   "source": [
    "Another way of creating a node is by first declaring the functions you want and passing them into the constructor."
   ]
  },
  {
   "cell_type": "code",
   "execution_count": null,
   "metadata": {
    "vscode": {
     "languageId": "python"
    }
   },
   "outputs": [],
   "source": [
    "UniqueNamer.getInstance().clear()\n",
    "r = Variable(0, name=\"velocity_reference\")\n",
    "p = Constant(10, name=\"constant_perception\")\n",
    "o = Integration(10, 100, name=\"integrator\")\n",
    "integratingnode = PCTNode(reference=r, perception=p, output=o, name=\"integratingnode\", history=True)"
   ]
  },
  {
   "cell_type": "markdown",
   "metadata": {},
   "source": [
    "Yet another way to create a node is from a text configuration."
   ]
  },
  {
   "cell_type": "code",
   "execution_count": null,
   "metadata": {
    "vscode": {
     "languageId": "python"
    }
   },
   "outputs": [],
   "source": [
    "config_node = PCTNode.from_config({ 'name': 'mypctnode', \n",
    "    'refcoll': {'0': {'type': 'Proportional', 'name': 'proportional', 'value': 0, 'links': {}, 'gain': 10}}, \n",
    "    'percoll': {'0': {'type': 'Variable', 'name': 'velocity', 'value': 0.2, 'links': {}}}, \n",
    "    'comcoll': {'0': {'type': 'Subtract', 'name': 'subtract', 'value': 1, 'links': {0: 'constant', 1: 'velocity'}}}, \n",
    "    'outcoll': {'0': {'type': 'Proportional', 'name': 'proportional', 'value': 10, 'links': {0: 'subtract'}, 'gain': 10}}})\n",
    "# config_node = PCTNode.from_config({ 'name': 'mypctnode1', \n",
    "#     'refcoll': {'0': {'type': 'Proportional', 'name': 'proportional', 'value': 0, 'links': {}, 'gain': 10}}, \n",
    "#     'percoll': {'0': {'type': 'Variable', 'name': 'velocity', 'value': 0.2, 'links': {}}}, \n",
    "#     'comcoll': {'0': {'type': 'Subtract', 'name': 'subtract', 'value': 1, 'links': {0: 'constant', 1: 'velocity'}}}, \n",
    "#     'outcoll': {'0': {'type': 'Proportional', 'name': 'proportional', 'value': 10, 'links': {0: 'subtract'}, 'gain': 10}}}, namespace=namespace)"
   ]
  },
  {
   "cell_type": "markdown",
   "metadata": {},
   "source": [
    "## Viewing Nodes\n",
    "\n",
    "The details of a node can be viewed in a number of ways, which is useful for checking the configuration. The summary method prints to the screen. The get_config method returns a string in a JSON format."
   ]
  },
  {
   "cell_type": "code",
   "execution_count": null,
   "metadata": {
    "vscode": {
     "languageId": "python"
    }
   },
   "outputs": [
    {
     "name": "stdout",
     "output_type": "stream",
     "text": [
      "integratingnode PCTNode e28f596d-b938-11ee-a963-5c879c15de65\n",
      "----------------------------\n",
      "REF: velocity_reference Variable | 0 \n",
      "PER: constant_perception Constant | 10 \n",
      "COM: subtract Subtract | 0 | links  velocity_reference constant_perception \n",
      "OUT: integrator Integration | gain 10 slow 100  | 0 | links  subtract \n",
      "----------------------------\n"
     ]
    }
   ],
   "source": [
    "integratingnode.summary()"
   ]
  },
  {
   "cell_type": "code",
   "execution_count": null,
   "metadata": {
    "vscode": {
     "languageId": "python"
    }
   },
   "outputs": [
    {
     "data": {
      "text/plain": [
       "{'type': 'PCTNode',\n",
       " 'name': 'integratingnode',\n",
       " 'refcoll': {'0': {'type': 'Variable',\n",
       "   'name': 'velocity_reference',\n",
       "   'value': 0,\n",
       "   'links': {}}},\n",
       " 'percoll': {'0': {'type': 'Constant',\n",
       "   'name': 'constant_perception',\n",
       "   'value': 10,\n",
       "   'links': {}}},\n",
       " 'comcoll': {'0': {'type': 'Subtract',\n",
       "   'name': 'subtract',\n",
       "   'value': 0,\n",
       "   'links': {0: 'velocity_reference', 1: 'constant_perception'}}},\n",
       " 'outcoll': {'0': {'type': 'Integration',\n",
       "   'name': 'integrator',\n",
       "   'value': 0,\n",
       "   'links': {0: 'subtract'},\n",
       "   'gain': 10,\n",
       "   'slow': 100}}}"
      ]
     },
     "execution_count": null,
     "metadata": {},
     "output_type": "execute_result"
    }
   ],
   "source": [
    "#print(integratingnode.get_config())\n",
    "assert integratingnode.get_config() == {'type': 'PCTNode', 'name': 'integratingnode', 'refcoll': {'0': {'type': 'Variable', 'name': 'velocity_reference', 'value': 0, 'links': {}}}, 'percoll': {'0': {'type': 'Constant', 'name': 'constant_perception', 'value': 10, 'links': {}}}, 'comcoll': {'0': {'type': 'Subtract', 'name': 'subtract', 'value': 0, 'links': {0: 'velocity_reference', 1: 'constant_perception'}}}, 'outcoll': {'0': {'type': 'Integration', 'name': 'integrator', 'value': 0, 'links': {0: 'subtract'}, 'gain': 10, 'slow': 100}}}\n",
    "integratingnode.get_config()"
   ]
  },
  {
   "cell_type": "markdown",
   "metadata": {},
   "source": [
    "A node can also be viewed graphically as a network of connected nodes."
   ]
  },
  {
   "cell_type": "code",
   "execution_count": null,
   "metadata": {
    "vscode": {
     "languageId": "python"
    }
   },
   "outputs": [],
   "source": [
    "import os"
   ]
  },
  {
   "cell_type": "code",
   "execution_count": null,
   "metadata": {
    "vscode": {
     "languageId": "python"
    }
   },
   "outputs": [
    {
     "data": {
      "image/png": "[encoded data removed]",
      "text/plain": [
       "<Figure size 800x400 with 1 Axes>"
      ]
     },
     "metadata": {},
     "output_type": "display_data"
    }
   ],
   "source": [
    "if os.name=='nt':\n",
    "    integratingnode.draw(node_size=2000, figsize=(8,4))"
   ]
  },
  {
   "cell_type": "markdown",
   "metadata": {},
   "source": [
    "## Running a Node\n",
    "\n",
    "For the purposes of this example we first create a function which is a very basic model of the physical environment. It defines how the world behaves when we pass it the output of the control system.  "
   ]
  },
  {
   "cell_type": "code",
   "execution_count": null,
   "metadata": {
    "vscode": {
     "languageId": "python"
    }
   },
   "outputs": [],
   "source": [
    "def velocity_model(velocity,  force , mass):\n",
    "    velocity = velocity + force / mass\n",
    "    return velocity\n",
    "\n",
    "mass = 50\n",
    "force = 0"
   ]
  },
  {
   "cell_type": "markdown",
   "metadata": {},
   "source": [
    "In the following cell we start with a velocity of zero. The node is run once (second line), the output of which is the force to apply in the world velocity_model. That returns the updated velocity which we pass back into the node to be used in the next iteration of the loop.   "
   ]
  },
  {
   "cell_type": "code",
   "execution_count": null,
   "metadata": {
    "vscode": {
     "languageId": "python"
    }
   },
   "outputs": [
    {
     "name": "stdout",
     "output_type": "stream",
     "text": [
      "10\n"
     ]
    }
   ],
   "source": [
    "velocity=0\n",
    "force = node()\n",
    "velocity = velocity_model(velocity, force, mass)\n",
    "node.set_perception_value(velocity)\n",
    "print(force)\n",
    "assert force == 10"
   ]
  },
  {
   "cell_type": "markdown",
   "metadata": {},
   "source": [
    "The node can be run in a loop as shown below. With verbose set to True the output of each loop will be printed to the screen."
   ]
  },
  {
   "cell_type": "code",
   "execution_count": null,
   "metadata": {
    "vscode": {
     "languageId": "python"
    }
   },
   "outputs": [
    {
     "name": "stdout",
     "output_type": "stream",
     "text": [
      "0 0.000 0.000 0.000 0.000 \n",
      "1 0.000 0.000 0.000 0.000 \n",
      "2 0.000 0.000 0.000 0.000 \n",
      "3 0.000 0.000 0.000 0.000 \n",
      "4 0.000 0.000 0.000 0.000 \n",
      "5 0.000 0.000 0.000 0.000 \n",
      "6 0.000 0.000 0.000 0.000 \n",
      "7 0.000 0.000 0.000 0.000 \n",
      "8 0.000 0.000 0.000 0.000 \n",
      "9 0.000 0.000 0.000 0.000 \n",
      "10 0.000 0.000 0.000 0.000 \n",
      "11 0.000 0.000 0.000 0.000 \n",
      "12 0.000 0.000 0.000 0.000 \n",
      "13 0.000 0.000 0.000 0.000 \n",
      "14 0.000 0.000 0.000 0.000 \n",
      "15 0.000 0.000 0.000 0.000 \n",
      "16 0.000 0.000 0.000 0.000 \n",
      "17 0.000 0.000 0.000 0.000 \n",
      "18 0.000 0.000 0.000 0.000 \n",
      "19 0.000 0.000 0.000 0.000 \n",
      "20 0.000 0.000 0.000 0.000 \n",
      "21 0.000 0.000 0.000 0.000 \n",
      "22 0.000 0.000 0.000 0.000 \n",
      "23 0.000 0.000 0.000 0.000 \n",
      "24 0.000 0.000 0.000 0.000 \n",
      "25 0.000 0.000 0.000 0.000 \n",
      "26 0.000 0.000 0.000 0.000 \n",
      "27 0.000 0.000 0.000 0.000 \n",
      "28 0.000 0.000 0.000 0.000 \n",
      "29 0.000 0.000 0.000 0.000 \n",
      "30 0.000 0.000 0.000 0.000 \n",
      "31 0.000 0.000 0.000 0.000 \n",
      "32 0.000 0.000 0.000 0.000 \n",
      "33 0.000 0.000 0.000 0.000 \n",
      "34 0.000 0.000 0.000 0.000 \n",
      "35 0.000 0.000 0.000 0.000 \n",
      "36 0.000 0.000 0.000 0.000 \n",
      "37 0.000 0.000 0.000 0.000 \n",
      "38 0.000 0.000 0.000 0.000 \n",
      "39 0.000 0.000 0.000 0.000 \n"
     ]
    }
   ],
   "source": [
    "pctnode = PCTNode(history=True)\n",
    "pctnode.set_function_name(\"perception\", \"velocity\")\n",
    "pctnode.set_function_name(\"reference\", \"reference\")\n",
    "\n",
    "for i in range(40):\n",
    "    print(i, end=\" \")\n",
    "    force = pctnode(verbose=True)\n",
    "    vel = velocity_model(pctnode.get_perception_value(), force, mass)\n",
    "    pctnode.set_perception_value(vel)\n",
    "    "
   ]
  },
  {
   "cell_type": "markdown",
   "metadata": {},
   "source": [
    "## Save and Load"
   ]
  },
  {
   "cell_type": "markdown",
   "metadata": {},
   "source": [
    "Save a node to file."
   ]
  },
  {
   "cell_type": "code",
   "execution_count": null,
   "metadata": {
    "vscode": {
     "languageId": "python"
    }
   },
   "outputs": [],
   "source": [
    "import json"
   ]
  },
  {
   "cell_type": "code",
   "execution_count": null,
   "metadata": {
    "vscode": {
     "languageId": "python"
    }
   },
   "outputs": [],
   "source": [
    "integratingnode.save(\"inode.json\")"
   ]
  },
  {
   "cell_type": "markdown",
   "metadata": {},
   "source": [
    "Create a node from file."
   ]
  },
  {
   "cell_type": "code",
   "execution_count": null,
   "metadata": {
    "vscode": {
     "languageId": "python"
    }
   },
   "outputs": [
    {
     "name": "stdout",
     "output_type": "stream",
     "text": [
      "integratingnode PCTNode 576b00b4-b939-11ee-9e11-5c879c15de65\n",
      "----------------------------\n",
      "REF: velocity_reference Variable | 0 \n",
      "PER: constant_perception Constant | 10 \n",
      "COM: subtract Subtract | 0 | links  velocity_reference constant_perception \n",
      "OUT: integrator Integration | gain 10 slow 100  | 0 | links  subtract \n",
      "----------------------------\n",
      "{'type': 'PCTNode', 'name': 'integratingnode', 'refcoll': {'0': {'type': 'Variable', 'name': 'velocity_reference', 'value': 0, 'links': {}}}, 'percoll': {'0': {'type': 'Constant', 'name': 'constant_perception', 'value': 10, 'links': {}}}, 'comcoll': {'0': {'type': 'Subtract', 'name': 'subtract', 'value': 0, 'links': {0: 'velocity_reference', 1: 'constant_perception'}}}, 'outcoll': {'0': {'type': 'Integration', 'name': 'integrator', 'value': 0, 'links': {0: 'subtract'}, 'gain': 10, 'slow': 100}}}\n"
     ]
    }
   ],
   "source": [
    "nnode = PCTNode.load(\"inode.json\")\n",
    "nnode.summary()\n",
    "print(nnode.get_config())"
   ]
  },
  {
   "cell_type": "code",
   "execution_count": null,
   "metadata": {
    "vscode": {
     "languageId": "python"
    }
   },
   "outputs": [
    {
     "name": "stdout",
     "output_type": "stream",
     "text": [
      "0.000 10.000 0.000 0.000\n"
     ]
    }
   ],
   "source": [
    "print(nnode.get_summary())"
   ]
  },
  {
   "cell_type": "markdown",
   "metadata": {},
   "source": [
    "## Plotting the Data\n",
    "\n",
    "As the history of the variable pctnode was set to True the data is available for analysis. It can be plotted with python libraries such as matplotlib or plotly. Here is an example with the latter.\n",
    "\n",
    "The graph shows the changing perception values as it is controlled to match the reference value."
   ]
  },
  {
   "cell_type": "markdown",
   "metadata": {},
   "source": [
    "```python\n",
    "import plotly.graph_objects as go\n",
    "fig = go.Figure(layout_title_text=\"Velocity Goal\")\n",
    "fig.add_trace(go.Scatter(y=pctnode.history.data['refcoll']['reference'], name=\"ref\"))\n",
    "fig.add_trace(go.Scatter(y=pctnode.history.data['percoll']['velocity'], name=\"perc\"))\n",
    "```"
   ]
  },
  {
   "cell_type": "markdown",
   "metadata": {},
   "source": [
    "This following code is only for the purposes of displaying image of the graph generated by the above code."
   ]
  },
  {
   "cell_type": "code",
   "execution_count": null,
   "metadata": {
    "vscode": {
     "languageId": "python"
    }
   },
   "outputs": [],
   "source": [
    "from IPython.display import Image"
   ]
  },
  {
   "cell_type": "code",
   "execution_count": null,
   "metadata": {
    "vscode": {
     "languageId": "python"
    }
   },
   "outputs": [
    {
     "data": {
      "text/html": [
       "<img src=\"http://www.perceptualrobots.com/wp-content/uploads/2020/08/pct_node_plot.png\"/>"
      ],
      "text/plain": [
       "<IPython.core.display.Image object>"
      ]
     },
     "execution_count": null,
     "metadata": {},
     "output_type": "execute_result"
    }
   ],
   "source": [
    "Image(url='http://www.perceptualrobots.com/wp-content/uploads/2020/08/pct_node_plot.png') "
   ]
  },
  {
   "cell_type": "code",
   "execution_count": null,
   "metadata": {
    "vscode": {
     "languageId": "python"
    }
   },
   "outputs": [],
   "source": [
    "#| hide\n",
    "import nbdev; nbdev.nbdev_export()"
   ]
  }
 ],
 "metadata": {
  "kernelspec": {
   "display_name": "python3",
   "language": "python",
   "name": "python3"
  }
 },
 "nbformat": 4,
 "nbformat_minor": 4
}
