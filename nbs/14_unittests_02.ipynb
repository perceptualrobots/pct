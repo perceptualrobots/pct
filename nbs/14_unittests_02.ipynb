{
 "cells": [
  {
   "cell_type": "markdown",
   "id": "d213b822",
   "metadata": {},
   "source": [
    "---\n",
    "output-file: yaw_module.html\n",
    "title: Yaw Module\n",
    "\n",
    "---"
   ]
  },
  {
   "cell_type": "code",
   "execution_count": null,
   "id": "322c3272",
   "metadata": {},
   "outputs": [],
   "source": [
    "%reload_ext autoreload\n",
    "%autoreload 2"
   ]
  },
  {
   "cell_type": "code",
   "execution_count": null,
   "id": "a924c5f4",
   "metadata": {},
   "outputs": [],
   "source": [
    "import unittest\n",
    "from eepct.hpct import HPCTArchitecture\n",
    "from eepct.hpct import HPCTARCH\n",
    "from eepct.hpct import HPCTLEVEL\n",
    "\n",
    "from eepct.hpct import HPCTFUNCTION\n",
    "from eepct.hpct import HPCTVARIABLE"
   ]
  },
  {
   "cell_type": "code",
   "execution_count": null,
   "id": "29c98ae5",
   "metadata": {},
   "outputs": [],
   "source": [
    "\n",
    "class TestHPCTArchConfig(unittest.TestCase):\n",
    "\n",
    "    @classmethod\n",
    "    def setUpClass(cls):\n",
    "        # hpct_architecture_properties ={\n",
    "        #         HPCTARCH.HIERARCHY:{\n",
    "        #             HPCTFUNCTION.PERCEPTION: {HPCTARCH.VARIABLE_TYPE: 'Float', HPCTARCH.FUNCTION_CLASS: 'EAWeightedSum', HPCTVARIABLE.PROPERTIES:{'lower_float':-1, 'upper_float':1}},\n",
    "        #             HPCTFUNCTION.REFERENCE: {HPCTARCH.VARIABLE_TYPE: 'Float', HPCTARCH.FUNCTION_CLASS: 'EAWeightedSum', HPCTVARIABLE.PROPERTIES:{'lower_float':-5, 'upper_float':5}},\n",
    "        #             HPCTFUNCTION.COMPARATOR: {HPCTARCH.VARIABLE_TYPE: 'Float', HPCTARCH.FUNCTION_CLASS: 'Subtract', HPCTVARIABLE.PROPERTIES: None},\n",
    "        #             HPCTFUNCTION.OUTPUT: {HPCTARCH.VARIABLE_TYPE: 'Float', HPCTARCH.FUNCTION_CLASS: 'EAProportional', HPCTVARIABLE.PROPERTIES:{'lower_float':-2, 'upper_float':2}},\n",
    "        #             HPCTFUNCTION.ACTION: {HPCTARCH.VARIABLE_TYPE: 'Float', HPCTARCH.FUNCTION_CLASS: 'EAWeightedSum', HPCTVARIABLE.PROPERTIES:{'lower_float':-50, 'upper_float':50}},\n",
    "        #             HPCTARCH.LEVELS: { \n",
    "        #                 HPCTLEVEL.ZERO: { HPCTFUNCTION.PERCEPTION: {HPCTARCH.VARIABLE_TYPE: 'Binary', HPCTARCH.FUNCTION_CLASS: 'EAWeightedSum', HPCTVARIABLE.PROPERTIES:None}},\n",
    "        #                 HPCTLEVEL.ZEROTOP: { HPCTFUNCTION.PERCEPTION: {HPCTARCH.VARIABLE_TYPE: 'Binary', HPCTARCH.FUNCTION_CLASS: 'EAWeightedSum', HPCTVARIABLE.PROPERTIES:None},\n",
    "        #                                     HPCTFUNCTION.REFERENCE: {HPCTARCH.VARIABLE_TYPE: 'Literal', HPCTARCH.FUNCTION_CLASS: 'EAConstant', HPCTVARIABLE.PROPERTIES:None}},\n",
    "        #                 HPCTLEVEL.TOP: { HPCTFUNCTION.REFERENCE: {HPCTARCH.VARIABLE_TYPE: 'Literal', HPCTARCH.FUNCTION_CLASS: 'EAConstant', HPCTVARIABLE.PROPERTIES:None}}\n",
    "        #             }\n",
    "        #         }         \n",
    "        #     }\n",
    "        # cls.arch = HPCTArchitecture(arch=hpct_architecture_properties)\n",
    "        cls.arch = HPCTArchitecture()\n",
    "        \n",
    "        cls.arch.configure() \n",
    "        cls.arch.set(HPCTLEVEL.ZERO, HPCTFUNCTION.ACTION, HPCTVARIABLE.PROPERTIES, {'lower_float': -50, 'upper_float': 50})\n",
    "        cls.arch.set(HPCTLEVEL.ZERO, HPCTFUNCTION.REFERENCE, HPCTVARIABLE.PROPERTIES, {'lower_float': -5, 'upper_float': 5})\n",
    "        cls.arch.set(HPCTLEVEL.TOP, HPCTFUNCTION.OUTPUT, HPCTVARIABLE.PROPERTIES, {'lower_float': -2, 'upper_float': 2})\n",
    "        cls.arch.set(HPCTLEVEL.N, HPCTFUNCTION.REFERENCE, HPCTVARIABLE.PROPERTIES, {'lower_float': -5, 'upper_float': 5})\n",
    "        cls.arch.set(HPCTLEVEL.N, HPCTFUNCTION.OUTPUT, HPCTVARIABLE.PROPERTIES, {'lower_float': -2, 'upper_float': 2})\n",
    "\n",
    "        cls.arch1 = HPCTArchitecture()\n",
    "        #cls.arch1.configure(1)\n",
    "        cls.arch1.configure()\n",
    "        cls.arch1.set(HPCTLEVEL.ZEROTOP, HPCTFUNCTION.ACTION, HPCTVARIABLE.PROPERTIES, {'lower_float': -50, 'upper_float': 50})\n",
    "        cls.arch1.set(HPCTLEVEL.ZEROTOP, HPCTFUNCTION.OUTPUT, HPCTVARIABLE.PROPERTIES, {'lower_float': -2, 'upper_float': 2})\n",
    "\n",
    "\n",
    "\n",
    "\n",
    "    def test_hpctarch_1level(self):\n",
    "\n",
    "        c1, v1, p1 = self.arch1.get_function_properties(HPCTLEVEL.ZEROTOP, HPCTFUNCTION.PERCEPTION)\n",
    "        self.assertEqual(c1, 'EAWeightedSum')\n",
    "        self.assertEqual(v1, 'Float')\n",
    "        self.assertEqual(p1, {'lower_float': -10, 'upper_float': 10})\n",
    "\n",
    "        c1, v1, p1 = self.arch1.get_function_properties(HPCTLEVEL.ZEROTOP, HPCTFUNCTION.ACTION)\n",
    "        self.assertEqual(c1, 'EAWeightedSum')\n",
    "        self.assertEqual(v1, 'Float')\n",
    "        self.assertEqual(p1, {'lower_float': -50, 'upper_float': 50})\n",
    "\n",
    "        c1, v1, p1 = self.arch1.get_function_properties(HPCTLEVEL.ZEROTOP, HPCTFUNCTION.REFERENCE)\n",
    "        self.assertEqual(c1, 'EAConstant')\n",
    "        self.assertEqual(v1, 'Literal')\n",
    "        self.assertEqual(p1, None)\n",
    "\n",
    "        c1, v1, p1 = self.arch1.get_function_properties(HPCTLEVEL.ZEROTOP, HPCTFUNCTION.OUTPUT)\n",
    "        self.assertEqual(c1, 'EAProportional')\n",
    "        self.assertEqual(v1, 'Float')\n",
    "        self.assertEqual(p1, {'lower_float': -2, 'upper_float': 2})\n",
    "\n",
    "        c1, v1, p1 = self.arch1.get_function_properties(HPCTLEVEL.ZEROTOP, HPCTFUNCTION.COMPARATOR)\n",
    "        self.assertEqual(c1, 'Subtract')\n",
    "        self.assertEqual(v1, 'Float')\n",
    "        self.assertEqual(p1, None)\n",
    "\n",
    "    def test_hpctarch_3levels(self):\n",
    "\n",
    "        c1, v1, p1 = self.arch.get_function_properties(HPCTLEVEL.ZERO, HPCTFUNCTION.PERCEPTION)\n",
    "        #print(c1, v1, p1)\n",
    "        self.assertEqual(c1, 'EAWeightedSum')\n",
    "        self.assertEqual(v1, 'Float')\n",
    "        self.assertEqual(p1, {'lower_float': -10, 'upper_float': 10})\n",
    "\n",
    "        c1, v1, p1 = self.arch.get_function_properties(HPCTLEVEL.ZERO, HPCTFUNCTION.ACTION)\n",
    "        #print(c1, v1, p1)\n",
    "        self.assertEqual(c1, 'EAWeightedSum')\n",
    "        self.assertEqual(v1, 'Float')\n",
    "        self.assertEqual(p1, {'lower_float': -50, 'upper_float': 50})\n",
    "\n",
    "        c1, v1, p1 = self.arch.get_function_properties(HPCTLEVEL.ZERO, HPCTFUNCTION.REFERENCE)\n",
    "        #print(c1, v1, p1)\n",
    "        self.assertEqual(c1, 'EAWeightedSum')\n",
    "        self.assertEqual(v1, 'Float')\n",
    "        self.assertEqual(p1, {'lower_float': -5, 'upper_float': 5})\n",
    "\n",
    "        c1, v1, p1 = self.arch.get_function_properties(HPCTLEVEL.TOP, HPCTFUNCTION.OUTPUT)\n",
    "        #print(c1, v1, p1)\n",
    "        self.assertEqual(c1, 'EAProportional')\n",
    "        self.assertEqual(v1, 'Float')\n",
    "        self.assertEqual(p1, {'lower_float': -2, 'upper_float': 2} )\n",
    "\n",
    "        c1, v1, p1 = self.arch.get_function_properties(HPCTLEVEL.TOP, HPCTFUNCTION.REFERENCE)\n",
    "        #print(c1, v1, p1)\n",
    "        self.assertEqual(c1, 'EAConstant')\n",
    "        self.assertEqual(v1, 'Literal')\n",
    "        self.assertEqual(p1, None)\n",
    "\n",
    "        #c1, v1, p1 = arch.get_function_properties(HPCTLEVEL.ZEROTOP, HPCTFUNCTION.REFERENCE)\n",
    "        #print(c1, v1, p1)\n",
    "\n",
    "        c1, v1, p1 = self.arch.get_function_properties(HPCTLEVEL.N, HPCTFUNCTION.REFERENCE)\n",
    "        #print(c1, v1, p1)\n",
    "        self.assertEqual(c1, 'EAWeightedSum')\n",
    "        self.assertEqual(v1, 'Float')\n",
    "        self.assertEqual(p1, {'lower_float': -5, 'upper_float': 5})\n",
    "\n",
    "        c1, v1, p1 = self.arch.get_function_properties(HPCTLEVEL.N, HPCTFUNCTION.OUTPUT)\n",
    "        #print(c1, v1, p1)\n",
    "        self.assertEqual(c1, 'EAProportional')\n",
    "        self.assertEqual(v1, 'Float')\n",
    "        self.assertEqual(p1, {'lower_float': -2, 'upper_float': 2})\n",
    "\n"
   ]
  },
  {
   "cell_type": "code",
   "execution_count": null,
   "id": "d7f0bb3e",
   "metadata": {},
   "outputs": [],
   "source": []
  },
  {
   "cell_type": "code",
   "execution_count": null,
   "id": "287616a7",
   "metadata": {},
   "outputs": [],
   "source": []
  },
  {
   "cell_type": "code",
   "execution_count": null,
   "id": "9b514f54",
   "metadata": {},
   "outputs": [],
   "source": []
  },
  {
   "cell_type": "code",
   "execution_count": null,
   "id": "8a9a6719",
   "metadata": {},
   "outputs": [],
   "source": []
  },
  {
   "cell_type": "code",
   "execution_count": null,
   "id": "d41b325f",
   "metadata": {},
   "outputs": [],
   "source": []
  },
  {
   "cell_type": "code",
   "execution_count": null,
   "id": "0c95727e",
   "metadata": {},
   "outputs": [
    {
     "name": "stderr",
     "output_type": "stream",
     "text": [
      "test_hpctarch_1level (__main__.TestHPCTArchConfig) ... ok\n",
      "test_hpctarch_3levels (__main__.TestHPCTArchConfig) ... ok\n",
      "\n",
      "----------------------------------------------------------------------\n",
      "Ran 2 tests in 0.005s\n",
      "\n",
      "OK\n"
     ]
    }
   ],
   "source": [
    "          \n",
    "res = unittest.main(argv=[''], verbosity=3, exit=False)"
   ]
  },
  {
   "cell_type": "code",
   "execution_count": null,
   "id": "ded9a178",
   "metadata": {},
   "outputs": [],
   "source": [
    "assert len(res.result.failures) == 0"
   ]
  }
 ],
 "metadata": {
  "kernelspec": {
   "display_name": "python3",
   "language": "python",
   "name": "python3"
  }
 },
 "nbformat": 4,
 "nbformat_minor": 5
}
