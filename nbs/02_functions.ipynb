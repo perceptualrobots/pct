{
 "cells": [
  {
   "cell_type": "code",
   "execution_count": null,
   "metadata": {},
   "outputs": [
    {
     "name": "stdout",
     "output_type": "stream",
     "text": [
      "Cells will be exported to pct.functions,\n",
      "unless a different module is specified after an export flag: `%nbdev_export special.module`\n"
     ]
    }
   ],
   "source": [
    "from nbdev import *\n",
    "%nbdev_default_export functions\n",
    "#%nbdev_default_class_level 3"
   ]
  },
  {
   "cell_type": "code",
   "execution_count": null,
   "metadata": {},
   "outputs": [],
   "source": [
    "%nbdev_hide\n",
    "%reload_ext autoreload\n",
    "%autoreload 2"
   ]
  },
  {
   "cell_type": "markdown",
   "metadata": {},
   "source": [
    "# Functions\n",
    "\n",
    "> Functions that form the elements of a perceptual control node (system).\n"
   ]
  },
  {
   "cell_type": "markdown",
   "metadata": {},
   "source": [
    "## Overview\n",
    "Each function outputs the result of applying the function logic and may be a scalar or array, depending on the input. The inputs are supplied as links to another function, from where the values are read. Unless the function is a simple case, such as a 'Constant'. \n",
    "\n",
    "Parameters are supplied as arguments to the constructor of the class."
   ]
  },
  {
   "cell_type": "code",
   "execution_count": null,
   "metadata": {},
   "outputs": [],
   "source": [
    "# hide\n",
    "import sys\n",
    "sys.path.append(\"..\")"
   ]
  },
  {
   "cell_type": "code",
   "execution_count": null,
   "metadata": {},
   "outputs": [],
   "source": [
    "%nbdev_export\n",
    "import numpy as np\n",
    "import gym\n",
    "from abc import ABC, abstractmethod\n",
    "from pct.utilities import UniqueNamer\n",
    "from pct.utilities import FunctionsList"
   ]
  },
  {
   "cell_type": "code",
   "execution_count": null,
   "metadata": {},
   "outputs": [],
   "source": [
    "%nbdev_export\n",
    "class BaseFunction(ABC):\n",
    "    \"Base class of a PCT function. This class is not used direclty by developers, but defines the functionality common to all.\"\n",
    "    def __init__(self, name, value, links=None, new_name=True):\n",
    "        self.value = value\n",
    "        self.links = []\n",
    "        if links!=None:\n",
    "            if len(links)>0:\n",
    "                if isinstance(links, list):\n",
    "                    for link in links:\n",
    "                        if isinstance(link, str):\n",
    "                            self.links.append(FunctionsList.getInstance().get_function(link))\n",
    "                        else:\n",
    "                            self.links.append(link)\n",
    "                else:\n",
    "                    if isinstance(links, str):\n",
    "                        self.links.append(FunctionsList.getInstance().get_function(links))\n",
    "                    else:\n",
    "                        self.links.append(links)\n",
    "\n",
    "                \n",
    "        #print(f'size {len(UniqueNamer.getInstance().names)} {name} {name in UniqueNamer.getInstance().names}', end=\" \")\n",
    "        if new_name:\n",
    "            self.name = UniqueNamer.getInstance().get_name(name)\n",
    "        else:\n",
    "            self.name = name                \n",
    "        #print(self.name)\n",
    "        FunctionsList.getInstance().add_function(self)\n",
    "        self.decimal_places = 3\n",
    "        \n",
    "    @abstractmethod\n",
    "    def __call__(self, verbose=False):\n",
    "        if verbose :\n",
    "            print(self.output_string(), end= \" \")\n",
    "            \n",
    "        return self.value\n",
    "    \n",
    "    def output_string(self):\n",
    "        return f'{round(self.value, self.decimal_places):.{self.decimal_places}f}'\n",
    "    \n",
    "    def check_links(self, num):\n",
    "        if len(self.links) != num:\n",
    "            raise Exception(f'Incorrect number of links {len(self.links)} for function {self.name}. {num} expected.')            \n",
    "        \n",
    "    def set_decimal_places(self, dp):\n",
    "        self.decimal_places = dp\n",
    "        \n",
    "    @abstractmethod    \n",
    "    def summary(self, str):\n",
    "        print(f'{self.name} {type(self).__name__}', end = \" \")\n",
    "        if len(str)>0:\n",
    "            print(f'| {str}', end= \" \")\n",
    "        print(f'| {self.value}', end = \" \")\n",
    "        if len(self.links)>0:\n",
    "            print('| links ', end=\" \")\n",
    "        for link in self.links:\n",
    "            print(link.get_name(), end= \" \")\n",
    "        print()\n",
    "        \n",
    "    @abstractmethod    \n",
    "    def get_config(self):\n",
    "        config = {\"type\": type(self).__name__,\n",
    "                    \"name\": self.name, \n",
    "                    \"value\": self.value}\n",
    "        \n",
    "        ctr=0\n",
    "        links={}\n",
    "        for link in self.links:\n",
    "            links[ctr]=link.get_name()\n",
    "            ctr+=1\n",
    "        \n",
    "        config['links']=links\n",
    "        return config\n",
    "        \n",
    "    def get_name(self):\n",
    "        return self.name\n",
    "    \n",
    "    def set_name(self, name):\n",
    "        self.name=name\n",
    "\n",
    "    def set_value(self, value):\n",
    "        self.value= value\n",
    "    \n",
    "    def get_value(self):\n",
    "        return self.value\n",
    "    \n",
    "    def get_indexed_value(self, index):\n",
    "        return self.value[index]\n",
    "\n",
    "    def add_link(self, linkfn):\n",
    "        self.links.append(linkfn)\n",
    "    \n",
    "    def close(self):\n",
    "        pass\n",
    "    \n",
    "    @classmethod\n",
    "    def from_config(cls,  config):\n",
    "        #print(\"a:\",config)\n",
    "        func = cls(new_name=False, **config)\n",
    "        #key  = 'links'\n",
    "        #if key in config:\n",
    "        #    for key in config['links'].keys():\n",
    "        #        func.links.append(FunctionsList.getInstance().get_function(config['links'][key]))\n",
    "        \n",
    "        #print(\"b:\",func.get_config())\n",
    "        return func\n",
    "\n",
    "    def __str__(self):\n",
    "        return str(self.__dict__)"
   ]
  },
  {
   "cell_type": "code",
   "execution_count": null,
   "metadata": {},
   "outputs": [],
   "source": [
    "%nbdev_export\n",
    "class Proportional(BaseFunction):\n",
    "    \"A proportion of the input value as defined by the gain parameter. Parameters: The gain value. Links: One.\"\n",
    "    def __init__(self, gain=1, value=0, name=\"proportional\", links=None, new_name=True, **cargs):\n",
    "        super().__init__(name, value, links, new_name)\n",
    "        self.gain = gain\n",
    "\n",
    "    def __call__(self, verbose=False):\n",
    "        input = self.links[0].get_value()\n",
    "        self.value = input * self.gain\n",
    "        return super().__call__(verbose)\n",
    "    \n",
    "    def summary(self):\n",
    "        super().summary(f'gain {self.gain}')\n",
    "\n",
    "    def get_config(self):\n",
    "        config = super().get_config()\n",
    "        config[\"gain\"] = self.gain\n",
    "        return config               "
   ]
  },
  {
   "cell_type": "code",
   "execution_count": null,
   "metadata": {},
   "outputs": [],
   "source": [
    "%nbdev_export\n",
    "class Variable(BaseFunction):\n",
    "    \"A function that returns a variable value. Parameter: The variable value. Links: None\"\n",
    "    def __init__(self,  value=0, name=\"variable\", links=None, new_name=True, **cargs):\n",
    "        super().__init__(name, value, links, new_name)\n",
    "    \n",
    "    def __call__(self, verbose=False):\n",
    "        return super().__call__(verbose)\n",
    "    \n",
    "    def summary(self):\n",
    "        super().summary(\"\")\n",
    "        \n",
    "    def get_config(self):\n",
    "        config = super().get_config()\n",
    "        return config\n",
    "\n"
   ]
  },
  {
   "cell_type": "code",
   "execution_count": null,
   "metadata": {},
   "outputs": [],
   "source": [
    "%nbdev_export\n",
    "class DigitalBanded(BaseFunction):\n",
    "    \"A function that returns a variable value. Parameter: The variable value. Links: None\"\n",
    "    def __init__(self,  value=0, name=\"variable\", links=None, new_name=True, **cargs):\n",
    "        super().__init__(name, value, links, new_name)\n",
    "    \n",
    "    def __call__(self, verbose=False):\n",
    "        return super().__call__(verbose)\n",
    "    \n",
    "    def summary(self):\n",
    "        super().summary(\"\")\n",
    "        \n",
    "    def get_config(self):\n",
    "        config = super().get_config()\n",
    "        return config\n",
    "\n"
   ]
  },
  {
   "cell_type": "code",
   "execution_count": null,
   "metadata": {},
   "outputs": [],
   "source": [
    "%nbdev_export\n",
    "class Subtract(BaseFunction):\n",
    "    \"A function that subtracts one value from another. Parameter: None. Links: Two links required to each the values to be subtracted.\"\n",
    "    def __init__(self, value=0, name=\"subtract\", links=None, new_name=True, **cargs):\n",
    "        super().__init__(name, value, links, new_name)\n",
    "    \n",
    "    def __call__(self, verbose=False):\n",
    "        #print(\"Sub \", self.links[0].get_value(),self.links[1].get_value() )\n",
    "        self.value = self.links[0].get_value()-self.links[1].get_value()\n",
    "\n",
    "        return super().__call__(verbose)\n",
    "\n",
    "    def summary(self):\n",
    "        super().summary(\"\")\n",
    "\n",
    "    def get_config(self):\n",
    "        return super().get_config()\n",
    "                        "
   ]
  },
  {
   "cell_type": "code",
   "execution_count": null,
   "metadata": {},
   "outputs": [],
   "source": [
    "%nbdev_export\n",
    "class Constant(BaseFunction):\n",
    "    \"A function that returns a constant value. Parameter: The constant value. Links: None\"\n",
    "    def __init__(self, value=0, name=\"constant\", new_name=True, **cargs):\n",
    "        super().__init__(name, value, None, new_name)\n",
    "    \n",
    "    def __call__(self, verbose=False):\n",
    "        return super().__call__(verbose)\n",
    "    \n",
    "    def summary(self):\n",
    "        super().summary(\"\")\n",
    "\n",
    "    def get_config(self):\n",
    "        return super().get_config()\n"
   ]
  },
  {
   "cell_type": "code",
   "execution_count": null,
   "metadata": {},
   "outputs": [],
   "source": [
    "%nbdev_export\n",
    "class Integration(BaseFunction):\n",
    "    \"A leaky integrating function. Equivalent of a exponential smoothing function, of the amplified input. Parameter: The gain and slow values. Links: One.\"\n",
    "    def __init__(self, gain=1, slow=2, value=0, name=\"integration\", links=None, new_name=True, **cargs):\n",
    "        super().__init__(name, value, links, new_name)\n",
    "        self.gain = gain\n",
    "        self.slow = slow\n",
    "    \n",
    "    def __call__(self, verbose=False):\n",
    "        input = self.links[0].get_value()\n",
    "        self.value = self.value +  ((input * self.gain) - self.value)/self.slow\n",
    "        \n",
    "        return super().__call__(verbose)\n",
    "\n",
    "    def summary(self):\n",
    "        super().summary(f'gain {self.gain} slow {self.slow} ')\n",
    "\n",
    "    def get_config(self):\n",
    "        config = super().get_config()\n",
    "        config[\"gain\"] = self.gain\n",
    "        config[\"slow\"] = self.slow\n",
    "        return config       \n",
    "        "
   ]
  },
  {
   "cell_type": "code",
   "execution_count": null,
   "metadata": {},
   "outputs": [],
   "source": [
    "%nbdev_export\n",
    "class WeightedSum(BaseFunction):\n",
    "    \"A function that combines a set of inputs by multiplying each by a weight and then adding them up. Parameter: The weights array. Links: Links to all the input functions.\"\n",
    "    def __init__(self, weights=np.ones(3), value=0, name=\"weighted_sum\", links=None, new_name=True, **cargs):\n",
    "        super().__init__(name, value, links, new_name)\n",
    "        self.weights = weights\n",
    "    \n",
    "    def __call__(self, verbose=False):\n",
    "        if len(self.links) != self.weights.size:\n",
    "            raise Exception(f'Number of links {len(self.links)} and weights {self.weights.size} must be the same.')\n",
    "        \n",
    "        inputs = np.array([link.get_value() for link in self.links])\n",
    "        self.value = np.dot(inputs, self.weights)\n",
    "\n",
    "        return super().__call__(verbose)\n",
    "\n",
    "    def summary(self):\n",
    "        super().summary(\"\")\n",
    "\n",
    "    def get_config(self):\n",
    "        config = super().get_config()\n",
    "        config[\"weights\"] = self.weights\n",
    "        return config"
   ]
  },
  {
   "cell_type": "code",
   "execution_count": null,
   "metadata": {},
   "outputs": [],
   "source": [
    "%nbdev_export\n",
    "class IndexedParameter(BaseFunction):\n",
    "    \"A function that returns a parameter from a linked function, indexed by number. Parameter: The index. Links: One.\"\n",
    "    def __init__(self, index=None, value=0, name=\"indexed_parameter\", links=None, new_name=True, **cargs):\n",
    "        super().__init__(name, value, links, new_name)\n",
    "        self.index = index\n",
    "    \n",
    "    def __call__(self, verbose=False):\n",
    "        super().check_links(1)\n",
    "        self.value = self.links[0].get_indexed_value(self.index)\n",
    "\n",
    "        return super().__call__(verbose)\n",
    "\n",
    "    def summary(self):\n",
    "        super().summary(f'index {self.index}')\n",
    "\n",
    "\n",
    "    def get_config(self):\n",
    "        config = super().get_config()\n",
    "        config[\"index\"] = self.index\n",
    "        return config"
   ]
  },
  {
   "cell_type": "code",
   "execution_count": null,
   "metadata": {},
   "outputs": [],
   "source": []
  },
  {
   "cell_type": "code",
   "execution_count": null,
   "metadata": {},
   "outputs": [],
   "source": [
    "%nbdev_export\n",
    "class OpenAIGym(BaseFunction):\n",
    "    \"A function that creates an runs an environment from OpenAI Gym. Parameter: The environment name. Flag to display environment. Links: Link to the action function.\"\n",
    "    def __init__(self, env_name=None, render=False, video_wrap=False, value=0, name=\"gym\", links=None, new_name=True, **cargs):\n",
    "        super().__init__(name, value, links, new_name)\n",
    "        \n",
    "        self.video_wrap = video_wrap\n",
    "        self.create_env(env_name, 4000)\n",
    "        self.render = render\n",
    "        self.reward = 0\n",
    "        self.done = False\n",
    "        self.info = {}\n",
    "        \n",
    "    def __call__(self, verbose=False):\n",
    "        super().check_links(1)\n",
    "        input = self.links[0].get_value()\n",
    "        if input == 1 or input == -1 or input == 0:\n",
    "            obs = self.env.step(input)\n",
    "        else:\n",
    "            raise Exception(f'OpenAIGym: Input value of {input} is not valid, must be 1,0 or -1.')\n",
    "        \n",
    "        self.value = obs[0]\n",
    "        \n",
    "        self.reward = obs[1]\n",
    "        self.done = obs[2]\n",
    "        self.info = obs[3]\n",
    "        \n",
    "        if self.render:\n",
    "            self.env.render()\n",
    "            \n",
    "        return super().__call__(verbose)\n",
    "\n",
    "    def summary(self):\n",
    "        super().summary(\"\")\n",
    "\n",
    "    def get_config(self):\n",
    "        config = super().get_config()\n",
    "        config[\"values\"] = self.value\n",
    "        config[\"reward\"] = self.reward\n",
    "        config[\"done\"] = self.done\n",
    "        config[\"info\"] = self.info\n",
    "        \n",
    "        return config\n",
    "    \n",
    "    def create_env(self, env_name, max_episode_steps):\n",
    "        genv = gym.make(env_name)\n",
    "        genv._max_episode_steps = max_episode_steps\n",
    "        if self.video_wrap:\n",
    "            self.env =  vid.wrap_env(genv)\n",
    "        else:\n",
    "            self.env = genv\n",
    "            self.env.reset()\n",
    "            \n",
    "    def close(self):\n",
    "        self.env.close()\n"
   ]
  },
  {
   "cell_type": "code",
   "execution_count": null,
   "metadata": {},
   "outputs": [],
   "source": []
  },
  {
   "cell_type": "markdown",
   "metadata": {},
   "source": [
    "## Creating Functions"
   ]
  },
  {
   "cell_type": "markdown",
   "metadata": {},
   "source": [
    "Standard class constructor. Different ways to create a function with the standard constructor."
   ]
  },
  {
   "cell_type": "code",
   "execution_count": null,
   "metadata": {},
   "outputs": [
    {
     "name": "stdout",
     "output_type": "stream",
     "text": [
      "{'type': 'Proportional', 'name': 'proportional', 'value': 0, 'links': {}, 'gain': 1}\n",
      "{'type': 'Proportional', 'name': 'proportional1', 'value': 10, 'links': {}, 'gain': 'myprop'}\n",
      "{'type': 'Proportional', 'name': 'proportional2', 'value': 0, 'links': {}, 'gain': 10}\n"
     ]
    }
   ],
   "source": [
    "prop = Proportional()\n",
    "print(prop.get_config())\n",
    "prop = Proportional(\"myprop\", 10)\n",
    "print(prop.get_config())\n",
    "prop = Proportional(gain=10)\n",
    "print(prop.get_config())"
   ]
  },
  {
   "cell_type": "markdown",
   "metadata": {},
   "source": [
    "Configuration class constructor. Create the function by passing a configuration structure to the constructor."
   ]
  },
  {
   "cell_type": "code",
   "execution_count": null,
   "metadata": {},
   "outputs": [
    {
     "name": "stdout",
     "output_type": "stream",
     "text": [
      "{'type': 'Proportional', 'name': 'myprop', 'value': 5, 'links': {}, 'gain': 20}\n"
     ]
    }
   ],
   "source": [
    "prop = Proportional(**{'name': 'myprop', 'value': 5, 'gain': 20})\n",
    "print(prop.get_config())"
   ]
  },
  {
   "cell_type": "markdown",
   "metadata": {},
   "source": [
    "Configuration class method. Create the function by passing a configuration structure to a class method."
   ]
  },
  {
   "cell_type": "code",
   "execution_count": null,
   "metadata": {},
   "outputs": [
    {
     "name": "stdout",
     "output_type": "stream",
     "text": [
      "{'type': 'Proportional', 'name': 'myprop', 'value': -0.5, 'links': {}, 'gain': 21}\n"
     ]
    }
   ],
   "source": [
    "config = {'name': 'myprop', 'value': -0.5, 'gain': 21}\n",
    "prop = Proportional.from_config(config)\n",
    "print(prop.get_config())"
   ]
  },
  {
   "cell_type": "code",
   "execution_count": null,
   "metadata": {},
   "outputs": [
    {
     "name": "stdout",
     "output_type": "stream",
     "text": [
      "{'type': 'Proportional', 'name': 'proportional3', 'value': 0, 'links': {}, 'gain': 1}\n",
      "{'type': 'Proportional', 'name': 'proportional3', 'value': 0, 'links': {}, 'gain': 1}\n"
     ]
    }
   ],
   "source": [
    "prop = Proportional()\n",
    "print(prop.get_config())\n",
    "prop1 = Proportional.from_config(prop.get_config())\n",
    "print(prop1.get_config())\n",
    "assert prop.get_config() == prop1.get_config()"
   ]
  },
  {
   "cell_type": "markdown",
   "metadata": {},
   "source": [
    "An example showing creating a WeightedSum function."
   ]
  },
  {
   "cell_type": "code",
   "execution_count": null,
   "metadata": {},
   "outputs": [
    {
     "data": {
      "text/plain": [
       "{'type': 'WeightedSum',\n",
       " 'name': 'weighted_sum',\n",
       " 'value': 35.0,\n",
       " 'links': {0: 'constant', 1: 'constant1', 2: 'constant2'},\n",
       " 'weights': array([1., 1., 1.])}"
      ]
     },
     "execution_count": null,
     "metadata": {},
     "output_type": "execute_result"
    }
   ],
   "source": [
    "wts=np.ones(3)\n",
    "ws = WeightedSum(weights=wts)\n",
    "ws.add_link(Constant(10))\n",
    "ws.add_link(Constant(5))\n",
    "ws.add_link(Constant(20))\n",
    "assert ws() == 35\n",
    "ws.get_config()"
   ]
  },
  {
   "cell_type": "code",
   "execution_count": null,
   "metadata": {},
   "outputs": [
    {
     "ename": "AttributeError",
     "evalue": "'dict' object has no attribute 'get_name'",
     "output_type": "error",
     "traceback": [
      "\u001b[1;31m---------------------------------------------------------------------------\u001b[0m",
      "\u001b[1;31mAttributeError\u001b[0m                            Traceback (most recent call last)",
      "\u001b[1;32m<ipython-input-202-adffda43cf33>\u001b[0m in \u001b[0;36m<module>\u001b[1;34m\u001b[0m\n\u001b[0;32m      1\u001b[0m \u001b[0mws1\u001b[0m \u001b[1;33m=\u001b[0m \u001b[0mWeightedSum\u001b[0m\u001b[1;33m.\u001b[0m\u001b[0mfrom_config\u001b[0m\u001b[1;33m(\u001b[0m\u001b[0mws\u001b[0m\u001b[1;33m.\u001b[0m\u001b[0mget_config\u001b[0m\u001b[1;33m(\u001b[0m\u001b[1;33m)\u001b[0m\u001b[1;33m)\u001b[0m\u001b[1;33m\u001b[0m\u001b[1;33m\u001b[0m\u001b[0m\n\u001b[1;32m----> 2\u001b[1;33m \u001b[0mws1\u001b[0m\u001b[1;33m.\u001b[0m\u001b[0mget_config\u001b[0m\u001b[1;33m(\u001b[0m\u001b[1;33m)\u001b[0m\u001b[1;33m\u001b[0m\u001b[1;33m\u001b[0m\u001b[0m\n\u001b[0m",
      "\u001b[1;32m<ipython-input-194-cae19ab427ef>\u001b[0m in \u001b[0;36mget_config\u001b[1;34m(self)\u001b[0m\n\u001b[0;32m     19\u001b[0m \u001b[1;33m\u001b[0m\u001b[0m\n\u001b[0;32m     20\u001b[0m     \u001b[1;32mdef\u001b[0m \u001b[0mget_config\u001b[0m\u001b[1;33m(\u001b[0m\u001b[0mself\u001b[0m\u001b[1;33m)\u001b[0m\u001b[1;33m:\u001b[0m\u001b[1;33m\u001b[0m\u001b[1;33m\u001b[0m\u001b[0m\n\u001b[1;32m---> 21\u001b[1;33m         \u001b[0mconfig\u001b[0m \u001b[1;33m=\u001b[0m \u001b[0msuper\u001b[0m\u001b[1;33m(\u001b[0m\u001b[1;33m)\u001b[0m\u001b[1;33m.\u001b[0m\u001b[0mget_config\u001b[0m\u001b[1;33m(\u001b[0m\u001b[1;33m)\u001b[0m\u001b[1;33m\u001b[0m\u001b[1;33m\u001b[0m\u001b[0m\n\u001b[0m\u001b[0;32m     22\u001b[0m         \u001b[0mconfig\u001b[0m\u001b[1;33m[\u001b[0m\u001b[1;34m\"weights\"\u001b[0m\u001b[1;33m]\u001b[0m \u001b[1;33m=\u001b[0m \u001b[0mself\u001b[0m\u001b[1;33m.\u001b[0m\u001b[0mweights\u001b[0m\u001b[1;33m\u001b[0m\u001b[1;33m\u001b[0m\u001b[0m\n\u001b[0;32m     23\u001b[0m         \u001b[1;32mreturn\u001b[0m \u001b[0mconfig\u001b[0m\u001b[1;33m\u001b[0m\u001b[1;33m\u001b[0m\u001b[0m\n",
      "\u001b[1;32m<ipython-input-187-8d306a7a21f8>\u001b[0m in \u001b[0;36mget_config\u001b[1;34m(self)\u001b[0m\n\u001b[0;32m     67\u001b[0m         \u001b[0mlinks\u001b[0m\u001b[1;33m=\u001b[0m\u001b[1;33m{\u001b[0m\u001b[1;33m}\u001b[0m\u001b[1;33m\u001b[0m\u001b[1;33m\u001b[0m\u001b[0m\n\u001b[0;32m     68\u001b[0m         \u001b[1;32mfor\u001b[0m \u001b[0mlink\u001b[0m \u001b[1;32min\u001b[0m \u001b[0mself\u001b[0m\u001b[1;33m.\u001b[0m\u001b[0mlinks\u001b[0m\u001b[1;33m:\u001b[0m\u001b[1;33m\u001b[0m\u001b[1;33m\u001b[0m\u001b[0m\n\u001b[1;32m---> 69\u001b[1;33m             \u001b[0mlinks\u001b[0m\u001b[1;33m[\u001b[0m\u001b[0mctr\u001b[0m\u001b[1;33m]\u001b[0m\u001b[1;33m=\u001b[0m\u001b[0mlink\u001b[0m\u001b[1;33m.\u001b[0m\u001b[0mget_name\u001b[0m\u001b[1;33m(\u001b[0m\u001b[1;33m)\u001b[0m\u001b[1;33m\u001b[0m\u001b[1;33m\u001b[0m\u001b[0m\n\u001b[0m\u001b[0;32m     70\u001b[0m             \u001b[0mctr\u001b[0m\u001b[1;33m+=\u001b[0m\u001b[1;36m1\u001b[0m\u001b[1;33m\u001b[0m\u001b[1;33m\u001b[0m\u001b[0m\n\u001b[0;32m     71\u001b[0m \u001b[1;33m\u001b[0m\u001b[0m\n",
      "\u001b[1;31mAttributeError\u001b[0m: 'dict' object has no attribute 'get_name'"
     ]
    }
   ],
   "source": [
    "ws1 = WeightedSum.from_config(ws.get_config())\n",
    "ws1.get_config()"
   ]
  },
  {
   "cell_type": "markdown",
   "metadata": {},
   "source": [
    "## Viewing Functions"
   ]
  },
  {
   "cell_type": "markdown",
   "metadata": {},
   "source": [
    "View the details of the function with the \"summary\", which prints the name, type, parameters, value and links (if any)."
   ]
  },
  {
   "cell_type": "code",
   "execution_count": null,
   "metadata": {},
   "outputs": [],
   "source": [
    "prop.summary()"
   ]
  },
  {
   "cell_type": "markdown",
   "metadata": {},
   "source": [
    "As already seen the function details can be seen by retrieving the configuration."
   ]
  },
  {
   "cell_type": "code",
   "execution_count": null,
   "metadata": {},
   "outputs": [],
   "source": [
    "print(prop.get_config())"
   ]
  },
  {
   "cell_type": "markdown",
   "metadata": {},
   "source": [
    "Or you can print the function."
   ]
  },
  {
   "cell_type": "code",
   "execution_count": null,
   "metadata": {},
   "outputs": [],
   "source": [
    "print(prop)"
   ]
  },
  {
   "cell_type": "markdown",
   "metadata": {},
   "source": [
    "Set the decimal places for output display."
   ]
  },
  {
   "cell_type": "code",
   "execution_count": null,
   "metadata": {},
   "outputs": [],
   "source": [
    "print(prop.output_string())\n",
    "prop.set_decimal_places(2)\n",
    "print(prop.output_string())"
   ]
  },
  {
   "cell_type": "markdown",
   "metadata": {},
   "source": [
    "# Setting Links\n",
    "The next cell shows how a link is added to one function from another. In this case from an Integration function to a Constant function. So, whenever \"integrator\" runs it will get its input from \"cons\". "
   ]
  },
  {
   "cell_type": "code",
   "execution_count": null,
   "metadata": {},
   "outputs": [],
   "source": [
    "integrator = Integration(3, 10)\n",
    "cons = Constant(5)\n",
    "integrator.add_link(cons)\n",
    "integrator.summary()"
   ]
  },
  {
   "cell_type": "code",
   "execution_count": null,
   "metadata": {},
   "outputs": [],
   "source": [
    "#print(UniqueNamer.getInstance().names)\n",
    "UniqueNamer.getInstance().clear()\n",
    "integ = Integration(**{'name': 'myinteg', 'value': 1, 'gain': 20, 'slow': 100})\n",
    "prop = Proportional(5, name=\"myprop\")\n",
    "integ.add_link(prop)\n",
    "print(integ.get_config())\n",
    "assert integ.get_config() == {'type': 'Integration', 'name': 'myinteg', 'value': 1, 'links': {0: 'myprop'}, 'gain': 20, 'slow': 100}"
   ]
  },
  {
   "cell_type": "markdown",
   "metadata": {},
   "source": [
    "## Running a Fucntion\n",
    "A function can simply be run by calling it, without any parameters. It will use whatever input was set by the links. It returns the result of the function. In this example it will be 5 \\* 3 / 10, that is, input \\* gain / slow."
   ]
  },
  {
   "cell_type": "code",
   "execution_count": null,
   "metadata": {},
   "outputs": [],
   "source": [
    "output = integrator()\n",
    "print(output)\n",
    "assert output == 1.5"
   ]
  },
  {
   "cell_type": "markdown",
   "metadata": {},
   "source": [
    "## Array Input\n",
    "The input to a function can be an array rather than a single value."
   ]
  },
  {
   "cell_type": "code",
   "execution_count": null,
   "metadata": {},
   "outputs": [],
   "source": [
    "integrator.set_value(np.array([1, 2, 4, 3]))\n",
    "output = integrator()\n",
    "print(output)\n",
    "np.testing.assert_array_equal(output, [2.4, 3.3, 5.1, 4.2])"
   ]
  },
  {
   "cell_type": "code",
   "execution_count": null,
   "metadata": {},
   "outputs": [],
   "source": [
    "print(integrator.get_config())"
   ]
  },
  {
   "cell_type": "markdown",
   "metadata": {},
   "source": [
    "## Examples"
   ]
  },
  {
   "cell_type": "markdown",
   "metadata": {},
   "source": [
    "### Configuration\n",
    "Create a function from the configuration of another."
   ]
  },
  {
   "cell_type": "code",
   "execution_count": null,
   "metadata": {},
   "outputs": [],
   "source": [
    "#print(integrator.get_config())\n",
    "integrator = Integration(3, 10)\n",
    "cons = Constant(5)\n",
    "integrator.add_link(cons)\n",
    "\n",
    "inte = Integration.from_config(integrator.get_config())\n",
    "print(inte())\n",
    "print(inte.get_config())\n",
    "target = {'type': 'Integration', 'name': 'integration1', 'value': 1.5, 'links': {0: 'constant'}, 'gain': 3, 'slow': 10}\n",
    "print(target)\n",
    "assert inte.get_config() == target"
   ]
  },
  {
   "cell_type": "markdown",
   "metadata": {},
   "source": [
    "### OpenAI Gym\n",
    "An example showing how to use an OpenAI Gym function. And how to have another function which accesses one of the values of the gym environment. "
   ]
  },
  {
   "cell_type": "code",
   "execution_count": null,
   "metadata": {},
   "outputs": [],
   "source": [
    "import os\n",
    "render=False\n",
    "if os.name=='nt':\n",
    "    render=True\n",
    "acrobot = OpenAIGym(\"Acrobot-v1\", render=render)\n",
    "acrobot.add_link(Constant(1))\n",
    "acrobot.get_config()"
   ]
  },
  {
   "cell_type": "code",
   "execution_count": null,
   "metadata": {},
   "outputs": [],
   "source": [
    "acrobot()\n",
    "print(acrobot.reward)\n",
    "print(getattr(acrobot, \"reward\"))"
   ]
  },
  {
   "cell_type": "code",
   "execution_count": null,
   "metadata": {},
   "outputs": [],
   "source": [
    "acrobot.value[0]"
   ]
  },
  {
   "cell_type": "code",
   "execution_count": null,
   "metadata": {},
   "outputs": [],
   "source": [
    "cos_angle1 = IndexedParameter(0, name=\"cos_angle1\")\n",
    "cos_angle1.add_link(acrobot)\n",
    "print(cos_angle1)\n",
    "print(cos_angle1.get_config())\n",
    "cos_angle1()"
   ]
  },
  {
   "cell_type": "code",
   "execution_count": null,
   "metadata": {},
   "outputs": [],
   "source": [
    "acrobot.close()"
   ]
  },
  {
   "cell_type": "code",
   "execution_count": null,
   "metadata": {},
   "outputs": [],
   "source": [
    "#hide\n",
    "from nbdev import *\n",
    "notebook2script()"
   ]
  }
 ],
 "metadata": {
  "kernelspec": {
   "display_name": "Python 3",
   "language": "python",
   "name": "python3"
  }
 },
 "nbformat": 4,
 "nbformat_minor": 4
}
