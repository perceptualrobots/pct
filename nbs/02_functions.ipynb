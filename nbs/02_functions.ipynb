{
 "cells": [
  {
   "cell_type": "code",
   "execution_count": null,
   "metadata": {},
   "outputs": [
    {
     "name": "stdout",
     "output_type": "stream",
     "text": [
      "Cells will be exported to pct.functions,\n",
      "unless a different module is specified after an export flag: `%nbdev_export special.module`\n"
     ]
    }
   ],
   "source": [
    "from nbdev import *\n",
    "%nbdev_default_export functions"
   ]
  },
  {
   "cell_type": "code",
   "execution_count": null,
   "metadata": {},
   "outputs": [],
   "source": [
    "%nbdev_hide\n",
    "%reload_ext autoreload\n",
    "%autoreload 2"
   ]
  },
  {
   "cell_type": "markdown",
   "metadata": {},
   "source": [
    "# Functions\n",
    "\n",
    "> Functions that form the elements of a perceptual control node (system).\n"
   ]
  },
  {
   "cell_type": "markdown",
   "metadata": {},
   "source": [
    "## Overview\n",
    "Each function outputs the result of applying the function logic and may be a scalar or array, depending on the input. The inputs are supplied as links to another function, from where the values are read. Unless the function is a simple case, such as a 'Constant'. \n",
    "\n",
    "Parameters are supplied as arguments to the constructor of the class."
   ]
  },
  {
   "cell_type": "code",
   "execution_count": null,
   "metadata": {},
   "outputs": [],
   "source": [
    "%nbdev_export\n",
    "import numpy as np\n",
    "import gym\n",
    "import json\n",
    "import networkx as nx\n",
    "from abc import ABC, abstractmethod\n",
    "from pct.putils import UniqueNamer\n",
    "from pct.putils import FunctionsList"
   ]
  },
  {
   "cell_type": "code",
   "execution_count": null,
   "metadata": {},
   "outputs": [],
   "source": [
    "%nbdev_export\n",
    "class BaseFunction(ABC):\n",
    "    \"Base class of a PCT function. This class is not used direclty by developers, but defines the functionality common to all.\"\n",
    "    def __init__(self, name, value, links=None, new_name=True):\n",
    "        self.value = value\n",
    "        self.links = []\n",
    "        self.handle_links(links)\n",
    "\n",
    "                \n",
    "        #print(f'size {len(UniqueNamer.getInstance().names)} {name} {name in UniqueNamer.getInstance().names}', end=\" \")\n",
    "        if new_name:\n",
    "            self.name = UniqueNamer.getInstance().get_name(name)\n",
    "        else:\n",
    "            self.name = name                \n",
    "        #print(self.name)\n",
    "        FunctionsList.getInstance().add_function(self)\n",
    "        self.decimal_places = 3\n",
    "        \n",
    "    @abstractmethod\n",
    "    def __call__(self, verbose=False):\n",
    "        if verbose :\n",
    "            print(self.output_string(), end= \" \")\n",
    "            \n",
    "        return self.value\n",
    "    \n",
    "    def handle_links(self, links):\n",
    "        if links!=None:\n",
    "            if isinstance(links, dict):\n",
    "                if len(links)>0:\n",
    "                    for key in links.keys():\n",
    "                        self.links.append(FunctionsList.getInstance().get_function(links[key]))\n",
    "                return\n",
    "\n",
    "            if isinstance(links, list):\n",
    "                for link in links:\n",
    "                    if isinstance(link, str):\n",
    "                        self.links.append(FunctionsList.getInstance().get_function(link))\n",
    "                    else:\n",
    "                        self.links.append(link)\n",
    "                return\n",
    "        \n",
    "            if isinstance(links, str):\n",
    "                self.links.append(FunctionsList.getInstance().get_function(links))\n",
    "                return\n",
    "            \n",
    "            self.links.append(links)\n",
    "                \n",
    "    def draw(self, with_labels=True,  font_size=12, font_weight='bold', node_color='red',  \n",
    "             node_size=500, arrowsize=25, align='horizontal', file=None):\n",
    "        graph = self.graph()\n",
    "        nx.draw(graph,  with_labels=with_labels, font_size=font_size, font_weight=font_weight, \n",
    "                node_color=node_color,  node_size=node_size, arrowsize=arrowsize)\n",
    "        \n",
    "    def graph(self, layer=None):\n",
    "        graph = nx.DiGraph()\n",
    "        \n",
    "        self.set_graph_data(graph, layer=layer)\n",
    "                \n",
    "        return graph\n",
    "    \n",
    "    def set_graph_data(self, graph, layer=None):\n",
    "        node_name = self.name\n",
    "        edges = []\n",
    "        for link in self.links:\n",
    "            edges.append(( link.get_name(),self.name))\n",
    "            \n",
    "        graph.add_node(node_name, layer=layer)\n",
    "        graph.add_edges_from( edges)    \n",
    "\n",
    "        \n",
    "        \n",
    "    def output_string(self):\n",
    "        return f'{round(self.value, self.decimal_places):.{self.decimal_places}f}'\n",
    "    \n",
    "    def check_links(self, num):\n",
    "        if len(self.links) != num:\n",
    "            raise Exception(f'Incorrect number of links {len(self.links)} for function {self.name}. {num} expected.')            \n",
    "        \n",
    "    def set_decimal_places(self, dp):\n",
    "        self.decimal_places = dp\n",
    "        \n",
    "    \n",
    "    @abstractmethod    \n",
    "    def summary(self, str):\n",
    "        \"Print the summary of the function configuration. No argument required.\"\n",
    "        print(f'{self.name} {type(self).__name__}', end = \" \")\n",
    "        if len(str)>0:\n",
    "            print(f'| {str}', end= \" \")\n",
    "        print(f'| {self.value}', end = \" \")\n",
    "        if len(self.links)>0:\n",
    "            print('| links ', end=\" \")\n",
    "        for link in self.links:\n",
    "            print(link.get_name(), end= \" \")\n",
    "        print()\n",
    "        \n",
    "    @abstractmethod    \n",
    "    def get_config(self):\n",
    "        \"Return the JSON  configuration of the function.\"\n",
    "        config = {\"type\": type(self).__name__,\n",
    "                    \"name\": self.name, \n",
    "                    \"value\": self.value}\n",
    "        \n",
    "        ctr=0\n",
    "        links={}\n",
    "        for link in self.links:\n",
    "            links[ctr]=link.get_name()\n",
    "            ctr+=1\n",
    "        \n",
    "        config['links']=links\n",
    "        return config\n",
    "        \n",
    "    def get_name(self):\n",
    "        return self.name\n",
    "    \n",
    "    def set_name(self, name):\n",
    "        FunctionsList.getInstance().remove_function(self.name)\n",
    "        self.name=name\n",
    "        FunctionsList.getInstance().add_function(self)\n",
    "\n",
    "    def set_property(self, property_name, property_value):\n",
    "        #self[property_name]= property_value\n",
    "        exec(f'self.{property_name}= {property_value}')\n",
    "\n",
    "    def set_value(self, value):\n",
    "        self.value= value\n",
    "    \n",
    "    def get_value(self):\n",
    "        return self.value\n",
    "    \n",
    "    def get_indexed_value(self, index):\n",
    "        return self.value[index]\n",
    "\n",
    "    def add_link(self, linkfn):\n",
    "        self.links.append(linkfn)\n",
    "    \n",
    "    def close(self):\n",
    "        pass\n",
    "    \n",
    "    def save(self, file=None, indent=4):\n",
    "        jsondict = json.dumps(self.get_config(), indent=indent)\n",
    "        f = open(file, \"w\")\n",
    "        f.write(jsondict)\n",
    "        f.close()\n",
    "        \n",
    "    @classmethod\n",
    "    def load(cls, file):      \n",
    "        with open(file) as f:\n",
    "            config = json.load(f)\n",
    "        return cls.from_config(config)\n",
    "    \n",
    "    @classmethod\n",
    "    def from_config(cls,  config):\n",
    "        func = cls(new_name=False, **config)\n",
    "        return func\n",
    "\n",
    "    def __str__(self):\n",
    "        return str(self.__dict__)"
   ]
  },
  {
   "cell_type": "code",
   "execution_count": null,
   "metadata": {},
   "outputs": [
    {
     "data": {
      "text/markdown": [
       "<h4 id=\"BaseFunction.summary\" class=\"doc_header\"><code>BaseFunction.summary</code><a href=\"__main__.py#L83\" class=\"source_link\" style=\"float:right\">[source]</a></h4>\n",
       "\n",
       "> <code>BaseFunction.summary</code>(**`str`**)\n",
       "\n",
       "Print the summary of the function configuration. No argument required."
      ],
      "text/plain": [
       "<IPython.core.display.Markdown object>"
      ]
     },
     "metadata": {},
     "output_type": "display_data"
    }
   ],
   "source": [
    "show_doc(BaseFunction.summary)"
   ]
  },
  {
   "cell_type": "code",
   "execution_count": null,
   "metadata": {},
   "outputs": [
    {
     "data": {
      "text/markdown": [
       "<h4 id=\"BaseFunction.get_config\" class=\"doc_header\"><code>BaseFunction.get_config</code><a href=\"__main__.py#L96\" class=\"source_link\" style=\"float:right\">[source]</a></h4>\n",
       "\n",
       "> <code>BaseFunction.get_config</code>()\n",
       "\n",
       "Return the JSON  configuration of the function."
      ],
      "text/plain": [
       "<IPython.core.display.Markdown object>"
      ]
     },
     "metadata": {},
     "output_type": "display_data"
    }
   ],
   "source": [
    "show_doc(BaseFunction.get_config)"
   ]
  },
  {
   "cell_type": "code",
   "execution_count": null,
   "metadata": {},
   "outputs": [],
   "source": [
    "%nbdev_export\n",
    "class Subtract(BaseFunction):\n",
    "    \"A function that subtracts one value from another. Parameter: None. Links: Two links required to each the values to be subtracted.\"\n",
    "    def __init__(self, value=0, name=\"subtract\", links=None, new_name=True, **cargs):\n",
    "        super().__init__(name, value, links, new_name)\n",
    "    \n",
    "    def __call__(self, verbose=False):\n",
    "        #print(\"Sub \", self.links[0].get_value(),self.links[1].get_value() )\n",
    "        self.value = self.links[0].get_value()-self.links[1].get_value()\n",
    "\n",
    "        return super().__call__(verbose)\n",
    "\n",
    "    def summary(self):\n",
    "        super().summary(\"\")\n",
    "\n",
    "    def get_config(self):\n",
    "        return super().get_config()\n",
    "                        "
   ]
  },
  {
   "cell_type": "code",
   "execution_count": null,
   "metadata": {},
   "outputs": [],
   "source": [
    "%nbdev_export\n",
    "class Proportional(BaseFunction):\n",
    "    \"A proportion of the input value as defined by the gain parameter. Parameters: The gain value. Links: One.\"\n",
    "    def __init__(self, gain=1, value=0, name=\"proportional\", links=None, new_name=True, **cargs):\n",
    "        super().__init__(name, value, links, new_name)\n",
    "        self.gain = gain\n",
    "\n",
    "    def __call__(self, verbose=False):\n",
    "        input = self.links[0].get_value()\n",
    "        self.value = input * self.gain\n",
    "        return super().__call__(verbose)\n",
    "    \n",
    "    def summary(self):\n",
    "        super().summary(f'gain {self.gain}')\n",
    "\n",
    "    def get_config(self):\n",
    "        config = super().get_config()\n",
    "        config[\"gain\"] = self.gain\n",
    "        return config               "
   ]
  },
  {
   "cell_type": "code",
   "execution_count": null,
   "metadata": {},
   "outputs": [],
   "source": [
    "%nbdev_export\n",
    "class Variable(BaseFunction):\n",
    "    \"A function that returns a variable value. Parameter: The variable value. Links: None\"\n",
    "    def __init__(self,  value=0, name=\"variable\", links=None, new_name=True, **cargs):\n",
    "        super().__init__(name, value, links, new_name)\n",
    "    \n",
    "    def __call__(self, verbose=False):\n",
    "        return super().__call__(verbose)\n",
    "    \n",
    "    def summary(self):\n",
    "        super().summary(\"\")\n",
    "        \n",
    "    def get_config(self):\n",
    "        config = super().get_config()\n",
    "        return config\n",
    "\n"
   ]
  },
  {
   "cell_type": "code",
   "execution_count": null,
   "metadata": {},
   "outputs": [],
   "source": [
    "%nbdev_export\n",
    "class PassOn(BaseFunction):\n",
    "    \"A function that passes on a variable value from a linked function. Parameter: None. Links: One\"\n",
    "    def __init__(self,  value=0, name=\"variable\", links=None, new_name=True, **cargs):\n",
    "        super().__init__(name, value, links, new_name)\n",
    "    \n",
    "    def __call__(self, verbose=False):\n",
    "        self.value = self.links[0].get_value()\n",
    "        return super().__call__(verbose)\n",
    "    \n",
    "    def summary(self):\n",
    "        super().summary(\"\")\n",
    "        \n",
    "    def get_config(self):\n",
    "        config = super().get_config()\n",
    "        return config\n",
    "\n"
   ]
  },
  {
   "cell_type": "code",
   "execution_count": null,
   "metadata": {},
   "outputs": [],
   "source": [
    "%nbdev_export\n",
    "class GreaterThan(BaseFunction):\n",
    "    \"One of two supplied values is returned if the input is greater than supplied threshold.</br> Parameters: The threshold and upper and lower value. Links: One\"\n",
    "    def __init__(self, threshold=0, upper=1, lower=0, value=0, name=\"greaterthan\", links=None, new_name=True, **cargs):\n",
    "        super().__init__(name, value, links, new_name)\n",
    "        self.threshold=threshold\n",
    "        self.upper=upper\n",
    "        self.lower=lower\n",
    "    \n",
    "    def __call__(self, verbose=False):\n",
    "        input = self.links[0].get_value()\n",
    "        if input >= self.threshold:\n",
    "            self.value = self.upper\n",
    "        else:\n",
    "            self.value = self.lower\n",
    "        \n",
    "        return super().__call__(verbose)\n",
    "    \n",
    "    def summary(self):\n",
    "        super().summary(\"\")\n",
    "        \n",
    "    def get_config(self):\n",
    "        config = super().get_config()\n",
    "        return config\n",
    "\n"
   ]
  },
  {
   "cell_type": "code",
   "execution_count": null,
   "metadata": {},
   "outputs": [],
   "source": [
    "%nbdev_export\n",
    "class Constant(BaseFunction):\n",
    "    \"A function that returns a constant value. Parameter: The constant value. Links: None\"\n",
    "    def __init__(self, value=0, name=\"constant\", new_name=True, **cargs):\n",
    "        super().__init__(name, value, None, new_name)\n",
    "    \n",
    "    def __call__(self, verbose=False):\n",
    "        return super().__call__(verbose)\n",
    "    \n",
    "    def summary(self):\n",
    "        super().summary(\"\")\n",
    "\n",
    "    def get_config(self):\n",
    "        return super().get_config()\n"
   ]
  },
  {
   "cell_type": "code",
   "execution_count": null,
   "metadata": {},
   "outputs": [
    {
     "name": "stdout",
     "output_type": "stream",
     "text": [
      "{'type': 'Constant', 'name': 'constant', 'value': 20, 'links': {}}\n",
      "{'type': 'Constant', 'name': 'constant', 'value': 20, 'links': {}}\n"
     ]
    }
   ],
   "source": [
    "ct = Constant(20)\n",
    "print(ct.get_config())\n",
    "ct.save(\"ct.json\")\n",
    "ctt = Constant.load(\"ct.json\")\n",
    "print(ctt.get_config())"
   ]
  },
  {
   "cell_type": "code",
   "execution_count": null,
   "metadata": {},
   "outputs": [],
   "source": [
    "%nbdev_export\n",
    "class Integration(BaseFunction):\n",
    "    \"A leaky integrating function. Equivalent of a exponential smoothing function, of the amplified input. Parameter: The gain and slow values. Links: One.\"\n",
    "    def __init__(self, gain=1, slow=2, value=0, name=\"integration\", links=None, new_name=True, **cargs):\n",
    "        super().__init__(name, value, links, new_name)\n",
    "        self.gain = gain\n",
    "        self.slow = slow\n",
    "    \n",
    "    def __call__(self, verbose=False):\n",
    "        input = self.links[0].get_value()\n",
    "        self.value = self.value +  ((input * self.gain) - self.value)/self.slow\n",
    "        \n",
    "        return super().__call__(verbose)\n",
    "\n",
    "    def summary(self):\n",
    "        super().summary(f'gain {self.gain} slow {self.slow} ')\n",
    "\n",
    "    def get_config(self):\n",
    "        config = super().get_config()\n",
    "        config[\"gain\"] = self.gain\n",
    "        config[\"slow\"] = self.slow\n",
    "        return config       \n",
    "        "
   ]
  },
  {
   "cell_type": "code",
   "execution_count": null,
   "metadata": {},
   "outputs": [],
   "source": [
    "%nbdev_export\n",
    "class WeightedSum(BaseFunction):\n",
    "    \"A function that combines a set of inputs by multiplying each by a weight and then adding them up. Parameter: The weights array. Links: Links to all the input functions.\"\n",
    "    def __init__(self, weights=np.ones(3), value=0, name=\"weighted_sum\", links=None, new_name=True, **cargs):\n",
    "        super().__init__(name, value, links, new_name)\n",
    "        if isinstance(weights, list): \n",
    "            self.weights = np.array(weights)\n",
    "        else: \n",
    "            self.weights = weights\n",
    "    \n",
    "    def __call__(self, verbose=False):\n",
    "        if len(self.links) != self.weights.size:\n",
    "            raise Exception(f'Number of links {len(self.links)} and weights {self.weights.size} must be the same.')\n",
    "        \n",
    "        inputs = np.array([link.get_value() for link in self.links])\n",
    "        self.value = np.dot(inputs, self.weights)\n",
    "\n",
    "        return super().__call__(verbose)\n",
    "\n",
    "    def summary(self):\n",
    "        super().summary(f'weights {self.weights}')\n",
    "\n",
    "    def get_config(self):\n",
    "        config = super().get_config()\n",
    "        config[\"weights\"] = self.weights.tolist()\n",
    "        return config"
   ]
  },
  {
   "cell_type": "code",
   "execution_count": null,
   "metadata": {},
   "outputs": [],
   "source": [
    "%nbdev_export\n",
    "class IndexedParameter(BaseFunction):\n",
    "    \"A function that returns a parameter from a linked function, indexed by number. Parameter: The index. Links: One.\"\n",
    "    def __init__(self, index=None, value=0, name=\"indexed_parameter\", links=None, new_name=True, **cargs):\n",
    "        super().__init__(name, value, links, new_name)\n",
    "        self.index = index\n",
    "    \n",
    "    def __call__(self, verbose=False):\n",
    "        super().check_links(1)\n",
    "        self.value = self.links[0].get_indexed_value(self.index)\n",
    "\n",
    "        return super().__call__(verbose)\n",
    "\n",
    "    def summary(self):\n",
    "        super().summary(f'index {self.index}')\n",
    "\n",
    "\n",
    "    def get_config(self):\n",
    "        config = super().get_config()\n",
    "        config[\"index\"] = self.index\n",
    "        return config"
   ]
  },
  {
   "cell_type": "code",
   "execution_count": null,
   "metadata": {},
   "outputs": [],
   "source": [
    "%nbdev_export\n",
    "class OpenAIGym(BaseFunction):\n",
    "    \"A function that creates an runs an environment from OpenAI Gym. Parameter: The environment name. Flag to display environment. Links: Link to the action function.\"\n",
    "    def __init__(self, env_name=None, render=False, video_wrap=False, value=0, name=\"gym\", links=None, new_name=True, **cargs):\n",
    "        super().__init__(name, value, links, new_name)\n",
    "        \n",
    "        self.video_wrap = video_wrap\n",
    "        self.create_env(env_name, 4000)\n",
    "        self.render = render\n",
    "        self.reward = 0\n",
    "        self.done = False\n",
    "        self.info = {}\n",
    "        \n",
    "    def __call__(self, verbose=False):\n",
    "        super().check_links(1)\n",
    "        input = self.links[0].get_value()\n",
    "        if input == 1 or input == -1 or input == 0:\n",
    "            obs = self.env.step(input)\n",
    "        else:\n",
    "            raise Exception(f'OpenAIGym: Input value of {input} is not valid, must be 1,0 or -1.')\n",
    "        \n",
    "        self.value = obs[0]\n",
    "        \n",
    "        self.reward = obs[1]\n",
    "        self.done = obs[2]\n",
    "        self.info = obs[3]\n",
    "        \n",
    "        if self.render:\n",
    "            self.env.render()\n",
    "            \n",
    "        return super().__call__(verbose)\n",
    "\n",
    "    def summary(self):\n",
    "        super().summary(\"\")\n",
    "\n",
    "    def get_config(self):\n",
    "        config = super().get_config()\n",
    "        config[\"values\"] = self.value\n",
    "        config[\"reward\"] = self.reward\n",
    "        config[\"done\"] = self.done\n",
    "        config[\"info\"] = self.info\n",
    "        \n",
    "        return config\n",
    "    \n",
    "    def output_string(self):\n",
    "        \n",
    "        if isinstance(self.value, int):\n",
    "            rtn = f'{round(self.value, self.decimal_places):.{self.decimal_places}f}'\n",
    "        else:\n",
    "            list = [f'{round(val, self.decimal_places):.{self.decimal_places}f} ' for val in self.value]\n",
    "            list.append(str(self.reward))\n",
    "            list.append(\" \")\n",
    "            list.append(str(self.done))\n",
    "            list.append(\" \")\n",
    "            list.append(str(self.info))\n",
    "            \n",
    "            rtn = ''.join(list)\n",
    "\n",
    "        return rtn\n",
    "\n",
    "    \n",
    "    def create_env(self, env_name, max_episode_steps):\n",
    "        genv = gym.make(env_name)\n",
    "        genv._max_episode_steps = max_episode_steps\n",
    "        if self.video_wrap:\n",
    "            self.env =  vid.wrap_env(genv)\n",
    "        else:\n",
    "            self.env = genv\n",
    "            self.env.reset()\n",
    "            \n",
    "    def close(self):\n",
    "        self.env.close()\n"
   ]
  },
  {
   "cell_type": "markdown",
   "metadata": {},
   "source": [
    "## Creating Functions"
   ]
  },
  {
   "cell_type": "markdown",
   "metadata": {},
   "source": [
    "Standard class constructor. Different ways to create a function with the standard constructor."
   ]
  },
  {
   "cell_type": "code",
   "execution_count": null,
   "metadata": {},
   "outputs": [
    {
     "name": "stdout",
     "output_type": "stream",
     "text": [
      "{'type': 'Proportional', 'name': 'proportional', 'value': 0, 'links': {}, 'gain': 1}\n",
      "{'type': 'Proportional', 'name': 'proportional1', 'value': 10, 'links': {}, 'gain': 'myprop'}\n",
      "{'type': 'Proportional', 'name': 'proportional2', 'value': 0, 'links': {}, 'gain': 10}\n"
     ]
    }
   ],
   "source": [
    "prop = Proportional()\n",
    "print(prop.get_config())\n",
    "prop = Proportional(\"myprop\", 10)\n",
    "print(prop.get_config())\n",
    "prop = Proportional(gain=10)\n",
    "print(prop.get_config())"
   ]
  },
  {
   "cell_type": "markdown",
   "metadata": {},
   "source": [
    "Configuration class constructor. Create the function by passing a configuration structure to the constructor."
   ]
  },
  {
   "cell_type": "code",
   "execution_count": null,
   "metadata": {},
   "outputs": [
    {
     "name": "stdout",
     "output_type": "stream",
     "text": [
      "{'type': 'Proportional', 'name': 'myprop', 'value': 5, 'links': {}, 'gain': 20}\n"
     ]
    }
   ],
   "source": [
    "prop = Proportional(**{'name': 'myprop', 'value': 5, 'gain': 20})\n",
    "print(prop.get_config())"
   ]
  },
  {
   "cell_type": "markdown",
   "metadata": {},
   "source": [
    "Configuration class method. Create the function by passing a configuration structure to a class method."
   ]
  },
  {
   "cell_type": "code",
   "execution_count": null,
   "metadata": {},
   "outputs": [
    {
     "name": "stdout",
     "output_type": "stream",
     "text": [
      "{'type': 'Proportional', 'name': 'myprop', 'value': -0.5, 'links': {}, 'gain': 21}\n"
     ]
    }
   ],
   "source": [
    "config = {'name': 'myprop', 'value': -0.5, 'gain': 21}\n",
    "prop = Proportional.from_config(config)\n",
    "print(prop.get_config())"
   ]
  },
  {
   "cell_type": "code",
   "execution_count": null,
   "metadata": {},
   "outputs": [
    {
     "name": "stdout",
     "output_type": "stream",
     "text": [
      "{'type': 'Proportional', 'name': 'proportional3', 'value': 0, 'links': {}, 'gain': 1}\n",
      "{'type': 'Proportional', 'name': 'proportional3', 'value': 0, 'links': {}, 'gain': 1}\n"
     ]
    }
   ],
   "source": [
    "prop = Proportional()\n",
    "print(prop.get_config())\n",
    "prop1 = Proportional.from_config(prop.get_config())\n",
    "print(prop1.get_config())\n",
    "assert prop.get_config() == prop1.get_config()"
   ]
  },
  {
   "cell_type": "markdown",
   "metadata": {},
   "source": [
    "An example showing creating a WeightedSum function."
   ]
  },
  {
   "cell_type": "code",
   "execution_count": null,
   "metadata": {},
   "outputs": [
    {
     "data": {
      "text/plain": [
       "{'type': 'WeightedSum',\n",
       " 'name': 'weighted_sum',\n",
       " 'value': 35.0,\n",
       " 'links': {0: 'constant1', 1: 'constant2', 2: 'constant3'},\n",
       " 'weights': [1.0, 1.0, 1.0]}"
      ]
     },
     "execution_count": null,
     "metadata": {},
     "output_type": "execute_result"
    }
   ],
   "source": [
    "wts=np.ones(3)\n",
    "ws = WeightedSum(weights=wts)\n",
    "ws.add_link(Constant(10))\n",
    "ws.add_link(Constant(5))\n",
    "ws.add_link(Constant(20))\n",
    "assert ws() == 35\n",
    "ws.get_config()"
   ]
  },
  {
   "cell_type": "code",
   "execution_count": null,
   "metadata": {},
   "outputs": [
    {
     "data": {
      "text/plain": [
       "{'type': 'WeightedSum',\n",
       " 'name': 'weighted_sum',\n",
       " 'value': 35.0,\n",
       " 'links': {0: 'constant1', 1: 'constant2', 2: 'constant3'},\n",
       " 'weights': [1.0, 1.0, 1.0]}"
      ]
     },
     "execution_count": null,
     "metadata": {},
     "output_type": "execute_result"
    }
   ],
   "source": [
    "ws1 = WeightedSum.from_config(ws.get_config())\n",
    "ws1.get_config()"
   ]
  },
  {
   "cell_type": "markdown",
   "metadata": {},
   "source": [
    "## Viewing Functions"
   ]
  },
  {
   "cell_type": "markdown",
   "metadata": {},
   "source": [
    "View the details of the function with the \"summary\", which prints the name, type, parameters, value and links (if any)."
   ]
  },
  {
   "cell_type": "code",
   "execution_count": null,
   "metadata": {},
   "outputs": [
    {
     "name": "stdout",
     "output_type": "stream",
     "text": [
      "proportional3 Proportional | gain 1 | 0 \n"
     ]
    }
   ],
   "source": [
    "prop.summary()"
   ]
  },
  {
   "cell_type": "markdown",
   "metadata": {},
   "source": [
    "As already seen the function details can be seen by retrieving the configuration."
   ]
  },
  {
   "cell_type": "code",
   "execution_count": null,
   "metadata": {},
   "outputs": [
    {
     "name": "stdout",
     "output_type": "stream",
     "text": [
      "{'type': 'Proportional', 'name': 'proportional3', 'value': 0, 'links': {}, 'gain': 1}\n"
     ]
    }
   ],
   "source": [
    "print(prop.get_config())"
   ]
  },
  {
   "cell_type": "markdown",
   "metadata": {},
   "source": [
    "Or you can print the function."
   ]
  },
  {
   "cell_type": "code",
   "execution_count": null,
   "metadata": {},
   "outputs": [
    {
     "name": "stdout",
     "output_type": "stream",
     "text": [
      "{'value': 0, 'links': [], 'name': 'proportional3', 'decimal_places': 3, 'gain': 1}\n"
     ]
    }
   ],
   "source": [
    "print(prop)"
   ]
  },
  {
   "cell_type": "markdown",
   "metadata": {},
   "source": [
    "Set the decimal places for output display."
   ]
  },
  {
   "cell_type": "code",
   "execution_count": null,
   "metadata": {},
   "outputs": [
    {
     "name": "stdout",
     "output_type": "stream",
     "text": [
      "0.000\n",
      "0.00\n"
     ]
    }
   ],
   "source": [
    "print(prop.output_string())\n",
    "prop.set_decimal_places(2)\n",
    "print(prop.output_string())"
   ]
  },
  {
   "cell_type": "markdown",
   "metadata": {},
   "source": [
    "You can also view a function graphically as a network of connected nodes."
   ]
  },
  {
   "cell_type": "code",
   "execution_count": null,
   "metadata": {},
   "outputs": [
    {
     "data": {
      "image/png": "[encoded data removed]",
      "text/plain": [
       "<Figure size 432x288 with 1 Axes>"
      ]
     },
     "metadata": {},
     "output_type": "display_data"
    }
   ],
   "source": [
    "sub = Subtract(links=[Constant(1, name='cons'), Proportional(10, name='prop')], name='sub')\n",
    "import os\n",
    "if os.name=='nt':\n",
    "    #g = sub.graph()\n",
    "    #nx.draw(g, with_labels=True, font_weight='bold', node_color='red',  node_size=2000, arrowsize=25)\n",
    "    sub.draw(node_size=2000)"
   ]
  },
  {
   "cell_type": "markdown",
   "metadata": {},
   "source": [
    "## Save and Load"
   ]
  },
  {
   "cell_type": "markdown",
   "metadata": {},
   "source": [
    "Save a function to file."
   ]
  },
  {
   "cell_type": "code",
   "execution_count": null,
   "metadata": {},
   "outputs": [
    {
     "name": "stdout",
     "output_type": "stream",
     "text": [
      "{'type': 'WeightedSum', 'name': 'weighted_sum', 'value': 35.0, 'links': {0: 'constant1', 1: 'constant2', 2: 'constant3'}, 'weights': [1.0, 1.0, 1.0]}\n"
     ]
    }
   ],
   "source": [
    "print(ws.get_config())\n",
    "ws.save(\"ws.json\")"
   ]
  },
  {
   "cell_type": "markdown",
   "metadata": {},
   "source": [
    "Create a function from file."
   ]
  },
  {
   "cell_type": "code",
   "execution_count": null,
   "metadata": {},
   "outputs": [
    {
     "name": "stdout",
     "output_type": "stream",
     "text": [
      "{'type': 'WeightedSum', 'name': 'weighted_sum', 'value': 35.0, 'links': {0: 'constant1', 1: 'constant2', 2: 'constant3'}, 'weights': [1.0, 1.0, 1.0]}\n"
     ]
    }
   ],
   "source": [
    "wss = WeightedSum.load(\"ws.json\")\n",
    "assert ws.get_config() == wss.get_config() \n",
    "print(wss.get_config())"
   ]
  },
  {
   "cell_type": "markdown",
   "metadata": {},
   "source": [
    "# Setting Links\n",
    "The next cell shows how a link is added to one function from another. In this case from an Integration function to a Constant function. So, whenever \"integrator\" runs it will get its input from \"cons\". "
   ]
  },
  {
   "cell_type": "code",
   "execution_count": null,
   "metadata": {},
   "outputs": [
    {
     "name": "stdout",
     "output_type": "stream",
     "text": [
      "integration Integration | gain 3 slow 10  | 0 | links  constant4 \n"
     ]
    }
   ],
   "source": [
    "integrator = Integration(3, 10)\n",
    "cons = Constant(5)\n",
    "integrator.add_link(cons)\n",
    "integrator.summary()"
   ]
  },
  {
   "cell_type": "code",
   "execution_count": null,
   "metadata": {},
   "outputs": [
    {
     "name": "stdout",
     "output_type": "stream",
     "text": [
      "{'type': 'Integration', 'name': 'myinteg', 'value': 1, 'links': {0: 'myprop'}, 'gain': 20, 'slow': 100}\n"
     ]
    }
   ],
   "source": [
    "UniqueNamer.getInstance().clear() # initialises the list of function names\n",
    "integ = Integration(**{'name': 'myinteg', 'value': 1, 'gain': 20, 'slow': 100})\n",
    "prop = Proportional(5, name=\"myprop\")\n",
    "integ.add_link(prop)\n",
    "print(integ.get_config())\n",
    "assert integ.get_config() == {'type': 'Integration', 'name': 'myinteg', 'value': 1, 'links': {0: 'myprop'}, 'gain': 20, 'slow': 100}"
   ]
  },
  {
   "cell_type": "markdown",
   "metadata": {},
   "source": [
    "You can also define the link when you create the function, as in this example with \"Proportional\"."
   ]
  },
  {
   "cell_type": "code",
   "execution_count": null,
   "metadata": {},
   "outputs": [
    {
     "name": "stdout",
     "output_type": "stream",
     "text": [
      "pr Proportional | gain 1 | 0 | links  const \n"
     ]
    }
   ],
   "source": [
    "const = Constant(1, name='const')\n",
    "pr = Proportional(name='pr', links=const)\n",
    "pr.summary()\n",
    "assert pr() == 1"
   ]
  },
  {
   "cell_type": "markdown",
   "metadata": {},
   "source": [
    "It can be the name of the linked function."
   ]
  },
  {
   "cell_type": "code",
   "execution_count": null,
   "metadata": {},
   "outputs": [
    {
     "name": "stdout",
     "output_type": "stream",
     "text": [
      "pr1 Proportional | gain 10 | 0 | links  const \n"
     ]
    }
   ],
   "source": [
    "pr = Proportional(gain=10, name='pr', links='const')\n",
    "pr.summary()\n",
    "assert pr() == 10"
   ]
  },
  {
   "cell_type": "markdown",
   "metadata": {},
   "source": [
    "Or it can be a list of names."
   ]
  },
  {
   "cell_type": "code",
   "execution_count": null,
   "metadata": {},
   "outputs": [
    {
     "name": "stdout",
     "output_type": "stream",
     "text": [
      "subtract Subtract | 0 | links  const pr \n"
     ]
    }
   ],
   "source": [
    "sub = Subtract(links=['const', 'pr'])\n",
    "sub.summary()\n",
    "assert sub()==0"
   ]
  },
  {
   "cell_type": "markdown",
   "metadata": {},
   "source": [
    "## Running a Fucntion\n",
    "A function can simply be run by calling it, without any parameters. It will use whatever input was set by the links. It returns the result of the function. In this example it will be 5 \\* 3 / 10, that is, input \\* gain / slow."
   ]
  },
  {
   "cell_type": "code",
   "execution_count": null,
   "metadata": {},
   "outputs": [
    {
     "name": "stdout",
     "output_type": "stream",
     "text": [
      "1.5\n"
     ]
    }
   ],
   "source": [
    "output = integrator()\n",
    "print(output)\n",
    "assert output == 1.5"
   ]
  },
  {
   "cell_type": "markdown",
   "metadata": {},
   "source": [
    "## Array Input\n",
    "The input to a function can be an array rather than a single value."
   ]
  },
  {
   "cell_type": "code",
   "execution_count": null,
   "metadata": {},
   "outputs": [
    {
     "name": "stdout",
     "output_type": "stream",
     "text": [
      "[2.4 3.3 5.1 4.2]\n"
     ]
    }
   ],
   "source": [
    "integrator.set_value(np.array([1, 2, 4, 3]))\n",
    "output = integrator()\n",
    "print(output)\n",
    "np.testing.assert_array_equal(output, [2.4, 3.3, 5.1, 4.2])"
   ]
  },
  {
   "cell_type": "code",
   "execution_count": null,
   "metadata": {},
   "outputs": [
    {
     "name": "stdout",
     "output_type": "stream",
     "text": [
      "{'type': 'Integration', 'name': 'integration', 'value': array([2.4, 3.3, 5.1, 4.2]), 'links': {0: 'constant4'}, 'gain': 3, 'slow': 10}\n"
     ]
    }
   ],
   "source": [
    "print(integrator.get_config())"
   ]
  },
  {
   "cell_type": "markdown",
   "metadata": {},
   "source": [
    "## Examples"
   ]
  },
  {
   "cell_type": "markdown",
   "metadata": {},
   "source": [
    "### Configuration\n",
    "Create a function from the configuration of another."
   ]
  },
  {
   "cell_type": "code",
   "execution_count": null,
   "metadata": {},
   "outputs": [
    {
     "name": "stdout",
     "output_type": "stream",
     "text": [
      "1.5\n",
      "{'type': 'Integration', 'name': 'integration', 'value': 1.5, 'links': {0: 'constant'}, 'gain': 3, 'slow': 10}\n",
      "{'type': 'Integration', 'name': 'integration', 'value': 1.5, 'links': {0: 'constant'}, 'gain': 3, 'slow': 10}\n"
     ]
    }
   ],
   "source": [
    "#print(integrator.get_config())\n",
    "integrator = Integration(3, 10)\n",
    "cons = Constant(5)\n",
    "integrator.add_link(cons)\n",
    "\n",
    "inte = Integration.from_config(integrator.get_config())\n",
    "print(inte())\n",
    "print(inte.get_config())\n",
    "target = {'type': 'Integration', 'name': 'integration', 'value': 1.5, 'links': {0: 'constant'}, 'gain': 3, 'slow': 10}\n",
    "print(target)\n",
    "assert inte.get_config() == target"
   ]
  },
  {
   "cell_type": "markdown",
   "metadata": {},
   "source": [
    "### OpenAI Gym\n",
    "An example showing how to use an OpenAI Gym function. And how to have another function which accesses one of the values of the gym environment. "
   ]
  },
  {
   "cell_type": "code",
   "execution_count": null,
   "metadata": {},
   "outputs": [
    {
     "data": {
      "text/plain": [
       "{'type': 'OpenAIGym',\n",
       " 'name': 'gym',\n",
       " 'value': 0,\n",
       " 'links': {0: 'constant1'},\n",
       " 'values': 0,\n",
       " 'reward': 0,\n",
       " 'done': False,\n",
       " 'info': {}}"
      ]
     },
     "execution_count": null,
     "metadata": {},
     "output_type": "execute_result"
    }
   ],
   "source": [
    "import os\n",
    "render=False\n",
    "if os.name=='nt':\n",
    "    render=True\n",
    "acrobot = OpenAIGym(\"Acrobot-v1\", render=render)\n",
    "acrobot.add_link(Constant(1))\n",
    "acrobot.get_config()"
   ]
  },
  {
   "cell_type": "code",
   "execution_count": null,
   "metadata": {},
   "outputs": [
    {
     "name": "stdout",
     "output_type": "stream",
     "text": [
      "-1.0\n",
      "-1.0\n"
     ]
    }
   ],
   "source": [
    "acrobot()\n",
    "print(acrobot.reward)\n",
    "print(getattr(acrobot, \"reward\"))"
   ]
  },
  {
   "cell_type": "code",
   "execution_count": null,
   "metadata": {},
   "outputs": [
    {
     "data": {
      "text/plain": [
       "'1.000 -0.003 0.998 0.070 -0.076 -0.107 -1.0 False {}'"
      ]
     },
     "execution_count": null,
     "metadata": {},
     "output_type": "execute_result"
    }
   ],
   "source": [
    "acrobot.output_string()"
   ]
  },
  {
   "cell_type": "code",
   "execution_count": null,
   "metadata": {},
   "outputs": [
    {
     "data": {
      "text/plain": [
       "0.9999956943379066"
      ]
     },
     "execution_count": null,
     "metadata": {},
     "output_type": "execute_result"
    }
   ],
   "source": [
    "acrobot.value[0]"
   ]
  },
  {
   "cell_type": "markdown",
   "metadata": {},
   "source": [
    "The IndexedParameter type retrieves a value from a linked function based upon an index."
   ]
  },
  {
   "cell_type": "code",
   "execution_count": null,
   "metadata": {},
   "outputs": [
    {
     "name": "stdout",
     "output_type": "stream",
     "text": [
      "{'type': 'IndexedParameter', 'name': 'cos_angle1', 'value': 0, 'links': {0: 'gym'}, 'index': 0}\n"
     ]
    },
    {
     "data": {
      "text/plain": [
       "0.9999956943379066"
      ]
     },
     "execution_count": null,
     "metadata": {},
     "output_type": "execute_result"
    }
   ],
   "source": [
    "cos_angle1 = IndexedParameter(0, name=\"cos_angle1\")\n",
    "cos_angle1.add_link(acrobot)\n",
    "print(cos_angle1.get_config())\n",
    "cos_angle1()"
   ]
  },
  {
   "cell_type": "code",
   "execution_count": null,
   "metadata": {},
   "outputs": [],
   "source": [
    "acrobot.close()"
   ]
  },
  {
   "cell_type": "code",
   "execution_count": null,
   "metadata": {},
   "outputs": [],
   "source": [
    "%nbdev_hide\n",
    "FunctionsList.getInstance().get_function(\"cos_angle1\").set_name(\"cos_angle2\")\n",
    "assert cos_angle1.get_name() == \"cos_angle2\""
   ]
  },
  {
   "cell_type": "code",
   "execution_count": null,
   "metadata": {},
   "outputs": [
    {
     "name": "stdout",
     "output_type": "stream",
     "text": [
      "{'type': 'Proportional', 'name': 'proportional', 'value': 0, 'links': {}, 'gain': 10}\n",
      "{'type': 'Proportional', 'name': 'proportional', 'value': 0, 'links': {}, 'gain': 3}\n"
     ]
    }
   ],
   "source": [
    "%nbdev_hide\n",
    "pp = Proportional(10)\n",
    "print(pp.get_config())\n",
    "pp.set_property(\"gain\", 3)\n",
    "print(pp.get_config())"
   ]
  },
  {
   "cell_type": "code",
   "execution_count": null,
   "metadata": {},
   "outputs": [
    {
     "name": "stdout",
     "output_type": "stream",
     "text": [
      "Converted 00_examples.ipynb.\n",
      "Converted 01_putils.ipynb.\n",
      "Converted 02_functions.ipynb.\n",
      "Converted 03_nodes.ipynb.\n",
      "Converted 04_hierarchy.ipynb.\n",
      "Converted index.ipynb.\n"
     ]
    }
   ],
   "source": [
    "%nbdev_hide\n",
    "from nbdev import *\n",
    "notebook2script()"
   ]
  },
  {
   "cell_type": "code",
   "execution_count": null,
   "metadata": {},
   "outputs": [],
   "source": []
  }
 ],
 "metadata": {
  "kernelspec": {
   "display_name": "Python 3",
   "language": "python",
   "name": "python3"
  }
 },
 "nbformat": 4,
 "nbformat_minor": 4
}
