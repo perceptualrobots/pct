{
 "cells": [
  {
   "cell_type": "code",
   "execution_count": null,
   "metadata": {},
   "outputs": [
    {
     "name": "stdout",
     "output_type": "stream",
     "text": [
      "Cells will be exported to pct.functions,\n",
      "unless a different module is specified after an export flag: `%nbdev_export special.module`\n"
     ]
    }
   ],
   "source": [
    "from nbdev import *\n",
    "%nbdev_default_export functions"
   ]
  },
  {
   "cell_type": "markdown",
   "metadata": {},
   "source": [
    "# Functions\n",
    "\n",
    "Functions that form the elements of a perceptual control node (system).\n",
    "\n",
    "Each outputs the result of applying the function and may be a scalar or array, depending on the input. The inputs are supplied as links to another function, from where the values are read. Unless the function is a simple case, such as a 'Constant'. \n",
    "\n",
    "Parameters are supplied as arguments to the constructor of the class."
   ]
  },
  {
   "cell_type": "code",
   "execution_count": null,
   "metadata": {},
   "outputs": [],
   "source": [
    "%nbdev_hide\n",
    "import numpy as np"
   ]
  },
  {
   "cell_type": "code",
   "execution_count": null,
   "metadata": {},
   "outputs": [],
   "source": [
    "%nbdev_export\n",
    "from abc import ABC, abstractmethod"
   ]
  },
  {
   "cell_type": "code",
   "execution_count": null,
   "metadata": {},
   "outputs": [],
   "source": [
    "%nbdev_export\n",
    "class BaseFunction(ABC):\n",
    "    \"Base class of a PCT function. This class is not used direclty by developers, but defines the functionality common to all.\"\n",
    "    def __init__(self, name, value):\n",
    "        self.value = value\n",
    "        self.links = []\n",
    "        self.name = name\n",
    "        \n",
    "    @abstractmethod\n",
    "    def __call__(self, verbose=False):\n",
    "        if verbose :\n",
    "            print(f'{self.value}', end= \" \")\n",
    "            \n",
    "        return self.value\n",
    "    \n",
    "    @abstractmethod    \n",
    "    def summary(self, str):\n",
    "        print(f'{self.name} {type(self).__name__}', end = \" \")\n",
    "        if len(str)>0:\n",
    "            print(f'| {str}', end= \" \")\n",
    "        print(f'| {self.value}', end = \" \")\n",
    "        if len(self.links)>0:\n",
    "            print(f'| links ', end=\" \")\n",
    "        for link in self.links:\n",
    "            print(link.get_name(), end= \" \")\n",
    "        print()\n",
    "        \n",
    "    @abstractmethod    \n",
    "    def get_config(self):\n",
    "        config = {\"type\": type(self).__name__,\n",
    "                    \"name\": self.name, \n",
    "                    \"value\": self.value}\n",
    "        return config\n",
    "        \n",
    "    def get_name(self):\n",
    "        return self.name\n",
    "    \n",
    "    def set_name(self, name):\n",
    "        self.name=name\n",
    "\n",
    "    def set_value(self, value):\n",
    "        self.value= value\n",
    "    \n",
    "    def get_value(self):\n",
    "        return self.value\n",
    "    \n",
    "    def add_link(self, linkfn):\n",
    "        self.links.append(linkfn)\n",
    "    \n",
    "    #def from_config(cls, config):\n",
    "    @classmethod\n",
    "    def from_config(cls, config):\n",
    "        #cls = config.pop(\"type\")\n",
    "        return cls(**config)\n"
   ]
  },
  {
   "cell_type": "code",
   "execution_count": null,
   "metadata": {},
   "outputs": [],
   "source": [
    "%nbdev_export\n",
    "class Proportional(BaseFunction):\n",
    "    \"A proportion of the input value as defined by the gain parameter.\"\n",
    "    def __init__(self, gain=1, name=\"proportional\", value=0, **cargs):\n",
    "        super(Proportional, self).__init__(name, value)\n",
    "        self.gain = gain\n",
    "\n",
    "    def __call__(self, verbose=False):\n",
    "        input = self.links[0].get_value()\n",
    "        self.value = input * self.gain\n",
    "        return super().__call__(verbose)\n",
    "    \n",
    "    def summary(self):\n",
    "        super().summary(f'gain {self.gain}')\n",
    "\n",
    "    def get_config(self):\n",
    "        config = super().get_config()\n",
    "        config[\"gain\"] = self.gain\n",
    "        return config               "
   ]
  },
  {
   "cell_type": "markdown",
   "metadata": {},
   "source": [
    "# Creating Functions"
   ]
  },
  {
   "cell_type": "markdown",
   "metadata": {},
   "source": [
    "Standard class constructor. Different ways to create a function with the standard constructor."
   ]
  },
  {
   "cell_type": "code",
   "execution_count": null,
   "metadata": {},
   "outputs": [
    {
     "name": "stdout",
     "output_type": "stream",
     "text": [
      "{'type': 'Proportional', 'name': 'proportional', 'value': 0, 'gain': 1}\n",
      "{'type': 'Proportional', 'name': 'myprop', 'value': 0, 'gain': 10}\n",
      "{'type': 'Proportional', 'name': 'proportional', 'value': 0, 'gain': 10}\n"
     ]
    }
   ],
   "source": [
    "prop = Proportional()\n",
    "print(prop.get_config())\n",
    "prop = Proportional(10, name=\"myprop\")\n",
    "print(prop.get_config())\n",
    "prop = Proportional(gain=10)\n",
    "print(prop.get_config())"
   ]
  },
  {
   "cell_type": "markdown",
   "metadata": {},
   "source": [
    "Configuration class constructor. Create the function by passing a configuration structure to the constructor."
   ]
  },
  {
   "cell_type": "code",
   "execution_count": null,
   "metadata": {},
   "outputs": [
    {
     "name": "stdout",
     "output_type": "stream",
     "text": [
      "{'type': 'Proportional', 'name': 'myprop', 'value': 5, 'gain': 20}\n"
     ]
    }
   ],
   "source": [
    "prop = Proportional(**{'name': 'myprop', 'value': 5, 'gain': 20})\n",
    "print(prop.get_config())"
   ]
  },
  {
   "cell_type": "markdown",
   "metadata": {},
   "source": [
    "Configuration class method. Create the function by passing a configuration structure to a class method."
   ]
  },
  {
   "cell_type": "code",
   "execution_count": null,
   "metadata": {},
   "outputs": [
    {
     "name": "stdout",
     "output_type": "stream",
     "text": [
      "{'type': 'Proportional', 'name': 'myprop', 'value': -0.5, 'gain': 21}\n"
     ]
    }
   ],
   "source": [
    "config = {'name': 'myprop', 'value': -0.5, 'gain': 21}\n",
    "prop = Proportional.from_config(config)\n",
    "print(prop.get_config())"
   ]
  },
  {
   "cell_type": "markdown",
   "metadata": {},
   "source": [
    "# Viewing Functions"
   ]
  },
  {
   "cell_type": "markdown",
   "metadata": {},
   "source": [
    "View the details of the function with the \"summary\", which prints the name, type, parameters, value and links (if any)."
   ]
  },
  {
   "cell_type": "code",
   "execution_count": null,
   "metadata": {},
   "outputs": [
    {
     "name": "stdout",
     "output_type": "stream",
     "text": [
      "myprop Proportional | gain 21 | -0.5 \n"
     ]
    }
   ],
   "source": [
    "prop.summary()"
   ]
  },
  {
   "cell_type": "markdown",
   "metadata": {},
   "source": [
    "As already seen the function details can be seen by retrieving the configuration."
   ]
  },
  {
   "cell_type": "code",
   "execution_count": null,
   "metadata": {},
   "outputs": [
    {
     "name": "stdout",
     "output_type": "stream",
     "text": [
      "{'type': 'Proportional', 'name': 'myprop', 'value': -0.5, 'gain': 21}\n"
     ]
    }
   ],
   "source": [
    "print(prop.get_config())"
   ]
  },
  {
   "cell_type": "code",
   "execution_count": null,
   "metadata": {},
   "outputs": [],
   "source": [
    "%nbdev_export\n",
    "class Variable(BaseFunction):\n",
    "    \"A function that returns a variable value.\"\n",
    "    \"Parameter: The variable value.\"\n",
    "    \"Links: None\"\n",
    "    def __init__(self, variable, value=0, name=\"variable\"):\n",
    "        super().__init__(name, value)\n",
    "        self.value = variable\n",
    "    \n",
    "    def __call__(self, verbose=False):\n",
    "        return super().__call__(verbose)\n",
    "    \n",
    "    def summary(self):\n",
    "        super().summary(\"\")\n",
    "        \n",
    "    def get_config(self):\n",
    "        config = super().get_config()\n",
    "        return config\n",
    "\n"
   ]
  },
  {
   "cell_type": "code",
   "execution_count": null,
   "metadata": {},
   "outputs": [],
   "source": [
    "%nbdev_export\n",
    "class Constant(BaseFunction):\n",
    "    \"A function that returns a constant value.\"\n",
    "    \"Parameter: The constant value.\"\n",
    "    \"Links: None\"\n",
    "    def __init__(self, constant, value=0, name=\"constant\"):\n",
    "        super().__init__(name, value)\n",
    "        self.value = constant\n",
    "    \n",
    "    def __call__(self, verbose=False):\n",
    "        return super().__call__(verbose)\n",
    "    \n",
    "    def summary(self):\n",
    "        super().summary(\"\")\n",
    "\n",
    "    def get_config(self):\n",
    "        config = super().get_config()\n"
   ]
  },
  {
   "cell_type": "code",
   "execution_count": null,
   "metadata": {},
   "outputs": [],
   "source": [
    "%nbdev_export\n",
    "class Subtract(BaseFunction):\n",
    "    \"A function that subtracts one value from another.\"\n",
    "    \"Parameter: None.\"\n",
    "    \"Links: Two links required to each the values to be subtracted.\"\n",
    "\n",
    "    def __init__(self, name=\"subtract\"):\n",
    "        super().__init__(name)\n",
    "    \n",
    "    def __call__(self, verbose=False):\n",
    "        #print(\"Sub \", self.links[0].get_value(),self.links[1].get_value() )\n",
    "        self.value = self.links[0].get_value()-self.links[1].get_value()\n",
    "\n",
    "        return super().__call__(verbose)\n",
    "\n",
    "    def summary(self):\n",
    "        super().summary(\"\")\n",
    "\n",
    "    def get_config(self):\n",
    "        return super().get_config()\n",
    "                        "
   ]
  },
  {
   "cell_type": "code",
   "execution_count": null,
   "metadata": {},
   "outputs": [],
   "source": [
    "%nbdev_export\n",
    "class Integration(BaseFunction):\n",
    "    \"Integration function.\"\n",
    "    \"Parameter: The gain and slow values.\"\n",
    "    \"Links: One.\"\n",
    "\n",
    "    def __init__(self, gain, slow, value=0, name=\"integration\"):\n",
    "        super().__init__(name, value)\n",
    "        self.gain = gain\n",
    "        self.slow = slow\n",
    "    \n",
    "    def __call__(self, verbose=False):\n",
    "        input = self.links[0].get_value()\n",
    "        self.value = self.value +  ((input * self.gain) - self.value)/self.slow\n",
    "        \n",
    "        return super().__call__(verbose)\n",
    "\n",
    "    def summary(self):\n",
    "        super().summary(f'gain {self.gain} slow {self.slow} ')\n",
    "\n",
    "    def get_config(self):\n",
    "        config = super().get_config()\n",
    "        config[\"gain\"] = self.gain\n",
    "        config[\"slow\"] = self.slow\n",
    "        return config       \n",
    "        "
   ]
  },
  {
   "cell_type": "markdown",
   "metadata": {},
   "source": [
    "# Setting Links\n",
    "The next cell shows how a link is added from one function to another. In this case from an Integration function to a constant function. So, whenever \"integrator\" runs it will get its input from \"cons\". "
   ]
  },
  {
   "cell_type": "code",
   "execution_count": null,
   "metadata": {},
   "outputs": [],
   "source": [
    "integrator = Integration(3, 10)\n",
    "cons = Constant(5)\n",
    "integrator.add_link(cons)"
   ]
  },
  {
   "cell_type": "markdown",
   "metadata": {},
   "source": [
    "# Running a Fucntion\n",
    "A function can simply be run by calling it, without any parameters. It will use whatever input was set by the links. It returns the result of the function. In this example it will be 5 * 3 / 10, that is, input * gain / slow."
   ]
  },
  {
   "cell_type": "code",
   "execution_count": null,
   "metadata": {},
   "outputs": [
    {
     "name": "stdout",
     "output_type": "stream",
     "text": [
      "1.5\n"
     ]
    }
   ],
   "source": [
    "output = integrator()\n",
    "print(output)"
   ]
  },
  {
   "cell_type": "markdown",
   "metadata": {},
   "source": [
    "# Array Input\n",
    "The input to a function can be an array rather than a single value."
   ]
  },
  {
   "cell_type": "code",
   "execution_count": null,
   "metadata": {},
   "outputs": [
    {
     "name": "stdout",
     "output_type": "stream",
     "text": [
      "[2.4 3.3 5.1 4.2]\n"
     ]
    }
   ],
   "source": [
    "\n",
    "integrator.set_value(np.array([1, 2, 4, 3]))\n",
    "output = integrator()\n",
    "print(output)\n",
    "np.testing.assert_array_equal(output, [2.4, 3.3, 5.1, 4.2])"
   ]
  },
  {
   "cell_type": "code",
   "execution_count": null,
   "metadata": {},
   "outputs": [
    {
     "name": "stdout",
     "output_type": "stream",
     "text": [
      "{'type': 'Integration', 'name': 'integration', 'value': array([2.4, 3.3, 5.1, 4.2]), 'gain': 3, 'slow': 10}\n"
     ]
    }
   ],
   "source": [
    "print(integrator.get_config())"
   ]
  },
  {
   "cell_type": "code",
   "execution_count": null,
   "metadata": {},
   "outputs": [
    {
     "name": "stdout",
     "output_type": "stream",
     "text": [
      "{'type': 'Integration', 'name': 'myinteg', 'value': 1, 'gain': 20, 'slow': 100}\n"
     ]
    }
   ],
   "source": [
    "integ = Integration(**{'name': 'myinteg', 'value': 1, 'gain': 20, 'slow': 100})\n",
    "print(integ.get_config())\n",
    "assert integ.get_config() == {'type': 'Integration', 'name': 'myinteg', 'value': 1, 'gain': 20, 'slow': 100}"
   ]
  },
  {
   "cell_type": "code",
   "execution_count": null,
   "metadata": {},
   "outputs": [
    {
     "name": "stdout",
     "output_type": "stream",
     "text": [
      "Converted 00_core.ipynb.\n",
      "Converted 01_rmath.ipynb.\n",
      "Converted 02_functions.ipynb.\n",
      "Converted 03_nodes.ipynb.\n",
      "Converted 04_hierarchy.ipynb.\n",
      "Converted index.ipynb.\n",
      "Converted Untitled.ipynb.\n"
     ]
    }
   ],
   "source": [
    "#hide\n",
    "from nbdev import *\n",
    "notebook2script()"
   ]
  },
  {
   "cell_type": "code",
   "execution_count": null,
   "metadata": {},
   "outputs": [],
   "source": []
  }
 ],
 "metadata": {
  "kernelspec": {
   "display_name": "Python 3",
   "language": "python",
   "name": "python3"
  }
 },
 "nbformat": 4,
 "nbformat_minor": 4
}
