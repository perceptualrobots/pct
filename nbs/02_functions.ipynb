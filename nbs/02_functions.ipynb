{
 "cells": [
  {
   "cell_type": "code",
   "execution_count": null,
   "metadata": {},
   "outputs": [
    {
     "name": "stdout",
     "output_type": "stream",
     "text": [
      "Cells will be exported to pct.functions,\n",
      "unless a different module is specified after an export flag: `%nbdev_export special.module`\n"
     ]
    }
   ],
   "source": [
    "from nbdev import *\n",
    "%nbdev_default_export functions"
   ]
  },
  {
   "cell_type": "markdown",
   "metadata": {},
   "source": [
    "# Functions\n",
    "\n",
    "Functions that form the elements of a perceptual control node (system)."
   ]
  },
  {
   "cell_type": "code",
   "execution_count": null,
   "metadata": {},
   "outputs": [],
   "source": [
    "import numpy as np\n",
    "import logging\n",
    "log = logging.getLogger(__name__)"
   ]
  },
  {
   "cell_type": "code",
   "execution_count": null,
   "metadata": {},
   "outputs": [],
   "source": [
    "%nbdev_export\n",
    "from abc import ABC, abstractmethod"
   ]
  },
  {
   "cell_type": "code",
   "execution_count": null,
   "metadata": {},
   "outputs": [],
   "source": [
    "%nbdev_export\n",
    "class BaseFunction(ABC):\n",
    "    \"Base class of a PCT function.\"\n",
    "    def __init__(self, name):\n",
    "        self.value = 0\n",
    "        self.links = []\n",
    "        self.name = name\n",
    "        \n",
    "    @abstractmethod\n",
    "    def __call__(self, verbose=False):\n",
    "        if verbose :\n",
    "            print(f'{self.value}', end= \" \")\n",
    "            \n",
    "        return self.value\n",
    "    \n",
    "    @abstractmethod    \n",
    "    def summary(self, str):\n",
    "        print(f'{self.name} {type(self).__name__} ', end = \" \")\n",
    "        if len(str)>0:\n",
    "            print(f'| {str}', end= \" \")\n",
    "        print(f'| {self.value}', end = \" \")\n",
    "        if len(self.links)>0:\n",
    "            print(f'| links ', end=\" \")\n",
    "        for link in self.links:\n",
    "            print(link.get_name(), end= \" \")\n",
    "        print()\n",
    "        \n",
    "    def get_name(self):\n",
    "        return self.name\n",
    "    \n",
    "    def set_name(self, name):\n",
    "        self.name=name\n",
    "\n",
    "    def set_value(self, value):\n",
    "        self.value= value\n",
    "    \n",
    "    def get_value(self):\n",
    "        return self.value\n",
    "    \n",
    "    def add_link(self, linkfn):\n",
    "        self.links.append(linkfn)\n"
   ]
  },
  {
   "cell_type": "code",
   "execution_count": null,
   "metadata": {},
   "outputs": [],
   "source": [
    "%nbdev_export\n",
    "class Variable(BaseFunction):\n",
    "    \"A function that returns a variable value.\"\n",
    "    def __init__(self, variable, name=\"variable\"):\n",
    "        super().__init__(name)\n",
    "        self.value = variable\n",
    "    \n",
    "    def __call__(self, verbose=False):\n",
    "        return super().__call__(verbose)\n",
    "    \n",
    "    def summary(self):\n",
    "        super().summary(\"\")\n"
   ]
  },
  {
   "cell_type": "code",
   "execution_count": null,
   "metadata": {},
   "outputs": [],
   "source": [
    "%nbdev_export\n",
    "class Constant(BaseFunction):\n",
    "    \"A function that returns a constant value.\"\n",
    "    def __init__(self, constant, name=\"constant\"):\n",
    "        super().__init__(name)\n",
    "        self.value = constant\n",
    "    \n",
    "    def __call__(self, verbose=False):\n",
    "        return super().__call__(verbose)\n",
    "    \n",
    "    def summary(self):\n",
    "        super().summary(\"\")\n"
   ]
  },
  {
   "cell_type": "code",
   "execution_count": null,
   "metadata": {},
   "outputs": [],
   "source": [
    "%nbdev_export\n",
    "class Subtract(BaseFunction):\n",
    "    \"A function that subtracts one value from another.\"\n",
    "    def __init__(self, name=\"subtract\"):\n",
    "        super().__init__(name)\n",
    "    \n",
    "    def __call__(self, verbose=False):\n",
    "        #print(\"Sub \", self.links[0].get_value(),self.links[1].get_value() )\n",
    "        self.value = self.links[0].get_value()-self.links[1].get_value()\n",
    "\n",
    "        return super().__call__(verbose)\n",
    "\n",
    "    def summary(self):\n",
    "        super().summary(\"\")\n"
   ]
  },
  {
   "cell_type": "code",
   "execution_count": null,
   "metadata": {},
   "outputs": [],
   "source": [
    "%nbdev_export\n",
    "class Proportional(BaseFunction):\n",
    "    \"Proportional function.\"\n",
    "    def __init__(self, gain, name=\"proportional\"):\n",
    "        super().__init__(name)\n",
    "        self.gain = gain\n",
    "    \n",
    "    def __call__(self, verbose=False):\n",
    "        input = self.links[0].get_value()\n",
    "        self.value = input * self.gain\n",
    "        return super().__call__(verbose)\n",
    "    \n",
    "    def summary(self):\n",
    "        super().summary(f' gain {self.gain}')\n"
   ]
  },
  {
   "cell_type": "code",
   "execution_count": null,
   "metadata": {},
   "outputs": [],
   "source": [
    "%nbdev_export_and_show\n",
    "class Integration(BaseFunction):\n",
    "    \"Integration function.\"\n",
    "    def __init__(self, gain, slow, name=\"integration\"):\n",
    "        super().__init__(name)\n",
    "        self.gain = gain\n",
    "        self.slow = slow\n",
    "    \n",
    "    def __call__(self, verbose=False):\n",
    "        input = self.links[0].get_value()\n",
    "        self.value = self.value +  ((input * self.gain) - self.value)/self.slow\n",
    "        \n",
    "        return super().__call__(verbose)\n",
    "\n",
    " \n",
    "    def summary(self):\n",
    "        super().summary(f'gain {self.gain} slow {self.slow} ')\n"
   ]
  },
  {
   "cell_type": "code",
   "execution_count": null,
   "metadata": {},
   "outputs": [],
   "source": []
  },
  {
   "cell_type": "code",
   "execution_count": null,
   "metadata": {},
   "outputs": [
    {
     "name": "stdout",
     "output_type": "stream",
     "text": [
      "1.5\n"
     ]
    }
   ],
   "source": [
    "integrator = Integration(3, 10)\n",
    "integrator.add_link(Constant(5))\n",
    "output = integrator()\n",
    "print(output)"
   ]
  },
  {
   "cell_type": "code",
   "execution_count": null,
   "metadata": {},
   "outputs": [],
   "source": [
    "#hide\n",
    "integrator.set_value(np.array([0]))\n",
    "output = integrator()\n",
    "assert output == [1.5]"
   ]
  },
  {
   "cell_type": "code",
   "execution_count": null,
   "metadata": {},
   "outputs": [
    {
     "name": "stdout",
     "output_type": "stream",
     "text": [
      "Converted 00_core.ipynb.\n",
      "Converted 01_rmath.ipynb.\n",
      "Converted 02_functions.ipynb.\n",
      "Converted 03_nodes.ipynb.\n",
      "Converted 04_hierarchy.ipynb.\n",
      "Converted index.ipynb.\n",
      "Converted Untitled.ipynb.\n"
     ]
    }
   ],
   "source": [
    "#hide\n",
    "from nbdev import *\n",
    "notebook2script()"
   ]
  },
  {
   "cell_type": "code",
   "execution_count": null,
   "metadata": {},
   "outputs": [],
   "source": []
  }
 ],
 "metadata": {
  "kernelspec": {
   "display_name": "Python 3",
   "language": "python",
   "name": "python3"
  }
 },
 "nbformat": 4,
 "nbformat_minor": 4
}
