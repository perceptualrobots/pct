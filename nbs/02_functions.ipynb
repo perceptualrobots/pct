{
 "cells": [
  {
   "cell_type": "code",
   "execution_count": null,
   "metadata": {},
   "outputs": [
    {
     "name": "stdout",
     "output_type": "stream",
     "text": [
      "Cells will be exported to pct.functions,\n",
      "unless a different module is specified after an export flag: `%nbdev_export special.module`\n"
     ]
    }
   ],
   "source": [
    "from nbdev import *\n",
    "%nbdev_default_export functions"
   ]
  },
  {
   "cell_type": "code",
   "execution_count": null,
   "metadata": {},
   "outputs": [],
   "source": [
    "#hide\n",
    "#%load_ext autoreload\n",
    "#%autoreload 2"
   ]
  },
  {
   "cell_type": "code",
   "execution_count": null,
   "metadata": {},
   "outputs": [],
   "source": []
  },
  {
   "cell_type": "code",
   "execution_count": null,
   "metadata": {},
   "outputs": [],
   "source": [
    "import numpy as np\n",
    "import logging\n",
    "log = logging.getLogger(__name__)"
   ]
  },
  {
   "cell_type": "markdown",
   "metadata": {},
   "source": [
    "# Functions\n",
    "\n",
    "Functions that form the elements of a perceptual control node (system)."
   ]
  },
  {
   "cell_type": "code",
   "execution_count": null,
   "metadata": {},
   "outputs": [],
   "source": [
    "%nbdev_export\n",
    "from abc import ABC, abstractmethod"
   ]
  },
  {
   "cell_type": "code",
   "execution_count": null,
   "metadata": {},
   "outputs": [],
   "source": [
    "%nbdev_export\n",
    "class BaseFunction(ABC):\n",
    "    \"Base class of a PCT function.\"\n",
    "    def __init__(self, name):\n",
    "        self.value = 0\n",
    "        self.links = []\n",
    "        self.name = name\n",
    "        \n",
    "    @abstractmethod\n",
    "    def __call__(self, verbose=False):\n",
    "        if verbose :\n",
    "            print(f'{self.value}', end= \" \")\n",
    "            \n",
    "        return self.value\n",
    "    \n",
    "    @abstractmethod    \n",
    "    def summary(self, str):\n",
    "        print(f'{self.name} {type(self).__name__} ', end = \" \")\n",
    "        if len(str)>0:\n",
    "            print(f'| {str}', end= \" \")\n",
    "        print(f'| {self.value}', end = \" \")\n",
    "        if len(self.links)>0:\n",
    "            print(f'| links ', end=\" \")\n",
    "        for link in self.links:\n",
    "            print(link.get_name(), end= \" \")\n",
    "        print()\n",
    "        \n",
    "    def get_name(self):\n",
    "        return self.name\n",
    "    \n",
    "    def set_name(self, name):\n",
    "        self.name=name\n",
    "\n",
    "    def set_value(self, value):\n",
    "        self.value= value\n",
    "    \n",
    "    def get_value(self):\n",
    "        return self.value\n",
    "    \n",
    "    def add_link(self, linkfn):\n",
    "        self.links.append(linkfn)\n"
   ]
  },
  {
   "cell_type": "code",
   "execution_count": null,
   "metadata": {},
   "outputs": [],
   "source": [
    "%nbdev_export\n",
    "class Variable(BaseFunction):\n",
    "    \"A function that returns a variable value.\"\n",
    "    def __init__(self, variable, name=\"variable\"):\n",
    "        super().__init__(name)\n",
    "        self.value = variable\n",
    "    \n",
    "    def __call__(self, verbose=False):\n",
    "        return super().__call__(verbose)\n",
    "    \n",
    "    def summary(self):\n",
    "        super().summary(\"\")\n"
   ]
  },
  {
   "cell_type": "code",
   "execution_count": null,
   "metadata": {},
   "outputs": [],
   "source": [
    "%nbdev_export\n",
    "class Constant(BaseFunction):\n",
    "    \"A function that returns a constant value.\"\n",
    "    def __init__(self, constant, name=\"constant\"):\n",
    "        super().__init__(name)\n",
    "        self.value = constant\n",
    "    \n",
    "    def __call__(self, verbose=False):\n",
    "        return super().__call__(verbose)\n",
    "    \n",
    "    def summary(self):\n",
    "        super().summary(\"\")\n"
   ]
  },
  {
   "cell_type": "code",
   "execution_count": null,
   "metadata": {},
   "outputs": [],
   "source": [
    "%nbdev_export\n",
    "class Subtract(BaseFunction):\n",
    "    \"A function that subtracts one value from another.\"\n",
    "    def __init__(self, name=\"subtract\"):\n",
    "        super().__init__(name)\n",
    "    \n",
    "    def __call__(self, verbose=False):\n",
    "        #print(\"Sub \", self.links[0].get_value(),self.links[1].get_value() )\n",
    "        self.value = self.links[0].get_value()-self.links[1].get_value()\n",
    "\n",
    "        return super().__call__(verbose)\n",
    "\n",
    "    def summary(self):\n",
    "        super().summary(\"\")\n"
   ]
  },
  {
   "cell_type": "code",
   "execution_count": null,
   "metadata": {},
   "outputs": [],
   "source": [
    "%nbdev_export\n",
    "class Proportional(BaseFunction):\n",
    "    \"Proportional function.\"\n",
    "    def __init__(self, gain, name=\"proportional\"):\n",
    "        super().__init__(name)\n",
    "        self.gain = gain\n",
    "    \n",
    "    def __call__(self, verbose=False):\n",
    "        input = self.links[0].get_value()\n",
    "        self.value = input * self.gain\n",
    "        return super().__call__(verbose)\n",
    "    \n",
    "    def summary(self):\n",
    "        super().summary(f' gain {self.gain}')\n"
   ]
  },
  {
   "cell_type": "code",
   "execution_count": null,
   "metadata": {},
   "outputs": [],
   "source": [
    "%nbdev_export\n",
    "class Integration(BaseFunction):\n",
    "    \"Integration function.\"\n",
    "    def __init__(self, gain, slow, name=\"integration\"):\n",
    "        super().__init__(name)\n",
    "        self.gain = gain\n",
    "        self.slow = slow\n",
    "    \n",
    "    def __call__(self, verbose=False):\n",
    "        input = self.links[0].get_value()\n",
    "        self.value = self.value +  ((input * self.gain) - self.value)/self.slow\n",
    "        \n",
    "        return super().__call__(verbose)\n",
    "\n",
    " \n",
    "    def summary(self):\n",
    "        super().summary(f'gain {self.gain} slow {self.slow} ')\n"
   ]
  },
  {
   "cell_type": "code",
   "execution_count": null,
   "metadata": {},
   "outputs": [],
   "source": [
    "def velocity_model(velocity,  force , mass):\n",
    "    velocity = velocity + force / mass\n",
    "    return velocity"
   ]
  },
  {
   "cell_type": "code",
   "execution_count": null,
   "metadata": {},
   "outputs": [
    {
     "name": "stdout",
     "output_type": "stream",
     "text": [
      "1.5\n"
     ]
    }
   ],
   "source": [
    "integrator = Integration(3, 10)\n",
    "integrator.add_link(Constant(5))\n",
    "output = integrator()\n",
    "print(output)"
   ]
  },
  {
   "cell_type": "code",
   "execution_count": null,
   "metadata": {},
   "outputs": [],
   "source": [
    "#hide\n",
    "integrator.set_value(np.array([0]))\n",
    "output = integrator()\n",
    "assert output == [1.5]"
   ]
  },
  {
   "cell_type": "code",
   "execution_count": null,
   "metadata": {},
   "outputs": [],
   "source": []
  },
  {
   "cell_type": "code",
   "execution_count": null,
   "metadata": {},
   "outputs": [],
   "source": [
    "%nbdev_export\n",
    "class PCTNode():\n",
    "    \"A single PCT controller.\"\n",
    "    def __init__(self, perception, name=\"pctnode\", history=False):\n",
    "        self.links_built = False\n",
    "        if history:\n",
    "            self.history = PCTNodeData()\n",
    "        self.name=name \n",
    "        self.perceptionCollection = [perception]\n",
    "        reference = Constant(1)\n",
    "        self.referenceCollection = [reference]\n",
    "        comparator = Subtract()\n",
    "        self.comparatorCollection = [comparator]\n",
    "        self.outputCollection = [Proportional(10)]\n",
    "    \n",
    "    def __call__(self, verbose=False):\n",
    "        if not self.links_built:\n",
    "            self.build_links()\n",
    "            \n",
    "        for referenceFunction in self.referenceCollection:\n",
    "            referenceFunction(verbose)               \n",
    "\n",
    "        for perceptionFunction in self.perceptionCollection:\n",
    "            perceptionFunction(verbose)\n",
    "                    \n",
    "        for comparatorFunction in self.comparatorCollection:\n",
    "            comparatorFunction(verbose)\n",
    "\n",
    "        for outputFunction in self.outputCollection:\n",
    "            outputFunction(verbose)\n",
    "            \n",
    "        self.output = self.outputCollection[-1].get_value()\n",
    "        \n",
    "        if verbose:\n",
    "            print()\n",
    "            \n",
    "        if not self.history == None:\n",
    "            self.history.add_data(self)\n",
    "            \n",
    "        return self.output\n",
    "    \n",
    "    def build_links(self):\n",
    "        if len(self.referenceCollection)>0:\n",
    "            link = self.referenceCollection[0]\n",
    "            for i in range (1, len(self.referenceCollection)):\n",
    "                self.referenceCollection[i].add_link(link)               \n",
    "                link = self.referenceCollection[i]\n",
    "\n",
    "        if len(self.perceptionCollection)>0:\n",
    "            link = self.perceptionCollection[0]\n",
    "            for i in range (1, len(self.perceptionCollection)):\n",
    "                self.perceptionCollection[i].add_link(link)               \n",
    "                link = self.perceptionCollection[i]\n",
    "\n",
    "        self.comparatorCollection[0].add_link(self.referenceCollection[-1])\n",
    "        self.comparatorCollection[0].add_link(self.perceptionCollection[-1])\n",
    "\n",
    "        if len(self.comparatorCollection)>1:\n",
    "            link = self.comparatorCollection[1]\n",
    "            for i in range (1, len(self.comparatorCollection)):\n",
    "                self.comparatorCollection[i].add_link(link)               \n",
    "                link = self.comparatorCollection[i]\n",
    "\n",
    "        self.outputCollection[0].add_link(self.comparatorCollection[-1])\n",
    "\n",
    "        if len(self.outputCollection)>0:\n",
    "            link = self.outputCollection[0]\n",
    "            for i in range (1, len(self.outputCollection)):\n",
    "                self.outputCollection[i].add_link(link)               \n",
    "                link = self.outputCollection[i]\n",
    "\n",
    "        self.links_built = True\n",
    "\n",
    "    def run(self, steps=None, verbose=False):\n",
    "        for i in range(steps):\n",
    "            out = self(verbose)\n",
    "        return out\n",
    "    \n",
    "    def set_output(self, value):\n",
    "        self.outputCollection[-1].set_value(value)\n",
    "        \n",
    "    def get_output_function(self):\n",
    "        return self.outputCollection[-1]\n",
    "    \n",
    "    \n",
    "    def set_function_name(self, collection, position, name):\n",
    "        if collection == \"refcoll\":\n",
    "            self.referenceCollection[position].set_name(name)\n",
    "    \n",
    "    def summary(self):\n",
    "        if not self.links_built:\n",
    "            self.build_links()\n",
    "\n",
    "        print(self.name, type(self).__name__)\n",
    "        print(\"----------------------------\")\n",
    "        print(\"REF:\", end=\" \")\n",
    "        for referenceFunction in self.referenceCollection:\n",
    "            referenceFunction.summary()   \n",
    "        \n",
    "        print(\"PER:\", end=\" \")\n",
    "        for perceptionFunction in self.perceptionCollection:\n",
    "            perceptionFunction.summary()\n",
    "        \n",
    "        print(\"COM:\", end=\" \")\n",
    "        for comparatorFunction in self.comparatorCollection:\n",
    "            comparatorFunction.summary()\n",
    "        \n",
    "        print(\"OUT:\", end=\" \")\n",
    "        for outputFunction in self.outputCollection:\n",
    "            outputFunction.summary()\n",
    "        \n",
    "        print(\"----------------------------\")\n"
   ]
  },
  {
   "cell_type": "code",
   "execution_count": null,
   "metadata": {},
   "outputs": [],
   "source": [
    "%nbdev_export\n",
    "class PCTNodeData():\n",
    "    \"Data collected for a PCTNode\"\n",
    "    def __init__(self, name=\"pctnodedata\"):\n",
    "        self.data = {\n",
    "            \"refcoll\":{}, \n",
    "            \"percoll\":{},\n",
    "            \"comcoll\":{}, \n",
    "            \"outcoll\":{}}\n",
    "        \n",
    "    \n",
    "    def add_data(self, node):\n",
    "        ctr = 0 \n",
    "        \n",
    "        self.add_collection( node.referenceCollection, \"refcoll\")\n",
    "        self.add_collection( node.perceptionCollection, \"percoll\")\n",
    "        self.add_collection( node.comparatorCollection, \"comcoll\")\n",
    "        self.add_collection( node.outputCollection, \"outcoll\")\n",
    "\n",
    "    def add_collection(self, collection, collname):\n",
    "        for func in collection:            \n",
    "            if self.data[collname].get(func.get_name()) == None:\n",
    "                dlist=[]\n",
    "                cdict={func.get_name():dlist}\n",
    "                self.data[collname]=cdict\n",
    "            else:\n",
    "                dlist = self.data[collname][func.get_name()]\n",
    "                \n",
    "            dlist.append(func.get_value())\n"
   ]
  },
  {
   "cell_type": "code",
   "execution_count": null,
   "metadata": {},
   "outputs": [],
   "source": []
  },
  {
   "cell_type": "code",
   "execution_count": null,
   "metadata": {},
   "outputs": [],
   "source": [
    "mass = 50\n",
    "force = 0\n",
    "vel = Variable(0, name=\"velocity\")\n",
    "node = PCTNode(vel, history=True)"
   ]
  },
  {
   "cell_type": "code",
   "execution_count": null,
   "metadata": {},
   "outputs": [
    {
     "name": "stdout",
     "output_type": "stream",
     "text": [
      "pctnode PCTNode\n",
      "----------------------------\n",
      "REF: constant Constant  | 1 \n",
      "PER: velocity Variable  | 0 \n",
      "COM: subtract Subtract  | 0 | links  constant velocity \n",
      "OUT: proportional Proportional  |  gain 10 | 0 | links  subtract \n",
      "----------------------------\n"
     ]
    }
   ],
   "source": [
    "node.summary()"
   ]
  },
  {
   "cell_type": "code",
   "execution_count": null,
   "metadata": {},
   "outputs": [
    {
     "name": "stdout",
     "output_type": "stream",
     "text": [
      "10\n"
     ]
    }
   ],
   "source": [
    "output = node(verbose=False)\n",
    "force = output\n",
    "vel.set_value(velocity_model(vel.get_value(), force, mass))\n",
    "print(force)\n",
    "assert output == 10"
   ]
  },
  {
   "cell_type": "code",
   "execution_count": null,
   "metadata": {},
   "outputs": [],
   "source": [
    "velocity_input = Variable(0, name=\"velocity\")\n",
    "pctnode = PCTNode(velocity_input, history=True)\n",
    "pctnode.set_function_name(\"refcoll\", -1, \"reference\")\n",
    "\n",
    "for i in range(40):\n",
    "    force = pctnode(verbose=False)\n",
    "    vel = velocity_model(velocity_input.get_value(), force, mass)\n",
    "    velocity_input.set_value(vel)"
   ]
  },
  {
   "cell_type": "code",
   "execution_count": null,
   "metadata": {},
   "outputs": [],
   "source": [
    "#print(pctnode.history.data['outcoll']['proportional'])"
   ]
  },
  {
   "cell_type": "code",
   "execution_count": null,
   "metadata": {},
   "outputs": [],
   "source": [
    "import plotly.graph_objects as go\n",
    "fig = go.Figure(layout_title_text=\"Velocity Goal\")\n",
    "fig.add_trace(go.Scatter(y=pctnode.history.data['refcoll']['reference'], name=\"ref\"))\n",
    "fig.add_trace(go.Scatter(y=pctnode.history.data['percoll']['velocity'], name=\"perc\"))"
   ]
  },
  {
   "cell_type": "code",
   "execution_count": null,
   "metadata": {},
   "outputs": [],
   "source": [
    "#hide\n",
    "from nbdev import *\n",
    "notebook2script()"
   ]
  },
  {
   "cell_type": "code",
   "execution_count": null,
   "metadata": {},
   "outputs": [],
   "source": []
  }
 ],
 "metadata": {
  "kernelspec": {
   "display_name": "Python 3",
   "language": "python",
   "name": "python3"
  }
 },
 "nbformat": 4,
 "nbformat_minor": 4
}
