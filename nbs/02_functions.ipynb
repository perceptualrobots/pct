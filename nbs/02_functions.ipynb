{
 "cells": [
  {
   "cell_type": "code",
   "execution_count": null,
   "metadata": {},
   "outputs": [
    {
     "name": "stdout",
     "output_type": "stream",
     "text": [
      "Cells will be exported to pct.functions,\n",
      "unless a different module is specified after an export flag: `%nbdev_export special.module`\n"
     ]
    }
   ],
   "source": [
    "from nbdev import *\n",
    "%nbdev_default_export functions"
   ]
  },
  {
   "cell_type": "code",
   "execution_count": null,
   "metadata": {},
   "outputs": [],
   "source": [
    "#hide\n",
    "#%load_ext autoreload\n",
    "#%autoreload 2"
   ]
  },
  {
   "cell_type": "code",
   "execution_count": null,
   "metadata": {},
   "outputs": [],
   "source": [
    "import numpy as np"
   ]
  },
  {
   "cell_type": "markdown",
   "metadata": {},
   "source": [
    "# Functions\n",
    "\n",
    "Functions that form the elements of a perceptual control node (system)."
   ]
  },
  {
   "cell_type": "code",
   "execution_count": null,
   "metadata": {},
   "outputs": [],
   "source": [
    "%nbdev_export\n",
    "from abc import ABC, abstractmethod"
   ]
  },
  {
   "cell_type": "code",
   "execution_count": null,
   "metadata": {},
   "outputs": [],
   "source": [
    "%nbdev_export\n",
    "class BaseFunction(ABC):\n",
    "    \"Base class of a PCT function.\"\n",
    "    def __init__(self):\n",
    "        self.output = np.zeros(1)\n",
    "        self.links = []\n",
    "        \n",
    "    @abstractmethod\n",
    "    def __call__(self):\n",
    "        pass\n",
    "    \n",
    "    def set_output(self, output):\n",
    "        self.output= output\n",
    "    \n",
    "    def get_output(self):\n",
    "        return self.output\n",
    "    \n",
    "    def add_link(self, linkfn):\n",
    "        self.links.append(linkfn)\n"
   ]
  },
  {
   "cell_type": "code",
   "execution_count": null,
   "metadata": {},
   "outputs": [],
   "source": [
    "%nbdev_export\n",
    "class Constant(BaseFunction):\n",
    "    \"A function that returns a constant value.\"\n",
    "    def __init__(self, constant):\n",
    "        super().__init__()\n",
    "        self.output = constant\n",
    "    \n",
    "    def __call__(self):\n",
    "        return self.output"
   ]
  },
  {
   "cell_type": "code",
   "execution_count": null,
   "metadata": {},
   "outputs": [],
   "source": [
    "%nbdev_export\n",
    "class Subtract(BaseFunction):\n",
    "    \"A function that subtracts one value from another.\"\n",
    "    def __init__(self):\n",
    "        super().__init__()\n",
    "    \n",
    "    def __call__(self):\n",
    "        self.output = self.links[0].get_output()-self.links[1].get_output()\n",
    "        return self.output"
   ]
  },
  {
   "cell_type": "code",
   "execution_count": null,
   "metadata": {},
   "outputs": [],
   "source": [
    "%nbdev_export\n",
    "class Proportional(BaseFunction):\n",
    "    \"Proportional function.\"\n",
    "    def __init__(self, gain):\n",
    "        super().__init__()\n",
    "        self.gain = gain\n",
    "    \n",
    "    def __call__(self):\n",
    "        self.output = input * self.gain\n",
    "        return self.output"
   ]
  },
  {
   "cell_type": "code",
   "execution_count": null,
   "metadata": {},
   "outputs": [],
   "source": [
    "%nbdev_export\n",
    "class Integration(BaseFunction):\n",
    "    \"Integration function.\"\n",
    "    def __init__(self, gain, slow):\n",
    "        super().__init__()\n",
    "        self.gain = gain\n",
    "        self.slow = slow\n",
    "    \n",
    "    def __call__(self):\n",
    "        input = self.links[0].get_output()\n",
    "        self.output = self.output +  ((input * self.gain) - self.output)/self.slow\n",
    "        return self.output\n",
    " "
   ]
  },
  {
   "cell_type": "code",
   "execution_count": null,
   "metadata": {},
   "outputs": [
    {
     "name": "stdout",
     "output_type": "stream",
     "text": [
      "[1.5]\n"
     ]
    }
   ],
   "source": [
    "integrator = Integration(3, 10)\n",
    "integrator.add_link(Constant(5))\n",
    "output = integrator()\n",
    "print(output)"
   ]
  },
  {
   "cell_type": "code",
   "execution_count": null,
   "metadata": {},
   "outputs": [],
   "source": [
    "#hide\n",
    "integrator.set_output(np.array([0]))\n",
    "output = integrator()\n",
    "assert output == [1.5]"
   ]
  },
  {
   "cell_type": "code",
   "execution_count": null,
   "metadata": {},
   "outputs": [],
   "source": []
  },
  {
   "cell_type": "code",
   "execution_count": null,
   "metadata": {},
   "outputs": [],
   "source": [
    "%nbdev_export\n",
    "class PCTNode():\n",
    "    \"A single PCT controller.\"\n",
    "    def __init__(self, perception, name=\"pctnode\"):\n",
    "        self.name=name \n",
    "        self.perceptionCollection = [perception]\n",
    "        reference = Constant(1)\n",
    "        self.referenceCollection = [reference]\n",
    "        comparator = Subtract()\n",
    "        self.comparatorCollection = [comparator]\n",
    "        self.outputCollection = [Integration(75, 100)]\n",
    "    \n",
    "    def __call__(self):\n",
    "        for perceptionFunction in self.perceptionCollection:\n",
    "            perceptionFunction()\n",
    "\n",
    "        for referenceFunction in self.referenceCollection:\n",
    "            referenceFunction()               \n",
    "            \n",
    "        self.comparatorCollection[0].add_link(self.referenceCollection[-1])\n",
    "        self.comparatorCollection[0].add_link(self.perceptionCollection[-1])\n",
    "\n",
    "        for comparatorFunction in self.comparatorCollection:\n",
    "            comparatorFunction()\n",
    "\n",
    "        self.outputCollection[0].add_link(self.comparatorCollection[-1])\n",
    "        for outputFunction in self.outputCollection:\n",
    "            outputFunction()\n",
    "            \n",
    "        self.output = self.outputCollection[-1]()\n",
    "        return self.output\n",
    "    \n",
    "    def get_output_function(self):\n",
    "        return self.outputCollection[-1]\n",
    "    \n",
    "    def summary(self):\n",
    "        print(self.name, type(self).__name__)\n",
    "        print(\"----------------------------\")\n"
   ]
  },
  {
   "cell_type": "code",
   "execution_count": null,
   "metadata": {},
   "outputs": [
    {
     "name": "stdout",
     "output_type": "stream",
     "text": [
      "1.4925000000000002\n"
     ]
    }
   ],
   "source": [
    "world = Integration(50, 100)\n",
    "node = PCTNode(world)\n",
    "world.add_link(node.get_output_function())\n",
    "output = node()\n",
    "print(output[0])\n",
    "assert abs(output[0]-1.4925) < 0.000001"
   ]
  },
  {
   "cell_type": "code",
   "execution_count": null,
   "metadata": {},
   "outputs": [
    {
     "name": "stdout",
     "output_type": "stream",
     "text": [
      "pctnode PCTNode\n",
      "----------------------------\n"
     ]
    }
   ],
   "source": [
    "node.summary()"
   ]
  },
  {
   "cell_type": "code",
   "execution_count": null,
   "metadata": {},
   "outputs": [],
   "source": []
  },
  {
   "cell_type": "code",
   "execution_count": null,
   "metadata": {},
   "outputs": [],
   "source": [
    "#hide\n",
    "from nbdev import *\n",
    "notebook2script()"
   ]
  },
  {
   "cell_type": "code",
   "execution_count": null,
   "metadata": {},
   "outputs": [],
   "source": []
  }
 ],
 "metadata": {
  "kernelspec": {
   "display_name": "Python 3",
   "language": "python",
   "name": "python3"
  }
 },
 "nbformat": 4,
 "nbformat_minor": 4
}
