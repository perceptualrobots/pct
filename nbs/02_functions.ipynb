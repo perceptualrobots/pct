{
 "cells": [
  {
   "cell_type": "code",
   "execution_count": null,
   "metadata": {},
   "outputs": [
    {
     "name": "stdout",
     "output_type": "stream",
     "text": [
      "Cells will be exported to pct.functions,\n",
      "unless a different module is specified after an export flag: `%nbdev_export special.module`\n"
     ]
    }
   ],
   "source": [
    "from nbdev import *\n",
    "%nbdev_default_export functions"
   ]
  },
  {
   "cell_type": "code",
   "execution_count": null,
   "metadata": {},
   "outputs": [],
   "source": [
    "#hide\n",
    "#%load_ext autoreload\n",
    "#%autoreload 2"
   ]
  },
  {
   "cell_type": "code",
   "execution_count": null,
   "metadata": {},
   "outputs": [],
   "source": [
    "import numpy as np\n",
    "import logging\n",
    "log = logging.getLogger(__name__)"
   ]
  },
  {
   "cell_type": "markdown",
   "metadata": {},
   "source": [
    "# Functions\n",
    "\n",
    "Functions that form the elements of a perceptual control node (system)."
   ]
  },
  {
   "cell_type": "code",
   "execution_count": null,
   "metadata": {},
   "outputs": [],
   "source": [
    "%nbdev_export\n",
    "from abc import ABC, abstractmethod"
   ]
  },
  {
   "cell_type": "code",
   "execution_count": null,
   "metadata": {},
   "outputs": [],
   "source": [
    "%nbdev_export\n",
    "class BaseFunction(ABC):\n",
    "    \"Base class of a PCT function.\"\n",
    "    def __init__(self, name):\n",
    "        self.value = np.zeros(1)\n",
    "        self.links = []\n",
    "        self.name = name\n",
    "        \n",
    "    @abstractmethod\n",
    "    def __call__(self, verbose=False):\n",
    "        if verbose :\n",
    "            print(f'{self.value}', end= \" \")\n",
    "            \n",
    "        return self.value\n",
    "    \n",
    "    @abstractmethod    \n",
    "    def summary(self, str):\n",
    "        print(f'{self.name} {type(self).__name__} ', end = \" \")\n",
    "        if len(str)>0:\n",
    "            print(f'| {str}', end= \" \")\n",
    "        print(f'| {self.value}', end = \" \")\n",
    "        if len(self.links)>0:\n",
    "            print(f'| links ', end=\" \")\n",
    "        for link in self.links:\n",
    "            print(link.get_name(), end= \" \")\n",
    "        print()\n",
    "        \n",
    "    def get_name(self):\n",
    "        return self.name\n",
    "    \n",
    "    def set_value(self, value):\n",
    "        self.value= value\n",
    "    \n",
    "    def get_value(self):\n",
    "        return self.value\n",
    "    \n",
    "    def add_link(self, linkfn):\n",
    "        self.links.append(linkfn)\n"
   ]
  },
  {
   "cell_type": "code",
   "execution_count": null,
   "metadata": {},
   "outputs": [],
   "source": [
    "%nbdev_export\n",
    "class Variable(BaseFunction):\n",
    "    \"A function that returns a variable value.\"\n",
    "    def __init__(self, variable, name=\"variable\"):\n",
    "        super().__init__(name)\n",
    "        self.value = variable\n",
    "    \n",
    "    def __call__(self, verbose=False):\n",
    "        return super().__call__(verbose)\n",
    "    \n",
    "    def summary(self):\n",
    "        super().summary(\"\")\n"
   ]
  },
  {
   "cell_type": "code",
   "execution_count": null,
   "metadata": {},
   "outputs": [],
   "source": [
    "%nbdev_export\n",
    "class Constant(BaseFunction):\n",
    "    \"A function that returns a constant value.\"\n",
    "    def __init__(self, constant, name=\"constant\"):\n",
    "        super().__init__(name)\n",
    "        self.value = constant\n",
    "    \n",
    "    def __call__(self, verbose=False):\n",
    "        return super().__call__(verbose)\n",
    "    \n",
    "    def summary(self):\n",
    "        super().summary(\"\")\n"
   ]
  },
  {
   "cell_type": "code",
   "execution_count": null,
   "metadata": {},
   "outputs": [],
   "source": [
    "%nbdev_export\n",
    "class Subtract(BaseFunction):\n",
    "    \"A function that subtracts one value from another.\"\n",
    "    def __init__(self, name=\"subtract\"):\n",
    "        super().__init__(name)\n",
    "    \n",
    "    def __call__(self, verbose=False):\n",
    "        self.value = self.links[0].get_value()-self.links[1].get_value()\n",
    "\n",
    "        return super().__call__(verbose)\n",
    "\n",
    "    def summary(self):\n",
    "        super().summary(\"\")\n"
   ]
  },
  {
   "cell_type": "code",
   "execution_count": null,
   "metadata": {},
   "outputs": [],
   "source": [
    "%nbdev_export\n",
    "class Proportional(BaseFunction):\n",
    "    \"Proportional function.\"\n",
    "    def __init__(self, gain, name=\"proportional\"):\n",
    "        super().__init__(name)\n",
    "        self.gain = gain\n",
    "    \n",
    "    def __call__(self, verbose=False):\n",
    "        self.output = input * self.gain\n",
    "        return super().__call__(verbose)\n",
    "    \n",
    "    def summary(self):\n",
    "        super().summary(f' gain {self.gain}')\n"
   ]
  },
  {
   "cell_type": "code",
   "execution_count": null,
   "metadata": {},
   "outputs": [],
   "source": [
    "%nbdev_export\n",
    "class Integration(BaseFunction):\n",
    "    \"Integration function.\"\n",
    "    def __init__(self, gain, slow, name=\"integration\"):\n",
    "        super().__init__(name)\n",
    "        self.gain = gain\n",
    "        self.slow = slow\n",
    "    \n",
    "    def __call__(self, verbose=False):\n",
    "        input = self.links[0].get_value()\n",
    "        self.value = self.value +  ((input * self.gain) - self.value)/self.slow\n",
    "        \n",
    "        return super().__call__(verbose)\n",
    "\n",
    " \n",
    "    def summary(self):\n",
    "        super().summary(f'gain {self.gain} slow {self.slow} ')\n",
    "\n"
   ]
  },
  {
   "cell_type": "code",
   "execution_count": null,
   "metadata": {},
   "outputs": [],
   "source": [
    "def velocity_model(velocity,  force , mass):\n",
    "    velocity = velocity + force / mass\n",
    "    return velocity"
   ]
  },
  {
   "cell_type": "code",
   "execution_count": null,
   "metadata": {},
   "outputs": [
    {
     "name": "stdout",
     "output_type": "stream",
     "text": [
      "[1.5]\n"
     ]
    }
   ],
   "source": [
    "integrator = Integration(3, 10)\n",
    "integrator.add_link(Constant(5))\n",
    "output = integrator()\n",
    "print(output)"
   ]
  },
  {
   "cell_type": "code",
   "execution_count": null,
   "metadata": {},
   "outputs": [],
   "source": [
    "#hide\n",
    "integrator.set_value(np.array([0]))\n",
    "output = integrator()\n",
    "assert output == [1.5]"
   ]
  },
  {
   "cell_type": "code",
   "execution_count": null,
   "metadata": {},
   "outputs": [],
   "source": []
  },
  {
   "cell_type": "code",
   "execution_count": null,
   "metadata": {},
   "outputs": [],
   "source": [
    "%nbdev_export\n",
    "class PCTNode():\n",
    "    \"A single PCT controller.\"\n",
    "    def __init__(self, perception, name=\"pctnode\"):\n",
    "        self.links_built = False\n",
    "        self.name=name \n",
    "        self.perceptionCollection = [perception]\n",
    "        reference = Constant(1)\n",
    "        self.referenceCollection = [reference]\n",
    "        comparator = Subtract()\n",
    "        self.comparatorCollection = [comparator]\n",
    "        self.outputCollection = [Integration(75, 100)]\n",
    "    \n",
    "    def __call__(self, verbose=False):\n",
    "        if not self.links_built:\n",
    "            self.build_links()\n",
    "            \n",
    "        for referenceFunction in self.referenceCollection:\n",
    "            referenceFunction(verbose)               \n",
    "\n",
    "        for perceptionFunction in self.perceptionCollection:\n",
    "            perceptionFunction(verbose)\n",
    "                    \n",
    "        for comparatorFunction in self.comparatorCollection:\n",
    "            comparatorFunction(verbose)\n",
    "\n",
    "        for outputFunction in self.outputCollection:\n",
    "            outputFunction(verbose)\n",
    "            \n",
    "        self.output = self.outputCollection[-1].get_value()\n",
    "        \n",
    "        if verbose:\n",
    "            print()\n",
    "            \n",
    "        return self.output\n",
    "    \n",
    "    def build_links(self):\n",
    "        if len(self.referenceCollection)>0:\n",
    "            link = self.referenceCollection[0]\n",
    "            for i in range (1, len(self.referenceCollection)):\n",
    "                self.referenceCollection[i].add_link(link)               \n",
    "                link = self.referenceCollection[i]\n",
    "\n",
    "        if len(self.perceptionCollection)>0:\n",
    "            link = self.perceptionCollection[0]\n",
    "            for i in range (1, len(self.perceptionCollection)):\n",
    "                self.perceptionCollection[i].add_link(link)               \n",
    "                link = self.perceptionCollection[i]\n",
    "\n",
    "        self.comparatorCollection[0].add_link(self.referenceCollection[-1])\n",
    "        self.comparatorCollection[0].add_link(self.perceptionCollection[-1])\n",
    "\n",
    "        if len(self.comparatorCollection)>1:\n",
    "            link = self.comparatorCollection[1]\n",
    "            for i in range (1, len(self.comparatorCollection)):\n",
    "                self.comparatorCollection[i].add_link(link)               \n",
    "                link = self.comparatorCollection[i]\n",
    "\n",
    "        self.outputCollection[0].add_link(self.comparatorCollection[-1])\n",
    "\n",
    "        if len(self.outputCollection)>0:\n",
    "            link = self.outputCollection[0]\n",
    "            for i in range (1, len(self.outputCollection)):\n",
    "                self.outputCollection[i].add_link(link)               \n",
    "                link = self.outputCollection[i]\n",
    "\n",
    "        self.links_built = True\n",
    "\n",
    "    def run(self, steps=None, verbose=False):\n",
    "        for i in range(steps):\n",
    "            out = self(verbose)\n",
    "        return out\n",
    "    \n",
    "    def set_output(self, value):\n",
    "        self.outputCollection[-1].set_value(value)\n",
    "        \n",
    "    def get_output_function(self):\n",
    "        return self.outputCollection[-1]\n",
    "    \n",
    "    def summary(self):\n",
    "        if not self.links_built:\n",
    "            self.build_links()\n",
    "\n",
    "        print(self.name, type(self).__name__)\n",
    "        print(\"----------------------------\")\n",
    "        print(\"REF:\", end=\" \")\n",
    "        for referenceFunction in self.referenceCollection:\n",
    "            referenceFunction.summary()   \n",
    "        \n",
    "        print(\"PER:\", end=\" \")\n",
    "        for perceptionFunction in self.perceptionCollection:\n",
    "            perceptionFunction.summary()\n",
    "        \n",
    "        print(\"COM:\", end=\" \")\n",
    "        for comparatorFunction in self.comparatorCollection:\n",
    "            comparatorFunction.summary()\n",
    "        \n",
    "        print(\"OUT:\", end=\" \")\n",
    "        for outputFunction in self.outputCollection:\n",
    "            outputFunction.summary()\n",
    "        \n",
    "        print(\"----------------------------\")\n"
   ]
  },
  {
   "cell_type": "code",
   "execution_count": null,
   "metadata": {},
   "outputs": [],
   "source": [
    "mass = 50\n",
    "force = 0\n",
    "velocity = Variable(0, name=\"velocity\")\n",
    "node = PCTNode(velocity)"
   ]
  },
  {
   "cell_type": "code",
   "execution_count": null,
   "metadata": {},
   "outputs": [
    {
     "name": "stdout",
     "output_type": "stream",
     "text": [
      "pctnode PCTNode\n",
      "----------------------------\n",
      "REF: constant Constant  | 1 \n",
      "PER: velocity Variable  | 0 \n",
      "COM: subtract Subtract  | [0.] | links  constant velocity \n",
      "OUT: integration Integration  | gain 75 slow 100  | [0.] | links  subtract \n",
      "----------------------------\n"
     ]
    }
   ],
   "source": [
    "node.summary()"
   ]
  },
  {
   "cell_type": "code",
   "execution_count": null,
   "metadata": {},
   "outputs": [
    {
     "name": "stdout",
     "output_type": "stream",
     "text": [
      "1 0 1 [0.75] \n",
      "[0.75]\n",
      "0.75\n"
     ]
    }
   ],
   "source": [
    "output = node(verbose=True)\n",
    "force = output[0]\n",
    "velocity.set_value(velocity_model(velocity.get_value(), force, mass))\n",
    "print(node.get_output_function().get_value())\n",
    "print(force)\n",
    "assert output[0] == 0.75"
   ]
  },
  {
   "cell_type": "code",
   "execution_count": null,
   "metadata": {},
   "outputs": [
    {
     "name": "stdout",
     "output_type": "stream",
     "text": [
      "1 0 1 0.75 \n",
      "1 0.015 0.985 1.48125 \n",
      "1 0.044625 0.955375 2.1829687499999997 \n",
      "1 0.088284375 0.911715625 2.8449257812499997 \n",
      "1 0.145182890625 0.854817109375 3.4575893554687496 \n",
      "1 0.21433467773437498 0.785665322265625 4.012262453613281 \n",
      "1 0.2945799268066406 0.7054200731933594 4.501204883972168 \n",
      "1 0.38460402448608394 0.615395975513916 4.917739816767884 \n",
      "1 0.4829588208214416 0.5170411791785584 5.256343302984123 \n",
      "1 0.5880856868811241 0.41191431311887594 5.512715604793439 \n",
      "1 0.6983399989769928 0.30166000102300716 5.68383344951276 \n",
      "1 0.812016667967248 0.18798333203275197 5.767982614042197 \n",
      "1 0.927376320248092 0.07262367975190798 5.764770547715705 \n",
      "1 1.042671731202406 -0.04267173120240608 5.675119043836744 \n",
      "1 1.156174112079141 -0.1561741120791409 5.50123726933902 \n",
      "1 1.2661988574659213 -0.2661988574659213 5.246575753546189 \n",
      "1 1.371130372536845 -0.3711303725368451 4.915762216608093 \n",
      "1 1.4694456168690069 -0.4694456168690069 4.514520381790257 \n",
      "1 1.559736024504812 -0.559736024504812 4.049573159593746 \n",
      "1 1.6407274876966869 -0.6407274876966869 3.5285318122252933 \n",
      "1 1.7112981239411926 -0.7112981239411926 2.959772901147146 \n",
      "1 1.7704935819641356 -0.7704935819641356 2.3523049856625726 \n",
      "1 1.817539681677387 -0.817539681677387 1.7156271745479068 \n",
      "1 1.8518522251683451 -0.8518522251683451 1.0595817339261688 \n",
      "1 1.8730438598468686 -0.8730438598468686 0.3942030217017557 \n",
      "1 1.8809279202809037 -0.8809279202809037 -0.27043494872593976 \n",
      "1 1.875519221306385 -0.8755192213063849 -0.9243700152184692 \n",
      "1 1.8570318210020156 -0.8570318210020156 -1.5579001808177961 \n",
      "1 1.8258738173856597 -0.8258738173856597 -2.161726542048863 \n",
      "1 1.7826392865446825 -0.7826392865446825 -2.7270887415368863 \n",
      "1 1.7280975117139448 -0.7280975117139448 -3.245890987906976 \n",
      "1 1.6631796919558053 -0.6631796919558053 -3.71081684699476 \n",
      "1 1.5889633550159101 -0.5889633550159101 -4.115431194786745 \n",
      "1 1.5066547311201752 -0.5066547311201752 -4.454267931179009 \n",
      "1 1.417569372496595 -0.417569372496595 -4.722902281239666 \n",
      "1 1.3231113268718016 -0.32311132687180155 -4.91800675358112 \n",
      "1 1.2247511918001792 -0.22475119180017922 -5.037390079895443 \n",
      "1 1.1240033902022704 -0.12400339020227036 -5.080018721748192 \n",
      "1 1.0224030157673065 -0.022403015767306522 -5.046020796356189 \n",
      "1 0.9214825998401828 0.07851740015981723 -4.936672538272765 \n",
      "1 0.8227491490747275 0.17725085092527249 -4.754367674696082 \n",
      "1 0.7276617955808059 0.2723382044191941 -4.502570344634726 \n",
      "1 0.6376103886881114 0.3623896113118886 -4.1857524327044615 \n",
      "1 0.5538953400340222 0.4461046599659778 -3.8093164134029336 \n",
      "1 0.47770901176596353 0.5222909882340365 -3.379505008093377 \n",
      "1 0.41011891160409597 0.589881088395904 -2.9032991417155154 \n",
      "1 0.35205292876978567 0.6479470712302143 -2.3883058468756992 \n",
      "1 0.3042868118322717 0.6957131881677283 -1.8426378972811461 \n",
      "1 0.26743405388664876 0.7325659461133512 -1.2747870587233212 \n",
      "1 0.24193831271218233 0.7580616872878176 -0.6934929226702248 \n",
      "1 0.22806845425877784 0.7719315457412221 -0.10760933413760587 \n",
      "1 0.22591626757602573 0.7740837324239742 0.4740295585217509 \n",
      "1 0.23539685874646074 0.7646031412535392 1.0427416188766878 \n",
      "1 0.2562516911239945 0.7437483088760055 1.590125434344925 \n",
      "1 0.288054199810893 0.711945800189107 2.108183530143306 \n",
      "1 0.3302178704137591 0.669782129586241 2.5894382920315535 \n",
      "1 0.3820066362543902 0.6179933637456099 3.0270389319204454 \n",
      "1 0.4425474148927991 0.557452585107201 3.4148579814316418 \n",
      "1 0.510844574521432 0.48915542547856805 3.7475759707262513 \n",
      "1 0.585796093935957 0.414203906064043 4.020753140567021 \n",
      "1 0.6662111567472975 0.3337888432527025 4.230887241600878 \n",
      "1 0.750828901579315 0.24917109842068497 4.375456693000383 \n",
      "1 0.8383380354393227 0.16166196456067727 4.452948599490887 \n",
      "1 0.9273970074291404 0.07260299257085956 4.462871357924123 \n",
      "1 1.016654434587623 -0.016654434587622946 4.405751818404164 \n",
      "1 1.1047694709557063 -0.10476947095570632 4.283117197003343 \n",
      "1 1.190431814895773 -0.1904318148957731 4.09746216386148 \n",
      "1 1.2723810581730026 -0.2723810581730026 3.8522017485931133 \n",
      "1 1.3494250931448648 -0.3494250931448648 3.5516109112485337 \n",
      "1 1.4204573113698356 -0.42045731136983555 3.200751818608672 \n",
      "1 1.484472347742009 -0.484472347742009 2.8053900396160785 \n",
      "1 1.5405801485343305 -0.5405801485343305 2.37190102781917 \n",
      "1 1.5880181690907138 -0.5880181690907138 1.9071683907229429 \n",
      "1 1.6261615369051727 -0.6261615369051727 1.418475554136834 \n",
      "1 1.6545310479879094 -0.6545310479879094 0.9133925126045336 \n",
      "1 1.6727988982400002 -0.6727988982400002 0.39965941379848813 \n",
      "1 1.68079208651597 -0.68079208651597 -0.11493124522647424 \n",
      "1 1.6784934616114404 -0.6784934616114404 -0.6226520289827898 \n",
      "1 1.6660404210317845 -0.6660404210317845 -1.1159558244668002 \n",
      "1 1.6437213045424486 -0.6437213045424486 -1.5875872446289685 \n",
      "1 1.6119695596498693 -0.6119695596498693 -2.030688541920081 \n",
      "1 1.5713557888114678 -0.5713557888114678 -2.438898498109481 \n",
      "1 1.5225778188492782 -0.5225778188492782 -2.8064428772653445 \n",
      "1 1.4664489613039713 -0.4664489613039713 -3.1282151694706695 \n",
      "1 1.4038846579145579 -0.40388465791455785 -3.399846511211881 \n",
      "1 1.3358877276903203 -0.33588772769032027 -3.6177638418675024 \n",
      "1 1.2635324508529702 -0.26353245085297017 -3.7792355415885552 \n",
      "1 1.187947740021199 -0.18794774002119907 -3.882403991188569 \n",
      "1 1.1102996601974278 -0.11029966019742776 -3.9263046964247543 \n",
      "1 1.0317735662689327 -0.031773566268932685 -3.9108718241622062 \n",
      "1 0.9535561297856886 0.0464438702143114 -3.8369302032598505 \n",
      "1 0.8768175257204915 0.12318247427950846 -3.7061740455176206 \n",
      "1 0.8026940448101392 0.19730595518986083 -3.5211328386700487 \n",
      "1 0.7322713880367382 0.2677286119632618 -3.285125051310902 \n",
      "1 0.6665688870105202 0.3334311129894798 -3.002200466055683 \n",
      "1 0.6065248776894065 0.39347512231059345 -2.6770721196621814 \n",
      "1 0.5529834352961629 0.4470165647038371 -2.3150389749376816 \n",
      "1 0.5066826557974092 0.49331734420259077 -1.9219005770363617 \n",
      "1 0.468244644256682 0.531755355743318 -1.5038650544585095 \n",
      "1 0.4381673431675118 0.5618326568324882 -1.0674519112895582 \n",
      "-1.0674519112895582\n"
     ]
    }
   ],
   "source": [
    "node.set_output(0)\n",
    "velocity.set_value(0)\n",
    "#output = node.run(100, True)\n",
    "for i in range(100):\n",
    "    force = node(verbose=True)\n",
    "    #print(force)\n",
    "    vel = velocity_model(velocity.get_value(), force, mass)\n",
    "    #print(vel)\n",
    "    velocity.set_value(vel)\n",
    "    \n",
    "print(force)"
   ]
  },
  {
   "cell_type": "code",
   "execution_count": null,
   "metadata": {},
   "outputs": [],
   "source": []
  },
  {
   "cell_type": "code",
   "execution_count": null,
   "metadata": {},
   "outputs": [],
   "source": [
    "    "
   ]
  },
  {
   "cell_type": "code",
   "execution_count": null,
   "metadata": {},
   "outputs": [
    {
     "name": "stdout",
     "output_type": "stream",
     "text": [
      "Converted 00_core.ipynb.\n",
      "Converted 01_rmath.ipynb.\n",
      "Converted 02_functions.ipynb.\n",
      "Converted 03_nodes.ipynb.\n",
      "Converted 04_hierarchy.ipynb.\n",
      "Converted index.ipynb.\n",
      "Converted Untitled.ipynb.\n"
     ]
    }
   ],
   "source": [
    "#hide\n",
    "from nbdev import *\n",
    "notebook2script()"
   ]
  },
  {
   "cell_type": "code",
   "execution_count": null,
   "metadata": {},
   "outputs": [],
   "source": []
  }
 ],
 "metadata": {
  "kernelspec": {
   "display_name": "Python 3",
   "language": "python",
   "name": "python3"
  }
 },
 "nbformat": 4,
 "nbformat_minor": 4
}
