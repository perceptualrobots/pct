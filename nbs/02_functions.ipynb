{
 "cells": [
  {
   "cell_type": "code",
   "execution_count": null,
   "metadata": {},
   "outputs": [
    {
     "name": "stdout",
     "output_type": "stream",
     "text": [
      "Cells will be exported to pct.functions,\n",
      "unless a different module is specified after an export flag: `%nbdev_export special.module`\n"
     ]
    }
   ],
   "source": [
    "from nbdev import *\n",
    "%nbdev_default_export functions"
   ]
  },
  {
   "cell_type": "code",
   "execution_count": null,
   "metadata": {},
   "outputs": [],
   "source": [
    "%nbdev_hide\n",
    "%reload_ext autoreload\n",
    "%autoreload 2"
   ]
  },
  {
   "cell_type": "code",
   "execution_count": null,
   "metadata": {},
   "outputs": [],
   "source": [
    "%nbdev_hide\n",
    "import sys\n",
    "sys.path.append(\"..\")"
   ]
  },
  {
   "cell_type": "markdown",
   "metadata": {},
   "source": [
    "# Functions\n",
    "\n",
    "> Functions that form the elements of a perceptual control node (system).\n"
   ]
  },
  {
   "cell_type": "markdown",
   "metadata": {},
   "source": [
    "## Overview\n",
    "Each function outputs the result of applying the function logic and may be a scalar or array, depending on the input. The inputs are supplied as links to another function, from where the values are read. Unless the function is a simple case, such as a 'Constant'. \n",
    "\n",
    "Parameters are supplied as arguments to the constructor of the class.\n",
    "\n",
    "All functions include the methods defined by the BaseFunction class."
   ]
  },
  {
   "cell_type": "code",
   "execution_count": null,
   "metadata": {},
   "outputs": [],
   "source": [
    "#export\n",
    "import numpy as np\n",
    "import enum\n",
    "from abc import ABC, abstractmethod\n",
    "from pct.putils import sigmoid\n",
    "from pct.putils import smooth\n",
    "from pct.putils import UniqueNamer\n",
    "from pct.putils import FunctionsList"
   ]
  },
  {
   "cell_type": "code",
   "execution_count": null,
   "metadata": {},
   "outputs": [],
   "source": [
    "#export\n",
    "class ControlUnitFunctions(enum.IntEnum):\n",
    "   PERCEPTION = 0\n",
    "   REFERENCE = 1\n",
    "   COMPARATOR = 2\n",
    "   OUTPUT = 3"
   ]
  },
  {
   "cell_type": "code",
   "execution_count": null,
   "metadata": {},
   "outputs": [],
   "source": [
    "%nbdev_export\n",
    "class BaseFunction(ABC):\n",
    "    \"Base class of a PCT function. This class is not used direclty by developers, but defines the functionality common to all.\"\n",
    "    def __init__(self, name, value, links=None, new_name=True):\n",
    "        self.value = value\n",
    "        self.links = []\n",
    "        self.handle_links(links)\n",
    "        self.checklinks=True\n",
    "                \n",
    "        #print(f'size {len(UniqueNamer.getInstance().names)} {name} {name in UniqueNamer.getInstance().names}', end=\" \")\n",
    "        if new_name:\n",
    "            self.name = UniqueNamer.getInstance().get_name(name)\n",
    "        else:\n",
    "            self.name = name                \n",
    "        #print(self.name)\n",
    "        FunctionsList.getInstance().add_function(self)\n",
    "        self.decimal_places = 3\n",
    "        \n",
    "    @abstractmethod\n",
    "    def __call__(self, verbose=False):\n",
    "        if verbose :\n",
    "            print(self.output_string(), end= \" \")\n",
    "            \n",
    "        return self.value\n",
    "\n",
    "    def get_suffix(self):\n",
    "        return ''\n",
    "    \n",
    "    def reset(self):\n",
    "        self.value = 0        \n",
    "        self.links = []\n",
    "        self.checklinks=True\n",
    "        \n",
    "    def run(self, steps=None, verbose=False):\n",
    "        for i in range(steps):\n",
    "            out = self(verbose)\n",
    "        return out\n",
    "    \n",
    "    def handle_links(self, links):\n",
    "        if links!=None:\n",
    "            if isinstance(links, dict):\n",
    "                if len(links)>0:\n",
    "                    for key in links.keys():\n",
    "                        self.links.append(FunctionsList.getInstance().get_function(links[key]))\n",
    "                return\n",
    "\n",
    "            if isinstance(links, list):\n",
    "                for link in links:\n",
    "                    if isinstance(link, str):\n",
    "                        self.links.append(FunctionsList.getInstance().get_function(link))\n",
    "                    else:\n",
    "                        self.links.append(link)\n",
    "                return\n",
    "        \n",
    "            if isinstance(links, str):\n",
    "                self.links.append(FunctionsList.getInstance().get_function(links))\n",
    "                return\n",
    "            \n",
    "            self.links.append(links)\n",
    "                \n",
    "    def draw(self, with_labels=True,  font_size=12, font_weight='bold', node_color=None, \n",
    "             color_mapping={'s':'aqua','c':'limegreen','p':'red', 'x':'silver'},\n",
    "             node_size=500, arrowsize=25, align='horizontal', file=None):\n",
    "        graph = self.graph(layer=0, layer_edges=True)\n",
    "        if node_color==None:\n",
    "            node_color = self.get_colors(graph, color_mapping)\n",
    "        pos = nx.multipartite_layout(graph, subset_key=\"layer\", align=align)\n",
    "        nx.draw(graph,  pos=pos, with_labels=with_labels, font_size=font_size, font_weight=font_weight,\n",
    "                node_color=node_color,  node_size=node_size, arrowsize=arrowsize)\n",
    "\n",
    "    def get_capital(self, ftype):\n",
    "        rtn = None\n",
    "        if ftype == ControlUnitFunctions.PERCEPTION:\n",
    "            rtn ='P'            \n",
    "        if ftype == ControlUnitFunctions.REFERENCE:\n",
    "            rtn ='R'\n",
    "        if ftype == ControlUnitFunctions.COMPARATOR:\n",
    "            rtn ='C'\n",
    "        if ftype == ControlUnitFunctions.OUTPUT:\n",
    "            rtn ='O'\n",
    "        \n",
    "        return rtn \n",
    "    \n",
    "    def get_colors(self, graph, color_mapping):\n",
    "        colors=[]\n",
    "        for node in graph:\n",
    "            color = 'darkorchid'\n",
    "            for key in color_mapping.keys():                \n",
    "                if node.startswith(key):\n",
    "                    color = color_mapping[key]\n",
    "                    break\n",
    "            colors.append(color)\n",
    "        return colors\n",
    "        \n",
    "    def graph(self, layer=None, layer_edges=False):\n",
    "        graph = nx.DiGraph()\n",
    "        \n",
    "        self.set_graph_data(graph, layer=layer, layer_edges=layer_edges)\n",
    "                \n",
    "        return graph\n",
    "    \n",
    "    def set_graph_data(self, graph, layer=None, layer_edges=False):\n",
    "        node_name = self.name\n",
    "        edges = []\n",
    "        for link in self.links:            \n",
    "            func = FunctionsList.getInstance().get_function(link)\n",
    "            if isinstance(func, str):\n",
    "                name = func\n",
    "            else:\n",
    "                name = func.get_name()\n",
    "                \n",
    "            if layer_edges:\n",
    "                graph.add_node(name, layer=layer+1)\n",
    "                \n",
    "            edges.append((name,self.name))\n",
    "            \n",
    "        graph.add_node(node_name, layer=layer)\n",
    "        graph.add_edges_from( edges)    \n",
    "\n",
    "        \n",
    "    def set_graph_data_node(self, graph, layer=None, layer_edges=False, node_list=None):\n",
    "        node_name = self.name\n",
    "        edges = []\n",
    "        for link in self.links:            \n",
    "            func = FunctionsList.getInstance().get_function(link)\n",
    "            if isinstance(func, str):\n",
    "                name = func\n",
    "            else:\n",
    "                name = func.get_name()\n",
    "                \n",
    "            if layer_edges:\n",
    "                graph.add_node(node_list[name], layer=layer+1)\n",
    "                        \n",
    "            edges.append((node_list[name],self.name))\n",
    "            \n",
    "        graph.add_node(node_name, layer=layer)\n",
    "        graph.add_edges_from( edges)    \n",
    "\n",
    "        \n",
    "    def get_weights_labels(self, labels):\n",
    "        if hasattr(self, 'weights'):\n",
    "            for i in range(len(self.weights)):\n",
    "                link = self.get_link(i)\n",
    "                if isinstance(link, str):\n",
    "                    name=link\n",
    "                else:\n",
    "                    name = link.get_name()\n",
    "                value = self.weights[i]\n",
    "                if isinstance(value, float):\n",
    "                    value = f'{value:4.3}'\n",
    "                labels[(self.get_name(), name)] = value\n",
    "\n",
    "        if hasattr(self, 'gain'):\n",
    "            link = self.get_link(0)\n",
    "            if isinstance(link, str):\n",
    "                name=link\n",
    "            else:\n",
    "                name = link.get_name()\n",
    "            value = self.gain\n",
    "            if isinstance(value, float):\n",
    "                value = f'{value:4.3}'\n",
    "            labels[(self.get_name(), name)] = value\n",
    "\n",
    "    def get_weights_labels_nodes(self, labels, node_list):\n",
    "        if hasattr(self, 'weights'):\n",
    "            for i in range(len(self.weights)):\n",
    "                link = self.get_link(i)\n",
    "                if isinstance(link, str):\n",
    "                    name=link\n",
    "                else:\n",
    "                    name = link.get_name()\n",
    "                value = self.weights[i]\n",
    "                if isinstance(value, float):\n",
    "                    value = f'{value:4.3}'\n",
    "                labels[(self.get_name(), node_list[name])] = value\n",
    "\n",
    "        if hasattr(self, 'gain'):\n",
    "            link = self.get_link(0)\n",
    "            if isinstance(link, str):\n",
    "                name=link\n",
    "            else:\n",
    "                name = link.get_name()\n",
    "            value = self.gain\n",
    "            if isinstance(value, float):\n",
    "                value = f'{value:4.3}'\n",
    "            labels[(self.get_name(), node_list[name])] = value\n",
    "\n",
    "            \n",
    "    def output_string(self):\n",
    "        if isinstance (self.value, list):\n",
    "            return [f'{round(item, self.decimal_places):.{self.decimal_places}f}' for item in self.value]\n",
    "        \n",
    "        return f'{round(self.value, self.decimal_places):.{self.decimal_places}f}'\n",
    "    \n",
    "    def check_links(self, num):\n",
    "        if self.checklinks:\n",
    "            ctr=0\n",
    "            for link in self.links:            \n",
    "                func = FunctionsList.getInstance().get_function(link)\n",
    "                self.links[ctr]=func\n",
    "                ctr+=1\n",
    "\n",
    "            if len(self.links) != num:\n",
    "                raise Exception(f'Incorrect number of links {len(self.links)} for function {self.name}. {num} expected.')   \n",
    "\n",
    "            self.checklinks = False\n",
    "        \n",
    "    def set_decimal_places(self, dp):\n",
    "        self.decimal_places = dp\n",
    "        \n",
    "    \n",
    "    @abstractmethod    \n",
    "    def summary(self, sstr):\n",
    "        \"Print the summary of the function configuration. No argument required.\"\n",
    "        print(f'{self.name} {type(self).__name__}', end = \" \")\n",
    "        if len(sstr)>0:\n",
    "            print(f'| {sstr}', end= \" \")\n",
    "        print(f'| {self.value}', end = \" \")\n",
    "        if len(self.links)>0:\n",
    "            print('| links ', end=\" \")\n",
    "        for link in self.links:\n",
    "            func = FunctionsList.getInstance().get_function(link)\n",
    "            if isinstance(func, str):\n",
    "                fname = func\n",
    "            else:\n",
    "                fname = func.get_name()\n",
    "\n",
    "            print(fname, end= \" \")\n",
    "        print()\n",
    "        \n",
    "    @abstractmethod    \n",
    "    def get_config(self):\n",
    "        \"Return the JSON  configuration of the function.\"\n",
    "        config = {\"type\": type(self).__name__,\n",
    "                    \"name\": self.name}\n",
    "        \n",
    "        if isinstance(self.value, np.ndarray):\n",
    "            config[\"value\"] = self.value.tolist()\n",
    "        else:\n",
    "            config[\"value\"] = self.value\n",
    "        \n",
    "        ctr=0\n",
    "        links={}\n",
    "        for link in self.links:\n",
    "            func = FunctionsList.getInstance().get_function(link)\n",
    "            try:\n",
    "                links[ctr]=func.get_name()\n",
    "            except AttributeError:\n",
    "                raise Exception(f' there is no function called {link}, ensure it exists first.')            \n",
    "            ctr+=1\n",
    "        \n",
    "        config['links']=links\n",
    "        return config\n",
    "        \n",
    "    def get_name(self):\n",
    "        return self.name\n",
    "    \n",
    "    def set_name(self, name):\n",
    "        FunctionsList.getInstance().remove_function(self.name)\n",
    "        self.name=name\n",
    "        FunctionsList.getInstance().add_function(self)\n",
    "\n",
    "    def set_property(self, property_name, property_value):\n",
    "        #self[property_name]= property_value\n",
    "        exec(f'self.{property_name}= {property_value}')\n",
    "\n",
    "    def set_value(self, value):\n",
    "        self.value= value\n",
    "    \n",
    "    def get_value(self):\n",
    "        return self.value\n",
    "    \n",
    "    def get_indexed_value(self, index):\n",
    "        if isinstance(self.value, float):\n",
    "            if index != 0:\n",
    "                raise Exception('Index should be zero for non-list value.')                \n",
    "            return self.value\n",
    "\n",
    "        return self.value[index]\n",
    "\n",
    "    def add_link(self, linkfn):\n",
    "        self.links.append(linkfn)\n",
    "    \n",
    "    def set_link(self, linkfn):\n",
    "        self.links = [linkfn]\n",
    "        \n",
    "    def get_link(self, index):\n",
    "        return self.links[index]\n",
    "\n",
    "    def get_links(self):\n",
    "        return self.links\n",
    "\n",
    "    def clear_links(self):\n",
    "        self.links = []\n",
    "\n",
    "    def close(self):\n",
    "        pass\n",
    "    \n",
    "    def save(self, file=None, indent=4):\n",
    "        jsondict = json.dumps(self.get_config(), indent=indent)\n",
    "        f = open(file, \"w\")\n",
    "        f.write(jsondict)\n",
    "        f.close()\n",
    "\n",
    "        \n",
    "\n",
    "        \n",
    "        \n",
    "    @classmethod\n",
    "    def load(cls, file):      \n",
    "        with open(file) as f:\n",
    "            config = json.load(f)\n",
    "        return cls.from_config(config)\n",
    "    \n",
    "    @classmethod\n",
    "    def from_config(cls,  config):\n",
    "        func = cls(new_name=False, **config)\n",
    "        return func\n",
    "\n",
    "    def __str__(self):\n",
    "        return str(self.__dict__)"
   ]
  },
  {
   "cell_type": "code",
   "execution_count": null,
   "metadata": {},
   "outputs": [],
   "source": [
    "#export\n",
    "class FunctionFactory:\n",
    "    factories = {}\n",
    "    def addFactory(id, functionFactory):\n",
    "        FunctionFactory.factories.put[id] = functionFactory\n",
    "    addFactory = staticmethod(addFactory)\n",
    "    # A Template Method:\n",
    "    def createFunction(id):\n",
    "        if not FunctionFactory.factories.__contains__(id):\n",
    "            FunctionFactory.factories[id] = \\\n",
    "              eval(id + '.Factory()')\n",
    "        return FunctionFactory.factories[id].create()\n",
    "    createFunction = staticmethod(createFunction)"
   ]
  },
  {
   "cell_type": "code",
   "execution_count": null,
   "metadata": {},
   "outputs": [
    {
     "data": {
      "text/markdown": [
       "<h4 id=\"BaseFunction.summary\" class=\"doc_header\"><code>BaseFunction.summary</code><a href=\"__main__.py#L212\" class=\"source_link\" style=\"float:right\">[source]</a></h4>\n",
       "\n",
       "> <code>BaseFunction.summary</code>(**`sstr`**)\n",
       "\n",
       "Print the summary of the function configuration. No argument required."
      ],
      "text/plain": [
       "<IPython.core.display.Markdown object>"
      ]
     },
     "metadata": {},
     "output_type": "display_data"
    }
   ],
   "source": [
    "show_doc(BaseFunction.summary)"
   ]
  },
  {
   "cell_type": "code",
   "execution_count": null,
   "metadata": {},
   "outputs": [
    {
     "data": {
      "text/markdown": [
       "<h4 id=\"BaseFunction.get_config\" class=\"doc_header\"><code>BaseFunction.get_config</code><a href=\"__main__.py#L231\" class=\"source_link\" style=\"float:right\">[source]</a></h4>\n",
       "\n",
       "> <code>BaseFunction.get_config</code>()\n",
       "\n",
       "Return the JSON  configuration of the function."
      ],
      "text/plain": [
       "<IPython.core.display.Markdown object>"
      ]
     },
     "metadata": {},
     "output_type": "display_data"
    }
   ],
   "source": [
    "show_doc(BaseFunction.get_config)"
   ]
  },
  {
   "cell_type": "code",
   "execution_count": null,
   "metadata": {},
   "outputs": [],
   "source": [
    "%nbdev_export\n",
    "class Subtract(BaseFunction):\n",
    "    \"A function that subtracts one value from another. Parameter: None. Links: Two links required to each the values to be subtracted.\"\n",
    "    def __init__(self, value=0, name=\"subtract\", links=None, new_name=True, **cargs):\n",
    "        super().__init__(name, value, links, new_name)\n",
    "    \n",
    "    def __call__(self, verbose=False):\n",
    "        super().check_links(2)\n",
    "        #print(\"Sub \", self.links[0].get_value(),self.links[1].get_value() )\n",
    "        self.value = self.links[0].get_value()-self.links[1].get_value()\n",
    "\n",
    "        return super().__call__(verbose)\n",
    "\n",
    "    def summary(self):\n",
    "        super().summary(\"\")\n",
    "\n",
    "    def get_config(self):\n",
    "        return super().get_config()\n",
    "                        \n",
    "    class Factory:\n",
    "        def create(self): return Subtract()        "
   ]
  },
  {
   "cell_type": "code",
   "execution_count": null,
   "metadata": {},
   "outputs": [],
   "source": [
    "%nbdev_export\n",
    "class Proportional(BaseFunction):\n",
    "    \"A proportion of the input value as defined by the gain parameter. Parameters: The gain value. Links: One.\"\n",
    "    def __init__(self, gain=1, value=0, name=\"proportional\", links=None, new_name=True, **cargs):\n",
    "        super().__init__(name, value, links, new_name)\n",
    "        self.gain = gain\n",
    "\n",
    "    def __call__(self, verbose=False):\n",
    "        super().check_links(1)\n",
    "        input = self.links[0].get_value()\n",
    "        self.value = input * self.gain\n",
    "        return super().__call__(verbose)\n",
    "    \n",
    "    def summary(self):\n",
    "        super().summary(f'gain {self.gain}')\n",
    "\n",
    "    def get_config(self):\n",
    "        config = super().get_config()\n",
    "        config[\"gain\"] = self.gain\n",
    "        return config\n",
    "    \n",
    "    def get_suffix(self):\n",
    "        return 'p'\n",
    "    \n",
    "    class Factory:\n",
    "        def create(self): return Proportional()         "
   ]
  },
  {
   "cell_type": "code",
   "execution_count": null,
   "metadata": {},
   "outputs": [],
   "source": [
    "%nbdev_export\n",
    "class Variable(BaseFunction):\n",
    "    \"A function that returns a variable value. Parameter: The variable value. Links: None\"\n",
    "    def __init__(self,  value=0, name=\"variable\", links=None, new_name=True, **cargs):\n",
    "        super().__init__(name, value, links, new_name)\n",
    "    \n",
    "    def __call__(self, verbose=False):\n",
    "        return super().__call__(verbose)\n",
    "    \n",
    "    def summary(self):\n",
    "        super().summary(\"\")\n",
    "        \n",
    "    def get_config(self):\n",
    "        config = super().get_config()\n",
    "        return config\n",
    "\n",
    "    def get_suffix(self):\n",
    "        return 'v'\n",
    "    \n",
    "    class Factory:\n",
    "        def create(self): return Variable()\n",
    "\n"
   ]
  },
  {
   "cell_type": "code",
   "execution_count": null,
   "metadata": {},
   "outputs": [],
   "source": [
    "%nbdev_export\n",
    "class PassOn(BaseFunction):\n",
    "    \"A function that passes on a variable value from a linked function. Parameter: None. Links: One\"\n",
    "    def __init__(self,  value=0, name=\"variable\", links=None, new_name=True, **cargs):\n",
    "        super().__init__(name, value, links, new_name)\n",
    "    \n",
    "    def __call__(self, verbose=False):\n",
    "        super().check_links(1)        \n",
    "        self.value = self.links[0].get_value()\n",
    "        return super().__call__(verbose)\n",
    "    \n",
    "    def summary(self):\n",
    "        super().summary(\"\")\n",
    "        \n",
    "    def get_config(self):\n",
    "        config = super().get_config()\n",
    "        return config\n",
    "    \n",
    "    class Factory:\n",
    "        def create(self): return PassOn()\n",
    "\n"
   ]
  },
  {
   "cell_type": "code",
   "execution_count": null,
   "metadata": {},
   "outputs": [],
   "source": [
    "%nbdev_export\n",
    "class GreaterThan(BaseFunction):\n",
    "    \"One of two supplied values is returned if the input is greater than supplied threshold.</br> Parameters: The threshold and upper and lower value. Links: One\"\n",
    "    def __init__(self, threshold=0, upper=1, lower=0, value=0, name=\"greaterthan\", links=None, new_name=True, **cargs):\n",
    "        super().__init__(name, value, links, new_name)\n",
    "        self.threshold=threshold\n",
    "        self.upper=upper\n",
    "        self.lower=lower\n",
    "    \n",
    "    def __call__(self, verbose=False):\n",
    "        super().check_links(1)\n",
    "        input = self.links[0].get_value()\n",
    "        if input >= self.threshold:\n",
    "            self.value = self.upper\n",
    "        else:\n",
    "            self.value = self.lower\n",
    "        \n",
    "        return super().__call__(verbose)\n",
    "    \n",
    "    def summary(self):\n",
    "        super().summary(f'threshold {self.threshold} upper {self.upper} lower {self.lower} ')\n",
    "        \n",
    "    def get_config(self):\n",
    "        config = super().get_config()\n",
    "        \n",
    "        config[\"threshold\"] = self.threshold\n",
    "        config[\"upper\"] = self.upper\n",
    "        config[\"lower\"] = self.lower\n",
    "        return config\n",
    "    \n",
    "    class Factory:\n",
    "        def create(self): return GreaterThan()\n",
    "\n"
   ]
  },
  {
   "cell_type": "code",
   "execution_count": null,
   "metadata": {},
   "outputs": [],
   "source": [
    "%nbdev_export\n",
    "class Constant(BaseFunction):\n",
    "    \"A function that returns a constant value. Parameter: The constant value. Links: None\"\n",
    "    def __init__(self, value=0, name=\"constant\", new_name=True, **cargs):\n",
    "        super().__init__(name, value, None, new_name)\n",
    "    \n",
    "    def __call__(self, verbose=False):\n",
    "        return super().__call__(verbose)\n",
    "    \n",
    "    def summary(self):\n",
    "        super().summary(\"\")\n",
    "\n",
    "    def get_config(self):\n",
    "        return super().get_config()\n",
    "\n",
    "    def get_suffix(self):\n",
    "        return 'c'\n",
    "\n",
    "    def set_node_function(self, function_type, thislevel, targetlevel, not_used, \n",
    "                          column, not_used1, inputs, weights, not_used2, not_used3):\n",
    "        \n",
    "        prefix = self.get_capital(function_type)\n",
    "        self.set_name(f'{prefix}L{thislevel}C{column}')\n",
    "        self.set_value(weights[column])\n",
    "        \"\"\"\n",
    "        print('Literal',inputs)        \n",
    "        print('Literal',weights)        \n",
    "        prefix = function[0].capitalize()\n",
    "        constant = Constant(weights[column], name=f'{prefix}L{thislevel}C{column}c')\n",
    "        node.replace_function(function, constant, 0)\n",
    "        \"\"\"\n",
    "\n",
    "    class Factory:\n",
    "        def create(self): return Constant()\n"
   ]
  },
  {
   "cell_type": "code",
   "execution_count": null,
   "metadata": {},
   "outputs": [],
   "source": [
    "%nbdev_export\n",
    "class Step(BaseFunction):\n",
    "    \"A function that returns an alternating signal. Parameter: The upper and lower values, and a delay value. Links: None\"\n",
    "    def __init__(self, upper=None, lower=None, delay=None, period=None, value=0, name=\"step\", new_name=True, **cargs):\n",
    "        self.ctr=1\n",
    "        self.upper=upper\n",
    "        self.lower=lower \n",
    "        self.delay=delay\n",
    "        self.period=period\n",
    "        self.delay_finished=False\n",
    "        \n",
    "        super().__init__(name, value, None, new_name)\n",
    "    \n",
    "    def __call__(self, verbose=False):\n",
    "        if self.ctr>self.delay-1:\n",
    "            if not self.delay_finished:\n",
    "                self.value = self.upper\n",
    "                self.delay_finished=True\n",
    "                self.ctr = self.period/2 \n",
    "                \n",
    "            if self.ctr % self.period ==0 :\n",
    "                if self.value != self.lower:\n",
    "                    self.value = self.lower\n",
    "                elif self.value != self.upper:\n",
    "                    self.value = self.upper\n",
    "                #print(self.ctr, self.value)\n",
    "            \n",
    "        self.ctr += 1\n",
    "        return super().__call__(verbose)\n",
    "    \n",
    "    def summary(self):\n",
    "        super().summary(f'upper {self.upper} lower {self.lower} delay {self.delay} period {self.period}')\n",
    "\n",
    "    def get_config(self):        \n",
    "        config = super().get_config()\n",
    "        config[\"upper\"] = self.upper\n",
    "        config[\"lower\"] = self.lower\n",
    "        config[\"delay\"] = self.delay\n",
    "        config[\"period\"] = self.period\n",
    "        return config\n",
    "    \n",
    "    class Factory:\n",
    "        def create(self): return Step()"
   ]
  },
  {
   "cell_type": "code",
   "execution_count": null,
   "metadata": {},
   "outputs": [],
   "source": [
    "%nbdev_export\n",
    "class Integration(BaseFunction):\n",
    "    \"A leaky integrating function. Equivalent of a exponential smoothing function, of the amplified input. Parameters: The gain and slow values. Links: One.\"\n",
    "    def __init__(self, gain=1, slow=2, value=0, name=\"integration\", links=None, new_name=True, **cargs):\n",
    "        super().__init__(name, value, links, new_name)\n",
    "        self.gain = gain\n",
    "        self.slow = slow\n",
    "    \n",
    "    def __call__(self, verbose=False):\n",
    "        super().check_links(1)\n",
    "        input = self.links[0].get_value()\n",
    "        self.value = self.value +  ((input * self.gain) - self.value)/self.slow\n",
    "        \n",
    "        return super().__call__(verbose)\n",
    "\n",
    "    def summary(self):\n",
    "        super().summary(f'gain {self.gain} slow {self.slow} ')\n",
    "\n",
    "    def get_config(self):\n",
    "        config = super().get_config()\n",
    "        config[\"gain\"] = self.gain\n",
    "        config[\"slow\"] = self.slow\n",
    "        return config       \n",
    "    \n",
    "    class Factory:\n",
    "        def create(self): return Integration()\n",
    "        "
   ]
  },
  {
   "cell_type": "code",
   "execution_count": null,
   "metadata": {},
   "outputs": [],
   "source": [
    "%nbdev_export\n",
    "class IntegrationDual(BaseFunction):\n",
    "    \"A leaky integrating function, applying one signal to another. Equivalent of a exponential smoothing function, of the amplified input. Parameters: The gain and slow values. Links: Two.\"\n",
    "    def __init__(self, gain=1, slow=2, value=0, name=\"integration\", links=None, new_name=True, **cargs):\n",
    "        super().__init__(name, value, links, new_name)\n",
    "        self.gain = gain\n",
    "        self.slow = slow\n",
    "    \n",
    "    def __call__(self, verbose=False):\n",
    "        super().check_links(2)\n",
    "        input = self.links[0].get_value()\n",
    "        output = self.links[1].get_value()\n",
    "        #print(input, output)\n",
    "        self.value = output +  ((input * self.gain) - output)/self.slow\n",
    "        \n",
    "        return super().__call__(verbose)\n",
    "\n",
    "    def summary(self):\n",
    "        super().summary(f'gain {self.gain} slow {self.slow} ')\n",
    "\n",
    "    def get_config(self):\n",
    "        config = super().get_config()\n",
    "        config[\"gain\"] = self.gain\n",
    "        config[\"slow\"] = self.slow\n",
    "        return config      \n",
    "    \n",
    "    class Factory:\n",
    "        def create(self): return IntegrationDual()"
   ]
  },
  {
   "cell_type": "code",
   "execution_count": null,
   "metadata": {},
   "outputs": [],
   "source": [
    "%nbdev_export\n",
    "class Sigmoid(BaseFunction):\n",
    "    \"A sigmoid function. Similar to a proportional function, but kept within a limit (+/- half the range). Parameters: The range and scale (slope) values. Links: One.\"\n",
    "    def __init__(self, range=2, scale=2, value=0, name=\"sigmoid\", links=None, new_name=True, **cargs):\n",
    "        super().__init__(name, value, links, new_name)\n",
    "        self.range = range\n",
    "        self.scale = scale\n",
    "    \n",
    "    def __call__(self, verbose=False):\n",
    "        super().check_links(1)\n",
    "        input = self.links[0].get_value()\n",
    "        self.value = sigmoid(input, self.range, self.scale)\n",
    "        \n",
    "        return super().__call__(verbose)\n",
    "\n",
    "    def summary(self):\n",
    "        super().summary(f'range {self.range} scale {self.scale} ')\n",
    "\n",
    "    def get_config(self):\n",
    "        config = super().get_config()\n",
    "        config[\"range\"] = self.range\n",
    "        config[\"scale\"] = self.scale\n",
    "        return config       \n",
    "    \n",
    "    class Factory:\n",
    "        def create(self): return Sigmoid()"
   ]
  },
  {
   "cell_type": "code",
   "execution_count": null,
   "metadata": {},
   "outputs": [],
   "source": [
    "#export\n",
    "class WeightedSum(BaseFunction):\n",
    "    \"A function that combines a set of inputs by multiplying each by a weight and then adding them up. Parameter: The weights array. Links: Links to all the input functions.\"\n",
    "    def __init__(self, weights=np.ones(3), value=0, name=\"weighted_sum\", links=None, new_name=True, **cargs):\n",
    "        super().__init__(name, value, links, new_name)\n",
    "        if isinstance(weights, list): \n",
    "            self.weights = np.array(weights)\n",
    "        else: \n",
    "            self.weights = weights\n",
    "    \n",
    "    def __call__(self, verbose=False):\n",
    "        if len(self.links) != self.weights.size:\n",
    "            raise Exception(f'Number of links {len(self.links)} and weights {self.weights.size} for function {self.name} must be the same.')\n",
    "        \n",
    "        super().check_links(len(self.links))\n",
    "        inputs = np.array([link.get_value() for link in self.links])\n",
    "        self.value = np.dot(inputs, self.weights)\n",
    "\n",
    "        return super().__call__(verbose)\n",
    "\n",
    "    def summary(self):\n",
    "        super().summary(f'weights {self.weights}')\n",
    "\n",
    "    def get_config(self):\n",
    "        config = super().get_config()\n",
    "        config[\"weights\"] = self.weights.tolist()\n",
    "        return config\n",
    "    \n",
    "    def get_suffix(self):\n",
    "        return 'ws'\n",
    "    \n",
    "    def set_node_function(self, function_type, thislevel, targetlevel, targetprefix, column, num_target_indices, \n",
    "                          inputs, input_weights, by_column, offset):\n",
    "        prefix = self.get_capital(function_type)\n",
    "        self.set_name(f'{prefix}L{thislevel}C{column}')\n",
    "        column=column-offset\n",
    "        \"\"\"\n",
    "        print('Base',func.get_name())        \n",
    "        print('Base',inputs)        \n",
    "        print('Base',input_weights)        \n",
    "        print('Base',column)        \n",
    "        print('Base',num_target_indices)        \n",
    "        \"\"\"\n",
    "        weights=[]        \n",
    "            \n",
    "        for inputIndex in range(num_target_indices):\n",
    "            if inputs==None:\n",
    "                name=f'{targetprefix}L{targetlevel}C{inputIndex}'\n",
    "            else:\n",
    "                name=inputs[inputIndex]\n",
    "            self.add_link(name)\n",
    "\n",
    "            if by_column:\n",
    "                weights.append(input_weights[column][inputIndex])\n",
    "            else:\n",
    "                #print(inputIndex,column)\n",
    "                weights.append(input_weights[inputIndex][column])                \n",
    "        self.weights=np.array(weights)\n",
    "    \n",
    "    def set_sparse_node_function(self, function_type, thislevel, input, column, input_weights):\n",
    "        prefix = self.get_capital(function_type)\n",
    "        self.set_name(f'{prefix}L{thislevel}C{column}')\n",
    "\n",
    "        name=input.get_name()\n",
    "        #print('Base',self.get_name())        \n",
    "        #print('Base',name)        \n",
    "        #print('Base',input_weights)        \n",
    "        #print('Base',column)        \n",
    "\n",
    "        weights=[]        \n",
    "            \n",
    "        # get name of input function\n",
    "        # set link\n",
    "        \n",
    "        \n",
    "        self.add_link(name)\n",
    "        weights.append(input_weights[0][0])\n",
    "        self.weights=np.array(weights)\n",
    "    \n",
    "    \n",
    "    \n",
    "    \n",
    "    def set_output_function(self, thislevel, column, input_weights):\n",
    "        \n",
    "        self.set_name(f'OL{thislevel}C{column}')\n",
    "\n",
    "        weights=[]        \n",
    "        weights.append(input_weights[column])\n",
    "        self.weights=np.array(weights)\n",
    "        \n",
    "    class Factory:\n",
    "        def create(self): return WeightedSum()"
   ]
  },
  {
   "cell_type": "code",
   "execution_count": null,
   "metadata": {},
   "outputs": [],
   "source": [
    "#export\n",
    "class SmoothWeightedSum(BaseFunction):\n",
    "    \"A function that combines a set of inputs by multiplying each by a weight and then adding them up. And then smooths the result. Parameter: The weights array. Links: Links to all the input functions.\"\n",
    "    def __init__(self, weights=np.ones(3), smooth_factor=0, value=0, name=\"smooth_weighted_sum\", links=None, new_name=True, **cargs):\n",
    "        super().__init__(name, value, links, new_name)\n",
    "        if isinstance(weights, list): \n",
    "            self.weights = np.array(weights)\n",
    "        else: \n",
    "            self.weights = weights\n",
    "        self.smooth_factor = smooth_factor\n",
    "    \n",
    "    def __call__(self, verbose=False):\n",
    "        if len(self.links) != self.weights.size:\n",
    "            raise Exception(f'Number of links {len(self.links)} and weights {self.weights.size} for function {self.name} must be the same.')\n",
    "        \n",
    "        super().check_links(len(self.links))\n",
    "        inputs = np.array([link.get_value() for link in self.links])\n",
    "        weighted_sum = np.dot(inputs, self.weights)\n",
    "\n",
    "        #self.value = self.value * self.smooth_factor + weighted_sum * (1-self.smooth_factor)\n",
    "        \n",
    "        self.value = smooth(weighted_sum, self.value, self.smooth_factor)\n",
    "        \n",
    "        return super().__call__(verbose)\n",
    "\n",
    "    def summary(self):\n",
    "        weights = [float(f'{wt:4.3}') for wt in self.weights]\n",
    "        super().summary(f'weights {weights} smooth {self.smooth_factor:4.3}')\n",
    "\n",
    "    def get_config(self):\n",
    "        config = super().get_config()\n",
    "        config[\"weights\"] = self.weights.tolist()\n",
    "        config[\"smooth_factor\"] = self.smooth_factor\n",
    "        return config\n",
    "    \n",
    "    def get_suffix(self):\n",
    "        return 'sm'\n",
    "\n",
    "    def get_weights_labels(self, labels):\n",
    "        for i in range(len(self.weights)):\n",
    "            link = self.get_link(i)\n",
    "            if isinstance(link, str):\n",
    "                name=link\n",
    "            else:\n",
    "                name = link.get_name()\n",
    "            value = self.weights[i]\n",
    "            if isinstance(value, float):\n",
    "                value = f'{value:4.2f}:{self.smooth_factor:4.2f}'\n",
    "            labels[(self.get_name(), name)] = value\n",
    "\n",
    "    \n",
    "    def set_node_function(self, function_type, thislevel, targetlevel, targetprefix, \n",
    "                          column, num_target_indices, inputs, input_weights, by_column, not_used):\n",
    "        prefix = self.get_capital(function_type)\n",
    "        self.set_name(f'{prefix}L{thislevel}C{column}')\n",
    "\n",
    "        \"\"\"\n",
    "        print('Base',func.get_name())        \n",
    "        print('Base',inputs)        \n",
    "        print('Base',input_weights)        \n",
    "        print('Base',column)        \n",
    "        print('Base',num_target_indices)        \n",
    "        \"\"\"\n",
    "        weights=[]        \n",
    "        for inputIndex in range(num_target_indices):\n",
    "            if inputs==None:\n",
    "                name=f'{targetprefix}L{targetlevel}C{inputIndex}'\n",
    "            else:\n",
    "                name=inputs[inputIndex]\n",
    "            self.add_link(name)\n",
    "            #print(name)\n",
    "            if by_column:\n",
    "                weights.append(input_weights[column][inputIndex])\n",
    "            else:\n",
    "                #print(inputIndex,column)\n",
    "                weights.append(input_weights[inputIndex][column])                \n",
    "        self.weights=np.array(weights)\n",
    "    \n",
    "    def set_output_function(self, thislevel, column, input_weights):\n",
    "        self.set_name(f'OL{thislevel}C{column}')\n",
    "\n",
    "        weights=[]        \n",
    "        weights.append(input_weights[column][0])\n",
    "        self.weights=np.array(weights)\n",
    "        self.smooth_factor=input_weights[column][1]\n",
    "        \n",
    "    class Factory:\n",
    "        def create(self): return SmoothWeightedSum()"
   ]
  },
  {
   "cell_type": "code",
   "execution_count": null,
   "metadata": {},
   "outputs": [],
   "source": [
    "%nbdev_export\n",
    "class IndexedParameter(BaseFunction):\n",
    "    \"A function that returns a parameter from a linked function, indexed by number. Parameter: The index. Links: One.\"\n",
    "    def __init__(self, index=None, value=0, name=\"indexed_parameter\", links=None, new_name=True, **cargs):\n",
    "        super().__init__(name, value, links, new_name)\n",
    "        self.index = index\n",
    "    \n",
    "    def __call__(self, verbose=False):\n",
    "        super().check_links(1)\n",
    "        self.value = self.links[0].get_indexed_value(self.index)\n",
    "\n",
    "        return super().__call__(verbose)\n",
    "\n",
    "    def summary(self):\n",
    "        super().summary(f'index {self.index}')\n",
    "\n",
    "\n",
    "    def get_config(self):\n",
    "        config = super().get_config()\n",
    "        config[\"index\"] = self.index\n",
    "        return config\n",
    "    \n",
    "    class Factory:\n",
    "        def create(self): return IndexedParameter()"
   ]
  },
  {
   "cell_type": "markdown",
   "metadata": {},
   "source": [
    "## Creating Functions"
   ]
  },
  {
   "cell_type": "markdown",
   "metadata": {},
   "source": [
    "Standard class constructor. Different ways to create a function with the standard constructor."
   ]
  },
  {
   "cell_type": "code",
   "execution_count": null,
   "metadata": {},
   "outputs": [
    {
     "name": "stdout",
     "output_type": "stream",
     "text": [
      "{'type': 'Proportional', 'name': 'proportional8', 'value': 0, 'links': {}, 'gain': 1}\n",
      "{'type': 'Proportional', 'name': 'proportional9', 'value': 10, 'links': {}, 'gain': 'myprop'}\n",
      "{'type': 'Proportional', 'name': 'proportional10', 'value': 0, 'links': {}, 'gain': 10}\n"
     ]
    }
   ],
   "source": [
    "prop = Proportional()\n",
    "print(prop.get_config())\n",
    "prop = Proportional(\"myprop\", 10)\n",
    "print(prop.get_config())\n",
    "prop = Proportional(gain=10)\n",
    "print(prop.get_config())"
   ]
  },
  {
   "cell_type": "markdown",
   "metadata": {},
   "source": [
    "Configuration class constructor. Create the function by passing a configuration structure to the constructor."
   ]
  },
  {
   "cell_type": "code",
   "execution_count": null,
   "metadata": {},
   "outputs": [
    {
     "name": "stdout",
     "output_type": "stream",
     "text": [
      "{'type': 'Proportional', 'name': 'myprop2', 'value': 5, 'links': {}, 'gain': 20}\n"
     ]
    }
   ],
   "source": [
    "prop = Proportional(**{'name': 'myprop', 'value': 5, 'gain': 20})\n",
    "print(prop.get_config())"
   ]
  },
  {
   "cell_type": "markdown",
   "metadata": {},
   "source": [
    "Configuration class method. Create the function by passing a configuration structure to a class method."
   ]
  },
  {
   "cell_type": "code",
   "execution_count": null,
   "metadata": {},
   "outputs": [
    {
     "name": "stdout",
     "output_type": "stream",
     "text": [
      "{'type': 'Proportional', 'name': 'myprop', 'value': -0.5, 'links': {}, 'gain': 21}\n"
     ]
    }
   ],
   "source": [
    "config = {'name': 'myprop', 'value': -0.5, 'gain': 21}\n",
    "prop = Proportional.from_config(config)\n",
    "print(prop.get_config())"
   ]
  },
  {
   "cell_type": "code",
   "execution_count": null,
   "metadata": {},
   "outputs": [
    {
     "name": "stdout",
     "output_type": "stream",
     "text": [
      "{'type': 'Proportional', 'name': 'proportional11', 'value': 0, 'links': {}, 'gain': 1}\n",
      "{'type': 'Proportional', 'name': 'proportional11', 'value': 0, 'links': {}, 'gain': 1}\n"
     ]
    }
   ],
   "source": [
    "prop = Proportional()\n",
    "print(prop.get_config())\n",
    "prop1 = Proportional.from_config(prop.get_config())\n",
    "print(prop1.get_config())\n",
    "assert prop.get_config() == prop1.get_config()"
   ]
  },
  {
   "cell_type": "markdown",
   "metadata": {},
   "source": [
    "An example showing creating a WeightedSum function."
   ]
  },
  {
   "cell_type": "code",
   "execution_count": null,
   "metadata": {},
   "outputs": [
    {
     "data": {
      "text/plain": [
       "{'type': 'WeightedSum',\n",
       " 'name': 'weighted_sum2',\n",
       " 'value': 35.0,\n",
       " 'links': {0: 'constant6', 1: 'constant7', 2: 'constant8'},\n",
       " 'weights': [1.0, 1.0, 1.0]}"
      ]
     },
     "execution_count": null,
     "metadata": {},
     "output_type": "execute_result"
    }
   ],
   "source": [
    "wts=np.ones(3)\n",
    "ws = WeightedSum(weights=wts)\n",
    "ws.add_link(Constant(10))\n",
    "ws.add_link(Constant(5))\n",
    "ws.add_link(Constant(20))\n",
    "assert ws() == 35\n",
    "ws.get_config()"
   ]
  },
  {
   "cell_type": "code",
   "execution_count": null,
   "metadata": {},
   "outputs": [
    {
     "data": {
      "text/plain": [
       "{'type': 'WeightedSum',\n",
       " 'name': 'weighted_sum2',\n",
       " 'value': 35.0,\n",
       " 'links': {0: 'constant6', 1: 'constant7', 2: 'constant8'},\n",
       " 'weights': [1.0, 1.0, 1.0]}"
      ]
     },
     "execution_count": null,
     "metadata": {},
     "output_type": "execute_result"
    }
   ],
   "source": [
    "ws1 = WeightedSum.from_config(ws.get_config())\n",
    "ws1.get_config()"
   ]
  },
  {
   "cell_type": "code",
   "execution_count": null,
   "metadata": {},
   "outputs": [
    {
     "data": {
      "text/plain": [
       "0.7615941559557646"
      ]
     },
     "execution_count": null,
     "metadata": {},
     "output_type": "execute_result"
    }
   ],
   "source": [
    "scons = Constant(2, name='scons')\n",
    "sig = Sigmoid()\n",
    "sig.add_link(scons)\n",
    "sig()"
   ]
  },
  {
   "cell_type": "markdown",
   "metadata": {},
   "source": [
    "## Viewing Functions"
   ]
  },
  {
   "cell_type": "markdown",
   "metadata": {},
   "source": [
    "View the details of the function with the \"summary\", which prints the name, type, parameters, value and links (if any)."
   ]
  },
  {
   "cell_type": "code",
   "execution_count": null,
   "metadata": {},
   "outputs": [
    {
     "name": "stdout",
     "output_type": "stream",
     "text": [
      "proportional11 Proportional | gain 1 | 0 \n"
     ]
    }
   ],
   "source": [
    "prop.summary()"
   ]
  },
  {
   "cell_type": "markdown",
   "metadata": {},
   "source": [
    "As already seen the function details can be seen by retrieving the configuration."
   ]
  },
  {
   "cell_type": "code",
   "execution_count": null,
   "metadata": {},
   "outputs": [
    {
     "name": "stdout",
     "output_type": "stream",
     "text": [
      "{'type': 'Proportional', 'name': 'proportional11', 'value': 0, 'links': {}, 'gain': 1}\n"
     ]
    }
   ],
   "source": [
    "print(prop.get_config())"
   ]
  },
  {
   "cell_type": "markdown",
   "metadata": {},
   "source": [
    "Or you can print the function."
   ]
  },
  {
   "cell_type": "code",
   "execution_count": null,
   "metadata": {},
   "outputs": [
    {
     "name": "stdout",
     "output_type": "stream",
     "text": [
      "{'value': 0, 'links': [], 'checklinks': True, 'name': 'proportional11', 'decimal_places': 3, 'gain': 1}\n"
     ]
    }
   ],
   "source": [
    "print(prop)"
   ]
  },
  {
   "cell_type": "markdown",
   "metadata": {},
   "source": [
    "Set the decimal places for output display."
   ]
  },
  {
   "cell_type": "code",
   "execution_count": null,
   "metadata": {},
   "outputs": [
    {
     "name": "stdout",
     "output_type": "stream",
     "text": [
      "0.000\n",
      "0.00\n"
     ]
    }
   ],
   "source": [
    "print(prop.output_string())\n",
    "prop.set_decimal_places(2)\n",
    "print(prop.output_string())"
   ]
  },
  {
   "cell_type": "code",
   "execution_count": null,
   "metadata": {},
   "outputs": [],
   "source": [
    "#hide\n",
    "import networkx as nx"
   ]
  },
  {
   "cell_type": "markdown",
   "metadata": {},
   "source": [
    "You can also view a function graphically as a network of connected nodes."
   ]
  },
  {
   "cell_type": "code",
   "execution_count": null,
   "metadata": {},
   "outputs": [
    {
     "name": "stdout",
     "output_type": "stream",
     "text": [
      "\n"
     ]
    },
    {
     "data": {
      "image/png": "[encoded data removed]",
      "text/plain": [
       "<Figure size 432x288 with 1 Axes>"
      ]
     },
     "metadata": {},
     "output_type": "display_data"
    }
   ],
   "source": [
    "#gui\n",
    "sub = Subtract(links=[Constant(1, name='cons'), Proportional(10, name='prop')], name='sub')\n",
    "g = sub.graph()\n",
    "print(g)\n",
    "sub.draw(node_size=2000)\n"
   ]
  },
  {
   "cell_type": "markdown",
   "metadata": {},
   "source": [
    "## Running a Function"
   ]
  },
  {
   "cell_type": "markdown",
   "metadata": {},
   "source": [
    "A function can be run simply by calling the variable."
   ]
  },
  {
   "cell_type": "code",
   "execution_count": null,
   "metadata": {},
   "outputs": [
    {
     "name": "stdout",
     "output_type": "stream",
     "text": [
      "1\n"
     ]
    }
   ],
   "source": [
    "#gui\n",
    "out = sub()\n",
    "print(out)"
   ]
  },
  {
   "cell_type": "markdown",
   "metadata": {},
   "source": [
    "A function can be also run in a loop with the run() method and provided the loop count."
   ]
  },
  {
   "cell_type": "code",
   "execution_count": null,
   "metadata": {},
   "outputs": [
    {
     "name": "stdout",
     "output_type": "stream",
     "text": [
      "0.900 1.710 2.439 3.095 3.686 4.217 4.695 5.126 5.513 5.862 "
     ]
    }
   ],
   "source": [
    "#gui\n",
    "integrator = Integration(gain=9, slow=10)\n",
    "integrator.add_link(sub)\n",
    "o = integrator.run(steps=10, verbose=True)"
   ]
  },
  {
   "cell_type": "code",
   "execution_count": null,
   "metadata": {},
   "outputs": [
    {
     "name": "stdout",
     "output_type": "stream",
     "text": [
      "6.176 "
     ]
    },
    {
     "data": {
      "text/plain": [
       "6.17570463519"
      ]
     },
     "execution_count": null,
     "metadata": {},
     "output_type": "execute_result"
    }
   ],
   "source": [
    "#gui\n",
    "integrator(verbose=True)"
   ]
  },
  {
   "cell_type": "markdown",
   "metadata": {},
   "source": [
    "## Save and Load"
   ]
  },
  {
   "cell_type": "markdown",
   "metadata": {},
   "source": [
    "Save a function to file."
   ]
  },
  {
   "cell_type": "code",
   "execution_count": null,
   "metadata": {},
   "outputs": [],
   "source": [
    "#hide\n",
    "import json"
   ]
  },
  {
   "cell_type": "code",
   "execution_count": null,
   "metadata": {},
   "outputs": [
    {
     "name": "stdout",
     "output_type": "stream",
     "text": [
      "{'type': 'WeightedSum', 'name': 'weighted_sum2', 'value': 35.0, 'links': {0: 'constant6', 1: 'constant7', 2: 'constant8'}, 'weights': [1.0, 1.0, 1.0]}\n"
     ]
    }
   ],
   "source": [
    "print(ws.get_config())\n",
    "ws.save(\"ws.json\")"
   ]
  },
  {
   "cell_type": "markdown",
   "metadata": {},
   "source": [
    "Create a function from file."
   ]
  },
  {
   "cell_type": "code",
   "execution_count": null,
   "metadata": {},
   "outputs": [
    {
     "name": "stdout",
     "output_type": "stream",
     "text": [
      "{'type': 'WeightedSum', 'name': 'weighted_sum2', 'value': 35.0, 'links': {0: 'constant6', 1: 'constant7', 2: 'constant8'}, 'weights': [1.0, 1.0, 1.0]}\n"
     ]
    }
   ],
   "source": [
    "wss = WeightedSum.load(\"ws.json\")\n",
    "assert ws.get_config() == wss.get_config() \n",
    "print(wss.get_config())"
   ]
  },
  {
   "cell_type": "markdown",
   "metadata": {},
   "source": [
    "# Setting Links\n",
    "The next cell shows how a link is added to one function from another. In this case from an Integration function to a Constant function. So, whenever \"integrator\" runs it will get its input from \"cons\". "
   ]
  },
  {
   "cell_type": "code",
   "execution_count": null,
   "metadata": {},
   "outputs": [
    {
     "name": "stdout",
     "output_type": "stream",
     "text": [
      "integration1 Integration | gain 3 slow 10  | 0 | links  constant9 \n"
     ]
    }
   ],
   "source": [
    "integrator = Integration(3, 10)\n",
    "cons = Constant(5)\n",
    "integrator.add_link(cons)\n",
    "integrator.summary()"
   ]
  },
  {
   "cell_type": "code",
   "execution_count": null,
   "metadata": {},
   "outputs": [
    {
     "name": "stdout",
     "output_type": "stream",
     "text": [
      "{'type': 'Integration', 'name': 'myinteg', 'value': 1, 'links': {0: 'myprop'}, 'gain': 20, 'slow': 100}\n"
     ]
    }
   ],
   "source": [
    "UniqueNamer.getInstance().clear() # initialises the list of function names\n",
    "integ = Integration(**{'name': 'myinteg', 'value': 1, 'gain': 20, 'slow': 100})\n",
    "prop = Proportional(5, name=\"myprop\")\n",
    "integ.add_link(prop)\n",
    "print(integ.get_config())\n",
    "assert integ.get_config() == {'type': 'Integration', 'name': 'myinteg', 'value': 1, 'links': {0: 'myprop'}, 'gain': 20, 'slow': 100}"
   ]
  },
  {
   "cell_type": "markdown",
   "metadata": {},
   "source": [
    "You can also define the link when you create the function, as in this example with \"Proportional\"."
   ]
  },
  {
   "cell_type": "code",
   "execution_count": null,
   "metadata": {},
   "outputs": [
    {
     "name": "stdout",
     "output_type": "stream",
     "text": [
      "pr Proportional | gain 1 | 0 | links  const \n"
     ]
    }
   ],
   "source": [
    "const = Constant(1, name='const')\n",
    "pr = Proportional(name='pr', links=const)\n",
    "pr.summary()\n",
    "assert pr() == 1"
   ]
  },
  {
   "cell_type": "markdown",
   "metadata": {},
   "source": [
    "It can be the name of the linked function."
   ]
  },
  {
   "cell_type": "code",
   "execution_count": null,
   "metadata": {},
   "outputs": [
    {
     "name": "stdout",
     "output_type": "stream",
     "text": [
      "pr1 Proportional | gain 10 | 0 | links  const \n"
     ]
    }
   ],
   "source": [
    "pr = Proportional(gain=10, name='pr', links='const')\n",
    "pr.summary()\n",
    "assert pr() == 10"
   ]
  },
  {
   "cell_type": "markdown",
   "metadata": {},
   "source": [
    "Or it can be a list of names."
   ]
  },
  {
   "cell_type": "code",
   "execution_count": null,
   "metadata": {},
   "outputs": [
    {
     "name": "stdout",
     "output_type": "stream",
     "text": [
      "subtract Subtract | 0 | links  const pr \n"
     ]
    }
   ],
   "source": [
    "sub = Subtract(links=['const', 'pr'])\n",
    "sub.summary()\n",
    "assert sub()==0"
   ]
  },
  {
   "cell_type": "markdown",
   "metadata": {},
   "source": [
    "## Running a Fucntion\n",
    "A function can simply be run by calling it, without any parameters. It will use whatever input was set by the links. It returns the result of the function. In this example it will be 5 \\* 3 / 10, that is, input \\* gain / slow."
   ]
  },
  {
   "cell_type": "code",
   "execution_count": null,
   "metadata": {},
   "outputs": [
    {
     "name": "stdout",
     "output_type": "stream",
     "text": [
      "1.5\n"
     ]
    }
   ],
   "source": [
    "output = integrator()\n",
    "print(output)\n",
    "assert output == 1.5"
   ]
  },
  {
   "cell_type": "markdown",
   "metadata": {},
   "source": [
    "## Array Input\n",
    "The input to a function can be an array rather than a single value."
   ]
  },
  {
   "cell_type": "code",
   "execution_count": null,
   "metadata": {},
   "outputs": [
    {
     "name": "stdout",
     "output_type": "stream",
     "text": [
      "[2.4 3.3 5.1 4.2]\n"
     ]
    }
   ],
   "source": [
    "integrator.set_value(np.array([1, 2, 4, 3]))\n",
    "output = integrator()\n",
    "print(output)\n",
    "np.testing.assert_array_equal(output, [2.4, 3.3, 5.1, 4.2])"
   ]
  },
  {
   "cell_type": "code",
   "execution_count": null,
   "metadata": {},
   "outputs": [
    {
     "name": "stdout",
     "output_type": "stream",
     "text": [
      "{'type': 'Integration', 'name': 'integration1', 'value': [2.4, 3.3, 5.1, 4.2], 'links': {0: 'constant9'}, 'gain': 3, 'slow': 10}\n"
     ]
    }
   ],
   "source": [
    "print(integrator.get_config())"
   ]
  },
  {
   "cell_type": "markdown",
   "metadata": {},
   "source": [
    "## Examples"
   ]
  },
  {
   "cell_type": "markdown",
   "metadata": {},
   "source": [
    "### Configuration\n",
    "Create a function from the configuration of another."
   ]
  },
  {
   "cell_type": "code",
   "execution_count": null,
   "metadata": {},
   "outputs": [
    {
     "name": "stdout",
     "output_type": "stream",
     "text": [
      "1.5\n",
      "{'type': 'Integration', 'name': 'integration', 'value': 1.5, 'links': {0: 'constant'}, 'gain': 3, 'slow': 10}\n",
      "{'type': 'Integration', 'name': 'integration', 'value': 1.5, 'links': {0: 'constant'}, 'gain': 3, 'slow': 10}\n"
     ]
    }
   ],
   "source": [
    "#print(integrator.get_config())\n",
    "integrator = Integration(3, 10)\n",
    "cons = Constant(5)\n",
    "integrator.add_link(cons)\n",
    "\n",
    "inte = Integration.from_config(integrator.get_config())\n",
    "print(inte())\n",
    "print(inte.get_config())\n",
    "target = {'type': 'Integration', 'name': 'integration', 'value': 1.5, 'links': {0: 'constant'}, 'gain': 3, 'slow': 10}\n",
    "print(target)\n",
    "assert inte.get_config() == target"
   ]
  },
  {
   "cell_type": "code",
   "execution_count": null,
   "metadata": {},
   "outputs": [
    {
     "name": "stdout",
     "output_type": "stream",
     "text": [
      "Converted 00_examples.ipynb.\n",
      "Converted 01_putils.ipynb.\n",
      "Converted 02_functions.ipynb.\n",
      "Converted 03_nodes.ipynb.\n",
      "Converted 04_hierarchy.ipynb.\n",
      "Converted 05_environments.ipynb.\n",
      "Converted 06_structure.ipynb.\n",
      "Converted 07_errors.ipynb.\n",
      "Converted 08_architectures.ipynb.\n",
      "Converted 09_plotting.ipynb.\n",
      "Converted index.ipynb.\n"
     ]
    }
   ],
   "source": [
    "%nbdev_hide\n",
    "from nbdev import *\n",
    "notebook2script()"
   ]
  },
  {
   "cell_type": "code",
   "execution_count": null,
   "metadata": {},
   "outputs": [],
   "source": []
  }
 ],
 "metadata": {
  "kernelspec": {
   "display_name": "Python 3",
   "language": "python",
   "name": "python3"
  },
  "language_info": {
   "codemirror_mode": {
    "name": "ipython",
    "version": 3
   },
   "file_extension": ".py",
   "mimetype": "text/x-python",
   "name": "python",
   "nbconvert_exporter": "python",
   "pygments_lexer": "ipython3",
   "version": "3.7.9"
  }
 },
 "nbformat": 4,
 "nbformat_minor": 4
}
