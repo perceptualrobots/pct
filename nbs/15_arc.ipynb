{
 "cells": [
  {
   "cell_type": "raw",
   "metadata": {},
   "source": [
    "---\n",
    "output-file: arc.html\n",
    "title: ARC environment classes\n",
    "\n",
    "---\n",
    "\n"
   ]
  },
  {
   "cell_type": "code",
   "execution_count": null,
   "metadata": {
    "vscode": {
     "languageId": "python"
    }
   },
   "outputs": [
    {
     "name": "stdout",
     "output_type": "stream",
     "text": [
      "The autoreload extension is already loaded. To reload it, use:\n",
      "  %reload_ext autoreload\n"
     ]
    }
   ],
   "source": [
    "%load_ext autoreload\n",
    "%autoreload 2"
   ]
  },
  {
   "cell_type": "code",
   "execution_count": null,
   "metadata": {
    "vscode": {
     "languageId": "python"
    }
   },
   "outputs": [],
   "source": [
    "#| default_exp arc"
   ]
  },
  {
   "cell_type": "code",
   "execution_count": null,
   "metadata": {
    "vscode": {
     "languageId": "python"
    }
   },
   "outputs": [],
   "source": [
    "#| export\n",
    "import json, os\n",
    "import numpy as np\n",
    "import gym\n",
    "from gym import spaces\n",
    "from time import sleep\n",
    "import pygame\n",
    "from matplotlib import colors\n",
    "# import copy"
   ]
  },
  {
   "cell_type": "code",
   "execution_count": 54,
   "metadata": {
    "vscode": {
     "languageId": "python"
    }
   },
   "outputs": [],
   "source": [
    "#| export\n",
    "\n",
    "class ARCEnv(gym.Env):\n",
    "    def __init__(self):\n",
    "        super(ARCEnv, self).__init__()\n",
    "        self.index = 0\n",
    "        self.env = None\n",
    "        self.dimensions = []\n",
    "        self.fitness = 0.0\n",
    "        self.state = []\n",
    "        self.done = False\n",
    "\n",
    "        # Render settings\n",
    "        self.screen_width = 800\n",
    "        self.screen_height = 600\n",
    "        self.grid_size = 30\n",
    "        self.screen = None\n",
    "        self.isopen = True\n",
    "\n",
    "        self.cmap = colors.ListedColormap(['#000000', '#0074D9', '#FF4136', '#2ECC40', '#FFDC00',\n",
    "                                           '#AAAAAA', '#F012BE', '#FF851B', '#7FDBFF', '#870C25'])\n",
    "        self.norm = colors.Normalize(vmin=0, vmax=9)\n",
    "\n",
    "    def initialise(self, file_name, properties):\n",
    "        with open(file_name, 'r') as f:\n",
    "            data = json.load(f)\n",
    "        \n",
    "        for key, value in properties.items():\n",
    "            setattr(self, key, value)\n",
    "        \n",
    "        self.train_data = data['train']\n",
    "        self.test_data = data['test']\n",
    "        self.inputs = [x['input'] for x in self.train_data]\n",
    "        self.outputs = [x.get('output', []) for x in self.train_data]\n",
    "        self.reset()\n",
    "\n",
    "    def get_train_array(self, idx):\n",
    "        return self.train_data[idx]\n",
    "\n",
    "    def get_input_array(self, idx):\n",
    "        return self.inputs[idx]\n",
    "\n",
    "    def get_output_array(self, idx):\n",
    "        return self.outputs[idx]\n",
    "\n",
    "    def get_element(self, array, row, col):\n",
    "        return array[row][col]\n",
    "\n",
    "    def get_index(self):\n",
    "        return self.index\n",
    "\n",
    "    def set_index(self, index):\n",
    "        self.index = index\n",
    "        self.reset()\n",
    "\n",
    "    def add_rows(self, num_rows):\n",
    "        self.env = np.pad(self.env, ((0, num_rows), (0, 0)), mode='constant', constant_values=0)\n",
    "\n",
    "    def remove_rows(self, num_rows):\n",
    "        self.env = self.env[:-num_rows, :]\n",
    "\n",
    "    def add_columns(self, num_columns):\n",
    "        self.env = np.pad(self.env, ((0, 0), (0, num_columns)), mode='constant', constant_values=0)\n",
    "\n",
    "    def remove_columns(self, num_columns):\n",
    "        self.env = self.env[:, :-num_columns]\n",
    "\n",
    "    def fitness_function(self):\n",
    "        output = np.array(self.outputs[self.index])\n",
    "        \n",
    "        # First metric: Squared difference in dimensions\n",
    "        dim_metric = (self.env.shape[0] - output.shape[0]) ** 2 + (self.env.shape[1] - output.shape[1]) ** 2\n",
    "        \n",
    "        # Second metric: Squared difference in elements\n",
    "        element_metric = 0\n",
    "        if getattr(self, 'fitness_type', 'full') != 'dim_only':\n",
    "            for i in range(max(self.env.shape[0], output.shape[0])):\n",
    "                for j in range(max(self.env.shape[1], output.shape[1])):\n",
    "                    env_val = self.env[i, j] if i < self.env.shape[0] and j < self.env.shape[1] else None\n",
    "                    output_val = output[i, j] if i < output.shape[0] and j < output.shape[1] else None\n",
    "                    if env_val is None or output_val is None:\n",
    "                        element_metric += 25\n",
    "                    else:\n",
    "                        element_metric += (env_val - output_val) ** 2\n",
    "\n",
    "        # Final metric: Sum of the two metrics or dim_metric only\n",
    "        if getattr(self, 'fitness_type', 'full') == 'dim_only':\n",
    "            final_metric = dim_metric\n",
    "        else:\n",
    "            final_metric = dim_metric + element_metric\n",
    "\n",
    "        return final_metric\n",
    "\n",
    "    def step(self, action):\n",
    "        self.process_dimensions(action)\n",
    "        if getattr(self, 'fitness_type', 'full') != 'dim_only':\n",
    "            self.process_remaining_values(action[2:])\n",
    "\n",
    "        self.fitness = self.fitness_function()\n",
    "        if self.fitness < 1e-6:\n",
    "            self.done = True\n",
    "        \n",
    "        self.state = self.env.flatten().tolist()\n",
    "        return self.state, self.fitness, self.done\n",
    "\n",
    "    def reset(self):\n",
    "        input_shape = np.array(self.inputs[self.index]).shape\n",
    "        self.env = np.zeros(input_shape, dtype=int)\n",
    "        self.fitness = self.fitness_function()\n",
    "        self.done = False\n",
    "        self.state = self.env.flatten().tolist()\n",
    "        return self.state\n",
    "\n",
    "    def get_env_output_dimensions(self):\n",
    "        input_shape = np.array(self.env).shape\n",
    "        output_shape = np.array(self.outputs[self.index]).shape\n",
    "        return input_shape, output_shape\n",
    "\n",
    "    def process_dimensions(self, action):\n",
    "        num_rows, num_cols, *values = action\n",
    "\n",
    "        if num_rows > 0:\n",
    "            self.add_rows(num_rows)\n",
    "        elif num_rows < 0:\n",
    "            self.remove_rows(abs(num_rows))\n",
    "        \n",
    "        if num_cols > 0:\n",
    "            self.add_columns(num_cols)\n",
    "        elif num_cols < 0:\n",
    "            self.remove_columns(abs(num_cols))\n",
    "\n",
    "    def process_remaining_values(self, values):\n",
    "        for i, value in enumerate(values):\n",
    "            row, col = divmod(i, self.env.shape[1])\n",
    "            if row < self.env.shape[0] and col < self.env.shape[1]:\n",
    "                self.env[row, col] = value\n",
    "\n",
    "    def render(self, mode='human'):\n",
    "        def draw_grid(screen, grid, top_left_x, top_left_y, cell_size):\n",
    "            for i, row in enumerate(grid):\n",
    "                for j, value in enumerate(row):\n",
    "                    color = self.cmap(self.norm(value))[:3]  # Get RGB only, excluding alpha\n",
    "                    color = tuple(int(c * 255) for c in color)  # Multiply each element by 255\n",
    "                    pygame.draw.rect(screen, color, (top_left_x + j * cell_size, top_left_y + i * cell_size, cell_size, cell_size))\n",
    "                    pygame.draw.rect(screen, (255, 255, 255), (top_left_x + j * cell_size, top_left_y + i * cell_size, cell_size, cell_size), 1)\n",
    "            # Draw a black line around the grid\n",
    "            pygame.draw.rect(screen, (0, 0, 0), (top_left_x, top_left_y, cell_size * len(grid[0]), cell_size * len(grid)), 2)\n",
    "\n",
    "        if self.screen is None:\n",
    "            pygame.init()\n",
    "            self.screen = pygame.display.set_mode((self.screen_width, self.screen_height))\n",
    "            pygame.display.set_caption('ARC Environment')\n",
    "\n",
    "        self.screen.fill((255, 255, 255))\n",
    "\n",
    "        input_grid = np.array(self.inputs[self.index])\n",
    "        output_grid = np.array(self.outputs[self.index])\n",
    "        env_grid = self.env\n",
    "\n",
    "        draw_grid(self.screen, input_grid, 50, 50, self.grid_size)\n",
    "        draw_grid(self.screen, output_grid, 300, 50, self.grid_size)\n",
    "        draw_grid(self.screen, env_grid, 550, 50, self.grid_size)\n",
    "\n",
    "        # Load and scale images\n",
    "        arrow_img = pygame.transform.scale(pygame.image.load('images/arrow.png'), (50, 50))\n",
    "        equals_img = pygame.transform.scale(pygame.image.load('images/equals.jpg'), (50, 50))\n",
    "        green_tick_img = pygame.transform.scale(pygame.image.load('images/green_tick.png'), (50, 50))\n",
    "        red_cross_img = pygame.transform.scale(pygame.image.load('images/red-cross.png'), (50, 50))\n",
    "\n",
    "        self.screen.blit(arrow_img, (250, 150))\n",
    "        self.screen.blit(equals_img, (500, 150))\n",
    "\n",
    "        # Display fitness text with font size 20 and bold\n",
    "        font = pygame.font.Font(None, 20)\n",
    "        font.set_bold(True)\n",
    "        fitness_text = font.render(f\"Fitness: {self.fitness:.2f}\", True, (0, 0, 0))\n",
    "        self.screen.blit(fitness_text, (600, 400))\n",
    "\n",
    "        if self.fitness < 1e-6:\n",
    "            self.screen.blit(green_tick_img, (600, 500))\n",
    "        else:\n",
    "            self.screen.blit(red_cross_img, (600, 500))\n",
    "\n",
    "        pygame.display.flip()\n",
    "\n",
    "    def close(self):\n",
    "        if self.screen is not None:\n",
    "            pygame.display.quit()\n",
    "            pygame.quit()\n",
    "            self.isopen = False\n",
    "\n"
   ]
  },
  {
   "cell_type": "code",
   "execution_count": 55,
   "metadata": {
    "vscode": {
     "languageId": "python"
    }
   },
   "outputs": [
    {
     "name": "stdout",
     "output_type": "stream",
     "text": [
      "[]\n",
      "[] 50 False\n",
      "[] 32 False\n",
      "[] 18 False\n",
      "[] 8 False\n",
      "[] 2 False\n",
      "[] 0 True\n"
     ]
    }
   ],
   "source": [
    "#| gui\n",
    "# Example usage:\n",
    "props = {'dir': 'C:\\\\packages\\\\arc-prize-2024\\\\training', 'code':'1_007bbfb7.dat', 'fitness_type': 'dim_only'}\n",
    "file_path = os.path.join(props['dir'], props['code'])\n",
    "arc_env = ARCEnv()\n",
    "arc_env.initialise(file_path, props)\n",
    "arc_env.render()\n",
    "#    print(state, fitness, done)\n",
    "print(arc_env.dimensions)\n",
    "for i in range(6):\n",
    "    state, fitness, done = arc_env.step([1, 1, 1, 2, 3, 4, 5, 6, 7])\n",
    "    # print(state, fitness, done)\n",
    "    print(arc_env.dimensions, fitness, done)\n",
    "    arc_env.render()\n",
    "    pass\n",
    "\n"
   ]
  },
  {
   "cell_type": "code",
   "execution_count": 53,
   "metadata": {
    "vscode": {
     "languageId": "python"
    }
   },
   "outputs": [],
   "source": [
    "\n",
    "\n",
    "# sleep(5)\n",
    "arc_env.close()"
   ]
  },
  {
   "cell_type": "code",
   "execution_count": null,
   "metadata": {
    "vscode": {
     "languageId": "python"
    }
   },
   "outputs": [],
   "source": [
    "#| hide\n",
    "import nbdev; nbdev.nbdev_export()"
   ]
  }
 ],
 "metadata": {
  "kernelspec": {
   "display_name": "python3",
   "language": "python",
   "name": "python3"
  }
 },
 "nbformat": 4,
 "nbformat_minor": 4
}
