{
 "cells": [
  {
   "cell_type": "raw",
   "metadata": {},
   "source": [
    "---\n",
    "output-file: arc.html\n",
    "title: ARC environment classes\n",
    "\n",
    "---\n",
    "\n"
   ]
  },
  {
   "cell_type": "code",
   "execution_count": null,
   "metadata": {},
   "outputs": [
    {
     "name": "stdout",
     "output_type": "stream",
     "text": [
      "The autoreload extension is already loaded. To reload it, use:\n",
      "  %reload_ext autoreload\n"
     ]
    }
   ],
   "source": [
    "%load_ext autoreload\n",
    "%autoreload 2"
   ]
  },
  {
   "cell_type": "code",
   "execution_count": null,
   "metadata": {},
   "outputs": [],
   "source": [
    "#| default_exp arc"
   ]
  },
  {
   "cell_type": "code",
   "execution_count": null,
   "metadata": {},
   "outputs": [],
   "source": [
    "#| export\n",
    "import json, os\n",
    "import numpy as np\n",
    "import gym\n",
    "from gym import spaces\n",
    "# import copy"
   ]
  },
  {
   "cell_type": "code",
   "execution_count": null,
   "metadata": {},
   "outputs": [],
   "source": [
    "#| export\n",
    "class ARCEnv(gym.Env):\n",
    "    def __init__(self):\n",
    "        super(ARCEnv, self).__init__()\n",
    "        self.index = 0\n",
    "        self.env = None\n",
    "        self.dimensions = []\n",
    "        self.fitness = 0.0\n",
    "        self.state = []\n",
    "        self.done = False\n",
    "\n",
    "    def initialise(self, file_name, properties):\n",
    "        with open(file_name, 'r') as f:\n",
    "            data = json.load(f)\n",
    "        \n",
    "        self.index = properties.get('index', 0)\n",
    "        self.train_data = data['train']\n",
    "        self.test_data = data['test']\n",
    "        self.inputs = [x['input'] for x in self.train_data]\n",
    "        self.outputs = [x.get('output', []) for x in self.train_data]\n",
    "        self.reset()\n",
    "\n",
    "    def get_train_array(self, idx):\n",
    "        return self.train_data[idx]\n",
    "\n",
    "    def get_input_array(self, idx):\n",
    "        return self.inputs[idx]\n",
    "\n",
    "    def get_output_array(self, idx):\n",
    "        return self.outputs[idx]\n",
    "\n",
    "    def get_element(self, array, row, col):\n",
    "        return array[row][col]\n",
    "\n",
    "    def get_dimensions(self):\n",
    "        return self.dimensions\n",
    "\n",
    "    def get_index(self):\n",
    "        return self.index\n",
    "\n",
    "    def set_index(self, index):\n",
    "        self.index = index\n",
    "        self.reset()\n",
    "\n",
    "    def add_rows(self, num_rows):\n",
    "        self.env = np.pad(self.env, ((0, num_rows), (0, 0)), mode='constant', constant_values=0)\n",
    "\n",
    "    def remove_rows(self, num_rows):\n",
    "        self.env = self.env[:-num_rows, :]\n",
    "\n",
    "    def add_columns(self, num_columns):\n",
    "        self.env = np.pad(self.env, ((0, 0), (0, num_columns)), mode='constant', constant_values=0)\n",
    "\n",
    "    def remove_columns(self, num_columns):\n",
    "        self.env = self.env[:, :-num_columns]\n",
    "\n",
    "    def fitness_function(self):\n",
    "        output = np.array(self.outputs[self.index])\n",
    "        self.set_dimensions()\n",
    "\n",
    "        # First metric: Squared difference in dimensions\n",
    "        # dim_metric = (self.env.shape[0] - output.shape[0]) ** 2 + (self.env.shape[1] - output.shape[1]) ** 2\n",
    "        dim_metric = (self.dimensions[0] - self.dimensions[2]) ** 2 + (self.dimensions[1] - self.dimensions[3]) ** 2\n",
    "\n",
    "        # Second metric: Squared difference in elements\n",
    "        element_metric = 0\n",
    "        for i in range(max(self.env.shape[0], output.shape[0])):\n",
    "            for j in range(max(self.env.shape[1], output.shape[1])):\n",
    "                env_val = self.env[i, j] if i < self.env.shape[0] and j < self.env.shape[1] else None\n",
    "                output_val = output[i, j] if i < output.shape[0] and j < output.shape[1] else None\n",
    "                if env_val is None or output_val is None:\n",
    "                    element_metric += 25\n",
    "                else:\n",
    "                    element_metric += (env_val - output_val) ** 2\n",
    "\n",
    "        # temp\n",
    "        element_metric = 0\n",
    "\n",
    "        # Final metric: Sum of the two metrics\n",
    "        final_metric = dim_metric + element_metric\n",
    "        return final_metric\n",
    "\n",
    "    def step(self, action):\n",
    "        num_rows, num_cols, *values = action\n",
    "\n",
    "        if num_rows > 0:\n",
    "            self.add_rows(num_rows)\n",
    "        elif num_rows < 0:\n",
    "            self.remove_rows(abs(num_rows))\n",
    "        \n",
    "        if num_cols > 0:\n",
    "            self.add_columns(num_cols)\n",
    "        elif num_cols < 0:\n",
    "            self.remove_columns(abs(num_cols))\n",
    "        \n",
    "        for i, value in enumerate(values):\n",
    "            row, col = divmod(i, self.env.shape[1])\n",
    "            if row < self.env.shape[0] and col < self.env.shape[1]:\n",
    "                self.env[row, col] = value\n",
    "\n",
    "        self.fitness = self.fitness_function()\n",
    "        if self.fitness < 1e-6:\n",
    "            self.done = True\n",
    "        \n",
    "        self.state = self.env.flatten().tolist()\n",
    "        return self.state, self.fitness, self.done\n",
    "\n",
    "    def set_dimensions(self):\n",
    "        self.dimensions = [len(self.env[0]), len(self.env), len(self.outputs[self.index][0]), len(self.outputs[self.index])]\n",
    "\n",
    "\n",
    "    def reset(self):\n",
    "        self.env = np.array(self.inputs[self.index])\n",
    "        self.set_dimensions()\n",
    "        self.fitness = self.fitness_function()\n",
    "        self.done = False\n",
    "        self.state = self.env.flatten().tolist()\n",
    "        return self.state\n",
    "\n"
   ]
  },
  {
   "cell_type": "code",
   "execution_count": null,
   "metadata": {},
   "outputs": [
    {
     "name": "stdout",
     "output_type": "stream",
     "text": [
      "[3, 3, 9, 9]\n",
      "[4, 4, 9, 9] 50 False\n",
      "[5, 5, 9, 9] 32 False\n",
      "[6, 6, 9, 9] 18 False\n",
      "[7, 7, 9, 9] 8 False\n",
      "[8, 8, 9, 9] 2 False\n",
      "[9, 9, 9, 9] 0 True\n"
     ]
    }
   ],
   "source": [
    "# Example usage:\n",
    "props = {'dir': 'C:\\\\packages\\\\arc-prize-2024\\\\training', 'code':'1_007bbfb7.dat'}\n",
    "file_path = os.path.join(props['dir'], props['code'])\n",
    "arc_env = ARCEnv()\n",
    "arc_env.initialise(file_path, {'index': 0})\n",
    "#    print(state, fitness, done)\n",
    "print(arc_env.dimensions)\n",
    "for i in range(6):\n",
    "    state, fitness, done = arc_env.step([1, 1, 1, 2, 3, 4, 5, 6, 7])\n",
    "    # print(state, fitness, done)\n",
    "    print(arc_env.dimensions, fitness, done)\n",
    "\n"
   ]
  },
  {
   "cell_type": "code",
   "execution_count": null,
   "metadata": {},
   "outputs": [],
   "source": [
    "\n",
    "\n"
   ]
  },
  {
   "cell_type": "code",
   "execution_count": null,
   "metadata": {},
   "outputs": [],
   "source": [
    "#| hide\n",
    "import nbdev; nbdev.nbdev_export()"
   ]
  }
 ],
 "metadata": {
  "kernelspec": {
   "display_name": "python3",
   "language": "python",
   "name": "python3"
  }
 },
 "nbformat": 4,
 "nbformat_minor": 4
}
