{
 "cells": [
  {
   "cell_type": "raw",
   "metadata": {},
   "source": [
    "---\n",
    "output-file: putils.html\n",
    "title: Utilities\n",
    "\n",
    "---\n",
    "\n"
   ]
  },
  {
   "cell_type": "code",
   "execution_count": null,
   "metadata": {},
   "outputs": [],
   "source": [
    "%reload_ext autoreload\n",
    "%autoreload 2"
   ]
  },
  {
   "cell_type": "code",
   "execution_count": null,
   "metadata": {},
   "outputs": [],
   "source": [
    "#| default_exp putils"
   ]
  },
  {
   "cell_type": "code",
   "execution_count": null,
   "metadata": {},
   "outputs": [],
   "source": [
    "#| export\n",
    "import numpy as np\n",
    "#import psutil\n",
    "import sys, importlib, json, math, os, time, math\n",
    "from datetime import datetime\n",
    "\n",
    "# import warnings\n",
    "# warnings.filterwarnings(\"error\")"
   ]
  },
  {
   "cell_type": "markdown",
   "metadata": {},
   "source": [
    "# SingletonObjects"
   ]
  },
  {
   "cell_type": "code",
   "execution_count": null,
   "metadata": {},
   "outputs": [],
   "source": [
    "#| export\n",
    "class SingletonObjects:\n",
    "    \"A utility for refrencing objects that should only be declared once.\"\n",
    "    __instance = None\n",
    "    @staticmethod \n",
    "    def getInstance():\n",
    "        \"\"\" Static access method. \"\"\"\n",
    "        if SingletonObjects.__instance == None:\n",
    "           SingletonObjects()\n",
    "        return SingletonObjects.__instance\n",
    "\n",
    "    def __init__(self):\n",
    "        \"\"\" Virtually private constructor. \"\"\"\n",
    "        if SingletonObjects.__instance != None:\n",
    "            raise Exception(\"This class is a singleton!\")\n",
    "        else:\n",
    "            SingletonObjects.__instance = self\n",
    "        self.objects = {}\n",
    "\n",
    "    def clear(self):\n",
    "        self.objects = {}\n",
    "            \n",
    "    def get_object(self, name=None):\n",
    "        return self.objects[name]\n",
    "\n",
    "    def add_object(self, key=None, value=None):\n",
    "        if key in self.objects:\n",
    "            raise Exception(f'Object {key} already exists in SingletonObjects.')            \n",
    "        else:\n",
    "            self.objects[key]=value\n"
   ]
  },
  {
   "cell_type": "markdown",
   "metadata": {},
   "source": [
    "# UniqueNamer\n"
   ]
  },
  {
   "cell_type": "code",
   "execution_count": null,
   "metadata": {},
   "outputs": [],
   "source": [
    "#| export\n",
    "class UniqueNamer:\n",
    "    \"A utility for ensuring the names of functions are unique.\"\n",
    "    __instance = None\n",
    "    @staticmethod \n",
    "    def getInstance():\n",
    "        \"\"\" Static access method. \"\"\"\n",
    "        if UniqueNamer.__instance == None:\n",
    "           UniqueNamer()\n",
    "        return UniqueNamer.__instance\n",
    "\n",
    "    def __init__(self):\n",
    "        \"\"\" Virtually private constructor. \"\"\"\n",
    "        if UniqueNamer.__instance != None:\n",
    "            raise Exception(\"This class is a singleton!\")\n",
    "        else:\n",
    "            UniqueNamer.__instance = self\n",
    "        self.names = {}\n",
    "\n",
    "    def clear(self, namespace=None):\n",
    "        if namespace==None:\n",
    "            self.names = {}\n",
    "        else:\n",
    "            self.names[namespace] = {}\n",
    "\n",
    "            \n",
    "    def get_name(self, namespace=None, name=None):\n",
    "        # checks if name is unqiue, if a name is not unique a new one is created, name recored \n",
    "        if namespace in self.names:\n",
    "            namespace_list = self.names[namespace]\n",
    "        else:\n",
    "            namespace_list = {}\n",
    "            self.names[namespace] = namespace_list\n",
    "\n",
    "        if name in namespace_list: \n",
    "            num = namespace_list[name]+1\n",
    "            namespace_list[name]=num\n",
    "            name = f'{name}{num}'\n",
    "        #else:\n",
    "        namespace_list[name]=0\n",
    "        return name\n",
    "    \n",
    "    def report(self,  namespace=None, name=None,):\n",
    "\n",
    "        if namespace is None:\n",
    "            for namespace, namespace_list in self.names.items():\n",
    "                print(namespace, len(namespace_list))\n",
    "                for name in namespace_list:\n",
    "                    print(\"*** \", name)\n",
    "        else:\n",
    "            if namespace in self.names:\n",
    "                namespace_list = self.names[namespace]\n",
    "                if name == None:\n",
    "                    print(len(namespace_list))\n",
    "                    for nname in namespace_list:\n",
    "                        print(\"*** \", nname, namespace_list[nname])\n",
    "                else:\n",
    "                    print(\"*** \", name, namespace_list[name])"
   ]
  },
  {
   "cell_type": "markdown",
   "metadata": {},
   "source": [
    "# FunctionsList"
   ]
  },
  {
   "cell_type": "code",
   "execution_count": null,
   "metadata": {},
   "outputs": [],
   "source": [
    "#| export\n",
    "class FunctionsList:\n",
    "    \"A utility for storing functions created, keyed on the function name.\"\n",
    "    __instance = None\n",
    "    @staticmethod \n",
    "    def getInstance():\n",
    "        \"\"\" Static access method. \"\"\"\n",
    "        if FunctionsList.__instance == None:\n",
    "             FunctionsList()\n",
    "        return FunctionsList.__instance\n",
    "    def __init__(self):\n",
    "        \"\"\" Virtually private constructor. \"\"\"\n",
    "        if FunctionsList.__instance != None:\n",
    "             raise Exception(\"This class is a singleton!\")\n",
    "        else:\n",
    "             FunctionsList.__instance = self\n",
    "        self.functions = {}\n",
    "\n",
    "    def clear(self, namespace=None):\n",
    "        if namespace==None:\n",
    "            self.functions = {}\n",
    "        else:\n",
    "            self.functions[namespace] = {}\n",
    "    \n",
    "    def add_function(self, namespace=None, func=None):\n",
    "        # adds a function to a namespace list, by name\n",
    "        if namespace in self.functions:\n",
    "            namespace_list = self.functions[namespace]\n",
    "        else:\n",
    "            namespace_list = {}\n",
    "            self.functions[namespace]=namespace_list\n",
    "\n",
    "        name = func.get_name()\n",
    "        if name in namespace_list:\n",
    "            raise Exception(f'Function {name} is already in namespace list {namespace}')\n",
    "        namespace_list[name]=func\n",
    "        \n",
    "        return name\n",
    "\n",
    "    def remove_function(self, namespace=None, name=None):\n",
    "        if name in self.functions[namespace]:\n",
    "            func = self.functions[namespace].pop(name)     \n",
    "            \n",
    "        if self.count(namespace)==0:\n",
    "            self.functions.pop(namespace)\n",
    "            \n",
    "        return func\n",
    "    \n",
    "    def delete_function(self, namespace=None, name=None):\n",
    "        func = self.remove_function(namespace=namespace, name=name)\n",
    "        del func\n",
    "\n",
    "    def get_function(self, namespace=None, name=None):     \n",
    "        if  name is None:\n",
    "            raise Exception(f'The function name must be specified')\n",
    "        if  namespace is None:\n",
    "            raise Exception(f'The namespace must be specified')\n",
    "        \n",
    "        if namespace in self.functions:\n",
    "            namespace_list = self.functions[namespace]\n",
    "        else:\n",
    "            return name\n",
    "        \n",
    "        if isinstance(name, str) :\n",
    "            if  name in namespace_list:\n",
    "                func = namespace_list[name]\n",
    "            else:\n",
    "                raise Exception(f'Function {name} does not exist in namespace {namespace}')\n",
    "        else:\n",
    "            func = name\n",
    "\n",
    "        return func\n",
    "    \n",
    "    def count(self, namespace=None):\n",
    "        if namespace is None:\n",
    "            return len(self.functions)\n",
    "        \n",
    "        if namespace in self.functions:\n",
    "            namespace_list = self.functions[namespace]\n",
    "            return len(namespace_list)\n",
    "        else:\n",
    "            raise Exception(f\"Namespace {namespace} not found in report\")\n",
    "                \n",
    "                \n",
    "                \n",
    "    def report(self, namespace=None, name=None):\n",
    "        print(\"--- functions report\")\n",
    "        if namespace is None:\n",
    "            for namespace, namespace_list in self.functions.items():\n",
    "                print(len(namespace_list), 'NAMESPACE', namespace)\n",
    "                ctr = 1\n",
    "                for name, function in namespace_list.items():\n",
    "                    print(\"*** \", ctr, name, [function])\n",
    "                    print(function)\n",
    "                    ctr = ctr + 1\n",
    "                print()\n",
    "        else:   \n",
    "            if namespace in self.functions:\n",
    "                namespace_list = self.functions[namespace]\n",
    "            else:\n",
    "                raise Exception(f\"Namespace {namespace} not found in report\")\n",
    "\n",
    "            if name == None:\n",
    "                print(len(namespace_list), 'NAMESPACE', namespace)\n",
    "                ctr = 1\n",
    "                for name, function in namespace_list.items():\n",
    "                    print(\"*** \", ctr, name, [function])\n",
    "                    print(function)\n",
    "                print()\n",
    "            else:\n",
    "                print(\"*** \", name, [namespace_list[name]])\n",
    "                print(namespace_list[name])          \n",
    "            "
   ]
  },
  {
   "cell_type": "markdown",
   "metadata": {},
   "source": [
    "# Memory"
   ]
  },
  {
   "cell_type": "code",
   "execution_count": null,
   "metadata": {},
   "outputs": [],
   "source": [
    "#| export\n",
    "class Memory:\n",
    "    \"A utility for recording global values.\"\n",
    "    __instance = None\n",
    "    @staticmethod \n",
    "    def getInstance():\n",
    "        \"\"\" Static access method. \"\"\"\n",
    "        if Memory.__instance == None:\n",
    "           Memory()\n",
    "        return Memory.__instance\n",
    "\n",
    "    def __init__(self):\n",
    "        \"\"\" Virtually private constructor. \"\"\"\n",
    "        if Memory.__instance != None:\n",
    "            raise Exception(\"This class is a singleton!\")\n",
    "        else:\n",
    "            Memory.__instance = self\n",
    "        self.memory = {}\n",
    "\n",
    "    def clear(self):\n",
    "        self.memory = {}\n",
    "\n",
    "            \n",
    "    def get_data(self, key=None):\n",
    "        value = None\n",
    "        if key in self.memory:\n",
    "            value = self.memory[key]\n",
    "        return value\n",
    "    \n",
    "    def add_data(self, key=None, value=None):\n",
    "        self.memory[key]=value\n",
    "\n"
   ]
  },
  {
   "cell_type": "markdown",
   "metadata": {},
   "source": [
    "# NumberStats"
   ]
  },
  {
   "cell_type": "code",
   "execution_count": null,
   "metadata": {},
   "outputs": [],
   "source": [
    "#| export\n",
    "class NumberStats:\n",
    "    \"A utility for calculating the statistice of a number.\"\n",
    "    __instance = None\n",
    "    @staticmethod \n",
    "    def getInstance():\n",
    "        \"\"\" Static access method. \"\"\"\n",
    "        if NumberStats.__instance == None:\n",
    "             NumberStats()\n",
    "        return NumberStats.__instance\n",
    "    def __init__(self):\n",
    "        \"\"\" Virtually private constructor. \"\"\"\n",
    "        if NumberStats.__instance != None:\n",
    "             raise Exception(\"This class is a singleton!\")\n",
    "        else:\n",
    "             NumberStats.__instance = self\n",
    "        self.max = -math.inf\n",
    "        self.min = math.inf\n",
    "\n",
    "    \n",
    "    def add(self, number=None):\n",
    "        if number > self.max:\n",
    "            self.max = number\n",
    "\n",
    "        if number < self.min:\n",
    "            self.min = number\n",
    "                \n",
    "    def report(self):\n",
    "        print(\"--- stats report\")\n",
    "        print(f'Max: {self.max:4.3f}')\n",
    "        print(f'Min: {self.min:4.3f}')\n",
    "            "
   ]
  },
  {
   "cell_type": "code",
   "execution_count": null,
   "metadata": {},
   "outputs": [],
   "source": [
    "#| export\n",
    "class FunctionsData():\n",
    "    \"Data collected for a set of functions\"\n",
    "    def __init__(self):\n",
    "        self.data = {}\n",
    "            \n",
    "    def add_data(self, func):\n",
    "        name = func.get_name()\n",
    "        if name in self.data.keys():\n",
    "            self.data[name].append(func.get_value())\n",
    "        else:\n",
    "            dlist=[]\n",
    "            self.data[name]=dlist\n",
    "            self.data[name].append(func.get_value())\n",
    "    \n",
    "    def add_reward(self, func):\n",
    "        name = 'reward'\n",
    "        if name in self.data.keys():\n",
    "            self.data[name].append(func.get_reward())\n",
    "        else:\n",
    "            dlist=[]\n",
    "            self.data[name]=dlist\n",
    "            self.data[name].append(func.get_reward())\n",
    "            \n",
    "    def add_fitness(self, func):\n",
    "        name = 'fitness'\n",
    "        if name in self.data.keys():\n",
    "            self.data[name].append(func.get_fitness())\n",
    "        else:\n",
    "            dlist=[]\n",
    "            self.data[name]=dlist\n",
    "            self.data[name].append(func.get_fitness())\n",
    "\n",
    "    def add_value(self, name, value):\n",
    "        if name in self.data.keys():\n",
    "            self.data[name].append(value)\n",
    "        else:\n",
    "            dlist=[]\n",
    "            self.data[name]=dlist\n",
    "            self.data[name].append(value)\n",
    "\n",
    "\n",
    "    def add_list(self, key, list):\n",
    "        self.data[key]= list"
   ]
  },
  {
   "cell_type": "code",
   "execution_count": null,
   "metadata": {},
   "outputs": [],
   "source": [
    "# for x in range(10.0):\n",
    "#     NumberStats.getInstance().add(x)\n",
    "#     NumberStats.getInstance().add(-x)\n",
    "\n",
    "# NumberStats.getInstance().report()"
   ]
  },
  {
   "cell_type": "code",
   "execution_count": null,
   "metadata": {},
   "outputs": [],
   "source": [
    "# from pct.functions import Proportional "
   ]
  },
  {
   "cell_type": "code",
   "execution_count": null,
   "metadata": {},
   "outputs": [],
   "source": [
    "# prop = Proportional()"
   ]
  },
  {
   "cell_type": "code",
   "execution_count": null,
   "metadata": {},
   "outputs": [],
   "source": [
    "# UniqueNamer.getInstance().report()"
   ]
  },
  {
   "cell_type": "code",
   "execution_count": null,
   "metadata": {},
   "outputs": [],
   "source": [
    "# FunctionsList.getInstance().report()"
   ]
  },
  {
   "cell_type": "code",
   "execution_count": null,
   "metadata": {},
   "outputs": [],
   "source": [
    "#| export\n",
    "def dynamic_module_import(modulename, package=None):\n",
    "    if modulename not in sys.modules:\n",
    "        importlib.import_module(modulename, package)     "
   ]
  },
  {
   "cell_type": "code",
   "execution_count": null,
   "metadata": {},
   "outputs": [],
   "source": [
    "#| export\n",
    "def dynamic_class_load(modulename, classname):\n",
    "    module = importlib.import_module(modulename) \n",
    "    my_class = getattr(module, classname)"
   ]
  },
  {
   "cell_type": "code",
   "execution_count": null,
   "metadata": {},
   "outputs": [],
   "source": [
    "#import importlib\n",
    "#importlib.import_module('pct.functions', 'Constant')   "
   ]
  },
  {
   "cell_type": "code",
   "execution_count": null,
   "metadata": {},
   "outputs": [],
   "source": [
    "#| export\n",
    "def get_drive():\n",
    "    if os.name == 'nt':\n",
    "        drive = os.path.abspath(os.sep)\n",
    "    else:\n",
    "        drive = os.path.abspath(os.sep)+'mnt'+os.sep+'c'+os.sep    \n",
    "    return drive"
   ]
  },
  {
   "cell_type": "markdown",
   "metadata": {},
   "source": []
  },
  {
   "cell_type": "code",
   "execution_count": null,
   "metadata": {},
   "outputs": [],
   "source": [
    "#| export\n",
    "def loadjson(file):      \n",
    "    with open(file) as f:\n",
    "        rtn = json.load(f)\n",
    "    return rtn"
   ]
  },
  {
   "cell_type": "code",
   "execution_count": null,
   "metadata": {},
   "outputs": [
    {
     "name": "stdout",
     "output_type": "stream",
     "text": [
      "{'type': 'WeightedSum', 'name': 'weighted_sum', 'value': 35, 'links': {'0': 'constant', '1': 'constant1', '2': 'constant2'}, 'weights': [1, 1, 1]}\n"
     ]
    }
   ],
   "source": [
    "var = loadjson(\"ws.json\")\n",
    "print(var)"
   ]
  },
  {
   "cell_type": "markdown",
   "metadata": {},
   "source": [
    "# Counter"
   ]
  },
  {
   "cell_type": "code",
   "execution_count": null,
   "metadata": {},
   "outputs": [],
   "source": [
    "#| export\n",
    "class Counter(object):\n",
    "\n",
    "  def __init__(self, limit=1000, init=0, step=1, print=100, pause=False, display=10):\n",
    "      self.limit=limit\n",
    "      self.counter=init\n",
    "      self.step=step\n",
    "      self.print=print\n",
    "      self.pause=pause\n",
    "      self.display=display\n",
    "      \n",
    "\n",
    "  def __call__(self):\n",
    "      self.counter+=self.step\n",
    "      return self.counter\n",
    "  \n",
    "  def get(self):\n",
    "      return self.counter\n",
    "    \n",
    "  def get_limit(self):\n",
    "      return self.limit\n",
    "\n",
    "  def set_limit(self, limit):\n",
    "      self.limit=limit"
   ]
  },
  {
   "cell_type": "markdown",
   "metadata": {},
   "source": [
    "# Functions"
   ]
  },
  {
   "cell_type": "markdown",
   "metadata": {},
   "source": [
    "## set_dirs"
   ]
  },
  {
   "cell_type": "code",
   "execution_count": null,
   "metadata": {},
   "outputs": [],
   "source": [
    "#| export\n",
    "def set_dirs(dirs):\n",
    "\tif dirs is None:\n",
    "\t\tout = {}\n",
    "\telse:\n",
    "\t\tout = eval(dirs)\n",
    "\n",
    "\tif 'drive' not in out:\n",
    "\t\tout['drive'] = 'G:/My Drive/'\n",
    "\tif 'root_path' not in out:\n",
    "\t\t# out['root_path'] = 'C:/Users/ruper/'\n",
    "\t\tout['root_path'] = os.path.expanduser('~')+os.sep\n",
    "\tif 'configs_dir' not in out:\n",
    "\t\tout['configs_dir'] = 'Versioning/PCTSoftware/Libraries/python/pctlocal/tests/ga/pctobject/configs/'\n",
    "\tif 'plots_dir' not in out:\n",
    "\t\tout['plots_dir'] = '/tmp/ARC'\n",
    "\n",
    "\t# Create the directory if it doesn't exist\n",
    "\tif not os.path.exists(out['plots_dir']):\n",
    "\t\tos.makedirs(out['plots_dir'])\n",
    "\t\n",
    "\treturn out\n",
    "\n"
   ]
  },
  {
   "cell_type": "code",
   "execution_count": null,
   "metadata": {},
   "outputs": [],
   "source": [
    "#| export\n",
    "def stringIntListToListOfInts(strList, delimiter):\n",
    "    #listRes = list(strList.split(\",\"))\n",
    "    #print(listRes)\n",
    "    result = []\n",
    "    for item in strList.strip('][').split(','):\n",
    "        result.append(int(item))\n",
    "    return result"
   ]
  },
  {
   "cell_type": "code",
   "execution_count": null,
   "metadata": {},
   "outputs": [],
   "source": [
    "#| export\n",
    "def stringFloatListToListOfFloats(strList, delimiter):\n",
    "    #listRes = list(strList.split(\",\"))\n",
    "    #print(listRes)\n",
    "    result = []\n",
    "    for item in strList.strip('][').split(','):\n",
    "        result.append(float(item))\n",
    "    return result"
   ]
  },
  {
   "cell_type": "code",
   "execution_count": null,
   "metadata": {},
   "outputs": [],
   "source": [
    "#| export\n",
    "def stringListToListOfStrings(strList, delimiter=','):\n",
    "    #listRes = list(strList.split(\",\"))\n",
    "    #print(listRes)\n",
    "    result = []\n",
    "    for item in strList.strip('][').split(delimiter):\n",
    "        result.append(item.strip())\n",
    "    return result"
   ]
  },
  {
   "cell_type": "code",
   "execution_count": null,
   "metadata": {},
   "outputs": [],
   "source": [
    "#| export\n",
    "def listNumsToString(list):\n",
    "    str = \"\"\n",
    "    for item in list:\n",
    "        str += f'{item}'\n",
    "    return str"
   ]
  },
  {
   "cell_type": "code",
   "execution_count": null,
   "metadata": {},
   "outputs": [],
   "source": [
    "#| export\n",
    "def round_lists(alist, formatted, places):    \n",
    "    if isinstance(alist, str):\n",
    "        raise Exception(f'Value {alist} should be a number in round_lists.')\n",
    "\n",
    "    if isinstance(alist, float) or isinstance(alist, int):\n",
    "        return round(alist,places)\n",
    "    \n",
    "    if isinstance(alist[0], float) or isinstance(alist[0], int):\n",
    "        return [round(num,places) for num in alist]\n",
    "    else:\n",
    "        for item in alist:    \n",
    "            rtd = round_lists(item, formatted, places)\n",
    "            if rtd is not None:\n",
    "                formatted.append(rtd)"
   ]
  },
  {
   "cell_type": "code",
   "execution_count": null,
   "metadata": {},
   "outputs": [],
   "source": [
    "#| export\n",
    "def floatListsToString(alist, places):\n",
    "    flist = []    \n",
    "    if len(alist)>0:\n",
    "        round_lists(alist,flist,places)\n",
    "    return f'{flist}'"
   ]
  },
  {
   "cell_type": "code",
   "execution_count": null,
   "metadata": {},
   "outputs": [],
   "source": [
    "#| export\n",
    "def limit_large_float(val, limit=10000000):\n",
    "    if abs(val) > limit:\n",
    "        val = - np.sign(val) * limit\n",
    "\n",
    "    return val"
   ]
  },
  {
   "cell_type": "code",
   "execution_count": null,
   "metadata": {},
   "outputs": [],
   "source": [
    "#| export\n",
    "def sigmoid(x, range, slope) :\n",
    "    val = 0\n",
    "    if abs(x) > 10000000:\n",
    "        exv = - np.sign(x) * 10000000\n",
    "    else:\n",
    "        exv = -x * slope / range\n",
    "    if exv > 709:\n",
    "        exv = 709\n",
    "    try:\n",
    "        val = -range / 2 + range / (1 + np.exp(exv))\n",
    "    except RuntimeWarning:\n",
    "        print(f'RuntimeWarning... exv={exv} x={x} slope={slope} range={range}')\n",
    "\n",
    "    return val"
   ]
  },
  {
   "cell_type": "code",
   "execution_count": null,
   "metadata": {},
   "outputs": [],
   "source": [
    "#| export\n",
    "def smooth(new_val, old_val, smooth_factor):\n",
    "    if smooth_factor > 1 or smooth_factor < 0:\n",
    "        raise Exception(f'smooth_factor {smooth_factor} should be between 0 and 1')\n",
    "    val = 0\n",
    "    new_val = limit_large_float(new_val)\n",
    "    old_val = limit_large_float(old_val)\n",
    "    try:\n",
    "        val = old_val * smooth_factor + new_val * (1-smooth_factor)\n",
    "    except RuntimeWarning:\n",
    "        print(f'RuntimeWarning... old_val={old_val} new_val={new_val} smooth_factor={smooth_factor}')\n",
    "    return val"
   ]
  },
  {
   "cell_type": "code",
   "execution_count": null,
   "metadata": {},
   "outputs": [],
   "source": [
    "#| export\n",
    "def sigmoid_array(x, range, slope) :\n",
    "    exv = -x * slope / range\n",
    "    return -range / 2 + range / (1 + np.exp(exv))\n",
    "    "
   ]
  },
  {
   "cell_type": "code",
   "execution_count": null,
   "metadata": {},
   "outputs": [],
   "source": [
    "#| export\n",
    "def dot(inputs, weights):\n",
    "    sum = 0\n",
    "    for i in range(len(inputs)):\n",
    "        sum += inputs[i]*weights[i]\n",
    "    return sum"
   ]
  },
  {
   "cell_type": "code",
   "execution_count": null,
   "metadata": {},
   "outputs": [],
   "source": [
    "#| export\n",
    "def list_of_ones(numx):\n",
    "    x = [1 for i in range(numx) ]\n",
    "    return x"
   ]
  },
  {
   "cell_type": "code",
   "execution_count": null,
   "metadata": {},
   "outputs": [],
   "source": [
    "#|gui\n",
    "# li = list_of_ones(3)\n",
    "# print(li)"
   ]
  },
  {
   "cell_type": "code",
   "execution_count": null,
   "metadata": {},
   "outputs": [],
   "source": [
    "#| export\n",
    "def limit_to_range(num, lower, upper):\n",
    "    if num < lower:\n",
    "        frac, _  = math.modf(num)\n",
    "        num = abs(frac)\n",
    "\n",
    "    if num > upper:\n",
    "        frac, _ = math.modf(num)\n",
    "        num = upper - frac\n",
    "    return num"
   ]
  },
  {
   "cell_type": "code",
   "execution_count": null,
   "metadata": {},
   "outputs": [],
   "source": [
    "#| export\n",
    "def show_video():\n",
    "  mp4list = glob.glob('video/*.mp4')\n",
    "  if len(mp4list) > 0:\n",
    "    mp4 = mp4list[0]\n",
    "    video = io.open(mp4, 'r+b').read()\n",
    "    encoded = base64.b64encode(video)\n",
    "    ipythondisplay.display(HTML(data='''<video alt=\"test\" autoplay                 \n",
    "                 controls style=\"height: 400px;\">\n",
    "                <source src=\"data:video/mp4;base64,{0}\" type=\"video/mp4\" />\n",
    "             </video>'''.format(encoded.decode('ascii'))))\n",
    "  else: \n",
    "    print(\"Could not find video\")\n",
    "    \n",
    "def wrap_env(env):\n",
    "  env = Monitor(env, './video', force=True)\n",
    "  return env"
   ]
  },
  {
   "cell_type": "code",
   "execution_count": null,
   "metadata": {},
   "outputs": [],
   "source": []
  },
  {
   "cell_type": "code",
   "execution_count": null,
   "metadata": {},
   "outputs": [
    {
     "name": "stdout",
     "output_type": "stream",
     "text": [
      "0.7615941559557646\n"
     ]
    }
   ],
   "source": [
    "import matplotlib.pyplot as plt\n",
    "x = 2 #np.linspace(-5, 5, 11)\n",
    "#x = -10000001\n",
    "range=2\n",
    "scale=2\n",
    "y = sigmoid(x, range, scale)\n",
    "print(y)\n",
    "# plt.plot(x, y)\n",
    "# plt.grid()\n",
    "# plt.xlim(-6, 6)\n",
    "# plt.xlabel('x')\n",
    "# plt.title('expit(x)')\n",
    "# plt.show()"
   ]
  },
  {
   "cell_type": "code",
   "execution_count": null,
   "metadata": {},
   "outputs": [],
   "source": [
    "\n"
   ]
  },
  {
   "cell_type": "code",
   "execution_count": null,
   "metadata": {},
   "outputs": [],
   "source": [
    "#| export\n",
    "from pathlib import Path\n",
    "import os\n",
    "\n",
    "def is_in_notebooks():\n",
    "    term = os.getenv('TERM') \n",
    "    if term == 'xterm-color':\n",
    "        return True\n",
    "    \n",
    "    return False"
   ]
  },
  {
   "cell_type": "code",
   "execution_count": null,
   "metadata": {},
   "outputs": [],
   "source": [
    "#| export\n",
    "def printtime(msg):\n",
    "    print(f'{datetime.now()} {os.getpid()} {msg}')\n",
    "    return time.perf_counter()\n"
   ]
  },
  {
   "cell_type": "code",
   "execution_count": null,
   "metadata": {},
   "outputs": [],
   "source": [
    "#| export\n",
    "def clip_value(val, range):\n",
    "    rtn = max(min(val, range[1]), range[0])\n",
    "    return rtn\n"
   ]
  },
  {
   "cell_type": "markdown",
   "metadata": {},
   "source": [
    "## get_abs_tol"
   ]
  },
  {
   "cell_type": "code",
   "execution_count": null,
   "metadata": {},
   "outputs": [],
   "source": [
    "#| export\n",
    "def get_abs_tol(key):\n",
    "    # dic = {'evolve': 0.01, 'ARC-evolve' : 0.01, 'ARC-display': 0.01, 'ARC': 0.01}\n",
    "    dic = { 'ARC-evolve' : 0.01, 'ARC-display': 0.1, 'ARC-change' : 0.01, 'ARC-zero': 0.01, 'ARC-gradient': 0.0001}\n",
    "    dic = {}\n",
    "\n",
    "    # if key in dic:\n",
    "    return dic[key]\n",
    "    \n",
    "    # return 0.001"
   ]
  },
  {
   "cell_type": "markdown",
   "metadata": {},
   "source": [
    "## get_rel_tol"
   ]
  },
  {
   "cell_type": "code",
   "execution_count": null,
   "metadata": {},
   "outputs": [],
   "source": [
    "#| export\n",
    "def get_rel_tol(key):\n",
    "    # dic = { 'ARC-change' : 1e-3}\n",
    "    dic = { }\n",
    "\n",
    "    # if key in dic:\n",
    "    return dic[key]\n",
    "    \n",
    "    # return 1e-6"
   ]
  },
  {
   "cell_type": "code",
   "execution_count": null,
   "metadata": {},
   "outputs": [],
   "source": [
    "#| export\n",
    "def map_to_int_odd_range(val=None, inrange=None, outrange=None):\n",
    "    a = round(val)\n",
    "    b = clip_value(a, inrange)\n",
    "    rtn = b + (int((outrange[1] - outrange[0])/2) + 1)\n",
    "    return rtn\n",
    "\n",
    "def map_to_int_even_range(val=None, inrange=None, outrange=None):\n",
    "    b = clip_value(val, inrange)\n",
    "    if b == inrange[1]:\n",
    "        b = b - 1\n",
    "    rtn = math.floor(b) + int((outrange[1] - outrange[0] + 1 )/2) + 1\n",
    "    return rtn"
   ]
  },
  {
   "cell_type": "code",
   "execution_count": null,
   "metadata": {},
   "outputs": [
    {
     "name": "stdout",
     "output_type": "stream",
     "text": [
      "-3.1 1\n",
      "-2.1 1\n",
      "-1.51 1\n",
      "-1.5 1\n",
      "-1.4 2\n",
      "-0.9 2\n",
      "-0.5 3\n",
      "-0.1 3\n",
      "0 3\n",
      "0.1 3\n",
      "0.6 4\n",
      "1.1 4\n",
      "2.1 5\n",
      "210.1 5\n"
     ]
    }
   ],
   "source": [
    "limits = [-2, 2]\n",
    "mapped = [1, 5]\n",
    "vals = [-3.1, -2.1, -1.51, -1.5, -1.4, -0.9,-0.5, -0.1,  0, 0.1, 0.6, 1.1, 2.1, 210.1 ]\n",
    "for val in vals:\n",
    "    print(val, map_to_int_odd_range(val, limits, mapped))\n"
   ]
  },
  {
   "cell_type": "code",
   "execution_count": null,
   "metadata": {},
   "outputs": [
    {
     "name": "stdout",
     "output_type": "stream",
     "text": [
      "-3.1 1\n",
      "-2.1 1\n",
      "-1.51 1\n",
      "-1.5 1\n",
      "-1.4 1\n",
      "-0.9 2\n",
      "-0.5 2\n",
      "-0.1 2\n",
      "0 3\n",
      "0.1 3\n",
      "0.6 3\n",
      "1.1 4\n",
      "2.1 4\n",
      "210.1 4\n"
     ]
    }
   ],
   "source": [
    "\n",
    "#vals = [0.6]\n",
    "\n",
    "vals = [-3.1, -2.1, -1.51, -1.5, -1.4, -0.9, -0.5, -0.1, 0, 0.1, 0.6, 1.1, 2.1, 210.1 ]\n",
    "limits = [-2, 2]\n",
    "mapped = [1, 4]\n",
    "for val in vals:\n",
    "    print(val, map_to_int_even_range(val, limits, mapped))\n"
   ]
  },
  {
   "cell_type": "code",
   "execution_count": null,
   "metadata": {},
   "outputs": [],
   "source": [
    "#| export \n",
    "\n",
    "class TimerError(Exception):\n",
    "    \"\"\"A custom exception used to report errors in use of Timer class\"\"\"\n",
    "\n",
    "class Timer:\n",
    "    def __init__(self):\n",
    "        self._start_time = None\n",
    "        self._counter = 0\n",
    "        self._total_time = 0\n",
    "\n",
    "    def start(self):\n",
    "        \"\"\"Start a new timer\"\"\"\n",
    "        if self._start_time is not None:\n",
    "            raise TimerError(f\"Timer is running. Use .stop() to stop it\")\n",
    "\n",
    "        self._start_time = time.perf_counter()\n",
    "        # print(self._start_time)\n",
    "\n",
    "    def stop(self):\n",
    "        \"\"\"Stop the timer, and report the elapsed time\"\"\"\n",
    "        if self._start_time is None:\n",
    "            raise TimerError(f\"Timer is not running. Use .start() to start it\")\n",
    "\n",
    "        elapsed_time = time.perf_counter() - self._start_time \n",
    "\n",
    "        self._total_time = self._total_time + elapsed_time\n",
    "        self._start_time = None\n",
    "        self._counter += 1\n",
    "        \n",
    "    def mean(self):\n",
    "        mtime = self._total_time / self._counter\n",
    "        self._start_time = None\n",
    "\n",
    "        return mtime\n",
    "\n",
    "    def total(self):\n",
    "        return self._total_time\n",
    "    \n",
    "    def count(self):\n",
    "        return self._counter "
   ]
  },
  {
   "cell_type": "code",
   "execution_count": null,
   "metadata": {},
   "outputs": [
    {
     "name": "stdout",
     "output_type": "stream",
     "text": [
      "1.0030185500000357\n",
      "2.0060371000000714\n",
      "2\n"
     ]
    }
   ],
   "source": [
    "timer = Timer()\n",
    "timer.start()\n",
    "time.sleep(1)\n",
    "timer.stop()\n",
    "timer.start()\n",
    "time.sleep(1)\n",
    "timer.stop()\n",
    "\n",
    "print(timer.mean())\n",
    "print(timer.total())\n",
    "print(timer.count())\n",
    "\n"
   ]
  },
  {
   "cell_type": "markdown",
   "metadata": {},
   "source": [
    "# PCTRunProperties  "
   ]
  },
  {
   "cell_type": "code",
   "execution_count": null,
   "metadata": {},
   "outputs": [],
   "source": [
    "#| export\n",
    "class PCTRunProperties():\n",
    "\n",
    "    @classmethod\n",
    "    def get_environment_properties(cls, root=None, env=None, property_dir=None, property_file=None):\n",
    "\n",
    "        filename=env + os.sep + property_dir + os.sep + property_file\n",
    "        file = root  + os.sep + 'data' + os.sep + 'ga' + os.sep + filename\n",
    "\n",
    "        environment_properties, env_name = PCTRunProperties.get_environment_properties_from_filename(file)\n",
    "\n",
    "        return environment_properties, env_name\n",
    "\n",
    "    @classmethod\n",
    "    def get_environment_properties_from_filename(cls, filename):\n",
    "        \n",
    "        prp = PCTRunProperties()\n",
    "        prp.load_db(filename)\n",
    "        environment_properties = eval(prp.db['environment_properties'])\n",
    "    \n",
    "        return environment_properties, prp.db['env_name']\n",
    "\n",
    "\n",
    "    @classmethod\n",
    "    def get_properties_from_filename(cls, filename):\n",
    "        \n",
    "        prp = PCTRunProperties()\n",
    "        prp.load_db(filename)\n",
    "        props={}\n",
    "\n",
    "        props['gym_name'] = prp.db['gym_name']\n",
    "    \n",
    "        return props\n",
    "\n",
    "\n",
    "    def load_db(self, file):\n",
    "        \"Load properties from file.\"\n",
    "        from jproperties import Properties\n",
    "        skip = ['raw', 'env', 'col', '', '', '', '', '', '']\n",
    "        # read properties from file\n",
    "        configs = Properties()\n",
    "        #print(file)\n",
    "        with open(file, 'rb') as config_file:\n",
    "            configs.load(config_file)\n",
    "\n",
    "        items_view = configs.items()\n",
    "        self.db = {}\n",
    "        for item in items_view:\n",
    "            if item[0] in skip:\n",
    "                continue\n",
    "            if item[0].startswith('level'):\n",
    "                continue\n",
    "            self.db[item[0]] = item[1].data\n",
    "\n",
    "        if 'environment_properties' in self.db:                    \n",
    "            ep = eval(self.db['environment_properties'])\n",
    "            if 'reward_type' in ep:\n",
    "                self.db['reward_type'] = ep['reward_type']\n",
    "\n",
    "    def get_error_properties(self):\n",
    "        \"Get properties of error function from loaded properties list of the form propertyn.\"\n",
    "        error_properties = []\n",
    "        for property in range(1, 100):\n",
    "            property_key = f'property{property}'\n",
    "            if property_key in self.db:\n",
    "                property_string = self.db[property_key]\n",
    "                strarr = property_string.split(':')\n",
    "                if strarr[0] == 'error':\n",
    "                    parr = strarr[1].split(',')\n",
    "                    prop=[]\n",
    "                    prop.append(parr[0])\n",
    "                    prop.append(parr[1])\n",
    "                    error_properties.append(prop)\n",
    "\n",
    "        return error_properties\n",
    "    \n",
    "    @classmethod\n",
    "    def get_file_props(self, filepath):\n",
    "        index1=filepath.rindex(os.sep)\n",
    "        file = filepath[index1+1:]\n",
    "        index2=filepath.rindex(os.sep, 0, index1)\n",
    "        property_dir=filepath[index2+1:index1]\n",
    "\n",
    "        index1=filepath.index(os.sep)\n",
    "        index2=filepath[index1+1:].index(os.sep)\n",
    "\n",
    "        drive=filepath[0:index2+index1+1]\n",
    "\n",
    "        return drive, property_dir, file\n",
    "        "
   ]
  },
  {
   "cell_type": "code",
   "execution_count": null,
   "metadata": {},
   "outputs": [],
   "source": [
    "#| gui\n",
    "# property_file = 'ga-000.000-s001-1x1-m007-ARC0010-9ddcf52416e60d65f19007957d07262d-consolidated.properties'\n",
    "# property_dir = ''\n",
    "# print(property_dir, property_file)\n",
    "# ep = PCTRunProperties.get_environment_properties(root='testfiles', env='ARC', property_dir=property_dir, property_file=property_file)\n",
    "# print(ep)"
   ]
  },
  {
   "cell_type": "code",
   "execution_count": null,
   "metadata": {},
   "outputs": [],
   "source": [
    "#| export\n",
    "def get_ram_mb():\n",
    "    import psutil\n",
    "    # Get the current process ID\n",
    "    pid = os.getpid()\n",
    "\n",
    "    # Get the memory usage of the current process\n",
    "    process = psutil.Process(pid)\n",
    "    memory_usage = process.memory_info().rss / 1024 ** 2\n",
    "\n",
    "    return memory_usage"
   ]
  },
  {
   "cell_type": "code",
   "execution_count": null,
   "metadata": {},
   "outputs": [],
   "source": [
    "#| hide\n",
    "import nbdev; nbdev.nbdev_export()"
   ]
  }
 ],
 "metadata": {
  "kernelspec": {
   "display_name": "Python 3",
   "language": "python",
   "name": "python3"
  },
  "language_info": {
   "name": "python",
   "version": "3.9.11"
  }
 },
 "nbformat": 4,
 "nbformat_minor": 4
}
