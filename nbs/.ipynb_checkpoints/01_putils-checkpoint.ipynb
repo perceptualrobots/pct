{
 "cells": [
  {
   "cell_type": "raw",
   "metadata": {},
   "source": [
    "---\n",
    "output-file: putils.html\n",
    "title: Utilities\n",
    "\n",
    "---\n",
    "\n"
   ]
  },
  {
   "cell_type": "code",
   "execution_count": null,
   "metadata": {},
   "outputs": [],
   "source": [
    "%load_ext autoreload\n",
    "%autoreload 2"
   ]
  },
  {
   "cell_type": "code",
   "execution_count": null,
   "metadata": {},
   "outputs": [],
   "source": [
    "#| default_exp putils"
   ]
  },
  {
   "cell_type": "code",
   "execution_count": null,
   "metadata": {},
   "outputs": [],
   "source": [
    "#| export\n",
    "import numpy as np\n",
    "import sys\n",
    "import importlib\n",
    "import json"
   ]
  },
  {
   "cell_type": "code",
   "execution_count": null,
   "metadata": {},
   "outputs": [],
   "source": [
    "#| export\n",
    "class UniqueNamer:\n",
    "    \"A utility for ensuring the names of functions are unique.\"\n",
    "    __instance = None\n",
    "    @staticmethod \n",
    "    def getInstance():\n",
    "        \"\"\" Static access method. \"\"\"\n",
    "        if UniqueNamer.__instance == None:\n",
    "           UniqueNamer()\n",
    "        return UniqueNamer.__instance\n",
    "\n",
    "    def __init__(self):\n",
    "        \"\"\" Virtually private constructor. \"\"\"\n",
    "        if UniqueNamer.__instance != None:\n",
    "            raise Exception(\"This class is a singleton!\")\n",
    "        else:\n",
    "            UniqueNamer.__instance = self\n",
    "        self.names = {}\n",
    "\n",
    "    def clear(self, namespace=None):\n",
    "        if namespace==None:\n",
    "            self.names = {}\n",
    "        else:\n",
    "            self.names[namespace] = {}\n",
    "\n",
    "            \n",
    "    def get_name(self, namespace=None, name=None):\n",
    "\n",
    "        if namespace in self.names:\n",
    "            namespace_list = self.names[namespace]\n",
    "        else:\n",
    "            namespace_list = {}\n",
    "            self.names[namespace] = namespace_list\n",
    "\n",
    "        if name in namespace_list: \n",
    "            num = namespace_list[name]+1\n",
    "            namespace_list[name]=num\n",
    "            name = f'{name}{num}'\n",
    "        #else:\n",
    "        namespace_list[name]=0\n",
    "        return name\n",
    "    \n",
    "    def report(self,  namespace=None, name=None,):\n",
    "\n",
    "        if namespace is None:\n",
    "            for namespace, namespace_list in self.names.items():\n",
    "                print(namespace, len(namespace_list))\n",
    "                for name in namespace_list:\n",
    "                    print(\"*** \", name)\n",
    "        else:\n",
    "            if namespace in self.names:\n",
    "                namespace_list = self.names[namespace]\n",
    "                if name == None:\n",
    "                    print(len(namespace_list))\n",
    "                    for nname in namespace_list:\n",
    "                        print(\"*** \", nname, namespace_list[nname])\n",
    "                else:\n",
    "                    print(\"*** \", name, namespace_list[name])"
   ]
  },
  {
   "cell_type": "code",
   "execution_count": null,
   "metadata": {},
   "outputs": [],
   "source": [
    "#| export\n",
    "class FunctionsList:\n",
    "    \"A utility for storing functions created, keyed on the function name.\"\n",
    "    __instance = None\n",
    "    @staticmethod \n",
    "    def getInstance():\n",
    "        \"\"\" Static access method. \"\"\"\n",
    "        if FunctionsList.__instance == None:\n",
    "             FunctionsList()\n",
    "        return FunctionsList.__instance\n",
    "    def __init__(self):\n",
    "        \"\"\" Virtually private constructor. \"\"\"\n",
    "        if FunctionsList.__instance != None:\n",
    "             raise Exception(\"This class is a singleton!\")\n",
    "        else:\n",
    "             FunctionsList.__instance = self\n",
    "        self.functions = {}\n",
    "\n",
    "    def clear(self, namespace=None):\n",
    "        if namespace==None:\n",
    "            self.functions = {}\n",
    "        else:\n",
    "            self.functions[namespace] = {}\n",
    "    \n",
    "    def add_function(self, namespace=None, func=None):\n",
    "        if namespace in self.functions:\n",
    "            namespace_list = self.functions[namespace]\n",
    "        else:\n",
    "            namespace_list = {}\n",
    "            self.functions[namespace]=namespace_list\n",
    "\n",
    "        name = func.get_name()\n",
    "        namespace_list[name]=func\n",
    "        \n",
    "        return name\n",
    "\n",
    "    def remove_function(self, namespace=None, name=None):\n",
    "        if name in self.functions[namespace]:\n",
    "            func = self.functions[namespace].pop(name)     \n",
    "            \n",
    "        if self.count(namespace)==0:\n",
    "            self.functions.pop(namespace)\n",
    "            \n",
    "        return func\n",
    "    \n",
    "    def delete_function(self, namespace=None, name=None):\n",
    "        func = self.remove_function(namespace=namespace, name=name)\n",
    "        del func\n",
    "\n",
    "    def get_function(self, namespace=None, name=None):     \n",
    "        if  name is None:\n",
    "            raise Exception(f'The function name must be specified')\n",
    "        if  namespace is None:\n",
    "            raise Exception(f'The namespace must be specified')\n",
    "        \n",
    "        if namespace in self.functions:\n",
    "            namespace_list = self.functions[namespace]\n",
    "        else:\n",
    "            return name\n",
    "        \n",
    "        if isinstance(name, str) :\n",
    "            if  name in namespace_list:\n",
    "                func = namespace_list[name]\n",
    "            else:\n",
    "                raise Exception(f'Function {name} does not exist in namespace {namespace}')\n",
    "        else:\n",
    "            func = name\n",
    "\n",
    "        return func\n",
    "    \n",
    "    def count(self, namespace=None):\n",
    "        if namespace is None:\n",
    "            return len(self.functions)\n",
    "        \n",
    "        if namespace in self.functions:\n",
    "            namespace_list = self.functions[namespace]\n",
    "            return len(namespace_list)\n",
    "        else:\n",
    "            raise Exception(f\"Namespace {namespace} not found in report\")\n",
    "                \n",
    "                \n",
    "                \n",
    "    def report(self, namespace=None, name=None):\n",
    "        print(\"--- functions report\")\n",
    "        if namespace is None:\n",
    "            for namespace, namespace_list in self.functions.items():\n",
    "                print(len(namespace_list), 'NAMESPACE', namespace)\n",
    "                for name, function in namespace_list.items():\n",
    "                    print(\"*** \", name, [function])\n",
    "                    print(function)\n",
    "        else:   \n",
    "            if namespace in self.functions:\n",
    "                namespace_list = self.functions[namespace]\n",
    "            else:\n",
    "                raise Exception(f\"Namespace {namespace} not found in report\")\n",
    "\n",
    "            if name == None:\n",
    "                print(len(namespace_list), 'NAMESPACE', namespace)\n",
    "                for name, function in namespace_list.items():\n",
    "                    print(\"*** \", name, [function])\n",
    "                    print(function)\n",
    "            else:\n",
    "                print(\"*** \", name, [namespace_list[name]])\n",
    "                print(namespace_list[name])          \n",
    "            "
   ]
  },
  {
   "cell_type": "code",
   "execution_count": null,
   "metadata": {},
   "outputs": [],
   "source": [
    "from pct.functions import Proportional "
   ]
  },
  {
   "cell_type": "code",
   "execution_count": null,
   "metadata": {},
   "outputs": [],
   "source": [
    "prop = Proportional()"
   ]
  },
  {
   "cell_type": "code",
   "execution_count": null,
   "metadata": {},
   "outputs": [],
   "source": [
    "UniqueNamer.getInstance().report()"
   ]
  },
  {
   "cell_type": "code",
   "execution_count": null,
   "metadata": {},
   "outputs": [
    {
     "name": "stdout",
     "output_type": "stream",
     "text": [
      "--- functions report\n"
     ]
    }
   ],
   "source": [
    "FunctionsList.getInstance().report()"
   ]
  },
  {
   "cell_type": "code",
   "execution_count": null,
   "metadata": {},
   "outputs": [],
   "source": [
    "#| export\n",
    "def dynamic_module_import(modulename, package=None):\n",
    "    if modulename not in sys.modules:\n",
    "        importlib.import_module(modulename, package)     "
   ]
  },
  {
   "cell_type": "code",
   "execution_count": null,
   "metadata": {},
   "outputs": [],
   "source": [
    "#| export\n",
    "def dynamic_class_load(modulename, classname):\n",
    "    module = importlib.import_module(modulename) \n",
    "    my_class = getattr(module, classname)"
   ]
  },
  {
   "cell_type": "code",
   "execution_count": null,
   "metadata": {},
   "outputs": [],
   "source": [
    "#import importlib\n",
    "#importlib.import_module('pct.functions', 'Constant')   "
   ]
  },
  {
   "cell_type": "code",
   "execution_count": null,
   "metadata": {},
   "outputs": [],
   "source": [
    "#| export\n",
    "def get_drive():\n",
    "    if os.name == 'nt':\n",
    "        drive = os.path.abspath(os.sep)\n",
    "    else:\n",
    "        drive = os.path.abspath(os.sep)+'mnt'+os.sep+'c'+os.sep    \n",
    "    return drive"
   ]
  },
  {
   "cell_type": "code",
   "execution_count": null,
   "metadata": {},
   "outputs": [],
   "source": [
    "#| export\n",
    "def loadjson(file):      \n",
    "    with open(file) as f:\n",
    "        rtn = json.load(f)\n",
    "    return rtn"
   ]
  },
  {
   "cell_type": "code",
   "execution_count": null,
   "metadata": {},
   "outputs": [
    {
     "name": "stdout",
     "output_type": "stream",
     "text": [
      "{'type': 'WeightedSum', 'name': 'weighted_sum', 'value': 35, 'links': {'0': 'constant', '1': 'constant1', '2': 'constant2'}, 'weights': [1, 1, 1]}\n"
     ]
    }
   ],
   "source": [
    "var = loadjson(\"ws.json\")\n",
    "print(var)"
   ]
  },
  {
   "cell_type": "code",
   "execution_count": null,
   "metadata": {},
   "outputs": [],
   "source": [
    "#| export\n",
    "class Counter(object):\n",
    "\n",
    "  def __init__(self, limit=1000, init=0, step=1, print=100, pause=False, display=10):\n",
    "      self.limit=limit\n",
    "      self.counter=init\n",
    "      self.step=step\n",
    "      self.print=print\n",
    "      self.pause=pause\n",
    "      self.display=display\n",
    "      \n",
    "\n",
    "  def __call__(self):\n",
    "      self.counter+=self.step\n",
    "      return self.counter\n",
    "  \n",
    "  def get(self):\n",
    "      return self.counter\n",
    "    \n",
    "  def get_limit(self):\n",
    "      return self.limit\n",
    "\n",
    "  def set_limit(self, limit):\n",
    "      self.limit=limit"
   ]
  },
  {
   "cell_type": "code",
   "execution_count": null,
   "metadata": {},
   "outputs": [],
   "source": [
    "#| export\n",
    "def stringIntListToListOfInts(strList, delimiter):\n",
    "    #listRes = list(strList.split(\",\"))\n",
    "    #print(listRes)\n",
    "    result = []\n",
    "    for item in strList.strip('][').split(','):\n",
    "        result.append(int(item))\n",
    "    return result"
   ]
  },
  {
   "cell_type": "code",
   "execution_count": null,
   "metadata": {},
   "outputs": [],
   "source": [
    "#| export\n",
    "def stringFloatListToListOfFloats(strList, delimiter):\n",
    "    #listRes = list(strList.split(\",\"))\n",
    "    #print(listRes)\n",
    "    result = []\n",
    "    for item in strList.strip('][').split(','):\n",
    "        result.append(float(item))\n",
    "    return result"
   ]
  },
  {
   "cell_type": "code",
   "execution_count": null,
   "metadata": {},
   "outputs": [],
   "source": [
    "#| export\n",
    "def stringListToListOfStrings(strList, delimiter=','):\n",
    "    #listRes = list(strList.split(\",\"))\n",
    "    #print(listRes)\n",
    "    result = []\n",
    "    for item in strList.strip('][').split(delimiter):\n",
    "        result.append(item.strip())\n",
    "    return result"
   ]
  },
  {
   "cell_type": "code",
   "execution_count": null,
   "metadata": {},
   "outputs": [],
   "source": [
    "#| export\n",
    "def listNumsToString(list):\n",
    "    str = \"\"\n",
    "    for item in list:\n",
    "        str += f'{item}'\n",
    "    return str"
   ]
  },
  {
   "cell_type": "code",
   "execution_count": null,
   "metadata": {},
   "outputs": [],
   "source": [
    "#| export\n",
    "def round_lists(alist, formatted, places):    \n",
    "    if isinstance(alist, str):\n",
    "        raise Exception(f'Value {alist} should be a number in round_lists.')\n",
    "\n",
    "    if isinstance(alist, float) or isinstance(alist, int):\n",
    "        return round(alist,places)\n",
    "    \n",
    "    if isinstance(alist[0], float) or isinstance(alist[0], int):\n",
    "        return [round(num,places) for num in alist]\n",
    "    else:\n",
    "        for item in alist:    \n",
    "            rtd = round_lists(item, formatted, places)\n",
    "            if rtd is not None:\n",
    "                formatted.append(rtd)"
   ]
  },
  {
   "cell_type": "code",
   "execution_count": null,
   "metadata": {},
   "outputs": [],
   "source": [
    "#| export\n",
    "def floatListsToString(alist, places):\n",
    "    flist = []    \n",
    "    round_lists(alist,flist,places)\n",
    "    return f'{flist}'"
   ]
  },
  {
   "cell_type": "code",
   "execution_count": null,
   "metadata": {},
   "outputs": [],
   "source": [
    "#| export\n",
    "def sigmoid(x, range, slope) :\n",
    "    return -range / 2 + range / (1 + np.exp(-x * slope / range));"
   ]
  },
  {
   "cell_type": "code",
   "execution_count": null,
   "metadata": {},
   "outputs": [],
   "source": [
    "#| export\n",
    "def smooth(new_val, old_val, smooth_factor):\n",
    "    return old_val * smooth_factor + new_val * (1-smooth_factor)"
   ]
  },
  {
   "cell_type": "code",
   "execution_count": null,
   "metadata": {},
   "outputs": [],
   "source": [
    "#| export\n",
    "def dot(inputs, weights):\n",
    "    sum = 0\n",
    "    for i in range(len(inputs)):\n",
    "        sum += inputs[i]*weights[i]\n",
    "    return sum"
   ]
  },
  {
   "cell_type": "code",
   "execution_count": null,
   "metadata": {},
   "outputs": [],
   "source": [
    "#| export\n",
    "def list_of_ones(num):\n",
    "    x = [1 for _ in range(num) ]\n",
    "    return x"
   ]
  },
  {
   "cell_type": "code",
   "execution_count": null,
   "metadata": {},
   "outputs": [],
   "source": [
    "#| export\n",
    "def limit_to_range(num, lower, upper):\n",
    "    if num < lower:\n",
    "        num = abs(num)\n",
    "\n",
    "    if num > upper:\n",
    "        num = num - upper\n",
    "    return num"
   ]
  },
  {
   "cell_type": "code",
   "execution_count": null,
   "metadata": {},
   "outputs": [
    {
     "name": "stdout",
     "output_type": "stream",
     "text": [
      "[1, 1, 1]\n"
     ]
    }
   ],
   "source": [
    "print(list_of_ones(3))"
   ]
  },
  {
   "cell_type": "code",
   "execution_count": null,
   "metadata": {},
   "outputs": [],
   "source": [
    "#| export\n",
    "def show_video():\n",
    "  mp4list = glob.glob('video/*.mp4')\n",
    "  if len(mp4list) > 0:\n",
    "    mp4 = mp4list[0]\n",
    "    video = io.open(mp4, 'r+b').read()\n",
    "    encoded = base64.b64encode(video)\n",
    "    ipythondisplay.display(HTML(data='''<video alt=\"test\" autoplay                 \n",
    "                 controls style=\"height: 400px;\">\n",
    "                <source src=\"data:video/mp4;base64,{0}\" type=\"video/mp4\" />\n",
    "             </video>'''.format(encoded.decode('ascii'))))\n",
    "  else: \n",
    "    print(\"Could not find video\")\n",
    "    \n",
    "def wrap_env(env):\n",
    "  env = Monitor(env, './video', force=True)\n",
    "  return env"
   ]
  },
  {
   "cell_type": "code",
   "execution_count": null,
   "metadata": {},
   "outputs": [],
   "source": [
    "import matplotlib.pyplot as plt"
   ]
  },
  {
   "cell_type": "code",
   "execution_count": null,
   "metadata": {},
   "outputs": [
    {
     "data": {
      "image/png": "[encoded data removed]",
      "text/plain": [
       "<Figure size 640x480 with 1 Axes>"
      ]
     },
     "metadata": {},
     "output_type": "display_data"
    }
   ],
   "source": [
    "x = np.linspace(-5, 5, 11)\n",
    "range=2\n",
    "scale=2\n",
    "y = sigmoid(x, range, scale)\n",
    "plt.plot(x, y)\n",
    "plt.grid()\n",
    "plt.xlim(-6, 6)\n",
    "plt.xlabel('x')\n",
    "plt.title('expit(x)')\n",
    "plt.show()"
   ]
  },
  {
   "cell_type": "code",
   "execution_count": null,
   "metadata": {},
   "outputs": [],
   "source": [
    "#| export\n",
    "import os"
   ]
  },
  {
   "cell_type": "code",
   "execution_count": null,
   "metadata": {},
   "outputs": [],
   "source": [
    "#| export\n",
    "from pathlib import Path\n",
    "\n",
    "def is_in_notebooks():\n",
    "    term = os.getenv('TERM') \n",
    "    if term == 'xterm-color':\n",
    "        return True\n",
    "    \n",
    "    return False"
   ]
  },
  {
   "cell_type": "code",
   "execution_count": null,
   "metadata": {},
   "outputs": [],
   "source": [
    "#| hide\n",
    "import nbdev; nbdev.nbdev_export()"
   ]
  }
 ],
 "metadata": {
  "kernelspec": {
   "display_name": "python3",
   "language": "python",
   "name": "python3"
  }
 },
 "nbformat": 4,
 "nbformat_minor": 4
}
