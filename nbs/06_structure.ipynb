{
 "cells": [
  {
   "cell_type": "raw",
   "metadata": {},
   "source": [
    "---\n",
    "description: Classes to create hierachy configurations.\n",
    "output-file: structure.html\n",
    "title: Structure\n",
    "\n",
    "---\n",
    "\n"
   ]
  },
  {
   "cell_type": "code",
   "execution_count": null,
   "metadata": {},
   "outputs": [
    {
     "name": "stdout",
     "output_type": "stream",
     "text": [
      "The autoreload extension is already loaded. To reload it, use:\n",
      "  %reload_ext autoreload\n"
     ]
    }
   ],
   "source": [
    "%load_ext autoreload\n",
    "%autoreload 2"
   ]
  },
  {
   "cell_type": "code",
   "execution_count": null,
   "metadata": {},
   "outputs": [],
   "source": [
    "#| default_exp structure"
   ]
  },
  {
   "cell_type": "code",
   "execution_count": null,
   "metadata": {},
   "outputs": [],
   "source": [
    "#| include: false\n",
    "#import sys"
   ]
  },
  {
   "cell_type": "code",
   "execution_count": null,
   "metadata": {},
   "outputs": [],
   "source": [
    "#sys.path.append(\"..\")"
   ]
  },
  {
   "cell_type": "code",
   "execution_count": null,
   "metadata": {},
   "outputs": [],
   "source": [
    "#| export\n",
    "import enum\n",
    "import uuid\n",
    "from pct.functions import HPCTFUNCTION\n",
    "from pct.functions import WeightedSum"
   ]
  },
  {
   "cell_type": "code",
   "execution_count": null,
   "metadata": {},
   "outputs": [],
   "source": [
    "#| export\n",
    "class LevelKey(enum.Enum):\n",
    "   ZERO = 'level0'\n",
    "   N = 'leveln'\n",
    "   TOP = 'leveltop'\n",
    "   ZEROTOP = 'level0top'"
   ]
  },
  {
   "cell_type": "code",
   "execution_count": null,
   "metadata": {},
   "outputs": [],
   "source": [
    "#| export\n",
    "class ArchitectureStructure():\n",
    "    \"ArchitectureStructure\"\n",
    "    def __init__(self, references=None, config=None, attr_mut_pb=None, lower_float=None, upper_float=None, levels_limit=None, \n",
    "                 columns_limit=None, sigma=None, mu=None, alpha=None, modes=None, namespace=None,**cargs):\n",
    "        \n",
    "        if namespace ==None:\n",
    "            namespace = uuid.uuid1()\n",
    "        self.namespace=namespace\n",
    "        \n",
    "        if config==None:\n",
    "            self.config={'parameters': { 'modes' : {LevelKey.ZERO:3, LevelKey.N:3,LevelKey.TOP:4,LevelKey.ZEROTOP :4} }}                 \n",
    "        else:\n",
    "            self.config=config\n",
    "        \n",
    "        if modes!=None:  \n",
    "            self.config['parameters']['modes']=modes\n",
    "\n",
    "\n",
    "    def get_config(self):\n",
    "        return self.config\n",
    "\n",
    "    def set_node_function(self, node, function, mode, thislevel, targetlevel, targetprefix, targetcolumn, \n",
    "                          num_target_indices, inputs, input_weights, by_column, offset):\n",
    "        \n",
    "        func = node.get_function_from_collection(function)\n",
    "        func.set_node_function(function, thislevel, targetlevel, targetprefix, targetcolumn, num_target_indices, inputs, \n",
    "                               input_weights, by_column, offset)\n",
    "       \n",
    "        \n",
    "        #type = PCTNode.get_function_type(mode, function)\n",
    "        #function_type = FunctionFactory.createFunction(type)\n",
    "        #function_type.set_node_function(node, function,  thislevel, targetlevel, targetprefix, targetcolumn, num_target_indices, inputs, input_weights, by_column)\n",
    "        \n",
    "        \n",
    "        \n",
    "        \n",
    "    def set_sparse_node_function(self, node, function, thislevel, input, column, input_weights):\n",
    "        func = node.get_function_from_collection(function)\n",
    "        func.set_sparse_node_function(function, thislevel, input, column, input_weights)\n",
    "\n",
    "    def set_namespace(self,namespace):\n",
    "        self.namespace=namespace\n",
    "\n",
    "        \n",
    "    def get_parameter(self, key):\n",
    "        return self.config['parameters'][key]\n",
    "\n",
    "    \n",
    "    def set_output_function(self, node, mode, thislevel, column, input_weights):\n",
    "        func = node.get_function_from_collection(HPCTFUNCTION.OUTPUT)\n",
    "        func.set_output_function(thislevel, column, input_weights)\n",
    "\n",
    "        #type = PCTNode.get_function_type(mode, HPCTFUNCTION.OUTPUT)\n",
    "        #function_type = FunctionFactory.createFunction(type)\n",
    "        #function_type.set_output_function(node, thislevel, column, input_weights)\n",
    "\n",
    "    \n",
    "    def set_action_function(self, hpct, env, numColumnsThisLevel,  weights):\n",
    "        numActions = len(weights)\n",
    "        for actionIndex in range(numActions):\n",
    "            action = WeightedSum(weights=weights[actionIndex], name=f'Action{actionIndex+1}', namespace=self.namespace)\n",
    "            for column in range(numColumnsThisLevel):\n",
    "                action.add_link(f'OL0C{column}')\n",
    "            hpct.add_postprocessor(action)\n",
    "            env.add_link(action)"
   ]
  },
  {
   "cell_type": "code",
   "execution_count": null,
   "metadata": {},
   "outputs": [],
   "source": [
    "arch = ArchitectureStructure()"
   ]
  },
  {
   "cell_type": "code",
   "execution_count": null,
   "metadata": {},
   "outputs": [
    {
     "name": "stdout",
     "output_type": "stream",
     "text": [
      "{'parameters': {'modes': {<LevelKey.ZERO: 'level0'>: 3, <LevelKey.N: 'leveln'>: 3, <LevelKey.TOP: 'leveltop'>: 4, <LevelKey.ZEROTOP: 'level0top'>: 4}}}\n"
     ]
    }
   ],
   "source": [
    "config = arch.get_config()\n",
    "print(arch.get_config())\n",
    "target =  {'parameters': { 'modes' : {LevelKey.ZERO:3, LevelKey.N:3,LevelKey.TOP:4,LevelKey.ZEROTOP :4} }}\n",
    "assert config == target"
   ]
  },
  {
   "cell_type": "code",
   "execution_count": null,
   "metadata": {},
   "outputs": [],
   "source": [
    "#| hide\n",
    "import nbdev; nbdev.nbdev_export()"
   ]
  }
 ],
 "metadata": {
  "kernelspec": {
   "display_name": "python3",
   "language": "python",
   "name": "python3"
  }
 },
 "nbformat": 4,
 "nbformat_minor": 2
}
