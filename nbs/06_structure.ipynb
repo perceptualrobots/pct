{
 "cells": [
  {
   "cell_type": "code",
   "execution_count": null,
   "metadata": {},
   "outputs": [
    {
     "name": "stdout",
     "output_type": "stream",
     "text": [
      "Cells will be exported to pct.structure,\n",
      "unless a different module is specified after an export flag: `%nbdev_export special.module`\n"
     ]
    }
   ],
   "source": [
    "from nbdev import *\n",
    "%nbdev_default_export structure"
   ]
  },
  {
   "cell_type": "markdown",
   "metadata": {},
   "source": [
    "# Structure\n",
    "\n",
    "> Classes to create hierachy configurations."
   ]
  },
  {
   "cell_type": "code",
   "execution_count": null,
   "metadata": {},
   "outputs": [],
   "source": [
    "%nbdev_hide\n",
    "import sys\n",
    "sys.path.append(\"..\")"
   ]
  },
  {
   "cell_type": "code",
   "execution_count": null,
   "metadata": {},
   "outputs": [],
   "source": [
    "#export\n",
    "import random\n",
    "import enum\n",
    "import numpy as np\n",
    "from abc import ABC\n",
    "from pct.functions import FunctionFactory\n",
    "from pct.functions import WeightedSum\n",
    "from pct.functions import ControlUnitFunctions\n",
    "from pct.nodes import PCTNode"
   ]
  },
  {
   "cell_type": "code",
   "execution_count": null,
   "metadata": {},
   "outputs": [],
   "source": []
  },
  {
   "cell_type": "code",
   "execution_count": null,
   "metadata": {},
   "outputs": [],
   "source": []
  },
  {
   "cell_type": "code",
   "execution_count": null,
   "metadata": {},
   "outputs": [],
   "source": [
    "#export\n",
    "class LevelKey(enum.Enum):\n",
    "   ZERO = 'level0'\n",
    "   N = 'leveln'\n",
    "   TOP = 'leveltop'\n",
    "   ZEROTOP = 'level0top'"
   ]
  },
  {
   "cell_type": "code",
   "execution_count": null,
   "metadata": {},
   "outputs": [],
   "source": []
  },
  {
   "cell_type": "code",
   "execution_count": null,
   "metadata": {},
   "outputs": [],
   "source": [
    "#export\n",
    "class ArchitectureStructure():\n",
    "    \"ArchitectureStructure\"\n",
    "    def __init__(self, references=None, config=None, attr_mut_pb=None, lower_float=None, upper_float=None, levels_limit=None, \n",
    "                 columns_limit=None, sigma=None, mu=None, alpha=None, modes=None, **cargs):\n",
    "        if config==None:\n",
    "            self.config={'parameters': { 'modes' : {LevelKey.ZERO:3, LevelKey.N:3,LevelKey.TOP:4,LevelKey.ZEROTOP :4} }}                 \n",
    "        else:\n",
    "            self.config=config\n",
    "        \n",
    "        if modes!=None:  \n",
    "            self.config['parameters']['modes']=modes\n",
    "\n",
    "\n",
    "    def get_config(self):\n",
    "        return self.config\n",
    "\n",
    "    def set_node_function(self, node, function, mode, thislevel, targetlevel, targetprefix, targetcolumn, \n",
    "                          num_target_indices, inputs, input_weights, by_column):\n",
    "        \n",
    "        func = node.get_function_from_collection(function)\n",
    "        func.set_node_function(function, thislevel, targetlevel, targetprefix, targetcolumn, num_target_indices, inputs, \n",
    "                               input_weights, by_column)\n",
    "       \n",
    "        \n",
    "        #type = PCTNode.get_function_type(mode, function)\n",
    "        #function_type = FunctionFactory.createFunction(type)\n",
    "        #function_type.set_node_function(node, function,  thislevel, targetlevel, targetprefix, targetcolumn, num_target_indices, inputs, input_weights, by_column)\n",
    "        \n",
    "        \n",
    "        \n",
    "        \n",
    "    def set_sparse_node_function(node, ControlUnitFunctions.PERCEPTION, level, level-1, 'P', \n",
    "                                             column, numColumnsPreviousLevel, None, config[inputsIndex], False)\n",
    "        func = node.get_function_from_collection(function)\n",
    "        func.set_sparse_node_function(function, thislevel, targetlevel, targetprefix, targetcolumn, num_target_indices, inputs, \n",
    "                               input_weights, by_column)\n",
    "\n",
    "        \n",
    "        \n",
    "    def get_parameter(self, key):\n",
    "        return self.config['parameters'][key]\n",
    "\n",
    "    \n",
    "    def set_output_function(self, node, mode, thislevel, column, input_weights):\n",
    "        func = node.get_function_from_collection(ControlUnitFunctions.OUTPUT)\n",
    "        func.set_output_function(thislevel, column, input_weights)\n",
    "\n",
    "        #type = PCTNode.get_function_type(mode, ControlUnitFunctions.OUTPUT)\n",
    "        #function_type = FunctionFactory.createFunction(type)\n",
    "        #function_type.set_output_function(node, thislevel, column, input_weights)\n",
    "\n",
    "    \n",
    "    def set_action_function(self, hpct, env, numColumnsThisLevel,  weights):\n",
    "        numActions = len(weights)\n",
    "        for actionIndex in range(numActions):\n",
    "            action = WeightedSum(weights=weights[actionIndex], name=f'Action{actionIndex+1}')\n",
    "            for column in range(numColumnsThisLevel):\n",
    "                action.add_link(f'OL0C{column}')\n",
    "            hpct.add_postprocessor(action)\n",
    "            env.add_link(action)"
   ]
  },
  {
   "cell_type": "code",
   "execution_count": null,
   "metadata": {},
   "outputs": [],
   "source": [
    "arch = ArchitectureStructure()"
   ]
  },
  {
   "cell_type": "code",
   "execution_count": null,
   "metadata": {},
   "outputs": [
    {
     "name": "stdout",
     "output_type": "stream",
     "text": [
      "{'parameters': {'modes': {<LevelKey.ZERO: 'level0'>: 3, <LevelKey.N: 'leveln'>: 3, <LevelKey.TOP: 'leveltop'>: 4, <LevelKey.ZEROTOP: 'level0top'>: 4}}}\n"
     ]
    }
   ],
   "source": [
    "config = arch.get_config()\n",
    "print(arch.get_config())\n",
    "target =  {'parameters': { 'modes' : {LevelKey.ZERO:3, LevelKey.N:3,LevelKey.TOP:4,LevelKey.ZEROTOP :4} }}\n",
    "assert config == target"
   ]
  },
  {
   "cell_type": "code",
   "execution_count": null,
   "metadata": {},
   "outputs": [
    {
     "name": "stdout",
     "output_type": "stream",
     "text": [
      "Converted 00_examples.ipynb.\n",
      "Converted 01_putils.ipynb.\n",
      "Converted 02_functions.ipynb.\n",
      "Converted 03_nodes.ipynb.\n",
      "Converted 04_hierarchy.ipynb.\n",
      "Converted 05_environments.ipynb.\n",
      "Converted 06_structure.ipynb.\n",
      "Converted 07_errors.ipynb.\n",
      "Converted 08_architectures.ipynb.\n",
      "Converted index.ipynb.\n"
     ]
    }
   ],
   "source": [
    "notebook2script()"
   ]
  },
  {
   "cell_type": "code",
   "execution_count": null,
   "metadata": {},
   "outputs": [],
   "source": []
  }
 ],
 "metadata": {
  "kernelspec": {
   "display_name": "Python 3",
   "language": "python",
   "name": "python3"
  }
 },
 "nbformat": 4,
 "nbformat_minor": 2
}
