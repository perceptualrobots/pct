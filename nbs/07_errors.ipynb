{
 "cells": [
  {
   "cell_type": "raw",
   "metadata": {},
   "source": [
    "---\n",
    "description: Types of error response of a percectual control hierarchy.\n",
    "output-file: errors.html\n",
    "title: Errors\n",
    "\n",
    "---\n",
    "\n"
   ]
  },
  {
   "cell_type": "code",
   "execution_count": null,
   "metadata": {},
   "outputs": [
    {
     "name": "stdout",
     "output_type": "stream",
     "text": [
      "The autoreload extension is already loaded. To reload it, use:\n",
      "  %reload_ext autoreload\n"
     ]
    }
   ],
   "source": [
    "%load_ext autoreload\n",
    "%autoreload 2"
   ]
  },
  {
   "cell_type": "code",
   "execution_count": null,
   "metadata": {},
   "outputs": [],
   "source": [
    "#| default_exp errors"
   ]
  },
  {
   "cell_type": "code",
   "execution_count": null,
   "metadata": {},
   "outputs": [],
   "source": [
    "#| export\n",
    "import numpy as np\n",
    "import math\n",
    "from abc import ABC, abstractmethod\n"
   ]
  },
  {
   "cell_type": "code",
   "execution_count": null,
   "metadata": {},
   "outputs": [],
   "source": [
    "#| export\n",
    "from pct.functions import IndexedParameter\n",
    "from pct.putils import smooth\n",
    "# from pct.hierarchy import PCTHierarchy\n"
   ]
  },
  {
   "cell_type": "code",
   "execution_count": null,
   "metadata": {},
   "outputs": [],
   "source": [
    "from unittest import TestCase"
   ]
  },
  {
   "cell_type": "markdown",
   "metadata": {},
   "source": [
    "# ErrorResponse - aggregation"
   ]
  },
  {
   "cell_type": "markdown",
   "metadata": {},
   "source": [
    "## BaseErrorType"
   ]
  },
  {
   "cell_type": "code",
   "execution_count": null,
   "metadata": {},
   "outputs": [],
   "source": [
    "#| export\n",
    "class BaseErrorType(ABC):\n",
    "    \"Base class of a type error response. This class is not used direclty by developers, but defines the interface common to all.\"\n",
    "    def __init__(self, flip_error_response=False):\n",
    "        self.factor=1\n",
    "        if flip_error_response:\n",
    "            self.factor=-1\n",
    "        self.error_response=None\n",
    "        self.terminate = False\n",
    "        \n",
    "    def __repr__(self):\n",
    "        if self.error_response == None:\n",
    "            return f': {self.__class__.__name__} error_response:{self.error_response}'\n",
    "        return f': {self.__class__.__name__} error_response:{self.error_response * self.factor}'\n",
    "\n",
    "    def aggregate(self, errors):\n",
    "        raise NotImplementedError\n",
    "        \n",
    "    @abstractmethod\n",
    "    def __call__(self):\n",
    "        pass\n",
    "    \n",
    "    @abstractmethod\n",
    "    def reset(self):\n",
    "        self.error_response=None\n",
    "        self.terminate = False\n",
    "\n",
    "    def set_properties(self, properties):\n",
    "        for property_name, property_value in properties.items():\n",
    "            setattr(self, property_name, property_value)\n",
    "\n",
    "    # def set_property(self, property_name, property_value):\n",
    "    #     exec(f'self.{property_name} = {property_value}')\n",
    "        \n",
    "    def get_error_response(self):\n",
    "        return self.error_response * self.factor\n",
    "    \n",
    "    def set_error_response(self, error):\n",
    "        self.error_response = error * self.factor\n",
    "\n",
    "    def is_terminated(self):\n",
    "        return self.terminate    "
   ]
  },
  {
   "cell_type": "markdown",
   "metadata": {},
   "source": [
    "## RootSumSquaredError"
   ]
  },
  {
   "cell_type": "code",
   "execution_count": null,
   "metadata": {},
   "outputs": [],
   "source": [
    "#| export\n",
    "class RootSumSquaredError(BaseErrorType):\n",
    "    \"The square root of the sum of the square of the errors.\"\n",
    "    def __init__(self, flip_error_response=False):\n",
    "        super().__init__(flip_error_response=flip_error_response)\n",
    "        self.sum=0\n",
    "        \n",
    "    def __call__(self, error):\n",
    "        self.sum+=error*error\n",
    "        self.error_response=math.sqrt(self.sum)\n",
    "\n",
    "    def reset(self):\n",
    "        super().reset()\n",
    "        self.sum=0\n",
    "        \n",
    "    class Factory:\n",
    "        def create(self, flip_error_response=False): return RootSumSquaredError(flip_error_response=flip_error_response)"
   ]
  },
  {
   "cell_type": "markdown",
   "metadata": {},
   "source": [
    "## RootMeanSquareError"
   ]
  },
  {
   "cell_type": "code",
   "execution_count": null,
   "metadata": {},
   "outputs": [],
   "source": [
    "#| export\n",
    "class RootMeanSquareError(BaseErrorType):\n",
    "    \"The square root of the mean of the sum of the square of the errors.\"\n",
    "    def __init__(self, flip_error_response=False):\n",
    "        super().__init__(flip_error_response=flip_error_response)\n",
    "        self.reset()\n",
    "        \n",
    "    def __call__(self, error):\n",
    "        self.num+=1\n",
    "        # Compute the Euclidean norm of the error array\n",
    "        norms = np.linalg.norm(error)\n",
    "        self.sum+=norms**2\n",
    "        self.error_response=np.sqrt(self.sum/self.num)\n",
    "\n",
    "        # self.sum+=error*error\n",
    "        # self.error_response=math.sqrt(self.sum/self.num)\n",
    "\n",
    "    def reset(self):\n",
    "        super().reset()\n",
    "        self.sum=0\n",
    "        self.num=0\n",
    "        \n",
    "    class Factory:\n",
    "        def create(self, flip_error_response=False): return RootMeanSquareError(flip_error_response=flip_error_response)"
   ]
  },
  {
   "cell_type": "markdown",
   "metadata": {},
   "source": [
    "## SummedError"
   ]
  },
  {
   "cell_type": "code",
   "execution_count": null,
   "metadata": {},
   "outputs": [],
   "source": [
    "#| export\n",
    "class SummedError(BaseErrorType):\n",
    "    \"Sum of all errors.\"\n",
    "    def __init__(self, flip_error_response=False):\n",
    "        super().__init__(flip_error_response=flip_error_response)\n",
    "        self.reset()\n",
    "        \n",
    "    def __call__(self, error):\n",
    "        self.sum+=error\n",
    "        self.error_response=self.sum\n",
    "\n",
    "    def reset(self):\n",
    "        super().reset()\n",
    "        self.sum=0\n",
    "        \n",
    "    class Factory:\n",
    "        def create(self, flip_error_response=False): return SummedError(flip_error_response=flip_error_response)"
   ]
  },
  {
   "cell_type": "markdown",
   "metadata": {},
   "source": [
    "## CurrentError"
   ]
  },
  {
   "cell_type": "markdown",
   "metadata": {},
   "source": []
  },
  {
   "cell_type": "code",
   "execution_count": null,
   "metadata": {},
   "outputs": [],
   "source": [
    "#| export\n",
    "class CurrentError(BaseErrorType):\n",
    "    \"The current error, rather than a function of the historical values.\"\n",
    "    def __init__(self, flip_error_response=False):\n",
    "        super().__init__(flip_error_response=flip_error_response)\n",
    "    \n",
    "    def __call__(self, error):\n",
    "        self.error_response=error\n",
    "\n",
    "    def reset(self):\n",
    "        super().reset()\n",
    "\n",
    "    class Factory:\n",
    "        def create(self, flip_error_response=False): return CurrentError(flip_error_response=flip_error_response)"
   ]
  },
  {
   "cell_type": "markdown",
   "metadata": {},
   "source": [
    "## CurrentRMSError"
   ]
  },
  {
   "cell_type": "code",
   "execution_count": null,
   "metadata": {},
   "outputs": [],
   "source": [
    "#| export\n",
    "class CurrentRMSError(BaseErrorType):\n",
    "    \"The current RMS error, rather than a function of the historical values.\"\n",
    "    def __init__(self, flip_error_response=False):\n",
    "        super().__init__(flip_error_response=flip_error_response)\n",
    "    \n",
    "    def __call__(self, errors):\n",
    "        self.error_response = math.sqrt(sum(e**2 for e in errors) / len(errors))\n",
    "\n",
    "    def reset(self):\n",
    "        super().reset()\n",
    "\n",
    "    class Factory:\n",
    "        def create(self, flip_error_response=False): return CurrentRMSError(flip_error_response=flip_error_response)"
   ]
  },
  {
   "cell_type": "markdown",
   "metadata": {},
   "source": [
    "## SmoothError"
   ]
  },
  {
   "cell_type": "code",
   "execution_count": null,
   "metadata": {},
   "outputs": [],
   "source": [
    "#| export\n",
    "class SmoothError(BaseErrorType):\n",
    "    \"The exponential smoothed value of the error.\"\n",
    "    def __init__(self, flip_error_response=False):\n",
    "        super().__init__(flip_error_response=flip_error_response)        \n",
    "        self.smooth_factor = None\n",
    "        self.error_response = 0\n",
    "    \n",
    "    def set_properties(self, properties):\n",
    "        if 'smooth_factor' in properties:\n",
    "            super().set_properties(properties)\n",
    "\n",
    "    def __call__(self, error):\n",
    "        self.error_response=smooth(abs(error), self.error_response, self.smooth_factor)\n",
    "        \n",
    "    def reset(self):\n",
    "        self.error_response = 0\n",
    "\n",
    "    class Factory:\n",
    "        def create(self, flip_error_response=False): return SmoothError(flip_error_response=flip_error_response)"
   ]
  },
  {
   "cell_type": "markdown",
   "metadata": {},
   "source": [
    "## MovingSumError"
   ]
  },
  {
   "cell_type": "code",
   "execution_count": null,
   "metadata": {},
   "outputs": [],
   "source": [
    "#| export\n",
    "class MovingSumError(BaseErrorType):\n",
    "    \"The moving sum of the error.\"\n",
    "    def __init__(self, flip_error_response=False):\n",
    "        super().__init__(flip_error_response=flip_error_response)        \n",
    "        self.error_response = 0\n",
    "        self.history = None\n",
    "        self.initial = None\n",
    "\n",
    "    def set_properties(self, properties):\n",
    "        if 'history' in properties:\n",
    "            super().set_properties(properties)\n",
    "    \n",
    "    def __call__(self, error):\n",
    "        self.boxcar.append(error)\n",
    "        self.boxcar.pop(0)\n",
    "        self.error_response=sum(self.boxcar)\n",
    "        # self.terminate = ListChecker.check_list_unchanged(self.boxcar)\n",
    "        \n",
    "\n",
    "    def reset(self):\n",
    "        # self.terminate = False\n",
    "        # self.error_response = 0\n",
    "        self.boxcar = [self.initial for i in range(1, self.history+1)]\n",
    "        self.error_response=sum(self.boxcar)\n",
    "\n",
    "    class Factory:\n",
    "        def create(self, flip_error_response=False): return MovingSumError(flip_error_response=flip_error_response)"
   ]
  },
  {
   "cell_type": "markdown",
   "metadata": {},
   "source": [
    "## MovingAverageError"
   ]
  },
  {
   "cell_type": "code",
   "execution_count": null,
   "metadata": {},
   "outputs": [],
   "source": [
    "#| export\n",
    "class MovingAverageError(BaseErrorType):\n",
    "    \"The moving average of the error.\"\n",
    "    def __init__(self, flip_error_response=False):\n",
    "        super().__init__(flip_error_response=flip_error_response)        \n",
    "        self.error_response = 0\n",
    "        self.history = None\n",
    "        self.initial = None\n",
    "\n",
    "    def set_properties(self, properties):\n",
    "        if 'history' in properties:\n",
    "            super().set_properties(properties)\n",
    "\n",
    "    def __call__(self, error):\n",
    "        self.boxcar.append(error)\n",
    "        self.boxcar.pop(0)\n",
    "        self.error_response=sum(self.boxcar)/self.history\n",
    "        \n",
    "    def reset(self):\n",
    "        # self.error_response = 0\n",
    "        self.boxcar = [self.initial for i in range(1, self.history+1)]\n",
    "        self.error_response=sum(self.boxcar)/self.history\n",
    "\n",
    "    class Factory:\n",
    "        def create(self, flip_error_response=False): return MovingAverageError(flip_error_response=flip_error_response)"
   ]
  },
  {
   "cell_type": "markdown",
   "metadata": {},
   "source": [
    "## ErrorResponseFactory"
   ]
  },
  {
   "cell_type": "code",
   "execution_count": null,
   "metadata": {},
   "outputs": [],
   "source": [
    "#| export\n",
    "class ErrorResponseFactory:\n",
    "    factories = {}\n",
    "    def addResponseFactory(id, errorResponseFactory):\n",
    "        ErrorResponseFactory.factories.put[id] = errorResponseFactory\n",
    "    addResponseFactory = staticmethod(addResponseFactory)\n",
    "    # A Template Method:\n",
    "    def createErrorResponse(id, flip_error_response=False):\n",
    "        if not ErrorResponseFactory.factories.__contains__(id):\n",
    "            ErrorResponseFactory.factories[id] = \\\n",
    "              eval(id + '.Factory()')\n",
    "        return ErrorResponseFactory.factories[id].create(flip_error_response=flip_error_response)\n",
    "    createErrorResponse = staticmethod(createErrorResponse)"
   ]
  },
  {
   "cell_type": "markdown",
   "metadata": {},
   "source": [
    "# Error collection - from each iteration "
   ]
  },
  {
   "cell_type": "markdown",
   "metadata": {},
   "source": [
    "## ErrorCollectorFactory"
   ]
  },
  {
   "cell_type": "code",
   "execution_count": null,
   "metadata": {},
   "outputs": [],
   "source": [
    "#| export\n",
    "class ErrorCollectorFactory:\n",
    "    factories = {}\n",
    "    def addCollectorFactory(id, errorCollectorFactory):\n",
    "        ErrorCollectorFactory.factories.put[id] = errorCollectorFactory\n",
    "    addCollectorFactory = staticmethod(addCollectorFactory)\n",
    "    # A Template Method:\n",
    "    def createErrorCollector(id):\n",
    "        if not ErrorCollectorFactory.factories.__contains__(id):\n",
    "            ErrorCollectorFactory.factories[id] = \\\n",
    "              eval(id + '.Factory()')\n",
    "        return ErrorCollectorFactory.factories[id].create()\n",
    "    createErrorCollector = staticmethod(createErrorCollector)"
   ]
  },
  {
   "cell_type": "markdown",
   "metadata": {},
   "source": [
    "## BaseErrorCollector"
   ]
  },
  {
   "cell_type": "code",
   "execution_count": null,
   "metadata": {},
   "outputs": [],
   "source": [
    "#| export\n",
    "class BaseErrorCollector(ABC):\n",
    "    \"Base class of an error collector. This class is not used direclty by developers, but defines the interface common to all.\"\n",
    "    'Parameters:'\n",
    "    'limit - the limit of valid error response'\n",
    "    'error_response - the type of error response'\n",
    "    \n",
    "    def __init__(self, limit,error_response, min=True):\n",
    "        self.limit=limit\n",
    "        self.limit_exceeded=False\n",
    "        self.error_response=error_response\n",
    "        self.min=min\n",
    "\n",
    "        \n",
    "    def __repr__(self):\n",
    "        return f'{self.__class__.__name__} limit:{self.limit}, limit_exceeded:{self.limit_exceeded}, {self.error_response.__repr__()}'\n",
    "        \n",
    "    def set_min(self, min):\n",
    "        self.min=min\n",
    "\n",
    "    def set_limit(self, limit):\n",
    "        self.limit=limit\n",
    "        self.limit_exceeded=False\n",
    "\n",
    "    def set_error_response(self, error_response):\n",
    "        self.error_response=error_response\n",
    "    \n",
    "    def reset(self):\n",
    "        self.error_response.reset()\n",
    "        self.limit_exceeded=False\n",
    "\n",
    "    def set_properties(self, properties):\n",
    "        for property_name, property_value in properties.items():\n",
    "            setattr(self, property_name, property_value)\n",
    "\n",
    "    def error(self):\n",
    "        return self.error_response.get_error_response()\n",
    "\n",
    "    def override_value(self):\n",
    "        if self.limit is not None:\n",
    "            self.error_response.set_error_response(self.error_response.get_error_response()*abs(self.limit))\n",
    "    \n",
    "    def add_error_data(self, data=[]):\n",
    "        for datum in data:\n",
    "            self.error_response(datum)\n",
    "\n",
    "    def add_error_data_array(self, data=[]):\n",
    "        self.error_response(data)\n",
    "\n",
    "    def is_terminated(self):            \n",
    "        if self.limit_exceeded:\n",
    "            return True\n",
    "        if self.error_response.is_terminated():\n",
    "            return True  \n",
    "        return False\n",
    "\n",
    "    @classmethod\n",
    "    def collector(cls, error_response_type, error_collector_type, limit, min=True, properties=None, flip_error_response=False):\n",
    "        error_response = ErrorResponseFactory.createErrorResponse(error_response_type, flip_error_response=flip_error_response)   \n",
    "        error_collector = ErrorCollectorFactory.createErrorCollector(error_collector_type)   \n",
    "        error_collector.set_limit(limit)\n",
    "        error_collector.set_min(min)\n",
    "        \n",
    "        if properties:\n",
    "            if 'error_response' in properties:\n",
    "                error_response.set_properties(properties['error_response'])\n",
    "            if 'error_collector' in properties:     \n",
    "                error_collector.set_properties(properties['error_collector'])   \n",
    "\n",
    "        # if properties != None:\n",
    "        #     for property in properties:\n",
    "        #         if error_response_type == 'SmoothError' and property[0] == 'smooth_factor':\n",
    "        #             error_response.set_property(property[0], property[1])\n",
    "        #             continue\n",
    "        #         if error_response_type == 'MovingSumError' or error_response_type == 'MovingAverageError':\n",
    "        #             error_response.set_property(property[0], property[1])\n",
    "        #             continue\n",
    "        #         if error_collector_type == 'ReferencedInputsError' and property[0] == 'referenced_inputs':\n",
    "        #             error_collector.set_reference_properties(property[1])\n",
    "        #             continue\n",
    "        \n",
    "        error_response.reset()\n",
    "        error_collector.set_error_response(error_response)\n",
    "        \n",
    "        return error_collector\n",
    "    \n",
    "    def check_limit(self):\n",
    "        if self.limit is None:\n",
    "            raise Exception(f': {self.__class__.__name__} requires a limit value')\n",
    "\n",
    "        if self.min is None:\n",
    "            raise Exception(f': {self.__class__.__name__} min must be True or False not None')\n",
    "\n",
    "        if self.min:\n",
    "            if self.error_response.get_error_response() > self.limit:\n",
    "                self.limit_exceeded=True\n",
    "        else:\n",
    "            if self.error_response.get_error_response() < self.limit:\n",
    "                self.limit_exceeded=True\n",
    "        \n",
    "        return self.limit_exceeded"
   ]
  },
  {
   "cell_type": "markdown",
   "metadata": {},
   "source": [
    "## TotalError"
   ]
  },
  {
   "cell_type": "code",
   "execution_count": null,
   "metadata": {},
   "outputs": [],
   "source": [
    "#| export\n",
    "class TotalError(BaseErrorCollector):\n",
    "    \"A class to collect all the errors of the control system run.\"            \n",
    "    def __init__(self, limit=None, error_response=None, min=None, **cargs):\n",
    "        super().__init__(limit, error_response, min)\n",
    "\n",
    "    def add_data(self, hpct=None):\n",
    "        for level in range(len(hpct.hierarchy)):\n",
    "             for col in range(len(hpct.hierarchy[level])):\n",
    "                node  = hpct.hierarchy[level][col]\n",
    "                self.add_error_data( [node.get_function(\"comparator\").get_value()])\n",
    "                if self.check_limit():\n",
    "#                 if self.error_response.get_error_response() > self.limit:\n",
    "#                     self.limit_exceeded=True\n",
    "                    return\n",
    "    class Factory:\n",
    "        def create(self): return TotalError()"
   ]
  },
  {
   "cell_type": "markdown",
   "metadata": {},
   "source": [
    "## TopError"
   ]
  },
  {
   "cell_type": "code",
   "execution_count": null,
   "metadata": {},
   "outputs": [],
   "source": [
    "#| export\n",
    "class TopError(BaseErrorCollector):\n",
    "    \"A class to collect all the errors of the top-level nodes.\"            \n",
    "    def __init__(self, limit=None, error_response=None, min=None, **cargs):\n",
    "        super().__init__(limit, error_response, min)\n",
    "\n",
    "    def add_data(self, hpct=None):\n",
    "        level = len(hpct.hierarchy)-1\n",
    "            \n",
    "        for col in range(len(hpct.hierarchy[level])):\n",
    "            node  = hpct.hierarchy[level][col]\n",
    "            self.add_error_data( [node.get_function(\"comparator\").get_value()])\n",
    "            if self.check_limit():\n",
    "#             if self.error_response.get_error_response() > self.limit:\n",
    "#                 self.limit_exceeded=True\n",
    "                return\n",
    "            \n",
    "    class Factory:\n",
    "        def create(self): return TopError()"
   ]
  },
  {
   "cell_type": "markdown",
   "metadata": {},
   "source": [
    "## InputsError"
   ]
  },
  {
   "cell_type": "code",
   "execution_count": null,
   "metadata": {},
   "outputs": [],
   "source": [
    "#| export\n",
    "class InputsError(BaseErrorCollector):\n",
    "    \"A class to collect the values of the input values.\"            \n",
    "    def __init__(self, limit=None, error_response=None, min=None, **cargs):\n",
    "        super().__init__(limit, error_response, min)\n",
    "        self.indexes = []\n",
    "\n",
    "    def set_properties(self, properties):\n",
    "        self.indexes = properties.get('indexes', [])\n",
    "\n",
    "    def add_data(self, hpct=None):\n",
    "        data = []\n",
    "        pre = hpct.get_preprocessor()\n",
    "        for i, func in enumerate(pre[1:], start=1):\n",
    "            if len(self.indexes) > 0 :\n",
    "                if (i - 1) in self.indexes:\n",
    "                    data.append(func.get_value())\n",
    "            else:\n",
    "                data.append(func.get_value())\n",
    "        self.add_error_data_array(data)\n",
    "        if self.limit and self.check_limit():\n",
    "            return\n",
    "        \n",
    "    class Factory:\n",
    "        def create(self): return InputsError()"
   ]
  },
  {
   "cell_type": "markdown",
   "metadata": {},
   "source": [
    "## ReferencedInputsError"
   ]
  },
  {
   "cell_type": "code",
   "execution_count": null,
   "metadata": {},
   "outputs": [],
   "source": [
    "#| export\n",
    "class ReferencedInputsError(BaseErrorCollector):\n",
    "    \"A class to collect the values of the input values subtracted from reference values.\"                        \n",
    "    def __init__(self, limit=None, error_response=None, min=None, **cargs):\n",
    "        super().__init__(limit, error_response, min)\n",
    "        self.reference_values=None\n",
    "        self.input_indexes=None        \n",
    "        \n",
    "    def set_properties(self, properties):\n",
    "        ref_inputs = properties.get('referenced_inputs', {})\n",
    "        self.input_indexes = ref_inputs.get('indexes', [])\n",
    "        self.reference_values = ref_inputs.get('refs', [])\n",
    "        self.weights = ref_inputs.get('weights', [1] * len(self.reference_values))\n",
    "                \n",
    "\n",
    "    def add_data(self, hpct=None):\n",
    "        data = []\n",
    "        pre = hpct.get_preprocessor()\n",
    "        for ctr, index in enumerate(self.input_indexes):\n",
    "            func = pre[index+1] # add 1 as environment is 0\n",
    "            if isinstance(func, IndexedParameter):\n",
    "                data.append((self.reference_values[ctr]-func.get_value()) * self.weights[ctr])\n",
    "            else:\n",
    "                raise Exception(f'Function {func.get_name()} is not type IndexedParameter.')\n",
    "        self.add_error_data( data )\n",
    "        if self.check_limit():\n",
    "#         if self.error_response.get_error_response() > self.limit:\n",
    "#             self.limit_exceeded=True\n",
    "            return\n",
    "\n",
    "    class Factory:\n",
    "        def create(self): return ReferencedInputsError()"
   ]
  },
  {
   "cell_type": "markdown",
   "metadata": {},
   "source": [
    "## RewardError"
   ]
  },
  {
   "cell_type": "code",
   "execution_count": null,
   "metadata": {},
   "outputs": [],
   "source": [
    "#| export\n",
    "class RewardError(BaseErrorCollector):\n",
    "    \"A class that collects the reward value of the control system run.\"            \n",
    "    def __init__(self, limit=None, error_response=None, min=None, **cargs):\n",
    "        super().__init__(limit, error_response, min)\n",
    "\n",
    "    def add_data(self, hpct=None):\n",
    "        data = []\n",
    "        pre = hpct.get_preprocessor()\n",
    "        data.append(pre[0].get_reward())\n",
    "        self.add_error_data( data )\n",
    "#         if self.check_limit():\n",
    "#             return\n",
    "    class Factory:\n",
    "        def create(self): return RewardError()"
   ]
  },
  {
   "cell_type": "markdown",
   "metadata": {},
   "source": [
    "## FitnessError"
   ]
  },
  {
   "cell_type": "code",
   "execution_count": null,
   "metadata": {},
   "outputs": [],
   "source": [
    "#| export\n",
    "class FitnessError(BaseErrorCollector):\n",
    "    \"A class that collects the fitness value of the control system run.\"            \n",
    "    def __init__(self, limit=None, error_response=None, min=None, **cargs):\n",
    "        super().__init__(limit, error_response, min)\n",
    "\n",
    "    def add_data(self, hpct=None):\n",
    "        data = []\n",
    "        pre = hpct.get_preprocessor()\n",
    "        data.append(pre[0].get_fitness())\n",
    "        self.add_error_data( data )\n",
    "        self.check_limit()\n",
    "\n",
    "    class Factory:\n",
    "        def create(self): return FitnessError()"
   ]
  },
  {
   "cell_type": "markdown",
   "metadata": {},
   "source": []
  },
  {
   "cell_type": "markdown",
   "metadata": {},
   "source": [
    "# Examples"
   ]
  },
  {
   "cell_type": "code",
   "execution_count": null,
   "metadata": {},
   "outputs": [
    {
     "name": "stdout",
     "output_type": "stream",
     "text": [
      "5.338539126015656\n"
     ]
    }
   ],
   "source": [
    "rms = RootMeanSquareError()\n",
    "for i in range(10):\n",
    "    rms([i])\n",
    "er = rms.get_error_response()\n",
    "print(er)\n",
    "TestCase().assertAlmostEqual(er, 5.338539126015656, places=6)\n"
   ]
  },
  {
   "cell_type": "code",
   "execution_count": null,
   "metadata": {},
   "outputs": [
    {
     "name": "stdout",
     "output_type": "stream",
     "text": [
      "TotalError limit:250, limit_exceeded:False, : RootSumSquaredError error_response:2.23606797749979\n",
      "2.23606797749979\n"
     ]
    }
   ],
   "source": [
    "rsse = RootSumSquaredError()\n",
    "te = TotalError(error_response=rsse, limit=250,min=True)   \n",
    "te.add_error_data([1, 2])\n",
    "print(te)\n",
    "err=te.error()\n",
    "print(err)\n",
    "TestCase().assertAlmostEqual(err, 2.23606797749979, places=6)\n"
   ]
  },
  {
   "cell_type": "code",
   "execution_count": null,
   "metadata": {},
   "outputs": [],
   "source": []
  },
  {
   "cell_type": "code",
   "execution_count": null,
   "metadata": {},
   "outputs": [],
   "source": []
  },
  {
   "cell_type": "code",
   "execution_count": null,
   "metadata": {},
   "outputs": [],
   "source": []
  },
  {
   "cell_type": "code",
   "execution_count": null,
   "metadata": {},
   "outputs": [
    {
     "name": "stdout",
     "output_type": "stream",
     "text": [
      "102.0\n",
      "102.0\n"
     ]
    }
   ],
   "source": [
    "et = ErrorResponseFactory.createErrorResponse('RootSumSquaredError')   \n",
    "et(102)\n",
    "print(et.get_error_response())\n",
    "\n",
    "iprms = ErrorCollectorFactory.createErrorCollector('TotalError')   \n",
    "iprms.set_limit(100)\n",
    "iprms.set_error_response(et)\n",
    "print(iprms.error())"
   ]
  },
  {
   "cell_type": "code",
   "execution_count": null,
   "metadata": {},
   "outputs": [],
   "source": [
    "iprms = BaseErrorCollector.collector( 'RootMeanSquareError','InputsError', 10, flip_error_response=False, min=False)"
   ]
  },
  {
   "cell_type": "code",
   "execution_count": null,
   "metadata": {},
   "outputs": [
    {
     "name": "stdout",
     "output_type": "stream",
     "text": [
      "9.092121131323903\n",
      "InputsError limit:10, limit_exceeded:False, : RootMeanSquareError error_response:9.092121131323903\n"
     ]
    }
   ],
   "source": [
    "\n",
    "time_series_example = np.array([[1, 2, 3],\n",
    "                                [4, 5, 6],\n",
    "                                [7, 8, 9],\n",
    "                                [10, 11, 12],\n",
    "                                [13, 14, 15]])\n",
    "for ts in time_series_example:\n",
    "    iprms.add_error_data(ts)\n",
    "erms = iprms.error()\n",
    "print(erms)\n",
    "print(iprms)\n",
    "TestCase().assertAlmostEqual(erms, 9.092121131323903, places=6)"
   ]
  },
  {
   "cell_type": "code",
   "execution_count": null,
   "metadata": {},
   "outputs": [
    {
     "name": "stdout",
     "output_type": "stream",
     "text": [
      "InputsError limit:10, limit_exceeded:False, : RootMeanSquareError error_response:None\n"
     ]
    }
   ],
   "source": [
    "iprms.reset()\n",
    "print(iprms)"
   ]
  },
  {
   "cell_type": "code",
   "execution_count": null,
   "metadata": {},
   "outputs": [
    {
     "name": "stdout",
     "output_type": "stream",
     "text": [
      "15.748015748023622\n",
      "InputsError limit:10, limit_exceeded:False, : RootMeanSquareError error_response:15.748015748023622\n"
     ]
    }
   ],
   "source": [
    "iprms2 = BaseErrorCollector.collector( 'RootMeanSquareError','InputsError', 10, flip_error_response=False, min=False)\n",
    "time_series_example2 = np.array([[1, 2, 3],\n",
    "                                [4, 5, 6],\n",
    "                                [7, 8, 9],\n",
    "                                [10, 11, 12],\n",
    "                                [13, 14, 15]])\n",
    "for ts in time_series_example2:\n",
    "    iprms2.add_error_data_array(ts)\n",
    "erms2 = iprms2.error()\n",
    "print(erms2)\n",
    "print(iprms2)\n",
    "TestCase().assertAlmostEqual(erms2, 15.748015748023622, places=6)"
   ]
  },
  {
   "cell_type": "code",
   "execution_count": null,
   "metadata": {},
   "outputs": [
    {
     "name": "stdout",
     "output_type": "stream",
     "text": [
      "4.123105625617661\n",
      "InputsError limit:10, limit_exceeded:False, : RootMeanSquareError error_response:4.123105625617661\n"
     ]
    }
   ],
   "source": [
    "iprms1 = BaseErrorCollector.collector( 'RootMeanSquareError','InputsError', 10, flip_error_response=False, min=False)\n",
    "iprms1.add_error_data([3])\n",
    "iprms1.add_error_data([5])\n",
    "erms1 = iprms1.error()\n",
    "print(erms1)\n",
    "print(iprms1)\n",
    "TestCase().assertAlmostEqual(erms1, 4.123105625617661, places=6)"
   ]
  },
  {
   "cell_type": "code",
   "execution_count": null,
   "metadata": {},
   "outputs": [
    {
     "name": "stdout",
     "output_type": "stream",
     "text": [
      "[ 3.74165739  8.77496439 13.92838828 19.10497317 24.2899156 ]\n"
     ]
    }
   ],
   "source": [
    "time_series = np.array([[1, 2, 3],\n",
    "                                [4, 5, 6],\n",
    "                                [7, 8, 9],\n",
    "                                [10, 11, 12],\n",
    "                                [13, 14, 15]])\n",
    "norms = np.linalg.norm(time_series, axis=1)\n",
    "print(norms)"
   ]
  },
  {
   "cell_type": "code",
   "execution_count": null,
   "metadata": {},
   "outputs": [],
   "source": [
    "#| hide\n",
    "import nbdev; nbdev.nbdev_export()"
   ]
  }
 ],
 "metadata": {
  "kernelspec": {
   "display_name": "python3",
   "language": "python",
   "name": "python3"
  }
 },
 "nbformat": 4,
 "nbformat_minor": 2
}
