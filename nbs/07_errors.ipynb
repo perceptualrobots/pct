{
 "cells": [
  {
   "cell_type": "raw",
   "metadata": {},
   "source": [
    "---\n",
    "description: Types of error response of a percectual control hierarchy.\n",
    "output-file: errors.html\n",
    "title: Errors\n",
    "\n",
    "---\n",
    "\n"
   ]
  },
  {
   "cell_type": "code",
   "execution_count": null,
   "metadata": {},
   "outputs": [
    {
     "name": "stdout",
     "output_type": "stream",
     "text": [
      "The autoreload extension is already loaded. To reload it, use:\n",
      "  %reload_ext autoreload\n"
     ]
    }
   ],
   "source": [
    "%load_ext autoreload\n",
    "%autoreload 2"
   ]
  },
  {
   "cell_type": "code",
   "execution_count": null,
   "metadata": {},
   "outputs": [],
   "source": [
    "#| default_exp errors"
   ]
  },
  {
   "cell_type": "code",
   "execution_count": null,
   "metadata": {},
   "outputs": [],
   "source": [
    "#| export\n",
    "#import numpy as np\n",
    "import math\n",
    "from abc import ABC, abstractmethod\n",
    "from pct.functions import IndexedParameter\n",
    "from pct.putils import smooth"
   ]
  },
  {
   "cell_type": "code",
   "execution_count": null,
   "metadata": {},
   "outputs": [],
   "source": [
    "from pct.hierarchy import PCTHierarchy"
   ]
  },
  {
   "cell_type": "code",
   "execution_count": null,
   "metadata": {},
   "outputs": [],
   "source": [
    "#| export\n",
    "class BaseErrorType(ABC):\n",
    "    \"Base class of a type error response. This class is not used direclty by developers, but defines the interface common to all.\"\n",
    "    def __init__(self, flip_error_response=False):\n",
    "        self.factor=1\n",
    "        if flip_error_response:\n",
    "            self.factor=-1\n",
    "        self.error_response=None\n",
    "        \n",
    "    def __repr__(self):\n",
    "        if self.error_response == None:\n",
    "            return f': {self.__class__.__name__} error_response:{self.error_response}'\n",
    "        return f': {self.__class__.__name__} error_response:{self.error_response * self.factor}'\n",
    "\n",
    "    \n",
    "    @abstractmethod\n",
    "    def __call__(self):\n",
    "        pass\n",
    "    \n",
    "    @abstractmethod\n",
    "    def reset(self):\n",
    "        self.error_response=None\n",
    "\n",
    "    def set_property(self, property_name, property_value):\n",
    "        exec(f'self.{property_name} = {property_value}')\n",
    "        \n",
    "    def get_error_response(self):\n",
    "        return self.error_response * self.factor\n",
    "    \n",
    "    def set_error_response(self, error):\n",
    "        self.error_response = error * self.factor\n",
    "        "
   ]
  },
  {
   "cell_type": "code",
   "execution_count": null,
   "metadata": {},
   "outputs": [],
   "source": [
    "#| export\n",
    "class RootSumSquaredError(BaseErrorType):\n",
    "    \"The square root of the sum of the square of the errors.\"\n",
    "    def __init__(self, flip_error_response=False):\n",
    "        super().__init__(flip_error_response=flip_error_response)\n",
    "        self.sum=0\n",
    "        \n",
    "    def __call__(self, error):\n",
    "        self.sum+=error*error\n",
    "        self.error_response=math.sqrt(self.sum)\n",
    "\n",
    "    def reset(self):\n",
    "        super().reset()\n",
    "        self.sum=0\n",
    "        \n",
    "    class Factory:\n",
    "        def create(self, flip_error_response=False): return RootSumSquaredError(flip_error_response=flip_error_response)"
   ]
  },
  {
   "cell_type": "code",
   "execution_count": null,
   "metadata": {},
   "outputs": [],
   "source": [
    "#| export\n",
    "class RootMeanSquareError(BaseErrorType):\n",
    "    \"The square root of the mean of the sum of the square of the errors.\"\n",
    "    def __init__(self, flip_error_response=False):\n",
    "        super().__init__(flip_error_response=flip_error_response)\n",
    "        self.reset()\n",
    "        \n",
    "    def __call__(self, error):\n",
    "        self.num+=1\n",
    "        self.sum+=error*error\n",
    "        self.error_response=math.sqrt(self.sum/self.num)\n",
    "\n",
    "    def reset(self):\n",
    "        super().reset()\n",
    "        self.sum=0\n",
    "        self.num=0\n",
    "        \n",
    "    class Factory:\n",
    "        def create(self, flip_error_response=False): return RootMeanSquareError(flip_error_response=flip_error_response)"
   ]
  },
  {
   "cell_type": "code",
   "execution_count": null,
   "metadata": {},
   "outputs": [],
   "source": [
    "#| export\n",
    "class CurrentError(BaseErrorType):\n",
    "    \"The current error, rather than a function of the historical values.\"\n",
    "    def __init__(self, flip_error_response=False):\n",
    "        super().__init__(flip_error_response=flip_error_response)\n",
    "    \n",
    "    def __call__(self, error):\n",
    "        self.error_response=error\n",
    "\n",
    "    def reset(self):\n",
    "        super().reset()\n",
    "\n",
    "    class Factory:\n",
    "        def create(self, flip_error_response=False): return CurrentError(flip_error_response=flip_error_response)"
   ]
  },
  {
   "cell_type": "code",
   "execution_count": null,
   "metadata": {},
   "outputs": [],
   "source": [
    "#| export\n",
    "class SmoothError(BaseErrorType):\n",
    "    \"The exponential smoothed value of the error.\"\n",
    "    def __init__(self, flip_error_response=False):\n",
    "        super().__init__(flip_error_response=flip_error_response)        \n",
    "        self.smooth_factor = None\n",
    "        self.error_response = 0\n",
    "    \n",
    "    def __call__(self, error):\n",
    "        self.error_response=smooth(abs(error), self.error_response, self.smooth_factor)\n",
    "        \n",
    "    def reset(self):\n",
    "        self.error_response = 0\n",
    "\n",
    "    class Factory:\n",
    "        def create(self, flip_error_response=False): return SmoothError(flip_error_response=flip_error_response)"
   ]
  },
  {
   "cell_type": "code",
   "execution_count": null,
   "metadata": {},
   "outputs": [],
   "source": [
    "#| export\n",
    "class BaseErrorCollector(ABC):\n",
    "    \"Base class of an error collector. This class is not used direclty by developers, but defines the interface common to all.\"\n",
    "    'Parameters:'\n",
    "    'limit - the limit of valid error response'\n",
    "    'error_response - the type of error response'\n",
    "    \n",
    "    def __init__(self, limit,error_response, min=True):\n",
    "        self.limit=limit\n",
    "        self.limit_exceeded=False\n",
    "        self.error_response=error_response\n",
    "        self.min=min\n",
    "\n",
    "        \n",
    "    def __repr__(self):\n",
    "        return f'{self.__class__.__name__} limit:{self.limit}, limit_exceeded:{self.limit_exceeded}, {self.error_response.__repr__()}'\n",
    "        \n",
    "    def set_min(self, min):\n",
    "        self.min=min\n",
    "\n",
    "    def set_limit(self, limit):\n",
    "        self.limit=limit\n",
    "        self.limit_exceeded=False\n",
    "\n",
    "    def set_error_response(self, error_response):\n",
    "        self.error_response=error_response\n",
    "    \n",
    "    def reset(self):\n",
    "        self.error_response.reset()\n",
    "\n",
    "    def error(self):\n",
    "        return self.error_response.get_error_response()\n",
    "\n",
    "    def override_value(self):\n",
    "        self.error_response.set_error_response(self.error_response.get_error_response()*abs(self.limit))\n",
    "\n",
    "#     def set_maximum(self):\n",
    "#         self.error_response.set_error_response(self.limit)\n",
    "    \n",
    "    def add_error_data(self, data=[]):\n",
    "        for datum in data:\n",
    "            self.error_response(datum)\n",
    "                  \n",
    "    def is_limit_exceeded(self):            \n",
    "        return self.limit_exceeded        \n",
    "    \n",
    "    @classmethod\n",
    "    def collector(cls, error_response_type, error_collector_type, limit, min=True, properties=None, flip_error_response=False):\n",
    "        error_response = ErrorResponseFactory.createErrorResponse(error_response_type, flip_error_response=flip_error_response)   \n",
    "        error_collector = ErrorCollectorFactory.createErrorCollector(error_collector_type)   \n",
    "        error_collector.set_limit(limit)\n",
    "        error_collector.set_min(min)\n",
    "        \n",
    "        if properties != None:\n",
    "            for property in properties:\n",
    "                if error_response_type == 'SmoothError' and property[0] == 'smooth_factor':\n",
    "                    error_response.set_property(property[0], property[1])\n",
    "                    continue\n",
    "                if error_collector_type == 'ReferencedInputsError' and property[0] == 'referenced_inputs':\n",
    "                    error_collector.set_reference_properties(property[1])\n",
    "                    continue\n",
    "            \n",
    "        error_collector.set_error_response(error_response)\n",
    "        \n",
    "        return error_collector\n",
    "    \n",
    "    def check_limit(self):\n",
    "        if self.min:\n",
    "            if self.error_response.get_error_response() > self.limit:\n",
    "                self.limit_exceeded=True\n",
    "        else:\n",
    "            if self.error_response.get_error_response() < self.limit:\n",
    "                self.limit_exceeded=True\n",
    "        \n",
    "        return self.limit_exceeded"
   ]
  },
  {
   "cell_type": "code",
   "execution_count": null,
   "metadata": {},
   "outputs": [],
   "source": [
    "#| export\n",
    "class TotalError(BaseErrorCollector):\n",
    "    \"A class to collect all the errors of the control system run.\"            \n",
    "    def __init__(self, limit=1000, error_response=None, min=None, **cargs):\n",
    "        super().__init__(limit, error_response, min)\n",
    "\n",
    "    def add_data(self, hpct=None):\n",
    "        for level in range(len(hpct.hierarchy)):\n",
    "             for col in range(len(hpct.hierarchy[level])):\n",
    "                node  = hpct.hierarchy[level][col]\n",
    "                self.add_error_data( [node.get_function(\"comparator\").get_value()])\n",
    "                if self.check_limit():\n",
    "#                 if self.error_response.get_error_response() > self.limit:\n",
    "#                     self.limit_exceeded=True\n",
    "                    return\n",
    "    class Factory:\n",
    "        def create(self): return TotalError()"
   ]
  },
  {
   "cell_type": "code",
   "execution_count": null,
   "metadata": {},
   "outputs": [],
   "source": [
    "#| export\n",
    "class TopError(BaseErrorCollector):\n",
    "    \"A class to collect all the errors of the top-level nodes.\"            \n",
    "    def __init__(self, limit=1000, error_response=None, min=None, **cargs):\n",
    "        super().__init__(limit, error_response, min)\n",
    "\n",
    "    def add_data(self, hpct=None):\n",
    "        level = len(hpct.hierarchy)-1\n",
    "            \n",
    "        for col in range(len(hpct.hierarchy[level])):\n",
    "            node  = hpct.hierarchy[level][col]\n",
    "            self.add_error_data( [node.get_function(\"comparator\").get_value()])\n",
    "            if self.check_limit():\n",
    "#             if self.error_response.get_error_response() > self.limit:\n",
    "#                 self.limit_exceeded=True\n",
    "                return\n",
    "            \n",
    "    class Factory:\n",
    "        def create(self): return TopError()"
   ]
  },
  {
   "cell_type": "code",
   "execution_count": null,
   "metadata": {},
   "outputs": [],
   "source": [
    "#| export\n",
    "class InputsError(BaseErrorCollector):\n",
    "    \"A class to collect the values of the input values.\"            \n",
    "    def __init__(self, limit=1000, error_response=None, min=None, **cargs):\n",
    "        super().__init__(limit, error_response, min)\n",
    "\n",
    "    def add_data(self, hpct=None):\n",
    "        data = []\n",
    "        pre = hpct.get_preprocessor()\n",
    "        for func in pre:\n",
    "            if isinstance(func, IndexedParameter):\n",
    "                data.append(func.get_value())\n",
    "        self.add_error_data( data )\n",
    "        if self.check_limit():\n",
    "#         if self.error_response.get_error_response() > self.limit:\n",
    "#             self.limit_exceeded=True\n",
    "            return\n",
    "        \n",
    "    class Factory:\n",
    "        def create(self): return InputsError()"
   ]
  },
  {
   "cell_type": "code",
   "execution_count": null,
   "metadata": {},
   "outputs": [],
   "source": [
    "#| export\n",
    "class ReferencedInputsError(BaseErrorCollector):\n",
    "    \"A class to collect the values of the input values subtracted from reference values.\"                        \n",
    "    def __init__(self, limit=1000, error_response=None, min=None, **cargs):\n",
    "        super().__init__(limit, error_response, min)\n",
    "        self.reference_values=None\n",
    "        self.input_indexes=None        \n",
    "        \n",
    "    def set_reference_properties(self, properties):\n",
    "        strarr = properties.split('&')        \n",
    "        self.reference_values=[]\n",
    "        self.input_indexes=[]\n",
    "\n",
    "        for inp in strarr[0].split(';'):\n",
    "            self.input_indexes.append(eval(inp))\n",
    "        \n",
    "        for ref in strarr[1].split(';'):\n",
    "            self.reference_values.append(eval(ref))\n",
    "                \n",
    "\n",
    "    def add_data(self, hpct=None):\n",
    "        data = []\n",
    "        pre = hpct.get_preprocessor()\n",
    "        for ctr, index in enumerate(self.input_indexes):\n",
    "            func = pre[index+1] # add 1 as environment is 0\n",
    "            if isinstance(func, IndexedParameter):\n",
    "                data.append(self.reference_values[ctr]-func.get_value())\n",
    "            else:\n",
    "                raise Exception(f'Function {func.get_name()} is not type IndexedParameter.')\n",
    "        self.add_error_data( data )\n",
    "        if self.check_limit():\n",
    "#         if self.error_response.get_error_response() > self.limit:\n",
    "#             self.limit_exceeded=True\n",
    "            return\n",
    "\n",
    "    class Factory:\n",
    "        def create(self): return ReferencedInputsError()"
   ]
  },
  {
   "cell_type": "code",
   "execution_count": null,
   "metadata": {},
   "outputs": [],
   "source": [
    "#| export\n",
    "class RewardError(BaseErrorCollector):\n",
    "    \"A class that collects the reward value of the control system run.\"            \n",
    "    def __init__(self, limit=1000, error_response=None, min=None, **cargs):\n",
    "        super().__init__(limit, error_response, min)\n",
    "\n",
    "    def add_data(self, hpct=None):\n",
    "        data = []\n",
    "        pre = hpct.get_preprocessor()\n",
    "        data.append(pre[0].get_reward())\n",
    "        self.add_error_data( data )\n",
    "#         if self.check_limit():\n",
    "#             return\n",
    "    class Factory:\n",
    "        def create(self): return RewardError()"
   ]
  },
  {
   "cell_type": "code",
   "execution_count": null,
   "metadata": {},
   "outputs": [],
   "source": [
    "#| export\n",
    "class ErrorResponseFactory:\n",
    "    factories = {}\n",
    "    def addResponseFactory(id, errorResponseFactory):\n",
    "        ErrorResponseFactory.factories.put[id] = errorFactory\n",
    "    addResponseFactory = staticmethod(addResponseFactory)\n",
    "    # A Template Method:\n",
    "    def createErrorResponse(id, flip_error_response=False):\n",
    "        if not ErrorResponseFactory.factories.__contains__(id):\n",
    "            ErrorResponseFactory.factories[id] = \\\n",
    "              eval(id + '.Factory()')\n",
    "        return ErrorResponseFactory.factories[id].create(flip_error_response=flip_error_response)\n",
    "    createErrorResponse = staticmethod(createErrorResponse)"
   ]
  },
  {
   "cell_type": "code",
   "execution_count": null,
   "metadata": {},
   "outputs": [],
   "source": [
    "#| export\n",
    "class ErrorCollectorFactory:\n",
    "    factories = {}\n",
    "    def addCollectorFactory(id, errorCollectorFactory):\n",
    "        ErrorCollectorFactory.factories.put[id] = errorFactory\n",
    "    addCollectorFactory = staticmethod(addCollectorFactory)\n",
    "    # A Template Method:\n",
    "    def createErrorCollector(id):\n",
    "        if not ErrorCollectorFactory.factories.__contains__(id):\n",
    "            ErrorCollectorFactory.factories[id] = \\\n",
    "              eval(id + '.Factory()')\n",
    "        return ErrorCollectorFactory.factories[id].create()\n",
    "    createErrorCollector = staticmethod(createErrorCollector)"
   ]
  },
  {
   "cell_type": "code",
   "execution_count": null,
   "metadata": {},
   "outputs": [
    {
     "name": "stdout",
     "output_type": "stream",
     "text": [
      "5.338539126015656\n"
     ]
    }
   ],
   "source": [
    "rms = RootMeanSquareError()\n",
    "for i in range(10):\n",
    "    rms(i)\n",
    "er = rms.get_error_response()\n",
    "print(er)\n",
    "assert er == 5.338539126015656"
   ]
  },
  {
   "cell_type": "code",
   "execution_count": null,
   "metadata": {},
   "outputs": [
    {
     "name": "stdout",
     "output_type": "stream",
     "text": [
      "TotalError limit:1000, limit_exceeded:False, : RootSumSquaredError error_response:2.23606797749979\n"
     ]
    }
   ],
   "source": [
    "er = RootSumSquaredError()\n",
    "te = TotalError(error_response=er)   \n",
    "te.add_error_data([1, 2])\n",
    "print(te)"
   ]
  },
  {
   "cell_type": "code",
   "execution_count": null,
   "metadata": {},
   "outputs": [
    {
     "name": "stdout",
     "output_type": "stream",
     "text": [
      "[0] \n",
      "level0col0 0.000 0.000 0.000 0.000 \n",
      "\n",
      "Current score=2.23606797749979\n"
     ]
    },
    {
     "data": {
      "text/plain": [
       "0"
      ]
     },
     "execution_count": null,
     "metadata": {},
     "output_type": "execute_result"
    }
   ],
   "source": [
    "hpct = PCTHierarchy(1,1,error_collector=te)\n",
    "hpct.run(steps=5, verbose=True)"
   ]
  },
  {
   "cell_type": "code",
   "execution_count": null,
   "metadata": {},
   "outputs": [
    {
     "name": "stdout",
     "output_type": "stream",
     "text": [
      "2.23606797749979\n"
     ]
    }
   ],
   "source": [
    "err=te.error()\n",
    "print(err)"
   ]
  },
  {
   "cell_type": "code",
   "execution_count": null,
   "metadata": {},
   "outputs": [
    {
     "name": "stdout",
     "output_type": "stream",
     "text": [
      "102.0\n",
      "102.0\n"
     ]
    }
   ],
   "source": [
    "et = ErrorResponseFactory.createErrorResponse('RootSumSquaredError')   \n",
    "et(102)\n",
    "print(et.get_error_response())\n",
    "\n",
    "ec = ErrorCollectorFactory.createErrorCollector('TotalError')   \n",
    "ec.set_limit(100)\n",
    "ec.set_error_response(et)\n",
    "print(ec.error())"
   ]
  },
  {
   "cell_type": "code",
   "execution_count": null,
   "metadata": {},
   "outputs": [],
   "source": [
    "ec = BaseErrorCollector.collector( 'RootMeanSquareError','InputsError', 10, flip_error_response=True, min=False)"
   ]
  },
  {
   "cell_type": "code",
   "execution_count": null,
   "metadata": {},
   "outputs": [
    {
     "name": "stdout",
     "output_type": "stream",
     "text": [
      "-1.0\n",
      "InputsError limit:10, limit_exceeded:False, : RootMeanSquareError error_response:-1.0\n"
     ]
    }
   ],
   "source": [
    "ec.add_error_data([1])\n",
    "print(ec.error())\n",
    "print(ec)"
   ]
  },
  {
   "cell_type": "code",
   "execution_count": null,
   "metadata": {},
   "outputs": [],
   "source": [
    "ec.reset()"
   ]
  },
  {
   "cell_type": "code",
   "execution_count": null,
   "metadata": {},
   "outputs": [
    {
     "name": "stdout",
     "output_type": "stream",
     "text": [
      "InputsError limit:10, limit_exceeded:False, : RootMeanSquareError error_response:None\n"
     ]
    }
   ],
   "source": [
    "print(ec)"
   ]
  },
  {
   "cell_type": "code",
   "execution_count": null,
   "metadata": {},
   "outputs": [],
   "source": [
    "#| hide\n",
    "import nbdev; nbdev.nbdev_export()"
   ]
  }
 ],
 "metadata": {
  "kernelspec": {
   "display_name": "python3",
   "language": "python",
   "name": "python3"
  }
 },
 "nbformat": 4,
 "nbformat_minor": 2
}
