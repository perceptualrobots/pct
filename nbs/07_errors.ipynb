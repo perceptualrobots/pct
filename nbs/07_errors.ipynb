{
 "cells": [
  {
   "cell_type": "code",
   "execution_count": null,
   "metadata": {},
   "outputs": [],
   "source": [
    "#default_exp errors"
   ]
  },
  {
   "cell_type": "code",
   "execution_count": null,
   "metadata": {},
   "outputs": [],
   "source": [
    "%load_ext autoreload\n",
    "%autoreload 2"
   ]
  },
  {
   "cell_type": "markdown",
   "metadata": {},
   "source": [
    "# Errors\n",
    "\n",
    "> Types of error response of a percectual control hierarchy."
   ]
  },
  {
   "cell_type": "code",
   "execution_count": null,
   "metadata": {},
   "outputs": [],
   "source": [
    "#%nbdev_hide\n",
    "#import sys\n",
    "#sys.path.append(\"..\")"
   ]
  },
  {
   "cell_type": "code",
   "execution_count": null,
   "metadata": {},
   "outputs": [],
   "source": [
    "#export\n",
    "#import numpy as np\n",
    "import math\n",
    "from abc import ABC, abstractmethod\n",
    "from pct.functions import IndexedParameter"
   ]
  },
  {
   "cell_type": "code",
   "execution_count": null,
   "metadata": {},
   "outputs": [],
   "source": [
    "from pct.hierarchy import PCTHierarchy"
   ]
  },
  {
   "cell_type": "code",
   "execution_count": null,
   "metadata": {},
   "outputs": [],
   "source": [
    "#export\n",
    "class BaseErrorType(ABC):\n",
    "    \"Base class of a type error response. This class is not used direclty by developers, but defines the interface common to all.\"\n",
    "    def __init__(self):\n",
    "        self.error_response=0\n",
    "    \n",
    "    @abstractmethod\n",
    "    def __call__(self):\n",
    "        pass\n",
    "    \n",
    "    @abstractmethod\n",
    "    def reset(self):\n",
    "        pass\n",
    "\n",
    "    def set_property(self, property_name, property_value):\n",
    "        exec(f'self.{property_name} = {property_value}')\n",
    "        \n",
    "    def get_error_response(self):\n",
    "        return self.error_response"
   ]
  },
  {
   "cell_type": "code",
   "execution_count": null,
   "metadata": {},
   "outputs": [],
   "source": [
    "#export\n",
    "class RootSumSquaredError(BaseErrorType):\n",
    "    \"The square root of the sum of the square of the errors.\"\n",
    "    def __init__(self):\n",
    "        super().__init__()\n",
    "        self.sum=0\n",
    "        \n",
    "    def __call__(self, error):\n",
    "        self.sum+=error*error\n",
    "        self.error_response=math.sqrt(self.sum)\n",
    "\n",
    "    def reset(self):\n",
    "        self.sum=0\n",
    "        \n",
    "    class Factory:\n",
    "        def create(self): return RootSumSquaredError()"
   ]
  },
  {
   "cell_type": "code",
   "execution_count": null,
   "metadata": {},
   "outputs": [],
   "source": [
    "#export\n",
    "class RootMeanSquareError(BaseErrorType):\n",
    "    \"The square root of the sum of the square of the errors.\"\n",
    "    def __init__(self):\n",
    "        super().__init__()\n",
    "        self.reset()\n",
    "        \n",
    "    def __call__(self, error):\n",
    "        self.num+=1\n",
    "        self.sum+=error*error\n",
    "        self.error_response=math.sqrt(self.sum/self.num)\n",
    "\n",
    "    def reset(self):\n",
    "        self.sum=0\n",
    "        self.num=0\n",
    "        \n",
    "    class Factory:\n",
    "        def create(self): return RootMeanSquareError()"
   ]
  },
  {
   "cell_type": "code",
   "execution_count": null,
   "metadata": {},
   "outputs": [],
   "source": [
    "#export\n",
    "class CurrentError(BaseErrorType):\n",
    "    \"The current error, rather than a function of the historical values.\"\n",
    "    def __init__(self):\n",
    "        super().__init__()\n",
    "    \n",
    "    def __call__(self, error):\n",
    "        self.error_response=error\n",
    "\n",
    "    def reset(self):\n",
    "        pass\n",
    "\n",
    "    class Factory:\n",
    "        def create(self): return CurrentError()"
   ]
  },
  {
   "cell_type": "code",
   "execution_count": null,
   "metadata": {},
   "outputs": [],
   "source": [
    "#export\n",
    "class SmoothError(BaseErrorType):\n",
    "    \"The exponential smoothed value of the error.\"\n",
    "    def __init__(self):\n",
    "        super().__init__()        \n",
    "        self.smooth_factor = None\n",
    "    \n",
    "    def __call__(self, error):\n",
    "        self.error_response=smooth(abs(error), self.error_response, self.smooth_factor)\n",
    "        \n",
    "    def reset(self):\n",
    "        pass\n",
    "\n",
    "    class Factory:\n",
    "        def create(self): return SmoothError()"
   ]
  },
  {
   "cell_type": "code",
   "execution_count": null,
   "metadata": {},
   "outputs": [],
   "source": [
    "#export\n",
    "class BaseErrorCollector(ABC):\n",
    "    \"Base class of an error collector. This class is not used direclty by developers, but defines the interface common to all.\"\n",
    "    'Parameters:'\n",
    "    'limit - the limit of valid error response'\n",
    "    'error_response - the type of error response'\n",
    "    \n",
    "    def __init__(self, limit,error_response):\n",
    "        self.limit=limit\n",
    "        self.limit_exceeded=False\n",
    "        self.error_response=error_response\n",
    "        \n",
    "    def set_limit(self, limit):\n",
    "        self.limit=limit\n",
    "        self.limit_exceeded=False\n",
    "\n",
    "    def set_error_response(self, error_response):\n",
    "        self.error_response=error_response\n",
    "    \n",
    "    def reset(self):\n",
    "        self.error_response.reset()\n",
    "\n",
    "    def error(self):\n",
    "        return self.error_response.get_error_response()\n",
    "    \n",
    "    def add_error_data(self, data=[]):\n",
    "        for datum in data:\n",
    "            self.error_response(datum)\n",
    "                  \n",
    "    def is_limit_exceeded(self):            \n",
    "        return self.limit_exceeded        \n",
    "    \n",
    "    @classmethod\n",
    "    def collector(cls, error_response_type, error_collector_type, limit, properties=None):\n",
    "        error_response = ErrorFactory.createError(error_response_type)   \n",
    "        error_collector = ErrorFactory.createError(error_collector_type)   \n",
    "        error_collector.set_limit(limit)\n",
    "        \n",
    "        if properties != None:\n",
    "            for property in properties:\n",
    "                if error_response_type == 'SmoothError' and property[0] == 'smooth_factor':\n",
    "                    error_response.set_property(property[0], property[1])\n",
    "                    continue\n",
    "                if error_collector_type == 'ReferencedInputsError' and property[0] == 'referenced_inputs':\n",
    "                    error_collector.set_reference_properties(property[1])\n",
    "                    continue\n",
    "            \n",
    "        error_collector.set_error_response(error_response)\n",
    "        \n",
    "        return error_collector"
   ]
  },
  {
   "cell_type": "code",
   "execution_count": null,
   "metadata": {},
   "outputs": [],
   "source": [
    "#export\n",
    "class TotalError(BaseErrorCollector):\n",
    "    \"A class to collect all the errors of the control system run.\"            \n",
    "    def __init__(self, limit=1000, error_response=None, **cargs):\n",
    "        super().__init__(limit, error_response)\n",
    "\n",
    "    def add_data(self, hpct=None):\n",
    "        for level in range(len(hpct.hierarchy)):\n",
    "             for col in range(len(hpct.hierarchy[level])):\n",
    "                node  = hpct.hierarchy[level][col]\n",
    "                self.add_error_data( [node.get_function(\"comparator\").get_value()])\n",
    "                if self.error_response.get_error_response() > self.limit:\n",
    "                    self.limit_exceeded=True\n",
    "                    return\n",
    "    class Factory:\n",
    "        def create(self): return TotalError()"
   ]
  },
  {
   "cell_type": "code",
   "execution_count": null,
   "metadata": {},
   "outputs": [],
   "source": [
    "#export\n",
    "class TopError(BaseErrorCollector):\n",
    "    \"A class to collect all the errors of the top-level nodes.\"            \n",
    "    def __init__(self, limit=1000, error_response=None, **cargs):\n",
    "        super().__init__(limit, error_response)\n",
    "\n",
    "    def add_data(self, hpct=None):\n",
    "        level = len(hpct.hierarchy)-1\n",
    "            \n",
    "        for col in range(len(hpct.hierarchy[level])):\n",
    "            node  = hpct.hierarchy[level][col]\n",
    "            self.add_error_data( [node.get_function(\"comparator\").get_value()])\n",
    "            if self.error_response.get_error_response() > self.limit:\n",
    "                self.limit_exceeded=True\n",
    "                return\n",
    "            \n",
    "    class Factory:\n",
    "        def create(self): return TopError()"
   ]
  },
  {
   "cell_type": "code",
   "execution_count": null,
   "metadata": {},
   "outputs": [],
   "source": [
    "#export\n",
    "class InputsError(BaseErrorCollector):\n",
    "    \"A class to collect the values of the input values.\"            \n",
    "    def __init__(self, limit=1000, error_response=None, **cargs):\n",
    "        super().__init__(limit, error_response)\n",
    "\n",
    "    def add_data(self, hpct=None):\n",
    "        data = []\n",
    "        pre = hpct.get_preprocessor()\n",
    "        for func in pre:\n",
    "            if isinstance(func, IndexedParameter):\n",
    "                data.append(func.get_value())\n",
    "        self.add_error_data( data )\n",
    "        if self.error_response.get_error_response() > self.limit:\n",
    "            self.limit_exceeded=True\n",
    "            return\n",
    "        \n",
    "    class Factory:\n",
    "        def create(self): return InputsError()"
   ]
  },
  {
   "cell_type": "code",
   "execution_count": null,
   "metadata": {},
   "outputs": [],
   "source": [
    "#export\n",
    "class ReferencedInputsError(BaseErrorCollector):\n",
    "    \"A class to collect the values of the input values subtracted from reference values.\"                        \n",
    "    def __init__(self, limit=1000, error_response=None, **cargs):\n",
    "        super().__init__(limit, error_response)\n",
    "        self.reference_values=None\n",
    "        self.input_indexes=None        \n",
    "        \n",
    "    def set_reference_properties(self, properties):\n",
    "        strarr = properties.split('&')        \n",
    "        self.reference_values=[]\n",
    "        self.input_indexes=[]\n",
    "\n",
    "        for inp in strarr[0].split(';'):\n",
    "            self.input_indexes.append(eval(inp))\n",
    "        \n",
    "        for ref in strarr[1].split(';'):\n",
    "            self.reference_values.append(eval(ref))\n",
    "                \n",
    "\n",
    "    def add_data(self, hpct=None):\n",
    "        data = []\n",
    "        pre = hpct.get_preprocessor()\n",
    "        for ctr, index in enumerate(self.input_indexes):\n",
    "            func = pre[index+1] # add 1 as environment is 0\n",
    "            if isinstance(func, IndexedParameter):\n",
    "                data.append(self.reference_values[ctr]-func.get_value())\n",
    "            else:\n",
    "                raise Exception(f'Function {func.get_name()} is not type IndexedParameter.')\n",
    "        self.add_error_data( data )\n",
    "        if self.error_response.get_error_response() > self.limit:\n",
    "            self.limit_exceeded=True\n",
    "            return\n",
    "    class Factory:\n",
    "        def create(self): return ReferencedInputsError()"
   ]
  },
  {
   "cell_type": "code",
   "execution_count": null,
   "metadata": {},
   "outputs": [],
   "source": [
    "#export\n",
    "class RewardError(BaseErrorCollector):\n",
    "    \"A class that collects the reward value of the control system run.\"            \n",
    "    def __init__(self, limit=1000, error_response=None, **cargs):\n",
    "        super().__init__(limit, error_response)\n",
    "\n",
    "    def add_data(self, hpct=None):\n",
    "        data = []\n",
    "        pre = hpct.get_preprocessor()\n",
    "        data.append(pre[0].get_reward())\n",
    "        self.add_error_data( data )\n",
    "        if self.error_response.get_error_response() > self.limit:\n",
    "            self.limit_exceeded=True\n",
    "            return\n",
    "    class Factory:\n",
    "        def create(self): return RewardError()"
   ]
  },
  {
   "cell_type": "code",
   "execution_count": null,
   "metadata": {},
   "outputs": [],
   "source": [
    "#export\n",
    "class ErrorFactory:\n",
    "    factories = {}\n",
    "    def addFactory(id, errorFactory):\n",
    "        ErrorFactory.factories.put[id] = errorFactory\n",
    "    addFactory = staticmethod(addFactory)\n",
    "    # A Template Method:\n",
    "    def createError(id):\n",
    "        if not ErrorFactory.factories.__contains__(id):\n",
    "            ErrorFactory.factories[id] = \\\n",
    "              eval(id + '.Factory()')\n",
    "        return ErrorFactory.factories[id].create()\n",
    "    createError = staticmethod(createError)"
   ]
  },
  {
   "cell_type": "code",
   "execution_count": null,
   "metadata": {},
   "outputs": [
    {
     "ename": "TypeError",
     "evalue": "Can't instantiate abstract class RootMeanSquareError with abstract methods reset",
     "output_type": "error",
     "traceback": [
      "\u001b[0;31m---------------------------------------------------------------------------\u001b[0m",
      "\u001b[0;31mTypeError\u001b[0m                                 Traceback (most recent call last)",
      "\u001b[0;32m<ipython-input-18-05ea68d12deb>\u001b[0m in \u001b[0;36m<module>\u001b[0;34m\u001b[0m\n\u001b[0;32m----> 1\u001b[0;31m \u001b[0mrms\u001b[0m \u001b[0;34m=\u001b[0m \u001b[0mRootMeanSquareError\u001b[0m\u001b[0;34m(\u001b[0m\u001b[0;34m)\u001b[0m\u001b[0;34m\u001b[0m\u001b[0;34m\u001b[0m\u001b[0m\n\u001b[0m\u001b[1;32m      2\u001b[0m \u001b[0;32mfor\u001b[0m \u001b[0mi\u001b[0m \u001b[0;32min\u001b[0m \u001b[0mrange\u001b[0m\u001b[0;34m(\u001b[0m\u001b[0;36m10\u001b[0m\u001b[0;34m)\u001b[0m\u001b[0;34m:\u001b[0m\u001b[0;34m\u001b[0m\u001b[0;34m\u001b[0m\u001b[0m\n\u001b[1;32m      3\u001b[0m     \u001b[0mrms\u001b[0m\u001b[0;34m(\u001b[0m\u001b[0mi\u001b[0m\u001b[0;34m)\u001b[0m\u001b[0;34m\u001b[0m\u001b[0;34m\u001b[0m\u001b[0m\n\u001b[1;32m      4\u001b[0m \u001b[0mer\u001b[0m \u001b[0;34m=\u001b[0m \u001b[0mrms\u001b[0m\u001b[0;34m.\u001b[0m\u001b[0mget_error_response\u001b[0m\u001b[0;34m(\u001b[0m\u001b[0;34m)\u001b[0m\u001b[0;34m\u001b[0m\u001b[0;34m\u001b[0m\u001b[0m\n\u001b[1;32m      5\u001b[0m \u001b[0mprint\u001b[0m\u001b[0;34m(\u001b[0m\u001b[0mer\u001b[0m\u001b[0;34m)\u001b[0m\u001b[0;34m\u001b[0m\u001b[0;34m\u001b[0m\u001b[0m\n",
      "\u001b[0;31mTypeError\u001b[0m: Can't instantiate abstract class RootMeanSquareError with abstract methods reset"
     ]
    }
   ],
   "source": [
    "rms = RootMeanSquareError()\n",
    "for i in range(10):\n",
    "    rms(i)\n",
    "er = rms.get_error_response()\n",
    "print(er)\n",
    "assert er == 5.338539126015656"
   ]
  },
  {
   "cell_type": "code",
   "execution_count": null,
   "metadata": {},
   "outputs": [],
   "source": [
    "er = RootSumSquaredError()\n",
    "te = TotalError(error_response=er)   \n",
    "print(te)"
   ]
  },
  {
   "cell_type": "code",
   "execution_count": null,
   "metadata": {},
   "outputs": [],
   "source": [
    "hpct = PCTHierarchy(1,1,error_collector=te)\n",
    "hpct.run(steps=5, verbose=True)"
   ]
  },
  {
   "cell_type": "code",
   "execution_count": null,
   "metadata": {},
   "outputs": [],
   "source": [
    "err=te.error()\n",
    "print(err)"
   ]
  },
  {
   "cell_type": "code",
   "execution_count": null,
   "metadata": {},
   "outputs": [],
   "source": [
    "et = ErrorFactory.createError('RootSumSquaredError')   \n",
    "et(102)\n",
    "print(et.get_error_response())\n",
    "\n",
    "ec = ErrorFactory.createError('TotalError')   \n",
    "ec.set_limit(100)\n",
    "ec.set_error_response(et)\n",
    "print(ec.error())"
   ]
  },
  {
   "cell_type": "code",
   "execution_count": null,
   "metadata": {},
   "outputs": [],
   "source": [
    "ec = BaseErrorCollector.collector( 'RootMeanSquareError','InputsError', 10)"
   ]
  },
  {
   "cell_type": "code",
   "execution_count": null,
   "metadata": {},
   "outputs": [],
   "source": [
    "ec.reset()"
   ]
  },
  {
   "cell_type": "code",
   "execution_count": null,
   "metadata": {},
   "outputs": [],
   "source": []
  }
 ],
 "metadata": {
  "kernelspec": {
   "display_name": "Python 3",
   "language": "python",
   "name": "python3"
  }
 },
 "nbformat": 4,
 "nbformat_minor": 2
}
