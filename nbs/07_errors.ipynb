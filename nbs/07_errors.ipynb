{
 "cells": [
  {
   "cell_type": "raw",
   "metadata": {},
   "source": [
    "---\n",
    "description: Types of error response of a percectual control hierarchy.\n",
    "output-file: errors.html\n",
    "title: Errors\n",
    "\n",
    "---\n",
    "\n"
   ]
  },
  {
   "cell_type": "code",
   "execution_count": null,
   "metadata": {},
   "outputs": [],
   "source": [
    "%load_ext autoreload\n",
    "%autoreload 2"
   ]
  },
  {
   "cell_type": "code",
   "execution_count": null,
   "metadata": {},
   "outputs": [],
   "source": [
    "#| default_exp errors"
   ]
  },
  {
   "cell_type": "code",
   "execution_count": null,
   "metadata": {},
   "outputs": [],
   "source": [
    "#| export\n",
    "import numpy as np\n",
    "import math\n",
    "from abc import ABC, abstractmethod\n"
   ]
  },
  {
   "cell_type": "code",
   "execution_count": null,
   "metadata": {},
   "outputs": [],
   "source": [
    "#| export\n",
    "from pct.functions import IndexedParameter\n",
    "from pct.putils import smooth\n",
    "# from pct.hierarchy import PCTHierarchy\n"
   ]
  },
  {
   "cell_type": "code",
   "execution_count": null,
   "metadata": {},
   "outputs": [],
   "source": [
    "from unittest import TestCase"
   ]
  },
  {
   "cell_type": "markdown",
   "metadata": {},
   "source": [
    "# ErrorResponse - aggregation"
   ]
  },
  {
   "cell_type": "markdown",
   "metadata": {},
   "source": [
    "## BaseErrorType"
   ]
  },
  {
   "cell_type": "code",
   "execution_count": null,
   "metadata": {},
   "outputs": [],
   "source": [
    "#| export\n",
    "class BaseErrorType(ABC):\n",
    "    \"Base class of a type error response. This class is not used direclty by developers, but defines the interface common to all.\"\n",
    "    def __init__(self, flip_error_response=False):\n",
    "        self.factor=1\n",
    "        if flip_error_response:\n",
    "            self.factor=-1\n",
    "        self.error_response=None\n",
    "        self.terminate = False\n",
    "        \n",
    "    def __repr__(self):\n",
    "        if self.error_response == None:\n",
    "            return f': {self.__class__.__name__} error_response:{self.error_response}'\n",
    "        return f': {self.__class__.__name__} error_response:{self.error_response * self.factor}'\n",
    "\n",
    "        \n",
    "    @abstractmethod\n",
    "    def __call__(self):\n",
    "        pass\n",
    "    \n",
    "    @abstractmethod\n",
    "    def reset(self):\n",
    "        self.error_response=None\n",
    "        self.terminate = False\n",
    "\n",
    "    def set_properties(self, properties):\n",
    "        for property_name, property_value in properties.items():\n",
    "            setattr(self, property_name, property_value)\n",
    "\n",
    "    # def set_property(self, property_name, property_value):\n",
    "    #     exec(f'self.{property_name} = {property_value}')\n",
    "        \n",
    "    def get_error_response(self):\n",
    "        return self.error_response * self.factor\n",
    "    \n",
    "    def set_error_response(self, error):\n",
    "        self.error_response = error * self.factor\n",
    "\n",
    "    def is_terminated(self):\n",
    "        return self.terminate    "
   ]
  },
  {
   "cell_type": "markdown",
   "metadata": {},
   "source": [
    "## RootSumSquaredError"
   ]
  },
  {
   "cell_type": "code",
   "execution_count": null,
   "metadata": {},
   "outputs": [],
   "source": [
    "#| export\n",
    "class RootSumSquaredError(BaseErrorType):\n",
    "    \"The square root of the sum of the square of the errors.\"\n",
    "    def __init__(self, flip_error_response=False):\n",
    "        super().__init__(flip_error_response=flip_error_response)\n",
    "        self.sum=0\n",
    "        \n",
    "    def __call__(self, error):\n",
    "        self.sum+=error*error\n",
    "        self.error_response=math.sqrt(self.sum)\n",
    "\n",
    "    def reset(self):\n",
    "        super().reset()\n",
    "        self.sum=0\n",
    "        \n",
    "    class Factory:\n",
    "        def create(self, flip_error_response=False): return RootSumSquaredError(flip_error_response=flip_error_response)"
   ]
  },
  {
   "cell_type": "markdown",
   "metadata": {},
   "source": [
    "## RootMeanSquareError"
   ]
  },
  {
   "cell_type": "code",
   "execution_count": null,
   "metadata": {},
   "outputs": [],
   "source": [
    "#| export\n",
    "class RootMeanSquareError(BaseErrorType):\n",
    "    \"The square root of the mean of the sum of the square of the errors.\"\n",
    "    def __init__(self, flip_error_response=False):\n",
    "        super().__init__(flip_error_response=flip_error_response)\n",
    "        self.reset()\n",
    "        \n",
    "    def __call__(self, error):\n",
    "        self.num+=1\n",
    "        # Compute the Euclidean norm of the error array\n",
    "        norms = np.linalg.norm(error)\n",
    "        self.sum+=norms**2\n",
    "        self.error_response=np.sqrt(self.sum/self.num)\n",
    "        pass\n",
    "        # self.sum+=error*error\n",
    "        # self.error_response=math.sqrt(self.sum/self.num)\n",
    "\n",
    "    def reset(self):\n",
    "        super().reset()\n",
    "        self.sum=0\n",
    "        self.num=0\n",
    "        \n",
    "    class Factory:\n",
    "        def create(self, flip_error_response=False): return RootMeanSquareError(flip_error_response=flip_error_response)"
   ]
  },
  {
   "cell_type": "markdown",
   "metadata": {},
   "source": [
    "## SummedError"
   ]
  },
  {
   "cell_type": "code",
   "execution_count": null,
   "metadata": {},
   "outputs": [],
   "source": [
    "#| export\n",
    "class SummedError(BaseErrorType):\n",
    "    \"Sum of all errors.\"\n",
    "    def __init__(self, flip_error_response=False):\n",
    "        super().__init__(flip_error_response=flip_error_response)\n",
    "        self.reset()\n",
    "        \n",
    "    def __call__(self, error):\n",
    "        self.sum+=error\n",
    "        self.error_response=self.sum\n",
    "\n",
    "    def reset(self):\n",
    "        super().reset()\n",
    "        self.sum=0\n",
    "        \n",
    "    class Factory:\n",
    "        def create(self, flip_error_response=False): return SummedError(flip_error_response=flip_error_response)"
   ]
  },
  {
   "cell_type": "markdown",
   "metadata": {},
   "source": [
    "## CurrentError"
   ]
  },
  {
   "cell_type": "markdown",
   "metadata": {},
   "source": []
  },
  {
   "cell_type": "code",
   "execution_count": null,
   "metadata": {},
   "outputs": [],
   "source": [
    "#| export\n",
    "class CurrentError(BaseErrorType):\n",
    "    \"The current error, rather than a function of the historical values.\"\n",
    "    def __init__(self, flip_error_response=False):\n",
    "        super().__init__(flip_error_response=flip_error_response)\n",
    "    \n",
    "    def __call__(self, error):\n",
    "        self.error_response=error\n",
    "\n",
    "    def reset(self):\n",
    "        super().reset()\n",
    "\n",
    "    class Factory:\n",
    "        def create(self, flip_error_response=False): return CurrentError(flip_error_response=flip_error_response)"
   ]
  },
  {
   "cell_type": "markdown",
   "metadata": {},
   "source": [
    "## CurrentRMSError"
   ]
  },
  {
   "cell_type": "code",
   "execution_count": null,
   "metadata": {},
   "outputs": [],
   "source": [
    "#| export\n",
    "class CurrentRMSError(BaseErrorType):\n",
    "    \"The current RMS error, rather than a function of the historical values.\"\n",
    "    def __init__(self, flip_error_response=False):\n",
    "        super().__init__(flip_error_response=flip_error_response)\n",
    "    \n",
    "    def __call__(self, errors):\n",
    "        self.error_response = np.sqrt(np.mean(np.square(errors)))\n",
    "\n",
    "\n",
    "    def reset(self):\n",
    "        super().reset()\n",
    "\n",
    "    class Factory:\n",
    "        def create(self, flip_error_response=False): return CurrentRMSError(flip_error_response=flip_error_response)"
   ]
  },
  {
   "cell_type": "markdown",
   "metadata": {},
   "source": [
    "## SmoothError"
   ]
  },
  {
   "cell_type": "code",
   "execution_count": null,
   "metadata": {},
   "outputs": [],
   "source": [
    "#| export\n",
    "class SmoothError(BaseErrorType):\n",
    "    \"The exponential smoothed value of the error.\"\n",
    "    def __init__(self, flip_error_response=False):\n",
    "        super().__init__(flip_error_response=flip_error_response)        \n",
    "        self.smooth_factor = None\n",
    "        self.error_response = 0\n",
    "    \n",
    "    def set_properties(self, properties):\n",
    "        if 'smooth_factor' in properties:\n",
    "            super().set_properties(properties)\n",
    "\n",
    "    def __call__(self, error):\n",
    "        # Compute the Euclidean norm of the error array\n",
    "        norm = np.linalg.norm(error)\n",
    "        self.error_response=smooth(norm, self.error_response, self.smooth_factor)\n",
    "        pass\n",
    "        \n",
    "    def reset(self):\n",
    "        self.error_response = 0\n",
    "\n",
    "    class Factory:\n",
    "        def create(self, flip_error_response=False): return SmoothError(flip_error_response=flip_error_response)"
   ]
  },
  {
   "cell_type": "markdown",
   "metadata": {},
   "source": [
    "## MovingSumError"
   ]
  },
  {
   "cell_type": "code",
   "execution_count": null,
   "metadata": {},
   "outputs": [],
   "source": [
    "#| export\n",
    "class MovingSumError(BaseErrorType):\n",
    "    \"The moving sum of the error.\"\n",
    "    def __init__(self, flip_error_response=False):\n",
    "        super().__init__(flip_error_response=flip_error_response)        \n",
    "        self.error_response = 0\n",
    "        self.history = None\n",
    "        self.initial = None\n",
    "\n",
    "    def set_properties(self, properties):\n",
    "        if 'history' in properties:\n",
    "            super().set_properties(properties)\n",
    "    \n",
    "    def __call__(self, error):\n",
    "        self.boxcar.append(error)\n",
    "        self.boxcar.pop(0)\n",
    "        self.error_response=sum(self.boxcar)\n",
    "        # self.terminate = ListChecker.check_list_unchanged(self.boxcar)\n",
    "        \n",
    "\n",
    "    def reset(self):\n",
    "        # self.terminate = False\n",
    "        # self.error_response = 0\n",
    "        self.boxcar = [self.initial for i in range(1, self.history+1)]\n",
    "        self.error_response=sum(self.boxcar)\n",
    "\n",
    "    class Factory:\n",
    "        def create(self, flip_error_response=False): return MovingSumError(flip_error_response=flip_error_response)"
   ]
  },
  {
   "cell_type": "markdown",
   "metadata": {},
   "source": [
    "## MovingAverageError"
   ]
  },
  {
   "cell_type": "code",
   "execution_count": null,
   "metadata": {},
   "outputs": [],
   "source": [
    "#| export\n",
    "class MovingAverageError(BaseErrorType):\n",
    "    \"The moving average of the error.\"\n",
    "    def __init__(self, flip_error_response=False):\n",
    "        super().__init__(flip_error_response=flip_error_response)        \n",
    "        self.error_response = 0\n",
    "        self.history = None\n",
    "        self.initial = None\n",
    "\n",
    "    def set_properties(self, properties):\n",
    "        if 'history' in properties:\n",
    "            super().set_properties(properties)\n",
    "\n",
    "    def __call__(self, error):\n",
    "        self.boxcar.append(error)\n",
    "        self.boxcar.pop(0)\n",
    "        self.error_response=sum(self.boxcar)/self.history\n",
    "        \n",
    "    def reset(self):\n",
    "        # self.error_response = 0\n",
    "        self.boxcar = [self.initial for i in range(1, self.history+1)]\n",
    "        self.error_response=sum(self.boxcar)/self.history\n",
    "\n",
    "    class Factory:\n",
    "        def create(self, flip_error_response=False): return MovingAverageError(flip_error_response=flip_error_response)"
   ]
  },
  {
   "cell_type": "markdown",
   "metadata": {},
   "source": [
    "## WelfordVarianceError"
   ]
  },
  {
   "cell_type": "code",
   "execution_count": null,
   "metadata": {},
   "outputs": [],
   "source": [
    "#| export\n",
    "class WelfordVarianceError(BaseErrorType):\n",
    "    \"\"\"\n",
    "    Welford's online algorithm for computing sample variance.\n",
    "    \n",
    "    This numerically stable algorithm computes the running variance without \n",
    "    storing all previous values. It's particularly useful for streaming data\n",
    "    and avoids numerical precision issues that can occur with naive variance\n",
    "    calculations.\n",
    "    \n",
    "    The algorithm maintains:\n",
    "    - count: number of observations\n",
    "    - mean: running mean\n",
    "    - M2: sum of squared differences from the mean\n",
    "    \n",
    "    Variance Types:\n",
    "    - Sample variance: M2 / (count - 1) - Uses Bessel's correction (N-1) to provide\n",
    "      an unbiased estimate when the data represents a sample from a larger population.\n",
    "      This accounts for the loss of one degree of freedom from estimating the mean.\n",
    "    - Population variance: M2 / count - Divides by N when the data represents the\n",
    "      entire population of interest, not just a sample.\n",
    "    \n",
    "    The choice depends on whether your data is:\n",
    "    - A sample from a larger population → use sample variance (default)\n",
    "    - The complete population → use population variance\n",
    "    \"\"\"\n",
    "    def __init__(self, flip_error_response=False, population_variance=False):\n",
    "        super().__init__(flip_error_response=flip_error_response)\n",
    "        self.population_variance = population_variance\n",
    "        self.reset()\n",
    "        \n",
    "    def __call__(self, error):\n",
    "        # Handle both scalar and array inputs\n",
    "        if hasattr(error, '__iter__') and not isinstance(error, str):\n",
    "            # For arrays, compute the Euclidean norm first\n",
    "            value = np.linalg.norm(error)\n",
    "        else:\n",
    "            value = error\n",
    "            \n",
    "        self.count += 1\n",
    "        delta = value - self.mean\n",
    "        self.mean += delta / self.count\n",
    "        delta2 = value - self.mean\n",
    "        self.M2 += delta * delta2\n",
    "        \n",
    "        # Compute variance\n",
    "        if self.count < 2:\n",
    "            self.error_response = 0.0\n",
    "        else:\n",
    "            if self.population_variance:\n",
    "                # Population variance: divide by N\n",
    "                self.error_response = self.M2 / self.count\n",
    "            else:\n",
    "                # Sample variance: divide by N-1 (Bessel's correction)\n",
    "                self.error_response = self.M2 / (self.count - 1)\n",
    "\n",
    "    def reset(self):\n",
    "        super().reset()\n",
    "        self.count = 0\n",
    "        self.mean = 0.0\n",
    "        self.M2 = 0.0\n",
    "        self.error_response = 0.0\n",
    "        \n",
    "    def get_mean(self):\n",
    "        \"\"\"Return the current running mean.\"\"\"\n",
    "        return self.mean\n",
    "    \n",
    "    def get_standard_deviation(self):\n",
    "        \"\"\"Return the current standard deviation.\"\"\"\n",
    "        return math.sqrt(self.error_response) if self.error_response >= 0 else 0.0\n",
    "    \n",
    "    def get_sample_size(self):\n",
    "        \"\"\"Return the number of observations processed.\"\"\"\n",
    "        return self.count\n",
    "        \n",
    "    class Factory:\n",
    "        def create(self, flip_error_response=False): return WelfordVarianceError(flip_error_response=flip_error_response)"
   ]
  },
  {
   "cell_type": "markdown",
   "metadata": {},
   "source": [
    "## ErrorResponseFactory"
   ]
  },
  {
   "cell_type": "code",
   "execution_count": null,
   "metadata": {},
   "outputs": [],
   "source": [
    "#| export\n",
    "class ErrorResponseFactory:\n",
    "    factories = {}\n",
    "    def addResponseFactory(id, errorResponseFactory):\n",
    "        ErrorResponseFactory.factories.put[id] = errorResponseFactory\n",
    "    addResponseFactory = staticmethod(addResponseFactory)\n",
    "    # A Template Method:\n",
    "    def createErrorResponse(id, flip_error_response=False):\n",
    "        if not ErrorResponseFactory.factories.__contains__(id):\n",
    "            ErrorResponseFactory.factories[id] = \\\n",
    "              eval(id + '.Factory()')\n",
    "        return ErrorResponseFactory.factories[id].create(flip_error_response=flip_error_response)\n",
    "    createErrorResponse = staticmethod(createErrorResponse)"
   ]
  },
  {
   "cell_type": "markdown",
   "metadata": {},
   "source": [
    "# Error collection - from each iteration "
   ]
  },
  {
   "cell_type": "markdown",
   "metadata": {},
   "source": [
    "## ErrorCollectorFactory"
   ]
  },
  {
   "cell_type": "code",
   "execution_count": null,
   "metadata": {},
   "outputs": [],
   "source": [
    "#| export\n",
    "class ErrorCollectorFactory:\n",
    "    factories = {}\n",
    "    def addCollectorFactory(id, errorCollectorFactory):\n",
    "        ErrorCollectorFactory.factories.put[id] = errorCollectorFactory\n",
    "    addCollectorFactory = staticmethod(addCollectorFactory)\n",
    "    # A Template Method:\n",
    "    def createErrorCollector(id):\n",
    "        if not ErrorCollectorFactory.factories.__contains__(id):\n",
    "            ErrorCollectorFactory.factories[id] = \\\n",
    "              eval(id + '.Factory()')\n",
    "        return ErrorCollectorFactory.factories[id].create()\n",
    "    createErrorCollector = staticmethod(createErrorCollector)"
   ]
  },
  {
   "cell_type": "markdown",
   "metadata": {},
   "source": [
    "## BaseErrorCollector"
   ]
  },
  {
   "cell_type": "code",
   "execution_count": null,
   "metadata": {},
   "outputs": [],
   "source": [
    "#| export\n",
    "class BaseErrorCollector(ABC):\n",
    "    \"Base class of an error collector. This class is not used direclty by developers, but defines the interface common to all.\"\n",
    "    'Parameters:'\n",
    "    'limit - the limit of valid error response'\n",
    "    'error_response - the type of error response'\n",
    "    \n",
    "    def __init__(self, limit,error_response, min=True):\n",
    "        self.limit=limit\n",
    "        self.limit_exceeded=False\n",
    "        self.error_response=error_response\n",
    "        self.min=min\n",
    "\n",
    "        \n",
    "    def __repr__(self):\n",
    "        return f'{self.__class__.__name__} limit:{self.limit}, limit_exceeded:{self.limit_exceeded}, {self.error_response.__repr__()}'\n",
    "        \n",
    "    def set_min(self, min):\n",
    "        self.min=min\n",
    "\n",
    "    def set_limit(self, limit):\n",
    "        self.limit=limit\n",
    "        self.limit_exceeded=False\n",
    "\n",
    "    def set_error_response(self, error_response):\n",
    "        self.error_response=error_response\n",
    "    \n",
    "    def get_error_response(self):\n",
    "        return self.error_response\n",
    "\n",
    "    def reset(self):\n",
    "        self.error_response.reset()\n",
    "        self.limit_exceeded=False\n",
    "\n",
    "    def set_properties(self, properties):\n",
    "        for property_name, property_value in properties.items():\n",
    "            setattr(self, property_name, property_value)\n",
    "\n",
    "    def error(self):\n",
    "        return self.error_response.get_error_response()\n",
    "\n",
    "    def override_value(self):\n",
    "        if self.limit is not None:\n",
    "            self.error_response.set_error_response(self.error_response.get_error_response()*abs(self.limit))\n",
    "    \n",
    "    def add_error_data(self, data=[]):\n",
    "        for datum in data:\n",
    "            self.error_response(datum)\n",
    "\n",
    "    def add_error_data_array(self, data=[]):\n",
    "        self.error_response(data)\n",
    "\n",
    "    def is_terminated(self):            \n",
    "        if self.limit_exceeded:\n",
    "            return True\n",
    "        if self.error_response.is_terminated():\n",
    "            return True  \n",
    "        return False\n",
    "\n",
    "    @classmethod\n",
    "    def collector(cls, error_response_type, error_collector_type, limit, min=True, properties=None, flip_error_response=False):\n",
    "        error_response = ErrorResponseFactory.createErrorResponse(error_response_type, flip_error_response=flip_error_response)   \n",
    "        error_collector = ErrorCollectorFactory.createErrorCollector(error_collector_type)   \n",
    "        error_collector.set_limit(limit)\n",
    "        error_collector.set_min(min)\n",
    "        \n",
    "        if properties:\n",
    "            if 'error_response' in properties:\n",
    "                error_response.set_properties(properties['error_response'])\n",
    "            if 'error_collector' in properties:     \n",
    "                error_collector.set_properties(properties['error_collector'])   \n",
    "\n",
    "        # if properties != None:\n",
    "        #     for property in properties:\n",
    "        #         if error_response_type == 'SmoothError' and property[0] == 'smooth_factor':\n",
    "        #             error_response.set_property(property[0], property[1])\n",
    "        #             continue\n",
    "        #         if error_response_type == 'MovingSumError' or error_response_type == 'MovingAverageError':\n",
    "        #             error_response.set_property(property[0], property[1])\n",
    "        #             continue\n",
    "        #         if error_collector_type == 'ReferencedInputsError' and property[0] == 'referenced_inputs':\n",
    "        #             error_collector.set_reference_properties(property[1])\n",
    "        #             continue\n",
    "        \n",
    "        error_response.reset()\n",
    "        error_collector.set_error_response(error_response)\n",
    "        \n",
    "        return error_collector\n",
    "    \n",
    "    def check_limit(self):\n",
    "        if self.limit is None:\n",
    "            raise Exception(f': {self.__class__.__name__} requires a limit value')\n",
    "\n",
    "        if self.min is None:\n",
    "            raise Exception(f': {self.__class__.__name__} min must be True or False not None')\n",
    "\n",
    "        if self.min:\n",
    "            if self.error_response.get_error_response() > self.limit:\n",
    "                self.limit_exceeded=True\n",
    "        else:\n",
    "            if self.error_response.get_error_response() < self.limit:\n",
    "                self.limit_exceeded=True\n",
    "        \n",
    "        return self.limit_exceeded"
   ]
  },
  {
   "cell_type": "markdown",
   "metadata": {},
   "source": [
    "## TotalError"
   ]
  },
  {
   "cell_type": "code",
   "execution_count": null,
   "metadata": {},
   "outputs": [],
   "source": [
    "#| export\n",
    "class TotalError(BaseErrorCollector):\n",
    "    \"A class to collect all the errors of the control system run.\"            \n",
    "    def __init__(self, limit=None, error_response=None, min=None, **cargs):\n",
    "        super().__init__(limit, error_response, min)\n",
    "\n",
    "    def add_data(self, hpct=None):\n",
    "        for level in range(len(hpct.hierarchy)):\n",
    "             for col in range(len(hpct.hierarchy[level])):\n",
    "                node  = hpct.hierarchy[level][col]\n",
    "                self.add_error_data( [node.get_function(\"comparator\").get_value()])\n",
    "                if self.check_limit():\n",
    "#                 if self.error_response.get_error_response() > self.limit:\n",
    "#                     self.limit_exceeded=True\n",
    "                    return\n",
    "    class Factory:\n",
    "        def create(self): return TotalError()"
   ]
  },
  {
   "cell_type": "markdown",
   "metadata": {},
   "source": [
    "## TopError"
   ]
  },
  {
   "cell_type": "code",
   "execution_count": null,
   "metadata": {},
   "outputs": [],
   "source": [
    "#| export\n",
    "class TopError(BaseErrorCollector):\n",
    "    \"A class to collect all the errors of the top-level nodes.\"            \n",
    "    def __init__(self, limit=None, error_response=None, min=None, **cargs):\n",
    "        super().__init__(limit, error_response, min)\n",
    "\n",
    "    def add_data(self, hpct=None):\n",
    "        level = len(hpct.hierarchy)-1\n",
    "            \n",
    "        for col in range(len(hpct.hierarchy[level])):\n",
    "            node  = hpct.hierarchy[level][col]\n",
    "            self.add_error_data( [node.get_function(\"comparator\").get_value()])\n",
    "            if self.check_limit():\n",
    "#             if self.error_response.get_error_response() > self.limit:\n",
    "#                 self.limit_exceeded=True\n",
    "                return\n",
    "            \n",
    "    class Factory:\n",
    "        def create(self): return TopError()"
   ]
  },
  {
   "cell_type": "markdown",
   "metadata": {},
   "source": [
    "## InputsError"
   ]
  },
  {
   "cell_type": "code",
   "execution_count": null,
   "metadata": {},
   "outputs": [],
   "source": [
    "#| export\n",
    "class InputsError(BaseErrorCollector):\n",
    "    \"A class to collect the values of the input values.\"            \n",
    "    def __init__(self, limit=None, error_response=None, min=None, **cargs):\n",
    "        super().__init__(limit, error_response, min)\n",
    "        self.indexes = []\n",
    "\n",
    "    def set_properties(self, properties):\n",
    "        self.indexes = properties.get('indexes', [])\n",
    "\n",
    "    def add_data(self, hpct=None):\n",
    "        data = []\n",
    "        pre = hpct.get_preprocessor()\n",
    "        for i, func in enumerate(pre[1:], start=1):\n",
    "            if len(self.indexes) > 0 :\n",
    "                if (i - 1) in self.indexes:\n",
    "                    data.append(func.get_value())\n",
    "            else:\n",
    "                data.append(func.get_value())\n",
    "        self.add_error_data_array(data)\n",
    "        if self.limit and self.check_limit():\n",
    "            return\n",
    "        \n",
    "    class Factory:\n",
    "        def create(self): return InputsError()"
   ]
  },
  {
   "cell_type": "markdown",
   "metadata": {},
   "source": [
    "## ReferencedInputsError"
   ]
  },
  {
   "cell_type": "code",
   "execution_count": null,
   "metadata": {},
   "outputs": [],
   "source": [
    "#| export\n",
    "class ReferencedInputsError(BaseErrorCollector):\n",
    "    \"A class to collect the values of the input values subtracted from reference values.\"                        \n",
    "    def __init__(self, limit=None, error_response=None, min=None, **cargs):\n",
    "        super().__init__(limit, error_response, min)\n",
    "        self.reference_values=None\n",
    "        self.input_indexes=None        \n",
    "        \n",
    "    def set_properties(self, properties):\n",
    "        ref_inputs = properties.get('referenced_inputs', {})\n",
    "        self.input_indexes = ref_inputs.get('indexes', [])\n",
    "        self.reference_values = ref_inputs.get('refs', [])\n",
    "        self.weights = ref_inputs.get('weights', [1] * len(self.reference_values))\n",
    "                \n",
    "\n",
    "    def add_data(self, hpct=None):\n",
    "        data = []\n",
    "        pre = hpct.get_preprocessor()\n",
    "        for ctr, index in enumerate(self.input_indexes):\n",
    "            func = pre[index+1] # add 1 as environment is 0\n",
    "            if isinstance(func, IndexedParameter):\n",
    "                data.append((self.reference_values[ctr]-func.get_value()) * self.weights[ctr])\n",
    "            else:\n",
    "                raise Exception(f'Function {func.get_name()} is not type IndexedParameter.')\n",
    "        self.add_error_data_array( data )\n",
    "        if self.limit and self.check_limit():\n",
    "#         if self.error_response.get_error_response() > self.limit:\n",
    "#             self.limit_exceeded=True\n",
    "            return\n",
    "\n",
    "    class Factory:\n",
    "        def create(self): return ReferencedInputsError()"
   ]
  },
  {
   "cell_type": "markdown",
   "metadata": {},
   "source": [
    "## RewardError"
   ]
  },
  {
   "cell_type": "code",
   "execution_count": null,
   "metadata": {},
   "outputs": [],
   "source": [
    "#| export\n",
    "class RewardError(BaseErrorCollector):\n",
    "    \"A class that collects the reward value of the control system run.\"            \n",
    "    def __init__(self, limit=None, error_response=None, min=None, **cargs):\n",
    "        super().__init__(limit, error_response, min)\n",
    "\n",
    "    def add_data(self, hpct=None):\n",
    "        data = []\n",
    "        pre = hpct.get_preprocessor()\n",
    "        data.append(pre[0].get_reward())\n",
    "        self.add_error_data( data )\n",
    "#         if self.check_limit():\n",
    "#             return\n",
    "    class Factory:\n",
    "        def create(self): return RewardError()"
   ]
  },
  {
   "cell_type": "markdown",
   "metadata": {},
   "source": [
    "## FitnessError"
   ]
  },
  {
   "cell_type": "code",
   "execution_count": null,
   "metadata": {},
   "outputs": [],
   "source": [
    "#| export\n",
    "class FitnessError(BaseErrorCollector):\n",
    "    \"A class that collects the fitness value of the control system run.\"            \n",
    "    def __init__(self, limit=None, error_response=None, min=None, **cargs):\n",
    "        super().__init__(limit, error_response, min)\n",
    "\n",
    "    def add_data(self, hpct=None):\n",
    "        data = []\n",
    "        pre = hpct.get_preprocessor()\n",
    "        data.append(pre[0].get_fitness())\n",
    "        self.add_error_data( data )\n",
    "        self.check_limit()\n",
    "\n",
    "    class Factory:\n",
    "        def create(self): return FitnessError()"
   ]
  },
  {
   "cell_type": "markdown",
   "metadata": {},
   "source": []
  },
  {
   "cell_type": "markdown",
   "metadata": {},
   "source": [
    "# Examples"
   ]
  },
  {
   "cell_type": "code",
   "execution_count": null,
   "metadata": {},
   "outputs": [
    {
     "name": "stdout",
     "output_type": "stream",
     "text": [
      "5.338539126015656\n"
     ]
    }
   ],
   "source": [
    "rms = RootMeanSquareError()\n",
    "for i in range(10):\n",
    "    rms([i])\n",
    "er = rms.get_error_response()\n",
    "print(er)\n",
    "TestCase().assertAlmostEqual(er, 5.338539126015656, places=6)\n"
   ]
  },
  {
   "cell_type": "code",
   "execution_count": null,
   "metadata": {},
   "outputs": [
    {
     "name": "stdout",
     "output_type": "stream",
     "text": [
      "TotalError limit:250, limit_exceeded:False, : RootSumSquaredError error_response:2.23606797749979\n",
      "2.23606797749979\n"
     ]
    }
   ],
   "source": [
    "rsse = RootSumSquaredError()\n",
    "te = TotalError(error_response=rsse, limit=250,min=True)   \n",
    "te.add_error_data([1, 2])\n",
    "print(te)\n",
    "err=te.error()\n",
    "print(err)\n",
    "TestCase().assertAlmostEqual(err, 2.23606797749979, places=6)\n"
   ]
  },
  {
   "cell_type": "code",
   "execution_count": null,
   "metadata": {},
   "outputs": [],
   "source": []
  },
  {
   "cell_type": "code",
   "execution_count": null,
   "metadata": {},
   "outputs": [],
   "source": []
  },
  {
   "cell_type": "code",
   "execution_count": null,
   "metadata": {},
   "outputs": [],
   "source": []
  },
  {
   "cell_type": "code",
   "execution_count": null,
   "metadata": {},
   "outputs": [
    {
     "name": "stdout",
     "output_type": "stream",
     "text": [
      "102.0\n",
      "102.0\n"
     ]
    }
   ],
   "source": [
    "et = ErrorResponseFactory.createErrorResponse('RootSumSquaredError')   \n",
    "et(102)\n",
    "print(et.get_error_response())\n",
    "\n",
    "iprms = ErrorCollectorFactory.createErrorCollector('TotalError')   \n",
    "iprms.set_limit(100)\n",
    "iprms.set_error_response(et)\n",
    "print(iprms.error())"
   ]
  },
  {
   "cell_type": "code",
   "execution_count": null,
   "metadata": {},
   "outputs": [],
   "source": [
    "iprms = BaseErrorCollector.collector( 'RootMeanSquareError','InputsError', 10, flip_error_response=False, min=False)"
   ]
  },
  {
   "cell_type": "code",
   "execution_count": null,
   "metadata": {},
   "outputs": [
    {
     "name": "stdout",
     "output_type": "stream",
     "text": [
      "9.092121131323903\n",
      "InputsError limit:10, limit_exceeded:False, : RootMeanSquareError error_response:9.092121131323903\n"
     ]
    }
   ],
   "source": [
    "\n",
    "time_series_example = np.array([[1, 2, 3],\n",
    "                                [4, 5, 6],\n",
    "                                [7, 8, 9],\n",
    "                                [10, 11, 12],\n",
    "                                [13, 14, 15]])\n",
    "for ts in time_series_example:\n",
    "    iprms.add_error_data(ts)\n",
    "erms = iprms.error()\n",
    "print(erms)\n",
    "print(iprms)\n",
    "TestCase().assertAlmostEqual(erms, 9.092121131323903, places=6)"
   ]
  },
  {
   "cell_type": "code",
   "execution_count": null,
   "metadata": {},
   "outputs": [
    {
     "name": "stdout",
     "output_type": "stream",
     "text": [
      "InputsError limit:10, limit_exceeded:False, : RootMeanSquareError error_response:None\n"
     ]
    }
   ],
   "source": [
    "iprms.reset()\n",
    "print(iprms)"
   ]
  },
  {
   "cell_type": "code",
   "execution_count": null,
   "metadata": {},
   "outputs": [
    {
     "name": "stdout",
     "output_type": "stream",
     "text": [
      "15.748015748023622\n",
      "InputsError limit:10, limit_exceeded:False, : RootMeanSquareError error_response:15.748015748023622\n",
      "\n",
      "InputsError limit:10, limit_exceeded:False, : RootMeanSquareError error_response:15.748015748023622\n"
     ]
    }
   ],
   "source": [
    "iprms2 = BaseErrorCollector.collector( 'RootMeanSquareError','InputsError', 10, flip_error_response=False, min=False)\n",
    "time_series_example2 = np.array([[1, 2, 3],\n",
    "                                [4, 5, 6],\n",
    "                                [7, 8, 9],\n",
    "                                [10, 11, 12],\n",
    "                                [13, 14, 15]])\n",
    "for ts in time_series_example2:\n",
    "    iprms2.add_error_data_array(ts)\n",
    "erms2 = iprms2.error()\n",
    "print(erms2)\n",
    "print(iprms2)\n",
    "TestCase().assertAlmostEqual(erms2, 15.748015748023622, places=6)"
   ]
  },
  {
   "cell_type": "code",
   "execution_count": null,
   "metadata": {},
   "outputs": [
    {
     "name": "stdout",
     "output_type": "stream",
     "text": [
      "4.123105625617661\n",
      "InputsError limit:10, limit_exceeded:False, : RootMeanSquareError error_response:4.123105625617661\n",
      "\n",
      "InputsError limit:10, limit_exceeded:False, : RootMeanSquareError error_response:4.123105625617661\n"
     ]
    }
   ],
   "source": [
    "iprms1 = BaseErrorCollector.collector( 'RootMeanSquareError','InputsError', 10, flip_error_response=False, min=False)\n",
    "iprms1.add_error_data([3])\n",
    "iprms1.add_error_data([5])\n",
    "erms1 = iprms1.error()\n",
    "print(erms1)\n",
    "print(iprms1)\n",
    "TestCase().assertAlmostEqual(erms1, 4.123105625617661, places=6)"
   ]
  },
  {
   "cell_type": "code",
   "execution_count": null,
   "metadata": {},
   "outputs": [
    {
     "name": "stdout",
     "output_type": "stream",
     "text": [
      "5.066228051190222\n",
      "InputsError limit:10, limit_exceeded:False, : CurrentRMSError error_response:5.066228051190222\n"
     ]
    }
   ],
   "source": [
    "ip_curr_rms = BaseErrorCollector.collector( 'CurrentRMSError','InputsError', 10, flip_error_response=False, min=False)\n",
    "data = [4, 5, 6]\n",
    "ip_curr_rms.add_error_data_array(data)\n",
    "rms = ip_curr_rms.error()\n",
    "print(rms)\n",
    "print(ip_curr_rms)\n",
    "TestCase().assertAlmostEqual(rms, 5.066228051190222, places=6)"
   ]
  },
  {
   "cell_type": "code",
   "execution_count": null,
   "metadata": {},
   "outputs": [
    {
     "name": "stdout",
     "output_type": "stream",
     "text": [
      "15.748015748023622\n",
      "ReferencedInputsError limit:10, limit_exceeded:False, : RootMeanSquareError error_response:15.748015748023622\n"
     ]
    }
   ],
   "source": [
    "refins_rms = BaseErrorCollector.collector( 'RootMeanSquareError','ReferencedInputsError', 10, flip_error_response=False, min=False)\n",
    "time_series1 = np.array([[1, 2, 3],\n",
    "                                [4, 5, 6],\n",
    "                                [7, 8, 9],\n",
    "                                [10, 11, 12],\n",
    "                                [13, 14, 15]])\n",
    "for ts in time_series1:\n",
    "    refins_rms.add_error_data_array(ts)\n",
    "erms = refins_rms.error()\n",
    "print(erms)\n",
    "print(refins_rms)\n",
    "TestCase().assertAlmostEqual(erms, 15.748015748023622, places=6)"
   ]
  },
  {
   "cell_type": "code",
   "execution_count": null,
   "metadata": {},
   "outputs": [
    {
     "name": "stdout",
     "output_type": "stream",
     "text": [
      "7.853020188851838\n",
      "InputsError limit:10, limit_exceeded:False, : SmoothError error_response:7.853020188851838\n"
     ]
    }
   ],
   "source": [
    "ins_sm = BaseErrorCollector.collector( 'SmoothError','InputsError', 10, flip_error_response=False, min=False, properties={'error_response': {'smooth_factor': 0.9}})\n",
    "time_series1 = np.array([[1, 2, 3],\n",
    "                                [4, 5, 6],\n",
    "                                [7, 8, 9],\n",
    "                                [10, 11, 12],\n",
    "                                [13, 14, 15]])\n",
    "for ts in time_series1:\n",
    "    ins_sm.add_error_data(ts)\n",
    "ersm = ins_sm.error()\n",
    "print(ersm)\n",
    "print(ins_sm)\n",
    "TestCase().assertAlmostEqual(ersm, 7.853020188851838, places=6)"
   ]
  },
  {
   "cell_type": "code",
   "execution_count": null,
   "metadata": {},
   "outputs": [
    {
     "name": "stdout",
     "output_type": "stream",
     "text": [
      "6.161823641446112\n",
      "InputsError limit:10, limit_exceeded:False, : SmoothError error_response:6.161823641446112\n"
     ]
    }
   ],
   "source": [
    "ins_sm1 = BaseErrorCollector.collector( 'SmoothError','InputsError', 10, flip_error_response=False, min=False, properties={'error_response': {'smooth_factor': 0.9}})\n",
    "time_series1 = np.array([[1, 2, 3],\n",
    "                                [4, 5, 6],\n",
    "                                [7, 8, 9],\n",
    "                                [10, 11, 12],\n",
    "                                [13, 14, 15]])\n",
    "for ts in time_series1:\n",
    "    ins_sm1.add_error_data_array(ts)\n",
    "ersm1 = ins_sm1.error()\n",
    "print(ersm1)\n",
    "print(ins_sm1)\n",
    "TestCase().assertAlmostEqual(ersm1, 6.161823641446112, places=6)"
   ]
  },
  {
   "cell_type": "code",
   "execution_count": null,
   "metadata": {},
   "outputs": [
    {
     "name": "stdout",
     "output_type": "stream",
     "text": [
      "103.0625\n",
      "InputsError limit:10, limit_exceeded:False, : SmoothError error_response:103.0625\n",
      "\n",
      "InputsError limit:10, limit_exceeded:False, : SmoothError error_response:103.0625\n"
     ]
    }
   ],
   "source": [
    "ins_sm2 = BaseErrorCollector.collector( 'SmoothError','InputsError', 10, flip_error_response=False, min=False, properties={'error_response': {'smooth_factor': 0.5}})\n",
    "error_response = ins_sm2.get_error_response()\n",
    "initial = 100\n",
    "error_response.set_error_response(initial)\n",
    "for i in range(5):\n",
    "    ins_sm2.add_error_data_array([initial+i])\n",
    "ersm1 = ins_sm2.error()\n",
    "print(ersm1)\n",
    "print(ins_sm2)\n",
    "TestCase().assertAlmostEqual(ersm1, 103.0625, places=6)"
   ]
  },
  {
   "cell_type": "code",
   "execution_count": null,
   "metadata": {},
   "outputs": [
    {
     "name": "stdout",
     "output_type": "stream",
     "text": [
      "[ 3.74165739  8.77496439 13.92838828 19.10497317 24.2899156 ]\n"
     ]
    }
   ],
   "source": [
    "time_series1 = np.array([[1, 2, 3],\n",
    "                                [4, 5, 6],\n",
    "                                [7, 8, 9],\n",
    "                                [10, 11, 12],\n",
    "                                [13, 14, 15]])\n",
    "norms = np.linalg.norm(time_series1, axis=1)\n",
    "print(norms)"
   ]
  },
  {
   "cell_type": "code",
   "execution_count": null,
   "metadata": {},
   "outputs": [
    {
     "name": "stdout",
     "output_type": "stream",
     "text": [
      "=== Welford's Variance Examples ===\n",
      "Processing data: [2, 4, 4, 4, 5, 5, 7, 9]\n",
      "Value: 2, Count: 1, Mean: 2.0000, Variance: 0.0000, StdDev: 0.0000\n",
      "Value: 4, Count: 2, Mean: 3.0000, Variance: 2.0000, StdDev: 1.4142\n",
      "Value: 4, Count: 3, Mean: 3.3333, Variance: 1.3333, StdDev: 1.1547\n",
      "Value: 4, Count: 4, Mean: 3.5000, Variance: 1.0000, StdDev: 1.0000\n",
      "Value: 5, Count: 5, Mean: 3.8000, Variance: 1.2000, StdDev: 1.0954\n",
      "Value: 5, Count: 6, Mean: 4.0000, Variance: 1.2000, StdDev: 1.0954\n",
      "Value: 7, Count: 7, Mean: 4.4286, Variance: 2.2857, StdDev: 1.5119\n",
      "Value: 9, Count: 8, Mean: 5.0000, Variance: 4.5714, StdDev: 2.1381\n",
      "\n",
      "NumPy verification:\n",
      "NumPy sample variance: 4.5714\n",
      "Welford sample variance: 4.5714\n",
      "NumPy mean: 5.0000\n",
      "Welford mean: 5.0000\n"
     ]
    }
   ],
   "source": [
    "# Example: Welford's Variance Algorithm\n",
    "print(\"=== Welford's Variance Examples ===\")\n",
    "\n",
    "# Test with simple data set\n",
    "data = [2, 4, 4, 4, 5, 5, 7, 9]\n",
    "welford = WelfordVarianceError()\n",
    "\n",
    "print(f\"Processing data: {data}\")\n",
    "for value in data:\n",
    "    welford(value)\n",
    "    print(f\"Value: {value}, Count: {welford.get_sample_size()}, Mean: {welford.get_mean():.4f}, Variance: {welford.get_error_response():.4f}, StdDev: {welford.get_standard_deviation():.4f}\")\n",
    "\n",
    "# Verify against NumPy\n",
    "np_var = np.var(data, ddof=1)  # Sample variance (ddof=1)\n",
    "np_mean = np.mean(data)\n",
    "print(f\"\\nNumPy verification:\")\n",
    "print(f\"NumPy sample variance: {np_var:.4f}\")\n",
    "print(f\"Welford sample variance: {welford.get_error_response():.4f}\")\n",
    "print(f\"NumPy mean: {np_mean:.4f}\")\n",
    "print(f\"Welford mean: {welford.get_mean():.4f}\")\n",
    "\n",
    "TestCase().assertAlmostEqual(welford.get_error_response(), np_var, places=6)\n",
    "TestCase().assertAlmostEqual(welford.get_mean(), np_mean, places=6)"
   ]
  },
  {
   "cell_type": "code",
   "execution_count": null,
   "metadata": {},
   "outputs": [
    {
     "name": "stdout",
     "output_type": "stream",
     "text": [
      "\n",
      "=== Welford with Array Data ===\n",
      "Array 1: [1 2 3], Norm: 3.7417, Variance: 0.0000\n",
      "Array 2: [4 5 6], Norm: 8.7750, Variance: 12.6671\n",
      "Array 3: [7 8 9], Norm: 13.9284, Variance: 25.9436\n",
      "Array 4: [10 11 12], Norm: 19.1050, Variance: 43.7666\n",
      "Final statistics: Mean=11.3875, Variance=43.7666, N=4\n",
      "NumPy variance of norms: 43.7666\n"
     ]
    }
   ],
   "source": [
    "# Example: Welford with array data (using Euclidean norm)\n",
    "print(\"\\n=== Welford with Array Data ===\")\n",
    "welford_array = WelfordVarianceError()\n",
    "\n",
    "time_series_data = np.array([[1, 2, 3],\n",
    "                            [4, 5, 6], \n",
    "                            [7, 8, 9],\n",
    "                            [10, 11, 12]])\n",
    "\n",
    "for i, ts in enumerate(time_series_data):\n",
    "    norm = np.linalg.norm(ts)\n",
    "    welford_array(ts)\n",
    "    print(f\"Array {i+1}: {ts}, Norm: {norm:.4f}, Variance: {welford_array.get_error_response():.4f}\")\n",
    "\n",
    "print(f\"Final statistics: Mean={welford_array.get_mean():.4f}, Variance={welford_array.get_error_response():.4f}, N={welford_array.get_sample_size()}\")\n",
    "\n",
    "# Verify with NumPy on the norms\n",
    "norms = [np.linalg.norm(ts) for ts in time_series_data]\n",
    "np_var_norms = np.var(norms, ddof=1)\n",
    "print(f\"NumPy variance of norms: {np_var_norms:.4f}\")\n",
    "TestCase().assertAlmostEqual(welford_array.get_error_response(), np_var_norms, places=6)"
   ]
  },
  {
   "cell_type": "code",
   "execution_count": null,
   "metadata": {},
   "outputs": [
    {
     "name": "stdout",
     "output_type": "stream",
     "text": [
      "\n",
      "=== Welford Variance with Error Collector ===\n",
      "Simulating input data with decreasing variance:\n",
      "Epoch 1: Data=['-1.44', '-1.73', '-1.11'], Variance=0.0000\n",
      "Epoch 2: Data=['3.51', '-0.64', '-7.49'], Variance=16.7175\n",
      "Epoch 3: Data=['1.11', '-0.89', '-0.72'], Variance=13.1900\n",
      "Epoch 4: Data=['0.29', '0.58', '2.91'], Variance=9.1255\n",
      "Epoch 5: Data=['1.31', '0.22', '-1.48'], Variance=7.5334\n",
      "\n",
      "Final collector state: InputsError limit:5.0, limit_exceeded:False, : WelfordVarianceError error_response:7.5334062673732385\n",
      "\n",
      "=== Population vs Sample Variance ===\n",
      "Data: [1, 2, 3, 4, 5]\n",
      "Sample variance (N-1): 2.5000\n",
      "Population variance (N): 2.0000\n",
      "NumPy sample (ddof=1): 2.5000\n",
      "NumPy population (ddof=0): 2.0000\n"
     ]
    }
   ],
   "source": [
    "# Example: Using Welford Variance with Error Collector\n",
    "print(\"\\n=== Welford Variance with Error Collector ===\")\n",
    "\n",
    "# Create an error collector using Welford variance for input monitoring\n",
    "welford_collector = BaseErrorCollector.collector(\n",
    "    'WelfordVarianceError', 'InputsError', \n",
    "    limit=5.0, min=False,  # Terminate when variance drops below 5.0\n",
    "    flip_error_response=False\n",
    ")\n",
    "\n",
    "# Simulate some input data with decreasing variance\n",
    "import random\n",
    "random.seed(42)  # For reproducible results\n",
    "\n",
    "print(\"Simulating input data with decreasing variance:\")\n",
    "for epoch in range(5):\n",
    "    # Generate data with decreasing variance over time\n",
    "    variance_scale = 10.0 / (epoch + 1)  # Variance decreases each epoch\n",
    "    data = [random.gauss(0, variance_scale) for _ in range(3)]\n",
    "    \n",
    "    welford_collector.add_error_data_array(data)\n",
    "    current_variance = welford_collector.error()\n",
    "    \n",
    "    print(f\"Epoch {epoch+1}: Data={[f'{x:.2f}' for x in data]}, Variance={current_variance:.4f}\")\n",
    "    \n",
    "    if welford_collector.is_terminated():\n",
    "        print(f\"Terminated at epoch {epoch+1} - variance dropped below limit\")\n",
    "        break\n",
    "\n",
    "print(f\"\\nFinal collector state: {welford_collector}\")\n",
    "\n",
    "# Demonstrate population vs sample variance\n",
    "print(\"\\n=== Population vs Sample Variance ===\")\n",
    "data_pop = [1, 2, 3, 4, 5]\n",
    "\n",
    "welford_sample = WelfordVarianceError(population_variance=False)\n",
    "welford_population = WelfordVarianceError(population_variance=True)\n",
    "\n",
    "for value in data_pop:\n",
    "    welford_sample(value)\n",
    "    welford_population(value)\n",
    "\n",
    "print(f\"Data: {data_pop}\")\n",
    "print(f\"Sample variance (N-1): {welford_sample.get_error_response():.4f}\")\n",
    "print(f\"Population variance (N): {welford_population.get_error_response():.4f}\")\n",
    "print(f\"NumPy sample (ddof=1): {np.var(data_pop, ddof=1):.4f}\")\n",
    "print(f\"NumPy population (ddof=0): {np.var(data_pop, ddof=0):.4f}\")\n",
    "\n",
    "TestCase().assertAlmostEqual(welford_sample.get_error_response(), np.var(data_pop, ddof=1), places=6)\n",
    "TestCase().assertAlmostEqual(welford_population.get_error_response(), np.var(data_pop, ddof=0), places=6)"
   ]
  },
  {
   "cell_type": "code",
   "execution_count": null,
   "metadata": {},
   "outputs": [
    {
     "name": "stdout",
     "output_type": "stream",
     "text": [
      "\n",
      "=== Welford Variance with set_properties ===\n",
      "Processing the same data with both population and sample variance:\n",
      "Data: [1.0, 2.0, 3.0, 4.0, 5.0]\n",
      "Population variance (via properties): 2.0000\n",
      "Sample variance (via properties): 2.5000\n",
      "Difference: 0.5000\n",
      "NumPy population variance: 2.0000\n",
      "NumPy sample variance: 2.5000\n"
     ]
    }
   ],
   "source": [
    "# Example: Using set_properties with WelfordVarianceError\n",
    "print(\"\\n=== Welford Variance with set_properties ===\")\n",
    "\n",
    "# Create error collector with population variance using properties\n",
    "welford_pop_collector = BaseErrorCollector.collector(\n",
    "    'WelfordVarianceError', 'InputsError', \n",
    "    limit=2.0, min=False,\n",
    "    properties={\n",
    "        'error_response': {'population_variance': True}\n",
    "    }\n",
    ")\n",
    "\n",
    "# Create error collector with sample variance using properties (default)\n",
    "welford_sample_collector = BaseErrorCollector.collector(\n",
    "    'WelfordVarianceError', 'InputsError', \n",
    "    limit=2.0, min=False,\n",
    "    properties={\n",
    "        'error_response': {'population_variance': False}\n",
    "    }\n",
    ")\n",
    "\n",
    "# Test data\n",
    "test_data = [1.0, 2.0, 3.0, 4.0, 5.0]\n",
    "\n",
    "print(\"Processing the same data with both population and sample variance:\")\n",
    "print(f\"Data: {test_data}\")\n",
    "\n",
    "for value in test_data:\n",
    "    welford_pop_collector.add_error_data_array([value])\n",
    "    welford_sample_collector.add_error_data_array([value])\n",
    "\n",
    "pop_variance = welford_pop_collector.error()\n",
    "sample_variance = welford_sample_collector.error()\n",
    "\n",
    "print(f\"Population variance (via properties): {pop_variance:.4f}\")\n",
    "print(f\"Sample variance (via properties): {sample_variance:.4f}\")\n",
    "print(f\"Difference: {abs(sample_variance - pop_variance):.4f}\")\n",
    "\n",
    "# Verify with NumPy\n",
    "np_pop = np.var(test_data, ddof=0)\n",
    "np_sample = np.var(test_data, ddof=1)\n",
    "print(f\"NumPy population variance: {np_pop:.4f}\")\n",
    "print(f\"NumPy sample variance: {np_sample:.4f}\")\n",
    "\n",
    "TestCase().assertAlmostEqual(pop_variance, np_pop, places=6)\n",
    "TestCase().assertAlmostEqual(sample_variance, np_sample, places=6)"
   ]
  },
  {
   "cell_type": "code",
   "execution_count": null,
   "metadata": {},
   "outputs": [],
   "source": [
    "#| hide\n",
    "import nbdev; nbdev.nbdev_export()"
   ]
  }
 ],
 "metadata": {
  "kernelspec": {
   "display_name": "python3",
   "language": "python",
   "name": "python3"
  }
 },
 "nbformat": 4,
 "nbformat_minor": 2
}
