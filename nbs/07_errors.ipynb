{
 "cells": [
  {
   "cell_type": "code",
   "execution_count": null,
   "metadata": {},
   "outputs": [
    {
     "name": "stdout",
     "output_type": "stream",
     "text": [
      "Cells will be exported to pct.errors,\n",
      "unless a different module is specified after an export flag: `%nbdev_export special.module`\n"
     ]
    }
   ],
   "source": [
    "from nbdev import *\n",
    "%nbdev_default_export errors"
   ]
  },
  {
   "cell_type": "markdown",
   "metadata": {},
   "source": [
    "# Errors\n",
    "\n",
    "> Types of error response of a percectual control hierarchy."
   ]
  },
  {
   "cell_type": "code",
   "execution_count": null,
   "metadata": {},
   "outputs": [],
   "source": [
    "%nbdev_hide\n",
    "import sys\n",
    "sys.path.append(\"..\")"
   ]
  },
  {
   "cell_type": "code",
   "execution_count": null,
   "metadata": {},
   "outputs": [],
   "source": [
    "%nbdev_export\n",
    "import numpy as np\n",
    "from pct.hierarchy import PCTHierarchy\n",
    "from abc import ABC, abstractmethod\n"
   ]
  },
  {
   "cell_type": "code",
   "execution_count": null,
   "metadata": {},
   "outputs": [],
   "source": [
    "%nbdev_export\n",
    "class BaseErrorType(ABC):\n",
    "    \"Base class of a type error response. This class is not used direclty by developers, but defines the interface common to all.\"\n",
    "    def __init__(self):\n",
    "        self.error_response=0\n",
    "    \n",
    "    @abstractmethod\n",
    "    def __call__(self):\n",
    "        pass\n",
    "    \n",
    "    def get_error_response(self):\n",
    "        return self.error_response"
   ]
  },
  {
   "cell_type": "code",
   "execution_count": null,
   "metadata": {},
   "outputs": [],
   "source": [
    "%nbdev_export\n",
    "class RootSumSquaredError(BaseErrorType):\n",
    "    \"The square root of the sum of the square of the errors.\"\n",
    "    def __init__(self):\n",
    "        self.sum=0\n",
    "        \n",
    "    def __call__(self, error):\n",
    "        self.sum+=error*error\n",
    "        self.error_response=np.sqrt(self.sum)\n",
    "        \n",
    "    class Factory:\n",
    "        def create(self): return RootSumSquaredError()"
   ]
  },
  {
   "cell_type": "code",
   "execution_count": null,
   "metadata": {},
   "outputs": [],
   "source": [
    "%nbdev_export\n",
    "class BaseErrorCollector(ABC):\n",
    "    \"Base class of an error collector. This class is not used direclty by developers, but defines the interface common to all.\"\n",
    "    'Parameters:'\n",
    "    'limit - the limit of valid error response'\n",
    "    'error_response - the type of error response'\n",
    "    \n",
    "    def __init__(self, limit,error_response):\n",
    "        self.limit=limit\n",
    "        self.limit_exceeded=False\n",
    "        self.error_response=error_response\n",
    "        \n",
    "    def set_limit(self, limit):\n",
    "        self.limit=limit\n",
    "        self.limit_exceeded=False\n",
    "\n",
    "    def set_error_response(self, error_response):\n",
    "        self.error_response=error_response\n",
    "    \n",
    "    def error(self):\n",
    "        return self.error_response.get_error_response()\n",
    "    \n",
    "    def add_error_data(self, level, col, data=[]):\n",
    "        for datum in data:\n",
    "            self.error_response(datum)\n",
    "                  \n",
    "    def is_limit_exceeded(self):            \n",
    "        return self.limit_exceeded        \n",
    "    \n",
    "    @classmethod\n",
    "    def collector(cls, error_type, error_collector, limit):\n",
    "        et = ErrorFactory.createError(error_type)   \n",
    "        ec = ErrorFactory.createError(error_collector)   \n",
    "        ec.set_limit(limit)\n",
    "        ec.set_error_response(et)\n",
    "        \n",
    "        return ec"
   ]
  },
  {
   "cell_type": "code",
   "execution_count": null,
   "metadata": {},
   "outputs": [],
   "source": [
    "%nbdev_export\n",
    "class TotalError(BaseErrorCollector):\n",
    "    \"A class to collect all the errors of the control system run.\"            \n",
    "    def __init__(self, limit=1000, error_response=None, **cargs):\n",
    "        super().__init__(limit, error_response)\n",
    "\n",
    "    def add_data(self, hpct=None):\n",
    "        for level in range(len(hpct.hierarchy)):\n",
    "             for col in range(len(hpct.hierarchy[level])):\n",
    "                node  = hpct.hierarchy[level][col]\n",
    "                self.add_error_data(level, col, [node.get_function(\"comparator\").get_value()])\n",
    "                if self.error_response.get_error_response() > self.limit:\n",
    "                    self.limit_exceeded=True\n",
    "                    return\n",
    "    class Factory:\n",
    "        def create(self): return TotalError()"
   ]
  },
  {
   "cell_type": "code",
   "execution_count": null,
   "metadata": {},
   "outputs": [],
   "source": [
    "class ErrorFactory:\n",
    "    factories = {}\n",
    "    def addFactory(id, errorFactory):\n",
    "        ErrorFactory.factories.put[id] = errorFactory\n",
    "    addFactory = staticmethod(addFactory)\n",
    "    # A Template Method:\n",
    "    def createError(id):\n",
    "        print(id)\n",
    "        if not ErrorFactory.factories.__contains__(id):\n",
    "            ErrorFactory.factories[id] = \\\n",
    "              eval(id + '.Factory()')\n",
    "        return ErrorFactory.factories[id].create()\n",
    "    createError = staticmethod(createError)"
   ]
  },
  {
   "cell_type": "code",
   "execution_count": null,
   "metadata": {},
   "outputs": [],
   "source": []
  },
  {
   "cell_type": "code",
   "execution_count": null,
   "metadata": {},
   "outputs": [],
   "source": [
    "er = RootSumSquaredError()\n",
    "te = TotalError(error_response=er)   "
   ]
  },
  {
   "cell_type": "code",
   "execution_count": null,
   "metadata": {},
   "outputs": [
    {
     "name": "stdout",
     "output_type": "stream",
     "text": [
      "level0col0 1.000 0.000 1.000 10.000 \n",
      "\n",
      "level0col0 1.000 0.000 1.000 10.000 \n",
      "\n",
      "level0col0 1.000 0.000 1.000 10.000 \n",
      "\n",
      "level0col0 1.000 0.000 1.000 10.000 \n",
      "\n",
      "level0col0 1.000 0.000 1.000 10.000 \n",
      "\n"
     ]
    },
    {
     "data": {
      "text/plain": [
       "10"
      ]
     },
     "execution_count": null,
     "metadata": {},
     "output_type": "execute_result"
    }
   ],
   "source": [
    "hpct = PCTHierarchy(1,1,error_collector=te)\n",
    "\n",
    "hpct.run(steps=5, verbose=True)"
   ]
  },
  {
   "cell_type": "code",
   "execution_count": null,
   "metadata": {},
   "outputs": [
    {
     "name": "stdout",
     "output_type": "stream",
     "text": [
      "2.23606797749979\n"
     ]
    }
   ],
   "source": [
    "err=te.error()\n",
    "print(err)"
   ]
  },
  {
   "cell_type": "code",
   "execution_count": null,
   "metadata": {},
   "outputs": [
    {
     "name": "stdout",
     "output_type": "stream",
     "text": [
      "RootSumSquaredError\n",
      "102.0\n",
      "TotalError\n",
      "102.0\n"
     ]
    }
   ],
   "source": [
    "et = ErrorFactory.createError('RootSumSquaredError')   \n",
    "et(102)\n",
    "print(et.get_error_response())\n",
    "\n",
    "ec = ErrorFactory.createError('TotalError')   \n",
    "ec.set_limit(100)\n",
    "ec.set_error_response(et)\n",
    "print(ec.error())"
   ]
  },
  {
   "cell_type": "raw",
   "metadata": {},
   "source": []
  },
  {
   "cell_type": "code",
   "execution_count": null,
   "metadata": {},
   "outputs": [
    {
     "name": "stdout",
     "output_type": "stream",
     "text": [
      "Converted 00_examples.ipynb.\n",
      "Converted 01_putils.ipynb.\n",
      "Converted 02_functions.ipynb.\n",
      "Converted 03_nodes.ipynb.\n",
      "Converted 04_hierarchy.ipynb.\n",
      "Converted 05_environments.ipynb.\n",
      "Converted 06_architectures.ipynb.\n",
      "Converted 07_errors.ipynb.\n",
      "Converted index.ipynb.\n"
     ]
    }
   ],
   "source": [
    "notebook2script()"
   ]
  },
  {
   "cell_type": "code",
   "execution_count": null,
   "metadata": {},
   "outputs": [],
   "source": []
  }
 ],
 "metadata": {
  "kernelspec": {
   "display_name": "Python 3",
   "language": "python",
   "name": "python3"
  }
 },
 "nbformat": 4,
 "nbformat_minor": 2
}
