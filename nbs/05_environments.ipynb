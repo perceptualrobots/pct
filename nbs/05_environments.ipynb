{
 "cells": [
  {
   "cell_type": "code",
   "execution_count": null,
   "metadata": {},
   "outputs": [
    {
     "name": "stdout",
     "output_type": "stream",
     "text": [
      "Cells will be exported to pct.environments,\n",
      "unless a different module is specified after an export flag: `%nbdev_export special.module`\n"
     ]
    }
   ],
   "source": [
    "from nbdev import *\n",
    "%nbdev_default_export environments"
   ]
  },
  {
   "cell_type": "markdown",
   "metadata": {},
   "source": [
    "# Environments\n",
    "\n",
    "> Classes to create simulated environment functions."
   ]
  },
  {
   "cell_type": "code",
   "execution_count": null,
   "metadata": {},
   "outputs": [],
   "source": [
    "%nbdev_hide\n",
    "import sys\n",
    "sys.path.append(\"..\")"
   ]
  },
  {
   "cell_type": "code",
   "execution_count": null,
   "metadata": {},
   "outputs": [],
   "source": [
    "from pct.functions import BaseFunction"
   ]
  },
  {
   "cell_type": "code",
   "execution_count": null,
   "metadata": {},
   "outputs": [],
   "source": [
    "%nbdev_export\n",
    "class OpenAIGym(BaseFunction):\n",
    "    \"A function that creates an runs an environment from OpenAI Gym. Parameter: The environment name. Flag to display environment. Links: Link to the action function.\"\n",
    "    def __init__(self, env_name=None, render=False, video_wrap=False, value=0, name=\"gym\", links=None, new_name=True, **cargs):\n",
    "        super().__init__(name, value, links, new_name)\n",
    "        \n",
    "        self.video_wrap = video_wrap\n",
    "        self.env_name=env_name\n",
    "        self.create_env(env_name, 4000)\n",
    "        self.render = render\n",
    "        self.reward = 0\n",
    "        self.done = False\n",
    "        self.info = {}\n",
    "        \n",
    "    def __call__(self, verbose=False):\n",
    "        super().check_links(1)\n",
    "        input = self.links[0].get_value()\n",
    "        if input == 1 or input == -1 or input == 0:\n",
    "            obs = self.env.step(input)\n",
    "        else:\n",
    "            raise Exception(f'OpenAIGym: Input value of {input} is not valid, must be 1,0 or -1.')\n",
    "        \n",
    "        # from obs[0], indices\n",
    "        # 1 cart_velocity\n",
    "        # 0 cart_position\n",
    "        # 3 pole_velocity\n",
    "        # 2 pole_angle\n",
    "        \n",
    "        self.value = obs[0]\n",
    "        if self.name == 'CartPole-v1':\n",
    "            self.value = np.append(self.value, obs[0][0]+math.sin(obs[0][2]))\n",
    "\n",
    "        self.reward = obs[1]\n",
    "        self.done = obs[2]\n",
    "        self.info = obs[3]\n",
    "        \n",
    "        if self.render:\n",
    "            self.env.render()\n",
    "            \n",
    "        return super().__call__(verbose)\n",
    "\n",
    "    def summary(self):\n",
    "        super().summary(\"\")\n",
    "\n",
    "    def get_config(self):\n",
    "        config = super().get_config()\n",
    "        config[\"env_name\"] = self.env_name\n",
    "        #config[\"values\"] = self.value\n",
    "        config[\"reward\"] = self.reward\n",
    "        config[\"done\"] = self.done\n",
    "        config[\"info\"] = self.info\n",
    "        \n",
    "        return config\n",
    "    \n",
    "    def output_string(self):\n",
    "        \n",
    "        if isinstance(self.value, int):\n",
    "            rtn = f'{round(self.value, self.decimal_places):.{self.decimal_places}f}'\n",
    "        else:\n",
    "            list = [f'{round(val, self.decimal_places):.{self.decimal_places}f} ' for val in self.value]\n",
    "            list.append(str(self.reward))\n",
    "            list.append(\" \")\n",
    "            list.append(str(self.done))\n",
    "            list.append(\" \")\n",
    "            list.append(str(self.info))\n",
    "            \n",
    "            rtn = ''.join(list)\n",
    "\n",
    "        return rtn\n",
    "\n",
    "    \n",
    "    def create_env(self, env_name, max_episode_steps):\n",
    "        genv = gym.make(env_name)\n",
    "        genv._max_episode_steps = max_episode_steps\n",
    "        if self.video_wrap:\n",
    "            self.env =  vid.wrap_env(genv)\n",
    "        else:\n",
    "            self.env = genv\n",
    "            self.env.reset()\n",
    "            \n",
    "    def close(self):\n",
    "        self.env.close()"
   ]
  },
  {
   "cell_type": "code",
   "execution_count": null,
   "metadata": {},
   "outputs": [],
   "source": [
    "%nbdev_export\n",
    "class PendulumV0(OpenAIGym):\n",
    "    \"A function that creates an runs an environment from OpenAI Gym. Parameter: The environment name. Flag to display environment. Links: Link to the action function.\"\n",
    "    def __init__(self, render=False, video_wrap=False, value=0, name=\"gym\", links=None, new_name=True, **cargs):\n",
    "        env_name= 'Pendulum-v0'\n",
    "        super().__init__(env_name, render, video_wrap, value, name, links, new_name, **cargs)\n",
    "        \n",
    "    \n",
    "    # from obs[0], indices\n",
    "    # 0 cos(theta)\n",
    "    # 1 sin(theta)\n",
    "    # 2 theta dot\n",
    "    # 3 theta +pi/-pi (added here)\n",
    "    # reward - -(theta^2 + 0.1*theta_dt^2 + 0.001*action^2)\n",
    "        \n",
    "    def __call__(self, verbose=False):\n",
    "        super().__call__(verbose)\n",
    "        \n",
    "        pi = math.copysign(math.acos(obs[0][0]), obs[0][1])\n",
    "        self.value = np.append(self.value, pi)\n",
    "        \n",
    "        "
   ]
  },
  {
   "cell_type": "code",
   "execution_count": null,
   "metadata": {},
   "outputs": [
    {
     "name": "stdout",
     "output_type": "stream",
     "text": [
      "Converted 00_examples.ipynb.\n",
      "Converted 01_putils.ipynb.\n",
      "Converted 02_functions.ipynb.\n",
      "Converted 03_nodes.ipynb.\n",
      "Converted 04_hierarchy.ipynb.\n",
      "Converted 05_environments.ipynb.\n",
      "Converted 06_configurations.ipynb.\n",
      "Converted index.ipynb.\n"
     ]
    }
   ],
   "source": [
    "notebook2script()"
   ]
  },
  {
   "cell_type": "code",
   "execution_count": null,
   "metadata": {},
   "outputs": [],
   "source": []
  }
 ],
 "metadata": {
  "kernelspec": {
   "display_name": "Python 3",
   "language": "python",
   "name": "python3"
  }
 },
 "nbformat": 4,
 "nbformat_minor": 4
}
