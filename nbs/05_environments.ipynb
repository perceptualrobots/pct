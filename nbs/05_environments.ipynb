{
 "cells": [
  {
   "cell_type": "code",
   "execution_count": null,
   "metadata": {},
   "outputs": [],
   "source": [
    "#default_exp environments"
   ]
  },
  {
   "cell_type": "code",
   "execution_count": null,
   "metadata": {},
   "outputs": [],
   "source": [
    "%load_ext autoreload\n",
    "%autoreload 2"
   ]
  },
  {
   "cell_type": "markdown",
   "metadata": {},
   "source": [
    "# Environments\n",
    "\n",
    "> Classes to create simulated environment functions."
   ]
  },
  {
   "cell_type": "code",
   "execution_count": null,
   "metadata": {},
   "outputs": [],
   "source": [
    "#%nbdev_hide\n",
    "#import sys\n",
    "#sys.path.append(\"..\")"
   ]
  },
  {
   "cell_type": "code",
   "execution_count": null,
   "metadata": {},
   "outputs": [],
   "source": [
    "#export\n",
    "import gym\n",
    "import math\n",
    "import numpy as np\n",
    "import pct.putils as vid\n",
    "from pct.functions import BaseFunction"
   ]
  },
  {
   "cell_type": "code",
   "execution_count": null,
   "metadata": {},
   "outputs": [],
   "source": [
    "#export\n",
    "class EnvironmentFactory:\n",
    "    factories = {}\n",
    "    def addFactory(id, environmentFactory):\n",
    "        EnvironmentFactory.factories.put[id] = environmentFactory\n",
    "    addFactory = staticmethod(addFactory)\n",
    "    # A Template Method:\n",
    "    def createEnvironment(id):\n",
    "        if not EnvironmentFactory.factories.__contains__(id):\n",
    "            EnvironmentFactory.factories[id] = \\\n",
    "              eval(id + '.Factory()')\n",
    "        return EnvironmentFactory.factories[id].create()\n",
    "    createEnvironment = staticmethod(createEnvironment)"
   ]
  },
  {
   "cell_type": "code",
   "execution_count": null,
   "metadata": {},
   "outputs": [],
   "source": [
    "#export\n",
    "class OpenAIGym(BaseFunction):\n",
    "    \"A function that creates an runs an environment from OpenAI Gym. Parameter: The environment name. Flag to display environment. Links: Link to the action function.\"\n",
    "    def __init__(self, env_name=None, render=False, video_wrap=False, value=0, name=\"gym\", \n",
    "                 seed=None, links=None, new_name=True, early_termination=False, **cargs):\n",
    "        super().__init__(name, value, links, new_name)\n",
    "        self.early_termination=early_termination\n",
    "        self.video_wrap = video_wrap\n",
    "        self.env_name=env_name\n",
    "        self.max_episode_steps=4000\n",
    "        self.create_env(seed)\n",
    "        self.render = render\n",
    "        self.reward = 0\n",
    "        self.done = False\n",
    "        self.info = {}\n",
    "    \n",
    "    def __call__(self, verbose=False):\n",
    "        super().check_links(1)\n",
    "        self.early_terminate()\n",
    "        self.input = self.links[0].get_value()\n",
    "        self.process_input()\n",
    "        self.obs = self.env.step(self.input)\n",
    "            \n",
    "        self.value = self.obs[0]\n",
    "        self.reward = self.obs[1]\n",
    "        self.done = self.obs[2]\n",
    "        self.info = self.obs[3]\n",
    "\n",
    "        self.process_values()\n",
    "        out = super().__call__(verbose)\n",
    "        \n",
    "        if self.render:\n",
    "            self.env.render()\n",
    "            \n",
    "        return out \n",
    "\n",
    "    \n",
    "    def set_video_wrap(self, video_wrap):\n",
    "        self.video_wrap = video_wrap\n",
    "\n",
    "        \n",
    "    def early_terminate(self):\n",
    "        if self.early_termination:\n",
    "            if self.done:\n",
    "                raise Exception(f'1000: OpenAIGym Env: {self.env_name} has terminated.')\n",
    "    \n",
    "    def process_input(self):\n",
    "        pass\n",
    "    \n",
    "    def process_values(self):\n",
    "        pass\n",
    "\n",
    "    def set_render(self, render):\n",
    "        self.render=render\n",
    "        \n",
    "    def reset(self, full=True):\n",
    "        if full:\n",
    "            super().reset()        \n",
    "        else:\n",
    "            self.value=0\n",
    "        self.really_done = False\n",
    "        return self.env.reset()\n",
    "\n",
    "\n",
    "    def summary(self):\n",
    "        super().summary(\"\")\n",
    "\n",
    "    def get_config(self):\n",
    "        config = super().get_config()\n",
    "        config[\"env_name\"] = self.env_name\n",
    "        #config[\"values\"] = self.value\n",
    "        config[\"reward\"] = self.reward\n",
    "        config[\"done\"] = self.done\n",
    "        config[\"info\"] = self.info\n",
    "        \n",
    "        return config\n",
    "    \n",
    "    def get_reward(self):\n",
    "        return self.reward\n",
    "\n",
    "    def output_string(self):\n",
    "        \n",
    "        if isinstance(self.value, int):\n",
    "            rtn = f'{round(self.value, self.decimal_places):.{self.decimal_places}f}'\n",
    "        else:\n",
    "            list = [f'{round(val, self.decimal_places):.{self.decimal_places}f} ' for val in self.value]\n",
    "            list.append(str(self.reward))\n",
    "            list.append(\" \")\n",
    "            list.append(str(self.done))\n",
    "            list.append(\" \")\n",
    "            list.append(str(self.info))\n",
    "            \n",
    "            rtn = ''.join(list)\n",
    "\n",
    "        return rtn\n",
    "\n",
    "    \n",
    "    def create_env(self, seed):\n",
    "        genv = gym.make(self.env_name)\n",
    "        genv._max_episode_steps = self.max_episode_steps\n",
    "        if self.video_wrap:\n",
    "            self.env =  vid.wrap_env(genv)\n",
    "        else:\n",
    "            self.env = genv\n",
    "        self.env.seed(seed)\n",
    "        self.env.reset()\n",
    "            \n",
    "    def set_seed(self, seed):\n",
    "        self.env.seed(seed)\n",
    "\n",
    "        \n",
    "    def close(self):\n",
    "        self.env.close()\n",
    "        \n",
    "    class Factory:\n",
    "        def create(self): return OpenAIGym()"
   ]
  },
  {
   "cell_type": "code",
   "execution_count": null,
   "metadata": {},
   "outputs": [],
   "source": [
    "#export\n",
    "class CartPoleV1(OpenAIGym):\n",
    "    \"A function that creates an runs the CartPole-v1 environment from OpenAI Gym. Parameter: The environment name. Flag to display environment. Links: Link to the action function.\"\n",
    "    # from obs[0], indices\n",
    "    # 1 cart_velocity\n",
    "    # 0 cart_position\n",
    "    # 3 pole_velocity\n",
    "    # 2 pole_angle\n",
    "    def __init__(self, render=False, video_wrap=False, value=0, name=\"CartPole-v1\", \n",
    "                 seed=None, links=None, new_name=True, **cargs):\n",
    "        super().__init__('CartPole-v1', render, video_wrap, value, name, seed, links, new_name, **cargs)\n",
    " \n",
    "    def __call__(self, verbose=False):\n",
    "        super().__call__(verbose)\n",
    "        \n",
    "        return self.value\n",
    "    \n",
    "    def process_values(self):\n",
    "        self.value = np.append(self.value, self.obs[0][0]+math.sin(self.obs[0][2]))\n",
    "    \n",
    "    def process_input(self):\n",
    "        if self.input<0:\n",
    "            self.input=0\n",
    "        elif self.input>0:\n",
    "            self.input=1\n",
    "        else:\n",
    "            self.input=0\n",
    "\n",
    "    class Factory:\n",
    "        def create(self): return CartPoleV1()\n"
   ]
  },
  {
   "cell_type": "code",
   "execution_count": null,
   "metadata": {},
   "outputs": [],
   "source": [
    "#export\n",
    "class CartPoleDV1(OpenAIGym):\n",
    "    \"A function that creates an runs the CartPole-v1 environment from OpenAI Gym. Parameter: The environment name. Flag to display environment. Links: Link to the action function.\"\n",
    "    # from obs[0], indices\n",
    "    # 1 cart_velocity\n",
    "    # 0 cart_position\n",
    "    # 3 pole_velocity\n",
    "    # 2 pole_angle\n",
    "    def __init__(self, render=False, video_wrap=False, value=0, name=\"CartPoleD-v1\", \n",
    "                 seed=None, links=None, new_name=True, **cargs):\n",
    "        super().__init__('CartPoleD-v1', render, video_wrap, value, name, seed, links, new_name, **cargs)\n",
    " \n",
    "    def __call__(self, verbose=False):\n",
    "        super().__call__(verbose)\n",
    "\n",
    "        return self.value\n",
    "    \n",
    "    def process_values(self):\n",
    "        self.value = np.append(self.value, self.obs[0][0]+math.sin(self.obs[0][2]))\n",
    "        self.value = np.append(self.value, self.env.gravity)\n",
    "    \n",
    "    def process_input(self):\n",
    "        if self.input<0:\n",
    "            self.input=0\n",
    "        elif self.input>0:\n",
    "            self.input=1\n",
    "        else:\n",
    "            self.input=0\n",
    "\n",
    "    class Factory:\n",
    "        def create(self): return CartPoleDV1()"
   ]
  },
  {
   "cell_type": "code",
   "execution_count": null,
   "metadata": {},
   "outputs": [],
   "source": [
    "#export\n",
    "class PendulumV0(OpenAIGym):\n",
    "    \"A function that creates an runs the Pendulum-v0 environment from OpenAI Gym. Parameter: The environment name. Flag to display environment. Links: Link to the action function.\"\n",
    "    # from obs[0], indices\n",
    "    # 0 cos(theta) - +1 is up, -1 is down, 0 is left and right\n",
    "    # 1 sin(theta) - +1 is left, -1 is right, 0 is up and down\n",
    "    # 2 theta dot - +dot is anti-clockwise, -dot is clockwise\n",
    "    # 3 theta +pi/-pi (added here) 0 is pointing upwards, +pi is anti-clockwise, -pi is clockwise\n",
    "    # 4 theta +x+pi/x-pi (added here) 0 is pointing downwards, + is anti-clockwise, - is clockwise\n",
    "    # reward - -(theta^2 + 0.1*theta_dt^2 + 0.001*action^2)\n",
    "\n",
    "    def __init__(self, render=False, video_wrap=False, value=0, name=\"Pendulum-v0\", \n",
    "                 seed=None, links=None, new_name=True, **cargs):        \n",
    "        super().__init__('Pendulum-v0', render, video_wrap, value, name, seed, links, new_name, **cargs)\n",
    "        \n",
    "    def __call__(self, verbose=False):\n",
    "        super().check_links(1)\n",
    "        self.input = self.links[0].get_value()\n",
    "        self.obs = self.env.step([self.input])\n",
    "            \n",
    "        self.value = self.obs[0]\n",
    "        self.reward = -self.obs[1]\n",
    "        self.done = self.obs[2]\n",
    "        self.info = self.obs[3]\n",
    "        \n",
    "        pi = math.copysign(math.acos(self.obs[0][0]), self.obs[0][1])\n",
    "        self.value = np.append(self.value, pi)\n",
    "        #x = math.copysign(pi-abs(pi), pi)\n",
    "        x = 10 + pi\n",
    "        self.value = np.append(self.value, x)\n",
    "        \n",
    "        \n",
    "        if self.render:\n",
    "            self.env.render()\n",
    "                \n",
    "        if verbose :\n",
    "            print(self.output_string())\n",
    "\n",
    "        return self.value\n",
    "\n",
    "    class Factory:\n",
    "        def create(self): return PendulumV0()\n",
    "        "
   ]
  },
  {
   "cell_type": "code",
   "execution_count": null,
   "metadata": {},
   "outputs": [],
   "source": [
    "#export\n",
    "class PendulumV0_1(OpenAIGym):\n",
    "    \"A function that creates an runs the Pendulum-v0 environment from OpenAI Gym. Parameter: The environment name. Flag to display environment. Links: Link to the action function.\"\n",
    "    # from obs[0], indices\n",
    "    # 0 cos(theta) - +1 is up, -1 is down, 0 is left and right\n",
    "    # 1 sin(theta) - +1 is left, -1 is right, 0 is up and down\n",
    "    # 2 theta dot - +dot is anti-clockwise, -dot is clockwise\n",
    "    # 3 theta dot - normalised to +/- 1    \n",
    "    # 4 theta +1/-1 (added here) 1 is pointing upwards, + is anti-clockwise, - is clockwise\n",
    "    # reward - -(theta^2 + 0.1*theta_dt^2 + 0.001*action^2)\n",
    "\n",
    "    def __init__(self, render=False, video_wrap=False, value=0, name=\"Pendulum-v0-1\", \n",
    "                 seed=None, links=None, new_name=True, **cargs):        \n",
    "        super().__init__('Pendulum-v0', render, video_wrap, value, name, seed, links, new_name, **cargs)\n",
    "        \n",
    "    def __call__(self, verbose=False):\n",
    "        super().check_links(1)\n",
    "        self.input = self.links[0].get_value()\n",
    "        self.obs = self.env.step([self.input])\n",
    "            \n",
    "        self.value = self.obs[0]\n",
    "        self.reward = -self.obs[1]\n",
    "        self.done = self.obs[2]\n",
    "        self.info = self.obs[3]\n",
    "        \n",
    "        vel = self.obs[0][2]/8.0\n",
    "        self.value = np.append(self.value, vel)\n",
    "        x = math.copysign(math.acos(self.obs[0][0]), self.obs[0][1])/math.pi\n",
    "        #theta = 100 - (10 * math.copysign(1-abs(x), x))\n",
    "        theta = 100 - (10 * x)\n",
    "        self.value = np.append(self.value, theta)\n",
    "        \n",
    "        if self.render:\n",
    "            self.env.render()\n",
    "                \n",
    "        if verbose :\n",
    "            print(self.output_string())\n",
    "\n",
    "        return self.value\n",
    "\n",
    "    class Factory:\n",
    "        def create(self): return PendulumV0_1()"
   ]
  },
  {
   "cell_type": "code",
   "execution_count": null,
   "metadata": {},
   "outputs": [],
   "source": [
    "#export\n",
    "class MountainCarV0(OpenAIGym):\n",
    "    \"A function that creates and runs the MountainCar-v0 environment from OpenAI Gym. Parameter: The environment name. Flag to display environment. Links: Link to the action function.\"\n",
    "    # from obs[0], indices\n",
    "    # 0 Car position - -1.2 to +0.6, reference 0.45 \n",
    "    # 1 Car Velocity - -0.07 t0 +0.07\n",
    "    # 2 Car position - 0 to +1.8, reference 1.65 \n",
    "    \n",
    "    def __init__(self, render=False, video_wrap=False, value=0, name=\"MountainCarV0\", \n",
    "                 seed=None, links=None, new_name=True, **cargs):        \n",
    "        super().__init__('MountainCar-v0', render, video_wrap, value, name, seed, links, new_name, **cargs)\n",
    "        \n",
    "    def __call__(self, verbose=False):        \n",
    "        super().__call__(verbose)\n",
    "                \n",
    "        return self.value\n",
    "\n",
    "    def process_values(self):        \n",
    "        self.reward = -self.obs[1]\n",
    "        pos = self.value[0] + 1.2\n",
    "        self.value = np.append(self.value, pos)\n",
    "\n",
    "    def process_input(self):\n",
    "        if self.input<0:\n",
    "            self.input=0\n",
    "        elif self.input>0:\n",
    "            self.input=2\n",
    "        else:\n",
    "            self.input=1\n",
    "\n",
    "    class Factory:\n",
    "        def create(self): return MountainCarV0()\n",
    "        "
   ]
  },
  {
   "cell_type": "code",
   "execution_count": null,
   "metadata": {},
   "outputs": [],
   "source": [
    "#export\n",
    "class MountainCarContinuousV0(OpenAIGym):\n",
    "    \"A function that creates and runs the MountainCarContinuous-v0 environment from OpenAI Gym. Parameter: The environment name. Flag to display environment. Links: Link to the action function.\"\n",
    "    # 0 Car position - -1.2 to +0.6, reference 0.45 \n",
    "    # 1 Car Velocity - -0.07 t0 +0.07\n",
    "    # 2 Car position - 0 to +1.8, reference 1.65 \n",
    "    \n",
    "    def __init__(self, render=False, video_wrap=False, value=0, name=\"MountainCarContinuousV0\", \n",
    "                 seed=None, links=None, new_name=True, early_termination=True, **cargs):        \n",
    "        super().__init__('MountainCarContinuous-v0', render, video_wrap, value, name, seed, links, \n",
    "                         new_name, early_termination, **cargs)\n",
    "        self.min_action = -1.0\n",
    "        self.max_action = 1.0     \n",
    "        self.really_done = False\n",
    "        \n",
    "    def __call__(self, verbose=False):        \n",
    "        super().__call__(verbose)\n",
    "                \n",
    "        return self.value\n",
    "\n",
    "    def early_terminate(self):\n",
    "        if self.early_termination:\n",
    "            if self.really_done:\n",
    "                raise Exception(f'1000: OpenAIGym Env: {self.env_name} has terminated.')\n",
    "            if self.done:\n",
    "                self.reward = 0\n",
    "                self.really_done = True\n",
    "                \n",
    "    def process_input(self):\n",
    "        force = min(max(self.input, self.min_action), self.max_action)\n",
    "        self.input=[force]\n",
    "        \n",
    "    def process_values(self):\n",
    "        reward = self.obs[1]\n",
    "        if reward > 90:\n",
    "            reward = 0\n",
    "        self.reward = - reward\n",
    "        pos = self.value[0] + 1.2\n",
    "        self.value = np.append(self.value, pos)\n",
    "\n",
    "    class Factory:\n",
    "        def create(self): return MountainCarContinuousV0()\n",
    "        "
   ]
  },
  {
   "cell_type": "code",
   "execution_count": null,
   "metadata": {},
   "outputs": [],
   "source": [
    "#export\n",
    "class VelocityModel(BaseFunction):\n",
    "    \"A simple model of a moving object of a particular mass. Parameters: The environment name, mass. Links: Link to the action function.\"\n",
    "    # from obs[0], indices\n",
    "    \n",
    "    def __init__(self, mass=50, value=0, name=\"VelocityModel\", links=None, \n",
    "                 num_links=1, new_name=True, indexes=0, **cargs):        \n",
    "        super().__init__(name, value, links, new_name)\n",
    "        self.mass = mass\n",
    "        self.indexes=indexes\n",
    "        self.num_links=num_links\n",
    "        self.init_value()\n",
    "\n",
    "    \n",
    "    def __call__(self, verbose=False):\n",
    "        super().check_links(self.num_links)\n",
    "        force = self.links[0].get_value()\n",
    "\n",
    "        if self.indexes>0:\n",
    "            output = self.value[0] + force / self.mass\n",
    "            self.value = [output for _ in range(self.indexes)]\n",
    "        else:        \n",
    "            self.value = self.value + force / self.mass\n",
    "        return super().__call__(verbose)\n",
    "\n",
    "    def init_value(self):\n",
    "        if self.indexes>0:\n",
    "            self.value = [1 for _ in range(self.indexes)]\n",
    "        \n",
    "        \n",
    "    def reset(self, full=True):\n",
    "        if full:\n",
    "            super().reset()        \n",
    "        else:\n",
    "            self.init_value()\n",
    "\n",
    "        return True\n",
    "\n",
    "    def set_render(self, render):\n",
    "        pass\n",
    "    \n",
    "    def summary(self):\n",
    "        super().summary(\"\")\n",
    "\n",
    "    def get_config(self):\n",
    "        config = super().get_config()\n",
    "        config[\"mass\"] = self.mass\n",
    "        \n",
    "        return config\n",
    "\n",
    "    def set_seed(self, seed):\n",
    "        pass\n",
    "\n",
    "    class Factory:\n",
    "        def create(self): return VelocityModel()"
   ]
  },
  {
   "cell_type": "code",
   "execution_count": null,
   "metadata": {},
   "outputs": [],
   "source": [
    "#export\n",
    "class DummyModel(BaseFunction):    \n",
    "    def __init__(self, name=\"World\", links=None, new_name=True, **cargs):        \n",
    "        super().__init__(name, 0, links, new_name)\n",
    "    \n",
    "    def __call__(self, verbose=False):        \n",
    "        pass\n",
    "\n",
    "    def summary(self):\n",
    "        super().summary(\"\")\n",
    "    \n",
    "    def get_config(self):\n",
    "        pass\n",
    "\n",
    "    class Factory:\n",
    "        def create(self): return DummyModel()"
   ]
  },
  {
   "cell_type": "code",
   "execution_count": null,
   "metadata": {},
   "outputs": [],
   "source": [
    "#export\n",
    "class EnvironmentFactory:\n",
    "    factories = {}\n",
    "    def addFactory(id, environmentFactory):\n",
    "        EnvironmentFactory.factories.put[id] = environmentFactory\n",
    "    addFactory = staticmethod(addFactory)\n",
    "    \n",
    "    # A Template Method:\n",
    "    def createEnvironment(id):\n",
    "        if not EnvironmentFactory.factories.__contains__(id):\n",
    "            EnvironmentFactory.factories[id] = \\\n",
    "              eval(id + '.Factory()')\n",
    "        return EnvironmentFactory.factories[id].create()\n",
    "    \n",
    "    createEnvironment = staticmethod(createEnvironment)   \n",
    "\n"
   ]
  },
  {
   "cell_type": "markdown",
   "metadata": {},
   "source": [
    "### OpenAI Gym\n",
    "An example showing how to use an OpenAI Gym function. And how to have another function which accesses one of the values of the gym environment. "
   ]
  },
  {
   "cell_type": "code",
   "execution_count": null,
   "metadata": {},
   "outputs": [
    {
     "name": "stdout",
     "output_type": "stream",
     "text": [
      "False\n"
     ]
    },
    {
     "data": {
      "text/plain": [
       "{'type': 'OpenAIGym',\n",
       " 'name': 'gym',\n",
       " 'value': 0,\n",
       " 'links': {0: 'constant'},\n",
       " 'env_name': 'Acrobot-v1',\n",
       " 'reward': 0,\n",
       " 'done': False,\n",
       " 'info': {}}"
      ]
     },
     "execution_count": null,
     "metadata": {},
     "output_type": "execute_result"
    }
   ],
   "source": [
    "from pct.functions import Constant\n",
    "from pct.functions import IndexedParameter\n",
    "from pct.putils import FunctionsList\n",
    "from pct.functions import Proportional\n",
    "\n",
    "render=False \n",
    "print(render)\n",
    "acrobot = OpenAIGym(\"Acrobot-v1\", render=render)\n",
    "acrobot.add_link(Constant(1))\n",
    "acrobot.get_config()"
   ]
  },
  {
   "cell_type": "code",
   "execution_count": null,
   "metadata": {},
   "outputs": [
    {
     "name": "stdout",
     "output_type": "stream",
     "text": [
      "-1.0\n",
      "-1.0\n"
     ]
    }
   ],
   "source": [
    "acrobot()\n",
    "print(acrobot.reward)\n",
    "print(getattr(acrobot, \"reward\"))"
   ]
  },
  {
   "cell_type": "code",
   "execution_count": null,
   "metadata": {},
   "outputs": [
    {
     "data": {
      "text/plain": [
       "'0.999 0.045 0.996 0.092 -0.136 0.063 -1.0 False {}'"
      ]
     },
     "execution_count": null,
     "metadata": {},
     "output_type": "execute_result"
    }
   ],
   "source": [
    "acrobot.output_string()"
   ]
  },
  {
   "cell_type": "code",
   "execution_count": null,
   "metadata": {},
   "outputs": [
    {
     "data": {
      "text/plain": [
       "0.9990020148516222"
      ]
     },
     "execution_count": null,
     "metadata": {},
     "output_type": "execute_result"
    }
   ],
   "source": [
    "acrobot.value[0]"
   ]
  },
  {
   "cell_type": "markdown",
   "metadata": {},
   "source": [
    "The IndexedParameter type retrieves a value from a linked function based upon an index."
   ]
  },
  {
   "cell_type": "code",
   "execution_count": null,
   "metadata": {},
   "outputs": [
    {
     "name": "stdout",
     "output_type": "stream",
     "text": [
      "{'type': 'IndexedParameter', 'name': 'cos_angle1', 'value': 0, 'links': {0: 'gym'}, 'index': 0}\n"
     ]
    },
    {
     "data": {
      "text/plain": [
       "0.9990020148516222"
      ]
     },
     "execution_count": null,
     "metadata": {},
     "output_type": "execute_result"
    }
   ],
   "source": [
    "cos_angle1 = IndexedParameter(0, name=\"cos_angle1\")\n",
    "cos_angle1.add_link(acrobot)\n",
    "print(cos_angle1.get_config())\n",
    "cos_angle1()"
   ]
  },
  {
   "cell_type": "code",
   "execution_count": null,
   "metadata": {},
   "outputs": [],
   "source": [
    "acrobot.close()"
   ]
  },
  {
   "cell_type": "code",
   "execution_count": null,
   "metadata": {},
   "outputs": [
    {
     "ename": "AttributeError",
     "evalue": "'NoneType' object has no attribute 'set_name'",
     "output_type": "error",
     "traceback": [
      "\u001b[0;31m---------------------------------------------------------------------------\u001b[0m",
      "\u001b[0;31mAttributeError\u001b[0m                            Traceback (most recent call last)",
      "\u001b[0;32m<ipython-input-22-f2d728da1f1c>\u001b[0m in \u001b[0;36m<module>\u001b[0;34m\u001b[0m\n\u001b[1;32m      1\u001b[0m \u001b[0;31m#hide\u001b[0m\u001b[0;34m\u001b[0m\u001b[0;34m\u001b[0m\u001b[0;34m\u001b[0m\u001b[0m\n\u001b[0;32m----> 2\u001b[0;31m \u001b[0mFunctionsList\u001b[0m\u001b[0;34m.\u001b[0m\u001b[0mgetInstance\u001b[0m\u001b[0;34m(\u001b[0m\u001b[0;34m)\u001b[0m\u001b[0;34m.\u001b[0m\u001b[0mget_function\u001b[0m\u001b[0;34m(\u001b[0m\u001b[0;34m\"cos_angle1\"\u001b[0m\u001b[0;34m)\u001b[0m\u001b[0;34m.\u001b[0m\u001b[0mset_name\u001b[0m\u001b[0;34m(\u001b[0m\u001b[0;34m\"cos_angle2\"\u001b[0m\u001b[0;34m)\u001b[0m\u001b[0;34m\u001b[0m\u001b[0;34m\u001b[0m\u001b[0m\n\u001b[0m\u001b[1;32m      3\u001b[0m \u001b[0;32massert\u001b[0m \u001b[0mcos_angle1\u001b[0m\u001b[0;34m.\u001b[0m\u001b[0mget_name\u001b[0m\u001b[0;34m(\u001b[0m\u001b[0;34m)\u001b[0m \u001b[0;34m==\u001b[0m \u001b[0;34m\"cos_angle2\"\u001b[0m\u001b[0;34m\u001b[0m\u001b[0;34m\u001b[0m\u001b[0m\n",
      "\u001b[0;31mAttributeError\u001b[0m: 'NoneType' object has no attribute 'set_name'"
     ]
    }
   ],
   "source": [
    "#hide\n",
    "FunctionsList.getInstance().get_function(\"cos_angle1\").set_name(\"cos_angle2\")\n",
    "assert cos_angle1.get_name() == \"cos_angle2\""
   ]
  },
  {
   "cell_type": "code",
   "execution_count": null,
   "metadata": {},
   "outputs": [],
   "source": [
    "#hide\n",
    "pp = Proportional(10)\n",
    "print(pp.get_config())\n",
    "pp.set_property(\"gain\", 3)\n",
    "print(pp.get_config())"
   ]
  },
  {
   "cell_type": "code",
   "execution_count": null,
   "metadata": {},
   "outputs": [],
   "source": [
    "#gui\n",
    "pen = PendulumV0(render=True)\n",
    "pen.add_link(Constant([1]))\n",
    "print(pen.get_config())\n",
    "pen.run(steps=10, verbose=True)"
   ]
  },
  {
   "cell_type": "code",
   "execution_count": null,
   "metadata": {},
   "outputs": [],
   "source": [
    "#gui\n",
    "pen.close()"
   ]
  },
  {
   "cell_type": "markdown",
   "metadata": {},
   "source": [
    "# Velocity Model"
   ]
  },
  {
   "cell_type": "code",
   "execution_count": null,
   "metadata": {},
   "outputs": [],
   "source": [
    "vm = VelocityModel(name='VelocityModel')\n",
    "vm.add_link(Constant(1, name='mycon'))\n",
    "print(vm.summary())\n",
    "config = vm.get_config()\n",
    "print(config)\n",
    "assert config == {'type': 'VelocityModel', 'name': 'VelocityModel', 'value': 0, 'links': {0: 'mycon'}, 'mass': 50}\n",
    "vm.run(steps=10, verbose=True)"
   ]
  },
  {
   "cell_type": "code",
   "execution_count": null,
   "metadata": {},
   "outputs": [],
   "source": []
  },
  {
   "cell_type": "code",
   "execution_count": null,
   "metadata": {},
   "outputs": [],
   "source": [
    "#%nbdev_hide\n",
    "#notebook2script()"
   ]
  },
  {
   "cell_type": "code",
   "execution_count": null,
   "metadata": {},
   "outputs": [],
   "source": []
  }
 ],
 "metadata": {
  "kernelspec": {
   "display_name": "Python 3",
   "language": "python",
   "name": "python3"
  }
 },
 "nbformat": 4,
 "nbformat_minor": 4
}
