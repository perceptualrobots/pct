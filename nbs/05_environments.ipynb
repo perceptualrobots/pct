{
 "cells": [
  {
   "cell_type": "code",
   "execution_count": null,
   "metadata": {},
   "outputs": [],
   "source": [
    "#default_exp environments"
   ]
  },
  {
   "cell_type": "code",
   "execution_count": null,
   "metadata": {},
   "outputs": [
    {
     "name": "stdout",
     "output_type": "stream",
     "text": [
      "The autoreload extension is already loaded. To reload it, use:\n",
      "  %reload_ext autoreload\n"
     ]
    }
   ],
   "source": [
    "%load_ext autoreload\n",
    "%autoreload 2"
   ]
  },
  {
   "cell_type": "markdown",
   "metadata": {},
   "source": [
    "# Environments\n",
    "\n",
    "> Classes to create simulated environment functions."
   ]
  },
  {
   "cell_type": "code",
   "execution_count": null,
   "metadata": {},
   "outputs": [],
   "source": [
    "#%nbdev_hide\n",
    "#import sys\n",
    "#sys.path.append(\"..\")"
   ]
  },
  {
   "cell_type": "code",
   "execution_count": null,
   "metadata": {},
   "outputs": [],
   "source": [
    "#export\n",
    "import gym\n",
    "import math\n",
    "import numpy as np\n",
    "import pct.putils as vid\n",
    "from pct.functions import BaseFunction"
   ]
  },
  {
   "cell_type": "code",
   "execution_count": null,
   "metadata": {},
   "outputs": [],
   "source": [
    "#export\n",
    "class EnvironmentFactory:\n",
    "    factories = {}\n",
    "    def addFactory(id, environmentFactory):\n",
    "        EnvironmentFactory.factories.put[id] = environmentFactory\n",
    "    addFactory = staticmethod(addFactory)\n",
    "    # A Template Method:\n",
    "    def createEnvironment(id):\n",
    "        if not EnvironmentFactory.factories.__contains__(id):\n",
    "            EnvironmentFactory.factories[id] = \\\n",
    "              eval(id + '.Factory()')\n",
    "        return EnvironmentFactory.factories[id].create()\n",
    "    createEnvironment = staticmethod(createEnvironment)"
   ]
  },
  {
   "cell_type": "code",
   "execution_count": null,
   "metadata": {},
   "outputs": [],
   "source": [
    "#export\n",
    "class OpenAIGym(BaseFunction):\n",
    "    \"A function that creates an runs an environment from OpenAI Gym. Parameter: The environment name. Flag to display environment. Links: Link to the action function.\"\n",
    "    def __init__(self, env_name=None, render=False, video_wrap=False, value=0, name=\"gym\", \n",
    "                 seed=None, links=None, new_name=True, early_termination=False, namespace=None, **cargs):\n",
    "        super().__init__(name=name, value=value, links=links, new_name=new_name, namespace=namespace)\n",
    "        self.early_termination=early_termination\n",
    "        self.video_wrap = video_wrap\n",
    "        self.env_name=env_name\n",
    "        self.max_episode_steps=4000\n",
    "        self.create_env(seed)\n",
    "        self.render = render\n",
    "        self.reward = 0\n",
    "        self.done = False\n",
    "        self.info = {}\n",
    "    \n",
    "    def __call__(self, verbose=False):\n",
    "        super().check_links(1)\n",
    "        self.early_terminate()\n",
    "        self.input = self.links[0].get_value()\n",
    "        self.process_input()\n",
    "        self.obs = self.env.step(self.input)\n",
    "            \n",
    "        self.value = self.obs[0]\n",
    "        self.reward = self.obs[1]\n",
    "        self.done = self.obs[2]\n",
    "        self.info = self.obs[3]\n",
    "\n",
    "        self.process_values()\n",
    "        out = super().__call__(verbose)\n",
    "        \n",
    "        if self.render:\n",
    "            self.env.render()\n",
    "            \n",
    "        return out \n",
    "\n",
    "    \n",
    "    def set_video_wrap(self, video_wrap):\n",
    "        self.video_wrap = video_wrap\n",
    "\n",
    "        \n",
    "    def early_terminate(self):\n",
    "        if self.early_termination:\n",
    "            if self.done:\n",
    "                raise Exception(f'1000: OpenAIGym Env: {self.env_name} has terminated.')\n",
    "    \n",
    "    def process_input(self):\n",
    "        pass\n",
    "    \n",
    "    def process_values(self):\n",
    "        pass\n",
    "\n",
    "    def set_render(self, render):\n",
    "        self.render=render\n",
    "        \n",
    "    def reset(self, full=True):\n",
    "        if full:\n",
    "            super().reset()        \n",
    "        else:\n",
    "            self.value=0\n",
    "        self.really_done = False\n",
    "        return self.env.reset()\n",
    "\n",
    "\n",
    "    def summary(self):\n",
    "        super().summary(\"\")\n",
    "\n",
    "    def get_config(self):\n",
    "        config = super().get_config()\n",
    "        config[\"env_name\"] = self.env_name\n",
    "        #config[\"values\"] = self.value\n",
    "        config[\"reward\"] = self.reward\n",
    "        config[\"done\"] = self.done\n",
    "        config[\"info\"] = self.info\n",
    "        \n",
    "        return config\n",
    "    \n",
    "    def get_reward(self):\n",
    "        return self.reward\n",
    "\n",
    "    def output_string(self):\n",
    "        \n",
    "        if isinstance(self.value, int):\n",
    "            rtn = f'{round(self.value, self.decimal_places):.{self.decimal_places}f}'\n",
    "        else:\n",
    "            list = [f'{round(val, self.decimal_places):.{self.decimal_places}f} ' for val in self.value]\n",
    "            list.append(str(self.reward))\n",
    "            list.append(\" \")\n",
    "            list.append(str(self.done))\n",
    "            list.append(\" \")\n",
    "            list.append(str(self.info))\n",
    "            \n",
    "            rtn = ''.join(list)\n",
    "\n",
    "        return rtn\n",
    "\n",
    "    \n",
    "    def create_env(self, seed):\n",
    "        genv = gym.make(self.env_name)\n",
    "        genv._max_episode_steps = self.max_episode_steps\n",
    "        if self.video_wrap:\n",
    "            self.env =  vid.wrap_env(genv)\n",
    "        else:\n",
    "            self.env = genv\n",
    "        self.env.seed(seed)\n",
    "        self.env.reset()\n",
    "            \n",
    "    def set_seed(self, seed):\n",
    "        self.env.seed(seed)\n",
    "\n",
    "        \n",
    "    def close(self):\n",
    "        self.env.close()\n",
    "        \n",
    "    class Factory:\n",
    "        def create(self): return OpenAIGym()"
   ]
  },
  {
   "cell_type": "code",
   "execution_count": null,
   "metadata": {},
   "outputs": [],
   "source": [
    "#export\n",
    "class CartPoleV1(OpenAIGym):\n",
    "    \"A function that creates an runs the CartPole-v1 environment from OpenAI Gym. Parameter: The environment name. Flag to display environment. Links: Link to the action function.\"\n",
    "    # from obs[0], indices\n",
    "    # 1 cart_velocity\n",
    "    # 0 cart_position\n",
    "    # 3 pole_velocity\n",
    "    # 2 pole_angle\n",
    "    def __init__(self, render=False, video_wrap=False, value=0, name=\"CartPole-v1\", \n",
    "                 seed=None, links=None, new_name=True, namespace=None, **cargs):\n",
    "        super().__init__(env_name='CartPole-v1', render=render, video_wrap=video_wrap, value=value, name=name, seed=seed, \n",
    "                         links=links, new_name=new_name, **cargs)\n",
    " \n",
    "    def __call__(self, verbose=False):\n",
    "        super().__call__(verbose)\n",
    "        \n",
    "        return self.value\n",
    "    \n",
    "    def process_values(self):\n",
    "        self.value = np.append(self.value, self.obs[0][0]+math.sin(self.obs[0][2]))\n",
    "    \n",
    "    def process_input(self):\n",
    "        if self.input<0:\n",
    "            self.input=0\n",
    "        elif self.input>0:\n",
    "            self.input=1\n",
    "        else:\n",
    "            self.input=0\n",
    "\n",
    "    class Factory:\n",
    "        def create(self): return CartPoleV1()\n"
   ]
  },
  {
   "cell_type": "code",
   "execution_count": null,
   "metadata": {},
   "outputs": [],
   "source": [
    "#export\n",
    "class CartPoleDV1(OpenAIGym):\n",
    "    \"A function that creates an runs the CartPole-v1 environment from OpenAI Gym. Parameter: The environment name. Flag to display environment. Links: Link to the action function.\"\n",
    "    # from obs[0], indices\n",
    "    # 1 cart_velocity\n",
    "    # 0 cart_position\n",
    "    # 3 pole_velocity\n",
    "    # 2 pole_angle\n",
    "    def __init__(self, render=False, video_wrap=False, value=0, name=\"CartPoleD-v1\", \n",
    "                 seed=None, links=None, new_name=True, namespace=None, **cargs):\n",
    "        super().__init__('CartPoleD-v1', render=render, video_wrap=video_wrap, value=value, name=name, seed=seed, \n",
    "                         links=links, new_name=new_name, **cargs)\n",
    " \n",
    "    def __call__(self, verbose=False):\n",
    "        super().__call__(verbose)\n",
    "\n",
    "        return self.value\n",
    "    \n",
    "    def process_values(self):\n",
    "        self.value = np.append(self.value, self.obs[0][0]+math.sin(self.obs[0][2]))\n",
    "        self.value = np.append(self.value, self.env.gravity)\n",
    "    \n",
    "    def process_input(self):\n",
    "        if self.input<0:\n",
    "            self.input=0\n",
    "        elif self.input>0:\n",
    "            self.input=1\n",
    "        else:\n",
    "            self.input=0\n",
    "\n",
    "    class Factory:\n",
    "        def create(self): return CartPoleDV1()"
   ]
  },
  {
   "cell_type": "code",
   "execution_count": null,
   "metadata": {},
   "outputs": [],
   "source": [
    "#export\n",
    "class PendulumV0(OpenAIGym):\n",
    "    \"A function that creates an runs the Pendulum-v0 environment from OpenAI Gym. Parameter: The environment name. Flag to display environment. Links: Link to the action function.\"\n",
    "    # from obs[0], indices\n",
    "    # 0 cos(theta) - +1 is up, -1 is down, 0 is left and right\n",
    "    # 1 sin(theta) - +1 is left, -1 is right, 0 is up and down\n",
    "    # 2 theta dot - +dot is anti-clockwise, -dot is clockwise\n",
    "    # 3 theta +pi/-pi (added here) 0 is pointing upwards, +pi is anti-clockwise, -pi is clockwise\n",
    "    # 4 theta +x+pi/x-pi (added here) 0 is pointing downwards, + is anti-clockwise, - is clockwise\n",
    "    # reward - -(theta^2 + 0.1*theta_dt^2 + 0.001*action^2)\n",
    "\n",
    "    def __init__(self, render=False, video_wrap=False, value=0, name=\"Pendulum-v0\", \n",
    "                 seed=None, links=None, new_name=True, namespace=None,**cargs):        \n",
    "        super().__init__('Pendulum-v0', render=render, video_wrap=video_wrap, value=value, name=name, seed=seed, \n",
    "                         links=links, new_name=new_name, **cargs)\n",
    "        \n",
    "    def __call__(self, verbose=False):\n",
    "        super().check_links(1)\n",
    "        self.input = self.links[0].get_value()\n",
    "        self.obs = self.env.step([self.input])\n",
    "            \n",
    "        self.value = self.obs[0]\n",
    "        self.reward = -self.obs[1]\n",
    "        self.done = self.obs[2]\n",
    "        self.info = self.obs[3]\n",
    "        \n",
    "        pi = math.copysign(math.acos(self.obs[0][0]), self.obs[0][1])\n",
    "        self.value = np.append(self.value, pi)\n",
    "        #x = math.copysign(pi-abs(pi), pi)\n",
    "        x = 10 + pi\n",
    "        self.value = np.append(self.value, x)\n",
    "        \n",
    "        \n",
    "        if self.render:\n",
    "            self.env.render()\n",
    "                \n",
    "        if verbose :\n",
    "            print(self.output_string())\n",
    "\n",
    "        return self.value\n",
    "\n",
    "    class Factory:\n",
    "        def create(self): return PendulumV0()\n",
    "        "
   ]
  },
  {
   "cell_type": "code",
   "execution_count": null,
   "metadata": {},
   "outputs": [],
   "source": [
    "#export\n",
    "class PendulumV0_1(OpenAIGym):\n",
    "    \"A function that creates an runs the Pendulum-v0 environment from OpenAI Gym. Parameter: The environment name. Flag to display environment. Links: Link to the action function.\"\n",
    "    # from obs[0], indices\n",
    "    # 0 cos(theta) - +1 is up, -1 is down, 0 is left and right\n",
    "    # 1 sin(theta) - +1 is left, -1 is right, 0 is up and down\n",
    "    # 2 theta dot - +dot is anti-clockwise, -dot is clockwise\n",
    "    # 3 theta dot - normalised to +/- 1    \n",
    "    # 4 theta +1/-1 (added here) 1 is pointing upwards, + is anti-clockwise, - is clockwise\n",
    "    # reward - -(theta^2 + 0.1*theta_dt^2 + 0.001*action^2)\n",
    "\n",
    "    def __init__(self, render=False, video_wrap=False, value=0, name=\"Pendulum-v0-1\", \n",
    "                 seed=None, links=None, new_name=True, namespace=None,**cargs):        \n",
    "        super().__init__('Pendulum-v0', render=render, video_wrap=video_wrap, value=value, name=name, seed=seed, \n",
    "                         links=links, new_name=new_name, **cargs)\n",
    "        \n",
    "    def __call__(self, verbose=False):\n",
    "        super().check_links(1)\n",
    "        self.input = self.links[0].get_value()\n",
    "        self.obs = self.env.step([self.input])\n",
    "            \n",
    "        self.value = self.obs[0]\n",
    "        self.reward = -self.obs[1]\n",
    "        self.done = self.obs[2]\n",
    "        self.info = self.obs[3]\n",
    "        \n",
    "        vel = self.obs[0][2]/8.0\n",
    "        self.value = np.append(self.value, vel)\n",
    "        x = math.copysign(math.acos(self.obs[0][0]), self.obs[0][1])/math.pi\n",
    "        #theta = 100 - (10 * math.copysign(1-abs(x), x))\n",
    "        theta = 100 - (10 * x)\n",
    "        self.value = np.append(self.value, theta)\n",
    "        \n",
    "        if self.render:\n",
    "            self.env.render()\n",
    "                \n",
    "        if verbose :\n",
    "            print(self.output_string())\n",
    "\n",
    "        return self.value\n",
    "\n",
    "    class Factory:\n",
    "        def create(self): return PendulumV0_1()"
   ]
  },
  {
   "cell_type": "code",
   "execution_count": null,
   "metadata": {},
   "outputs": [],
   "source": [
    "#export\n",
    "class MountainCarV0(OpenAIGym):\n",
    "    \"A function that creates and runs the MountainCar-v0 environment from OpenAI Gym. Parameter: The environment name. Flag to display environment. Links: Link to the action function.\"\n",
    "    # from obs[0], indices\n",
    "    # 0 Car position - -1.2 to +0.6, reference 0.45 \n",
    "    # 1 Car Velocity - -0.07 t0 +0.07\n",
    "    # 2 Car position - 0 to +1.8, reference 1.65 \n",
    "    \n",
    "    def __init__(self, render=False, video_wrap=False, value=0, name=\"MountainCarV0\", \n",
    "                 seed=None, links=None, new_name=True, namespace=None, **cargs):        \n",
    "        super().__init__('MountainCar-v0', render=render, video_wrap=video_wrap, value=value, name=name, seed=seed, \n",
    "                         links=links, new_name=new_name, **cargs)\n",
    "        \n",
    "    def __call__(self, verbose=False):        \n",
    "        super().__call__(verbose)\n",
    "                \n",
    "        return self.value\n",
    "\n",
    "    def process_values(self):        \n",
    "        self.reward = -self.obs[1]\n",
    "        pos = self.value[0] + 1.2\n",
    "        self.value = np.append(self.value, pos)\n",
    "\n",
    "    def process_input(self):\n",
    "        if self.input<0:\n",
    "            self.input=0\n",
    "        elif self.input>0:\n",
    "            self.input=2\n",
    "        else:\n",
    "            self.input=1\n",
    "\n",
    "    class Factory:\n",
    "        def create(self): return MountainCarV0()\n",
    "        "
   ]
  },
  {
   "cell_type": "code",
   "execution_count": null,
   "metadata": {},
   "outputs": [],
   "source": [
    "#export\n",
    "class MountainCarContinuousV0(OpenAIGym):\n",
    "    \"A function that creates and runs the MountainCarContinuous-v0 environment from OpenAI Gym. Parameter: The environment name. Flag to display environment. Links: Link to the action function.\"\n",
    "    # 0 Car position - -1.2 to +0.6, reference 0.45 \n",
    "    # 1 Car Velocity - -0.07 t0 +0.07\n",
    "    # 2 Car position - 0 to +1.8, reference 1.65 \n",
    "    \n",
    "    def __init__(self, render=False, video_wrap=False, value=0, name=\"MountainCarContinuousV0\", \n",
    "                 seed=None, links=None, new_name=True, early_termination=True, namespace=None, **cargs):        \n",
    "        super().__init__('MountainCarContinuous-v0', render=render, video_wrap=video_wrap, value=value, name=name, seed=seed, \n",
    "                         links=links, new_name=new_name, early_termination=early_termination, **cargs)\n",
    "        \n",
    "        self.min_action = -1.0\n",
    "        self.max_action = 1.0     \n",
    "        self.really_done = False\n",
    "        \n",
    "    def __call__(self, verbose=False):        \n",
    "        super().__call__(verbose)\n",
    "                \n",
    "        return self.value\n",
    "\n",
    "    def early_terminate(self):\n",
    "        if self.early_termination:\n",
    "            if self.really_done:\n",
    "                raise Exception(f'1000: OpenAIGym Env: {self.env_name} has terminated.')\n",
    "            if self.done:\n",
    "                self.reward = 0\n",
    "                self.really_done = True\n",
    "                \n",
    "    def process_input(self):\n",
    "        force = min(max(self.input, self.min_action), self.max_action)\n",
    "        self.input=[force]\n",
    "        \n",
    "    def process_values(self):\n",
    "        reward = self.obs[1]\n",
    "        if reward > 90:\n",
    "            reward = 0\n",
    "        self.reward = - reward\n",
    "        pos = self.value[0] + 1.2\n",
    "        self.value = np.append(self.value, pos)\n",
    "\n",
    "    class Factory:\n",
    "        def create(self): return MountainCarContinuousV0()\n",
    "        "
   ]
  },
  {
   "cell_type": "code",
   "execution_count": null,
   "metadata": {},
   "outputs": [],
   "source": [
    "#export\n",
    "class VelocityModel(BaseFunction):\n",
    "    \"A simple model of a moving object of a particular mass. Parameters: The environment name, mass. Links: Link to the action function.\"\n",
    "    # from obs[0], indices\n",
    "    \n",
    "    def __init__(self, mass=50, value=0, name=\"VelocityModel\", links=None, \n",
    "                 num_links=1, new_name=True, indexes=0, namespace=None, **cargs):        \n",
    "        super().__init__(name=name, value=value, links=links, new_name=new_name, namespace=namespace)\n",
    "        self.mass = mass\n",
    "        self.indexes=indexes\n",
    "        self.num_links=num_links\n",
    "        self.init_value()\n",
    "\n",
    "    \n",
    "    def __call__(self, verbose=False):\n",
    "        super().check_links(self.num_links)\n",
    "        force = self.links[0].get_value()\n",
    "\n",
    "        if self.indexes>0:\n",
    "            output = self.value[0] + force / self.mass\n",
    "            self.value = [output for _ in range(self.indexes)]\n",
    "        else:        \n",
    "            self.value = self.value + force / self.mass\n",
    "        return super().__call__(verbose)\n",
    "\n",
    "    def init_value(self):\n",
    "        if self.indexes>0:\n",
    "            self.value = [1 for _ in range(self.indexes)]\n",
    "        \n",
    "        \n",
    "    def reset(self, full=True):\n",
    "        if full:\n",
    "            super().reset()        \n",
    "        else:\n",
    "            self.init_value()\n",
    "\n",
    "        return True\n",
    "\n",
    "    def set_render(self, render):\n",
    "        pass\n",
    "    \n",
    "    def summary(self):\n",
    "        super().summary(\"\")\n",
    "        \n",
    "    def get_parameters_list(self):\n",
    "        return ['vm']    \n",
    "\n",
    "    def get_config(self):\n",
    "        config = super().get_config()\n",
    "        config[\"mass\"] = self.mass\n",
    "        \n",
    "        return config\n",
    "\n",
    "    def set_seed(self, seed):\n",
    "        pass\n",
    "\n",
    "    class Factory:\n",
    "        def create(self): return VelocityModel()"
   ]
  },
  {
   "cell_type": "code",
   "execution_count": null,
   "metadata": {},
   "outputs": [],
   "source": [
    "#export\n",
    "class DummyModel(BaseFunction):    \n",
    "    def __init__(self, name=\"World\", value=0, links=None, new_name=True, namespace=None, **cargs):        \n",
    "        super().__init__(name=name, value=value, links=links, new_name=new_name, namespace=namespace)\n",
    "    \n",
    "    def __call__(self, verbose=False):        \n",
    "        pass\n",
    "\n",
    "    def summary(self):\n",
    "        super().summary(\"\")\n",
    "    \n",
    "    def get_config(self):\n",
    "        pass\n",
    "\n",
    "    class Factory:\n",
    "        def create(self): return DummyModel()"
   ]
  },
  {
   "cell_type": "code",
   "execution_count": null,
   "metadata": {},
   "outputs": [],
   "source": [
    "#export\n",
    "class EnvironmentFactory:\n",
    "    factories = {}\n",
    "    def addFactory(id, environmentFactory):\n",
    "        EnvironmentFactory.factories.put[id] = environmentFactory\n",
    "    addFactory = staticmethod(addFactory)\n",
    "    \n",
    "    # A Template Method:\n",
    "    def createEnvironment(id):\n",
    "        if not EnvironmentFactory.factories.__contains__(id):\n",
    "            EnvironmentFactory.factories[id] = \\\n",
    "              eval(id + '.Factory()')\n",
    "        return EnvironmentFactory.factories[id].create()\n",
    "    \n",
    "    createEnvironment = staticmethod(createEnvironment)   \n",
    "\n"
   ]
  },
  {
   "cell_type": "markdown",
   "metadata": {},
   "source": [
    "### OpenAI Gym\n",
    "An example showing how to use an OpenAI Gym function. And how to have another function which accesses one of the values of the gym environment. "
   ]
  },
  {
   "cell_type": "code",
   "execution_count": null,
   "metadata": {},
   "outputs": [
    {
     "name": "stdout",
     "output_type": "stream",
     "text": [
      "False\n"
     ]
    },
    {
     "data": {
      "text/plain": [
       "{'type': 'OpenAIGym',\n",
       " 'name': 'gym',\n",
       " 'value': 0,\n",
       " 'links': {0: 'constant'},\n",
       " 'env_name': 'Acrobot-v1',\n",
       " 'reward': 0,\n",
       " 'done': False,\n",
       " 'info': {}}"
      ]
     },
     "execution_count": null,
     "metadata": {},
     "output_type": "execute_result"
    }
   ],
   "source": [
    "from pct.functions import Constant\n",
    "from pct.functions import IndexedParameter\n",
    "from pct.putils import FunctionsList\n",
    "from pct.functions import Proportional\n",
    "\n",
    "render=False \n",
    "print(render)\n",
    "acrobot = OpenAIGym(\"Acrobot-v1\", render=render)\n",
    "namespace=acrobot.namespace\n",
    "acrobot.add_link(Constant(1, namespace=namespace))\n",
    "acrobot.get_config()"
   ]
  },
  {
   "cell_type": "code",
   "execution_count": null,
   "metadata": {},
   "outputs": [
    {
     "name": "stdout",
     "output_type": "stream",
     "text": [
      "-1.0\n",
      "-1.0\n"
     ]
    }
   ],
   "source": [
    "acrobot()\n",
    "print(acrobot.reward)\n",
    "print(getattr(acrobot, \"reward\"))"
   ]
  },
  {
   "cell_type": "code",
   "execution_count": null,
   "metadata": {},
   "outputs": [
    {
     "data": {
      "text/plain": [
       "'0.997 0.079 0.999 0.049 -0.099 0.003 -1.0 False {}'"
      ]
     },
     "execution_count": null,
     "metadata": {},
     "output_type": "execute_result"
    }
   ],
   "source": [
    "acrobot.output_string()"
   ]
  },
  {
   "cell_type": "code",
   "execution_count": null,
   "metadata": {},
   "outputs": [
    {
     "data": {
      "text/plain": [
       "0.9968589875753855"
      ]
     },
     "execution_count": null,
     "metadata": {},
     "output_type": "execute_result"
    }
   ],
   "source": [
    "acrobot.value[0]"
   ]
  },
  {
   "cell_type": "markdown",
   "metadata": {},
   "source": [
    "The IndexedParameter type retrieves a value from a linked function based upon an index."
   ]
  },
  {
   "cell_type": "code",
   "execution_count": null,
   "metadata": {},
   "outputs": [
    {
     "name": "stdout",
     "output_type": "stream",
     "text": [
      "{'type': 'IndexedParameter', 'name': 'cos_angle1', 'value': 0, 'links': {0: 'gym'}, 'index': 0}\n"
     ]
    },
    {
     "data": {
      "text/plain": [
       "0.9968589875753855"
      ]
     },
     "execution_count": null,
     "metadata": {},
     "output_type": "execute_result"
    }
   ],
   "source": [
    "cos_angle1 = IndexedParameter(0, name=\"cos_angle1\", namespace=namespace)\n",
    "cos_angle1.add_link(acrobot)\n",
    "print(cos_angle1.get_config())\n",
    "cos_angle1()"
   ]
  },
  {
   "cell_type": "code",
   "execution_count": null,
   "metadata": {},
   "outputs": [],
   "source": [
    "acrobot.close()"
   ]
  },
  {
   "cell_type": "code",
   "execution_count": null,
   "metadata": {},
   "outputs": [],
   "source": [
    "#hide\n",
    "FunctionsList.getInstance().get_function(name=\"cos_angle1\", namespace=namespace).set_name(\"cos_angle2\")\n",
    "assert cos_angle1.get_name() == \"cos_angle2\""
   ]
  },
  {
   "cell_type": "code",
   "execution_count": null,
   "metadata": {},
   "outputs": [
    {
     "name": "stdout",
     "output_type": "stream",
     "text": [
      "{'type': 'Proportional', 'name': 'proportional', 'value': 0, 'links': {}, 'gain': 10}\n",
      "{'type': 'Proportional', 'name': 'proportional', 'value': 0, 'links': {}, 'gain': 3}\n"
     ]
    }
   ],
   "source": [
    "#hide\n",
    "pp = Proportional(10, namespace=namespace)\n",
    "print(pp.get_config())\n",
    "pp.set_property(\"gain\", 3)\n",
    "print(pp.get_config())"
   ]
  },
  {
   "cell_type": "code",
   "execution_count": null,
   "metadata": {},
   "outputs": [
    {
     "name": "stdout",
     "output_type": "stream",
     "text": [
      "{'type': 'PendulumV0', 'name': 'Pendulum-v0', 'value': 0, 'links': {0: 'constant1'}, 'env_name': 'Pendulum-v0', 'reward': 0, 'done': False, 'info': {}}\n",
      "-1.000 -0.025 -0.720 -3.117 6.883 [9.56079834] False {}\n",
      "-1.000 0.005 -0.589 3.137 13.137 [9.76777826] False {}\n",
      "-1.000 0.026 -0.435 3.115 13.115 [9.87564762] False {}\n",
      "-0.999 0.040 -0.265 3.102 13.102 [9.72395293] False {}\n",
      "-0.999 0.044 -0.085 3.098 13.098 [9.62963911] False {}\n",
      "-0.999 0.039 0.098 3.102 13.102 [9.59687553] False {}\n",
      "-1.000 0.025 0.277 3.116 13.116 [9.62736013] False {}\n",
      "-1.000 0.003 0.446 3.139 13.139 [9.72018779] False {}\n",
      "-1.000 -0.027 0.598 -3.115 6.885 [9.87184786] False {}\n",
      "-0.998 -0.063 0.728 -3.078 6.922 [9.73784871] False {}\n"
     ]
    },
    {
     "data": {
      "text/plain": [
       "array([-0.99799513, -0.06329069,  0.72790643, -3.07825963,  6.92174037])"
      ]
     },
     "execution_count": null,
     "metadata": {},
     "output_type": "execute_result"
    }
   ],
   "source": [
    "#gui\n",
    "pen = PendulumV0(render=True, namespace=namespace)\n",
    "pen.add_link(Constant([1], namespace=namespace))\n",
    "print(pen.get_config())\n",
    "pen.run(steps=10, verbose=True)"
   ]
  },
  {
   "cell_type": "code",
   "execution_count": null,
   "metadata": {},
   "outputs": [],
   "source": [
    "#gui\n",
    "pen.close()"
   ]
  },
  {
   "cell_type": "markdown",
   "metadata": {},
   "source": [
    "# Velocity Model"
   ]
  },
  {
   "cell_type": "code",
   "execution_count": null,
   "metadata": {},
   "outputs": [
    {
     "name": "stdout",
     "output_type": "stream",
     "text": [
      "VelocityModel VelocityModel | 0 | links  mycon \n",
      "None\n",
      "{'type': 'VelocityModel', 'name': 'VelocityModel', 'value': 0, 'links': {0: 'mycon'}, 'mass': 50}\n",
      "0.020 0.040 0.060 0.080 0.100 0.120 0.140 0.160 0.180 0.200 "
     ]
    },
    {
     "data": {
      "text/plain": [
       "0.19999999999999998"
      ]
     },
     "execution_count": null,
     "metadata": {},
     "output_type": "execute_result"
    }
   ],
   "source": [
    "vm = VelocityModel(name='VelocityModel', namespace=namespace)\n",
    "vm.add_link(Constant(1, name='mycon'))\n",
    "print(vm.summary())\n",
    "config = vm.get_config()\n",
    "print(config)\n",
    "assert config == {'type': 'VelocityModel', 'name': 'VelocityModel', 'value': 0, 'links': {0: 'mycon'}, 'mass': 50}\n",
    "vm.run(steps=10, verbose=True)"
   ]
  },
  {
   "cell_type": "code",
   "execution_count": null,
   "metadata": {},
   "outputs": [
    {
     "name": "stdout",
     "output_type": "stream",
     "text": [
      "5 ee8fac9e-034a-11ec-8ba5-717c2fc94760\n",
      "***  gym [<__main__.OpenAIGym object at 0x7f9c4aeb3d90>]\n",
      "{'namespace': UUID('ee8fac9e-034a-11ec-8ba5-717c2fc94760'), 'value': array([ 0.99997089, -0.00763069,  0.9996719 ,  0.02561445,  0.05833663,\n",
      "        0.0630709 ]), 'links': [<pct.functions.Constant object at 0x7f9c4aeb3990>], 'checklinks': False, 'name': 'gym', 'decimal_places': 3, 'early_termination': False, 'video_wrap': False, 'env_name': 'Acrobot-v1', 'max_episode_steps': 4000, 'env': <TimeLimit<AcrobotEnv<Acrobot-v1>>>, 'render': False, 'reward': -1.0, 'done': False, 'info': {}, 'input': 1, 'obs': (array([ 0.99997089, -0.00763069,  0.9996719 ,  0.02561445,  0.05833663,\n",
      "        0.0630709 ]), -1.0, False, {})}\n",
      "***  constant [<pct.functions.Constant object at 0x7f9c4aeb3990>]\n",
      "{'namespace': UUID('ee8fac9e-034a-11ec-8ba5-717c2fc94760'), 'value': 1, 'links': [], 'checklinks': True, 'name': 'constant', 'decimal_places': 3}\n",
      "***  cos_angle2 [<pct.functions.IndexedParameter object at 0x7f9c4aebd3d0>]\n",
      "{'namespace': UUID('ee8fac9e-034a-11ec-8ba5-717c2fc94760'), 'value': 0.9999708858538973, 'links': [<__main__.OpenAIGym object at 0x7f9c4aeb3d90>], 'checklinks': False, 'name': 'cos_angle2', 'decimal_places': 3, 'index': 0}\n",
      "***  proportional [<pct.functions.Proportional object at 0x7f9c4b237210>]\n",
      "{'namespace': UUID('ee8fac9e-034a-11ec-8ba5-717c2fc94760'), 'value': 0, 'links': [], 'checklinks': True, 'name': 'proportional', 'decimal_places': 3, 'gain': 3}\n",
      "***  constant1 [<pct.functions.Constant object at 0x7f9c4aefbb50>]\n",
      "{'namespace': UUID('ee8fac9e-034a-11ec-8ba5-717c2fc94760'), 'value': [1], 'links': [], 'checklinks': True, 'name': 'constant1', 'decimal_places': 3}\n",
      "1 ee9eabea-034a-11ec-8ba5-717c2fc94760\n",
      "***  Pendulum-v0 [<__main__.PendulumV0 object at 0x7f9c4aefb250>]\n",
      "{'namespace': UUID('ee9eabea-034a-11ec-8ba5-717c2fc94760'), 'value': array([-0.9526143 , -0.30418086,  1.10752203, -2.83251423,  7.16748577]), 'links': [<pct.functions.Constant object at 0x7f9c4aefbb50>], 'checklinks': False, 'name': 'Pendulum-v0', 'decimal_places': 3, 'early_termination': False, 'video_wrap': False, 'env_name': 'Pendulum-v0', 'max_episode_steps': 4000, 'env': <TimeLimit<PendulumEnv<Pendulum-v0>>>, 'render': True, 'reward': array([8.47218811]), 'done': False, 'info': {}, 'input': [1], 'obs': (array([[-0.9526143 ],\n",
      "       [-0.30418086],\n",
      "       [ 1.10752203]]), array([-8.47218811]), False, {})}\n",
      "1 f86bb366-034a-11ec-8ba5-717c2fc94760\n",
      "***  VelocityModel [<__main__.VelocityModel object at 0x7f9c4a430cd0>]\n",
      "{'namespace': UUID('f86bb366-034a-11ec-8ba5-717c2fc94760'), 'value': 0.19999999999999998, 'links': [<pct.functions.Constant object at 0x7f9c4aec8990>], 'checklinks': False, 'name': 'VelocityModel', 'decimal_places': 3, 'mass': 50, 'indexes': 0, 'num_links': 1}\n",
      "1 f86bb6f4-034a-11ec-8ba5-717c2fc94760\n",
      "***  mycon [<pct.functions.Constant object at 0x7f9c4aec8990>]\n",
      "{'namespace': UUID('f86bb6f4-034a-11ec-8ba5-717c2fc94760'), 'value': 1, 'links': [], 'checklinks': True, 'name': 'mycon', 'decimal_places': 3}\n",
      "6 faa12902-034c-11ec-8ba5-717c2fc94760\n",
      "***  gym [<__main__.OpenAIGym object at 0x7f9c470a6e90>]\n",
      "{'namespace': UUID('faa12902-034c-11ec-8ba5-717c2fc94760'), 'value': array([ 0.99685899,  0.07919696,  0.99879951,  0.04898503, -0.09921055,\n",
      "        0.00267248]), 'links': [<pct.functions.Constant object at 0x7f9c4709bc10>], 'checklinks': False, 'name': 'gym', 'decimal_places': 3, 'early_termination': False, 'video_wrap': False, 'env_name': 'Acrobot-v1', 'max_episode_steps': 4000, 'env': <TimeLimit<AcrobotEnv<Acrobot-v1>>>, 'render': False, 'reward': -1.0, 'done': False, 'info': {}, 'input': 1, 'obs': (array([ 0.99685899,  0.07919696,  0.99879951,  0.04898503, -0.09921055,\n",
      "        0.00267248]), -1.0, False, {})}\n",
      "***  constant [<pct.functions.Constant object at 0x7f9c4709bc10>]\n",
      "{'namespace': UUID('faa12902-034c-11ec-8ba5-717c2fc94760'), 'value': 1, 'links': [], 'checklinks': True, 'name': 'constant', 'decimal_places': 3}\n",
      "***  cos_angle2 [<pct.functions.IndexedParameter object at 0x7f9c47095f10>]\n",
      "{'namespace': UUID('faa12902-034c-11ec-8ba5-717c2fc94760'), 'value': 0.9968589875753855, 'links': [<__main__.OpenAIGym object at 0x7f9c470a6e90>], 'checklinks': False, 'name': 'cos_angle2', 'decimal_places': 3, 'index': 0}\n",
      "***  proportional [<pct.functions.Proportional object at 0x7f9c47095490>]\n",
      "{'namespace': UUID('faa12902-034c-11ec-8ba5-717c2fc94760'), 'value': 0, 'links': [], 'checklinks': True, 'name': 'proportional', 'decimal_places': 3, 'gain': 3}\n",
      "***  constant1 [<pct.functions.Constant object at 0x7f9c470e1e90>]\n",
      "{'namespace': UUID('faa12902-034c-11ec-8ba5-717c2fc94760'), 'value': [1], 'links': [], 'checklinks': True, 'name': 'constant1', 'decimal_places': 3}\n",
      "***  VelocityModel [<__main__.VelocityModel object at 0x7f9c47094ad0>]\n",
      "{'namespace': UUID('faa12902-034c-11ec-8ba5-717c2fc94760'), 'value': 0.19999999999999998, 'links': [<pct.functions.Constant object at 0x7f9c47094590>], 'checklinks': False, 'name': 'VelocityModel', 'decimal_places': 3, 'mass': 50, 'indexes': 0, 'num_links': 1}\n",
      "1 fabbe364-034c-11ec-8ba5-717c2fc94760\n",
      "***  Pendulum-v0 [<__main__.PendulumV0 object at 0x7f9c470e1b50>]\n",
      "{'namespace': UUID('fabbe364-034c-11ec-8ba5-717c2fc94760'), 'value': array([-0.99799513, -0.06329069,  0.72790643, -3.07825963,  6.92174037]), 'links': [<pct.functions.Constant object at 0x7f9c470e1e90>], 'checklinks': False, 'name': 'Pendulum-v0', 'decimal_places': 3, 'early_termination': False, 'video_wrap': False, 'env_name': 'Pendulum-v0', 'max_episode_steps': 4000, 'env': <TimeLimit<PendulumEnv<Pendulum-v0>>>, 'render': True, 'reward': array([9.73784871]), 'done': False, 'info': {}, 'input': [1], 'obs': (array([[-0.99799513],\n",
      "       [-0.06329069],\n",
      "       [ 0.72790643]]), array([-9.73784871]), False, {})}\n",
      "1 fae76426-034c-11ec-8ba5-717c2fc94760\n",
      "***  mycon [<pct.functions.Constant object at 0x7f9c47094590>]\n",
      "{'namespace': UUID('fae76426-034c-11ec-8ba5-717c2fc94760'), 'value': 1, 'links': [], 'checklinks': True, 'name': 'mycon', 'decimal_places': 3}\n"
     ]
    }
   ],
   "source": [
    "#hide\n",
    "#FunctionsList.getInstance().report()"
   ]
  },
  {
   "cell_type": "code",
   "execution_count": null,
   "metadata": {},
   "outputs": [],
   "source": [
    "#%nbdev_hide\n",
    "#notebook2script()"
   ]
  },
  {
   "cell_type": "code",
   "execution_count": null,
   "metadata": {},
   "outputs": [],
   "source": []
  }
 ],
 "metadata": {
  "kernelspec": {
   "display_name": "Python 3",
   "language": "python",
   "name": "python3"
  }
 },
 "nbformat": 4,
 "nbformat_minor": 4
}
