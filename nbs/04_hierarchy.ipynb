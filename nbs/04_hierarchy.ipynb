{
 "cells": [
  {
   "cell_type": "code",
   "execution_count": null,
   "metadata": {},
   "outputs": [
    {
     "name": "stdout",
     "output_type": "stream",
     "text": [
      "Cells will be exported to pct.hierarchy,\n",
      "unless a different module is specified after an export flag: `%nbdev_export special.module`\n"
     ]
    }
   ],
   "source": [
    "from nbdev import *\n",
    "%nbdev_default_export hierarchy"
   ]
  },
  {
   "cell_type": "code",
   "execution_count": null,
   "metadata": {},
   "outputs": [],
   "source": [
    "%nbdev_hide\n",
    "%reload_ext autoreload\n",
    "%autoreload 2"
   ]
  },
  {
   "cell_type": "code",
   "execution_count": null,
   "metadata": {},
   "outputs": [],
   "source": [
    "# hide\n",
    "import sys\n",
    "sys.path.append(\"..\")"
   ]
  },
  {
   "cell_type": "markdown",
   "metadata": {},
   "source": [
    "# Hierarchy\n",
    "\n",
    "Creation of Perceptual Control hierarchies."
   ]
  },
  {
   "cell_type": "code",
   "execution_count": null,
   "metadata": {},
   "outputs": [],
   "source": [
    "%nbdev_export\n",
    "import numpy as np\n",
    "from pct.nodes import PCTNode\n",
    "from pct.functions import *"
   ]
  },
  {
   "cell_type": "code",
   "execution_count": null,
   "metadata": {},
   "outputs": [],
   "source": [
    "%nbdev_export\n",
    "class PCTHierarchy():\n",
    "    \"A hierarchical perceptual control system, of PCTNodes.\"\n",
    "    def __init__(self, rows=0, cols=0, pre=[], post=[], name=\"pcthierarchy\", clear_names=True, links=\"single\", history=False, **pargs):\n",
    "        self.links_built = False\n",
    "        self.order=None\n",
    "        if clear_names:\n",
    "            UniqueNamer.getInstance().clear()\n",
    "        self.name=UniqueNamer.getInstance().get_name(name)\n",
    "        self.preCollection=pre\n",
    "        self.postCollection=post\n",
    "        self.hierarchy = []\n",
    "        for r in range(rows):\n",
    "            col_list=[]\n",
    "            for c in range(cols):\n",
    "                if links == \"dense\":\n",
    "                    if r > 0:\n",
    "                        perc = WeightedSum(weights=np.ones(cols))\n",
    "                    if r < rows-1:\n",
    "                        ref = WeightedSum(weights=np.ones(cols))\n",
    "                    if r == 0:\n",
    "                        node = PCTNode(reference=ref, name=f'row{r}col{c}', history=history)                        \n",
    "                    if r > 0 and r == rows-1:                        \n",
    "                        node = PCTNode(perception=perc, name=f'row{r}col{c}', history=history)\n",
    "                    if r > 0 and r < rows-1:\n",
    "                        node = PCTNode(perception=perc, reference=ref, history=history, name=f'row{r}col{c}')\n",
    "\n",
    "                else:\n",
    "                    node = PCTNode(name=f'row{r}col{c}', history=history)\n",
    "                \n",
    "                node.build_links()\n",
    "                    \n",
    "                self.handle_perception_links(node, r, c, links)\n",
    "                self.handle_reference_links(node, r, c, links)\n",
    "                col_list.append(node)\n",
    "                \n",
    "            self.hierarchy.append(col_list)\n",
    "    \n",
    "    \n",
    "    def __call__(self, verbose=False):\n",
    "\n",
    "        for func in self.preCollection:\n",
    "            #if verbose:\n",
    "            #    print(func.get_name(), end =\" \")\n",
    "            func(verbose)          \n",
    "\n",
    "        if verbose:\n",
    "            print()\n",
    "\n",
    "        if self.order==None:\n",
    "            for row in range(len(self.hierarchy)):\n",
    "                for col in range(len(self.hierarchy[row])):\n",
    "                    node  = self.hierarchy[row][col]\n",
    "                    if verbose:\n",
    "                        print(node.get_name(), end =\" \")\n",
    "                    node(verbose)\n",
    "        else:\n",
    "            for node_name in self.order:\n",
    "                if verbose:\n",
    "                    print(node_name, end =\" \")\n",
    "                FunctionsList.getInstance().get_function(node_name)(verbose)\n",
    "        \n",
    "        for func in self.postCollection:\n",
    "            #if verbose:\n",
    "            #    print(func.get_name(), end =\" \")\n",
    "            func(verbose)          \n",
    "\n",
    "        if verbose:\n",
    "            print()\n",
    "        \n",
    "        output = self.get_output_function().get_value()\n",
    "        \n",
    "        if verbose:\n",
    "            print()\n",
    "        \n",
    "        return output\n",
    "    \n",
    "    \n",
    "    def set_order(self, order):\n",
    "        self.order=order\n",
    "        \n",
    "    def get_output_function(self):\n",
    "        if len(self.postCollection) > 0:\n",
    "            return self.postCollection[-1]\n",
    "        \n",
    "        return self.hierarchy[-1][-1].get_output_function()\n",
    "        \n",
    "    def add_preprocessor(self, func):\n",
    "        self.preCollection.append(func)\n",
    "        \n",
    "    def add_postprocessor(self, func):\n",
    "        self.postCollection.append(func)\n",
    " \n",
    "    def run(self, steps=None, verbose=False):\n",
    "        for i in range(steps):\n",
    "            out = self(verbose)\n",
    "        return out\n",
    "    \n",
    "    def get_node(self, row, col):\n",
    "        return self.hierarchy[row][col]\n",
    "    \n",
    "    def handle_perception_links(self, node, row, col, links_type):\n",
    "        if row == 0 or links_type == None:\n",
    "            return\n",
    "        \n",
    "        if links_type == \"single\":\n",
    "            node.add_link(\"perception\", self.hierarchy[row-1][col].get_function(\"perception\"))\n",
    "        \n",
    "        if links_type == \"dense\":\n",
    "            for column in range(len(self.hierarchy[row-1])):\n",
    "                node.add_link(\"perception\", self.hierarchy[row-1][column].get_function(\"perception\"))\n",
    "\n",
    "    def handle_reference_links(self, thisnode, row, col, links_type):\n",
    "        if row == 0 or links_type == None:\n",
    "            return\n",
    "        \n",
    "        if links_type == \"single\":\n",
    "            thatnode = self.hierarchy[row-1][col]\n",
    "            thatnode.add_link(\"reference\", thisnode.get_function(\"output\"))\n",
    "        \n",
    "        if links_type == \"dense\":\n",
    "            for column in range(len(self.hierarchy[row-1])):\n",
    "                thatnode = self.hierarchy[row-1][column]\n",
    "                thatnode.add_link(\"reference\", thisnode.get_function(\"output\"))\n",
    "\n",
    "    def summary(self, build=True):\n",
    "        print(self.name, type(self).__name__)\n",
    "                \n",
    "        print(\"**************************\")\n",
    "        print(\"PRE:\", end=\" \")\n",
    "        if len(self.preCollection) == 0:\n",
    "            print(\"None\")\n",
    "        for func in self.preCollection:\n",
    "            func.summary()   \n",
    "        \n",
    "            \n",
    "        for row in range(len(self.hierarchy)):\n",
    "            print(f'Level {row}')\n",
    "            for col in range(len(self.hierarchy[row])):\n",
    "                  self.hierarchy[row][col].summary(build=build)\n",
    "            \n",
    "        print(\"POST:\", end=\" \")\n",
    "        if len(self.postCollection) == 0:\n",
    "            print(\"None\")\n",
    "        for func in self.postCollection:\n",
    "            func.summary()   \n",
    "\n",
    "\n",
    "        print(\"**************************\")\n",
    "            \n",
    "            \n",
    "            \n",
    "    def get_config(self):\n",
    "        config = {\"type\": type(self).__name__,\n",
    "                    \"name\": self.name}        \n",
    "        \n",
    "        pre = {}\n",
    "        for i in range(len(self.preCollection)):\n",
    "            pre[f'pre{i}']=self.preCollection[0].get_config()\n",
    "        config['pre']=pre\n",
    "\n",
    "        \n",
    "        levels = {}\n",
    "        for row in range(len(self.hierarchy)):\n",
    "            level ={'level':row}\n",
    "            columns={}\n",
    "            for col in range(len(self.hierarchy[row])):\n",
    "                column={'col':col}\n",
    "                nodeconfig = self.hierarchy[row][col].get_config()\n",
    "                #print(nodeconfig)\n",
    "                column['node']=nodeconfig\n",
    "                #print(column)\n",
    "                columns[f'col{col}']=column\n",
    "            level['nodes']=columns\n",
    "            levels[f'level{row}']=level\n",
    "        config['levels']=levels\n",
    "        \n",
    "        post = {}\n",
    "        for i in range(len(self.postCollection)):\n",
    "            post[f'post{i}']=self.postCollection[0].get_config()\n",
    "        config['post']=post\n",
    "        return config       \n",
    "\n",
    "    \n",
    "    @classmethod\n",
    "    def from_config(cls, config):\n",
    "        hpct = PCTHierarchy(name=config['name'])\n",
    "        preCollection = []        \n",
    "        coll_dict = config['pre']\n",
    "        PCTNode.collection_from_config(preCollection, coll_dict)\n",
    "        \n",
    "        postCollection = []        \n",
    "        coll_dict = config['post']\n",
    "        PCTNode.collection_from_config(postCollection, coll_dict)\n",
    "     \n",
    "        hpct.preCollection=preCollection\n",
    "        hpct.postCollection=postCollection\n",
    "                \n",
    "        hpct.hierarchy=[]\n",
    "        for level_key in config['levels'].keys():\n",
    "            cols = []\n",
    "            for nodes_key in config['levels'][level_key]['nodes'].keys():\n",
    "                node = PCTNode.from_config(config['levels'][level_key]['nodes'][nodes_key]['node'])\n",
    "                cols.append(node)\n",
    "            hpct.hierarchy.append(cols)\n",
    "        \n",
    "    \n",
    "        return hpct\n",
    "    \n",
    "\n",
    "    def add_node(self, node, level=-1, col=-1):\n",
    "        \n",
    "        if len(self.hierarchy)==0:\n",
    "            self.hierarchy.append([])\n",
    "\n",
    "        if level<0 and col<0:\n",
    "            self.hierarchy[0].append(node)\n",
    "        else:\n",
    "            levels = len(self.hierarchy)\n",
    "            if level == levels:\n",
    "                self.hierarchy.append([])      \n",
    "            self.hierarchy[level].insert(col, node)\n",
    "        \n",
    "    def insert_function(self, level=None, col=None, collection=None, function=None, position=-1):\n",
    "        self.hierarchy[level][col].insert_function(collection, function, position)\n",
    "    \n",
    "    def set_links(self, func_name, *link_names):\n",
    "        for link_name in link_names:\n",
    "            FunctionsList.getInstance().get_function(func_name).add_link(FunctionsList.getInstance().get_function(link_name))"
   ]
  },
  {
   "cell_type": "code",
   "execution_count": null,
   "metadata": {},
   "outputs": [],
   "source": [
    "#myhpct.hierarchy"
   ]
  },
  {
   "cell_type": "code",
   "execution_count": null,
   "metadata": {},
   "outputs": [],
   "source": []
  },
  {
   "cell_type": "code",
   "execution_count": null,
   "metadata": {},
   "outputs": [],
   "source": []
  },
  {
   "cell_type": "code",
   "execution_count": null,
   "metadata": {},
   "outputs": [],
   "source": []
  },
  {
   "cell_type": "markdown",
   "metadata": {},
   "source": [
    "## Creating a Hierarchy\n",
    "\n",
    "Create a hierarchy by defining the number of rows (levels) and columns."
   ]
  },
  {
   "cell_type": "code",
   "execution_count": null,
   "metadata": {},
   "outputs": [
    {
     "data": {
      "text/plain": [
       "[[<pct.nodes.PCTNode at 0x204f8fecfc8>,\n",
       "  <pct.nodes.PCTNode at 0x204f8fecb88>,\n",
       "  <pct.nodes.PCTNode at 0x204f8fec548>],\n",
       " [<pct.nodes.PCTNode at 0x204e2a034c8>,\n",
       "  <pct.nodes.PCTNode at 0x204e2a03e48>,\n",
       "  <pct.nodes.PCTNode at 0x204e2a03b48>],\n",
       " [<pct.nodes.PCTNode at 0x204f8f911c8>,\n",
       "  <pct.nodes.PCTNode at 0x204f8f91648>,\n",
       "  <pct.nodes.PCTNode at 0x204f8fc6d08>]]"
      ]
     },
     "execution_count": null,
     "metadata": {},
     "output_type": "execute_result"
    }
   ],
   "source": [
    "pre=Constant(5, name='precon')\n",
    "post=Constant(10, name='postcon')\n",
    "hpct = PCTHierarchy(3,3, pre=[pre], post=[post], history=True, clear_names=False, links=\"dense\")\n",
    "hpct.hierarchy"
   ]
  },
  {
   "cell_type": "markdown",
   "metadata": {},
   "source": [
    "Create a hierarchy from a configuration."
   ]
  },
  {
   "cell_type": "code",
   "execution_count": null,
   "metadata": {},
   "outputs": [],
   "source": [
    "h = PCTHierarchy.from_config(hpct.get_config())"
   ]
  },
  {
   "cell_type": "code",
   "execution_count": null,
   "metadata": {},
   "outputs": [],
   "source": [
    "assert h.get_config() == hpct.get_config()"
   ]
  },
  {
   "cell_type": "markdown",
   "metadata": {},
   "source": [
    "## Viewing a Hierarchy\n",
    "\n",
    "The hierarchy details can be viewed as a summary. "
   ]
  },
  {
   "cell_type": "code",
   "execution_count": null,
   "metadata": {},
   "outputs": [
    {
     "name": "stdout",
     "output_type": "stream",
     "text": [
      "pcthierarchy PCTHierarchy\n",
      "**************************\n",
      "PRE: precon Constant | 5 \n",
      "Level 0\n",
      "row0col0 PCTNode\n",
      "----------------------------\n",
      "REF: weighted_sum WeightedSum | 0 | links  proportional3 proportional4 proportional5 \n",
      "PER: variable Variable | 0 \n",
      "COM: subtract Subtract | 0 | links  weighted_sum variable \n",
      "OUT: proportional Proportional | gain 10 | 0 | links  subtract \n",
      "----------------------------\n",
      "row0col1 PCTNode\n",
      "----------------------------\n",
      "REF: weighted_sum1 WeightedSum | 0 | links  proportional3 proportional4 proportional5 \n",
      "PER: variable1 Variable | 0 \n",
      "COM: subtract1 Subtract | 0 | links  weighted_sum1 variable1 \n",
      "OUT: proportional1 Proportional | gain 10 | 0 | links  subtract1 \n",
      "----------------------------\n",
      "row0col2 PCTNode\n",
      "----------------------------\n",
      "REF: weighted_sum2 WeightedSum | 0 | links  proportional3 proportional4 proportional5 \n",
      "PER: variable2 Variable | 0 \n",
      "COM: subtract2 Subtract | 0 | links  weighted_sum2 variable2 \n",
      "OUT: proportional2 Proportional | gain 10 | 0 | links  subtract2 \n",
      "----------------------------\n",
      "Level 1\n",
      "row1col0 PCTNode\n",
      "----------------------------\n",
      "REF: weighted_sum4 WeightedSum | 0 | links  proportional6 proportional7 proportional8 \n",
      "PER: weighted_sum3 WeightedSum | 0 | links  variable variable1 variable2 \n",
      "COM: subtract3 Subtract | 0 | links  weighted_sum4 weighted_sum3 \n",
      "OUT: proportional3 Proportional | gain 10 | 0 | links  subtract3 \n",
      "----------------------------\n",
      "row1col1 PCTNode\n",
      "----------------------------\n",
      "REF: weighted_sum6 WeightedSum | 0 | links  proportional6 proportional7 proportional8 \n",
      "PER: weighted_sum5 WeightedSum | 0 | links  variable variable1 variable2 \n",
      "COM: subtract4 Subtract | 0 | links  weighted_sum6 weighted_sum5 \n",
      "OUT: proportional4 Proportional | gain 10 | 0 | links  subtract4 \n",
      "----------------------------\n",
      "row1col2 PCTNode\n",
      "----------------------------\n",
      "REF: weighted_sum8 WeightedSum | 0 | links  proportional6 proportional7 proportional8 \n",
      "PER: weighted_sum7 WeightedSum | 0 | links  variable variable1 variable2 \n",
      "COM: subtract5 Subtract | 0 | links  weighted_sum8 weighted_sum7 \n",
      "OUT: proportional5 Proportional | gain 10 | 0 | links  subtract5 \n",
      "----------------------------\n",
      "Level 2\n",
      "row2col0 PCTNode\n",
      "----------------------------\n",
      "REF: constant Constant | 1 \n",
      "PER: weighted_sum9 WeightedSum | 0 | links  weighted_sum3 weighted_sum5 weighted_sum7 \n",
      "COM: subtract6 Subtract | 0 | links  constant weighted_sum9 \n",
      "OUT: proportional6 Proportional | gain 10 | 0 | links  subtract6 \n",
      "----------------------------\n",
      "row2col1 PCTNode\n",
      "----------------------------\n",
      "REF: constant1 Constant | 1 \n",
      "PER: weighted_sum10 WeightedSum | 0 | links  weighted_sum3 weighted_sum5 weighted_sum7 \n",
      "COM: subtract7 Subtract | 0 | links  constant1 weighted_sum10 \n",
      "OUT: proportional7 Proportional | gain 10 | 0 | links  subtract7 \n",
      "----------------------------\n",
      "row2col2 PCTNode\n",
      "----------------------------\n",
      "REF: constant2 Constant | 1 \n",
      "PER: weighted_sum11 WeightedSum | 0 | links  weighted_sum3 weighted_sum5 weighted_sum7 \n",
      "COM: subtract8 Subtract | 0 | links  constant2 weighted_sum11 \n",
      "OUT: proportional8 Proportional | gain 10 | 0 | links  subtract8 \n",
      "----------------------------\n",
      "POST: postcon Constant | 10 \n",
      "**************************\n"
     ]
    }
   ],
   "source": [
    "hpct.summary()"
   ]
  },
  {
   "cell_type": "markdown",
   "metadata": {},
   "source": [
    "The hierarchy details can be viewed as a configuration. That configuration can be used to create a hierarchy, as shown above."
   ]
  },
  {
   "cell_type": "code",
   "execution_count": null,
   "metadata": {},
   "outputs": [
    {
     "data": {
      "text/plain": [
       "{'type': 'PCTHierarchy',\n",
       " 'name': 'pcthierarchy',\n",
       " 'pre': {'pre0': {'type': 'Constant',\n",
       "   'name': 'precon',\n",
       "   'value': 5,\n",
       "   'links': {}}},\n",
       " 'levels': {'level0': {'level': 0,\n",
       "   'nodes': {'col0': {'col': 0,\n",
       "     'node': {'type': 'PCTNode',\n",
       "      'name': 'row0col0',\n",
       "      'refcoll': {'0': {'type': 'WeightedSum',\n",
       "        'name': 'weighted_sum',\n",
       "        'value': 0,\n",
       "        'links': {0: 'proportional3', 1: 'proportional4', 2: 'proportional5'},\n",
       "        'weights': array([1., 1., 1.])}},\n",
       "      'percoll': {'0': {'type': 'Variable',\n",
       "        'name': 'variable',\n",
       "        'value': 0,\n",
       "        'links': {}}},\n",
       "      'comcoll': {'0': {'type': 'Subtract',\n",
       "        'name': 'subtract',\n",
       "        'value': 0,\n",
       "        'links': {0: 'weighted_sum', 1: 'variable'}}},\n",
       "      'outcoll': {'0': {'type': 'Proportional',\n",
       "        'name': 'proportional',\n",
       "        'value': 0,\n",
       "        'links': {0: 'subtract'},\n",
       "        'gain': 10}}}},\n",
       "    'col1': {'col': 1,\n",
       "     'node': {'type': 'PCTNode',\n",
       "      'name': 'row0col1',\n",
       "      'refcoll': {'0': {'type': 'WeightedSum',\n",
       "        'name': 'weighted_sum1',\n",
       "        'value': 0,\n",
       "        'links': {0: 'proportional3', 1: 'proportional4', 2: 'proportional5'},\n",
       "        'weights': array([1., 1., 1.])}},\n",
       "      'percoll': {'0': {'type': 'Variable',\n",
       "        'name': 'variable1',\n",
       "        'value': 0,\n",
       "        'links': {}}},\n",
       "      'comcoll': {'0': {'type': 'Subtract',\n",
       "        'name': 'subtract1',\n",
       "        'value': 0,\n",
       "        'links': {0: 'weighted_sum1', 1: 'variable1'}}},\n",
       "      'outcoll': {'0': {'type': 'Proportional',\n",
       "        'name': 'proportional1',\n",
       "        'value': 0,\n",
       "        'links': {0: 'subtract1'},\n",
       "        'gain': 10}}}},\n",
       "    'col2': {'col': 2,\n",
       "     'node': {'type': 'PCTNode',\n",
       "      'name': 'row0col2',\n",
       "      'refcoll': {'0': {'type': 'WeightedSum',\n",
       "        'name': 'weighted_sum2',\n",
       "        'value': 0,\n",
       "        'links': {0: 'proportional3', 1: 'proportional4', 2: 'proportional5'},\n",
       "        'weights': array([1., 1., 1.])}},\n",
       "      'percoll': {'0': {'type': 'Variable',\n",
       "        'name': 'variable2',\n",
       "        'value': 0,\n",
       "        'links': {}}},\n",
       "      'comcoll': {'0': {'type': 'Subtract',\n",
       "        'name': 'subtract2',\n",
       "        'value': 0,\n",
       "        'links': {0: 'weighted_sum2', 1: 'variable2'}}},\n",
       "      'outcoll': {'0': {'type': 'Proportional',\n",
       "        'name': 'proportional2',\n",
       "        'value': 0,\n",
       "        'links': {0: 'subtract2'},\n",
       "        'gain': 10}}}}}},\n",
       "  'level1': {'level': 1,\n",
       "   'nodes': {'col0': {'col': 0,\n",
       "     'node': {'type': 'PCTNode',\n",
       "      'name': 'row1col0',\n",
       "      'refcoll': {'0': {'type': 'WeightedSum',\n",
       "        'name': 'weighted_sum4',\n",
       "        'value': 0,\n",
       "        'links': {0: 'proportional6', 1: 'proportional7', 2: 'proportional8'},\n",
       "        'weights': array([1., 1., 1.])}},\n",
       "      'percoll': {'0': {'type': 'WeightedSum',\n",
       "        'name': 'weighted_sum3',\n",
       "        'value': 0,\n",
       "        'links': {0: 'variable', 1: 'variable1', 2: 'variable2'},\n",
       "        'weights': array([1., 1., 1.])}},\n",
       "      'comcoll': {'0': {'type': 'Subtract',\n",
       "        'name': 'subtract3',\n",
       "        'value': 0,\n",
       "        'links': {0: 'weighted_sum4', 1: 'weighted_sum3'}}},\n",
       "      'outcoll': {'0': {'type': 'Proportional',\n",
       "        'name': 'proportional3',\n",
       "        'value': 0,\n",
       "        'links': {0: 'subtract3'},\n",
       "        'gain': 10}}}},\n",
       "    'col1': {'col': 1,\n",
       "     'node': {'type': 'PCTNode',\n",
       "      'name': 'row1col1',\n",
       "      'refcoll': {'0': {'type': 'WeightedSum',\n",
       "        'name': 'weighted_sum6',\n",
       "        'value': 0,\n",
       "        'links': {0: 'proportional6', 1: 'proportional7', 2: 'proportional8'},\n",
       "        'weights': array([1., 1., 1.])}},\n",
       "      'percoll': {'0': {'type': 'WeightedSum',\n",
       "        'name': 'weighted_sum5',\n",
       "        'value': 0,\n",
       "        'links': {0: 'variable', 1: 'variable1', 2: 'variable2'},\n",
       "        'weights': array([1., 1., 1.])}},\n",
       "      'comcoll': {'0': {'type': 'Subtract',\n",
       "        'name': 'subtract4',\n",
       "        'value': 0,\n",
       "        'links': {0: 'weighted_sum6', 1: 'weighted_sum5'}}},\n",
       "      'outcoll': {'0': {'type': 'Proportional',\n",
       "        'name': 'proportional4',\n",
       "        'value': 0,\n",
       "        'links': {0: 'subtract4'},\n",
       "        'gain': 10}}}},\n",
       "    'col2': {'col': 2,\n",
       "     'node': {'type': 'PCTNode',\n",
       "      'name': 'row1col2',\n",
       "      'refcoll': {'0': {'type': 'WeightedSum',\n",
       "        'name': 'weighted_sum8',\n",
       "        'value': 0,\n",
       "        'links': {0: 'proportional6', 1: 'proportional7', 2: 'proportional8'},\n",
       "        'weights': array([1., 1., 1.])}},\n",
       "      'percoll': {'0': {'type': 'WeightedSum',\n",
       "        'name': 'weighted_sum7',\n",
       "        'value': 0,\n",
       "        'links': {0: 'variable', 1: 'variable1', 2: 'variable2'},\n",
       "        'weights': array([1., 1., 1.])}},\n",
       "      'comcoll': {'0': {'type': 'Subtract',\n",
       "        'name': 'subtract5',\n",
       "        'value': 0,\n",
       "        'links': {0: 'weighted_sum8', 1: 'weighted_sum7'}}},\n",
       "      'outcoll': {'0': {'type': 'Proportional',\n",
       "        'name': 'proportional5',\n",
       "        'value': 0,\n",
       "        'links': {0: 'subtract5'},\n",
       "        'gain': 10}}}}}},\n",
       "  'level2': {'level': 2,\n",
       "   'nodes': {'col0': {'col': 0,\n",
       "     'node': {'type': 'PCTNode',\n",
       "      'name': 'row2col0',\n",
       "      'refcoll': {'0': {'type': 'Constant',\n",
       "        'name': 'constant',\n",
       "        'value': 1,\n",
       "        'links': {}}},\n",
       "      'percoll': {'0': {'type': 'WeightedSum',\n",
       "        'name': 'weighted_sum9',\n",
       "        'value': 0,\n",
       "        'links': {0: 'weighted_sum3', 1: 'weighted_sum5', 2: 'weighted_sum7'},\n",
       "        'weights': array([1., 1., 1.])}},\n",
       "      'comcoll': {'0': {'type': 'Subtract',\n",
       "        'name': 'subtract6',\n",
       "        'value': 0,\n",
       "        'links': {0: 'constant', 1: 'weighted_sum9'}}},\n",
       "      'outcoll': {'0': {'type': 'Proportional',\n",
       "        'name': 'proportional6',\n",
       "        'value': 0,\n",
       "        'links': {0: 'subtract6'},\n",
       "        'gain': 10}}}},\n",
       "    'col1': {'col': 1,\n",
       "     'node': {'type': 'PCTNode',\n",
       "      'name': 'row2col1',\n",
       "      'refcoll': {'0': {'type': 'Constant',\n",
       "        'name': 'constant1',\n",
       "        'value': 1,\n",
       "        'links': {}}},\n",
       "      'percoll': {'0': {'type': 'WeightedSum',\n",
       "        'name': 'weighted_sum10',\n",
       "        'value': 0,\n",
       "        'links': {0: 'weighted_sum3', 1: 'weighted_sum5', 2: 'weighted_sum7'},\n",
       "        'weights': array([1., 1., 1.])}},\n",
       "      'comcoll': {'0': {'type': 'Subtract',\n",
       "        'name': 'subtract7',\n",
       "        'value': 0,\n",
       "        'links': {0: 'constant1', 1: 'weighted_sum10'}}},\n",
       "      'outcoll': {'0': {'type': 'Proportional',\n",
       "        'name': 'proportional7',\n",
       "        'value': 0,\n",
       "        'links': {0: 'subtract7'},\n",
       "        'gain': 10}}}},\n",
       "    'col2': {'col': 2,\n",
       "     'node': {'type': 'PCTNode',\n",
       "      'name': 'row2col2',\n",
       "      'refcoll': {'0': {'type': 'Constant',\n",
       "        'name': 'constant2',\n",
       "        'value': 1,\n",
       "        'links': {}}},\n",
       "      'percoll': {'0': {'type': 'WeightedSum',\n",
       "        'name': 'weighted_sum11',\n",
       "        'value': 0,\n",
       "        'links': {0: 'weighted_sum3', 1: 'weighted_sum5', 2: 'weighted_sum7'},\n",
       "        'weights': array([1., 1., 1.])}},\n",
       "      'comcoll': {'0': {'type': 'Subtract',\n",
       "        'name': 'subtract8',\n",
       "        'value': 0,\n",
       "        'links': {0: 'constant2', 1: 'weighted_sum11'}}},\n",
       "      'outcoll': {'0': {'type': 'Proportional',\n",
       "        'name': 'proportional8',\n",
       "        'value': 0,\n",
       "        'links': {0: 'subtract8'},\n",
       "        'gain': 10}}}}}}},\n",
       " 'post': {'post0': {'type': 'Constant',\n",
       "   'name': 'postcon',\n",
       "   'value': 10,\n",
       "   'links': {}}}}"
      ]
     },
     "execution_count": null,
     "metadata": {},
     "output_type": "execute_result"
    }
   ],
   "source": [
    "hpct.get_config()"
   ]
  },
  {
   "cell_type": "markdown",
   "metadata": {},
   "source": [
    "Get the output function, which will be the output function of the last node, or the last item of the post-processor functions, if present."
   ]
  },
  {
   "cell_type": "code",
   "execution_count": null,
   "metadata": {},
   "outputs": [
    {
     "name": "stdout",
     "output_type": "stream",
     "text": [
      "{'type': 'Constant', 'name': 'postcon', 'value': 10, 'links': {}}\n"
     ]
    }
   ],
   "source": [
    "link = hpct.get_output_function()\n",
    "print(link.get_config())"
   ]
  },
  {
   "cell_type": "markdown",
   "metadata": {},
   "source": [
    "## Running a hierarchy\n",
    "\n",
    "The hierachy can be run one by calling itself. The verbose flag will print the computations to the screen."
   ]
  },
  {
   "cell_type": "code",
   "execution_count": null,
   "metadata": {},
   "outputs": [
    {
     "name": "stdout",
     "output_type": "stream",
     "text": [
      "5.000 \n",
      "row0col0 0.000 0.000 0.000 0.000 \n",
      "row0col1 0.000 0.000 0.000 0.000 \n",
      "row0col2 0.000 0.000 0.000 0.000 \n",
      "row1col0 0.000 0.000 0.000 0.000 \n",
      "row1col1 0.000 0.000 0.000 0.000 \n",
      "row1col2 0.000 0.000 0.000 0.000 \n",
      "row2col0 1.000 0.000 1.000 10.000 \n",
      "row2col1 1.000 0.000 1.000 10.000 \n",
      "row2col2 1.000 0.000 1.000 10.000 \n",
      "10.000 \n",
      "\n"
     ]
    },
    {
     "data": {
      "text/plain": [
       "10"
      ]
     },
     "execution_count": null,
     "metadata": {},
     "output_type": "execute_result"
    }
   ],
   "source": [
    "hpct(verbose=True)"
   ]
  },
  {
   "cell_type": "markdown",
   "metadata": {},
   "source": [
    "A hierarchy can be executed with the \"run()\" method, providing the number of iterations to run. "
   ]
  },
  {
   "cell_type": "code",
   "execution_count": null,
   "metadata": {},
   "outputs": [
    {
     "data": {
      "text/plain": [
       "10"
      ]
     },
     "execution_count": null,
     "metadata": {},
     "output_type": "execute_result"
    }
   ],
   "source": [
    "hpct1 = PCTHierarchy(3,3, pre=[pre], post=[post], history=True, links=\"dense\")\n",
    "hpct1.run(10)"
   ]
  },
  {
   "cell_type": "markdown",
   "metadata": {},
   "source": [
    "## Viewing Data\n",
    "\n",
    "If the hierarchy is created with the \"history\" flag equal to True, the data can be retrieved for each node. The node is accessed by specifying the row and column within the hierarchy. "
   ]
  },
  {
   "cell_type": "code",
   "execution_count": null,
   "metadata": {},
   "outputs": [
    {
     "name": "stdout",
     "output_type": "stream",
     "text": [
      "{'refcoll': {'weighted_sum6': [0.0, 30.0, 30.0, 30.0, 30.0, 30.0, 30.0, 30.0, 30.0, 30.0]}, 'percoll': {'weighted_sum5': [0.0, 0.0, 0.0, 0.0, 0.0, 0.0, 0.0, 0.0, 0.0, 0.0]}, 'comcoll': {'subtract4': [0.0, 30.0, 30.0, 30.0, 30.0, 30.0, 30.0, 30.0, 30.0, 30.0]}, 'outcoll': {'proportional4': [0.0, 300.0, 300.0, 300.0, 300.0, 300.0, 300.0, 300.0, 300.0, 300.0]}}\n"
     ]
    }
   ],
   "source": [
    "print(hpct1.get_node(1,1).history.data)\n",
    "assert hpct1.get_node(1,1).history.data == {'refcoll': {'weighted_sum6': [0.0, 30.0, 30.0, 30.0, 30.0, 30.0, 30.0, 30.0, 30.0, 30.0]}, 'percoll': {'weighted_sum5': [0.0, 0.0, 0.0, 0.0, 0.0, 0.0, 0.0, 0.0, 0.0, 0.0]}, 'comcoll': {'subtract4': [0.0, 30.0, 30.0, 30.0, 30.0, 30.0, 30.0, 30.0, 30.0, 30.0]}, 'outcoll': {'proportional4': [0.0, 300.0, 300.0, 300.0, 300.0, 300.0, 300.0, 300.0, 300.0, 300.0]}}"
   ]
  },
  {
   "cell_type": "markdown",
   "metadata": {},
   "source": [
    "## Examples\n"
   ]
  },
  {
   "cell_type": "markdown",
   "metadata": {},
   "source": [
    "Build a hierarchy by adding nodes and functions manually.\n",
    "\n",
    "Create an empty hierarchy."
   ]
  },
  {
   "cell_type": "code",
   "execution_count": null,
   "metadata": {},
   "outputs": [
    {
     "name": "stdout",
     "output_type": "stream",
     "text": [
      "pcthierarchy PCTHierarchy\n",
      "**************************\n",
      "PRE: None\n",
      "POST: None\n",
      "**************************\n"
     ]
    }
   ],
   "source": [
    "myhpct = PCTHierarchy()\n",
    "myhpct.summary(build=False)"
   ]
  },
  {
   "cell_type": "markdown",
   "metadata": {},
   "source": [
    "Add a node. Then nodes at particular positions."
   ]
  },
  {
   "cell_type": "code",
   "execution_count": null,
   "metadata": {},
   "outputs": [
    {
     "name": "stdout",
     "output_type": "stream",
     "text": [
      "pcthierarchy PCTHierarchy\n",
      "**************************\n",
      "PRE: None\n",
      "Level 0\n",
      "pctnode2 PCTNode\n",
      "----------------------------\n",
      "REF: constant2 Constant | 1 \n",
      "PER: variable2 Variable | 0 \n",
      "COM: subtract2 Subtract | 0 \n",
      "OUT: proportional2 Proportional | gain 10 | 0 \n",
      "----------------------------\n",
      "pctnode PCTNode\n",
      "----------------------------\n",
      "REF: constant Constant | 1 \n",
      "PER: variable Variable | 0 \n",
      "COM: subtract Subtract | 0 \n",
      "OUT: proportional Proportional | gain 10 | 0 \n",
      "----------------------------\n",
      "Level 1\n",
      "pctnode1 PCTNode\n",
      "----------------------------\n",
      "REF: constant1 Constant | 1 \n",
      "PER: variable1 Variable | 0 \n",
      "COM: subtract1 Subtract | 0 \n",
      "OUT: proportional1 Proportional | gain 10 | 0 \n",
      "----------------------------\n",
      "POST: None\n",
      "**************************\n"
     ]
    }
   ],
   "source": [
    "myhpct.add_node(PCTNode())\n",
    "myhpct.add_node(PCTNode(), level=1)\n",
    "myhpct.add_node(PCTNode(), level=0)\n",
    "myhpct.summary(build=False)"
   ]
  },
  {
   "cell_type": "markdown",
   "metadata": {},
   "source": [
    "Replace functions at particular positions in the hierarchy."
   ]
  },
  {
   "cell_type": "code",
   "execution_count": null,
   "metadata": {},
   "outputs": [],
   "source": [
    "myhpct.insert_function(level=0, col=0, collection=\"perception\", function=Proportional(3, name=\"prop2\"))\n",
    "myhpct.insert_function(level=1, col=0, collection=\"perception\", function=WeightedSum(weights=np.ones(2), name=\"wsum\"))\n",
    "myhpct.insert_function(level=0, col=1, collection=\"reference\", function=Proportional(1, name=\"passthru\"))"
   ]
  },
  {
   "cell_type": "markdown",
   "metadata": {},
   "source": [
    "Add pre and post processor functions."
   ]
  },
  {
   "cell_type": "code",
   "execution_count": null,
   "metadata": {},
   "outputs": [],
   "source": [
    "myhpct.add_preprocessor(Constant(1, name=\"cons1\"))\n",
    "myhpct.add_preprocessor(Proportional(5, name=\"prop1\"))\n",
    "myhpct.add_postprocessor(Proportional(5, name=\"postprop1\"))\n",
    "myhpct.add_postprocessor(Proportional(5, name=\"postprop2\"))"
   ]
  },
  {
   "cell_type": "markdown",
   "metadata": {},
   "source": [
    "Link the functions together."
   ]
  },
  {
   "cell_type": "code",
   "execution_count": null,
   "metadata": {},
   "outputs": [],
   "source": [
    "myhpct.set_links(\"prop1\", \"cons1\")\n",
    "myhpct.set_links(\"prop2\", \"prop1\")\n",
    "myhpct.set_links(\"wsum\", \"prop2\", \"variable\")\n",
    "myhpct.set_links(\"passthru\", \"proportional1\")\n",
    "myhpct.set_links(\"postprop1\", \"proportional\")\n",
    "myhpct.set_links(\"postprop2\", \"postprop1\")"
   ]
  },
  {
   "cell_type": "code",
   "execution_count": null,
   "metadata": {},
   "outputs": [
    {
     "name": "stdout",
     "output_type": "stream",
     "text": [
      "pcthierarchy PCTHierarchy\n",
      "**************************\n",
      "PRE: cons1 Constant | 1 \n",
      "prop1 Proportional | gain 5 | 0 | links  cons1 \n",
      "Level 0\n",
      "pctnode2 PCTNode\n",
      "----------------------------\n",
      "REF: constant2 Constant | 1 \n",
      "PER: prop2 Proportional | gain 3 | 0 | links  prop1 \n",
      "COM: subtract2 Subtract | 0 | links  constant2 prop2 \n",
      "OUT: proportional2 Proportional | gain 10 | 0 | links  subtract2 \n",
      "----------------------------\n",
      "pctnode PCTNode\n",
      "----------------------------\n",
      "REF: passthru Proportional | gain 1 | 0 | links  proportional1 \n",
      "PER: variable Variable | 0 \n",
      "COM: subtract Subtract | 0 | links  passthru variable \n",
      "OUT: proportional Proportional | gain 10 | 0 | links  subtract \n",
      "----------------------------\n",
      "Level 1\n",
      "pctnode1 PCTNode\n",
      "----------------------------\n",
      "REF: constant1 Constant | 1 \n",
      "PER: wsum WeightedSum | 0 | links  prop2 variable \n",
      "COM: subtract1 Subtract | 0 | links  constant1 wsum \n",
      "OUT: proportional1 Proportional | gain 10 | 0 | links  subtract1 \n",
      "----------------------------\n",
      "POST: postprop1 Proportional | gain 5 | 0 | links  proportional \n",
      "postprop2 Proportional | gain 5 | 0 | links  postprop1 \n",
      "**************************\n"
     ]
    }
   ],
   "source": [
    "myhpct.summary()"
   ]
  },
  {
   "cell_type": "markdown",
   "metadata": {},
   "source": [
    "Define the order in which the node will be processed."
   ]
  },
  {
   "cell_type": "code",
   "execution_count": null,
   "metadata": {},
   "outputs": [],
   "source": [
    "myhpct.set_order([\"pctnode2\", \"pctnode1\", \"pctnode\"])"
   ]
  },
  {
   "cell_type": "markdown",
   "metadata": {},
   "source": []
  },
  {
   "cell_type": "code",
   "execution_count": null,
   "metadata": {},
   "outputs": [
    {
     "name": "stdout",
     "output_type": "stream",
     "text": [
      "1.000 5.000 \n",
      "pctnode2 1.000 15.000 -14.000 -140.000 \n",
      "pctnode1 1.000 15.000 -14.000 -140.000 \n",
      "pctnode -140.000 0.000 -140.000 -1400.000 \n",
      "-7000.000 -35000.000 \n",
      "\n",
      "-35000.0\n"
     ]
    }
   ],
   "source": [
    "out = myhpct(verbose=True)\n",
    "print(out)\n",
    "assert out == -35000"
   ]
  },
  {
   "cell_type": "code",
   "execution_count": null,
   "metadata": {},
   "outputs": [
    {
     "name": "stdout",
     "output_type": "stream",
     "text": [
      "Converted 00_examples.ipynb.\n",
      "Converted 02_functions.ipynb.\n",
      "Converted 03_nodes.ipynb.\n",
      "Converted 04_hierarchy.ipynb.\n",
      "Converted index.ipynb.\n"
     ]
    }
   ],
   "source": [
    "#hide\n",
    "from nbdev import *\n",
    "notebook2script()"
   ]
  }
 ],
 "metadata": {
  "kernelspec": {
   "display_name": "Python 3",
   "language": "python",
   "name": "python3"
  }
 },
 "nbformat": 4,
 "nbformat_minor": 4
}
