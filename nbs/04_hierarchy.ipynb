{
 "cells": [
  {
   "cell_type": "code",
   "execution_count": null,
   "metadata": {},
   "outputs": [
    {
     "name": "stdout",
     "output_type": "stream",
     "text": [
      "Cells will be exported to pct.hierarchy,\n",
      "unless a different module is specified after an export flag: `%nbdev_export special.module`\n"
     ]
    }
   ],
   "source": [
    "from nbdev import *\n",
    "%nbdev_default_export hierarchy"
   ]
  },
  {
   "cell_type": "code",
   "execution_count": null,
   "metadata": {},
   "outputs": [],
   "source": [
    "%nbdev_hide\n",
    "%reload_ext autoreload\n",
    "%autoreload 2"
   ]
  },
  {
   "cell_type": "code",
   "execution_count": null,
   "metadata": {},
   "outputs": [],
   "source": [
    "# hide\n",
    "import sys\n",
    "sys.path.append(\"..\")"
   ]
  },
  {
   "cell_type": "markdown",
   "metadata": {},
   "source": [
    "# Hierarchy\n",
    "\n",
    "Creation of Perceptual Control hierarchies."
   ]
  },
  {
   "cell_type": "code",
   "execution_count": null,
   "metadata": {},
   "outputs": [],
   "source": [
    "%nbdev_export\n",
    "import numpy as np\n",
    "from pct.nodes import PCTNode\n",
    "from pct.functions import *\n",
    "from pct.utilities import UniqueNamer\n",
    "from pct.utilities import FunctionsList"
   ]
  },
  {
   "cell_type": "code",
   "execution_count": null,
   "metadata": {},
   "outputs": [],
   "source": [
    "%nbdev_export\n",
    "class PCTHierarchy():\n",
    "    \"A hierarchical perceptual control system, of PCTNodes.\"\n",
    "    def __init__(self, levels=0, cols=0, pre=[], post=[], name=\"pcthierarchy\", clear_names=True, links=\"single\", history=False, **pargs):\n",
    "        self.links_built = False\n",
    "        self.order=None\n",
    "        if clear_names:\n",
    "            UniqueNamer.getInstance().clear()\n",
    "        self.name=UniqueNamer.getInstance().get_name(name)\n",
    "        self.preCollection=pre\n",
    "        self.postCollection=post\n",
    "        self.hierarchy = []\n",
    "        for r in range(levels):\n",
    "            col_list=[]\n",
    "            for c in range(cols):\n",
    "                if links == \"dense\":\n",
    "                    if r > 0:\n",
    "                        perc = WeightedSum(weights=np.ones(cols))\n",
    "                    if r < levels-1:\n",
    "                        ref = WeightedSum(weights=np.ones(cols))\n",
    "                    if r == 0:\n",
    "                        node = PCTNode(reference=ref, name=f'level{r}col{c}', history=history)                        \n",
    "                    if r > 0 and r == levels-1:                        \n",
    "                        node = PCTNode(perception=perc, name=f'level{r}col{c}', history=history)\n",
    "                    if r > 0 and r < levels-1:\n",
    "                        node = PCTNode(perception=perc, reference=ref, history=history, name=f'level{r}col{c}')\n",
    "\n",
    "                else:\n",
    "                    node = PCTNode(name=f'level{r}col{c}', history=history)\n",
    "                \n",
    "                node.build_links()\n",
    "                    \n",
    "                self.handle_perception_links(node, r, c, links)\n",
    "                self.handle_reference_links(node, r, c, links)\n",
    "                col_list.append(node)\n",
    "                \n",
    "            self.hierarchy.append(col_list)\n",
    "    \n",
    "    \n",
    "    def __call__(self, verbose=False):\n",
    "\n",
    "        for func in self.preCollection:\n",
    "            #if verbose:\n",
    "            #    print(func.get_name(), end =\" \")\n",
    "            func(verbose)          \n",
    "\n",
    "        if verbose:\n",
    "            print()\n",
    "\n",
    "        if self.order==None:\n",
    "            for level in range(len(self.hierarchy)):\n",
    "                for col in range(len(self.hierarchy[level])):\n",
    "                    node  = self.hierarchy[level][col]\n",
    "                    if verbose:\n",
    "                        print(node.get_name(), end =\" \")\n",
    "                    node(verbose)\n",
    "        else:\n",
    "            for node_name in self.order:\n",
    "                if verbose:\n",
    "                    print(node_name, end =\" \")\n",
    "                FunctionsList.getInstance().get_function(node_name)(verbose)\n",
    "        \n",
    "        for func in self.postCollection:\n",
    "            #if verbose:\n",
    "            #    print(func.get_name(), end =\" \")\n",
    "            func(verbose)          \n",
    "\n",
    "        if verbose:\n",
    "            print()\n",
    "        \n",
    "        output = self.get_output_function().get_value()\n",
    "        \n",
    "        if verbose:\n",
    "            print()\n",
    "        \n",
    "        return output\n",
    "    \n",
    "    \n",
    "    def set_order(self, order):\n",
    "        self.order=order\n",
    "        \n",
    "    def get_output_function(self):\n",
    "        if len(self.postCollection) > 0:\n",
    "            return self.postCollection[-1]\n",
    "        \n",
    "        return self.hierarchy[-1][-1].get_output_function()\n",
    "        \n",
    "    def add_preprocessor(self, func):\n",
    "        self.preCollection.append(func)\n",
    "        \n",
    "    def add_postprocessor(self, func):\n",
    "        self.postCollection.append(func)\n",
    " \n",
    "    def run(self, steps=None, verbose=False):\n",
    "        for i in range(steps):\n",
    "            out = self(verbose)\n",
    "        return out\n",
    "    \n",
    "    def get_node(self, level, col):\n",
    "        return self.hierarchy[level][col]\n",
    "    \n",
    "    def handle_perception_links(self, node, level, col, links_type):\n",
    "        if level == 0 or links_type == None:\n",
    "            return\n",
    "        \n",
    "        if links_type == \"single\":\n",
    "            node.add_link(\"perception\", self.hierarchy[level-1][col].get_function(\"perception\"))\n",
    "        \n",
    "        if links_type == \"dense\":\n",
    "            for column in range(len(self.hierarchy[level-1])):\n",
    "                node.add_link(\"perception\", self.hierarchy[level-1][column].get_function(\"perception\"))\n",
    "\n",
    "    def handle_reference_links(self, thisnode, level, col, links_type):\n",
    "        if level == 0 or links_type == None:\n",
    "            return\n",
    "        \n",
    "        if links_type == \"single\":\n",
    "            thatnode = self.hierarchy[level-1][col]\n",
    "            thatnode.add_link(\"reference\", thisnode.get_function(\"output\"))\n",
    "        \n",
    "        if links_type == \"dense\":\n",
    "            for column in range(len(self.hierarchy[level-1])):\n",
    "                thatnode = self.hierarchy[level-1][column]\n",
    "                thatnode.add_link(\"reference\", thisnode.get_function(\"output\"))\n",
    "\n",
    "    def summary(self, build=True):\n",
    "        print(self.name, type(self).__name__)\n",
    "                \n",
    "        print(\"**************************\")\n",
    "        print(\"PRE:\", end=\" \")\n",
    "        if len(self.preCollection) == 0:\n",
    "            print(\"None\")\n",
    "        for func in self.preCollection:\n",
    "            func.summary()   \n",
    "        \n",
    "            \n",
    "        for level in range(len(self.hierarchy)):\n",
    "            print(f'Level {level}')\n",
    "            for col in range(len(self.hierarchy[level])):\n",
    "                  self.hierarchy[level][col].summary(build=build)\n",
    "            \n",
    "        print(\"POST:\", end=\" \")\n",
    "        if len(self.postCollection) == 0:\n",
    "            print(\"None\")\n",
    "        for func in self.postCollection:\n",
    "            func.summary()   \n",
    "\n",
    "\n",
    "        print(\"**************************\")\n",
    "            \n",
    "            \n",
    "            \n",
    "    def get_config(self):\n",
    "        config = {\"type\": type(self).__name__,\n",
    "                    \"name\": self.name}        \n",
    "        \n",
    "        pre = {}\n",
    "        for i in range(len(self.preCollection)):\n",
    "            pre[f'pre{i}']=self.preCollection[0].get_config()\n",
    "        config['pre']=pre\n",
    "\n",
    "        \n",
    "        levels = {}\n",
    "        for lvl in range(len(self.hierarchy)):\n",
    "            level ={'level':lvl}\n",
    "            columns={}\n",
    "            for col in range(len(self.hierarchy[lvl])):\n",
    "                column={'col':col}\n",
    "                nodeconfig = self.hierarchy[lvl][col].get_config()\n",
    "                #print(nodeconfig)\n",
    "                column['node']=nodeconfig\n",
    "                #print(column)\n",
    "                columns[f'col{col}']=column\n",
    "            level['nodes']=columns\n",
    "            levels[f'level{level}']=level\n",
    "        config['levels']=levels\n",
    "        \n",
    "        post = {}\n",
    "        for i in range(len(self.postCollection)):\n",
    "            post[f'post{i}']=self.postCollection[0].get_config()\n",
    "        config['post']=post\n",
    "        return config       \n",
    "\n",
    "    \n",
    "    @classmethod\n",
    "    def from_config(cls, config):\n",
    "        hpct = PCTHierarchy(name=config['name'])\n",
    "        preCollection = []        \n",
    "        coll_dict = config['pre']\n",
    "        PCTNode.collection_from_config(preCollection, coll_dict)\n",
    "        \n",
    "        postCollection = []        \n",
    "        coll_dict = config['post']\n",
    "        PCTNode.collection_from_config(postCollection, coll_dict)\n",
    "     \n",
    "        hpct.preCollection=preCollection\n",
    "        hpct.postCollection=postCollection\n",
    "                \n",
    "        hpct.hierarchy=[]\n",
    "        for level_key in config['levels'].keys():\n",
    "            cols = []\n",
    "            for nodes_key in config['levels'][level_key]['nodes'].keys():\n",
    "                node = PCTNode.from_config(config['levels'][level_key]['nodes'][nodes_key]['node'])\n",
    "                cols.append(node)\n",
    "            hpct.hierarchy.append(cols)\n",
    "        \n",
    "    \n",
    "        return hpct\n",
    "    \n",
    "\n",
    "    def add_node(self, node, level=-1, col=-1):\n",
    "        \n",
    "        if len(self.hierarchy)==0:\n",
    "            self.hierarchy.append([])\n",
    "\n",
    "        if level<0 and col<0:\n",
    "            self.hierarchy[0].append(node)\n",
    "        else:\n",
    "            levels = len(self.hierarchy)\n",
    "            if level == levels:\n",
    "                self.hierarchy.append([])      \n",
    "            self.hierarchy[level].insert(col, node)\n",
    "        \n",
    "    def insert_function(self, level=None, col=None, collection=None, function=None, position=-1):\n",
    "        self.hierarchy[level][col].insert_function(collection, function, position)\n",
    "    \n",
    "    def set_links(self, func_name, *link_names):\n",
    "        for link_name in link_names:\n",
    "            FunctionsList.getInstance().get_function(func_name).add_link(FunctionsList.getInstance().get_function(link_name))"
   ]
  },
  {
   "cell_type": "markdown",
   "metadata": {},
   "source": [
    "## Creating a Hierarchy\n",
    "\n",
    "Create a hierarchy by defining the number of rows (levels) and columns."
   ]
  },
  {
   "cell_type": "code",
   "execution_count": null,
   "metadata": {},
   "outputs": [
    {
     "data": {
      "text/plain": [
       "[[<pct.nodes.PCTNode at 0x17dc2e40888>,\n",
       "  <pct.nodes.PCTNode at 0x17dc2e40788>,\n",
       "  <pct.nodes.PCTNode at 0x17dc2e40f48>],\n",
       " [<pct.nodes.PCTNode at 0x17dc2e40188>,\n",
       "  <pct.nodes.PCTNode at 0x17dc2d2e088>,\n",
       "  <pct.nodes.PCTNode at 0x17dac767748>],\n",
       " [<pct.nodes.PCTNode at 0x17dc2d27588>,\n",
       "  <pct.nodes.PCTNode at 0x17dc2d27a48>,\n",
       "  <pct.nodes.PCTNode at 0x17dc2d27e08>]]"
      ]
     },
     "execution_count": null,
     "metadata": {},
     "output_type": "execute_result"
    }
   ],
   "source": [
    "pre=Constant(5, name='precon')\n",
    "post=Constant(10, name='postcon')\n",
    "hpct = PCTHierarchy(3,3, pre=[pre], post=[post], history=True, clear_names=False, links=\"dense\")\n",
    "hpct.hierarchy"
   ]
  },
  {
   "cell_type": "markdown",
   "metadata": {},
   "source": [
    "Create a hierarchy from a configuration."
   ]
  },
  {
   "cell_type": "code",
   "execution_count": null,
   "metadata": {},
   "outputs": [],
   "source": [
    "h = PCTHierarchy.from_config(hpct.get_config())"
   ]
  },
  {
   "cell_type": "code",
   "execution_count": null,
   "metadata": {},
   "outputs": [],
   "source": [
    "assert h.get_config() == hpct.get_config()"
   ]
  },
  {
   "cell_type": "markdown",
   "metadata": {},
   "source": [
    "## Viewing a Hierarchy\n",
    "\n",
    "The hierarchy details can be viewed as a summary. "
   ]
  },
  {
   "cell_type": "code",
   "execution_count": null,
   "metadata": {},
   "outputs": [
    {
     "name": "stdout",
     "output_type": "stream",
     "text": [
      "pcthierarchy1 PCTHierarchy\n",
      "**************************\n",
      "PRE: precon1 Constant | 5 \n",
      "Level 0\n",
      "level0col01 PCTNode\n",
      "----------------------------\n",
      "REF: weighted_sum12 WeightedSum | 0 | links  proportional12 proportional13 proportional14 \n",
      "PER: variable3 Variable | 0 \n",
      "COM: subtract9 Subtract | 0 | links  weighted_sum12 variable3 \n",
      "OUT: proportional9 Proportional | gain 10 | 0 | links  subtract9 \n",
      "----------------------------\n",
      "level0col11 PCTNode\n",
      "----------------------------\n",
      "REF: weighted_sum13 WeightedSum | 0 | links  proportional12 proportional13 proportional14 \n",
      "PER: variable4 Variable | 0 \n",
      "COM: subtract10 Subtract | 0 | links  weighted_sum13 variable4 \n",
      "OUT: proportional10 Proportional | gain 10 | 0 | links  subtract10 \n",
      "----------------------------\n",
      "level0col21 PCTNode\n",
      "----------------------------\n",
      "REF: weighted_sum14 WeightedSum | 0 | links  proportional12 proportional13 proportional14 \n",
      "PER: variable5 Variable | 0 \n",
      "COM: subtract11 Subtract | 0 | links  weighted_sum14 variable5 \n",
      "OUT: proportional11 Proportional | gain 10 | 0 | links  subtract11 \n",
      "----------------------------\n",
      "Level 1\n",
      "level1col01 PCTNode\n",
      "----------------------------\n",
      "REF: weighted_sum16 WeightedSum | 0 | links  proportional15 proportional16 proportional17 \n",
      "PER: weighted_sum15 WeightedSum | 0 | links  variable3 variable4 variable5 \n",
      "COM: subtract12 Subtract | 0 | links  weighted_sum16 weighted_sum15 \n",
      "OUT: proportional12 Proportional | gain 10 | 0 | links  subtract12 \n",
      "----------------------------\n",
      "level1col11 PCTNode\n",
      "----------------------------\n",
      "REF: weighted_sum18 WeightedSum | 0 | links  proportional15 proportional16 proportional17 \n",
      "PER: weighted_sum17 WeightedSum | 0 | links  variable3 variable4 variable5 \n",
      "COM: subtract13 Subtract | 0 | links  weighted_sum18 weighted_sum17 \n",
      "OUT: proportional13 Proportional | gain 10 | 0 | links  subtract13 \n",
      "----------------------------\n",
      "level1col21 PCTNode\n",
      "----------------------------\n",
      "REF: weighted_sum20 WeightedSum | 0 | links  proportional15 proportional16 proportional17 \n",
      "PER: weighted_sum19 WeightedSum | 0 | links  variable3 variable4 variable5 \n",
      "COM: subtract14 Subtract | 0 | links  weighted_sum20 weighted_sum19 \n",
      "OUT: proportional14 Proportional | gain 10 | 0 | links  subtract14 \n",
      "----------------------------\n",
      "Level 2\n",
      "level2col01 PCTNode\n",
      "----------------------------\n",
      "REF: constant3 Constant | 1 \n",
      "PER: weighted_sum21 WeightedSum | 0 | links  weighted_sum15 weighted_sum17 weighted_sum19 \n",
      "COM: subtract15 Subtract | 0 | links  constant3 weighted_sum21 \n",
      "OUT: proportional15 Proportional | gain 10 | 0 | links  subtract15 \n",
      "----------------------------\n",
      "level2col11 PCTNode\n",
      "----------------------------\n",
      "REF: constant4 Constant | 1 \n",
      "PER: weighted_sum22 WeightedSum | 0 | links  weighted_sum15 weighted_sum17 weighted_sum19 \n",
      "COM: subtract16 Subtract | 0 | links  constant4 weighted_sum22 \n",
      "OUT: proportional16 Proportional | gain 10 | 0 | links  subtract16 \n",
      "----------------------------\n",
      "level2col21 PCTNode\n",
      "----------------------------\n",
      "REF: constant5 Constant | 1 \n",
      "PER: weighted_sum23 WeightedSum | 0 | links  weighted_sum15 weighted_sum17 weighted_sum19 \n",
      "COM: subtract17 Subtract | 0 | links  constant5 weighted_sum23 \n",
      "OUT: proportional17 Proportional | gain 10 | 0 | links  subtract17 \n",
      "----------------------------\n",
      "POST: postcon1 Constant | 10 \n",
      "**************************\n"
     ]
    }
   ],
   "source": [
    "hpct.summary()"
   ]
  },
  {
   "cell_type": "markdown",
   "metadata": {},
   "source": [
    "The hierarchy details can be viewed as a configuration. That configuration can be used to create a hierarchy, as shown above."
   ]
  },
  {
   "cell_type": "code",
   "execution_count": null,
   "metadata": {},
   "outputs": [
    {
     "data": {
      "text/plain": [
       "{'type': 'PCTHierarchy',\n",
       " 'name': 'pcthierarchy1',\n",
       " 'pre': {'pre0': {'type': 'Constant',\n",
       "   'name': 'precon1',\n",
       "   'value': 5,\n",
       "   'links': {}}},\n",
       " 'levels': {\"level{'level': 0, 'nodes': {'col0': {'col': 0, 'node': {'type': 'PCTNode', 'name': 'level0col01', 'refcoll': {'0': {'type': 'WeightedSum', 'name': 'weighted_sum12', 'value': 0, 'links': {0: 'proportional12', 1: 'proportional13', 2: 'proportional14'}, 'weights': array([1., 1., 1.])}}, 'percoll': {'0': {'type': 'Variable', 'name': 'variable3', 'value': 0, 'links': {}}}, 'comcoll': {'0': {'type': 'Subtract', 'name': 'subtract9', 'value': 0, 'links': {0: 'weighted_sum12', 1: 'variable3'}}}, 'outcoll': {'0': {'type': 'Proportional', 'name': 'proportional9', 'value': 0, 'links': {0: 'subtract9'}, 'gain': 10}}}}, 'col1': {'col': 1, 'node': {'type': 'PCTNode', 'name': 'level0col11', 'refcoll': {'0': {'type': 'WeightedSum', 'name': 'weighted_sum13', 'value': 0, 'links': {0: 'proportional12', 1: 'proportional13', 2: 'proportional14'}, 'weights': array([1., 1., 1.])}}, 'percoll': {'0': {'type': 'Variable', 'name': 'variable4', 'value': 0, 'links': {}}}, 'comcoll': {'0': {'type': 'Subtract', 'name': 'subtract10', 'value': 0, 'links': {0: 'weighted_sum13', 1: 'variable4'}}}, 'outcoll': {'0': {'type': 'Proportional', 'name': 'proportional10', 'value': 0, 'links': {0: 'subtract10'}, 'gain': 10}}}}, 'col2': {'col': 2, 'node': {'type': 'PCTNode', 'name': 'level0col21', 'refcoll': {'0': {'type': 'WeightedSum', 'name': 'weighted_sum14', 'value': 0, 'links': {0: 'proportional12', 1: 'proportional13', 2: 'proportional14'}, 'weights': array([1., 1., 1.])}}, 'percoll': {'0': {'type': 'Variable', 'name': 'variable5', 'value': 0, 'links': {}}}, 'comcoll': {'0': {'type': 'Subtract', 'name': 'subtract11', 'value': 0, 'links': {0: 'weighted_sum14', 1: 'variable5'}}}, 'outcoll': {'0': {'type': 'Proportional', 'name': 'proportional11', 'value': 0, 'links': {0: 'subtract11'}, 'gain': 10}}}}}}\": {'level': 0,\n",
       "   'nodes': {'col0': {'col': 0,\n",
       "     'node': {'type': 'PCTNode',\n",
       "      'name': 'level0col01',\n",
       "      'refcoll': {'0': {'type': 'WeightedSum',\n",
       "        'name': 'weighted_sum12',\n",
       "        'value': 0,\n",
       "        'links': {0: 'proportional12',\n",
       "         1: 'proportional13',\n",
       "         2: 'proportional14'},\n",
       "        'weights': array([1., 1., 1.])}},\n",
       "      'percoll': {'0': {'type': 'Variable',\n",
       "        'name': 'variable3',\n",
       "        'value': 0,\n",
       "        'links': {}}},\n",
       "      'comcoll': {'0': {'type': 'Subtract',\n",
       "        'name': 'subtract9',\n",
       "        'value': 0,\n",
       "        'links': {0: 'weighted_sum12', 1: 'variable3'}}},\n",
       "      'outcoll': {'0': {'type': 'Proportional',\n",
       "        'name': 'proportional9',\n",
       "        'value': 0,\n",
       "        'links': {0: 'subtract9'},\n",
       "        'gain': 10}}}},\n",
       "    'col1': {'col': 1,\n",
       "     'node': {'type': 'PCTNode',\n",
       "      'name': 'level0col11',\n",
       "      'refcoll': {'0': {'type': 'WeightedSum',\n",
       "        'name': 'weighted_sum13',\n",
       "        'value': 0,\n",
       "        'links': {0: 'proportional12',\n",
       "         1: 'proportional13',\n",
       "         2: 'proportional14'},\n",
       "        'weights': array([1., 1., 1.])}},\n",
       "      'percoll': {'0': {'type': 'Variable',\n",
       "        'name': 'variable4',\n",
       "        'value': 0,\n",
       "        'links': {}}},\n",
       "      'comcoll': {'0': {'type': 'Subtract',\n",
       "        'name': 'subtract10',\n",
       "        'value': 0,\n",
       "        'links': {0: 'weighted_sum13', 1: 'variable4'}}},\n",
       "      'outcoll': {'0': {'type': 'Proportional',\n",
       "        'name': 'proportional10',\n",
       "        'value': 0,\n",
       "        'links': {0: 'subtract10'},\n",
       "        'gain': 10}}}},\n",
       "    'col2': {'col': 2,\n",
       "     'node': {'type': 'PCTNode',\n",
       "      'name': 'level0col21',\n",
       "      'refcoll': {'0': {'type': 'WeightedSum',\n",
       "        'name': 'weighted_sum14',\n",
       "        'value': 0,\n",
       "        'links': {0: 'proportional12',\n",
       "         1: 'proportional13',\n",
       "         2: 'proportional14'},\n",
       "        'weights': array([1., 1., 1.])}},\n",
       "      'percoll': {'0': {'type': 'Variable',\n",
       "        'name': 'variable5',\n",
       "        'value': 0,\n",
       "        'links': {}}},\n",
       "      'comcoll': {'0': {'type': 'Subtract',\n",
       "        'name': 'subtract11',\n",
       "        'value': 0,\n",
       "        'links': {0: 'weighted_sum14', 1: 'variable5'}}},\n",
       "      'outcoll': {'0': {'type': 'Proportional',\n",
       "        'name': 'proportional11',\n",
       "        'value': 0,\n",
       "        'links': {0: 'subtract11'},\n",
       "        'gain': 10}}}}}},\n",
       "  \"level{'level': 1, 'nodes': {'col0': {'col': 0, 'node': {'type': 'PCTNode', 'name': 'level1col01', 'refcoll': {'0': {'type': 'WeightedSum', 'name': 'weighted_sum16', 'value': 0, 'links': {0: 'proportional15', 1: 'proportional16', 2: 'proportional17'}, 'weights': array([1., 1., 1.])}}, 'percoll': {'0': {'type': 'WeightedSum', 'name': 'weighted_sum15', 'value': 0, 'links': {0: 'variable3', 1: 'variable4', 2: 'variable5'}, 'weights': array([1., 1., 1.])}}, 'comcoll': {'0': {'type': 'Subtract', 'name': 'subtract12', 'value': 0, 'links': {0: 'weighted_sum16', 1: 'weighted_sum15'}}}, 'outcoll': {'0': {'type': 'Proportional', 'name': 'proportional12', 'value': 0, 'links': {0: 'subtract12'}, 'gain': 10}}}}, 'col1': {'col': 1, 'node': {'type': 'PCTNode', 'name': 'level1col11', 'refcoll': {'0': {'type': 'WeightedSum', 'name': 'weighted_sum18', 'value': 0, 'links': {0: 'proportional15', 1: 'proportional16', 2: 'proportional17'}, 'weights': array([1., 1., 1.])}}, 'percoll': {'0': {'type': 'WeightedSum', 'name': 'weighted_sum17', 'value': 0, 'links': {0: 'variable3', 1: 'variable4', 2: 'variable5'}, 'weights': array([1., 1., 1.])}}, 'comcoll': {'0': {'type': 'Subtract', 'name': 'subtract13', 'value': 0, 'links': {0: 'weighted_sum18', 1: 'weighted_sum17'}}}, 'outcoll': {'0': {'type': 'Proportional', 'name': 'proportional13', 'value': 0, 'links': {0: 'subtract13'}, 'gain': 10}}}}, 'col2': {'col': 2, 'node': {'type': 'PCTNode', 'name': 'level1col21', 'refcoll': {'0': {'type': 'WeightedSum', 'name': 'weighted_sum20', 'value': 0, 'links': {0: 'proportional15', 1: 'proportional16', 2: 'proportional17'}, 'weights': array([1., 1., 1.])}}, 'percoll': {'0': {'type': 'WeightedSum', 'name': 'weighted_sum19', 'value': 0, 'links': {0: 'variable3', 1: 'variable4', 2: 'variable5'}, 'weights': array([1., 1., 1.])}}, 'comcoll': {'0': {'type': 'Subtract', 'name': 'subtract14', 'value': 0, 'links': {0: 'weighted_sum20', 1: 'weighted_sum19'}}}, 'outcoll': {'0': {'type': 'Proportional', 'name': 'proportional14', 'value': 0, 'links': {0: 'subtract14'}, 'gain': 10}}}}}}\": {'level': 1,\n",
       "   'nodes': {'col0': {'col': 0,\n",
       "     'node': {'type': 'PCTNode',\n",
       "      'name': 'level1col01',\n",
       "      'refcoll': {'0': {'type': 'WeightedSum',\n",
       "        'name': 'weighted_sum16',\n",
       "        'value': 0,\n",
       "        'links': {0: 'proportional15',\n",
       "         1: 'proportional16',\n",
       "         2: 'proportional17'},\n",
       "        'weights': array([1., 1., 1.])}},\n",
       "      'percoll': {'0': {'type': 'WeightedSum',\n",
       "        'name': 'weighted_sum15',\n",
       "        'value': 0,\n",
       "        'links': {0: 'variable3', 1: 'variable4', 2: 'variable5'},\n",
       "        'weights': array([1., 1., 1.])}},\n",
       "      'comcoll': {'0': {'type': 'Subtract',\n",
       "        'name': 'subtract12',\n",
       "        'value': 0,\n",
       "        'links': {0: 'weighted_sum16', 1: 'weighted_sum15'}}},\n",
       "      'outcoll': {'0': {'type': 'Proportional',\n",
       "        'name': 'proportional12',\n",
       "        'value': 0,\n",
       "        'links': {0: 'subtract12'},\n",
       "        'gain': 10}}}},\n",
       "    'col1': {'col': 1,\n",
       "     'node': {'type': 'PCTNode',\n",
       "      'name': 'level1col11',\n",
       "      'refcoll': {'0': {'type': 'WeightedSum',\n",
       "        'name': 'weighted_sum18',\n",
       "        'value': 0,\n",
       "        'links': {0: 'proportional15',\n",
       "         1: 'proportional16',\n",
       "         2: 'proportional17'},\n",
       "        'weights': array([1., 1., 1.])}},\n",
       "      'percoll': {'0': {'type': 'WeightedSum',\n",
       "        'name': 'weighted_sum17',\n",
       "        'value': 0,\n",
       "        'links': {0: 'variable3', 1: 'variable4', 2: 'variable5'},\n",
       "        'weights': array([1., 1., 1.])}},\n",
       "      'comcoll': {'0': {'type': 'Subtract',\n",
       "        'name': 'subtract13',\n",
       "        'value': 0,\n",
       "        'links': {0: 'weighted_sum18', 1: 'weighted_sum17'}}},\n",
       "      'outcoll': {'0': {'type': 'Proportional',\n",
       "        'name': 'proportional13',\n",
       "        'value': 0,\n",
       "        'links': {0: 'subtract13'},\n",
       "        'gain': 10}}}},\n",
       "    'col2': {'col': 2,\n",
       "     'node': {'type': 'PCTNode',\n",
       "      'name': 'level1col21',\n",
       "      'refcoll': {'0': {'type': 'WeightedSum',\n",
       "        'name': 'weighted_sum20',\n",
       "        'value': 0,\n",
       "        'links': {0: 'proportional15',\n",
       "         1: 'proportional16',\n",
       "         2: 'proportional17'},\n",
       "        'weights': array([1., 1., 1.])}},\n",
       "      'percoll': {'0': {'type': 'WeightedSum',\n",
       "        'name': 'weighted_sum19',\n",
       "        'value': 0,\n",
       "        'links': {0: 'variable3', 1: 'variable4', 2: 'variable5'},\n",
       "        'weights': array([1., 1., 1.])}},\n",
       "      'comcoll': {'0': {'type': 'Subtract',\n",
       "        'name': 'subtract14',\n",
       "        'value': 0,\n",
       "        'links': {0: 'weighted_sum20', 1: 'weighted_sum19'}}},\n",
       "      'outcoll': {'0': {'type': 'Proportional',\n",
       "        'name': 'proportional14',\n",
       "        'value': 0,\n",
       "        'links': {0: 'subtract14'},\n",
       "        'gain': 10}}}}}},\n",
       "  \"level{'level': 2, 'nodes': {'col0': {'col': 0, 'node': {'type': 'PCTNode', 'name': 'level2col01', 'refcoll': {'0': {'type': 'Constant', 'name': 'constant3', 'value': 1, 'links': {}}}, 'percoll': {'0': {'type': 'WeightedSum', 'name': 'weighted_sum21', 'value': 0, 'links': {0: 'weighted_sum15', 1: 'weighted_sum17', 2: 'weighted_sum19'}, 'weights': array([1., 1., 1.])}}, 'comcoll': {'0': {'type': 'Subtract', 'name': 'subtract15', 'value': 0, 'links': {0: 'constant3', 1: 'weighted_sum21'}}}, 'outcoll': {'0': {'type': 'Proportional', 'name': 'proportional15', 'value': 0, 'links': {0: 'subtract15'}, 'gain': 10}}}}, 'col1': {'col': 1, 'node': {'type': 'PCTNode', 'name': 'level2col11', 'refcoll': {'0': {'type': 'Constant', 'name': 'constant4', 'value': 1, 'links': {}}}, 'percoll': {'0': {'type': 'WeightedSum', 'name': 'weighted_sum22', 'value': 0, 'links': {0: 'weighted_sum15', 1: 'weighted_sum17', 2: 'weighted_sum19'}, 'weights': array([1., 1., 1.])}}, 'comcoll': {'0': {'type': 'Subtract', 'name': 'subtract16', 'value': 0, 'links': {0: 'constant4', 1: 'weighted_sum22'}}}, 'outcoll': {'0': {'type': 'Proportional', 'name': 'proportional16', 'value': 0, 'links': {0: 'subtract16'}, 'gain': 10}}}}, 'col2': {'col': 2, 'node': {'type': 'PCTNode', 'name': 'level2col21', 'refcoll': {'0': {'type': 'Constant', 'name': 'constant5', 'value': 1, 'links': {}}}, 'percoll': {'0': {'type': 'WeightedSum', 'name': 'weighted_sum23', 'value': 0, 'links': {0: 'weighted_sum15', 1: 'weighted_sum17', 2: 'weighted_sum19'}, 'weights': array([1., 1., 1.])}}, 'comcoll': {'0': {'type': 'Subtract', 'name': 'subtract17', 'value': 0, 'links': {0: 'constant5', 1: 'weighted_sum23'}}}, 'outcoll': {'0': {'type': 'Proportional', 'name': 'proportional17', 'value': 0, 'links': {0: 'subtract17'}, 'gain': 10}}}}}}\": {'level': 2,\n",
       "   'nodes': {'col0': {'col': 0,\n",
       "     'node': {'type': 'PCTNode',\n",
       "      'name': 'level2col01',\n",
       "      'refcoll': {'0': {'type': 'Constant',\n",
       "        'name': 'constant3',\n",
       "        'value': 1,\n",
       "        'links': {}}},\n",
       "      'percoll': {'0': {'type': 'WeightedSum',\n",
       "        'name': 'weighted_sum21',\n",
       "        'value': 0,\n",
       "        'links': {0: 'weighted_sum15',\n",
       "         1: 'weighted_sum17',\n",
       "         2: 'weighted_sum19'},\n",
       "        'weights': array([1., 1., 1.])}},\n",
       "      'comcoll': {'0': {'type': 'Subtract',\n",
       "        'name': 'subtract15',\n",
       "        'value': 0,\n",
       "        'links': {0: 'constant3', 1: 'weighted_sum21'}}},\n",
       "      'outcoll': {'0': {'type': 'Proportional',\n",
       "        'name': 'proportional15',\n",
       "        'value': 0,\n",
       "        'links': {0: 'subtract15'},\n",
       "        'gain': 10}}}},\n",
       "    'col1': {'col': 1,\n",
       "     'node': {'type': 'PCTNode',\n",
       "      'name': 'level2col11',\n",
       "      'refcoll': {'0': {'type': 'Constant',\n",
       "        'name': 'constant4',\n",
       "        'value': 1,\n",
       "        'links': {}}},\n",
       "      'percoll': {'0': {'type': 'WeightedSum',\n",
       "        'name': 'weighted_sum22',\n",
       "        'value': 0,\n",
       "        'links': {0: 'weighted_sum15',\n",
       "         1: 'weighted_sum17',\n",
       "         2: 'weighted_sum19'},\n",
       "        'weights': array([1., 1., 1.])}},\n",
       "      'comcoll': {'0': {'type': 'Subtract',\n",
       "        'name': 'subtract16',\n",
       "        'value': 0,\n",
       "        'links': {0: 'constant4', 1: 'weighted_sum22'}}},\n",
       "      'outcoll': {'0': {'type': 'Proportional',\n",
       "        'name': 'proportional16',\n",
       "        'value': 0,\n",
       "        'links': {0: 'subtract16'},\n",
       "        'gain': 10}}}},\n",
       "    'col2': {'col': 2,\n",
       "     'node': {'type': 'PCTNode',\n",
       "      'name': 'level2col21',\n",
       "      'refcoll': {'0': {'type': 'Constant',\n",
       "        'name': 'constant5',\n",
       "        'value': 1,\n",
       "        'links': {}}},\n",
       "      'percoll': {'0': {'type': 'WeightedSum',\n",
       "        'name': 'weighted_sum23',\n",
       "        'value': 0,\n",
       "        'links': {0: 'weighted_sum15',\n",
       "         1: 'weighted_sum17',\n",
       "         2: 'weighted_sum19'},\n",
       "        'weights': array([1., 1., 1.])}},\n",
       "      'comcoll': {'0': {'type': 'Subtract',\n",
       "        'name': 'subtract17',\n",
       "        'value': 0,\n",
       "        'links': {0: 'constant5', 1: 'weighted_sum23'}}},\n",
       "      'outcoll': {'0': {'type': 'Proportional',\n",
       "        'name': 'proportional17',\n",
       "        'value': 0,\n",
       "        'links': {0: 'subtract17'},\n",
       "        'gain': 10}}}}}}},\n",
       " 'post': {'post0': {'type': 'Constant',\n",
       "   'name': 'postcon1',\n",
       "   'value': 10,\n",
       "   'links': {}}}}"
      ]
     },
     "execution_count": null,
     "metadata": {},
     "output_type": "execute_result"
    }
   ],
   "source": [
    "hpct.get_config()"
   ]
  },
  {
   "cell_type": "markdown",
   "metadata": {},
   "source": [
    "Get the output function, which will be the output function of the last node, or the last item of the post-processor functions, if present."
   ]
  },
  {
   "cell_type": "code",
   "execution_count": null,
   "metadata": {},
   "outputs": [
    {
     "name": "stdout",
     "output_type": "stream",
     "text": [
      "{'type': 'Constant', 'name': 'postcon1', 'value': 10, 'links': {}}\n"
     ]
    }
   ],
   "source": [
    "link = hpct.get_output_function()\n",
    "print(link.get_config())"
   ]
  },
  {
   "cell_type": "markdown",
   "metadata": {},
   "source": [
    "## Running a hierarchy\n",
    "\n",
    "The hierachy can be run one by calling itself. The verbose flag will print the computations to the screen."
   ]
  },
  {
   "cell_type": "code",
   "execution_count": null,
   "metadata": {},
   "outputs": [
    {
     "name": "stdout",
     "output_type": "stream",
     "text": [
      "5.000 \n",
      "level0col01 0.000 0.000 0.000 0.000 \n",
      "level0col11 0.000 0.000 0.000 0.000 \n",
      "level0col21 0.000 0.000 0.000 0.000 \n",
      "level1col01 0.000 0.000 0.000 0.000 \n",
      "level1col11 0.000 0.000 0.000 0.000 \n",
      "level1col21 0.000 0.000 0.000 0.000 \n",
      "level2col01 1.000 0.000 1.000 10.000 \n",
      "level2col11 1.000 0.000 1.000 10.000 \n",
      "level2col21 1.000 0.000 1.000 10.000 \n",
      "10.000 \n",
      "\n"
     ]
    },
    {
     "data": {
      "text/plain": [
       "10"
      ]
     },
     "execution_count": null,
     "metadata": {},
     "output_type": "execute_result"
    }
   ],
   "source": [
    "hpct(verbose=True)"
   ]
  },
  {
   "cell_type": "markdown",
   "metadata": {},
   "source": [
    "A hierarchy can be executed with the \"run()\" method, providing the number of iterations to run. "
   ]
  },
  {
   "cell_type": "code",
   "execution_count": null,
   "metadata": {},
   "outputs": [
    {
     "data": {
      "text/plain": [
       "10"
      ]
     },
     "execution_count": null,
     "metadata": {},
     "output_type": "execute_result"
    }
   ],
   "source": [
    "hpct1 = PCTHierarchy(3,3, pre=[pre], post=[post], history=True, links=\"dense\")\n",
    "hpct1.run(10)"
   ]
  },
  {
   "cell_type": "markdown",
   "metadata": {},
   "source": [
    "## Viewing Data\n",
    "\n",
    "If the hierarchy is created with the \"history\" flag equal to True, the data can be retrieved for each node. The node is accessed by specifying the row and column within the hierarchy. "
   ]
  },
  {
   "cell_type": "code",
   "execution_count": null,
   "metadata": {},
   "outputs": [
    {
     "name": "stdout",
     "output_type": "stream",
     "text": [
      "{'refcoll': {'weighted_sum6': [0.0, 30.0, 30.0, 30.0, 30.0, 30.0, 30.0, 30.0, 30.0, 30.0]}, 'percoll': {'weighted_sum5': [0.0, 0.0, 0.0, 0.0, 0.0, 0.0, 0.0, 0.0, 0.0, 0.0]}, 'comcoll': {'subtract4': [0.0, 30.0, 30.0, 30.0, 30.0, 30.0, 30.0, 30.0, 30.0, 30.0]}, 'outcoll': {'proportional4': [0.0, 300.0, 300.0, 300.0, 300.0, 300.0, 300.0, 300.0, 300.0, 300.0]}}\n"
     ]
    }
   ],
   "source": [
    "print(hpct1.get_node(1,1).history.data)\n",
    "assert hpct1.get_node(1,1).history.data == {'refcoll': {'weighted_sum6': [0.0, 30.0, 30.0, 30.0, 30.0, 30.0, 30.0, 30.0, 30.0, 30.0]}, 'percoll': {'weighted_sum5': [0.0, 0.0, 0.0, 0.0, 0.0, 0.0, 0.0, 0.0, 0.0, 0.0]}, 'comcoll': {'subtract4': [0.0, 30.0, 30.0, 30.0, 30.0, 30.0, 30.0, 30.0, 30.0, 30.0]}, 'outcoll': {'proportional4': [0.0, 300.0, 300.0, 300.0, 300.0, 300.0, 300.0, 300.0, 300.0, 300.0]}}"
   ]
  },
  {
   "cell_type": "markdown",
   "metadata": {},
   "source": [
    "## Examples\n"
   ]
  },
  {
   "cell_type": "markdown",
   "metadata": {},
   "source": [
    "Build a hierarchy by adding nodes and functions manually.\n",
    "\n",
    "Create an empty hierarchy."
   ]
  },
  {
   "cell_type": "code",
   "execution_count": null,
   "metadata": {},
   "outputs": [
    {
     "name": "stdout",
     "output_type": "stream",
     "text": [
      "pcthierarchy PCTHierarchy\n",
      "**************************\n",
      "PRE: None\n",
      "POST: None\n",
      "**************************\n"
     ]
    }
   ],
   "source": [
    "myhpct = PCTHierarchy()\n",
    "myhpct.summary(build=False)"
   ]
  },
  {
   "cell_type": "markdown",
   "metadata": {},
   "source": [
    "Add a node. Then nodes at particular positions."
   ]
  },
  {
   "cell_type": "code",
   "execution_count": null,
   "metadata": {},
   "outputs": [
    {
     "name": "stdout",
     "output_type": "stream",
     "text": [
      "pcthierarchy PCTHierarchy\n",
      "**************************\n",
      "PRE: None\n",
      "Level 0\n",
      "pctnode2 PCTNode\n",
      "----------------------------\n",
      "REF: constant2 Constant | 1 \n",
      "PER: variable2 Variable | 0 \n",
      "COM: subtract2 Subtract | 0 \n",
      "OUT: proportional2 Proportional | gain 10 | 0 \n",
      "----------------------------\n",
      "pctnode PCTNode\n",
      "----------------------------\n",
      "REF: constant Constant | 1 \n",
      "PER: variable Variable | 0 \n",
      "COM: subtract Subtract | 0 \n",
      "OUT: proportional Proportional | gain 10 | 0 \n",
      "----------------------------\n",
      "Level 1\n",
      "pctnode1 PCTNode\n",
      "----------------------------\n",
      "REF: constant1 Constant | 1 \n",
      "PER: variable1 Variable | 0 \n",
      "COM: subtract1 Subtract | 0 \n",
      "OUT: proportional1 Proportional | gain 10 | 0 \n",
      "----------------------------\n",
      "POST: None\n",
      "**************************\n"
     ]
    }
   ],
   "source": [
    "myhpct.add_node(PCTNode())\n",
    "myhpct.add_node(PCTNode(), level=1)\n",
    "myhpct.add_node(PCTNode(), level=0)\n",
    "myhpct.summary(build=False)"
   ]
  },
  {
   "cell_type": "markdown",
   "metadata": {},
   "source": [
    "Replace functions at particular positions in the hierarchy."
   ]
  },
  {
   "cell_type": "code",
   "execution_count": null,
   "metadata": {},
   "outputs": [],
   "source": [
    "myhpct.insert_function(level=0, col=0, collection=\"perception\", function=Proportional(3, name=\"prop2\"))\n",
    "myhpct.insert_function(level=1, col=0, collection=\"perception\", function=WeightedSum(weights=np.ones(2), name=\"wsum\"))\n",
    "myhpct.insert_function(level=0, col=1, collection=\"reference\", function=Proportional(1, name=\"passthru\"))"
   ]
  },
  {
   "cell_type": "markdown",
   "metadata": {},
   "source": [
    "Add pre and post processor functions."
   ]
  },
  {
   "cell_type": "code",
   "execution_count": null,
   "metadata": {},
   "outputs": [],
   "source": [
    "myhpct.add_preprocessor(Constant(1, name=\"cons1\"))\n",
    "myhpct.add_preprocessor(Proportional(5, name=\"prop1\"))\n",
    "myhpct.add_postprocessor(Proportional(5, name=\"postprop1\"))\n",
    "myhpct.add_postprocessor(Proportional(5, name=\"postprop2\"))"
   ]
  },
  {
   "cell_type": "markdown",
   "metadata": {},
   "source": [
    "Link the functions together."
   ]
  },
  {
   "cell_type": "code",
   "execution_count": null,
   "metadata": {},
   "outputs": [],
   "source": [
    "myhpct.set_links(\"prop1\", \"cons1\")\n",
    "myhpct.set_links(\"prop2\", \"prop1\")\n",
    "myhpct.set_links(\"wsum\", \"prop2\", \"variable\")\n",
    "myhpct.set_links(\"passthru\", \"proportional1\")\n",
    "myhpct.set_links(\"postprop1\", \"proportional\")\n",
    "myhpct.set_links(\"postprop2\", \"postprop1\")"
   ]
  },
  {
   "cell_type": "code",
   "execution_count": null,
   "metadata": {},
   "outputs": [
    {
     "name": "stdout",
     "output_type": "stream",
     "text": [
      "pcthierarchy PCTHierarchy\n",
      "**************************\n",
      "PRE: cons1 Constant | 1 \n",
      "prop1 Proportional | gain 5 | 0 | links  cons1 \n",
      "Level 0\n",
      "pctnode2 PCTNode\n",
      "----------------------------\n",
      "REF: constant2 Constant | 1 \n",
      "PER: prop2 Proportional | gain 3 | 0 | links  prop1 \n",
      "COM: subtract2 Subtract | 0 | links  constant2 prop2 \n",
      "OUT: proportional2 Proportional | gain 10 | 0 | links  subtract2 \n",
      "----------------------------\n",
      "pctnode PCTNode\n",
      "----------------------------\n",
      "REF: passthru Proportional | gain 1 | 0 | links  proportional1 \n",
      "PER: variable Variable | 0 \n",
      "COM: subtract Subtract | 0 | links  passthru variable \n",
      "OUT: proportional Proportional | gain 10 | 0 | links  subtract \n",
      "----------------------------\n",
      "Level 1\n",
      "pctnode1 PCTNode\n",
      "----------------------------\n",
      "REF: constant1 Constant | 1 \n",
      "PER: wsum WeightedSum | 0 | links  prop2 variable \n",
      "COM: subtract1 Subtract | 0 | links  constant1 wsum \n",
      "OUT: proportional1 Proportional | gain 10 | 0 | links  subtract1 \n",
      "----------------------------\n",
      "POST: postprop1 Proportional | gain 5 | 0 | links  proportional \n",
      "postprop2 Proportional | gain 5 | 0 | links  postprop1 \n",
      "**************************\n"
     ]
    }
   ],
   "source": [
    "myhpct.summary()"
   ]
  },
  {
   "cell_type": "markdown",
   "metadata": {},
   "source": [
    "Define the order in which the node will be processed."
   ]
  },
  {
   "cell_type": "code",
   "execution_count": null,
   "metadata": {},
   "outputs": [],
   "source": [
    "myhpct.set_order([\"pctnode2\", \"pctnode1\", \"pctnode\"])"
   ]
  },
  {
   "cell_type": "markdown",
   "metadata": {},
   "source": [
    "Run the hierarchy once."
   ]
  },
  {
   "cell_type": "code",
   "execution_count": null,
   "metadata": {},
   "outputs": [
    {
     "name": "stdout",
     "output_type": "stream",
     "text": [
      "1.000 5.000 \n",
      "pctnode2 1.000 15.000 -14.000 -140.000 \n",
      "pctnode1 1.000 15.000 -14.000 -140.000 \n",
      "pctnode -140.000 0.000 -140.000 -1400.000 \n",
      "-7000.000 -35000.000 \n",
      "\n",
      "-35000.0\n"
     ]
    }
   ],
   "source": [
    "out = myhpct(verbose=True)\n",
    "print(out)\n",
    "assert out == -35000"
   ]
  },
  {
   "cell_type": "code",
   "execution_count": null,
   "metadata": {},
   "outputs": [
    {
     "name": "stdout",
     "output_type": "stream",
     "text": [
      "Converted 00_examples.ipynb.\n",
      "Converted 01_utilities.ipynb.\n",
      "Converted 02_functions.ipynb.\n",
      "Converted 03_nodes.ipynb.\n",
      "Converted 04_hierarchy.ipynb.\n",
      "Converted index.ipynb.\n"
     ]
    }
   ],
   "source": [
    "#hide\n",
    "from nbdev import *\n",
    "notebook2script()"
   ]
  },
  {
   "cell_type": "code",
   "execution_count": null,
   "metadata": {},
   "outputs": [],
   "source": []
  }
 ],
 "metadata": {
  "kernelspec": {
   "display_name": "Python 3",
   "language": "python",
   "name": "python3"
  }
 },
 "nbformat": 4,
 "nbformat_minor": 4
}
