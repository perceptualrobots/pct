{
 "cells": [
  {
   "cell_type": "code",
   "execution_count": null,
   "metadata": {},
   "outputs": [
    {
     "name": "stdout",
     "output_type": "stream",
     "text": [
      "Cells will be exported to pct.hierarchy,\n",
      "unless a different module is specified after an export flag: `%nbdev_export special.module`\n"
     ]
    }
   ],
   "source": [
    "from nbdev import *\n",
    "%nbdev_default_export hierarchy"
   ]
  },
  {
   "cell_type": "code",
   "execution_count": null,
   "metadata": {},
   "outputs": [],
   "source": [
    "%nbdev_hide\n",
    "%reload_ext autoreload\n",
    "%autoreload 2"
   ]
  },
  {
   "cell_type": "code",
   "execution_count": null,
   "metadata": {},
   "outputs": [],
   "source": [
    "# hide\n",
    "import sys\n",
    "sys.path.append(\"..\")"
   ]
  },
  {
   "cell_type": "markdown",
   "metadata": {},
   "source": [
    "# Hierarchy\n",
    "\n",
    "Creation of Perceptual Control hierarchies."
   ]
  },
  {
   "cell_type": "code",
   "execution_count": null,
   "metadata": {},
   "outputs": [],
   "source": [
    "%nbdev_export\n",
    "import numpy as np\n",
    "from pct.nodes import PCTNode\n",
    "from pct.functions import Variable"
   ]
  },
  {
   "cell_type": "code",
   "execution_count": null,
   "metadata": {},
   "outputs": [],
   "source": [
    "%nbdev_export\n",
    "class PCTHierarchy():\n",
    "    \"A hierarchical perceptual control system, of PCTNodes.\"\n",
    "    def __init__(self, rows=1, cols=1, name=\"pcthierarchy\", links=\"sparse\", history=False, **pargs):\n",
    "        self.links_built = False\n",
    "        self.name=name \n",
    "        \n",
    "        self.hierarchy = []\n",
    "        print(self.hierarchy)\n",
    "        for r in range(rows):\n",
    "            col_list=[]\n",
    "            for c in range(cols):\n",
    "                node = PCTNode(name=f'row{r}col{c}')\n",
    "                col_list.append(node)\n",
    "                \n",
    "            self.hierarchy.append(col_list)\n",
    "                \n",
    "#        if history:\n",
    "#            self.history = PCTNodeData()\n",
    "\n",
    "\n",
    "\n",
    "    def get_config(self):\n",
    "        config = {\"type\": type(self).__name__,\n",
    "                    \"name\": self.name}        \n",
    "        \n",
    "        levels = {}\n",
    "        for row in range(len(self.hierarchy)):\n",
    "            level ={'level':row}\n",
    "            columns={}\n",
    "            for col in range(len(self.hierarchy[row])):\n",
    "                column={'col':col}\n",
    "                nodeconfig = self.hierarchy[row][col].get_config()\n",
    "                #print(nodeconfig)\n",
    "                column['node']=nodeconfig\n",
    "                #print(column)\n",
    "                columns[f'col{col}']=column\n",
    "            level['nodes']=columns\n",
    "            levels[f'level{row}']=level\n",
    "        config['levels']=levels\n",
    "        return config       \n"
   ]
  },
  {
   "cell_type": "code",
   "execution_count": null,
   "metadata": {},
   "outputs": [
    {
     "name": "stdout",
     "output_type": "stream",
     "text": [
      "[]\n"
     ]
    },
    {
     "data": {
      "text/plain": [
       "[[<pct.nodes.PCTNode at 0x2c44ff49348>, <pct.nodes.PCTNode at 0x2c44ff497c8>],\n",
       " [<pct.nodes.PCTNode at 0x2c44ff49108>, <pct.nodes.PCTNode at 0x2c44ff49e08>]]"
      ]
     },
     "execution_count": null,
     "metadata": {},
     "output_type": "execute_result"
    }
   ],
   "source": [
    "hpct = PCTHierarchy(2,2)\n",
    "hpct.hierarchy\n"
   ]
  },
  {
   "cell_type": "code",
   "execution_count": null,
   "metadata": {},
   "outputs": [
    {
     "data": {
      "text/plain": [
       "{'type': 'PCTHierarchy',\n",
       " 'name': 'pcthierarchy',\n",
       " 'levels': {'level0': {'level': 0,\n",
       "   'nodes': {'col0': {'col': 0,\n",
       "     'node': {'type': 'PCTNode',\n",
       "      'name': 'row0col0',\n",
       "      'refcoll': {'0': {'type': 'Constant',\n",
       "        'name': 'constant',\n",
       "        'value': 1,\n",
       "        'links': {}}},\n",
       "      'percoll': {'0': {'type': 'Variable',\n",
       "        'name': 'variable',\n",
       "        'value': 0,\n",
       "        'links': {}}},\n",
       "      'comcoll': {'0': {'type': 'Subtract',\n",
       "        'name': 'subtract',\n",
       "        'value': 0,\n",
       "        'links': {}}},\n",
       "      'outcoll': {'0': {'type': 'Proportional',\n",
       "        'name': 'proportional',\n",
       "        'value': 0,\n",
       "        'links': {},\n",
       "        'gain': 10}}}},\n",
       "    'col1': {'col': 1,\n",
       "     'node': {'type': 'PCTNode',\n",
       "      'name': 'row0col1',\n",
       "      'refcoll': {'0': {'type': 'Constant',\n",
       "        'name': 'constant',\n",
       "        'value': 1,\n",
       "        'links': {}}},\n",
       "      'percoll': {'0': {'type': 'Variable',\n",
       "        'name': 'variable',\n",
       "        'value': 0,\n",
       "        'links': {}}},\n",
       "      'comcoll': {'0': {'type': 'Subtract',\n",
       "        'name': 'subtract',\n",
       "        'value': 0,\n",
       "        'links': {}}},\n",
       "      'outcoll': {'0': {'type': 'Proportional',\n",
       "        'name': 'proportional',\n",
       "        'value': 0,\n",
       "        'links': {},\n",
       "        'gain': 10}}}}}},\n",
       "  'level1': {'level': 1,\n",
       "   'nodes': {'col0': {'col': 0,\n",
       "     'node': {'type': 'PCTNode',\n",
       "      'name': 'row1col0',\n",
       "      'refcoll': {'0': {'type': 'Constant',\n",
       "        'name': 'constant',\n",
       "        'value': 1,\n",
       "        'links': {}}},\n",
       "      'percoll': {'0': {'type': 'Variable',\n",
       "        'name': 'variable',\n",
       "        'value': 0,\n",
       "        'links': {}}},\n",
       "      'comcoll': {'0': {'type': 'Subtract',\n",
       "        'name': 'subtract',\n",
       "        'value': 0,\n",
       "        'links': {}}},\n",
       "      'outcoll': {'0': {'type': 'Proportional',\n",
       "        'name': 'proportional',\n",
       "        'value': 0,\n",
       "        'links': {},\n",
       "        'gain': 10}}}},\n",
       "    'col1': {'col': 1,\n",
       "     'node': {'type': 'PCTNode',\n",
       "      'name': 'row1col1',\n",
       "      'refcoll': {'0': {'type': 'Constant',\n",
       "        'name': 'constant',\n",
       "        'value': 1,\n",
       "        'links': {}}},\n",
       "      'percoll': {'0': {'type': 'Variable',\n",
       "        'name': 'variable',\n",
       "        'value': 0,\n",
       "        'links': {}}},\n",
       "      'comcoll': {'0': {'type': 'Subtract',\n",
       "        'name': 'subtract',\n",
       "        'value': 0,\n",
       "        'links': {}}},\n",
       "      'outcoll': {'0': {'type': 'Proportional',\n",
       "        'name': 'proportional',\n",
       "        'value': 0,\n",
       "        'links': {},\n",
       "        'gain': 10}}}}}}}}"
      ]
     },
     "execution_count": null,
     "metadata": {},
     "output_type": "execute_result"
    }
   ],
   "source": [
    "hpct.get_config()"
   ]
  },
  {
   "cell_type": "code",
   "execution_count": null,
   "metadata": {},
   "outputs": [],
   "source": [
    "#hide\n",
    "from nbdev import *\n",
    "notebook2script()"
   ]
  }
 ],
 "metadata": {
  "kernelspec": {
   "display_name": "Python 3",
   "language": "python",
   "name": "python3"
  }
 },
 "nbformat": 4,
 "nbformat_minor": 4
}
