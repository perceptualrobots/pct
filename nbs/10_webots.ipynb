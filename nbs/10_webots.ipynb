{
 "cells": [
  {
   "cell_type": "code",
   "execution_count": null,
   "id": "57ac3ef2",
   "metadata": {},
   "outputs": [],
   "source": [
    "#| default_exp webots"
   ]
  },
  {
   "cell_type": "code",
   "execution_count": null,
   "id": "85c7d254",
   "metadata": {},
   "outputs": [],
   "source": [
    "from pct.functions import BaseFunction"
   ]
  },
  {
   "cell_type": "code",
   "execution_count": null,
   "id": "cf5bedb0",
   "metadata": {},
   "outputs": [],
   "source": [
    "# from controller import Robot\n",
    "# import sys\n",
    "\n",
    "# # We provide a set of utilities to help you with the development of your controller. You can find them in the utils folder.\n",
    "# # If you want to see a list of examples that use them, you can go to https://github.com/cyberbotics/wrestling#demo-robot-controllers\n",
    "# sys.path.append('..')\n",
    "# from utils.motion_library import MotionLibrary\n",
    "\n",
    "# from utils.image_processing import ImageProcessing as IP\n",
    "# from utils.fall_detection import FallDetection\n",
    "# from utils.gait_manager import GaitManager\n",
    "# from utils.camera import Camera\n"
   ]
  },
  {
   "cell_type": "code",
   "execution_count": null,
   "id": "3b7590b1",
   "metadata": {},
   "outputs": [],
   "source": []
  },
  {
   "cell_type": "code",
   "execution_count": null,
   "id": "341a151b",
   "metadata": {},
   "outputs": [],
   "source": [
    "#| export\n",
    "# class Wrestler(Robot, BaseFunction):\n",
    "#     \"A function that creates and runs a Webots Wrestler robot.\"\n",
    "    \n",
    "#     def __init__(self, render=False, value=0, name=\"Wrestler\", seed=None, links=None, new_name=True, \n",
    "#                  early_termination=True, namespace=None, **cargs):        \n",
    "#         BaseFunction.__init__('Wrestler', value=value, name=name, links=links, new_name=new_name, namespace=namespace, **cargs)\n",
    "#         Robot.__init__(self)\n",
    "#         self.early_termination=early_termination\n",
    "        \n",
    "        \n",
    "#     def __call__(self, verbose=False):        \n",
    "#         super().__call__(verbose)\n",
    "                \n",
    "#         return self.value\n",
    "\n",
    "#     def early_terminate(self):\n",
    "#         if self.early_termination:\n",
    "#             if self.really_done:\n",
    "#                 raise Exception(f'1000: OpenAIGym Env: {self.env_name} has terminated.')\n",
    "#             if self.done:\n",
    "#                 self.reward = 0\n",
    "#                 self.really_done = True\n",
    "                \n",
    "#     def process_input(self):\n",
    "#         force = min(max(self.input, self.min_action), self.max_action)\n",
    "#         self.input=[force]\n",
    "        \n",
    "#     def process_values(self):\n",
    "#         reward = self.obs[1]\n",
    "#         if reward > 90:\n",
    "#             reward = 0\n",
    "#         self.reward = - reward\n",
    "#         pos = self.value[0] + 1.2\n",
    "#         self.value = np.append(self.value, pos)\n",
    "\n",
    "#     def summary(self, extra=False):\n",
    "#         super().summary(\"\", extra=extra)\n",
    "        \n",
    "#     def get_graph_name(self):\n",
    "#         return super().get_graph_name() \n",
    "\n",
    "#     def get_config(self, zero=1):\n",
    "#         \"Return the JSON  configuration of the function.\"\n",
    "#         config = {\"type\": type(self).__name__,\n",
    "#                     \"name\": self.name}\n",
    "        \n",
    "#         if isinstance(self.value, np.ndarray):\n",
    "#             config[\"value\"] = self.value.tolist() * zero\n",
    "#         else:\n",
    "#             config[\"value\"] = self.value * zero\n",
    "        \n",
    "#         ctr=0\n",
    "#         links={}\n",
    "#         for link in self.links:\n",
    "#             func = FunctionsList.getInstance().get_function(self.namespace, link)\n",
    "#             try:\n",
    "#                 links[ctr]=func.get_name()\n",
    "#             except AttributeError:\n",
    "#                 #raise Exception(f' there is no function called {link}, ensure it exists first.')            \n",
    "#                 print(f'WARN: there is no function called {link}, ensure it exists first.')            \n",
    "#                 links[ctr]=func\n",
    "                \n",
    "#             ctr+=1\n",
    "        \n",
    "#         config['links']=links\n",
    "\n",
    "#         config[\"env_name\"] = self.env_name\n",
    "#         #config[\"values\"] = self.value\n",
    "#         config[\"reward\"] = self.reward\n",
    "#         config[\"done\"] = self.done\n",
    "#         config[\"info\"] = self.info\n",
    "    \n",
    "    \n",
    "#     class Factory:\n",
    "#         def create(self, seed=None): return Wrestler(seed=seed)\n",
    "#     class FactoryWithNamespace:\n",
    "#         def create(self, namespace=None, seed=None): return Wrestler(namespace=namespace, seed=seed)               "
   ]
  },
  {
   "cell_type": "code",
   "execution_count": null,
   "id": "1766fb48",
   "metadata": {},
   "outputs": [],
   "source": [
    "\n",
    "#wrestler = Wrestler()\n",
    "\n"
   ]
  },
  {
   "cell_type": "code",
   "execution_count": null,
   "id": "54cf3d09",
   "metadata": {},
   "outputs": [],
   "source": []
  }
 ],
 "metadata": {
  "kernelspec": {
   "display_name": "Python 3 (ipykernel)",
   "language": "python",
   "name": "python3"
  }
 },
 "nbformat": 4,
 "nbformat_minor": 5
}
