{
 "cells": [
  {
   "cell_type": "code",
   "execution_count": null,
   "id": "57ac3ef2",
   "metadata": {},
   "outputs": [],
   "source": [
    "#| default_exp webots"
   ]
  },
  {
   "cell_type": "code",
   "execution_count": null,
   "id": "341a151b",
   "metadata": {},
   "outputs": [],
   "source": [
    "#| export\n",
    "class WebotsHelper():\n",
    "    \n",
    "    def __init__(self, name=None, mode=1):\n",
    "        self.name = name\n",
    "        self.mode = mode\n",
    "        if self.mode==1:\n",
    "            self.num_sensors=6\n",
    "            self.num_links=6\n",
    "\n",
    "    def get_sensor_indexes(self):\n",
    "        if self.mode==1:\n",
    "            return [i for i in range(self.num_sensors)]\n",
    "        \n",
    "        \n",
    "    def get_sensor_names(self):\n",
    "        if self.mode==1:\n",
    "            return [ 'LHipPitch', 'LKneePitch', 'LAnklePitch', 'RHipPitch', 'RKneePitch', 'RAnklePitch']\n",
    "    \n",
    "    def get_references(self):\n",
    "        if self.mode==1:\n",
    "            return [i for i in range(self.num_sensors)]\n",
    "        \n",
    "    def get_sensor_values(self, msg):            \n",
    "        return msg.values()\n",
    "    \n",
    "    def get_num_links(self):\n",
    "        return self.num_links\n",
    "        "
   ]
  },
  {
   "cell_type": "code",
   "execution_count": null,
   "id": "54cf3d09",
   "metadata": {},
   "outputs": [],
   "source": [
    "#| hide\n",
    "import nbdev; nbdev.nbdev_export()"
   ]
  }
 ],
 "metadata": {
  "kernelspec": {
   "display_name": "python3",
   "language": "python",
   "name": "python3"
  }
 },
 "nbformat": 4,
 "nbformat_minor": 5
}
