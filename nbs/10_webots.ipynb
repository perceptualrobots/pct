{
 "cells": [
  {
   "cell_type": "markdown",
   "id": "ebe72bd4",
   "metadata": {},
   "source": [
    "---\n",
    "description: A helper class for the Webots environment.\n",
    "output-file: webots.html\n",
    "title: Webots\n",
    "\n",
    "---"
   ]
  },
  {
   "cell_type": "code",
   "execution_count": null,
   "id": "0a28696a",
   "metadata": {},
   "outputs": [],
   "source": [
    "%load_ext autoreload\n",
    "%autoreload 2"
   ]
  },
  {
   "cell_type": "code",
   "execution_count": null,
   "id": "6ee32eae",
   "metadata": {},
   "outputs": [],
   "source": [
    "#| default_exp webots"
   ]
  },
  {
   "cell_type": "code",
   "execution_count": null,
   "id": "341a151b",
   "metadata": {},
   "outputs": [],
   "source": [
    "#| export\n",
    "class WebotsHelper():\n",
    "    \n",
    "    def __init__(self, name=None, mode=1):\n",
    "        self.name = name\n",
    "        self.mode = mode\n",
    "        if self.mode==1:\n",
    "            self.sensor_names = [ 'LHipPitch', 'LKneePitch', 'LAnklePitch', 'RHipPitch', 'RKneePitch', 'RAnklePitch']\n",
    "            self.num_sensors=len(self.sensor_names)\n",
    "            self.num_links=self.num_sensors\n",
    "\n",
    "    def get_sensor_indexes(self):\n",
    "        if self.mode==1:\n",
    "            return [i for i in range(self.num_sensors)]\n",
    "        \n",
    "        \n",
    "    def get_sensor_names(self):\n",
    "        return self.sensor_names\n",
    "\n",
    "    def get_references(self):\n",
    "        if self.mode==1:\n",
    "            return [0.5]#[i for i in range(self.num_sensors)]\n",
    "        \n",
    "    def get_sensor_values(self, msg):            \n",
    "        return list(msg.values())\n",
    "    \n",
    "    def get_num_links(self):\n",
    "        return self.num_links\n",
    "        \n",
    "    def get_actions_dict(self, inputs):\n",
    "        actions = {}\n",
    "        for i in range(len(inputs)):\n",
    "            actions[self.sensor_names[i]]=round(inputs[i], 3)\n",
    "                               \n",
    "        return actions"
   ]
  },
  {
   "cell_type": "code",
   "execution_count": null,
   "id": "54cf3d09",
   "metadata": {},
   "outputs": [],
   "source": [
    "#| hide\n",
    "import nbdev; nbdev.nbdev_export()"
   ]
  }
 ],
 "metadata": {
  "kernelspec": {
   "display_name": "python3",
   "language": "python",
   "name": "python3"
  }
 },
 "nbformat": 4,
 "nbformat_minor": 5
}
