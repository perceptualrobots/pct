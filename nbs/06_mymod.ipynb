{
 "cells": [
  {
   "cell_type": "code",
   "execution_count": null,
   "metadata": {},
   "outputs": [
    {
     "name": "stdout",
     "output_type": "stream",
     "text": [
      "Cells will be exported to pct.mymod,\n",
      "unless a different module is specified after an export flag: `%nbdev_export special.module`\n"
     ]
    }
   ],
   "source": [
    "#hide\n",
    "from nbdev import *\n",
    "%nbdev_default_export mymod"
   ]
  },
  {
   "cell_type": "code",
   "execution_count": null,
   "metadata": {},
   "outputs": [],
   "source": [
    "%nbdev_export\n",
    "class MyNamer:\n",
    "    \"A utility for ensuring the names of functions are unique.\"\n",
    "    __instance = None\n",
    "    @staticmethod \n",
    "    def getInstance():\n",
    "      \"\"\" Static access method. \"\"\"\n",
    "      if MyNamer.__instance == None:\n",
    "         MyNamer()\n",
    "      return MyNamer.__instance\n",
    "\n",
    "    def __init__(self):\n",
    "      \"\"\" Virtually private constructor. \"\"\"\n",
    "      if MyNamer.__instance != None:\n",
    "         raise Exception(\"This class is a singleton!\")\n",
    "      else:\n",
    "         MyNamer.__instance = self\n",
    "      self.names = {}\n",
    "\n",
    "    def clear(self):\n",
    "      self.names = {}\n",
    "\n",
    "    def get_name(self, name):\n",
    "        if name in self.names.keys(): \n",
    "            num = self.names[name]+1\n",
    "            self.names[name]=num\n",
    "            name = f'{name}{num}'\n",
    "        #else:\n",
    "        self.names[name]=0\n",
    "        return name"
   ]
  },
  {
   "cell_type": "code",
   "execution_count": null,
   "metadata": {},
   "outputs": [],
   "source": [
    "mn = MyNamer.getInstance()"
   ]
  },
  {
   "cell_type": "code",
   "execution_count": null,
   "metadata": {},
   "outputs": [
    {
     "name": "stdout",
     "output_type": "stream",
     "text": [
      "Converted 00_examples.ipynb.\n",
      "Converted 01_utilities.ipynb.\n",
      "Converted 02_functions.ipynb.\n",
      "Converted 03_nodes.ipynb.\n",
      "Converted 04_hierarchy.ipynb.\n",
      "Converted 06_mymod.ipynb.\n",
      "Converted index.ipynb.\n"
     ]
    }
   ],
   "source": [
    "#hide\n",
    "from nbdev import *\n",
    "notebook2script()"
   ]
  },
  {
   "cell_type": "code",
   "execution_count": null,
   "metadata": {},
   "outputs": [],
   "source": []
  }
 ],
 "metadata": {
  "kernelspec": {
   "display_name": "Python 3",
   "language": "python",
   "name": "python3"
  }
 },
 "nbformat": 4,
 "nbformat_minor": 4
}
