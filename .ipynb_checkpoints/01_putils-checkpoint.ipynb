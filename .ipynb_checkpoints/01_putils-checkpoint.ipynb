{
 "cells": [
  {
   "cell_type": "code",
   "execution_count": null,
   "metadata": {},
   "outputs": [
    {
     "name": "stdout",
     "output_type": "stream",
     "text": [
      "Cells will be exported to pct.putils,\n",
      "unless a different module is specified after an export flag: `%nbdev_export special.module`\n"
     ]
    }
   ],
   "source": [
    "from nbdev import *\n",
    "%nbdev_default_export putils"
   ]
  },
  {
   "cell_type": "markdown",
   "metadata": {},
   "source": [
    "# Utilities\n",
    "\n",
    "    Some utility functions.\n",
    "    "
   ]
  },
  {
   "cell_type": "code",
   "execution_count": null,
   "metadata": {},
   "outputs": [],
   "source": [
    "%nbdev_export\n",
    "class UniqueNamer:\n",
    "    \"A utility for ensuring the names of functions are unique.\"\n",
    "    __instance = None\n",
    "    @staticmethod \n",
    "    def getInstance():\n",
    "      \"\"\" Static access method. \"\"\"\n",
    "      if UniqueNamer.__instance == None:\n",
    "         UniqueNamer()\n",
    "      return UniqueNamer.__instance\n",
    "\n",
    "    def __init__(self):\n",
    "      \"\"\" Virtually private constructor. \"\"\"\n",
    "      if UniqueNamer.__instance != None:\n",
    "         raise Exception(\"This class is a singleton!\")\n",
    "      else:\n",
    "         UniqueNamer.__instance = self\n",
    "      self.names = {}\n",
    "\n",
    "    def clear(self):\n",
    "      self.names = {}\n",
    "\n",
    "    def get_name(self, name):\n",
    "        if name in self.names.keys(): \n",
    "            num = self.names[name]+1\n",
    "            self.names[name]=num\n",
    "            name = f'{name}{num}'\n",
    "        #else:\n",
    "        self.names[name]=0\n",
    "        return name"
   ]
  },
  {
   "cell_type": "code",
   "execution_count": null,
   "metadata": {},
   "outputs": [],
   "source": [
    "%nbdev_export\n",
    "class FunctionsList:\n",
    "    \"A utility for storing functions created, keyed on the function name.\"\n",
    "    __instance = None\n",
    "    @staticmethod \n",
    "    def getInstance():\n",
    "      \"\"\" Static access method. \"\"\"\n",
    "      if FunctionsList.__instance == None:\n",
    "         FunctionsList()\n",
    "      return FunctionsList.__instance\n",
    "    def __init__(self):\n",
    "      \"\"\" Virtually private constructor. \"\"\"\n",
    "      if FunctionsList.__instance != None:\n",
    "         raise Exception(\"This class is a singleton!\")\n",
    "      else:\n",
    "         FunctionsList.__instance = self\n",
    "      self.functions = {}\n",
    "\n",
    "    def clear(self):\n",
    "      self.functions = {}\n",
    "    \n",
    "    def add_function(self, func):\n",
    "        name = func.get_name()\n",
    "        self.functions[name]=func\n",
    "        \n",
    "        return name\n",
    "\n",
    "    def remove_function(self, name):\n",
    "        self.functions.pop(name)\n",
    "        \n",
    "    def get_function(self, name):        \n",
    "        if isinstance(name, str) and name in self.functions: \n",
    "            func = self.functions[name]\n",
    "        else:\n",
    "            func = name\n",
    "        return func\n",
    "    \n",
    "    def report(self, name=None):\n",
    "        if name == None:\n",
    "            print(len(self.functions))\n",
    "            for key in self.functions.keys():\n",
    "                print(\"*** \", key, [self.functions[key]])\n",
    "                print(self.functions[key])\n",
    "        else:\n",
    "            print(\"*** \", key, [self.functions[key]])\n",
    "            print(self.functions[key])\n",
    "            "
   ]
  },
  {
   "cell_type": "code",
   "execution_count": null,
   "metadata": {},
   "outputs": [],
   "source": [
    "from pct.nodes import PCTNode\n",
    "node = PCTNode()"
   ]
  },
  {
   "cell_type": "code",
   "execution_count": null,
   "metadata": {},
   "outputs": [
    {
     "data": {
      "text/plain": [
       "{}"
      ]
     },
     "execution_count": null,
     "metadata": {},
     "output_type": "execute_result"
    }
   ],
   "source": [
    "#FunctionsList.getInstance().report()\n",
    "FunctionsList.getInstance().functions"
   ]
  },
  {
   "cell_type": "code",
   "execution_count": null,
   "metadata": {},
   "outputs": [],
   "source": [
    "%nbdev_export\n",
    "import numpy as np\n",
    "def sigmoid(x, range, scale) :\n",
    "    return -range / 2 + range / (1 + np.exp(-x * scale / range));"
   ]
  },
  {
   "cell_type": "code",
   "execution_count": null,
   "metadata": {},
   "outputs": [],
   "source": [
    "x = np.linspace(-5, 5, 11)\n",
    "range=2\n",
    "scale=2\n",
    "y = sigmoid(x, range, scale)"
   ]
  },
  {
   "cell_type": "code",
   "execution_count": null,
   "metadata": {},
   "outputs": [
    {
     "data": {
      "image/png": "[encoded data removed]",
      "text/plain": [
       "<Figure size 432x288 with 1 Axes>"
      ]
     },
     "metadata": {
      "needs_background": "light"
     },
     "output_type": "display_data"
    }
   ],
   "source": [
    "import matplotlib.pyplot as plt\n",
    "plt.plot(x, y)\n",
    "plt.grid()\n",
    "plt.xlim(-6, 6)\n",
    "plt.xlabel('x')\n",
    "plt.title('expit(x)')\n",
    "plt.show()"
   ]
  },
  {
   "cell_type": "code",
   "execution_count": null,
   "metadata": {},
   "outputs": [
    {
     "name": "stdout",
     "output_type": "stream",
     "text": [
      "Converted 00_examples.ipynb.\n",
      "Converted 01_putils.ipynb.\n",
      "Converted 02_functions.ipynb.\n",
      "Converted 03_nodes.ipynb.\n",
      "Converted 04_hierarchy.ipynb.\n",
      "Converted cartpole-reloaded.ipynb.\n",
      "Converted cartpole5.ipynb.\n",
      "Converted index.ipynb.\n",
      "Converted pct-example.ipynb.\n"
     ]
    }
   ],
   "source": [
    "%nbdev_hide\n",
    "from nbdev import *\n",
    "nbdev_export()"
   ]
  },
  {
   "cell_type": "code",
   "execution_count": null,
   "metadata": {},
   "outputs": [],
   "source": []
  }
 ],
 "metadata": {
  "kernelspec": {
   "display_name": "Python 3",
   "language": "python",
   "name": "python3"
  }
 },
 "nbformat": 4,
 "nbformat_minor": 4
}
