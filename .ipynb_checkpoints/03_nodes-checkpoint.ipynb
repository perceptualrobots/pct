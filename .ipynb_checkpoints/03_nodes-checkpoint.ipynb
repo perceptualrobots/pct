{
 "cells": [
  {
   "cell_type": "code",
   "execution_count": null,
   "metadata": {},
   "outputs": [
    {
     "name": "stdout",
     "output_type": "stream",
     "text": [
      "Cells will be exported to pct.nodes,\n",
      "unless a different module is specified after an export flag: `%nbdev_export special.module`\n"
     ]
    }
   ],
   "source": [
    "from nbdev import *\n",
    "%nbdev_default_export nodes"
   ]
  },
  {
   "cell_type": "code",
   "execution_count": null,
   "metadata": {},
   "outputs": [],
   "source": [
    "%nbdev_hide\n",
    "%reload_ext autoreload\n",
    "%autoreload 2"
   ]
  },
  {
   "cell_type": "markdown",
   "metadata": {},
   "source": [
    "# Nodes\n",
    "\n",
    "> A node is a single control unit representing a feedback control loop. "
   ]
  },
  {
   "cell_type": "markdown",
   "metadata": {},
   "source": [
    "## Overview\n",
    "A node comprises four functions, reference, perceptual, comparator and output. Executing the node will run each of the functions in the order indicated above and return the output value.\n",
    "\n",
    "The functions can actually be a collection of functions, each executed in the order they are added. This allows a chain of functions in case pre-processing is required, or post-processing in the case of the output."
   ]
  },
  {
   "cell_type": "code",
   "execution_count": null,
   "metadata": {},
   "outputs": [],
   "source": [
    "%nbdev_export\n",
    "import networkx as nx\n",
    "import json\n",
    "import matplotlib.pyplot as plt\n",
    "from pct.putils import UniqueNamer\n",
    "from pct.putils import FunctionsList\n",
    "from pct.functions import *"
   ]
  },
  {
   "cell_type": "code",
   "execution_count": null,
   "metadata": {},
   "outputs": [],
   "source": [
    "%nbdev_export\n",
    "class PCTNode():\n",
    "    \"A single PCT controller.\"\n",
    "    def __init__(self, reference=None, perception=None, comparator=None, output=None, default=True, name=\"pctnode\", history=False, **pargs):\n",
    "        self.links_built = False\n",
    "        self.history = None\n",
    "        if history:\n",
    "            self.history = PCTNodeData()\n",
    "        self.name = UniqueNamer.getInstance().get_name(name)\n",
    "        FunctionsList.getInstance().add_function(self)\n",
    "        if default:\n",
    "            if perception==None:\n",
    "                perception =  Variable(0)\n",
    "            self.perceptionCollection = [perception]\n",
    "\n",
    "            if reference==None:\n",
    "                reference = Constant(1)\n",
    "            self.referenceCollection = [reference]\n",
    "\n",
    "            if comparator==None:\n",
    "                comparator = Subtract()\n",
    "            self.comparatorCollection = [comparator]\n",
    "\n",
    "            if output==None:\n",
    "                output = Proportional(10)\n",
    "\n",
    "            self.outputCollection = [output]\n",
    "    \n",
    "    def __call__(self, verbose=False):\n",
    "        if not self.links_built:\n",
    "            self.build_links()\n",
    "            \n",
    "        for referenceFunction in self.referenceCollection:\n",
    "            referenceFunction(verbose)               \n",
    "\n",
    "        for perceptionFunction in self.perceptionCollection:\n",
    "            perceptionFunction(verbose)\n",
    "                    \n",
    "        for comparatorFunction in self.comparatorCollection:\n",
    "            comparatorFunction(verbose)\n",
    "\n",
    "        for outputFunction in self.outputCollection:\n",
    "            outputFunction(verbose)\n",
    "            \n",
    "        self.output = self.outputCollection[-1].get_value()\n",
    "        \n",
    "        if verbose:\n",
    "            print()\n",
    "            \n",
    "        if not self.history == None:\n",
    "            self.history.add_data(self)\n",
    "            \n",
    "        return self.output\n",
    "    \n",
    "    def get_name(self):\n",
    "        return self.name\n",
    "\n",
    "    def get_function(self, collection, position=-1):\n",
    "        if collection == \"reference\":\n",
    "            func = self.referenceCollection[position]\n",
    "\n",
    "        if collection == \"perception\":\n",
    "            func = self.perceptionCollection[position]\n",
    " \n",
    "        if collection == \"comparator\":\n",
    "            func = self.comparatorCollection[position]\n",
    "        \n",
    "        if collection == \"output\":\n",
    "            func = self.outputCollection[position]\n",
    "        \n",
    "        return func \n",
    "\n",
    "    def get_perception_value(self, position=-1):\n",
    "        return self.perceptionCollection[position].get_value()\n",
    "    \n",
    "    def set_perception_value(self, value, position=-1):\n",
    "        self.perceptionCollection[position].set_value(value)\n",
    "    \n",
    "    def add_link(self, collection, link):\n",
    "        if collection == \"reference\":\n",
    "            self.referenceCollection[0].add_link(link)\n",
    "\n",
    "        if collection == \"perception\":\n",
    "            self.perceptionCollection[0].add_link(link)\n",
    " \n",
    "        if collection == \"comparator\":\n",
    "            self.comparatorCollection[-1].add_link(link)\n",
    "        \n",
    "        if collection == \"output\":\n",
    "            self.outputCollection[-1].add_link(link)\n",
    "            \n",
    "    def build_links(self):\n",
    "        if len(self.referenceCollection)>0:\n",
    "            link = self.referenceCollection[0]\n",
    "            for i in range (1, len(self.referenceCollection)):\n",
    "                self.referenceCollection[i].add_link(link)               \n",
    "                link = self.referenceCollection[i]\n",
    "\n",
    "        if len(self.perceptionCollection)>0:\n",
    "            link = self.perceptionCollection[0]\n",
    "            for i in range (1, len(self.perceptionCollection)):\n",
    "                self.perceptionCollection[i].add_link(link)               \n",
    "                link = self.perceptionCollection[i]\n",
    "\n",
    "        self.comparatorCollection[0].add_link(self.referenceCollection[-1])\n",
    "        self.comparatorCollection[0].add_link(self.perceptionCollection[-1])\n",
    "\n",
    "        if len(self.comparatorCollection)>1:\n",
    "            link = self.comparatorCollection[1]\n",
    "            for i in range (1, len(self.comparatorCollection)):\n",
    "                self.comparatorCollection[i].add_link(link)               \n",
    "                link = self.comparatorCollection[i]\n",
    "\n",
    "        self.outputCollection[0].add_link(self.comparatorCollection[-1])\n",
    "\n",
    "        if len(self.outputCollection)>0:\n",
    "            link = self.outputCollection[0]\n",
    "            for i in range (1, len(self.outputCollection)):\n",
    "                self.outputCollection[i].add_link(link)               \n",
    "                link = self.outputCollection[i]\n",
    "\n",
    "        self.links_built = True\n",
    "\n",
    "    def run(self, steps=None, verbose=False):\n",
    "        for i in range(steps):\n",
    "            out = self(verbose)\n",
    "        return out\n",
    "    \n",
    "    def set_output(self, value):\n",
    "        self.outputCollection[-1].set_value(value)\n",
    "        \n",
    "    def get_output_function(self):\n",
    "        return self.outputCollection[-1]\n",
    "    \n",
    "    \n",
    "    def set_function_name(self, collection, name, position=-1):\n",
    "        if collection == \"reference\":\n",
    "            self.referenceCollection[position].set_name(name)\n",
    "\n",
    "        if collection == \"perception\":\n",
    "            self.perceptionCollection[position].set_name(name)\n",
    " \n",
    "        if collection == \"comparator\":\n",
    "            self.comparatorCollection[position].set_name(name)\n",
    "        \n",
    "        if collection == \"output\":\n",
    "            self.outputCollection[position].set_name(name)\n",
    "            \n",
    "\n",
    "    def replace_function(self, collection, function, position=-1):\n",
    "        if collection == \"reference\":\n",
    "            \"\"\"\n",
    "            func = self.referenceCollection[position]\n",
    "            FunctionsList.getInstance().remove_function(func.get_name())\n",
    "            if len(self.referenceCollection) == 0: \n",
    "                position=-1\n",
    "            \"\"\"\n",
    "            self.referenceCollection[position] = function\n",
    "\n",
    "        if collection == \"perception\":\n",
    "            \"\"\"\n",
    "            func = self.perceptionCollection[position]\n",
    "            FunctionsList.getInstance().remove_function(func.get_name())\n",
    "            if len(self.perceptionCollection) == 0: \n",
    "                position=-1\n",
    "            \"\"\"\n",
    "            self.perceptionCollection[position]  = function\n",
    " \n",
    "        if collection == \"comparator\":\n",
    "            \"\"\"\n",
    "            func = self.comparatorCollection[position]\n",
    "            FunctionsList.getInstance().remove_function(func.get_name())\n",
    "            if len(self.comparatorCollection) == 0: \n",
    "                position=-1\n",
    "            \"\"\"\n",
    "            self.comparatorCollection[position] = function\n",
    "        \n",
    "        if collection == \"output\":\n",
    "            \"\"\"\n",
    "            func = self.outputCollection[position]\n",
    "            FunctionsList.getInstance().remove_function(func.get_name())\n",
    "            if len(self.outputCollection) == 0: \n",
    "                position=-1\n",
    "            \"\"\"\n",
    "            self.outputCollection[position] = function\n",
    "            \n",
    "        \n",
    "\n",
    "    def insert_function(self, collection, function, position=-1):\n",
    "        if collection == \"reference\":\n",
    "            self.referenceCollection[position] = function\n",
    "\n",
    "        if collection == \"perception\":\n",
    "            self.perceptionCollection[position]  = function\n",
    " \n",
    "        if collection == \"comparator\":\n",
    "            self.comparatorCollection[position] = function\n",
    "        \n",
    "        if collection == \"output\":\n",
    "            self.outputCollection[position] = function\n",
    "\n",
    "            \n",
    "    def summary(self, build=True):\n",
    "        if build:\n",
    "            if not self.links_built:\n",
    "                self.build_links()\n",
    "\n",
    "        print(self.name, type(self).__name__)\n",
    "        print(\"----------------------------\")\n",
    "        print(\"REF:\", end=\" \")\n",
    "        for referenceFunction in self.referenceCollection:\n",
    "            referenceFunction.summary()   \n",
    "        \n",
    "        print(\"PER:\", end=\" \")\n",
    "        for perceptionFunction in self.perceptionCollection:\n",
    "            perceptionFunction.summary()\n",
    "        \n",
    "        print(\"COM:\", end=\" \")\n",
    "        for comparatorFunction in self.comparatorCollection:\n",
    "            comparatorFunction.summary()\n",
    "        \n",
    "        print(\"OUT:\", end=\" \")\n",
    "        for outputFunction in self.outputCollection:\n",
    "            outputFunction.summary()\n",
    "        \n",
    "        print(\"----------------------------\")\n",
    "        \n",
    "        \n",
    "    def graph(self, layer=0):\n",
    "        graph = nx.DiGraph()\n",
    "        \n",
    "        self.set_graph_data(graph, layer=layer)\n",
    "                \n",
    "        return graph\n",
    "    \n",
    "    \n",
    "    def clear_values(self):\n",
    "        for referenceFunction in self.referenceCollection:\n",
    "            referenceFunction.value = 0  \n",
    "        \n",
    "        for comparatorFunction in self.comparatorCollection:\n",
    "            comparatorFunction = 0\n",
    "        \n",
    "        for perceptionFunction in self.perceptionCollection:\n",
    "            perceptionFunction = 0\n",
    "        \n",
    "        for outputFunction in self.outputCollection:\n",
    "            outputFunction  = 0\n",
    "            \n",
    "            \n",
    "    def set_graph_data(self, graph, layer=0):\n",
    "        \n",
    "        for referenceFunction in self.referenceCollection:\n",
    "            referenceFunction.set_graph_data(graph, layer+2)   \n",
    "        \n",
    "        for comparatorFunction in self.comparatorCollection:\n",
    "            comparatorFunction.set_graph_data(graph, layer+1)\n",
    "        \n",
    "        for perceptionFunction in self.perceptionCollection:\n",
    "            perceptionFunction.set_graph_data(graph, layer+2)\n",
    "        \n",
    "        for outputFunction in self.outputCollection:\n",
    "            outputFunction.set_graph_data(graph, layer)\n",
    "        \n",
    "        \n",
    "    def draw(self, with_labels=True,  font_size=12, font_weight='bold', node_color='red',  \n",
    "             node_size=500, arrowsize=25, align='horizontal', file=None, figsize=(5,5), move={}):\n",
    "        \n",
    "        graph = self.graph()\n",
    "        pos = nx.multipartite_layout(graph, subset_key=\"layer\", align=align)        \n",
    "        plt.figure(figsize=figsize)\n",
    "        nx.draw(graph, pos=pos, with_labels=with_labels, font_size=font_size, font_weight=font_weight, \n",
    "                node_color=node_color,  node_size=node_size, arrowsize=arrowsize)\n",
    "        \n",
    "    def get_config(self):\n",
    "        config = {\"type\": type(self).__name__,\n",
    "                    \"name\": self.name}        \n",
    "\n",
    "        coll_name = 'refcoll'\n",
    "        collection = self.referenceCollection\n",
    "        config[coll_name] = self.get_collection_config(coll_name, collection)       \n",
    "        coll_name = 'percoll'\n",
    "        collection = self.perceptionCollection\n",
    "        config[coll_name] = self.get_collection_config(coll_name, collection)       \n",
    "        coll_name = 'comcoll'\n",
    "        collection = self.comparatorCollection\n",
    "        config[coll_name] = self.get_collection_config(coll_name, collection)       \n",
    "        coll_name = 'outcoll'\n",
    "        collection = self.outputCollection\n",
    "        config[coll_name] = self.get_collection_config(coll_name, collection)       \n",
    "        \n",
    "        return config       \n",
    "\n",
    "    def get_collection_config(self, coll_name, collection):\n",
    "        coll = {}\n",
    "        ctr=0\n",
    "        for func in collection:\n",
    "            coll[str(ctr)] = func.get_config()\n",
    "            ctr+=1            \n",
    "        return coll\n",
    "    \n",
    "    def save(self, file=None, indent=4):\n",
    "        jsondict = json.dumps(self.get_config(), indent=indent)\n",
    "        f = open(file, \"w\")\n",
    "        f.write(jsondict)\n",
    "        f.close()\n",
    "        \n",
    "    @classmethod\n",
    "    def load(cls, file):      \n",
    "        with open(file) as f:\n",
    "            config = json.load(f)\n",
    "        return cls.from_config(config)\n",
    "    \n",
    "    @classmethod\n",
    "    def from_config(cls, config):\n",
    "        node = PCTNode(default=False, name=config['name'])\n",
    "        \n",
    "        node.referenceCollection = []        \n",
    "        collection = node.referenceCollection\n",
    "        coll_dict = config['refcoll']\n",
    "        PCTNode.collection_from_config(collection, coll_dict)\n",
    "\n",
    "        node.perceptionCollection = []\n",
    "        collection = node.perceptionCollection\n",
    "        coll_dict = config['percoll']\n",
    "        PCTNode.collection_from_config(collection, coll_dict)\n",
    "        \n",
    "        node.comparatorCollection = []\n",
    "        collection = node.comparatorCollection\n",
    "        coll_dict = config['comcoll']\n",
    "        PCTNode.collection_from_config(collection, coll_dict)\n",
    "\n",
    "        node.outputCollection = []\n",
    "        collection = node.outputCollection\n",
    "        coll_dict = config['outcoll']\n",
    "        PCTNode.collection_from_config(collection, coll_dict)\n",
    "        \n",
    "        node.links_built = True\n",
    "        return node\n",
    "    \n",
    "    @classmethod\n",
    "    def collection_from_config(node, collection, coll_dict):\n",
    "        #print(\"collection_from_config\", coll_dict)\n",
    "        for fndict_label in coll_dict:\n",
    "            #print(\"fndict_label\",fndict_label)\n",
    "            \n",
    "            fndict = coll_dict[fndict_label]\n",
    "            #print(fndict)\n",
    "            fnname = fndict.pop('type')\n",
    "            #print(fndict)\n",
    "            func = eval(fnname).from_config(fndict)\n",
    "            collection.append(func)\n",
    "    "
   ]
  },
  {
   "cell_type": "code",
   "execution_count": null,
   "metadata": {},
   "outputs": [],
   "source": [
    "%nbdev_export\n",
    "class PCTNodeData():\n",
    "    \"Data collected for a PCTNode\"\n",
    "    def __init__(self, name=\"pctnodedata\"):\n",
    "        self.data = {\n",
    "            \"refcoll\":{}, \n",
    "            \"percoll\":{},\n",
    "            \"comcoll\":{}, \n",
    "            \"outcoll\":{}}\n",
    "        \n",
    "    \n",
    "    def add_data(self, node):\n",
    "        ctr = 0 \n",
    "        \n",
    "        self.add_collection( node.referenceCollection, \"refcoll\")\n",
    "        self.add_collection( node.perceptionCollection, \"percoll\")\n",
    "        self.add_collection( node.comparatorCollection, \"comcoll\")\n",
    "        self.add_collection( node.outputCollection, \"outcoll\")\n",
    "\n",
    "    def add_collection(self, collection, collname):\n",
    "        for func in collection:            \n",
    "            if self.data[collname].get(func.get_name()) == None:\n",
    "                dlist=[]\n",
    "                cdict={func.get_name():dlist}\n",
    "                self.data[collname]=cdict\n",
    "            else:\n",
    "                dlist = self.data[collname][func.get_name()]\n",
    "                \n",
    "            dlist.append(func.get_value())"
   ]
  },
  {
   "cell_type": "markdown",
   "metadata": {},
   "source": [
    "## Creating a Node\n",
    "\n",
    "A node can be created simply."
   ]
  },
  {
   "cell_type": "code",
   "execution_count": null,
   "metadata": {},
   "outputs": [],
   "source": [
    "node = PCTNode()"
   ]
  },
  {
   "cell_type": "markdown",
   "metadata": {},
   "source": [
    "That creates a node with default functions. Those are, a constant of 1 for the reference, a variable, with initial value 0, for the perception and a proportional function for the output, with a gain of 10."
   ]
  },
  {
   "cell_type": "markdown",
   "metadata": {},
   "source": [
    "A node can also be created by providing a name, and setting the history to True. The latter means that the values of all the functions are recorded during execution, which is useful for plotting the data later, as can be seen below. "
   ]
  },
  {
   "cell_type": "code",
   "execution_count": null,
   "metadata": {},
   "outputs": [],
   "source": [
    "node = PCTNode(name=\"mypctnode\", history=True)"
   ]
  },
  {
   "cell_type": "markdown",
   "metadata": {},
   "source": [
    "Another way of creating a node is by first declaring the functions you want and passing them into the constructor."
   ]
  },
  {
   "cell_type": "code",
   "execution_count": null,
   "metadata": {},
   "outputs": [],
   "source": [
    "UniqueNamer.getInstance().clear()\n",
    "r = Variable(0, name=\"velocity_reference\")\n",
    "p = Constant(10, name=\"constant_perception\")\n",
    "o = Integration(10, 100, name=\"integrator\")\n",
    "integratingnode = PCTNode(reference=r, perception=p, output=o, name=\"integratingnode\", history=True)"
   ]
  },
  {
   "cell_type": "markdown",
   "metadata": {},
   "source": [
    "Yet another way to create a node is from a text configuration."
   ]
  },
  {
   "cell_type": "code",
   "execution_count": null,
   "metadata": {},
   "outputs": [],
   "source": [
    "config_node = PCTNode.from_config({ 'name': 'mypctnode', \n",
    "    'refcoll': {'0': {'type': 'Proportional', 'name': 'proportional', 'value': 0, 'links': {}, 'gain': 10}}, \n",
    "    'percoll': {'0': {'type': 'Variable', 'name': 'velocity', 'value': 0.2, 'links': {}}}, \n",
    "    'comcoll': {'0': {'type': 'Subtract', 'name': 'subtract', 'value': 1, 'links': {0: 'constant', 1: 'velocity'}}}, \n",
    "    'outcoll': {'0': {'type': 'Proportional', 'name': 'proportional', 'value': 10, 'links': {0: 'subtract'}, 'gain': 10}}})"
   ]
  },
  {
   "cell_type": "markdown",
   "metadata": {},
   "source": [
    "## Viewing Nodes\n",
    "\n",
    "The details of a node can be viewed in a number of ways, which is useful for checking the configuration. The summary method prints to the screen. The get_config method returns a string in a JSON format."
   ]
  },
  {
   "cell_type": "code",
   "execution_count": null,
   "metadata": {},
   "outputs": [
    {
     "name": "stdout",
     "output_type": "stream",
     "text": [
      "integratingnode PCTNode\n",
      "----------------------------\n",
      "REF: velocity_reference Variable | 0 \n",
      "PER: constant_perception Constant | 10 \n",
      "COM: subtract Subtract | 0 | links  velocity_reference constant_perception \n",
      "OUT: integrator Integration | gain 10 slow 100  | 0 | links  subtract \n",
      "----------------------------\n"
     ]
    }
   ],
   "source": [
    "integratingnode.summary()"
   ]
  },
  {
   "cell_type": "code",
   "execution_count": null,
   "metadata": {},
   "outputs": [
    {
     "data": {
      "text/plain": [
       "{'type': 'PCTNode',\n",
       " 'name': 'integratingnode',\n",
       " 'refcoll': {'0': {'type': 'Variable',\n",
       "   'name': 'velocity_reference',\n",
       "   'value': 0,\n",
       "   'links': {}}},\n",
       " 'percoll': {'0': {'type': 'Constant',\n",
       "   'name': 'constant_perception',\n",
       "   'value': 10,\n",
       "   'links': {}}},\n",
       " 'comcoll': {'0': {'type': 'Subtract',\n",
       "   'name': 'subtract',\n",
       "   'value': 0,\n",
       "   'links': {0: 'velocity_reference', 1: 'constant_perception'}}},\n",
       " 'outcoll': {'0': {'type': 'Integration',\n",
       "   'name': 'integrator',\n",
       "   'value': 0,\n",
       "   'links': {0: 'subtract'},\n",
       "   'gain': 10,\n",
       "   'slow': 100}}}"
      ]
     },
     "execution_count": null,
     "metadata": {},
     "output_type": "execute_result"
    }
   ],
   "source": [
    "#print(integratingnode.get_config())\n",
    "assert integratingnode.get_config() == {'type': 'PCTNode', 'name': 'integratingnode', 'refcoll': {'0': {'type': 'Variable', 'name': 'velocity_reference', 'value': 0, 'links': {}}}, 'percoll': {'0': {'type': 'Constant', 'name': 'constant_perception', 'value': 10, 'links': {}}}, 'comcoll': {'0': {'type': 'Subtract', 'name': 'subtract', 'value': 0, 'links': {0: 'velocity_reference', 1: 'constant_perception'}}}, 'outcoll': {'0': {'type': 'Integration', 'name': 'integrator', 'value': 0, 'links': {0: 'subtract'}, 'gain': 10, 'slow': 100}}}\n",
    "integratingnode.get_config()\n"
   ]
  },
  {
   "cell_type": "markdown",
   "metadata": {},
   "source": [
    "A node can also be viewed graphically as a network of connected nodes."
   ]
  },
  {
   "cell_type": "code",
   "execution_count": null,
   "metadata": {},
   "outputs": [
    {
     "data": {
      "image/png": "[encoded data removed]",
      "text/plain": [
       "<Figure size 576x288 with 1 Axes>"
      ]
     },
     "metadata": {},
     "output_type": "display_data"
    }
   ],
   "source": [
    "import os\n",
    "if os.name=='nt':\n",
    "    integratingnode.draw(node_size=2000, figsize=(8,4))"
   ]
  },
  {
   "cell_type": "markdown",
   "metadata": {},
   "source": [
    "## Running a Node\n",
    "\n",
    "For the purposes of this example we first create a function which is a very basic model of the physical environment. It defines how the world behaves when we pass it the output of the control system.  "
   ]
  },
  {
   "cell_type": "code",
   "execution_count": null,
   "metadata": {},
   "outputs": [],
   "source": [
    "def velocity_model(velocity,  force , mass):\n",
    "    velocity = velocity + force / mass\n",
    "    return velocity\n",
    "\n",
    "mass = 50\n",
    "force = 0"
   ]
  },
  {
   "cell_type": "markdown",
   "metadata": {},
   "source": [
    "In the following cell we start with a velocity of zero. The node is run once (second line), the output of which is the force to apply in the world velocity_model. That returns the updated velocity which we pass back into the node to be used in the next iteration of the loop.   "
   ]
  },
  {
   "cell_type": "code",
   "execution_count": null,
   "metadata": {},
   "outputs": [
    {
     "name": "stdout",
     "output_type": "stream",
     "text": [
      "10\n"
     ]
    }
   ],
   "source": [
    "velocity=0\n",
    "force = node()\n",
    "velocity = velocity_model(velocity, force, mass)\n",
    "node.set_perception_value(velocity)\n",
    "print(force)\n",
    "assert force == 10"
   ]
  },
  {
   "cell_type": "markdown",
   "metadata": {},
   "source": [
    "The node can be run in a loop as shown below. With verbose set to True the output of each loop will be printed to the screen."
   ]
  },
  {
   "cell_type": "code",
   "execution_count": null,
   "metadata": {},
   "outputs": [
    {
     "name": "stdout",
     "output_type": "stream",
     "text": [
      "0 1.000 0.000 1.000 10.000 \n",
      "1 1.000 0.200 0.800 8.000 \n",
      "2 1.000 0.360 0.640 6.400 \n",
      "3 1.000 0.488 0.512 5.120 \n",
      "4 1.000 0.590 0.410 4.096 \n",
      "5 1.000 0.672 0.328 3.277 \n",
      "6 1.000 0.738 0.262 2.621 \n",
      "7 1.000 0.790 0.210 2.097 \n",
      "8 1.000 0.832 0.168 1.678 \n",
      "9 1.000 0.866 0.134 1.342 \n",
      "10 1.000 0.893 0.107 1.074 \n",
      "11 1.000 0.914 0.086 0.859 \n",
      "12 1.000 0.931 0.069 0.687 \n",
      "13 1.000 0.945 0.055 0.550 \n",
      "14 1.000 0.956 0.044 0.440 \n",
      "15 1.000 0.965 0.035 0.352 \n",
      "16 1.000 0.972 0.028 0.281 \n",
      "17 1.000 0.977 0.023 0.225 \n",
      "18 1.000 0.982 0.018 0.180 \n",
      "19 1.000 0.986 0.014 0.144 \n",
      "20 1.000 0.988 0.012 0.115 \n",
      "21 1.000 0.991 0.009 0.092 \n",
      "22 1.000 0.993 0.007 0.074 \n",
      "23 1.000 0.994 0.006 0.059 \n",
      "24 1.000 0.995 0.005 0.047 \n",
      "25 1.000 0.996 0.004 0.038 \n",
      "26 1.000 0.997 0.003 0.030 \n",
      "27 1.000 0.998 0.002 0.024 \n",
      "28 1.000 0.998 0.002 0.019 \n",
      "29 1.000 0.998 0.002 0.015 \n",
      "30 1.000 0.999 0.001 0.012 \n",
      "31 1.000 0.999 0.001 0.010 \n",
      "32 1.000 0.999 0.001 0.008 \n",
      "33 1.000 0.999 0.001 0.006 \n",
      "34 1.000 0.999 0.001 0.005 \n",
      "35 1.000 1.000 0.000 0.004 \n",
      "36 1.000 1.000 0.000 0.003 \n",
      "37 1.000 1.000 0.000 0.003 \n",
      "38 1.000 1.000 0.000 0.002 \n",
      "39 1.000 1.000 0.000 0.002 \n"
     ]
    }
   ],
   "source": [
    "pctnode = PCTNode(history=True)\n",
    "pctnode.set_function_name(\"perception\", \"velocity\")\n",
    "pctnode.set_function_name(\"reference\", \"reference\")\n",
    "\n",
    "for i in range(40):\n",
    "    print(i, end=\" \")\n",
    "    force = pctnode(verbose=True)\n",
    "    vel = velocity_model(pctnode.get_perception_value(), force, mass)\n",
    "    pctnode.set_perception_value(vel)\n",
    "    "
   ]
  },
  {
   "cell_type": "markdown",
   "metadata": {},
   "source": [
    "## Save and Load"
   ]
  },
  {
   "cell_type": "markdown",
   "metadata": {},
   "source": [
    "Save a node to file."
   ]
  },
  {
   "cell_type": "code",
   "execution_count": null,
   "metadata": {},
   "outputs": [],
   "source": [
    "integratingnode.save(\"inode.json\")"
   ]
  },
  {
   "cell_type": "markdown",
   "metadata": {},
   "source": [
    "Create a node from file."
   ]
  },
  {
   "cell_type": "code",
   "execution_count": null,
   "metadata": {},
   "outputs": [
    {
     "name": "stdout",
     "output_type": "stream",
     "text": [
      "{'type': 'PCTNode', 'name': 'integratingnode1', 'refcoll': {'0': {'type': 'Variable', 'name': 'velocity_reference', 'value': 0, 'links': {}}}, 'percoll': {'0': {'type': 'Constant', 'name': 'constant_perception', 'value': 10, 'links': {}}}, 'comcoll': {'0': {'type': 'Subtract', 'name': 'subtract', 'value': 0, 'links': {0: 'velocity_reference', 1: 'constant_perception'}}}, 'outcoll': {'0': {'type': 'Integration', 'name': 'integrator', 'value': 0, 'links': {0: 'subtract'}, 'gain': 10, 'slow': 100}}}\n"
     ]
    }
   ],
   "source": [
    "nnode = PCTNode.load(\"inode.json\")\n",
    "print(nnode.get_config())"
   ]
  },
  {
   "cell_type": "markdown",
   "metadata": {},
   "source": [
    "## Plotting the Data\n",
    "\n",
    "As the history of the variable pctnode was set to True the data is available for analysis. It can be plotted with python libraries such as matplotlib or plotly. Here is an example with the latter.\n",
    "\n",
    "The graph shows the changing perception values as it is controlled to match the reference value."
   ]
  },
  {
   "cell_type": "markdown",
   "metadata": {},
   "source": [
    "```python\n",
    "import plotly.graph_objects as go\n",
    "fig = go.Figure(layout_title_text=\"Velocity Goal\")\n",
    "fig.add_trace(go.Scatter(y=pctnode.history.data['refcoll']['reference'], name=\"ref\"))\n",
    "fig.add_trace(go.Scatter(y=pctnode.history.data['percoll']['velocity'], name=\"perc\"))\n",
    "```"
   ]
  },
  {
   "cell_type": "markdown",
   "metadata": {},
   "source": [
    "This following code is only for the purposes of displaying image of the graph generated by the above code."
   ]
  },
  {
   "cell_type": "code",
   "execution_count": null,
   "metadata": {},
   "outputs": [
    {
     "data": {
      "text/html": [
       "<img src=\"http://www.perceptualrobots.com/wp-content/uploads/2020/08/pct_node_plot.png\"/>"
      ],
      "text/plain": [
       "<IPython.core.display.Image object>"
      ]
     },
     "execution_count": null,
     "metadata": {},
     "output_type": "execute_result"
    }
   ],
   "source": [
    "from IPython.display import Image\n",
    "Image(url='http://www.perceptualrobots.com/wp-content/uploads/2020/08/pct_node_plot.png') "
   ]
  },
  {
   "cell_type": "code",
   "execution_count": null,
   "metadata": {},
   "outputs": [
    {
     "name": "stdout",
     "output_type": "stream",
     "text": [
      "Converted 00_examples.ipynb.\n",
      "Converted 01_putils.ipynb.\n",
      "Converted 02_functions.ipynb.\n",
      "Converted 03_nodes.ipynb.\n",
      "Converted 04_hierarchy.ipynb.\n",
      "Converted index.ipynb.\n"
     ]
    }
   ],
   "source": [
    "%nbdev_hide\n",
    "from nbdev import *\n",
    "nbdev_export()"
   ]
  },
  {
   "cell_type": "code",
   "execution_count": null,
   "metadata": {},
   "outputs": [],
   "source": []
  }
 ],
 "metadata": {
  "kernelspec": {
   "display_name": "Python 3",
   "language": "python",
   "name": "python3"
  }
 },
 "nbformat": 4,
 "nbformat_minor": 4
}
