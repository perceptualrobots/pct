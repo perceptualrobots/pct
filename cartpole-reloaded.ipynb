{
 "cells": [
  {
   "cell_type": "code",
   "execution_count": null,
   "metadata": {},
   "outputs": [],
   "source": [
    "from pct.putils import FunctionsList"
   ]
  },
  {
   "cell_type": "code",
   "execution_count": null,
   "metadata": {},
   "outputs": [],
   "source": [
    "from pct.hierarchy import PCTHierarchy\n",
    "cartpole_hierarchy = PCTHierarchy.load(\"cartpole5-full.json\")"
   ]
  },
  {
   "cell_type": "code",
   "execution_count": null,
   "metadata": {},
   "outputs": [],
   "source": [
    "cartpole = FunctionsList.getInstance().get_function(\"CartPole-v1\")\n",
    "cartpole.render=True\n",
    "cartpole_hierarchy.set_order(\"Down\")\n",
    "#cartpole_hierarchy.draw(font_size=10, figsize=(8,12), move={'CartPole-v1': [-0.075, 0]}, node_size=1000)"
   ]
  },
  {
   "cell_type": "code",
   "execution_count": null,
   "metadata": {},
   "outputs": [
    {
     "name": "stdout",
     "output_type": "stream",
     "text": [
      "cartpoleh PCTHierarchy\n",
      "**************************\n",
      "PRE: CartPole-v1 OpenAIGym | 0 | links  greaterthan \n",
      "Level 4\n",
      "pole_position_node PCTNode\n",
      "----------------------------\n",
      "REF: pole_position_reference Constant | 0 \n",
      "PER: pole_position IndexedParameter | index 4 | 0 | links  CartPole-v1 \n",
      "COM: subtract4 Subtract | 0 | links  pole_position_reference pole_position \n",
      "OUT: pole_position_output Sigmoid | range 0.45 scale 2  | 0 | links  subtract4 \n",
      "----------------------------\n",
      "Level 3\n",
      "pole_angle_node PCTNode\n",
      "----------------------------\n",
      "REF: pole_angle_reference PassOn | 0 | links  pole_position_output \n",
      "PER: pole_angle IndexedParameter | index 2 | 0 | links  CartPole-v1 \n",
      "COM: subtract3 Subtract | 0 | links  pole_angle_reference pole_angle \n",
      "OUT: pole_angle_output Proportional | gain 1.5 | 0 | links  subtract3 \n",
      "----------------------------\n",
      "Level 2\n",
      "pole_velocity_node PCTNode\n",
      "----------------------------\n",
      "REF: pole_velocity_reference PassOn | 0 | links  pole_angle_output \n",
      "PER: pole_velocity IndexedParameter | index 3 | 0 | links  CartPole-v1 \n",
      "COM: subtract2 Subtract | 0 | links  pole_velocity_reference pole_velocity \n",
      "OUT: pole_velocity_output PassOn | 0 | links  subtract2 \n",
      "----------------------------\n",
      "Level 1\n",
      "cart_position_node PCTNode\n",
      "----------------------------\n",
      "REF: cart_position_reference IntegrationDual | gain 90 slow 100  | 0 | links  pole_velocity_output cart_position \n",
      "PER: cart_position IndexedParameter | index 0 | 0 | links  CartPole-v1 \n",
      "COM: subtract1 Subtract | 0 | links  cart_position_reference cart_position \n",
      "OUT: cart_position_output Proportional | gain 2 | 0 | links  subtract1 \n",
      "----------------------------\n",
      "Level 0\n",
      "cart_velocity_node PCTNode\n",
      "----------------------------\n",
      "REF: cart_velocity_reference PassOn | 0 | links  cart_position_output \n",
      "PER: cart_velocity IndexedParameter | index 1 | 0 | links  CartPole-v1 \n",
      "COM: subtract Subtract | 0 | links  cart_velocity_reference cart_velocity \n",
      "OUT: force Integration | gain -0.1 slow 4  | 0 | links  subtract \n",
      "----------------------------\n",
      "POST: greaterthan GreaterThan | threshold 0 upper 1 lower 0  | 0 | links  force \n",
      "**************************\n"
     ]
    }
   ],
   "source": [
    "cartpole_hierarchy.summary()"
   ]
  },
  {
   "cell_type": "code",
   "execution_count": null,
   "metadata": {},
   "outputs": [
    {
     "name": "stdout",
     "output_type": "stream",
     "text": [
      "-0.010 -0.197 0.047 0.304 -0.010 -0.197 0.047 0.304 1.0 False {} \n",
      "pole_position_node 0.000 -0.010 0.010 0.005 \n",
      "pole_angle_node -0.026 0.047 -0.073 -0.110 \n",
      "pole_velocity_node 0.013 0.304 -0.291 -0.291 \n",
      "cart_position_node 0.169 -0.010 0.180 0.359 \n",
      "cart_velocity_node 0.239 -0.197 0.436 -0.011 \n",
      "0.000 \n",
      "\n"
     ]
    },
    {
     "data": {
      "text/plain": [
       "0"
      ]
     },
     "execution_count": null,
     "metadata": {},
     "output_type": "execute_result"
    }
   ],
   "source": [
    "cartpole_hierarchy.run(1, verbose=True)"
   ]
  },
  {
   "cell_type": "code",
   "execution_count": null,
   "metadata": {},
   "outputs": [],
   "source": [
    "cartpole.close()"
   ]
  },
  {
   "cell_type": "code",
   "execution_count": null,
   "metadata": {},
   "outputs": [],
   "source": []
  }
 ],
 "metadata": {
  "kernelspec": {
   "display_name": "Python 3",
   "language": "python",
   "name": "python3"
  }
 },
 "nbformat": 4,
 "nbformat_minor": 4
}
