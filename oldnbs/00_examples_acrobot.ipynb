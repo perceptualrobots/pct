{
 "cells": [
  {
   "cell_type": "code",
   "execution_count": null,
   "metadata": {},
   "outputs": [
    {
     "name": "stdout",
     "output_type": "stream",
     "text": [
      "Cells will be exported to pct.examples,\n",
      "unless a different module is specified after an export flag: `%nbdev_export special.module`\n"
     ]
    }
   ],
   "source": [
    "from nbdev import *\n",
    "%nbdev_default_export examples"
   ]
  },
  {
   "cell_type": "code",
   "execution_count": null,
   "metadata": {},
   "outputs": [],
   "source": [
    "%nbdev_hide\n",
    "%reload_ext autoreload\n",
    "%autoreload 2"
   ]
  },
  {
   "cell_type": "markdown",
   "metadata": {},
   "source": [
    "# Examples\n",
    "\n",
    "> Examples of the PCT library in use."
   ]
  },
  {
   "cell_type": "code",
   "execution_count": null,
   "metadata": {},
   "outputs": [],
   "source": [
    "# hide\n",
    "import sys\n",
    "sys.path.append(\"..\")"
   ]
  },
  {
   "cell_type": "code",
   "execution_count": null,
   "metadata": {},
   "outputs": [],
   "source": [
    "import gym \n",
    "import os"
   ]
  },
  {
   "cell_type": "code",
   "execution_count": null,
   "metadata": {},
   "outputs": [],
   "source": [
    "os = os.name"
   ]
  },
  {
   "cell_type": "markdown",
   "metadata": {},
   "source": [
    "## Acrobot\n",
    "\n",
    "The goal is for the end effector to be one link length above the horizontal.\n",
    "\n",
    "The observations of the Acrobat system are the sin and cos values of the two joint angles and also the angular velocities of the two joints.\n",
    "\n",
    "That is, \n",
    "\n",
    "0 - cos of the angle of link 1\n",
    "\n",
    "1 - sin of the angle of link 1\n",
    "\n",
    "2 - cos of the angle of link 2\n",
    "\n",
    "3 - sin of the angle of link 2\n",
    "\n",
    "4 - velocity of link 1\n",
    "\n",
    "5 - velocity of link 2\n",
    "\n",
    "An angle of 0 for the first link means it is pointing downwards.\n",
    "\n",
    "An angle of 0 for the second link means it is in line with the first link (I think).\n",
    "\n",
    "So, the starting position of pointing downwards has both angles as 0. Therefore, the initial state is \n",
    "[1, 0, 1, 0, 0, 0]\n",
    "\n",
    "The ideal goal state, then, would be, [-1,0, 1, 0, 0, 0], which is pointing upwards."
   ]
  },
  {
   "cell_type": "code",
   "execution_count": null,
   "metadata": {},
   "outputs": [],
   "source": [
    "from pct.hierarchy import PCTHierarchy\n",
    "from pct.functions import OpenAIGym"
   ]
  },
  {
   "cell_type": "code",
   "execution_count": null,
   "metadata": {},
   "outputs": [],
   "source": [
    "#env = gym.make(\"Acrobot-v1\")"
   ]
  },
  {
   "cell_type": "code",
   "execution_count": null,
   "metadata": {},
   "outputs": [
    {
     "name": "stdout",
     "output_type": "stream",
     "text": [
      "{'type': 'Proportional', 'name': 'proportional', 'value': 0, 'links': {0: 'subtract'}, 'gain': 10}\n"
     ]
    }
   ],
   "source": [
    "acrobot_hierarchy = PCTHierarchy(rows=1, cols=1, name=\"acrobot_hierarchy\")\n",
    "acrobot = OpenAIGym(\"Acrobot-v1\", name=\"Acrobot-v1\", render=False)\n",
    "link = acrobot_hierarchy.get_output_function()\n",
    "print(link.get_config())\n",
    "acrobot.add_link(link)"
   ]
  },
  {
   "cell_type": "code",
   "execution_count": null,
   "metadata": {},
   "outputs": [
    {
     "name": "stdout",
     "output_type": "stream",
     "text": [
      "acrobot_hierarchy PCTHierarchy\n",
      "**************************\n",
      "PRE: Acrobot-v1 OpenAIGym | 0 | links  proportional \n",
      "Level 0\n",
      "row0col0 PCTNode\n",
      "----------------------------\n",
      "REF: constant Constant | 1 \n",
      "PER: variable Variable | 0 \n",
      "COM: subtract Subtract | 0 | links  constant variable \n",
      "OUT: proportional Proportional | gain 10 | 0 | links  subtract \n",
      "----------------------------\n",
      "POST: None\n",
      "**************************\n"
     ]
    }
   ],
   "source": [
    "acrobot_hierarchy.add_preprocessor(acrobot)\n",
    "acrobot_hierarchy.summary()"
   ]
  },
  {
   "cell_type": "code",
   "execution_count": null,
   "metadata": {},
   "outputs": [
    {
     "data": {
      "text/plain": [
       "10"
      ]
     },
     "execution_count": null,
     "metadata": {},
     "output_type": "execute_result"
    }
   ],
   "source": [
    "acrobot_hierarchy()"
   ]
  },
  {
   "cell_type": "code",
   "execution_count": null,
   "metadata": {},
   "outputs": [
    {
     "data": {
      "text/plain": [
       "'\\nenv = gym.make(\"Acrobot-v1\")\\nenv.reset()\\nobs = env.step(1)\\n'"
      ]
     },
     "execution_count": null,
     "metadata": {},
     "output_type": "execute_result"
    }
   ],
   "source": [
    "\"\"\"\n",
    "env = gym.make(\"Acrobot-v1\")\n",
    "env.reset()\n",
    "obs = env.step(1)\n",
    "\"\"\""
   ]
  },
  {
   "cell_type": "code",
   "execution_count": null,
   "metadata": {},
   "outputs": [],
   "source": []
  },
  {
   "cell_type": "code",
   "execution_count": null,
   "metadata": {},
   "outputs": [
    {
     "data": {
      "text/plain": [
       "'\\nenv.reset()\\nalt=3\\n\\nfor i in range(10):\\n    alt+=1\\n    for j in range(alt):\\n        obs = env.step(1)\\n        if os==\"nt\":\\n            env.render()\\n        print(f\\'{obs[0][0]:0.2f} {obs[0][1]:0.2f} {obs[0][2]:0.2f} {obs[0][3]:0.2f} {obs[0][4]:0.2f} {obs[0][5]:0.2f}\\')\\n    for k in range(alt):\\n        obs = env.step(-1)\\n        if os==\"nt\":\\n            env.render()\\n        print(f\\'{obs[0][0]:0.2f} {obs[0][1]:0.2f} {obs[0][2]:0.2f} {obs[0][3]:0.2f} {obs[0][4]:0.2f} {obs[0][5]:0.2f}\\')\\n'"
      ]
     },
     "execution_count": null,
     "metadata": {},
     "output_type": "execute_result"
    }
   ],
   "source": [
    "\"\"\"\n",
    "env.reset()\n",
    "alt=3\n",
    "\n",
    "for i in range(10):\n",
    "    alt+=1\n",
    "    for j in range(alt):\n",
    "        obs = env.step(1)\n",
    "        if os==\"nt\":\n",
    "            env.render()\n",
    "        print(f'{obs[0][0]:0.2f} {obs[0][1]:0.2f} {obs[0][2]:0.2f} {obs[0][3]:0.2f} {obs[0][4]:0.2f} {obs[0][5]:0.2f}')\n",
    "    for k in range(alt):\n",
    "        obs = env.step(-1)\n",
    "        if os==\"nt\":\n",
    "            env.render()\n",
    "        print(f'{obs[0][0]:0.2f} {obs[0][1]:0.2f} {obs[0][2]:0.2f} {obs[0][3]:0.2f} {obs[0][4]:0.2f} {obs[0][5]:0.2f}')\n",
    "\"\"\""
   ]
  },
  {
   "cell_type": "code",
   "execution_count": null,
   "metadata": {},
   "outputs": [],
   "source": [
    "acrobot.close()"
   ]
  },
  {
   "cell_type": "code",
   "execution_count": null,
   "metadata": {},
   "outputs": [],
   "source": []
  },
  {
   "cell_type": "code",
   "execution_count": null,
   "metadata": {},
   "outputs": [],
   "source": []
  }
 ],
 "metadata": {
  "kernelspec": {
   "display_name": "Python 3",
   "language": "python",
   "name": "python3"
  }
 },
 "nbformat": 4,
 "nbformat_minor": 2
}
