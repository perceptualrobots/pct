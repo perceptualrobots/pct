{
 "cells": [
  {
   "cell_type": "markdown",
   "metadata": {},
   "source": [
    "## PCT Functions"
   ]
  },
  {
   "cell_type": "code",
   "execution_count": 1,
   "metadata": {},
   "outputs": [],
   "source": [
    "from pct.functions import Integration \n",
    "from pct.functions import IntegrationDual \n",
    "from pct.functions import IndexedParameter\n",
    "from pct.functions import Constant\n",
    "from pct.functions import Sigmoid\n",
    "from pct.functions import PassOn\n",
    "from pct.putils import FunctionsList"
   ]
  },
  {
   "cell_type": "code",
   "execution_count": 2,
   "metadata": {},
   "outputs": [],
   "source": [
    "cons = Constant(2)\n",
    "integrator = Integration(gain=9, slow=10)"
   ]
  },
  {
   "cell_type": "code",
   "execution_count": 3,
   "metadata": {},
   "outputs": [],
   "source": [
    "integrator.add_link(cons)"
   ]
  },
  {
   "cell_type": "code",
   "execution_count": 4,
   "metadata": {},
   "outputs": [
    {
     "name": "stdout",
     "output_type": "stream",
     "text": [
      "1.8\n"
     ]
    }
   ],
   "source": [
    "out = integrator()\n",
    "print(out)"
   ]
  },
  {
   "cell_type": "code",
   "execution_count": 5,
   "metadata": {},
   "outputs": [
    {
     "name": "stdout",
     "output_type": "stream",
     "text": [
      "3.420 4.878 6.190 7.371 8.434 9.391 10.252 11.026 11.724 12.351 "
     ]
    }
   ],
   "source": [
    "o=integrator.run(steps=10, verbose=True)"
   ]
  },
  {
   "cell_type": "code",
   "execution_count": 6,
   "metadata": {},
   "outputs": [
    {
     "data": {
      "text/plain": [
       "array([[2., 2., 2.],\n",
       "       [2., 2., 2.],\n",
       "       [2., 2., 2.]])"
      ]
     },
     "execution_count": 6,
     "metadata": {},
     "output_type": "execute_result"
    }
   ],
   "source": [
    "import numpy as np\n",
    "input=np.ones((3, 3))*2\n",
    "input"
   ]
  },
  {
   "cell_type": "code",
   "execution_count": 7,
   "metadata": {},
   "outputs": [
    {
     "name": "stdout",
     "output_type": "stream",
     "text": [
      "[[1.8 1.8 1.8]\n",
      " [1.8 1.8 1.8]\n",
      " [1.8 1.8 1.8]]\n"
     ]
    }
   ],
   "source": [
    "cons = Constant(input)\n",
    "integrator = Integration(gain=9, slow=10)\n",
    "integrator.add_link(cons)\n",
    "out = integrator()\n",
    "print(out)"
   ]
  },
  {
   "cell_type": "code",
   "execution_count": 8,
   "metadata": {},
   "outputs": [],
   "source": [
    "from pct.functions import WeightedSum\n",
    "ws = WeightedSum(weights=np.ones(3))\n",
    "ws.add_link(Constant(10))\n",
    "ws.add_link(Constant(5))\n",
    "ws.add_link(Constant(20))"
   ]
  },
  {
   "cell_type": "code",
   "execution_count": 9,
   "metadata": {},
   "outputs": [
    {
     "name": "stdout",
     "output_type": "stream",
     "text": [
      "weighted_sum WeightedSum | weights [1. 1. 1.] | 0 | links  constant2 constant3 constant4 \n"
     ]
    }
   ],
   "source": [
    "ws.summary()"
   ]
  },
  {
   "cell_type": "code",
   "execution_count": 10,
   "metadata": {},
   "outputs": [
    {
     "name": "stdout",
     "output_type": "stream",
     "text": [
      "{'type': 'WeightedSum', 'name': 'weighted_sum', 'value': 0, 'links': {0: 'constant2', 1: 'constant3', 2: 'constant4'}, 'weights': [1.0, 1.0, 1.0]}\n"
     ]
    }
   ],
   "source": [
    "print(ws.get_config())"
   ]
  },
  {
   "cell_type": "code",
   "execution_count": null,
   "metadata": {},
   "outputs": [],
   "source": [
    "ws.draw()"
   ]
  },
  {
   "cell_type": "markdown",
   "metadata": {},
   "source": [
    "## Nodes"
   ]
  },
  {
   "cell_type": "code",
   "execution_count": null,
   "metadata": {},
   "outputs": [],
   "source": [
    "from pct.nodes import PCTNode"
   ]
  },
  {
   "cell_type": "code",
   "execution_count": null,
   "metadata": {},
   "outputs": [],
   "source": [
    "node = PCTNode()"
   ]
  },
  {
   "cell_type": "code",
   "execution_count": null,
   "metadata": {},
   "outputs": [],
   "source": [
    "node.summary()"
   ]
  },
  {
   "cell_type": "code",
   "execution_count": null,
   "metadata": {},
   "outputs": [],
   "source": [
    "node.draw()"
   ]
  },
  {
   "cell_type": "code",
   "execution_count": null,
   "metadata": {},
   "outputs": [],
   "source": [
    "integ = Integration(10, 100, name=\"integrator\", links=['subtract'], position=-1)\n",
    "node.insert_function(collection = \"output\", function=integ)\n",
    "node.draw()"
   ]
  },
  {
   "cell_type": "code",
   "execution_count": null,
   "metadata": {},
   "outputs": [],
   "source": [
    "out =node()\n",
    "out"
   ]
  },
  {
   "cell_type": "code",
   "execution_count": null,
   "metadata": {},
   "outputs": [],
   "source": [
    "#FunctionsList.getInstance().report()"
   ]
  },
  {
   "cell_type": "code",
   "execution_count": null,
   "metadata": {},
   "outputs": [],
   "source": [
    "node.run(steps=10, verbose=True)"
   ]
  },
  {
   "cell_type": "markdown",
   "metadata": {},
   "source": [
    "## Hierarchies"
   ]
  },
  {
   "cell_type": "code",
   "execution_count": null,
   "metadata": {},
   "outputs": [],
   "source": [
    "from pct.hierarchy import PCTHierarchy"
   ]
  },
  {
   "cell_type": "code",
   "execution_count": null,
   "metadata": {},
   "outputs": [],
   "source": [
    "hpct = PCTHierarchy(2, 2, links=\"dense\")"
   ]
  },
  {
   "cell_type": "code",
   "execution_count": null,
   "metadata": {},
   "outputs": [],
   "source": [
    "hpct.summary()"
   ]
  },
  {
   "cell_type": "code",
   "execution_count": null,
   "metadata": {},
   "outputs": [],
   "source": [
    "hpct.draw(figsize=(8, 10), node_size=1000)"
   ]
  },
  {
   "cell_type": "code",
   "execution_count": null,
   "metadata": {},
   "outputs": [],
   "source": [
    "cartpole_hierarchy = PCTHierarchy.load(\"cartpole.json\")"
   ]
  },
  {
   "cell_type": "code",
   "execution_count": null,
   "metadata": {},
   "outputs": [],
   "source": [
    "cartpole = FunctionsList.getInstance().get_function(\"CartPole-v1\")\n",
    "cartpole.render=True\n",
    "cartpole_hierarchy.set_order(\"Down\")\n",
    "cartpole_hierarchy.draw(font_size=10, figsize=(8,12), move={'CartPole-v1': [-0.075, 0]}, node_size=1000)"
   ]
  },
  {
   "cell_type": "code",
   "execution_count": null,
   "metadata": {},
   "outputs": [],
   "source": [
    "cartpole_hierarchy.run(200)"
   ]
  },
  {
   "cell_type": "code",
   "execution_count": null,
   "metadata": {},
   "outputs": [],
   "source": [
    "#cartpole_hierarchy.summary()"
   ]
  },
  {
   "cell_type": "code",
   "execution_count": null,
   "metadata": {},
   "outputs": [],
   "source": [
    "cartpole.close()"
   ]
  },
  {
   "cell_type": "code",
   "execution_count": null,
   "metadata": {},
   "outputs": [],
   "source": [
    "pole_position_node = PCTNode.from_config({ 'name': 'pole_position_node', \n",
    "    'refcoll': {'0': {'type': 'Step', 'name': 'pole_position_reference', 'value': 0, 'upper' : 2, 'lower' :-2, 'delay' :100, 'period' :500, 'links': {}}}, \n",
    "    'percoll': {'0': {'type': 'IndexedParameter', 'name': 'pole_position', 'value': 0, 'index' :4, 'links': {0: 'CartPole-v1'}}}, \n",
    "    'comcoll': {'0': {'type': 'Subtract', 'name': 'subtract4', 'value': 0, 'links': {0: 'pole_position_reference', 1: 'pole_position'}}}, \n",
    "    'outcoll': {'0': {'type': 'Sigmoid', 'name': 'pole_position_output', 'value': 0, 'links': {0: 'subtract4'}, 'range': 0.45, 'scale': 2}}})"
   ]
  },
  {
   "cell_type": "code",
   "execution_count": null,
   "metadata": {},
   "outputs": [],
   "source": [
    "cartpole_hierarchy.add_node(pole_position_node, level=4)"
   ]
  },
  {
   "cell_type": "code",
   "execution_count": null,
   "metadata": {},
   "outputs": [],
   "source": [
    "# pole_angle\n",
    "cartpole_hierarchy.replace_function(level=3, col=0, collection=\"reference\", function=PassOn(name=\"pole_angle_reference\", links=['pole_position_output']), position=0)\n",
    "FunctionsList.getInstance().get_function(\"pole_angle_output\").set_property('gain', 1.5)\n",
    "cartpole_hierarchy.set_links('subtract3', 'pole_angle_reference',  'pole_angle')\n",
    "\n",
    "# pole_velocity\n",
    "cartpole_hierarchy.replace_function(level=2, col=0, collection=\"output\", function=PassOn(name=\"pole_velocity_output\", links=['subtract2']), position=0)\n",
    "\n",
    "# cart_position\n",
    "cartpole_hierarchy.replace_function(level=1, col=0, collection=\"reference\", function=IntegrationDual(name=\"cart_position_reference\", gain=90, slow=100, links=['pole_velocity_output']), position=0)\n",
    "cartpole_hierarchy.add_links( 'cart_position_reference',  'cart_position')\n",
    "cartpole_hierarchy.set_links('subtract1', 'cart_position_reference',  'cart_position')\n",
    "\n",
    "# force\n",
    "FunctionsList.getInstance().get_function(\"force\").set_property('gain', -0.1)\n"
   ]
  },
  {
   "cell_type": "code",
   "execution_count": null,
   "metadata": {},
   "outputs": [],
   "source": [
    "#cartpole_hierarchy.summary()"
   ]
  },
  {
   "cell_type": "code",
   "execution_count": null,
   "metadata": {},
   "outputs": [],
   "source": [
    "cartpole_hierarchy.draw(font_size=10, figsize=(8,16), move={'CartPole-v1': [-0.075, 0] , 'pole_velocity': [-0.02, 0], 'pole_angle': [-0.025, 0]}, node_size=1000)"
   ]
  },
  {
   "cell_type": "code",
   "execution_count": null,
   "metadata": {},
   "outputs": [],
   "source": [
    "#cartpole_hierarchy.clear_values()\n",
    "#cartpole_hierarchy.save(\"cartpole5-added.json\")"
   ]
  },
  {
   "cell_type": "code",
   "execution_count": null,
   "metadata": {},
   "outputs": [],
   "source": [
    "cartpole_hierarchy.run(500, verbose=False)\n"
   ]
  },
  {
   "cell_type": "code",
   "execution_count": null,
   "metadata": {},
   "outputs": [],
   "source": [
    "cartpole.close()"
   ]
  },
  {
   "cell_type": "code",
   "execution_count": null,
   "metadata": {},
   "outputs": [],
   "source": []
  }
 ],
 "metadata": {
  "kernelspec": {
   "display_name": "Python 3",
   "language": "python",
   "name": "python3"
  },
  "language_info": {
   "codemirror_mode": {
    "name": "ipython",
    "version": 3
   },
   "file_extension": ".py",
   "mimetype": "text/x-python",
   "name": "python",
   "nbconvert_exporter": "python",
   "pygments_lexer": "ipython3",
   "version": "3.7.9"
  }
 },
 "nbformat": 4,
 "nbformat_minor": 4
}
