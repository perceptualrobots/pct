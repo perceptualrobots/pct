{
 "cells": [
  {
   "cell_type": "code",
   "execution_count": null,
   "metadata": {},
   "outputs": [],
   "source": [
    "import numpy as np\n",
    "import time\n",
    "\n",
    "from pct.hierarchy import PCTHierarchy\n",
    "from pct.functions import Subtract\n",
    "from pct.functions import Sigmoid\n",
    "from pct.functions import Constant\n",
    "from pct.functions import Proportional\n",
    "from pct.functions import WeightedSum\n",
    "from pct.functions import PassOn\n",
    "\n",
    "from pct.functions import Integration\n",
    "from pct.functions import OpenAIGym\n",
    "from pct.functions import IndexedParameter\n",
    "from pct.functions import GreaterThan\n",
    "\n",
    "from pct.nodes import PCTNode\n",
    "from pct.putils import FunctionsList"
   ]
  },
  {
   "cell_type": "code",
   "execution_count": null,
   "metadata": {},
   "outputs": [],
   "source": [
    "cartpole_hierarchy = PCTHierarchy(levels=5, cols=1, name=\"cartpoleh\", build=False)\n",
    "cartpole_hierarchy.get_node(0, 0).name = 'cart_velocity'\n",
    "cartpole_hierarchy.get_node(1, 0).name = 'cart_position'\n",
    "cartpole_hierarchy.get_node(2, 0).name = 'pole_velocity'\n",
    "cartpole_hierarchy.get_node(3, 0).name = 'pole_angle'\n",
    "cartpole_hierarchy.get_node(4, 0).name = 'pole_position'\n",
    "\n",
    "#cartpole = OpenAIGym(\"CartPole-v1\", name=\"CartPole-v1\", render=True)\n",
    "cartpole = Constant([1,1,1,1,1], name=\"CartPole-v1\")\n",
    "cartpole_hierarchy.set_order(\"Down\")\n"
   ]
  },
  {
   "cell_type": "code",
   "execution_count": null,
   "metadata": {},
   "outputs": [],
   "source": [
    "cartpole_hierarchy.insert_function(level=0, col=0, collection=\"perception\", function=IndexedParameter(index=1, name=\"cart_velocity\", links=[cartpole]))\n",
    "cartpole_hierarchy.insert_function(level=1, col=0, collection=\"perception\", function=IndexedParameter(index=0, name=\"cart_position\", links=[cartpole]))\n",
    "cartpole_hierarchy.insert_function(level=2, col=0, collection=\"perception\", function=IndexedParameter(index=3, name=\"pole_velocity\", links=[cartpole]))\n",
    "cartpole_hierarchy.insert_function(level=3, col=0, collection=\"perception\", function=IndexedParameter(index=2, name=\"pole_angle\", links=[cartpole]))\n",
    "cartpole_hierarchy.insert_function(level=4, col=0, collection=\"perception\", function=PassOn(name=\"pole_position\", links=['cart_position']))\n",
    "\n",
    "\n",
    "cartpole_hierarchy.insert_function(level=0, col=0, collection=\"reference\", function=PassOn(name=\"cart_velocity_reference\", links=['proportional1']))\n",
    "cartpole_hierarchy.insert_function(level=1, col=0, collection=\"reference\", function=PassOn(name=\"cart_position_reference\", links=['proportional2']))\n",
    "cartpole_hierarchy.insert_function(level=2, col=0, collection=\"reference\", function=PassOn(name=\"pole_velocity_reference\", links=['proportional3']))\n",
    "\n",
    "cartpole_hierarchy.insert_function(level=0, col=0, collection=\"output\", function=Integration(gain=-0.1, slow=4, name=\"force\"))\n",
    "#cartpole_hierarchy.summary()\n",
    "cartpole_hierarchy.insert_function(level=4, col=0, collection=\"output\", function=Sigmoid(range=0.45, scale=2, name=\"pole_position_output\"))\n",
    "#cartpole_hierarchy.summary(build=False)\n",
    "\n",
    "cartpole_hierarchy.replace_function(level=3, col=0, collection=\"reference\", function=PassOn(name=\"pole_angle_reference\", links=['pole_position_output']), position=0)\n",
    "cartpole_hierarchy.replace_function(level=2, col=0, collection=\"output\", function=Integration(name=\"pole_velocity_output\", gain=90, slow=100), position=0)\n",
    "cartpole_hierarchy.set_links( 'cart_position_reference', 'pole_velocity_output')\n"
   ]
  },
  {
   "cell_type": "code",
   "execution_count": null,
   "metadata": {},
   "outputs": [],
   "source": [
    "FunctionsList.getInstance().get_function(\"proportional3\").set_name(\"pole_angle_output\")\n",
    "FunctionsList.getInstance().get_function(\"pole_angle_output\").set_property('gain', 1.5)\n",
    "\n",
    "#FunctionsList.getInstance().get_function(\"proportional2\").set_name(\"pole_velocity_output\")\n",
    "#FunctionsList.getInstance().get_function(\"pole_velocity_output\").set_property('gain', 0.5)\n",
    "\n",
    "FunctionsList.getInstance().get_function(\"proportional1\").set_name(\"cart_position_output\")\n",
    "FunctionsList.getInstance().get_function(\"cart_position_output\").set_property('gain', 2)\n",
    "FunctionsList.getInstance().get_function(\"constant4\").set_name(\"pole_position_reference\")\n",
    "FunctionsList.getInstance().get_function(\"pole_position_reference\").set_value(0)"
   ]
  },
  {
   "cell_type": "code",
   "execution_count": null,
   "metadata": {},
   "outputs": [
    {
     "name": "stdout",
     "output_type": "stream",
     "text": [
      "cartpoleh PCTHierarchy\n",
      "**************************\n",
      "PRE: CartPole-v1 Constant | [1, 1, 1, 1, 1] | links  greaterthan \n",
      "Level 4\n",
      "pole_position PCTNode\n",
      "----------------------------\n",
      "REF: pole_position_reference Constant | 0 \n",
      "PER: pole_position PassOn | 0 | links  cart_position \n",
      "COM: subtract4 Subtract | 0 | links  pole_position_reference pole_position \n",
      "OUT: pole_position_output Sigmoid | range 0.45 scale 2  | 0 | links  subtract4 \n",
      "----------------------------\n",
      "Level 3\n",
      "pole_angle PCTNode\n",
      "----------------------------\n",
      "REF: pole_angle_reference PassOn | 0 | links  pole_position_output \n",
      "PER: pole_angle IndexedParameter | index 2 | 0 | links  CartPole-v1 \n",
      "COM: subtract3 Subtract | 0 | links  pole_angle_reference pole_angle \n",
      "OUT: pole_angle_output Proportional | gain 1.5 | 0 | links  subtract3 \n",
      "----------------------------\n",
      "Level 2\n",
      "pole_velocity PCTNode\n",
      "----------------------------\n",
      "REF: pole_velocity_reference PassOn | 0 | links  pole_angle_output \n",
      "PER: pole_velocity IndexedParameter | index 3 | 0 | links  CartPole-v1 \n",
      "COM: subtract2 Subtract | 0 | links  pole_velocity_reference pole_velocity \n",
      "OUT: pole_velocity_output Integration | gain 90 slow 100  | 0 | links  subtract2 \n",
      "----------------------------\n",
      "Level 1\n",
      "cart_position PCTNode\n",
      "----------------------------\n",
      "REF: cart_position_reference PassOn | 0 | links  pole_velocity_output \n",
      "PER: cart_position IndexedParameter | index 0 | 0 | links  CartPole-v1 \n",
      "COM: subtract1 Subtract | 0 | links  cart_position_reference cart_position \n",
      "OUT: cart_position_output Proportional | gain 2 | 0 | links  subtract1 \n",
      "----------------------------\n",
      "Level 0\n",
      "cart_velocity PCTNode\n",
      "----------------------------\n",
      "REF: cart_velocity_reference PassOn | 0 | links  cart_position_output \n",
      "PER: cart_velocity IndexedParameter | index 1 | 0 | links  CartPole-v1 \n",
      "COM: subtract Subtract | 0 | links  cart_velocity_reference cart_velocity \n",
      "OUT: force Integration | gain -0.1 slow 4  | 0 | links  subtract \n",
      "----------------------------\n",
      "POST: greaterthan GreaterThan | threshold 0 upper 1 lower 0  | 0 | links  force \n",
      "**************************\n"
     ]
    }
   ],
   "source": [
    "greaterthan = GreaterThan(threshold=0, upper=1, lower=0, links='force')\n",
    "cartpole_hierarchy.add_postprocessor(greaterthan)\n",
    "cartpole_hierarchy.add_preprocessor(cartpole)\n",
    "cartpole.add_link(greaterthan)\n",
    "\n",
    "cartpole_hierarchy.summary(build=True)\n",
    "#FunctionsList.getInstance().report()\n"
   ]
  },
  {
   "cell_type": "code",
   "execution_count": null,
   "metadata": {},
   "outputs": [],
   "source": [
    "#cartpole_hierarchy.draw(font_size=10, figsize=(8,12), move={'CartPole-v1': [-0.075, 0] , 'pole_velocity': [-0.02, 0], 'pole_angle': [-0.025, 0]}, node_size=1000)\n"
   ]
  },
  {
   "cell_type": "code",
   "execution_count": null,
   "metadata": {},
   "outputs": [
    {
     "name": "stdout",
     "output_type": "stream",
     "text": [
      "['1.000', '1.000', '1.000', '1.000', '1.000'] \n",
      "pole_position 0.000 0.000 0.000 0.000 \n",
      "pole_angle 0.000 1.000 -1.000 -1.500 \n",
      "pole_velocity -1.500 1.000 -2.500 -2.250 \n",
      "cart_position -2.250 1.000 -3.250 -6.500 \n",
      "cart_velocity -6.500 1.000 -7.500 0.188 \n",
      "1.000 \n",
      "\n",
      "['1.000', '1.000', '1.000', '1.000', '1.000'] \n",
      "pole_position 0.000 1.000 -1.000 -0.220 \n",
      "pole_angle -0.220 1.000 -1.220 -1.830 \n",
      "pole_velocity -1.830 1.000 -2.830 -4.774 \n",
      "cart_position -4.774 1.000 -5.774 -11.548 \n",
      "cart_velocity -11.548 1.000 -12.548 0.454 \n",
      "1.000 \n",
      "\n",
      "['1.000', '1.000', '1.000', '1.000', '1.000'] \n",
      "pole_position 0.000 1.000 -1.000 -0.220 \n",
      "pole_angle -0.220 1.000 -1.220 -1.830 \n",
      "pole_velocity -1.830 1.000 -2.830 -7.273 \n",
      "cart_position -7.273 1.000 -8.273 -16.546 \n",
      "cart_velocity -16.546 1.000 -17.546 0.779 \n",
      "1.000 \n",
      "\n",
      "['1.000', '1.000', '1.000', '1.000', '1.000'] \n",
      "pole_position 0.000 1.000 -1.000 -0.220 \n",
      "pole_angle -0.220 1.000 -1.220 -1.830 \n",
      "pole_velocity -1.830 1.000 -2.830 -9.747 \n",
      "cart_position -9.747 1.000 -10.747 -21.494 \n",
      "cart_velocity -21.494 1.000 -22.494 1.147 \n",
      "1.000 \n",
      "\n",
      "['1.000', '1.000', '1.000', '1.000', '1.000'] \n",
      "pole_position 0.000 1.000 -1.000 -0.220 \n",
      "pole_angle -0.220 1.000 -1.220 -1.830 \n",
      "pole_velocity -1.830 1.000 -2.830 -12.196 \n",
      "cart_position -12.196 1.000 -13.196 -26.393 \n",
      "cart_velocity -26.393 1.000 -27.393 1.545 \n",
      "1.000 \n",
      "\n",
      "['1.000', '1.000', '1.000', '1.000', '1.000'] \n",
      "pole_position 0.000 1.000 -1.000 -0.220 \n",
      "pole_angle -0.220 1.000 -1.220 -1.830 \n",
      "pole_velocity -1.830 1.000 -2.830 -14.621 \n",
      "cart_position -14.621 1.000 -15.621 -31.242 \n",
      "cart_velocity -31.242 1.000 -32.242 1.965 \n",
      "1.000 \n",
      "\n",
      "['1.000', '1.000', '1.000', '1.000', '1.000'] \n",
      "pole_position 0.000 1.000 -1.000 -0.220 \n",
      "pole_angle -0.220 1.000 -1.220 -1.830 \n",
      "pole_velocity -1.830 1.000 -2.830 -17.022 \n",
      "cart_position -17.022 1.000 -18.022 -36.043 \n",
      "cart_velocity -36.043 1.000 -37.043 2.400 \n",
      "1.000 \n",
      "\n",
      "['1.000', '1.000', '1.000', '1.000', '1.000'] \n",
      "pole_position 0.000 1.000 -1.000 -0.220 \n",
      "pole_angle -0.220 1.000 -1.220 -1.830 \n",
      "pole_velocity -1.830 1.000 -2.830 -19.398 \n",
      "cart_position -19.398 1.000 -20.398 -40.796 \n",
      "cart_velocity -40.796 1.000 -41.796 2.845 \n",
      "1.000 \n",
      "\n",
      "['1.000', '1.000', '1.000', '1.000', '1.000'] \n",
      "pole_position 0.000 1.000 -1.000 -0.220 \n",
      "pole_angle -0.220 1.000 -1.220 -1.830 \n",
      "pole_velocity -1.830 1.000 -2.830 -21.751 \n",
      "cart_position -21.751 1.000 -22.751 -45.502 \n",
      "cart_velocity -45.502 1.000 -46.502 3.296 \n",
      "1.000 \n",
      "\n",
      "['1.000', '1.000', '1.000', '1.000', '1.000'] \n",
      "pole_position 0.000 1.000 -1.000 -0.220 \n",
      "pole_angle -0.220 1.000 -1.220 -1.830 \n",
      "pole_velocity -1.830 1.000 -2.830 -24.080 \n",
      "cart_position -24.080 1.000 -25.080 -50.160 \n",
      "cart_velocity -50.160 1.000 -51.160 3.751 \n",
      "1.000 \n",
      "\n"
     ]
    },
    {
     "data": {
      "text/plain": [
       "1"
      ]
     },
     "execution_count": null,
     "metadata": {},
     "output_type": "execute_result"
    }
   ],
   "source": [
    "cartpole_hierarchy.run(10, verbose=True)\n",
    "#cartpole_hierarchy.run(100)"
   ]
  },
  {
   "cell_type": "code",
   "execution_count": null,
   "metadata": {},
   "outputs": [],
   "source": [
    "cartpole.close()"
   ]
  }
 ],
 "metadata": {
  "kernelspec": {
   "display_name": "Python 3",
   "language": "python",
   "name": "python3"
  }
 },
 "nbformat": 4,
 "nbformat_minor": 4
}
