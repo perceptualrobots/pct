{
 "cells": [
  {
   "cell_type": "markdown",
   "metadata": {},
   "source": [
    "# Cartpole"
   ]
  },
  {
   "cell_type": "code",
   "execution_count": null,
   "metadata": {},
   "outputs": [
    {
     "ename": "ImportError",
     "evalue": "cannot import name 'Step' from 'pct.functions' (C:\\Users\\ryoung\\Google Drive\\nbdev\\pct\\pct\\functions.py)",
     "output_type": "error",
     "traceback": [
      "\u001b[1;31m---------------------------------------------------------------------------\u001b[0m",
      "\u001b[1;31mImportError\u001b[0m                               Traceback (most recent call last)",
      "\u001b[1;32m<ipython-input-154-bd1679950f2a>\u001b[0m in \u001b[0;36m<module>\u001b[1;34m\u001b[0m\n\u001b[0;32m     10\u001b[0m \u001b[1;32mfrom\u001b[0m \u001b[0mpct\u001b[0m\u001b[1;33m.\u001b[0m\u001b[0mfunctions\u001b[0m \u001b[1;32mimport\u001b[0m \u001b[0mWeightedSum\u001b[0m\u001b[1;33m\u001b[0m\u001b[1;33m\u001b[0m\u001b[0m\n\u001b[0;32m     11\u001b[0m \u001b[1;32mfrom\u001b[0m \u001b[0mpct\u001b[0m\u001b[1;33m.\u001b[0m\u001b[0mfunctions\u001b[0m \u001b[1;32mimport\u001b[0m \u001b[0mPassOn\u001b[0m\u001b[1;33m\u001b[0m\u001b[1;33m\u001b[0m\u001b[0m\n\u001b[1;32m---> 12\u001b[1;33m \u001b[1;32mfrom\u001b[0m \u001b[0mpct\u001b[0m\u001b[1;33m.\u001b[0m\u001b[0mfunctions\u001b[0m \u001b[1;32mimport\u001b[0m \u001b[0mStep\u001b[0m\u001b[1;33m\u001b[0m\u001b[1;33m\u001b[0m\u001b[0m\n\u001b[0m\u001b[0;32m     13\u001b[0m \u001b[1;33m\u001b[0m\u001b[0m\n\u001b[0;32m     14\u001b[0m \u001b[1;32mfrom\u001b[0m \u001b[0mpct\u001b[0m\u001b[1;33m.\u001b[0m\u001b[0mfunctions\u001b[0m \u001b[1;32mimport\u001b[0m \u001b[0mIntegration\u001b[0m\u001b[1;33m\u001b[0m\u001b[1;33m\u001b[0m\u001b[0m\n",
      "\u001b[1;31mImportError\u001b[0m: cannot import name 'Step' from 'pct.functions' (C:\\Users\\ryoung\\Google Drive\\nbdev\\pct\\pct\\functions.py)"
     ]
    }
   ],
   "source": [
    "import numpy as np\n",
    "import time\n",
    "import math\n",
    "\n",
    "from pct.hierarchy import PCTHierarchy\n",
    "from pct.functions import Subtract\n",
    "from pct.functions import Sigmoid\n",
    "from pct.functions import Constant\n",
    "from pct.functions import Proportional\n",
    "from pct.functions import WeightedSum\n",
    "from pct.functions import PassOn\n",
    "from pct.functions import Step\n",
    "\n",
    "from pct.functions import Integration\n",
    "from pct.functions import IntegrationDual\n",
    "from pct.functions import OpenAIGym\n",
    "from pct.functions import IndexedParameter\n",
    "from pct.functions import GreaterThan\n",
    "\n",
    "from pct.nodes import PCTNode\n",
    "from pct.putils import FunctionsList"
   ]
  },
  {
   "cell_type": "code",
   "execution_count": null,
   "metadata": {},
   "outputs": [],
   "source": [
    "cartpole_hierarchy = PCTHierarchy(levels=5, cols=1, name=\"cartpoleh\", build=False)\n",
    "cartpole_hierarchy.get_node(0, 0).name = 'cart_velocity_node'\n",
    "cartpole_hierarchy.get_node(1, 0).name = 'cart_position_node'\n",
    "cartpole_hierarchy.get_node(2, 0).name = 'pole_velocity_node'\n",
    "cartpole_hierarchy.get_node(3, 0).name = 'pole_angle_node'\n",
    "cartpole_hierarchy.get_node(4, 0).name = 'pole_position_node'\n",
    "\n",
    "cartpole = OpenAIGym(\"CartPole-v1\", name=\"CartPole-v1\", render=True)\n",
    "#cartpole = Constant([0.2,0.2,0.2,0.2,0.2+math.sin(0.2)], name=\"CartPole-v1\")\n",
    "cartpole_hierarchy.set_order(\"Down\")\n"
   ]
  },
  {
   "cell_type": "code",
   "execution_count": null,
   "metadata": {},
   "outputs": [],
   "source": [
    "# pole_position\n",
    "cartpole_hierarchy.replace_function(level=4, col=0, collection=\"reference\", function=Step(name=\"pole_position_reference\", upper=2, lower=-2, delay=100), position=0)\n",
    "cartpole_hierarchy.insert_function(level=4, col=0, collection=\"perception\", function=IndexedParameter(index=4, name=\"pole_position\", links=[cartpole]))\n",
    "cartpole_hierarchy.insert_function(level=4, col=0, collection=\"output\", function=Sigmoid(range=0.45, scale=2, name=\"pole_position_output\"))\n",
    "cartpole_hierarchy.set_links( 'subtract4', 'pole_position_reference',  'pole_position')\n",
    "\n",
    "# pole_angle\n",
    "cartpole_hierarchy.replace_function(level=3, col=0, collection=\"reference\", function=PassOn(name=\"pole_angle_reference\", links=['pole_position_output']), position=0)\n",
    "cartpole_hierarchy.insert_function(level=3, col=0, collection=\"perception\", function=IndexedParameter(index=2, name=\"pole_angle\", links=[cartpole]))\n",
    "FunctionsList.getInstance().get_function(\"proportional3\").set_name(\"pole_angle_output\")\n",
    "FunctionsList.getInstance().get_function(\"pole_angle_output\").set_property('gain', 2.5)\n",
    "\n",
    "# pole_velocity\n",
    "cartpole_hierarchy.insert_function(level=2, col=0, collection=\"reference\", function=PassOn(name=\"pole_velocity_reference\", links=['pole_angle_output']))\n",
    "cartpole_hierarchy.insert_function(level=2, col=0, collection=\"perception\", function=IndexedParameter(index=3, name=\"pole_velocity\", links=[cartpole]))\n",
    "cartpole_hierarchy.replace_function(level=2, col=0, collection=\"output\", function=PassOn(name=\"pole_velocity_output\"), position=0)\n",
    "\n",
    "# cart_position\n",
    "cartpole_hierarchy.replace_function(level=1, col=0, collection=\"reference\", function=IntegrationDual(name=\"cart_position_reference\", gain=80, slow=100, links=['pole_velocity_output']), position=0)\n",
    "cartpole_hierarchy.insert_function(level=1, col=0, collection=\"perception\", function=IndexedParameter(index=0, name=\"cart_position\", links=[cartpole]))\n",
    "FunctionsList.getInstance().get_function(\"proportional1\").set_name(\"cart_position_output\")\n",
    "FunctionsList.getInstance().get_function(\"cart_position_output\").set_property('gain', 1.5)\n",
    "\n",
    "# cart_velocity\n",
    "cartpole_hierarchy.insert_function(level=0, col=0, collection=\"reference\", function=PassOn(name=\"cart_velocity_reference\", links=['cart_position_output']))\n",
    "cartpole_hierarchy.insert_function(level=0, col=0, collection=\"perception\", function=IndexedParameter(index=1, name=\"cart_velocity\", links=[cartpole]))\n",
    "cartpole_hierarchy.insert_function(level=0, col=0, collection=\"output\", function=Integration(gain=-0.1, slow=4, name=\"force\"))\n"
   ]
  },
  {
   "cell_type": "code",
   "execution_count": null,
   "metadata": {},
   "outputs": [],
   "source": [
    "greaterthan = GreaterThan(threshold=0, upper=1, lower=0, links='force')\n",
    "cartpole_hierarchy.add_postprocessor(greaterthan)\n",
    "cartpole_hierarchy.add_preprocessor(cartpole)\n",
    "cartpole.add_link(greaterthan)\n",
    "\n",
    "cartpole_hierarchy.build_links()\n",
    "cartpole_hierarchy.add_links( 'cart_position_reference',  'cart_position')\n",
    "#cartpole_hierarchy.summary(build=False)\n",
    "#FunctionsList.getInstance().report()\n"
   ]
  },
  {
   "cell_type": "code",
   "execution_count": null,
   "metadata": {},
   "outputs": [],
   "source": [
    "cartpole_hierarchy.draw(font_size=10, figsize=(8,12), move={'CartPole-v1': [-0.075, 0] , 'pole_velocity': [-0.02, 0], 'pole_angle': [-0.025, 0]}, node_size=1000)\n"
   ]
  },
  {
   "cell_type": "code",
   "execution_count": null,
   "metadata": {},
   "outputs": [],
   "source": [
    "cartpole_hierarchy.save(\"cartpole5-full.json\")"
   ]
  },
  {
   "cell_type": "code",
   "execution_count": null,
   "metadata": {},
   "outputs": [],
   "source": [
    "#cartpole_hierarchy.run(10, verbose=True)\n",
    "cartpole_hierarchy.run(100)\n",
    "FunctionsList.getInstance().get_function(\"pole_position_reference\").set_value(2)\n",
    "cartpole_hierarchy.run(400)\n"
   ]
  },
  {
   "cell_type": "code",
   "execution_count": null,
   "metadata": {},
   "outputs": [],
   "source": [
    "cartpole.close()"
   ]
  },
  {
   "cell_type": "code",
   "execution_count": null,
   "metadata": {},
   "outputs": [],
   "source": []
  }
 ],
 "metadata": {
  "kernelspec": {
   "display_name": "Python 3",
   "language": "python",
   "name": "python3"
  }
 },
 "nbformat": 4,
 "nbformat_minor": 4
}
